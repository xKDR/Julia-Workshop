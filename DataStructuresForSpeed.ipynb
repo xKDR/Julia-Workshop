{
  "nbformat": 4,
  "nbformat_minor": 0,
  "metadata": {
    "colab": {
      "provenance": [],
      "include_colab_link": true
    },
    "kernelspec": {
      "display_name": "Julia",
      "language": "julia",
      "name": "julia"
    },
    "language_info": {
      "file_extension": ".jl",
      "mimetype": "application/julia",
      "name": "julia"
    },
    "gpuClass": "standard"
  },
  "cells": [
    {
      "cell_type": "markdown",
      "metadata": {
        "id": "view-in-github",
        "colab_type": "text"
      },
      "source": [
        "<a href=\"https://colab.research.google.com/github/xKDR/Julia-Workshop/blob/main/DataStructuresForSpeed.ipynb\" target=\"_parent\"><img src=\"https://colab.research.google.com/assets/colab-badge.svg\" alt=\"Open In Colab\"/></a>"
      ]
    },
    {
      "cell_type": "markdown",
      "metadata": {
        "id": "tQ1r1bbb0yBv"
      },
      "source": [
        "# <img src=\"https://github.com/JuliaLang/julia-logo-graphics/raw/master/images/julia-logo-color.png\" height=\"100\" /> _Colab Notebook Template_\n",
        "\n",
        "## Instructions\n",
        "1. Work on a copy of this notebook: _File_ > _Save a copy in Drive_ (you will need a Google account). Alternatively, you can download the notebook using _File_ > _Download .ipynb_, then upload it to [Colab](https://colab.research.google.com/).\n",
        "2. If you need a GPU: _Runtime_ > _Change runtime type_ > _Harware accelerator_ = _GPU_.\n",
        "3. Execute the following cell (click on it and press Ctrl+Enter) to install Julia, IJulia and other packages (if needed, update `JULIA_VERSION` and the other parameters). This takes a couple of minutes.\n",
        "4. Reload this page (press Ctrl+R, or ⌘+R, or the F5 key) and continue to the next section.\n",
        "\n",
        "_Notes_:\n",
        "* If your Colab Runtime gets reset (e.g., due to inactivity), repeat steps 2, 3 and 4.\n",
        "* After installation, if you want to change the Julia version or activate/deactivate the GPU, you will need to reset the Runtime: _Runtime_ > _Factory reset runtime_ and repeat steps 3 and 4."
      ]
    },
    {
      "cell_type": "code",
      "metadata": {
        "id": "GIeFXS0F0zww",
        "colab": {
          "base_uri": "https://localhost:8080/"
        },
        "outputId": "ada4f2aa-2969-49d5-805e-71aa430fc27b"
      },
      "source": [
        "%%shell\n",
        "set -e\n",
        "\n",
        "#---------------------------------------------------#\n",
        "JULIA_VERSION=\"1.10.4\" # any version ≥ 0.7.0\n",
        "JULIA_PACKAGES=\"IJulia BenchmarkTools\"\n",
        "JULIA_PACKAGES_IF_GPU=\"CUDA\" # or CuArrays for older Julia versions\n",
        "JULIA_NUM_THREADS=2\n",
        "#---------------------------------------------------#\n",
        "\n",
        "if [ -z `which julia` ]; then\n",
        "  # Install Julia\n",
        "  JULIA_VER=`cut -d '.' -f -2 <<< \"$JULIA_VERSION\"`\n",
        "  echo \"Installing Julia $JULIA_VERSION on the current Colab Runtime...\"\n",
        "  BASE_URL=\"https://julialang-s3.julialang.org/bin/linux/x64\"\n",
        "  URL=\"$BASE_URL/$JULIA_VER/julia-$JULIA_VERSION-linux-x86_64.tar.gz\"\n",
        "  wget -nv $URL -O /tmp/julia.tar.gz # -nv means \"not verbose\"\n",
        "  tar -x -f /tmp/julia.tar.gz -C /usr/local --strip-components 1\n",
        "  rm /tmp/julia.tar.gz\n",
        "\n",
        "  # Install Packages\n",
        "  nvidia-smi -L &> /dev/null && export GPU=1 || export GPU=0\n",
        "  if [ $GPU -eq 1 ]; then\n",
        "    JULIA_PACKAGES=\"$JULIA_PACKAGES $JULIA_PACKAGES_IF_GPU\"\n",
        "  fi\n",
        "  for PKG in `echo $JULIA_PACKAGES`; do\n",
        "    echo \"Installing Julia package $PKG...\"\n",
        "    julia -e 'using Pkg; pkg\"add '$PKG'; precompile;\"' &> /dev/null\n",
        "  done\n",
        "\n",
        "  # Install kernel and rename it to \"julia\"\n",
        "  echo \"Installing IJulia kernel...\"\n",
        "  julia -e 'using IJulia; IJulia.installkernel(\"julia\", env=Dict(\n",
        "      \"JULIA_NUM_THREADS\"=>\"'\"$JULIA_NUM_THREADS\"'\"))'\n",
        "  KERNEL_DIR=`julia -e \"using IJulia; print(IJulia.kerneldir())\"`\n",
        "  KERNEL_NAME=`ls -d \"$KERNEL_DIR\"/julia*`\n",
        "  mv -f $KERNEL_NAME \"$KERNEL_DIR\"/julia\n",
        "\n",
        "  echo ''\n",
        "  echo \"Successfully installed `julia -v`!\"\n",
        "  echo \"Please reload this page (press Ctrl+R, ⌘+R, or the F5 key) then\"\n",
        "  echo \"jump to the 'Checking the Installation' section.\"\n",
        "fi"
      ],
      "execution_count": null,
      "outputs": [
        {
          "output_type": "stream",
          "name": "stdout",
          "text": [
            "Installing Julia 1.10.4 on the current Colab Runtime...\n",
            "2024-10-23 05:56:43 URL:https://julialang-s3.julialang.org/bin/linux/x64/1.10/julia-1.10.4-linux-x86_64.tar.gz [173704015/173704015] -> \"/tmp/julia.tar.gz\" [1]\n",
            "Installing Julia package IJulia...\n",
            "Installing Julia package BenchmarkTools...\n"
          ]
        }
      ]
    },
    {
      "cell_type": "code",
      "metadata": {
        "id": "EEzvvzCl1i0F",
        "outputId": "c14c5fba-a994-41fe-9946-ef642bdab366",
        "colab": {
          "base_uri": "https://localhost:8080/"
        }
      },
      "source": [
        "versioninfo()"
      ],
      "execution_count": null,
      "outputs": [
        {
          "output_type": "stream",
          "name": "stdout",
          "text": [
            "Julia Version 1.10.4\n",
            "Commit 48d4fd48430 (2024-06-04 10:41 UTC)\n",
            "Build Info:\n",
            "  Official https://julialang.org/ release\n",
            "Platform Info:\n",
            "  OS: Linux (x86_64-linux-gnu)\n",
            "  CPU: 2 × Intel(R) Xeon(R) CPU @ 2.20GHz\n",
            "  WORD_SIZE: 64\n",
            "  LIBM: libopenlibm\n",
            "  LLVM: libLLVM-15.0.7 (ORCJIT, broadwell)\n",
            "Threads: 2 default, 0 interactive, 1 GC (on 2 virtual cores)\n",
            "Environment:\n",
            "  LD_LIBRARY_PATH = /usr/local/nvidia/lib:/usr/local/nvidia/lib64\n",
            "  JULIA_NUM_THREADS = 2\n"
          ]
        }
      ]
    },
    {
      "cell_type": "code",
      "source": [
        "using BenchmarkTools\n",
        "\n",
        "M = rand(2^11, 2^11)\n",
        "\n",
        "@btime $M * $M;"
      ],
      "metadata": {
        "id": "YjM_qq54lCcs",
        "outputId": "59461170-854b-4c60-d4e0-ac99ba566a9e",
        "colab": {
          "base_uri": "https://localhost:8080/"
        }
      },
      "execution_count": null,
      "outputs": [
        {
          "output_type": "stream",
          "name": "stdout",
          "text": [
            "  555.310 ms (2 allocations: 32.00 MiB)\n"
          ]
        }
      ]
    },
    {
      "cell_type": "code",
      "metadata": {
        "id": "XciCcMAJOT3_"
      },
      "source": [
        "try\n",
        "    using CUDA\n",
        "catch\n",
        "    println(\"No GPU found.\")\n",
        "else\n",
        "    run(`nvidia-smi`)\n",
        "    # Create a new random matrix directly on the GPU:\n",
        "    M_on_gpu = CUDA.CURAND.rand(2^11, 2^11)\n",
        "    @btime $M_on_gpu * $M_on_gpu; nothing\n",
        "end"
      ],
      "execution_count": null,
      "outputs": []
    },
    {
      "cell_type": "markdown",
      "source": [
        "# Data structures for speed"
      ],
      "metadata": {
        "id": "9eXKPq7AFLxF"
      }
    },
    {
      "cell_type": "markdown",
      "source": [
        "Julia is clearly the winner when it comes to speed of execution for\n",
        "tabular data structure manipulation. In this session we will cover the\n",
        "basics of the manipulatin tabular data structures with DataFrames.jl\n",
        "and timeseries data using TSFrames.jl."
      ],
      "metadata": {
        "id": "BIEIoTydFHX0"
      }
    },
    {
      "cell_type": "code",
      "source": [
        "using Pkg\n",
        "Pkg.add(\"DataFrames\")\n",
        "Pkg.add(\"TSFrames\")\n",
        "Pkg.add(\"RDatasets\")\n",
        "Pkg.add(\"CSV\")\n",
        "Pkg.add(\"MarketData\")\n",
        "Pkg.add(\"Impute\")"
      ],
      "metadata": {
        "colab": {
          "base_uri": "https://localhost:8080/"
        },
        "id": "xZtqMcccEyX6",
        "outputId": "57f89cea-a77b-429b-a25f-e01923a3070d"
      },
      "execution_count": 7,
      "outputs": [
        {
          "output_type": "stream",
          "name": "stderr",
          "text": [
            "\u001b[32m\u001b[1m   Resolving\u001b[22m\u001b[39m package versions...\n",
            "\u001b[32m\u001b[1m  No Changes\u001b[22m\u001b[39m to `~/.julia/environments/v1.10/Project.toml`\n",
            "\u001b[32m\u001b[1m  No Changes\u001b[22m\u001b[39m to `~/.julia/environments/v1.10/Manifest.toml`\n",
            "\u001b[32m\u001b[1m   Resolving\u001b[22m\u001b[39m package versions...\n",
            "\u001b[32m\u001b[1m  No Changes\u001b[22m\u001b[39m to `~/.julia/environments/v1.10/Project.toml`\n",
            "\u001b[32m\u001b[1m  No Changes\u001b[22m\u001b[39m to `~/.julia/environments/v1.10/Manifest.toml`\n",
            "\u001b[32m\u001b[1m   Resolving\u001b[22m\u001b[39m package versions...\n",
            "\u001b[32m\u001b[1m  No Changes\u001b[22m\u001b[39m to `~/.julia/environments/v1.10/Project.toml`\n",
            "\u001b[32m\u001b[1m  No Changes\u001b[22m\u001b[39m to `~/.julia/environments/v1.10/Manifest.toml`\n",
            "\u001b[32m\u001b[1m   Resolving\u001b[22m\u001b[39m package versions...\n",
            "\u001b[32m\u001b[1m  No Changes\u001b[22m\u001b[39m to `~/.julia/environments/v1.10/Project.toml`\n",
            "\u001b[32m\u001b[1m  No Changes\u001b[22m\u001b[39m to `~/.julia/environments/v1.10/Manifest.toml`\n",
            "\u001b[32m\u001b[1m   Resolving\u001b[22m\u001b[39m package versions...\n",
            "\u001b[32m\u001b[1m  No Changes\u001b[22m\u001b[39m to `~/.julia/environments/v1.10/Project.toml`\n",
            "\u001b[32m\u001b[1m  No Changes\u001b[22m\u001b[39m to `~/.julia/environments/v1.10/Manifest.toml`\n",
            "\u001b[32m\u001b[1m   Resolving\u001b[22m\u001b[39m package versions...\n",
            "\u001b[32m\u001b[1m   Installed\u001b[22m\u001b[39m StaticArraysCore ─ v1.4.3\n",
            "\u001b[32m\u001b[1m   Installed\u001b[22m\u001b[39m BSON ───────────── v0.3.9\n",
            "\u001b[32m\u001b[1m   Installed\u001b[22m\u001b[39m NearestNeighbors ─ v0.4.21\n",
            "\u001b[32m\u001b[1m   Installed\u001b[22m\u001b[39m TableOperations ── v1.2.0\n",
            "\u001b[32m\u001b[1m   Installed\u001b[22m\u001b[39m Impute ─────────── v0.6.12\n",
            "\u001b[32m\u001b[1m   Installed\u001b[22m\u001b[39m IterTools ──────── v1.10.0\n",
            "\u001b[32m\u001b[1m   Installed\u001b[22m\u001b[39m DataDeps ───────── v0.7.13\n",
            "\u001b[32m\u001b[1m   Installed\u001b[22m\u001b[39m StaticArrays ───── v1.9.8\n",
            "\u001b[32m\u001b[1m   Installed\u001b[22m\u001b[39m Distances ──────── v0.10.12\n",
            "\u001b[32m\u001b[1m   Installed\u001b[22m\u001b[39m NamedDims ──────── v1.2.2\n",
            "\u001b[32m\u001b[1m    Updating\u001b[22m\u001b[39m `~/.julia/environments/v1.10/Project.toml`\n",
            "  \u001b[90m[f7bf1975] \u001b[39m\u001b[92m+ Impute v0.6.12\u001b[39m\n",
            "\u001b[32m\u001b[1m    Updating\u001b[22m\u001b[39m `~/.julia/environments/v1.10/Manifest.toml`\n",
            "  \u001b[90m[fbb218c0] \u001b[39m\u001b[92m+ BSON v0.3.9\u001b[39m\n",
            "  \u001b[90m[124859b0] \u001b[39m\u001b[92m+ DataDeps v0.7.13\u001b[39m\n",
            "  \u001b[90m[b4f34e82] \u001b[39m\u001b[92m+ Distances v0.10.12\u001b[39m\n",
            "  \u001b[90m[f7bf1975] \u001b[39m\u001b[92m+ Impute v0.6.12\u001b[39m\n",
            "  \u001b[90m[c8e1da08] \u001b[39m\u001b[92m+ IterTools v1.10.0\u001b[39m\n",
            "  \u001b[90m[356022a1] \u001b[39m\u001b[92m+ NamedDims v1.2.2\u001b[39m\n",
            "  \u001b[90m[b8a86587] \u001b[39m\u001b[92m+ NearestNeighbors v0.4.21\u001b[39m\n",
            "  \u001b[90m[90137ffa] \u001b[39m\u001b[92m+ StaticArrays v1.9.8\u001b[39m\n",
            "  \u001b[90m[1e83bf80] \u001b[39m\u001b[92m+ StaticArraysCore v1.4.3\u001b[39m\n",
            "  \u001b[90m[ab02a1b2] \u001b[39m\u001b[92m+ TableOperations v1.2.0\u001b[39m\n",
            "\u001b[32m\u001b[1mPrecompiling\u001b[22m\u001b[39m project...\n",
            "\u001b[32m  ✓ \u001b[39m\u001b[90mStaticArraysCore\u001b[39m\n",
            "\u001b[32m  ✓ \u001b[39m\u001b[90mIterTools\u001b[39m\n",
            "\u001b[32m  ✓ \u001b[39m\u001b[90mBSON\u001b[39m\n",
            "\u001b[32m  ✓ \u001b[39m\u001b[90mTableOperations\u001b[39m\n",
            "\u001b[32m  ✓ \u001b[39m\u001b[90mDistances\u001b[39m\n",
            "\u001b[32m  ✓ \u001b[39m\u001b[90mNamedDims\u001b[39m\n",
            "\u001b[32m  ✓ \u001b[39m\u001b[90mDistances → DistancesSparseArraysExt\u001b[39m\n",
            "\u001b[32m  ✓ \u001b[39m\u001b[90mDataDeps\u001b[39m\n",
            "\u001b[32m  ✓ \u001b[39m\u001b[90mStaticArrays\u001b[39m\n",
            "\u001b[32m  ✓ \u001b[39m\u001b[90mAdapt → AdaptStaticArraysExt\u001b[39m\n",
            "\u001b[32m  ✓ \u001b[39m\u001b[90mStaticArrays → StaticArraysStatisticsExt\u001b[39m\n",
            "\u001b[32m  ✓ \u001b[39m\u001b[90mArrayInterface → ArrayInterfaceStaticArraysCoreExt\u001b[39m\n",
            "\u001b[32m  ✓ \u001b[39m\u001b[90mStaticArrayInterface → StaticArrayInterfaceStaticArraysExt\u001b[39m\n",
            "\u001b[32m  ✓ \u001b[39m\u001b[90mNearestNeighbors\u001b[39m\n",
            "\u001b[32m  ✓ \u001b[39mImpute\n",
            "  15 dependencies successfully precompiled in 30 seconds. 116 already precompiled.\n"
          ]
        }
      ]
    },
    {
      "cell_type": "code",
      "source": [
        "using DataFrames"
      ],
      "metadata": {
        "id": "Oss9g4nZE-AN"
      },
      "execution_count": 8,
      "outputs": []
    },
    {
      "cell_type": "code",
      "source": [
        "df = DataFrame([])\n",
        "df = DataFrame(a=[1,2], b=[2,3])"
      ],
      "metadata": {
        "colab": {
          "base_uri": "https://localhost:8080/",
          "height": 126
        },
        "id": "RdRiDjwfFCQp",
        "outputId": "af5097b3-44ec-471d-a7d9-b476fc9a2871"
      },
      "execution_count": 9,
      "outputs": [
        {
          "output_type": "execute_result",
          "data": {
            "text/plain": [
              "\u001b[1m2×2 DataFrame\u001b[0m\n",
              "\u001b[1m Row \u001b[0m│\u001b[1m a     \u001b[0m\u001b[1m b     \u001b[0m\n",
              "     │\u001b[90m Int64 \u001b[0m\u001b[90m Int64 \u001b[0m\n",
              "─────┼──────────────\n",
              "   1 │     1      2\n",
              "   2 │     2      3"
            ],
            "text/html": [
              "<div><div style = \"float: left;\"><span>2×2 DataFrame</span></div><div style = \"clear: both;\"></div></div><div class = \"data-frame\" style = \"overflow-x: scroll;\"><table class = \"data-frame\" style = \"margin-bottom: 6px;\"><thead><tr class = \"header\"><th class = \"rowNumber\" style = \"font-weight: bold; text-align: right;\">Row</th><th style = \"text-align: left;\">a</th><th style = \"text-align: left;\">b</th></tr><tr class = \"subheader headerLastRow\"><th class = \"rowNumber\" style = \"font-weight: bold; text-align: right;\"></th><th title = \"Int64\" style = \"text-align: left;\">Int64</th><th title = \"Int64\" style = \"text-align: left;\">Int64</th></tr></thead><tbody><tr><td class = \"rowNumber\" style = \"font-weight: bold; text-align: right;\">1</td><td style = \"text-align: right;\">1</td><td style = \"text-align: right;\">2</td></tr><tr><td class = \"rowNumber\" style = \"font-weight: bold; text-align: right;\">2</td><td style = \"text-align: right;\">2</td><td style = \"text-align: right;\">3</td></tr></tbody></table></div>"
            ],
            "text/latex": "\\begin{tabular}{r|cc}\n\t& a & b\\\\\n\t\\hline\n\t& Int64 & Int64\\\\\n\t\\hline\n\t1 & 1 & 2 \\\\\n\t2 & 2 & 3 \\\\\n\\end{tabular}\n"
          },
          "metadata": {},
          "execution_count": 9
        }
      ]
    },
    {
      "cell_type": "code",
      "source": [
        "using CSV\n",
        "aapl_df = CSV.read(\"aapl.csv\", DataFrame)"
      ],
      "metadata": {
        "colab": {
          "base_uri": "https://localhost:8080/",
          "height": 630
        },
        "id": "owLmAZPYFdmY",
        "outputId": "44233347-37e3-42c9-dc68-c05415d84217"
      },
      "execution_count": 11,
      "outputs": [
        {
          "output_type": "execute_result",
          "data": {
            "text/plain": [
              "\u001b[1m11088×7 DataFrame\u001b[0m\n",
              "\u001b[1m   Row \u001b[0m│\u001b[1m timestamp  \u001b[0m\u001b[1m Open       \u001b[0m\u001b[1m High       \u001b[0m\u001b[1m Low        \u001b[0m\u001b[1m Close      \u001b[0m\u001b[1m AdjClose    \u001b[0m\u001b[1m Volume    \u001b[0m\n",
              "       │\u001b[90m Date       \u001b[0m\u001b[90m Float64    \u001b[0m\u001b[90m Float64    \u001b[0m\u001b[90m Float64    \u001b[0m\u001b[90m Float64    \u001b[0m\u001b[90m Float64     \u001b[0m\u001b[90m Float64   \u001b[0m\n",
              "───────┼────────────────────────────────────────────────────────────────────────────────────\n",
              "     1 │ 1980-12-12    0.128348    0.128906    0.128348    0.128348    0.0988345  4.69034e8\n",
              "     2 │ 1980-12-15    0.12221     0.12221     0.121652    0.121652    0.0936782  1.75885e8\n",
              "     3 │ 1980-12-16    0.113281    0.113281    0.112723    0.112723    0.0868024  1.05728e8\n",
              "     4 │ 1980-12-17    0.115513    0.116071    0.115513    0.115513    0.0889509  8.64416e7\n",
              "     5 │ 1980-12-18    0.118862    0.11942     0.118862    0.118862    0.0915298  7.34496e7\n",
              "     6 │ 1980-12-19    0.126116    0.126674    0.126116    0.126116    0.0971157  4.86304e7\n",
              "     7 │ 1980-12-22    0.132254    0.132813    0.132254    0.132254    0.101842   3.73632e7\n",
              "     8 │ 1980-12-23    0.137835    0.138393    0.137835    0.137835    0.10614    4.69504e7\n",
              "     9 │ 1980-12-24    0.145089    0.145647    0.145089    0.145089    0.111726   4.80032e7\n",
              "    10 │ 1980-12-26    0.158482    0.15904     0.158482    0.158482    0.122039   5.55744e7\n",
              "    11 │ 1980-12-29    0.160714    0.161272    0.160714    0.160714    0.123758   9.31616e7\n",
              "   ⋮   │     ⋮           ⋮           ⋮           ⋮           ⋮            ⋮           ⋮\n",
              " 11079 │ 2024-11-21  228.88      230.16      225.71      228.52      228.52       4.21083e7\n",
              " 11080 │ 2024-11-22  228.06      230.72      228.06      229.87      229.87       3.81683e7\n",
              " 11081 │ 2024-11-25  231.46      233.25      229.74      232.87      232.87       9.01528e7\n",
              " 11082 │ 2024-11-26  233.33      235.57      233.33      235.06      235.06       4.59862e7\n",
              " 11083 │ 2024-11-27  234.47      235.69      233.81      234.93      234.93       3.34984e7\n",
              " 11084 │ 2024-11-29  234.81      237.81      233.97      237.33      237.33       2.84814e7\n",
              " 11085 │ 2024-12-02  237.27      240.79      237.16      239.59      239.59       4.81371e7\n",
              " 11086 │ 2024-12-03  239.81      242.76      238.9       242.65      242.65       3.8861e7\n",
              " 11087 │ 2024-12-04  242.87      244.11      241.25      243.01      243.01       4.4353e7\n",
              " 11088 │ 2024-12-05  244.05      244.54      242.23      242.59      242.59       1.09565e7\n",
              "\u001b[36m                                                                          11067 rows omitted\u001b[0m"
            ],
            "text/html": [
              "<div><div style = \"float: left;\"><span>11088×7 DataFrame</span></div><div style = \"float: right;\"><span style = \"font-style: italic;\">11063 rows omitted</span></div><div style = \"clear: both;\"></div></div><div class = \"data-frame\" style = \"overflow-x: scroll;\"><table class = \"data-frame\" style = \"margin-bottom: 6px;\"><thead><tr class = \"header\"><th class = \"rowNumber\" style = \"font-weight: bold; text-align: right;\">Row</th><th style = \"text-align: left;\">timestamp</th><th style = \"text-align: left;\">Open</th><th style = \"text-align: left;\">High</th><th style = \"text-align: left;\">Low</th><th style = \"text-align: left;\">Close</th><th style = \"text-align: left;\">AdjClose</th><th style = \"text-align: left;\">Volume</th></tr><tr class = \"subheader headerLastRow\"><th class = \"rowNumber\" style = \"font-weight: bold; text-align: right;\"></th><th title = \"Dates.Date\" style = \"text-align: left;\">Date</th><th title = \"Float64\" style = \"text-align: left;\">Float64</th><th title = \"Float64\" style = \"text-align: left;\">Float64</th><th title = \"Float64\" style = \"text-align: left;\">Float64</th><th title = \"Float64\" style = \"text-align: left;\">Float64</th><th title = \"Float64\" style = \"text-align: left;\">Float64</th><th title = \"Float64\" style = \"text-align: left;\">Float64</th></tr></thead><tbody><tr><td class = \"rowNumber\" style = \"font-weight: bold; text-align: right;\">1</td><td style = \"text-align: left;\">1980-12-12</td><td style = \"text-align: right;\">0.128348</td><td style = \"text-align: right;\">0.128906</td><td style = \"text-align: right;\">0.128348</td><td style = \"text-align: right;\">0.128348</td><td style = \"text-align: right;\">0.0988345</td><td style = \"text-align: right;\">4.69034e8</td></tr><tr><td class = \"rowNumber\" style = \"font-weight: bold; text-align: right;\">2</td><td style = \"text-align: left;\">1980-12-15</td><td style = \"text-align: right;\">0.12221</td><td style = \"text-align: right;\">0.12221</td><td style = \"text-align: right;\">0.121652</td><td style = \"text-align: right;\">0.121652</td><td style = \"text-align: right;\">0.0936782</td><td style = \"text-align: right;\">1.75885e8</td></tr><tr><td class = \"rowNumber\" style = \"font-weight: bold; text-align: right;\">3</td><td style = \"text-align: left;\">1980-12-16</td><td style = \"text-align: right;\">0.113281</td><td style = \"text-align: right;\">0.113281</td><td style = \"text-align: right;\">0.112723</td><td style = \"text-align: right;\">0.112723</td><td style = \"text-align: right;\">0.0868024</td><td style = \"text-align: right;\">1.05728e8</td></tr><tr><td class = \"rowNumber\" style = \"font-weight: bold; text-align: right;\">4</td><td style = \"text-align: left;\">1980-12-17</td><td style = \"text-align: right;\">0.115513</td><td style = \"text-align: right;\">0.116071</td><td style = \"text-align: right;\">0.115513</td><td style = \"text-align: right;\">0.115513</td><td style = \"text-align: right;\">0.0889509</td><td style = \"text-align: right;\">8.64416e7</td></tr><tr><td class = \"rowNumber\" style = \"font-weight: bold; text-align: right;\">5</td><td style = \"text-align: left;\">1980-12-18</td><td style = \"text-align: right;\">0.118862</td><td style = \"text-align: right;\">0.11942</td><td style = \"text-align: right;\">0.118862</td><td style = \"text-align: right;\">0.118862</td><td style = \"text-align: right;\">0.0915298</td><td style = \"text-align: right;\">7.34496e7</td></tr><tr><td class = \"rowNumber\" style = \"font-weight: bold; text-align: right;\">6</td><td style = \"text-align: left;\">1980-12-19</td><td style = \"text-align: right;\">0.126116</td><td style = \"text-align: right;\">0.126674</td><td style = \"text-align: right;\">0.126116</td><td style = \"text-align: right;\">0.126116</td><td style = \"text-align: right;\">0.0971157</td><td style = \"text-align: right;\">4.86304e7</td></tr><tr><td class = \"rowNumber\" style = \"font-weight: bold; text-align: right;\">7</td><td style = \"text-align: left;\">1980-12-22</td><td style = \"text-align: right;\">0.132254</td><td style = \"text-align: right;\">0.132813</td><td style = \"text-align: right;\">0.132254</td><td style = \"text-align: right;\">0.132254</td><td style = \"text-align: right;\">0.101842</td><td style = \"text-align: right;\">3.73632e7</td></tr><tr><td class = \"rowNumber\" style = \"font-weight: bold; text-align: right;\">8</td><td style = \"text-align: left;\">1980-12-23</td><td style = \"text-align: right;\">0.137835</td><td style = \"text-align: right;\">0.138393</td><td style = \"text-align: right;\">0.137835</td><td style = \"text-align: right;\">0.137835</td><td style = \"text-align: right;\">0.10614</td><td style = \"text-align: right;\">4.69504e7</td></tr><tr><td class = \"rowNumber\" style = \"font-weight: bold; text-align: right;\">9</td><td style = \"text-align: left;\">1980-12-24</td><td style = \"text-align: right;\">0.145089</td><td style = \"text-align: right;\">0.145647</td><td style = \"text-align: right;\">0.145089</td><td style = \"text-align: right;\">0.145089</td><td style = \"text-align: right;\">0.111726</td><td style = \"text-align: right;\">4.80032e7</td></tr><tr><td class = \"rowNumber\" style = \"font-weight: bold; text-align: right;\">10</td><td style = \"text-align: left;\">1980-12-26</td><td style = \"text-align: right;\">0.158482</td><td style = \"text-align: right;\">0.15904</td><td style = \"text-align: right;\">0.158482</td><td style = \"text-align: right;\">0.158482</td><td style = \"text-align: right;\">0.122039</td><td style = \"text-align: right;\">5.55744e7</td></tr><tr><td class = \"rowNumber\" style = \"font-weight: bold; text-align: right;\">11</td><td style = \"text-align: left;\">1980-12-29</td><td style = \"text-align: right;\">0.160714</td><td style = \"text-align: right;\">0.161272</td><td style = \"text-align: right;\">0.160714</td><td style = \"text-align: right;\">0.160714</td><td style = \"text-align: right;\">0.123758</td><td style = \"text-align: right;\">9.31616e7</td></tr><tr><td class = \"rowNumber\" style = \"font-weight: bold; text-align: right;\">12</td><td style = \"text-align: left;\">1980-12-30</td><td style = \"text-align: right;\">0.157366</td><td style = \"text-align: right;\">0.157366</td><td style = \"text-align: right;\">0.156808</td><td style = \"text-align: right;\">0.156808</td><td style = \"text-align: right;\">0.12075</td><td style = \"text-align: right;\">6.888e7</td></tr><tr><td class = \"rowNumber\" style = \"font-weight: bold; text-align: right;\">13</td><td style = \"text-align: left;\">1980-12-31</td><td style = \"text-align: right;\">0.152902</td><td style = \"text-align: right;\">0.152902</td><td style = \"text-align: right;\">0.152344</td><td style = \"text-align: right;\">0.152344</td><td style = \"text-align: right;\">0.117313</td><td style = \"text-align: right;\">3.57504e7</td></tr><tr><td style = \"text-align: right;\">&vellip;</td><td style = \"text-align: right;\">&vellip;</td><td style = \"text-align: right;\">&vellip;</td><td style = \"text-align: right;\">&vellip;</td><td style = \"text-align: right;\">&vellip;</td><td style = \"text-align: right;\">&vellip;</td><td style = \"text-align: right;\">&vellip;</td><td style = \"text-align: right;\">&vellip;</td></tr><tr><td class = \"rowNumber\" style = \"font-weight: bold; text-align: right;\">11077</td><td style = \"text-align: left;\">2024-11-19</td><td style = \"text-align: right;\">226.98</td><td style = \"text-align: right;\">230.16</td><td style = \"text-align: right;\">226.66</td><td style = \"text-align: right;\">228.28</td><td style = \"text-align: right;\">228.28</td><td style = \"text-align: right;\">3.62118e7</td></tr><tr><td class = \"rowNumber\" style = \"font-weight: bold; text-align: right;\">11078</td><td style = \"text-align: left;\">2024-11-20</td><td style = \"text-align: right;\">228.06</td><td style = \"text-align: right;\">229.93</td><td style = \"text-align: right;\">225.89</td><td style = \"text-align: right;\">229.0</td><td style = \"text-align: right;\">229.0</td><td style = \"text-align: right;\">3.51696e7</td></tr><tr><td class = \"rowNumber\" style = \"font-weight: bold; text-align: right;\">11079</td><td style = \"text-align: left;\">2024-11-21</td><td style = \"text-align: right;\">228.88</td><td style = \"text-align: right;\">230.16</td><td style = \"text-align: right;\">225.71</td><td style = \"text-align: right;\">228.52</td><td style = \"text-align: right;\">228.52</td><td style = \"text-align: right;\">4.21083e7</td></tr><tr><td class = \"rowNumber\" style = \"font-weight: bold; text-align: right;\">11080</td><td style = \"text-align: left;\">2024-11-22</td><td style = \"text-align: right;\">228.06</td><td style = \"text-align: right;\">230.72</td><td style = \"text-align: right;\">228.06</td><td style = \"text-align: right;\">229.87</td><td style = \"text-align: right;\">229.87</td><td style = \"text-align: right;\">3.81683e7</td></tr><tr><td class = \"rowNumber\" style = \"font-weight: bold; text-align: right;\">11081</td><td style = \"text-align: left;\">2024-11-25</td><td style = \"text-align: right;\">231.46</td><td style = \"text-align: right;\">233.25</td><td style = \"text-align: right;\">229.74</td><td style = \"text-align: right;\">232.87</td><td style = \"text-align: right;\">232.87</td><td style = \"text-align: right;\">9.01528e7</td></tr><tr><td class = \"rowNumber\" style = \"font-weight: bold; text-align: right;\">11082</td><td style = \"text-align: left;\">2024-11-26</td><td style = \"text-align: right;\">233.33</td><td style = \"text-align: right;\">235.57</td><td style = \"text-align: right;\">233.33</td><td style = \"text-align: right;\">235.06</td><td style = \"text-align: right;\">235.06</td><td style = \"text-align: right;\">4.59862e7</td></tr><tr><td class = \"rowNumber\" style = \"font-weight: bold; text-align: right;\">11083</td><td style = \"text-align: left;\">2024-11-27</td><td style = \"text-align: right;\">234.47</td><td style = \"text-align: right;\">235.69</td><td style = \"text-align: right;\">233.81</td><td style = \"text-align: right;\">234.93</td><td style = \"text-align: right;\">234.93</td><td style = \"text-align: right;\">3.34984e7</td></tr><tr><td class = \"rowNumber\" style = \"font-weight: bold; text-align: right;\">11084</td><td style = \"text-align: left;\">2024-11-29</td><td style = \"text-align: right;\">234.81</td><td style = \"text-align: right;\">237.81</td><td style = \"text-align: right;\">233.97</td><td style = \"text-align: right;\">237.33</td><td style = \"text-align: right;\">237.33</td><td style = \"text-align: right;\">2.84814e7</td></tr><tr><td class = \"rowNumber\" style = \"font-weight: bold; text-align: right;\">11085</td><td style = \"text-align: left;\">2024-12-02</td><td style = \"text-align: right;\">237.27</td><td style = \"text-align: right;\">240.79</td><td style = \"text-align: right;\">237.16</td><td style = \"text-align: right;\">239.59</td><td style = \"text-align: right;\">239.59</td><td style = \"text-align: right;\">4.81371e7</td></tr><tr><td class = \"rowNumber\" style = \"font-weight: bold; text-align: right;\">11086</td><td style = \"text-align: left;\">2024-12-03</td><td style = \"text-align: right;\">239.81</td><td style = \"text-align: right;\">242.76</td><td style = \"text-align: right;\">238.9</td><td style = \"text-align: right;\">242.65</td><td style = \"text-align: right;\">242.65</td><td style = \"text-align: right;\">3.8861e7</td></tr><tr><td class = \"rowNumber\" style = \"font-weight: bold; text-align: right;\">11087</td><td style = \"text-align: left;\">2024-12-04</td><td style = \"text-align: right;\">242.87</td><td style = \"text-align: right;\">244.11</td><td style = \"text-align: right;\">241.25</td><td style = \"text-align: right;\">243.01</td><td style = \"text-align: right;\">243.01</td><td style = \"text-align: right;\">4.4353e7</td></tr><tr><td class = \"rowNumber\" style = \"font-weight: bold; text-align: right;\">11088</td><td style = \"text-align: left;\">2024-12-05</td><td style = \"text-align: right;\">244.05</td><td style = \"text-align: right;\">244.54</td><td style = \"text-align: right;\">242.23</td><td style = \"text-align: right;\">242.59</td><td style = \"text-align: right;\">242.59</td><td style = \"text-align: right;\">1.09565e7</td></tr></tbody></table></div>"
            ],
            "text/latex": "\\begin{tabular}{r|ccccccc}\n\t& timestamp & Open & High & Low & Close & AdjClose & Volume\\\\\n\t\\hline\n\t& Date & Float64 & Float64 & Float64 & Float64 & Float64 & Float64\\\\\n\t\\hline\n\t1 & 1980-12-12 & 0.128348 & 0.128906 & 0.128348 & 0.128348 & 0.0988345 & 4.69034e8 \\\\\n\t2 & 1980-12-15 & 0.12221 & 0.12221 & 0.121652 & 0.121652 & 0.0936782 & 1.75885e8 \\\\\n\t3 & 1980-12-16 & 0.113281 & 0.113281 & 0.112723 & 0.112723 & 0.0868024 & 1.05728e8 \\\\\n\t4 & 1980-12-17 & 0.115513 & 0.116071 & 0.115513 & 0.115513 & 0.0889509 & 8.64416e7 \\\\\n\t5 & 1980-12-18 & 0.118862 & 0.11942 & 0.118862 & 0.118862 & 0.0915298 & 7.34496e7 \\\\\n\t6 & 1980-12-19 & 0.126116 & 0.126674 & 0.126116 & 0.126116 & 0.0971157 & 4.86304e7 \\\\\n\t7 & 1980-12-22 & 0.132254 & 0.132813 & 0.132254 & 0.132254 & 0.101842 & 3.73632e7 \\\\\n\t8 & 1980-12-23 & 0.137835 & 0.138393 & 0.137835 & 0.137835 & 0.10614 & 4.69504e7 \\\\\n\t9 & 1980-12-24 & 0.145089 & 0.145647 & 0.145089 & 0.145089 & 0.111726 & 4.80032e7 \\\\\n\t10 & 1980-12-26 & 0.158482 & 0.15904 & 0.158482 & 0.158482 & 0.122039 & 5.55744e7 \\\\\n\t11 & 1980-12-29 & 0.160714 & 0.161272 & 0.160714 & 0.160714 & 0.123758 & 9.31616e7 \\\\\n\t12 & 1980-12-30 & 0.157366 & 0.157366 & 0.156808 & 0.156808 & 0.12075 & 6.888e7 \\\\\n\t13 & 1980-12-31 & 0.152902 & 0.152902 & 0.152344 & 0.152344 & 0.117313 & 3.57504e7 \\\\\n\t14 & 1981-01-02 & 0.154018 & 0.155134 & 0.154018 & 0.154018 & 0.118602 & 2.16608e7 \\\\\n\t15 & 1981-01-05 & 0.151228 & 0.151228 & 0.15067 & 0.15067 & 0.116024 & 3.5728e7 \\\\\n\t16 & 1981-01-06 & 0.144531 & 0.144531 & 0.143973 & 0.143973 & 0.110867 & 4.51584e7 \\\\\n\t17 & 1981-01-07 & 0.138393 & 0.138393 & 0.137835 & 0.137835 & 0.10614 & 5.56864e7 \\\\\n\t18 & 1981-01-08 & 0.135603 & 0.135603 & 0.135045 & 0.135045 & 0.103992 & 3.98272e7 \\\\\n\t19 & 1981-01-09 & 0.142299 & 0.142857 & 0.142299 & 0.142299 & 0.109577 & 2.1504e7 \\\\\n\t20 & 1981-01-12 & 0.142299 & 0.142299 & 0.141183 & 0.141183 & 0.108718 & 2.36992e7 \\\\\n\t21 & 1981-01-13 & 0.136719 & 0.136719 & 0.136161 & 0.136161 & 0.104851 & 2.30496e7 \\\\\n\t22 & 1981-01-14 & 0.136719 & 0.137277 & 0.136719 & 0.136719 & 0.105281 & 1.42912e7 \\\\\n\t23 & 1981-01-15 & 0.139509 & 0.140625 & 0.139509 & 0.139509 & 0.107429 & 1.40672e7 \\\\\n\t24 & 1981-01-16 & 0.138951 & 0.138951 & 0.138393 & 0.138393 & 0.10657 & 1.33952e7 \\\\\n\t25 & 1981-01-19 & 0.146763 & 0.147321 & 0.146763 & 0.146763 & 0.113015 & 4.15744e7 \\\\\n\t26 & 1981-01-20 & 0.142857 & 0.142857 & 0.142299 & 0.142299 & 0.109577 & 3.00832e7 \\\\\n\t27 & 1981-01-21 & 0.145089 & 0.146205 & 0.145089 & 0.145089 & 0.111726 & 1.5904e7 \\\\\n\t28 & 1981-01-22 & 0.146763 & 0.147879 & 0.146763 & 0.146763 & 0.113015 & 3.55488e7 \\\\\n\t29 & 1981-01-23 & 0.146763 & 0.147321 & 0.146205 & 0.146205 & 0.112585 & 1.12224e7 \\\\\n\t30 & 1981-01-26 & 0.144531 & 0.144531 & 0.143973 & 0.143973 & 0.110867 & 2.464e7 \\\\\n\t$\\dots$ & $\\dots$ & $\\dots$ & $\\dots$ & $\\dots$ & $\\dots$ & $\\dots$ & $\\dots$ \\\\\n\\end{tabular}\n"
          },
          "metadata": {},
          "execution_count": 11
        }
      ]
    },
    {
      "cell_type": "code",
      "source": [
        "## Pkg.add(\"MySQL\")\n",
        "## Pkg.add(\"JSON\")"
      ],
      "metadata": {
        "id": "tppwhMeEFt5k"
      },
      "execution_count": 12,
      "outputs": []
    },
    {
      "cell_type": "code",
      "source": [
        "using RDatasets\n",
        "iris = dataset(\"datasets\", \"iris\")"
      ],
      "metadata": {
        "colab": {
          "base_uri": "https://localhost:8080/",
          "height": 630
        },
        "id": "VAUCQPqOFxKM",
        "outputId": "be2ee715-8bc6-4fa0-fdd8-76d625a82aaa"
      },
      "execution_count": 26,
      "outputs": [
        {
          "output_type": "execute_result",
          "data": {
            "text/plain": [
              "\u001b[1m150×5 DataFrame\u001b[0m\n",
              "\u001b[1m Row \u001b[0m│\u001b[1m SepalLength \u001b[0m\u001b[1m SepalWidth \u001b[0m\u001b[1m PetalLength \u001b[0m\u001b[1m PetalWidth \u001b[0m\u001b[1m Species   \u001b[0m\n",
              "     │\u001b[90m Float64     \u001b[0m\u001b[90m Float64    \u001b[0m\u001b[90m Float64     \u001b[0m\u001b[90m Float64    \u001b[0m\u001b[90m Cat…      \u001b[0m\n",
              "─────┼─────────────────────────────────────────────────────────────\n",
              "   1 │         5.1         3.5          1.4         0.2  setosa\n",
              "   2 │         4.9         3.0          1.4         0.2  setosa\n",
              "   3 │         4.7         3.2          1.3         0.2  setosa\n",
              "   4 │         4.6         3.1          1.5         0.2  setosa\n",
              "   5 │         5.0         3.6          1.4         0.2  setosa\n",
              "   6 │         5.4         3.9          1.7         0.4  setosa\n",
              "   7 │         4.6         3.4          1.4         0.3  setosa\n",
              "   8 │         5.0         3.4          1.5         0.2  setosa\n",
              "   9 │         4.4         2.9          1.4         0.2  setosa\n",
              "  10 │         4.9         3.1          1.5         0.1  setosa\n",
              "  11 │         5.4         3.7          1.5         0.2  setosa\n",
              "  ⋮  │      ⋮           ⋮            ⋮           ⋮           ⋮\n",
              " 141 │         6.7         3.1          5.6         2.4  virginica\n",
              " 142 │         6.9         3.1          5.1         2.3  virginica\n",
              " 143 │         5.8         2.7          5.1         1.9  virginica\n",
              " 144 │         6.8         3.2          5.9         2.3  virginica\n",
              " 145 │         6.7         3.3          5.7         2.5  virginica\n",
              " 146 │         6.7         3.0          5.2         2.3  virginica\n",
              " 147 │         6.3         2.5          5.0         1.9  virginica\n",
              " 148 │         6.5         3.0          5.2         2.0  virginica\n",
              " 149 │         6.2         3.4          5.4         2.3  virginica\n",
              " 150 │         5.9         3.0          5.1         1.8  virginica\n",
              "\u001b[36m                                                   129 rows omitted\u001b[0m"
            ],
            "text/html": [
              "<div><div style = \"float: left;\"><span>150×5 DataFrame</span></div><div style = \"float: right;\"><span style = \"font-style: italic;\">125 rows omitted</span></div><div style = \"clear: both;\"></div></div><div class = \"data-frame\" style = \"overflow-x: scroll;\"><table class = \"data-frame\" style = \"margin-bottom: 6px;\"><thead><tr class = \"header\"><th class = \"rowNumber\" style = \"font-weight: bold; text-align: right;\">Row</th><th style = \"text-align: left;\">SepalLength</th><th style = \"text-align: left;\">SepalWidth</th><th style = \"text-align: left;\">PetalLength</th><th style = \"text-align: left;\">PetalWidth</th><th style = \"text-align: left;\">Species</th></tr><tr class = \"subheader headerLastRow\"><th class = \"rowNumber\" style = \"font-weight: bold; text-align: right;\"></th><th title = \"Float64\" style = \"text-align: left;\">Float64</th><th title = \"Float64\" style = \"text-align: left;\">Float64</th><th title = \"Float64\" style = \"text-align: left;\">Float64</th><th title = \"Float64\" style = \"text-align: left;\">Float64</th><th title = \"CategoricalArrays.CategoricalValue{String, UInt8}\" style = \"text-align: left;\">Cat…</th></tr></thead><tbody><tr><td class = \"rowNumber\" style = \"font-weight: bold; text-align: right;\">1</td><td style = \"text-align: right;\">5.1</td><td style = \"text-align: right;\">3.5</td><td style = \"text-align: right;\">1.4</td><td style = \"text-align: right;\">0.2</td><td style = \"text-align: left;\">setosa</td></tr><tr><td class = \"rowNumber\" style = \"font-weight: bold; text-align: right;\">2</td><td style = \"text-align: right;\">4.9</td><td style = \"text-align: right;\">3.0</td><td style = \"text-align: right;\">1.4</td><td style = \"text-align: right;\">0.2</td><td style = \"text-align: left;\">setosa</td></tr><tr><td class = \"rowNumber\" style = \"font-weight: bold; text-align: right;\">3</td><td style = \"text-align: right;\">4.7</td><td style = \"text-align: right;\">3.2</td><td style = \"text-align: right;\">1.3</td><td style = \"text-align: right;\">0.2</td><td style = \"text-align: left;\">setosa</td></tr><tr><td class = \"rowNumber\" style = \"font-weight: bold; text-align: right;\">4</td><td style = \"text-align: right;\">4.6</td><td style = \"text-align: right;\">3.1</td><td style = \"text-align: right;\">1.5</td><td style = \"text-align: right;\">0.2</td><td style = \"text-align: left;\">setosa</td></tr><tr><td class = \"rowNumber\" style = \"font-weight: bold; text-align: right;\">5</td><td style = \"text-align: right;\">5.0</td><td style = \"text-align: right;\">3.6</td><td style = \"text-align: right;\">1.4</td><td style = \"text-align: right;\">0.2</td><td style = \"text-align: left;\">setosa</td></tr><tr><td class = \"rowNumber\" style = \"font-weight: bold; text-align: right;\">6</td><td style = \"text-align: right;\">5.4</td><td style = \"text-align: right;\">3.9</td><td style = \"text-align: right;\">1.7</td><td style = \"text-align: right;\">0.4</td><td style = \"text-align: left;\">setosa</td></tr><tr><td class = \"rowNumber\" style = \"font-weight: bold; text-align: right;\">7</td><td style = \"text-align: right;\">4.6</td><td style = \"text-align: right;\">3.4</td><td style = \"text-align: right;\">1.4</td><td style = \"text-align: right;\">0.3</td><td style = \"text-align: left;\">setosa</td></tr><tr><td class = \"rowNumber\" style = \"font-weight: bold; text-align: right;\">8</td><td style = \"text-align: right;\">5.0</td><td style = \"text-align: right;\">3.4</td><td style = \"text-align: right;\">1.5</td><td style = \"text-align: right;\">0.2</td><td style = \"text-align: left;\">setosa</td></tr><tr><td class = \"rowNumber\" style = \"font-weight: bold; text-align: right;\">9</td><td style = \"text-align: right;\">4.4</td><td style = \"text-align: right;\">2.9</td><td style = \"text-align: right;\">1.4</td><td style = \"text-align: right;\">0.2</td><td style = \"text-align: left;\">setosa</td></tr><tr><td class = \"rowNumber\" style = \"font-weight: bold; text-align: right;\">10</td><td style = \"text-align: right;\">4.9</td><td style = \"text-align: right;\">3.1</td><td style = \"text-align: right;\">1.5</td><td style = \"text-align: right;\">0.1</td><td style = \"text-align: left;\">setosa</td></tr><tr><td class = \"rowNumber\" style = \"font-weight: bold; text-align: right;\">11</td><td style = \"text-align: right;\">5.4</td><td style = \"text-align: right;\">3.7</td><td style = \"text-align: right;\">1.5</td><td style = \"text-align: right;\">0.2</td><td style = \"text-align: left;\">setosa</td></tr><tr><td class = \"rowNumber\" style = \"font-weight: bold; text-align: right;\">12</td><td style = \"text-align: right;\">4.8</td><td style = \"text-align: right;\">3.4</td><td style = \"text-align: right;\">1.6</td><td style = \"text-align: right;\">0.2</td><td style = \"text-align: left;\">setosa</td></tr><tr><td class = \"rowNumber\" style = \"font-weight: bold; text-align: right;\">13</td><td style = \"text-align: right;\">4.8</td><td style = \"text-align: right;\">3.0</td><td style = \"text-align: right;\">1.4</td><td style = \"text-align: right;\">0.1</td><td style = \"text-align: left;\">setosa</td></tr><tr><td style = \"text-align: right;\">&vellip;</td><td style = \"text-align: right;\">&vellip;</td><td style = \"text-align: right;\">&vellip;</td><td style = \"text-align: right;\">&vellip;</td><td style = \"text-align: right;\">&vellip;</td><td style = \"text-align: right;\">&vellip;</td></tr><tr><td class = \"rowNumber\" style = \"font-weight: bold; text-align: right;\">139</td><td style = \"text-align: right;\">6.0</td><td style = \"text-align: right;\">3.0</td><td style = \"text-align: right;\">4.8</td><td style = \"text-align: right;\">1.8</td><td style = \"text-align: left;\">virginica</td></tr><tr><td class = \"rowNumber\" style = \"font-weight: bold; text-align: right;\">140</td><td style = \"text-align: right;\">6.9</td><td style = \"text-align: right;\">3.1</td><td style = \"text-align: right;\">5.4</td><td style = \"text-align: right;\">2.1</td><td style = \"text-align: left;\">virginica</td></tr><tr><td class = \"rowNumber\" style = \"font-weight: bold; text-align: right;\">141</td><td style = \"text-align: right;\">6.7</td><td style = \"text-align: right;\">3.1</td><td style = \"text-align: right;\">5.6</td><td style = \"text-align: right;\">2.4</td><td style = \"text-align: left;\">virginica</td></tr><tr><td class = \"rowNumber\" style = \"font-weight: bold; text-align: right;\">142</td><td style = \"text-align: right;\">6.9</td><td style = \"text-align: right;\">3.1</td><td style = \"text-align: right;\">5.1</td><td style = \"text-align: right;\">2.3</td><td style = \"text-align: left;\">virginica</td></tr><tr><td class = \"rowNumber\" style = \"font-weight: bold; text-align: right;\">143</td><td style = \"text-align: right;\">5.8</td><td style = \"text-align: right;\">2.7</td><td style = \"text-align: right;\">5.1</td><td style = \"text-align: right;\">1.9</td><td style = \"text-align: left;\">virginica</td></tr><tr><td class = \"rowNumber\" style = \"font-weight: bold; text-align: right;\">144</td><td style = \"text-align: right;\">6.8</td><td style = \"text-align: right;\">3.2</td><td style = \"text-align: right;\">5.9</td><td style = \"text-align: right;\">2.3</td><td style = \"text-align: left;\">virginica</td></tr><tr><td class = \"rowNumber\" style = \"font-weight: bold; text-align: right;\">145</td><td style = \"text-align: right;\">6.7</td><td style = \"text-align: right;\">3.3</td><td style = \"text-align: right;\">5.7</td><td style = \"text-align: right;\">2.5</td><td style = \"text-align: left;\">virginica</td></tr><tr><td class = \"rowNumber\" style = \"font-weight: bold; text-align: right;\">146</td><td style = \"text-align: right;\">6.7</td><td style = \"text-align: right;\">3.0</td><td style = \"text-align: right;\">5.2</td><td style = \"text-align: right;\">2.3</td><td style = \"text-align: left;\">virginica</td></tr><tr><td class = \"rowNumber\" style = \"font-weight: bold; text-align: right;\">147</td><td style = \"text-align: right;\">6.3</td><td style = \"text-align: right;\">2.5</td><td style = \"text-align: right;\">5.0</td><td style = \"text-align: right;\">1.9</td><td style = \"text-align: left;\">virginica</td></tr><tr><td class = \"rowNumber\" style = \"font-weight: bold; text-align: right;\">148</td><td style = \"text-align: right;\">6.5</td><td style = \"text-align: right;\">3.0</td><td style = \"text-align: right;\">5.2</td><td style = \"text-align: right;\">2.0</td><td style = \"text-align: left;\">virginica</td></tr><tr><td class = \"rowNumber\" style = \"font-weight: bold; text-align: right;\">149</td><td style = \"text-align: right;\">6.2</td><td style = \"text-align: right;\">3.4</td><td style = \"text-align: right;\">5.4</td><td style = \"text-align: right;\">2.3</td><td style = \"text-align: left;\">virginica</td></tr><tr><td class = \"rowNumber\" style = \"font-weight: bold; text-align: right;\">150</td><td style = \"text-align: right;\">5.9</td><td style = \"text-align: right;\">3.0</td><td style = \"text-align: right;\">5.1</td><td style = \"text-align: right;\">1.8</td><td style = \"text-align: left;\">virginica</td></tr></tbody></table></div>"
            ],
            "text/latex": "\\begin{tabular}{r|ccccc}\n\t& SepalLength & SepalWidth & PetalLength & PetalWidth & Species\\\\\n\t\\hline\n\t& Float64 & Float64 & Float64 & Float64 & Cat…\\\\\n\t\\hline\n\t1 & 5.1 & 3.5 & 1.4 & 0.2 & setosa \\\\\n\t2 & 4.9 & 3.0 & 1.4 & 0.2 & setosa \\\\\n\t3 & 4.7 & 3.2 & 1.3 & 0.2 & setosa \\\\\n\t4 & 4.6 & 3.1 & 1.5 & 0.2 & setosa \\\\\n\t5 & 5.0 & 3.6 & 1.4 & 0.2 & setosa \\\\\n\t6 & 5.4 & 3.9 & 1.7 & 0.4 & setosa \\\\\n\t7 & 4.6 & 3.4 & 1.4 & 0.3 & setosa \\\\\n\t8 & 5.0 & 3.4 & 1.5 & 0.2 & setosa \\\\\n\t9 & 4.4 & 2.9 & 1.4 & 0.2 & setosa \\\\\n\t10 & 4.9 & 3.1 & 1.5 & 0.1 & setosa \\\\\n\t11 & 5.4 & 3.7 & 1.5 & 0.2 & setosa \\\\\n\t12 & 4.8 & 3.4 & 1.6 & 0.2 & setosa \\\\\n\t13 & 4.8 & 3.0 & 1.4 & 0.1 & setosa \\\\\n\t14 & 4.3 & 3.0 & 1.1 & 0.1 & setosa \\\\\n\t15 & 5.8 & 4.0 & 1.2 & 0.2 & setosa \\\\\n\t16 & 5.7 & 4.4 & 1.5 & 0.4 & setosa \\\\\n\t17 & 5.4 & 3.9 & 1.3 & 0.4 & setosa \\\\\n\t18 & 5.1 & 3.5 & 1.4 & 0.3 & setosa \\\\\n\t19 & 5.7 & 3.8 & 1.7 & 0.3 & setosa \\\\\n\t20 & 5.1 & 3.8 & 1.5 & 0.3 & setosa \\\\\n\t21 & 5.4 & 3.4 & 1.7 & 0.2 & setosa \\\\\n\t22 & 5.1 & 3.7 & 1.5 & 0.4 & setosa \\\\\n\t23 & 4.6 & 3.6 & 1.0 & 0.2 & setosa \\\\\n\t24 & 5.1 & 3.3 & 1.7 & 0.5 & setosa \\\\\n\t25 & 4.8 & 3.4 & 1.9 & 0.2 & setosa \\\\\n\t26 & 5.0 & 3.0 & 1.6 & 0.2 & setosa \\\\\n\t27 & 5.0 & 3.4 & 1.6 & 0.4 & setosa \\\\\n\t28 & 5.2 & 3.5 & 1.5 & 0.2 & setosa \\\\\n\t29 & 5.2 & 3.4 & 1.4 & 0.2 & setosa \\\\\n\t30 & 4.7 & 3.2 & 1.6 & 0.2 & setosa \\\\\n\t$\\dots$ & $\\dots$ & $\\dots$ & $\\dots$ & $\\dots$ & $\\dots$ \\\\\n\\end{tabular}\n"
          },
          "metadata": {},
          "execution_count": 26
        }
      ]
    },
    {
      "cell_type": "code",
      "source": [
        "describe(iris)"
      ],
      "metadata": {
        "colab": {
          "base_uri": "https://localhost:8080/",
          "height": 189
        },
        "id": "bd9s0kGrGUS2",
        "outputId": "822ef96e-6c0a-4b9f-fba4-89c08cb794b2"
      },
      "execution_count": 27,
      "outputs": [
        {
          "output_type": "execute_result",
          "data": {
            "text/plain": [
              "\u001b[1m5×7 DataFrame\u001b[0m\n",
              "\u001b[1m Row \u001b[0m│\u001b[1m variable    \u001b[0m\u001b[1m mean    \u001b[0m\u001b[1m min    \u001b[0m\u001b[1m median \u001b[0m\u001b[1m max       \u001b[0m\u001b[1m nmissing \u001b[0m\u001b[1m eltype                          \u001b[0m\n",
              "     │\u001b[90m Symbol      \u001b[0m\u001b[90m Union…  \u001b[0m\u001b[90m Any    \u001b[0m\u001b[90m Union… \u001b[0m\u001b[90m Any       \u001b[0m\u001b[90m Int64    \u001b[0m\u001b[90m DataType                        \u001b[0m\n",
              "─────┼────────────────────────────────────────────────────────────────────────────────────────────\n",
              "   1 │ SepalLength  5.84333  4.3     5.8     7.9               0  Float64\n",
              "   2 │ SepalWidth   3.05733  2.0     3.0     4.4               0  Float64\n",
              "   3 │ PetalLength  3.758    1.0     4.35    6.9               0  Float64\n",
              "   4 │ PetalWidth   1.19933  0.1     1.3     2.5               0  Float64\n",
              "   5 │ Species     \u001b[90m         \u001b[0m setosa \u001b[90m        \u001b[0m virginica         0  CategoricalValue{String, UInt8}"
            ],
            "text/html": [
              "<div><div style = \"float: left;\"><span>5×7 DataFrame</span></div><div style = \"clear: both;\"></div></div><div class = \"data-frame\" style = \"overflow-x: scroll;\"><table class = \"data-frame\" style = \"margin-bottom: 6px;\"><thead><tr class = \"header\"><th class = \"rowNumber\" style = \"font-weight: bold; text-align: right;\">Row</th><th style = \"text-align: left;\">variable</th><th style = \"text-align: left;\">mean</th><th style = \"text-align: left;\">min</th><th style = \"text-align: left;\">median</th><th style = \"text-align: left;\">max</th><th style = \"text-align: left;\">nmissing</th><th style = \"text-align: left;\">eltype</th></tr><tr class = \"subheader headerLastRow\"><th class = \"rowNumber\" style = \"font-weight: bold; text-align: right;\"></th><th title = \"Symbol\" style = \"text-align: left;\">Symbol</th><th title = \"Union{Nothing, Float64}\" style = \"text-align: left;\">Union…</th><th title = \"Any\" style = \"text-align: left;\">Any</th><th title = \"Union{Nothing, Float64}\" style = \"text-align: left;\">Union…</th><th title = \"Any\" style = \"text-align: left;\">Any</th><th title = \"Int64\" style = \"text-align: left;\">Int64</th><th title = \"DataType\" style = \"text-align: left;\">DataType</th></tr></thead><tbody><tr><td class = \"rowNumber\" style = \"font-weight: bold; text-align: right;\">1</td><td style = \"text-align: left;\">SepalLength</td><td style = \"text-align: left;\">5.84333</td><td style = \"text-align: left;\">4.3</td><td style = \"text-align: left;\">5.8</td><td style = \"text-align: left;\">7.9</td><td style = \"text-align: right;\">0</td><td style = \"text-align: left;\">Float64</td></tr><tr><td class = \"rowNumber\" style = \"font-weight: bold; text-align: right;\">2</td><td style = \"text-align: left;\">SepalWidth</td><td style = \"text-align: left;\">3.05733</td><td style = \"text-align: left;\">2.0</td><td style = \"text-align: left;\">3.0</td><td style = \"text-align: left;\">4.4</td><td style = \"text-align: right;\">0</td><td style = \"text-align: left;\">Float64</td></tr><tr><td class = \"rowNumber\" style = \"font-weight: bold; text-align: right;\">3</td><td style = \"text-align: left;\">PetalLength</td><td style = \"text-align: left;\">3.758</td><td style = \"text-align: left;\">1.0</td><td style = \"text-align: left;\">4.35</td><td style = \"text-align: left;\">6.9</td><td style = \"text-align: right;\">0</td><td style = \"text-align: left;\">Float64</td></tr><tr><td class = \"rowNumber\" style = \"font-weight: bold; text-align: right;\">4</td><td style = \"text-align: left;\">PetalWidth</td><td style = \"text-align: left;\">1.19933</td><td style = \"text-align: left;\">0.1</td><td style = \"text-align: left;\">1.3</td><td style = \"text-align: left;\">2.5</td><td style = \"text-align: right;\">0</td><td style = \"text-align: left;\">Float64</td></tr><tr><td class = \"rowNumber\" style = \"font-weight: bold; text-align: right;\">5</td><td style = \"text-align: left;\">Species</td><td style = \"font-style: italic; text-align: left;\"></td><td style = \"text-align: left;\">setosa</td><td style = \"font-style: italic; text-align: left;\"></td><td style = \"text-align: left;\">virginica</td><td style = \"text-align: right;\">0</td><td style = \"text-align: left;\">CategoricalValue{String, UInt8}</td></tr></tbody></table></div>"
            ],
            "text/latex": "\\begin{tabular}{r|ccccccc}\n\t& variable & mean & min & median & max & nmissing & eltype\\\\\n\t\\hline\n\t& Symbol & Union… & Any & Union… & Any & Int64 & DataType\\\\\n\t\\hline\n\t1 & SepalLength & 5.84333 & 4.3 & 5.8 & 7.9 & 0 & Float64 \\\\\n\t2 & SepalWidth & 3.05733 & 2.0 & 3.0 & 4.4 & 0 & Float64 \\\\\n\t3 & PetalLength & 3.758 & 1.0 & 4.35 & 6.9 & 0 & Float64 \\\\\n\t4 & PetalWidth & 1.19933 & 0.1 & 1.3 & 2.5 & 0 & Float64 \\\\\n\t5 & Species &  & setosa &  & virginica & 0 & CategoricalValue\\{String, UInt8\\} \\\\\n\\end{tabular}\n"
          },
          "metadata": {},
          "execution_count": 27
        }
      ]
    },
    {
      "cell_type": "code",
      "source": [
        "first(iris)\n",
        "first(iris, 10)\n",
        "last(iris, 10)\n",
        "iris[1, :]\n",
        "iris[:, 1]\n",
        "iris[!, 1]\n",
        "iris[!, [1, 2]]\n",
        "iris[!, :SepalLength]\n",
        "iris[!, [:SepalLength, :SepalWidth]]\n",
        "iris.SepalLength\n",
        "iris.SepalWidth"
      ],
      "metadata": {
        "colab": {
          "base_uri": "https://localhost:8080/"
        },
        "id": "AbvYhtr_GVxr",
        "outputId": "1aaffcc8-fe9a-494b-a532-778fe43e8de1"
      },
      "execution_count": 28,
      "outputs": [
        {
          "output_type": "execute_result",
          "data": {
            "text/plain": [
              "150-element Vector{Float64}:\n",
              " 3.5\n",
              " 3.0\n",
              " 3.2\n",
              " 3.1\n",
              " 3.6\n",
              " 3.9\n",
              " 3.4\n",
              " 3.4\n",
              " 2.9\n",
              " 3.1\n",
              " 3.7\n",
              " 3.4\n",
              " 3.0\n",
              " ⋮\n",
              " 3.0\n",
              " 3.1\n",
              " 3.1\n",
              " 3.1\n",
              " 2.7\n",
              " 3.2\n",
              " 3.3\n",
              " 3.0\n",
              " 2.5\n",
              " 3.0\n",
              " 3.4\n",
              " 3.0"
            ]
          },
          "metadata": {},
          "execution_count": 28
        }
      ]
    },
    {
      "cell_type": "code",
      "source": [
        "iris[!, r\"Sepal\"]\n",
        "\n",
        "iris[!, Not(r\"Sepal\")]\n",
        "iris[!, Not(:SepalLength)]\n",
        "\n",
        "iris[!, Between(:SepalWidth, :PetalWidth)]\n",
        "iris[!, Between(2, 4)]"
      ],
      "metadata": {
        "colab": {
          "base_uri": "https://localhost:8080/",
          "height": 630
        },
        "id": "o12fkay_Gap8",
        "outputId": "9b515829-aee5-43d7-a111-ac29a2b5da0f"
      },
      "execution_count": 29,
      "outputs": [
        {
          "output_type": "execute_result",
          "data": {
            "text/plain": [
              "\u001b[1m150×3 DataFrame\u001b[0m\n",
              "\u001b[1m Row \u001b[0m│\u001b[1m SepalWidth \u001b[0m\u001b[1m PetalLength \u001b[0m\u001b[1m PetalWidth \u001b[0m\n",
              "     │\u001b[90m Float64    \u001b[0m\u001b[90m Float64     \u001b[0m\u001b[90m Float64    \u001b[0m\n",
              "─────┼─────────────────────────────────────\n",
              "   1 │        3.5          1.4         0.2\n",
              "   2 │        3.0          1.4         0.2\n",
              "   3 │        3.2          1.3         0.2\n",
              "   4 │        3.1          1.5         0.2\n",
              "   5 │        3.6          1.4         0.2\n",
              "   6 │        3.9          1.7         0.4\n",
              "   7 │        3.4          1.4         0.3\n",
              "   8 │        3.4          1.5         0.2\n",
              "   9 │        2.9          1.4         0.2\n",
              "  10 │        3.1          1.5         0.1\n",
              "  11 │        3.7          1.5         0.2\n",
              "  ⋮  │     ⋮            ⋮           ⋮\n",
              " 141 │        3.1          5.6         2.4\n",
              " 142 │        3.1          5.1         2.3\n",
              " 143 │        2.7          5.1         1.9\n",
              " 144 │        3.2          5.9         2.3\n",
              " 145 │        3.3          5.7         2.5\n",
              " 146 │        3.0          5.2         2.3\n",
              " 147 │        2.5          5.0         1.9\n",
              " 148 │        3.0          5.2         2.0\n",
              " 149 │        3.4          5.4         2.3\n",
              " 150 │        3.0          5.1         1.8\n",
              "\u001b[36m                           129 rows omitted\u001b[0m"
            ],
            "text/html": [
              "<div><div style = \"float: left;\"><span>150×3 DataFrame</span></div><div style = \"float: right;\"><span style = \"font-style: italic;\">125 rows omitted</span></div><div style = \"clear: both;\"></div></div><div class = \"data-frame\" style = \"overflow-x: scroll;\"><table class = \"data-frame\" style = \"margin-bottom: 6px;\"><thead><tr class = \"header\"><th class = \"rowNumber\" style = \"font-weight: bold; text-align: right;\">Row</th><th style = \"text-align: left;\">SepalWidth</th><th style = \"text-align: left;\">PetalLength</th><th style = \"text-align: left;\">PetalWidth</th></tr><tr class = \"subheader headerLastRow\"><th class = \"rowNumber\" style = \"font-weight: bold; text-align: right;\"></th><th title = \"Float64\" style = \"text-align: left;\">Float64</th><th title = \"Float64\" style = \"text-align: left;\">Float64</th><th title = \"Float64\" style = \"text-align: left;\">Float64</th></tr></thead><tbody><tr><td class = \"rowNumber\" style = \"font-weight: bold; text-align: right;\">1</td><td style = \"text-align: right;\">3.5</td><td style = \"text-align: right;\">1.4</td><td style = \"text-align: right;\">0.2</td></tr><tr><td class = \"rowNumber\" style = \"font-weight: bold; text-align: right;\">2</td><td style = \"text-align: right;\">3.0</td><td style = \"text-align: right;\">1.4</td><td style = \"text-align: right;\">0.2</td></tr><tr><td class = \"rowNumber\" style = \"font-weight: bold; text-align: right;\">3</td><td style = \"text-align: right;\">3.2</td><td style = \"text-align: right;\">1.3</td><td style = \"text-align: right;\">0.2</td></tr><tr><td class = \"rowNumber\" style = \"font-weight: bold; text-align: right;\">4</td><td style = \"text-align: right;\">3.1</td><td style = \"text-align: right;\">1.5</td><td style = \"text-align: right;\">0.2</td></tr><tr><td class = \"rowNumber\" style = \"font-weight: bold; text-align: right;\">5</td><td style = \"text-align: right;\">3.6</td><td style = \"text-align: right;\">1.4</td><td style = \"text-align: right;\">0.2</td></tr><tr><td class = \"rowNumber\" style = \"font-weight: bold; text-align: right;\">6</td><td style = \"text-align: right;\">3.9</td><td style = \"text-align: right;\">1.7</td><td style = \"text-align: right;\">0.4</td></tr><tr><td class = \"rowNumber\" style = \"font-weight: bold; text-align: right;\">7</td><td style = \"text-align: right;\">3.4</td><td style = \"text-align: right;\">1.4</td><td style = \"text-align: right;\">0.3</td></tr><tr><td class = \"rowNumber\" style = \"font-weight: bold; text-align: right;\">8</td><td style = \"text-align: right;\">3.4</td><td style = \"text-align: right;\">1.5</td><td style = \"text-align: right;\">0.2</td></tr><tr><td class = \"rowNumber\" style = \"font-weight: bold; text-align: right;\">9</td><td style = \"text-align: right;\">2.9</td><td style = \"text-align: right;\">1.4</td><td style = \"text-align: right;\">0.2</td></tr><tr><td class = \"rowNumber\" style = \"font-weight: bold; text-align: right;\">10</td><td style = \"text-align: right;\">3.1</td><td style = \"text-align: right;\">1.5</td><td style = \"text-align: right;\">0.1</td></tr><tr><td class = \"rowNumber\" style = \"font-weight: bold; text-align: right;\">11</td><td style = \"text-align: right;\">3.7</td><td style = \"text-align: right;\">1.5</td><td style = \"text-align: right;\">0.2</td></tr><tr><td class = \"rowNumber\" style = \"font-weight: bold; text-align: right;\">12</td><td style = \"text-align: right;\">3.4</td><td style = \"text-align: right;\">1.6</td><td style = \"text-align: right;\">0.2</td></tr><tr><td class = \"rowNumber\" style = \"font-weight: bold; text-align: right;\">13</td><td style = \"text-align: right;\">3.0</td><td style = \"text-align: right;\">1.4</td><td style = \"text-align: right;\">0.1</td></tr><tr><td style = \"text-align: right;\">&vellip;</td><td style = \"text-align: right;\">&vellip;</td><td style = \"text-align: right;\">&vellip;</td><td style = \"text-align: right;\">&vellip;</td></tr><tr><td class = \"rowNumber\" style = \"font-weight: bold; text-align: right;\">139</td><td style = \"text-align: right;\">3.0</td><td style = \"text-align: right;\">4.8</td><td style = \"text-align: right;\">1.8</td></tr><tr><td class = \"rowNumber\" style = \"font-weight: bold; text-align: right;\">140</td><td style = \"text-align: right;\">3.1</td><td style = \"text-align: right;\">5.4</td><td style = \"text-align: right;\">2.1</td></tr><tr><td class = \"rowNumber\" style = \"font-weight: bold; text-align: right;\">141</td><td style = \"text-align: right;\">3.1</td><td style = \"text-align: right;\">5.6</td><td style = \"text-align: right;\">2.4</td></tr><tr><td class = \"rowNumber\" style = \"font-weight: bold; text-align: right;\">142</td><td style = \"text-align: right;\">3.1</td><td style = \"text-align: right;\">5.1</td><td style = \"text-align: right;\">2.3</td></tr><tr><td class = \"rowNumber\" style = \"font-weight: bold; text-align: right;\">143</td><td style = \"text-align: right;\">2.7</td><td style = \"text-align: right;\">5.1</td><td style = \"text-align: right;\">1.9</td></tr><tr><td class = \"rowNumber\" style = \"font-weight: bold; text-align: right;\">144</td><td style = \"text-align: right;\">3.2</td><td style = \"text-align: right;\">5.9</td><td style = \"text-align: right;\">2.3</td></tr><tr><td class = \"rowNumber\" style = \"font-weight: bold; text-align: right;\">145</td><td style = \"text-align: right;\">3.3</td><td style = \"text-align: right;\">5.7</td><td style = \"text-align: right;\">2.5</td></tr><tr><td class = \"rowNumber\" style = \"font-weight: bold; text-align: right;\">146</td><td style = \"text-align: right;\">3.0</td><td style = \"text-align: right;\">5.2</td><td style = \"text-align: right;\">2.3</td></tr><tr><td class = \"rowNumber\" style = \"font-weight: bold; text-align: right;\">147</td><td style = \"text-align: right;\">2.5</td><td style = \"text-align: right;\">5.0</td><td style = \"text-align: right;\">1.9</td></tr><tr><td class = \"rowNumber\" style = \"font-weight: bold; text-align: right;\">148</td><td style = \"text-align: right;\">3.0</td><td style = \"text-align: right;\">5.2</td><td style = \"text-align: right;\">2.0</td></tr><tr><td class = \"rowNumber\" style = \"font-weight: bold; text-align: right;\">149</td><td style = \"text-align: right;\">3.4</td><td style = \"text-align: right;\">5.4</td><td style = \"text-align: right;\">2.3</td></tr><tr><td class = \"rowNumber\" style = \"font-weight: bold; text-align: right;\">150</td><td style = \"text-align: right;\">3.0</td><td style = \"text-align: right;\">5.1</td><td style = \"text-align: right;\">1.8</td></tr></tbody></table></div>"
            ],
            "text/latex": "\\begin{tabular}{r|ccc}\n\t& SepalWidth & PetalLength & PetalWidth\\\\\n\t\\hline\n\t& Float64 & Float64 & Float64\\\\\n\t\\hline\n\t1 & 3.5 & 1.4 & 0.2 \\\\\n\t2 & 3.0 & 1.4 & 0.2 \\\\\n\t3 & 3.2 & 1.3 & 0.2 \\\\\n\t4 & 3.1 & 1.5 & 0.2 \\\\\n\t5 & 3.6 & 1.4 & 0.2 \\\\\n\t6 & 3.9 & 1.7 & 0.4 \\\\\n\t7 & 3.4 & 1.4 & 0.3 \\\\\n\t8 & 3.4 & 1.5 & 0.2 \\\\\n\t9 & 2.9 & 1.4 & 0.2 \\\\\n\t10 & 3.1 & 1.5 & 0.1 \\\\\n\t11 & 3.7 & 1.5 & 0.2 \\\\\n\t12 & 3.4 & 1.6 & 0.2 \\\\\n\t13 & 3.0 & 1.4 & 0.1 \\\\\n\t14 & 3.0 & 1.1 & 0.1 \\\\\n\t15 & 4.0 & 1.2 & 0.2 \\\\\n\t16 & 4.4 & 1.5 & 0.4 \\\\\n\t17 & 3.9 & 1.3 & 0.4 \\\\\n\t18 & 3.5 & 1.4 & 0.3 \\\\\n\t19 & 3.8 & 1.7 & 0.3 \\\\\n\t20 & 3.8 & 1.5 & 0.3 \\\\\n\t21 & 3.4 & 1.7 & 0.2 \\\\\n\t22 & 3.7 & 1.5 & 0.4 \\\\\n\t23 & 3.6 & 1.0 & 0.2 \\\\\n\t24 & 3.3 & 1.7 & 0.5 \\\\\n\t25 & 3.4 & 1.9 & 0.2 \\\\\n\t26 & 3.0 & 1.6 & 0.2 \\\\\n\t27 & 3.4 & 1.6 & 0.4 \\\\\n\t28 & 3.5 & 1.5 & 0.2 \\\\\n\t29 & 3.4 & 1.4 & 0.2 \\\\\n\t30 & 3.2 & 1.6 & 0.2 \\\\\n\t$\\dots$ & $\\dots$ & $\\dots$ & $\\dots$ \\\\\n\\end{tabular}\n"
          },
          "metadata": {},
          "execution_count": 29
        }
      ]
    },
    {
      "cell_type": "code",
      "source": [
        "iris[!, Cols(r\"Petal\")]"
      ],
      "metadata": {
        "colab": {
          "base_uri": "https://localhost:8080/",
          "height": 630
        },
        "id": "b6ZCQfZdGdO9",
        "outputId": "37ec7ae9-0d28-4b41-a4bb-bdf30813836f"
      },
      "execution_count": 32,
      "outputs": [
        {
          "output_type": "execute_result",
          "data": {
            "text/plain": [
              "\u001b[1m150×2 DataFrame\u001b[0m\n",
              "\u001b[1m Row \u001b[0m│\u001b[1m PetalLength \u001b[0m\u001b[1m PetalWidth \u001b[0m\n",
              "     │\u001b[90m Float64     \u001b[0m\u001b[90m Float64    \u001b[0m\n",
              "─────┼─────────────────────────\n",
              "   1 │         1.4         0.2\n",
              "   2 │         1.4         0.2\n",
              "   3 │         1.3         0.2\n",
              "   4 │         1.5         0.2\n",
              "   5 │         1.4         0.2\n",
              "   6 │         1.7         0.4\n",
              "   7 │         1.4         0.3\n",
              "   8 │         1.5         0.2\n",
              "   9 │         1.4         0.2\n",
              "  10 │         1.5         0.1\n",
              "  11 │         1.5         0.2\n",
              "  ⋮  │      ⋮           ⋮\n",
              " 141 │         5.6         2.4\n",
              " 142 │         5.1         2.3\n",
              " 143 │         5.1         1.9\n",
              " 144 │         5.9         2.3\n",
              " 145 │         5.7         2.5\n",
              " 146 │         5.2         2.3\n",
              " 147 │         5.0         1.9\n",
              " 148 │         5.2         2.0\n",
              " 149 │         5.4         2.3\n",
              " 150 │         5.1         1.8\n",
              "\u001b[36m               129 rows omitted\u001b[0m"
            ],
            "text/html": [
              "<div><div style = \"float: left;\"><span>150×2 DataFrame</span></div><div style = \"float: right;\"><span style = \"font-style: italic;\">125 rows omitted</span></div><div style = \"clear: both;\"></div></div><div class = \"data-frame\" style = \"overflow-x: scroll;\"><table class = \"data-frame\" style = \"margin-bottom: 6px;\"><thead><tr class = \"header\"><th class = \"rowNumber\" style = \"font-weight: bold; text-align: right;\">Row</th><th style = \"text-align: left;\">PetalLength</th><th style = \"text-align: left;\">PetalWidth</th></tr><tr class = \"subheader headerLastRow\"><th class = \"rowNumber\" style = \"font-weight: bold; text-align: right;\"></th><th title = \"Float64\" style = \"text-align: left;\">Float64</th><th title = \"Float64\" style = \"text-align: left;\">Float64</th></tr></thead><tbody><tr><td class = \"rowNumber\" style = \"font-weight: bold; text-align: right;\">1</td><td style = \"text-align: right;\">1.4</td><td style = \"text-align: right;\">0.2</td></tr><tr><td class = \"rowNumber\" style = \"font-weight: bold; text-align: right;\">2</td><td style = \"text-align: right;\">1.4</td><td style = \"text-align: right;\">0.2</td></tr><tr><td class = \"rowNumber\" style = \"font-weight: bold; text-align: right;\">3</td><td style = \"text-align: right;\">1.3</td><td style = \"text-align: right;\">0.2</td></tr><tr><td class = \"rowNumber\" style = \"font-weight: bold; text-align: right;\">4</td><td style = \"text-align: right;\">1.5</td><td style = \"text-align: right;\">0.2</td></tr><tr><td class = \"rowNumber\" style = \"font-weight: bold; text-align: right;\">5</td><td style = \"text-align: right;\">1.4</td><td style = \"text-align: right;\">0.2</td></tr><tr><td class = \"rowNumber\" style = \"font-weight: bold; text-align: right;\">6</td><td style = \"text-align: right;\">1.7</td><td style = \"text-align: right;\">0.4</td></tr><tr><td class = \"rowNumber\" style = \"font-weight: bold; text-align: right;\">7</td><td style = \"text-align: right;\">1.4</td><td style = \"text-align: right;\">0.3</td></tr><tr><td class = \"rowNumber\" style = \"font-weight: bold; text-align: right;\">8</td><td style = \"text-align: right;\">1.5</td><td style = \"text-align: right;\">0.2</td></tr><tr><td class = \"rowNumber\" style = \"font-weight: bold; text-align: right;\">9</td><td style = \"text-align: right;\">1.4</td><td style = \"text-align: right;\">0.2</td></tr><tr><td class = \"rowNumber\" style = \"font-weight: bold; text-align: right;\">10</td><td style = \"text-align: right;\">1.5</td><td style = \"text-align: right;\">0.1</td></tr><tr><td class = \"rowNumber\" style = \"font-weight: bold; text-align: right;\">11</td><td style = \"text-align: right;\">1.5</td><td style = \"text-align: right;\">0.2</td></tr><tr><td class = \"rowNumber\" style = \"font-weight: bold; text-align: right;\">12</td><td style = \"text-align: right;\">1.6</td><td style = \"text-align: right;\">0.2</td></tr><tr><td class = \"rowNumber\" style = \"font-weight: bold; text-align: right;\">13</td><td style = \"text-align: right;\">1.4</td><td style = \"text-align: right;\">0.1</td></tr><tr><td style = \"text-align: right;\">&vellip;</td><td style = \"text-align: right;\">&vellip;</td><td style = \"text-align: right;\">&vellip;</td></tr><tr><td class = \"rowNumber\" style = \"font-weight: bold; text-align: right;\">139</td><td style = \"text-align: right;\">4.8</td><td style = \"text-align: right;\">1.8</td></tr><tr><td class = \"rowNumber\" style = \"font-weight: bold; text-align: right;\">140</td><td style = \"text-align: right;\">5.4</td><td style = \"text-align: right;\">2.1</td></tr><tr><td class = \"rowNumber\" style = \"font-weight: bold; text-align: right;\">141</td><td style = \"text-align: right;\">5.6</td><td style = \"text-align: right;\">2.4</td></tr><tr><td class = \"rowNumber\" style = \"font-weight: bold; text-align: right;\">142</td><td style = \"text-align: right;\">5.1</td><td style = \"text-align: right;\">2.3</td></tr><tr><td class = \"rowNumber\" style = \"font-weight: bold; text-align: right;\">143</td><td style = \"text-align: right;\">5.1</td><td style = \"text-align: right;\">1.9</td></tr><tr><td class = \"rowNumber\" style = \"font-weight: bold; text-align: right;\">144</td><td style = \"text-align: right;\">5.9</td><td style = \"text-align: right;\">2.3</td></tr><tr><td class = \"rowNumber\" style = \"font-weight: bold; text-align: right;\">145</td><td style = \"text-align: right;\">5.7</td><td style = \"text-align: right;\">2.5</td></tr><tr><td class = \"rowNumber\" style = \"font-weight: bold; text-align: right;\">146</td><td style = \"text-align: right;\">5.2</td><td style = \"text-align: right;\">2.3</td></tr><tr><td class = \"rowNumber\" style = \"font-weight: bold; text-align: right;\">147</td><td style = \"text-align: right;\">5.0</td><td style = \"text-align: right;\">1.9</td></tr><tr><td class = \"rowNumber\" style = \"font-weight: bold; text-align: right;\">148</td><td style = \"text-align: right;\">5.2</td><td style = \"text-align: right;\">2.0</td></tr><tr><td class = \"rowNumber\" style = \"font-weight: bold; text-align: right;\">149</td><td style = \"text-align: right;\">5.4</td><td style = \"text-align: right;\">2.3</td></tr><tr><td class = \"rowNumber\" style = \"font-weight: bold; text-align: right;\">150</td><td style = \"text-align: right;\">5.1</td><td style = \"text-align: right;\">1.8</td></tr></tbody></table></div>"
            ],
            "text/latex": "\\begin{tabular}{r|cc}\n\t& PetalLength & PetalWidth\\\\\n\t\\hline\n\t& Float64 & Float64\\\\\n\t\\hline\n\t1 & 1.4 & 0.2 \\\\\n\t2 & 1.4 & 0.2 \\\\\n\t3 & 1.3 & 0.2 \\\\\n\t4 & 1.5 & 0.2 \\\\\n\t5 & 1.4 & 0.2 \\\\\n\t6 & 1.7 & 0.4 \\\\\n\t7 & 1.4 & 0.3 \\\\\n\t8 & 1.5 & 0.2 \\\\\n\t9 & 1.4 & 0.2 \\\\\n\t10 & 1.5 & 0.1 \\\\\n\t11 & 1.5 & 0.2 \\\\\n\t12 & 1.6 & 0.2 \\\\\n\t13 & 1.4 & 0.1 \\\\\n\t14 & 1.1 & 0.1 \\\\\n\t15 & 1.2 & 0.2 \\\\\n\t16 & 1.5 & 0.4 \\\\\n\t17 & 1.3 & 0.4 \\\\\n\t18 & 1.4 & 0.3 \\\\\n\t19 & 1.7 & 0.3 \\\\\n\t20 & 1.5 & 0.3 \\\\\n\t21 & 1.7 & 0.2 \\\\\n\t22 & 1.5 & 0.4 \\\\\n\t23 & 1.0 & 0.2 \\\\\n\t24 & 1.7 & 0.5 \\\\\n\t25 & 1.9 & 0.2 \\\\\n\t26 & 1.6 & 0.2 \\\\\n\t27 & 1.6 & 0.4 \\\\\n\t28 & 1.5 & 0.2 \\\\\n\t29 & 1.4 & 0.2 \\\\\n\t30 & 1.6 & 0.2 \\\\\n\t$\\dots$ & $\\dots$ & $\\dots$ \\\\\n\\end{tabular}\n"
          },
          "metadata": {},
          "execution_count": 32
        }
      ]
    },
    {
      "cell_type": "code",
      "source": [
        "iris[iris.SepalLength .> 4, :]\n",
        "iris[iris.Species .== \"setosa\", :]\n",
        "iris[(iris.SepalLength .> 4) .& (iris.PetalLength .> 3), :]\n",
        "\n",
        "DataFrames.subset(iris,\n",
        "                    :SepalLength => s -> s .> 4,\n",
        "                    :PetalLength => p -> p .> 3)\n",
        "\n",
        "DataFrames.subset(iris, :Species => s -> s .== \"setosa\")\n",
        "\n",
        "iriscopy = copy(iris)\n",
        "DataFrames.subset!(iriscopy, :Species => s -> s .== \"setosa\")\n",
        "nrow(iris)\n",
        "nrow(iriscopy)"
      ],
      "metadata": {
        "colab": {
          "base_uri": "https://localhost:8080/"
        },
        "id": "95ojlBBMGeax",
        "outputId": "524e90aa-1c6b-45ce-9623-6a174a7ff93b"
      },
      "execution_count": 33,
      "outputs": [
        {
          "output_type": "execute_result",
          "data": {
            "text/plain": [
              "50"
            ]
          },
          "metadata": {},
          "execution_count": 33
        }
      ]
    },
    {
      "cell_type": "code",
      "source": [
        "select(iris, Not(:SepalLength))\n",
        "select(iris, :SepalLength => s -> s * 2)\n",
        "select(iris, :SepalLength => s -> s * 2, :SepalWidth)\n",
        "select(iris, :SepalLength => s -> s * 2, [:SepalLength, :SepalWidth] => ((x,y) -> x[1] + x[2]) => :X)\n",
        "select(iris, :SepalLength => :S1, :SepalWidth => :S2) ## Rename columns\n",
        "#select!(iris, :SepalLength => :S1, :SepalWidth => :S2) ## Don't copy columns"
      ],
      "metadata": {
        "colab": {
          "base_uri": "https://localhost:8080/",
          "height": 630
        },
        "id": "2WtX5FUqGeYL",
        "outputId": "63ac2cf7-e72b-4507-9827-bd94b05bd91c"
      },
      "execution_count": 34,
      "outputs": [
        {
          "output_type": "execute_result",
          "data": {
            "text/plain": [
              "\u001b[1m150×2 DataFrame\u001b[0m\n",
              "\u001b[1m Row \u001b[0m│\u001b[1m S1      \u001b[0m\u001b[1m S2      \u001b[0m\n",
              "     │\u001b[90m Float64 \u001b[0m\u001b[90m Float64 \u001b[0m\n",
              "─────┼──────────────────\n",
              "   1 │     5.1      3.5\n",
              "   2 │     4.9      3.0\n",
              "   3 │     4.7      3.2\n",
              "   4 │     4.6      3.1\n",
              "   5 │     5.0      3.6\n",
              "   6 │     5.4      3.9\n",
              "   7 │     4.6      3.4\n",
              "   8 │     5.0      3.4\n",
              "   9 │     4.4      2.9\n",
              "  10 │     4.9      3.1\n",
              "  11 │     5.4      3.7\n",
              "  ⋮  │    ⋮        ⋮\n",
              " 141 │     6.7      3.1\n",
              " 142 │     6.9      3.1\n",
              " 143 │     5.8      2.7\n",
              " 144 │     6.8      3.2\n",
              " 145 │     6.7      3.3\n",
              " 146 │     6.7      3.0\n",
              " 147 │     6.3      2.5\n",
              " 148 │     6.5      3.0\n",
              " 149 │     6.2      3.4\n",
              " 150 │     5.9      3.0\n",
              "\u001b[36m        129 rows omitted\u001b[0m"
            ],
            "text/html": [
              "<div><div style = \"float: left;\"><span>150×2 DataFrame</span></div><div style = \"float: right;\"><span style = \"font-style: italic;\">125 rows omitted</span></div><div style = \"clear: both;\"></div></div><div class = \"data-frame\" style = \"overflow-x: scroll;\"><table class = \"data-frame\" style = \"margin-bottom: 6px;\"><thead><tr class = \"header\"><th class = \"rowNumber\" style = \"font-weight: bold; text-align: right;\">Row</th><th style = \"text-align: left;\">S1</th><th style = \"text-align: left;\">S2</th></tr><tr class = \"subheader headerLastRow\"><th class = \"rowNumber\" style = \"font-weight: bold; text-align: right;\"></th><th title = \"Float64\" style = \"text-align: left;\">Float64</th><th title = \"Float64\" style = \"text-align: left;\">Float64</th></tr></thead><tbody><tr><td class = \"rowNumber\" style = \"font-weight: bold; text-align: right;\">1</td><td style = \"text-align: right;\">5.1</td><td style = \"text-align: right;\">3.5</td></tr><tr><td class = \"rowNumber\" style = \"font-weight: bold; text-align: right;\">2</td><td style = \"text-align: right;\">4.9</td><td style = \"text-align: right;\">3.0</td></tr><tr><td class = \"rowNumber\" style = \"font-weight: bold; text-align: right;\">3</td><td style = \"text-align: right;\">4.7</td><td style = \"text-align: right;\">3.2</td></tr><tr><td class = \"rowNumber\" style = \"font-weight: bold; text-align: right;\">4</td><td style = \"text-align: right;\">4.6</td><td style = \"text-align: right;\">3.1</td></tr><tr><td class = \"rowNumber\" style = \"font-weight: bold; text-align: right;\">5</td><td style = \"text-align: right;\">5.0</td><td style = \"text-align: right;\">3.6</td></tr><tr><td class = \"rowNumber\" style = \"font-weight: bold; text-align: right;\">6</td><td style = \"text-align: right;\">5.4</td><td style = \"text-align: right;\">3.9</td></tr><tr><td class = \"rowNumber\" style = \"font-weight: bold; text-align: right;\">7</td><td style = \"text-align: right;\">4.6</td><td style = \"text-align: right;\">3.4</td></tr><tr><td class = \"rowNumber\" style = \"font-weight: bold; text-align: right;\">8</td><td style = \"text-align: right;\">5.0</td><td style = \"text-align: right;\">3.4</td></tr><tr><td class = \"rowNumber\" style = \"font-weight: bold; text-align: right;\">9</td><td style = \"text-align: right;\">4.4</td><td style = \"text-align: right;\">2.9</td></tr><tr><td class = \"rowNumber\" style = \"font-weight: bold; text-align: right;\">10</td><td style = \"text-align: right;\">4.9</td><td style = \"text-align: right;\">3.1</td></tr><tr><td class = \"rowNumber\" style = \"font-weight: bold; text-align: right;\">11</td><td style = \"text-align: right;\">5.4</td><td style = \"text-align: right;\">3.7</td></tr><tr><td class = \"rowNumber\" style = \"font-weight: bold; text-align: right;\">12</td><td style = \"text-align: right;\">4.8</td><td style = \"text-align: right;\">3.4</td></tr><tr><td class = \"rowNumber\" style = \"font-weight: bold; text-align: right;\">13</td><td style = \"text-align: right;\">4.8</td><td style = \"text-align: right;\">3.0</td></tr><tr><td style = \"text-align: right;\">&vellip;</td><td style = \"text-align: right;\">&vellip;</td><td style = \"text-align: right;\">&vellip;</td></tr><tr><td class = \"rowNumber\" style = \"font-weight: bold; text-align: right;\">139</td><td style = \"text-align: right;\">6.0</td><td style = \"text-align: right;\">3.0</td></tr><tr><td class = \"rowNumber\" style = \"font-weight: bold; text-align: right;\">140</td><td style = \"text-align: right;\">6.9</td><td style = \"text-align: right;\">3.1</td></tr><tr><td class = \"rowNumber\" style = \"font-weight: bold; text-align: right;\">141</td><td style = \"text-align: right;\">6.7</td><td style = \"text-align: right;\">3.1</td></tr><tr><td class = \"rowNumber\" style = \"font-weight: bold; text-align: right;\">142</td><td style = \"text-align: right;\">6.9</td><td style = \"text-align: right;\">3.1</td></tr><tr><td class = \"rowNumber\" style = \"font-weight: bold; text-align: right;\">143</td><td style = \"text-align: right;\">5.8</td><td style = \"text-align: right;\">2.7</td></tr><tr><td class = \"rowNumber\" style = \"font-weight: bold; text-align: right;\">144</td><td style = \"text-align: right;\">6.8</td><td style = \"text-align: right;\">3.2</td></tr><tr><td class = \"rowNumber\" style = \"font-weight: bold; text-align: right;\">145</td><td style = \"text-align: right;\">6.7</td><td style = \"text-align: right;\">3.3</td></tr><tr><td class = \"rowNumber\" style = \"font-weight: bold; text-align: right;\">146</td><td style = \"text-align: right;\">6.7</td><td style = \"text-align: right;\">3.0</td></tr><tr><td class = \"rowNumber\" style = \"font-weight: bold; text-align: right;\">147</td><td style = \"text-align: right;\">6.3</td><td style = \"text-align: right;\">2.5</td></tr><tr><td class = \"rowNumber\" style = \"font-weight: bold; text-align: right;\">148</td><td style = \"text-align: right;\">6.5</td><td style = \"text-align: right;\">3.0</td></tr><tr><td class = \"rowNumber\" style = \"font-weight: bold; text-align: right;\">149</td><td style = \"text-align: right;\">6.2</td><td style = \"text-align: right;\">3.4</td></tr><tr><td class = \"rowNumber\" style = \"font-weight: bold; text-align: right;\">150</td><td style = \"text-align: right;\">5.9</td><td style = \"text-align: right;\">3.0</td></tr></tbody></table></div>"
            ],
            "text/latex": "\\begin{tabular}{r|cc}\n\t& S1 & S2\\\\\n\t\\hline\n\t& Float64 & Float64\\\\\n\t\\hline\n\t1 & 5.1 & 3.5 \\\\\n\t2 & 4.9 & 3.0 \\\\\n\t3 & 4.7 & 3.2 \\\\\n\t4 & 4.6 & 3.1 \\\\\n\t5 & 5.0 & 3.6 \\\\\n\t6 & 5.4 & 3.9 \\\\\n\t7 & 4.6 & 3.4 \\\\\n\t8 & 5.0 & 3.4 \\\\\n\t9 & 4.4 & 2.9 \\\\\n\t10 & 4.9 & 3.1 \\\\\n\t11 & 5.4 & 3.7 \\\\\n\t12 & 4.8 & 3.4 \\\\\n\t13 & 4.8 & 3.0 \\\\\n\t14 & 4.3 & 3.0 \\\\\n\t15 & 5.8 & 4.0 \\\\\n\t16 & 5.7 & 4.4 \\\\\n\t17 & 5.4 & 3.9 \\\\\n\t18 & 5.1 & 3.5 \\\\\n\t19 & 5.7 & 3.8 \\\\\n\t20 & 5.1 & 3.8 \\\\\n\t21 & 5.4 & 3.4 \\\\\n\t22 & 5.1 & 3.7 \\\\\n\t23 & 4.6 & 3.6 \\\\\n\t24 & 5.1 & 3.3 \\\\\n\t25 & 4.8 & 3.4 \\\\\n\t26 & 5.0 & 3.0 \\\\\n\t27 & 5.0 & 3.4 \\\\\n\t28 & 5.2 & 3.5 \\\\\n\t29 & 5.2 & 3.4 \\\\\n\t30 & 4.7 & 3.2 \\\\\n\t$\\dots$ & $\\dots$ & $\\dots$ \\\\\n\\end{tabular}\n"
          },
          "metadata": {},
          "execution_count": 34
        }
      ]
    },
    {
      "cell_type": "code",
      "source": [
        "transform(iris, Not(:SepalLength))\n",
        "transform(iris, Not(:SepalLength)) == select(iris, Not(:SepalLength)) # true\n",
        "transform(iris, :SepalLength => s -> s * 2) # returns new column\n",
        "transform(iris, :SepalLength => (s -> s * 2) => :SepalLength2) # returns new column\n",
        "transform(iris, :SepalLength => s -> s * 2, [:SepalLength, :SepalWidth] => ((x,y) -> x[1] + x[2]) => :X)"
      ],
      "metadata": {
        "colab": {
          "base_uri": "https://localhost:8080/",
          "height": 630
        },
        "id": "VBqroxDZGeVl",
        "outputId": "0e0f4d2c-d977-4069-ab7b-d033e6787170"
      },
      "execution_count": 35,
      "outputs": [
        {
          "output_type": "execute_result",
          "data": {
            "text/plain": [
              "\u001b[1m150×7 DataFrame\u001b[0m\n",
              "\u001b[1m Row \u001b[0m│\u001b[1m SepalLength \u001b[0m\u001b[1m SepalWidth \u001b[0m\u001b[1m PetalLength \u001b[0m\u001b[1m PetalWidth \u001b[0m\u001b[1m Species   \u001b[0m\u001b[1m SepalLength_function \u001b[0m\u001b[1m X       \u001b[0m\n",
              "     │\u001b[90m Float64     \u001b[0m\u001b[90m Float64    \u001b[0m\u001b[90m Float64     \u001b[0m\u001b[90m Float64    \u001b[0m\u001b[90m Cat…      \u001b[0m\u001b[90m Float64              \u001b[0m\u001b[90m Float64 \u001b[0m\n",
              "─────┼────────────────────────────────────────────────────────────────────────────────────────────\n",
              "   1 │         5.1         3.5          1.4         0.2  setosa                     10.2     10.0\n",
              "   2 │         4.9         3.0          1.4         0.2  setosa                      9.8     10.0\n",
              "   3 │         4.7         3.2          1.3         0.2  setosa                      9.4     10.0\n",
              "   4 │         4.6         3.1          1.5         0.2  setosa                      9.2     10.0\n",
              "   5 │         5.0         3.6          1.4         0.2  setosa                     10.0     10.0\n",
              "   6 │         5.4         3.9          1.7         0.4  setosa                     10.8     10.0\n",
              "   7 │         4.6         3.4          1.4         0.3  setosa                      9.2     10.0\n",
              "   8 │         5.0         3.4          1.5         0.2  setosa                     10.0     10.0\n",
              "   9 │         4.4         2.9          1.4         0.2  setosa                      8.8     10.0\n",
              "  10 │         4.9         3.1          1.5         0.1  setosa                      9.8     10.0\n",
              "  11 │         5.4         3.7          1.5         0.2  setosa                     10.8     10.0\n",
              "  ⋮  │      ⋮           ⋮            ⋮           ⋮           ⋮               ⋮               ⋮\n",
              " 141 │         6.7         3.1          5.6         2.4  virginica                  13.4     10.0\n",
              " 142 │         6.9         3.1          5.1         2.3  virginica                  13.8     10.0\n",
              " 143 │         5.8         2.7          5.1         1.9  virginica                  11.6     10.0\n",
              " 144 │         6.8         3.2          5.9         2.3  virginica                  13.6     10.0\n",
              " 145 │         6.7         3.3          5.7         2.5  virginica                  13.4     10.0\n",
              " 146 │         6.7         3.0          5.2         2.3  virginica                  13.4     10.0\n",
              " 147 │         6.3         2.5          5.0         1.9  virginica                  12.6     10.0\n",
              " 148 │         6.5         3.0          5.2         2.0  virginica                  13.0     10.0\n",
              " 149 │         6.2         3.4          5.4         2.3  virginica                  12.4     10.0\n",
              " 150 │         5.9         3.0          5.1         1.8  virginica                  11.8     10.0\n",
              "\u001b[36m                                                                                  129 rows omitted\u001b[0m"
            ],
            "text/html": [
              "<div><div style = \"float: left;\"><span>150×7 DataFrame</span></div><div style = \"float: right;\"><span style = \"font-style: italic;\">125 rows omitted</span></div><div style = \"clear: both;\"></div></div><div class = \"data-frame\" style = \"overflow-x: scroll;\"><table class = \"data-frame\" style = \"margin-bottom: 6px;\"><thead><tr class = \"header\"><th class = \"rowNumber\" style = \"font-weight: bold; text-align: right;\">Row</th><th style = \"text-align: left;\">SepalLength</th><th style = \"text-align: left;\">SepalWidth</th><th style = \"text-align: left;\">PetalLength</th><th style = \"text-align: left;\">PetalWidth</th><th style = \"text-align: left;\">Species</th><th style = \"text-align: left;\">SepalLength_function</th><th style = \"text-align: left;\">X</th></tr><tr class = \"subheader headerLastRow\"><th class = \"rowNumber\" style = \"font-weight: bold; text-align: right;\"></th><th title = \"Float64\" style = \"text-align: left;\">Float64</th><th title = \"Float64\" style = \"text-align: left;\">Float64</th><th title = \"Float64\" style = \"text-align: left;\">Float64</th><th title = \"Float64\" style = \"text-align: left;\">Float64</th><th title = \"CategoricalArrays.CategoricalValue{String, UInt8}\" style = \"text-align: left;\">Cat…</th><th title = \"Float64\" style = \"text-align: left;\">Float64</th><th title = \"Float64\" style = \"text-align: left;\">Float64</th></tr></thead><tbody><tr><td class = \"rowNumber\" style = \"font-weight: bold; text-align: right;\">1</td><td style = \"text-align: right;\">5.1</td><td style = \"text-align: right;\">3.5</td><td style = \"text-align: right;\">1.4</td><td style = \"text-align: right;\">0.2</td><td style = \"text-align: left;\">setosa</td><td style = \"text-align: right;\">10.2</td><td style = \"text-align: right;\">10.0</td></tr><tr><td class = \"rowNumber\" style = \"font-weight: bold; text-align: right;\">2</td><td style = \"text-align: right;\">4.9</td><td style = \"text-align: right;\">3.0</td><td style = \"text-align: right;\">1.4</td><td style = \"text-align: right;\">0.2</td><td style = \"text-align: left;\">setosa</td><td style = \"text-align: right;\">9.8</td><td style = \"text-align: right;\">10.0</td></tr><tr><td class = \"rowNumber\" style = \"font-weight: bold; text-align: right;\">3</td><td style = \"text-align: right;\">4.7</td><td style = \"text-align: right;\">3.2</td><td style = \"text-align: right;\">1.3</td><td style = \"text-align: right;\">0.2</td><td style = \"text-align: left;\">setosa</td><td style = \"text-align: right;\">9.4</td><td style = \"text-align: right;\">10.0</td></tr><tr><td class = \"rowNumber\" style = \"font-weight: bold; text-align: right;\">4</td><td style = \"text-align: right;\">4.6</td><td style = \"text-align: right;\">3.1</td><td style = \"text-align: right;\">1.5</td><td style = \"text-align: right;\">0.2</td><td style = \"text-align: left;\">setosa</td><td style = \"text-align: right;\">9.2</td><td style = \"text-align: right;\">10.0</td></tr><tr><td class = \"rowNumber\" style = \"font-weight: bold; text-align: right;\">5</td><td style = \"text-align: right;\">5.0</td><td style = \"text-align: right;\">3.6</td><td style = \"text-align: right;\">1.4</td><td style = \"text-align: right;\">0.2</td><td style = \"text-align: left;\">setosa</td><td style = \"text-align: right;\">10.0</td><td style = \"text-align: right;\">10.0</td></tr><tr><td class = \"rowNumber\" style = \"font-weight: bold; text-align: right;\">6</td><td style = \"text-align: right;\">5.4</td><td style = \"text-align: right;\">3.9</td><td style = \"text-align: right;\">1.7</td><td style = \"text-align: right;\">0.4</td><td style = \"text-align: left;\">setosa</td><td style = \"text-align: right;\">10.8</td><td style = \"text-align: right;\">10.0</td></tr><tr><td class = \"rowNumber\" style = \"font-weight: bold; text-align: right;\">7</td><td style = \"text-align: right;\">4.6</td><td style = \"text-align: right;\">3.4</td><td style = \"text-align: right;\">1.4</td><td style = \"text-align: right;\">0.3</td><td style = \"text-align: left;\">setosa</td><td style = \"text-align: right;\">9.2</td><td style = \"text-align: right;\">10.0</td></tr><tr><td class = \"rowNumber\" style = \"font-weight: bold; text-align: right;\">8</td><td style = \"text-align: right;\">5.0</td><td style = \"text-align: right;\">3.4</td><td style = \"text-align: right;\">1.5</td><td style = \"text-align: right;\">0.2</td><td style = \"text-align: left;\">setosa</td><td style = \"text-align: right;\">10.0</td><td style = \"text-align: right;\">10.0</td></tr><tr><td class = \"rowNumber\" style = \"font-weight: bold; text-align: right;\">9</td><td style = \"text-align: right;\">4.4</td><td style = \"text-align: right;\">2.9</td><td style = \"text-align: right;\">1.4</td><td style = \"text-align: right;\">0.2</td><td style = \"text-align: left;\">setosa</td><td style = \"text-align: right;\">8.8</td><td style = \"text-align: right;\">10.0</td></tr><tr><td class = \"rowNumber\" style = \"font-weight: bold; text-align: right;\">10</td><td style = \"text-align: right;\">4.9</td><td style = \"text-align: right;\">3.1</td><td style = \"text-align: right;\">1.5</td><td style = \"text-align: right;\">0.1</td><td style = \"text-align: left;\">setosa</td><td style = \"text-align: right;\">9.8</td><td style = \"text-align: right;\">10.0</td></tr><tr><td class = \"rowNumber\" style = \"font-weight: bold; text-align: right;\">11</td><td style = \"text-align: right;\">5.4</td><td style = \"text-align: right;\">3.7</td><td style = \"text-align: right;\">1.5</td><td style = \"text-align: right;\">0.2</td><td style = \"text-align: left;\">setosa</td><td style = \"text-align: right;\">10.8</td><td style = \"text-align: right;\">10.0</td></tr><tr><td class = \"rowNumber\" style = \"font-weight: bold; text-align: right;\">12</td><td style = \"text-align: right;\">4.8</td><td style = \"text-align: right;\">3.4</td><td style = \"text-align: right;\">1.6</td><td style = \"text-align: right;\">0.2</td><td style = \"text-align: left;\">setosa</td><td style = \"text-align: right;\">9.6</td><td style = \"text-align: right;\">10.0</td></tr><tr><td class = \"rowNumber\" style = \"font-weight: bold; text-align: right;\">13</td><td style = \"text-align: right;\">4.8</td><td style = \"text-align: right;\">3.0</td><td style = \"text-align: right;\">1.4</td><td style = \"text-align: right;\">0.1</td><td style = \"text-align: left;\">setosa</td><td style = \"text-align: right;\">9.6</td><td style = \"text-align: right;\">10.0</td></tr><tr><td style = \"text-align: right;\">&vellip;</td><td style = \"text-align: right;\">&vellip;</td><td style = \"text-align: right;\">&vellip;</td><td style = \"text-align: right;\">&vellip;</td><td style = \"text-align: right;\">&vellip;</td><td style = \"text-align: right;\">&vellip;</td><td style = \"text-align: right;\">&vellip;</td><td style = \"text-align: right;\">&vellip;</td></tr><tr><td class = \"rowNumber\" style = \"font-weight: bold; text-align: right;\">139</td><td style = \"text-align: right;\">6.0</td><td style = \"text-align: right;\">3.0</td><td style = \"text-align: right;\">4.8</td><td style = \"text-align: right;\">1.8</td><td style = \"text-align: left;\">virginica</td><td style = \"text-align: right;\">12.0</td><td style = \"text-align: right;\">10.0</td></tr><tr><td class = \"rowNumber\" style = \"font-weight: bold; text-align: right;\">140</td><td style = \"text-align: right;\">6.9</td><td style = \"text-align: right;\">3.1</td><td style = \"text-align: right;\">5.4</td><td style = \"text-align: right;\">2.1</td><td style = \"text-align: left;\">virginica</td><td style = \"text-align: right;\">13.8</td><td style = \"text-align: right;\">10.0</td></tr><tr><td class = \"rowNumber\" style = \"font-weight: bold; text-align: right;\">141</td><td style = \"text-align: right;\">6.7</td><td style = \"text-align: right;\">3.1</td><td style = \"text-align: right;\">5.6</td><td style = \"text-align: right;\">2.4</td><td style = \"text-align: left;\">virginica</td><td style = \"text-align: right;\">13.4</td><td style = \"text-align: right;\">10.0</td></tr><tr><td class = \"rowNumber\" style = \"font-weight: bold; text-align: right;\">142</td><td style = \"text-align: right;\">6.9</td><td style = \"text-align: right;\">3.1</td><td style = \"text-align: right;\">5.1</td><td style = \"text-align: right;\">2.3</td><td style = \"text-align: left;\">virginica</td><td style = \"text-align: right;\">13.8</td><td style = \"text-align: right;\">10.0</td></tr><tr><td class = \"rowNumber\" style = \"font-weight: bold; text-align: right;\">143</td><td style = \"text-align: right;\">5.8</td><td style = \"text-align: right;\">2.7</td><td style = \"text-align: right;\">5.1</td><td style = \"text-align: right;\">1.9</td><td style = \"text-align: left;\">virginica</td><td style = \"text-align: right;\">11.6</td><td style = \"text-align: right;\">10.0</td></tr><tr><td class = \"rowNumber\" style = \"font-weight: bold; text-align: right;\">144</td><td style = \"text-align: right;\">6.8</td><td style = \"text-align: right;\">3.2</td><td style = \"text-align: right;\">5.9</td><td style = \"text-align: right;\">2.3</td><td style = \"text-align: left;\">virginica</td><td style = \"text-align: right;\">13.6</td><td style = \"text-align: right;\">10.0</td></tr><tr><td class = \"rowNumber\" style = \"font-weight: bold; text-align: right;\">145</td><td style = \"text-align: right;\">6.7</td><td style = \"text-align: right;\">3.3</td><td style = \"text-align: right;\">5.7</td><td style = \"text-align: right;\">2.5</td><td style = \"text-align: left;\">virginica</td><td style = \"text-align: right;\">13.4</td><td style = \"text-align: right;\">10.0</td></tr><tr><td class = \"rowNumber\" style = \"font-weight: bold; text-align: right;\">146</td><td style = \"text-align: right;\">6.7</td><td style = \"text-align: right;\">3.0</td><td style = \"text-align: right;\">5.2</td><td style = \"text-align: right;\">2.3</td><td style = \"text-align: left;\">virginica</td><td style = \"text-align: right;\">13.4</td><td style = \"text-align: right;\">10.0</td></tr><tr><td class = \"rowNumber\" style = \"font-weight: bold; text-align: right;\">147</td><td style = \"text-align: right;\">6.3</td><td style = \"text-align: right;\">2.5</td><td style = \"text-align: right;\">5.0</td><td style = \"text-align: right;\">1.9</td><td style = \"text-align: left;\">virginica</td><td style = \"text-align: right;\">12.6</td><td style = \"text-align: right;\">10.0</td></tr><tr><td class = \"rowNumber\" style = \"font-weight: bold; text-align: right;\">148</td><td style = \"text-align: right;\">6.5</td><td style = \"text-align: right;\">3.0</td><td style = \"text-align: right;\">5.2</td><td style = \"text-align: right;\">2.0</td><td style = \"text-align: left;\">virginica</td><td style = \"text-align: right;\">13.0</td><td style = \"text-align: right;\">10.0</td></tr><tr><td class = \"rowNumber\" style = \"font-weight: bold; text-align: right;\">149</td><td style = \"text-align: right;\">6.2</td><td style = \"text-align: right;\">3.4</td><td style = \"text-align: right;\">5.4</td><td style = \"text-align: right;\">2.3</td><td style = \"text-align: left;\">virginica</td><td style = \"text-align: right;\">12.4</td><td style = \"text-align: right;\">10.0</td></tr><tr><td class = \"rowNumber\" style = \"font-weight: bold; text-align: right;\">150</td><td style = \"text-align: right;\">5.9</td><td style = \"text-align: right;\">3.0</td><td style = \"text-align: right;\">5.1</td><td style = \"text-align: right;\">1.8</td><td style = \"text-align: left;\">virginica</td><td style = \"text-align: right;\">11.8</td><td style = \"text-align: right;\">10.0</td></tr></tbody></table></div>"
            ],
            "text/latex": "\\begin{tabular}{r|ccccccc}\n\t& SepalLength & SepalWidth & PetalLength & PetalWidth & Species & SepalLength\\_function & X\\\\\n\t\\hline\n\t& Float64 & Float64 & Float64 & Float64 & Cat… & Float64 & Float64\\\\\n\t\\hline\n\t1 & 5.1 & 3.5 & 1.4 & 0.2 & setosa & 10.2 & 10.0 \\\\\n\t2 & 4.9 & 3.0 & 1.4 & 0.2 & setosa & 9.8 & 10.0 \\\\\n\t3 & 4.7 & 3.2 & 1.3 & 0.2 & setosa & 9.4 & 10.0 \\\\\n\t4 & 4.6 & 3.1 & 1.5 & 0.2 & setosa & 9.2 & 10.0 \\\\\n\t5 & 5.0 & 3.6 & 1.4 & 0.2 & setosa & 10.0 & 10.0 \\\\\n\t6 & 5.4 & 3.9 & 1.7 & 0.4 & setosa & 10.8 & 10.0 \\\\\n\t7 & 4.6 & 3.4 & 1.4 & 0.3 & setosa & 9.2 & 10.0 \\\\\n\t8 & 5.0 & 3.4 & 1.5 & 0.2 & setosa & 10.0 & 10.0 \\\\\n\t9 & 4.4 & 2.9 & 1.4 & 0.2 & setosa & 8.8 & 10.0 \\\\\n\t10 & 4.9 & 3.1 & 1.5 & 0.1 & setosa & 9.8 & 10.0 \\\\\n\t11 & 5.4 & 3.7 & 1.5 & 0.2 & setosa & 10.8 & 10.0 \\\\\n\t12 & 4.8 & 3.4 & 1.6 & 0.2 & setosa & 9.6 & 10.0 \\\\\n\t13 & 4.8 & 3.0 & 1.4 & 0.1 & setosa & 9.6 & 10.0 \\\\\n\t14 & 4.3 & 3.0 & 1.1 & 0.1 & setosa & 8.6 & 10.0 \\\\\n\t15 & 5.8 & 4.0 & 1.2 & 0.2 & setosa & 11.6 & 10.0 \\\\\n\t16 & 5.7 & 4.4 & 1.5 & 0.4 & setosa & 11.4 & 10.0 \\\\\n\t17 & 5.4 & 3.9 & 1.3 & 0.4 & setosa & 10.8 & 10.0 \\\\\n\t18 & 5.1 & 3.5 & 1.4 & 0.3 & setosa & 10.2 & 10.0 \\\\\n\t19 & 5.7 & 3.8 & 1.7 & 0.3 & setosa & 11.4 & 10.0 \\\\\n\t20 & 5.1 & 3.8 & 1.5 & 0.3 & setosa & 10.2 & 10.0 \\\\\n\t21 & 5.4 & 3.4 & 1.7 & 0.2 & setosa & 10.8 & 10.0 \\\\\n\t22 & 5.1 & 3.7 & 1.5 & 0.4 & setosa & 10.2 & 10.0 \\\\\n\t23 & 4.6 & 3.6 & 1.0 & 0.2 & setosa & 9.2 & 10.0 \\\\\n\t24 & 5.1 & 3.3 & 1.7 & 0.5 & setosa & 10.2 & 10.0 \\\\\n\t25 & 4.8 & 3.4 & 1.9 & 0.2 & setosa & 9.6 & 10.0 \\\\\n\t26 & 5.0 & 3.0 & 1.6 & 0.2 & setosa & 10.0 & 10.0 \\\\\n\t27 & 5.0 & 3.4 & 1.6 & 0.4 & setosa & 10.0 & 10.0 \\\\\n\t28 & 5.2 & 3.5 & 1.5 & 0.2 & setosa & 10.4 & 10.0 \\\\\n\t29 & 5.2 & 3.4 & 1.4 & 0.2 & setosa & 10.4 & 10.0 \\\\\n\t30 & 4.7 & 3.2 & 1.6 & 0.2 & setosa & 9.4 & 10.0 \\\\\n\t$\\dots$ & $\\dots$ & $\\dots$ & $\\dots$ & $\\dots$ & $\\dots$ & $\\dots$ & $\\dots$ \\\\\n\\end{tabular}\n"
          },
          "metadata": {},
          "execution_count": 35
        }
      ]
    },
    {
      "cell_type": "code",
      "source": [
        "combine(iris, :SepalLength .=> sum)\n",
        "combine(iris, Not(:Species) .=> sum)\n",
        "combine(iris, :SepalLength => x -> sum(x * 10))"
      ],
      "metadata": {
        "colab": {
          "base_uri": "https://localhost:8080/",
          "height": 105
        },
        "id": "rz_FBwgLGeS9",
        "outputId": "f516508c-5232-4329-8ee0-94931ea68eb9"
      },
      "execution_count": 36,
      "outputs": [
        {
          "output_type": "execute_result",
          "data": {
            "text/plain": [
              "\u001b[1m1×1 DataFrame\u001b[0m\n",
              "\u001b[1m Row \u001b[0m│\u001b[1m SepalLength_function \u001b[0m\n",
              "     │\u001b[90m Float64              \u001b[0m\n",
              "─────┼──────────────────────\n",
              "   1 │               8765.0"
            ],
            "text/html": [
              "<div><div style = \"float: left;\"><span>1×1 DataFrame</span></div><div style = \"clear: both;\"></div></div><div class = \"data-frame\" style = \"overflow-x: scroll;\"><table class = \"data-frame\" style = \"margin-bottom: 6px;\"><thead><tr class = \"header\"><th class = \"rowNumber\" style = \"font-weight: bold; text-align: right;\">Row</th><th style = \"text-align: left;\">SepalLength_function</th></tr><tr class = \"subheader headerLastRow\"><th class = \"rowNumber\" style = \"font-weight: bold; text-align: right;\"></th><th title = \"Float64\" style = \"text-align: left;\">Float64</th></tr></thead><tbody><tr><td class = \"rowNumber\" style = \"font-weight: bold; text-align: right;\">1</td><td style = \"text-align: right;\">8765.0</td></tr></tbody></table></div>"
            ],
            "text/latex": "\\begin{tabular}{r|c}\n\t& SepalLength\\_function\\\\\n\t\\hline\n\t& Float64\\\\\n\t\\hline\n\t1 & 8765.0 \\\\\n\\end{tabular}\n"
          },
          "metadata": {},
          "execution_count": 36
        }
      ]
    },
    {
      "cell_type": "code",
      "source": [
        "df = DataFrame(x=[1, 2, missing], y=[1, missing, missing])\n",
        "combine(df, All() .=> x -> x * 10)\n",
        "combine(df, All() .=> x -> sum(x * 10))\n",
        "combine(df, All() .=> x -> sum(skipmissing(x * 10)))"
      ],
      "metadata": {
        "colab": {
          "base_uri": "https://localhost:8080/",
          "height": 105
        },
        "id": "WwJAW1a0GeQG",
        "outputId": "11e976a2-0fad-4359-f08b-f646ac684f88"
      },
      "execution_count": 37,
      "outputs": [
        {
          "output_type": "execute_result",
          "data": {
            "text/plain": [
              "\u001b[1m1×2 DataFrame\u001b[0m\n",
              "\u001b[1m Row \u001b[0m│\u001b[1m x_function \u001b[0m\u001b[1m y_function \u001b[0m\n",
              "     │\u001b[90m Int64      \u001b[0m\u001b[90m Int64      \u001b[0m\n",
              "─────┼────────────────────────\n",
              "   1 │         30          10"
            ],
            "text/html": [
              "<div><div style = \"float: left;\"><span>1×2 DataFrame</span></div><div style = \"clear: both;\"></div></div><div class = \"data-frame\" style = \"overflow-x: scroll;\"><table class = \"data-frame\" style = \"margin-bottom: 6px;\"><thead><tr class = \"header\"><th class = \"rowNumber\" style = \"font-weight: bold; text-align: right;\">Row</th><th style = \"text-align: left;\">x_function</th><th style = \"text-align: left;\">y_function</th></tr><tr class = \"subheader headerLastRow\"><th class = \"rowNumber\" style = \"font-weight: bold; text-align: right;\"></th><th title = \"Int64\" style = \"text-align: left;\">Int64</th><th title = \"Int64\" style = \"text-align: left;\">Int64</th></tr></thead><tbody><tr><td class = \"rowNumber\" style = \"font-weight: bold; text-align: right;\">1</td><td style = \"text-align: right;\">30</td><td style = \"text-align: right;\">10</td></tr></tbody></table></div>"
            ],
            "text/latex": "\\begin{tabular}{r|cc}\n\t& x\\_function & y\\_function\\\\\n\t\\hline\n\t& Int64 & Int64\\\\\n\t\\hline\n\t1 & 30 & 10 \\\\\n\\end{tabular}\n"
          },
          "metadata": {},
          "execution_count": 37
        }
      ]
    },
    {
      "cell_type": "code",
      "source": [
        "gd = groupby(iris, :Species)\n",
        "combine(gd, :SepalLength => sum)\n",
        "combine(gd, Not(:Species) .=> sum)\n",
        "combine(gd, Not(:Species) .=> sum, DataFrames.nrow)\n",
        "using Statistics\n",
        "combine(gd, Not(:Species) .=> mean, DataFrames.nrow)\n",
        "\n",
        "combine(gd, AsTable([:SepalLength, :PetalLength]) => ByRow((x) -> x[1] / x[2]) => :Ratio)"
      ],
      "metadata": {
        "colab": {
          "base_uri": "https://localhost:8080/",
          "height": 630
        },
        "id": "e4F79KmMGeNP",
        "outputId": "eeb38cd1-1728-47e1-9833-4f53e35a0194"
      },
      "execution_count": 38,
      "outputs": [
        {
          "output_type": "execute_result",
          "data": {
            "text/plain": [
              "\u001b[1m150×2 DataFrame\u001b[0m\n",
              "\u001b[1m Row \u001b[0m│\u001b[1m Species   \u001b[0m\u001b[1m Ratio   \u001b[0m\n",
              "     │\u001b[90m Cat…      \u001b[0m\u001b[90m Float64 \u001b[0m\n",
              "─────┼────────────────────\n",
              "   1 │ setosa     3.64286\n",
              "   2 │ setosa     3.5\n",
              "   3 │ setosa     3.61538\n",
              "   4 │ setosa     3.06667\n",
              "   5 │ setosa     3.57143\n",
              "   6 │ setosa     3.17647\n",
              "   7 │ setosa     3.28571\n",
              "   8 │ setosa     3.33333\n",
              "   9 │ setosa     3.14286\n",
              "  10 │ setosa     3.26667\n",
              "  11 │ setosa     3.6\n",
              "  ⋮  │     ⋮         ⋮\n",
              " 141 │ virginica  1.19643\n",
              " 142 │ virginica  1.35294\n",
              " 143 │ virginica  1.13725\n",
              " 144 │ virginica  1.15254\n",
              " 145 │ virginica  1.17544\n",
              " 146 │ virginica  1.28846\n",
              " 147 │ virginica  1.26\n",
              " 148 │ virginica  1.25\n",
              " 149 │ virginica  1.14815\n",
              " 150 │ virginica  1.15686\n",
              "\u001b[36m          129 rows omitted\u001b[0m"
            ],
            "text/html": [
              "<div><div style = \"float: left;\"><span>150×2 DataFrame</span></div><div style = \"float: right;\"><span style = \"font-style: italic;\">125 rows omitted</span></div><div style = \"clear: both;\"></div></div><div class = \"data-frame\" style = \"overflow-x: scroll;\"><table class = \"data-frame\" style = \"margin-bottom: 6px;\"><thead><tr class = \"header\"><th class = \"rowNumber\" style = \"font-weight: bold; text-align: right;\">Row</th><th style = \"text-align: left;\">Species</th><th style = \"text-align: left;\">Ratio</th></tr><tr class = \"subheader headerLastRow\"><th class = \"rowNumber\" style = \"font-weight: bold; text-align: right;\"></th><th title = \"CategoricalArrays.CategoricalValue{String, UInt8}\" style = \"text-align: left;\">Cat…</th><th title = \"Float64\" style = \"text-align: left;\">Float64</th></tr></thead><tbody><tr><td class = \"rowNumber\" style = \"font-weight: bold; text-align: right;\">1</td><td style = \"text-align: left;\">setosa</td><td style = \"text-align: right;\">3.64286</td></tr><tr><td class = \"rowNumber\" style = \"font-weight: bold; text-align: right;\">2</td><td style = \"text-align: left;\">setosa</td><td style = \"text-align: right;\">3.5</td></tr><tr><td class = \"rowNumber\" style = \"font-weight: bold; text-align: right;\">3</td><td style = \"text-align: left;\">setosa</td><td style = \"text-align: right;\">3.61538</td></tr><tr><td class = \"rowNumber\" style = \"font-weight: bold; text-align: right;\">4</td><td style = \"text-align: left;\">setosa</td><td style = \"text-align: right;\">3.06667</td></tr><tr><td class = \"rowNumber\" style = \"font-weight: bold; text-align: right;\">5</td><td style = \"text-align: left;\">setosa</td><td style = \"text-align: right;\">3.57143</td></tr><tr><td class = \"rowNumber\" style = \"font-weight: bold; text-align: right;\">6</td><td style = \"text-align: left;\">setosa</td><td style = \"text-align: right;\">3.17647</td></tr><tr><td class = \"rowNumber\" style = \"font-weight: bold; text-align: right;\">7</td><td style = \"text-align: left;\">setosa</td><td style = \"text-align: right;\">3.28571</td></tr><tr><td class = \"rowNumber\" style = \"font-weight: bold; text-align: right;\">8</td><td style = \"text-align: left;\">setosa</td><td style = \"text-align: right;\">3.33333</td></tr><tr><td class = \"rowNumber\" style = \"font-weight: bold; text-align: right;\">9</td><td style = \"text-align: left;\">setosa</td><td style = \"text-align: right;\">3.14286</td></tr><tr><td class = \"rowNumber\" style = \"font-weight: bold; text-align: right;\">10</td><td style = \"text-align: left;\">setosa</td><td style = \"text-align: right;\">3.26667</td></tr><tr><td class = \"rowNumber\" style = \"font-weight: bold; text-align: right;\">11</td><td style = \"text-align: left;\">setosa</td><td style = \"text-align: right;\">3.6</td></tr><tr><td class = \"rowNumber\" style = \"font-weight: bold; text-align: right;\">12</td><td style = \"text-align: left;\">setosa</td><td style = \"text-align: right;\">3.0</td></tr><tr><td class = \"rowNumber\" style = \"font-weight: bold; text-align: right;\">13</td><td style = \"text-align: left;\">setosa</td><td style = \"text-align: right;\">3.42857</td></tr><tr><td style = \"text-align: right;\">&vellip;</td><td style = \"text-align: right;\">&vellip;</td><td style = \"text-align: right;\">&vellip;</td></tr><tr><td class = \"rowNumber\" style = \"font-weight: bold; text-align: right;\">139</td><td style = \"text-align: left;\">virginica</td><td style = \"text-align: right;\">1.25</td></tr><tr><td class = \"rowNumber\" style = \"font-weight: bold; text-align: right;\">140</td><td style = \"text-align: left;\">virginica</td><td style = \"text-align: right;\">1.27778</td></tr><tr><td class = \"rowNumber\" style = \"font-weight: bold; text-align: right;\">141</td><td style = \"text-align: left;\">virginica</td><td style = \"text-align: right;\">1.19643</td></tr><tr><td class = \"rowNumber\" style = \"font-weight: bold; text-align: right;\">142</td><td style = \"text-align: left;\">virginica</td><td style = \"text-align: right;\">1.35294</td></tr><tr><td class = \"rowNumber\" style = \"font-weight: bold; text-align: right;\">143</td><td style = \"text-align: left;\">virginica</td><td style = \"text-align: right;\">1.13725</td></tr><tr><td class = \"rowNumber\" style = \"font-weight: bold; text-align: right;\">144</td><td style = \"text-align: left;\">virginica</td><td style = \"text-align: right;\">1.15254</td></tr><tr><td class = \"rowNumber\" style = \"font-weight: bold; text-align: right;\">145</td><td style = \"text-align: left;\">virginica</td><td style = \"text-align: right;\">1.17544</td></tr><tr><td class = \"rowNumber\" style = \"font-weight: bold; text-align: right;\">146</td><td style = \"text-align: left;\">virginica</td><td style = \"text-align: right;\">1.28846</td></tr><tr><td class = \"rowNumber\" style = \"font-weight: bold; text-align: right;\">147</td><td style = \"text-align: left;\">virginica</td><td style = \"text-align: right;\">1.26</td></tr><tr><td class = \"rowNumber\" style = \"font-weight: bold; text-align: right;\">148</td><td style = \"text-align: left;\">virginica</td><td style = \"text-align: right;\">1.25</td></tr><tr><td class = \"rowNumber\" style = \"font-weight: bold; text-align: right;\">149</td><td style = \"text-align: left;\">virginica</td><td style = \"text-align: right;\">1.14815</td></tr><tr><td class = \"rowNumber\" style = \"font-weight: bold; text-align: right;\">150</td><td style = \"text-align: left;\">virginica</td><td style = \"text-align: right;\">1.15686</td></tr></tbody></table></div>"
            ],
            "text/latex": "\\begin{tabular}{r|cc}\n\t& Species & Ratio\\\\\n\t\\hline\n\t& Cat… & Float64\\\\\n\t\\hline\n\t1 & setosa & 3.64286 \\\\\n\t2 & setosa & 3.5 \\\\\n\t3 & setosa & 3.61538 \\\\\n\t4 & setosa & 3.06667 \\\\\n\t5 & setosa & 3.57143 \\\\\n\t6 & setosa & 3.17647 \\\\\n\t7 & setosa & 3.28571 \\\\\n\t8 & setosa & 3.33333 \\\\\n\t9 & setosa & 3.14286 \\\\\n\t10 & setosa & 3.26667 \\\\\n\t11 & setosa & 3.6 \\\\\n\t12 & setosa & 3.0 \\\\\n\t13 & setosa & 3.42857 \\\\\n\t14 & setosa & 3.90909 \\\\\n\t15 & setosa & 4.83333 \\\\\n\t16 & setosa & 3.8 \\\\\n\t17 & setosa & 4.15385 \\\\\n\t18 & setosa & 3.64286 \\\\\n\t19 & setosa & 3.35294 \\\\\n\t20 & setosa & 3.4 \\\\\n\t21 & setosa & 3.17647 \\\\\n\t22 & setosa & 3.4 \\\\\n\t23 & setosa & 4.6 \\\\\n\t24 & setosa & 3.0 \\\\\n\t25 & setosa & 2.52632 \\\\\n\t26 & setosa & 3.125 \\\\\n\t27 & setosa & 3.125 \\\\\n\t28 & setosa & 3.46667 \\\\\n\t29 & setosa & 3.71429 \\\\\n\t30 & setosa & 2.9375 \\\\\n\t$\\dots$ & $\\dots$ & $\\dots$ \\\\\n\\end{tabular}\n"
          },
          "metadata": {},
          "execution_count": 38
        }
      ]
    },
    {
      "cell_type": "code",
      "source": [
        "using TSFrames\n",
        "ts = TSFrame(1:10)\n",
        "ts = TSFrame(1:10, 2301: 2310)"
      ],
      "metadata": {
        "colab": {
          "base_uri": "https://localhost:8080/"
        },
        "id": "-4He2AVCGqcu",
        "outputId": "3ba75958-3427-4cca-bc9a-74c58cc5bea8"
      },
      "execution_count": 39,
      "outputs": [
        {
          "output_type": "stream",
          "name": "stderr",
          "text": [
            "WARNING: using TSFrames.describe in module Main conflicts with an existing identifier.\n",
            "WARNING: using TSFrames.nrow in module Main conflicts with an existing identifier.\n"
          ]
        },
        {
          "output_type": "execute_result",
          "data": {
            "text/plain": [
              "\u001b[1m10×1 TSFrame with Int64 Index\u001b[0m\n",
              "\u001b[1m Index \u001b[0m\u001b[1m x1    \u001b[0m\n",
              "\u001b[90m Int64 \u001b[0m\u001b[90m Int64 \u001b[0m\n",
              "──────────────\n",
              "  2301      1\n",
              "  2302      2\n",
              "  2303      3\n",
              "  2304      4\n",
              "  2305      5\n",
              "  2306      6\n",
              "  2307      7\n",
              "  2308      8\n",
              "  2309      9\n",
              "  2310     10"
            ]
          },
          "metadata": {},
          "execution_count": 39
        }
      ]
    },
    {
      "cell_type": "code",
      "source": [
        "using MarketData\n",
        "aapl_df = DataFrame(MarketData.yahoo(:AAPL))\n",
        "aapl_ts = TSFrame(MarketData.yahoo(:AAPL))\n",
        "aapl_ts = CSV.read(\"aapl.csv\", TSFrame)"
      ],
      "metadata": {
        "colab": {
          "base_uri": "https://localhost:8080/"
        },
        "id": "DvnSxJLUGeKo",
        "outputId": "4cf02ca2-e6d7-480f-e7fd-a47615e17d88"
      },
      "execution_count": 41,
      "outputs": [
        {
          "output_type": "execute_result",
          "data": {
            "text/plain": [
              "\u001b[1m11088×6 TSFrame with Date Index\u001b[0m\n",
              "\u001b[1m Index      \u001b[0m\u001b[1m Open       \u001b[0m\u001b[1m High       \u001b[0m\u001b[1m Low        \u001b[0m\u001b[1m Close      \u001b[0m\u001b[1m AdjClose    \u001b[0m\u001b[1m Volume    \u001b[0m\n",
              "\u001b[90m Date       \u001b[0m\u001b[90m Float64    \u001b[0m\u001b[90m Float64    \u001b[0m\u001b[90m Float64    \u001b[0m\u001b[90m Float64    \u001b[0m\u001b[90m Float64     \u001b[0m\u001b[90m Float64   \u001b[0m\n",
              "────────────────────────────────────────────────────────────────────────────────────\n",
              " 1980-12-12    0.128348    0.128906    0.128348    0.128348    0.0988345  4.69034e8\n",
              " 1980-12-15    0.12221     0.12221     0.121652    0.121652    0.0936782  1.75885e8\n",
              " 1980-12-16    0.113281    0.113281    0.112723    0.112723    0.0868024  1.05728e8\n",
              " 1980-12-17    0.115513    0.116071    0.115513    0.115513    0.0889509  8.64416e7\n",
              " 1980-12-18    0.118862    0.11942     0.118862    0.118862    0.0915298  7.34496e7\n",
              " 1980-12-19    0.126116    0.126674    0.126116    0.126116    0.0971157  4.86304e7\n",
              " 1980-12-22    0.132254    0.132813    0.132254    0.132254    0.101842   3.73632e7\n",
              " 1980-12-23    0.137835    0.138393    0.137835    0.137835    0.10614    4.69504e7\n",
              " 1980-12-24    0.145089    0.145647    0.145089    0.145089    0.111726   4.80032e7\n",
              " 1980-12-26    0.158482    0.15904     0.158482    0.158482    0.122039   5.55744e7\n",
              " 1980-12-29    0.160714    0.161272    0.160714    0.160714    0.123758   9.31616e7\n",
              "     ⋮           ⋮           ⋮           ⋮           ⋮            ⋮           ⋮\n",
              " 2024-11-21  228.88      230.16      225.71      228.52      228.52       4.21083e7\n",
              " 2024-11-22  228.06      230.72      228.06      229.87      229.87       3.81683e7\n",
              " 2024-11-25  231.46      233.25      229.74      232.87      232.87       9.01528e7\n",
              " 2024-11-26  233.33      235.57      233.33      235.06      235.06       4.59862e7\n",
              " 2024-11-27  234.47      235.69      233.81      234.93      234.93       3.34984e7\n",
              " 2024-11-29  234.81      237.81      233.97      237.33      237.33       2.84814e7\n",
              " 2024-12-02  237.27      240.79      237.16      239.59      239.59       4.81371e7\n",
              " 2024-12-03  239.81      242.76      238.9       242.65      242.65       3.8861e7\n",
              " 2024-12-04  242.87      244.11      241.25      243.01      243.01       4.4353e7\n",
              " 2024-12-05  244.05      244.54      242.23      242.59      242.59       1.09565e7\n",
              "\u001b[36m                                                                  11067 rows omitted\u001b[0m"
            ]
          },
          "metadata": {},
          "execution_count": 41
        }
      ]
    },
    {
      "cell_type": "code",
      "source": [
        "nr(aapl_ts)\n",
        "nc(aapl_ts)\n",
        "size(aapl_ts)\n",
        "length(aapl_ts)\n",
        "names(aapl_ts)\n",
        "index(aapl_ts)\n",
        "TSFrames.describe(aapl_ts)"
      ],
      "metadata": {
        "colab": {
          "base_uri": "https://localhost:8080/",
          "height": 231
        },
        "id": "EE_7EyPIGeIS",
        "outputId": "269be50b-af64-4861-81a9-3bd29c8e22ec"
      },
      "execution_count": 43,
      "outputs": [
        {
          "output_type": "execute_result",
          "data": {
            "text/plain": [
              "\u001b[1m7×7 DataFrame\u001b[0m\n",
              "\u001b[1m Row \u001b[0m│\u001b[1m variable \u001b[0m\u001b[1m mean      \u001b[0m\u001b[1m min        \u001b[0m\u001b[1m median    \u001b[0m\u001b[1m max        \u001b[0m\u001b[1m nmissing \u001b[0m\u001b[1m eltype   \u001b[0m\n",
              "     │\u001b[90m Symbol   \u001b[0m\u001b[90m Union…    \u001b[0m\u001b[90m Any        \u001b[0m\u001b[90m Union…    \u001b[0m\u001b[90m Any        \u001b[0m\u001b[90m Int64    \u001b[0m\u001b[90m DataType \u001b[0m\n",
              "─────┼────────────────────────────────────────────────────────────────────────────\n",
              "   1 │ Index    \u001b[90m           \u001b[0m 1980-12-12 \u001b[90m           \u001b[0m 2024-12-05         0  Date\n",
              "   2 │ Open      23.953     0.049665    0.540179   244.05             0  Float64\n",
              "   3 │ High      24.2085    0.049665    0.549107   244.54             0  Float64\n",
              "   4 │ Low       23.7092    0.049107    0.53125    242.23             0  Float64\n",
              "   5 │ Close     23.9704    0.049107    0.540179   243.01             0  Float64\n",
              "   6 │ AdjClose  23.1336    0.0378149   0.442486   243.01             0  Float64\n",
              "   7 │ Volume    3.15893e8  0.0         2.03896e8  7.42164e9          0  Float64"
            ],
            "text/html": [
              "<div><div style = \"float: left;\"><span>7×7 DataFrame</span></div><div style = \"clear: both;\"></div></div><div class = \"data-frame\" style = \"overflow-x: scroll;\"><table class = \"data-frame\" style = \"margin-bottom: 6px;\"><thead><tr class = \"header\"><th class = \"rowNumber\" style = \"font-weight: bold; text-align: right;\">Row</th><th style = \"text-align: left;\">variable</th><th style = \"text-align: left;\">mean</th><th style = \"text-align: left;\">min</th><th style = \"text-align: left;\">median</th><th style = \"text-align: left;\">max</th><th style = \"text-align: left;\">nmissing</th><th style = \"text-align: left;\">eltype</th></tr><tr class = \"subheader headerLastRow\"><th class = \"rowNumber\" style = \"font-weight: bold; text-align: right;\"></th><th title = \"Symbol\" style = \"text-align: left;\">Symbol</th><th title = \"Union{Nothing, Float64}\" style = \"text-align: left;\">Union…</th><th title = \"Any\" style = \"text-align: left;\">Any</th><th title = \"Union{Nothing, Float64}\" style = \"text-align: left;\">Union…</th><th title = \"Any\" style = \"text-align: left;\">Any</th><th title = \"Int64\" style = \"text-align: left;\">Int64</th><th title = \"DataType\" style = \"text-align: left;\">DataType</th></tr></thead><tbody><tr><td class = \"rowNumber\" style = \"font-weight: bold; text-align: right;\">1</td><td style = \"text-align: left;\">Index</td><td style = \"font-style: italic; text-align: left;\"></td><td style = \"text-align: left;\">1980-12-12</td><td style = \"font-style: italic; text-align: left;\"></td><td style = \"text-align: left;\">2024-12-05</td><td style = \"text-align: right;\">0</td><td style = \"text-align: left;\">Date</td></tr><tr><td class = \"rowNumber\" style = \"font-weight: bold; text-align: right;\">2</td><td style = \"text-align: left;\">Open</td><td style = \"text-align: left;\">23.953</td><td style = \"text-align: left;\">0.049665</td><td style = \"text-align: left;\">0.540179</td><td style = \"text-align: left;\">244.05</td><td style = \"text-align: right;\">0</td><td style = \"text-align: left;\">Float64</td></tr><tr><td class = \"rowNumber\" style = \"font-weight: bold; text-align: right;\">3</td><td style = \"text-align: left;\">High</td><td style = \"text-align: left;\">24.2085</td><td style = \"text-align: left;\">0.049665</td><td style = \"text-align: left;\">0.549107</td><td style = \"text-align: left;\">244.54</td><td style = \"text-align: right;\">0</td><td style = \"text-align: left;\">Float64</td></tr><tr><td class = \"rowNumber\" style = \"font-weight: bold; text-align: right;\">4</td><td style = \"text-align: left;\">Low</td><td style = \"text-align: left;\">23.7092</td><td style = \"text-align: left;\">0.049107</td><td style = \"text-align: left;\">0.53125</td><td style = \"text-align: left;\">242.23</td><td style = \"text-align: right;\">0</td><td style = \"text-align: left;\">Float64</td></tr><tr><td class = \"rowNumber\" style = \"font-weight: bold; text-align: right;\">5</td><td style = \"text-align: left;\">Close</td><td style = \"text-align: left;\">23.9704</td><td style = \"text-align: left;\">0.049107</td><td style = \"text-align: left;\">0.540179</td><td style = \"text-align: left;\">243.01</td><td style = \"text-align: right;\">0</td><td style = \"text-align: left;\">Float64</td></tr><tr><td class = \"rowNumber\" style = \"font-weight: bold; text-align: right;\">6</td><td style = \"text-align: left;\">AdjClose</td><td style = \"text-align: left;\">23.1336</td><td style = \"text-align: left;\">0.0378149</td><td style = \"text-align: left;\">0.442486</td><td style = \"text-align: left;\">243.01</td><td style = \"text-align: right;\">0</td><td style = \"text-align: left;\">Float64</td></tr><tr><td class = \"rowNumber\" style = \"font-weight: bold; text-align: right;\">7</td><td style = \"text-align: left;\">Volume</td><td style = \"text-align: left;\">3.15893e8</td><td style = \"text-align: left;\">0.0</td><td style = \"text-align: left;\">2.03896e8</td><td style = \"text-align: left;\">7.42164e9</td><td style = \"text-align: right;\">0</td><td style = \"text-align: left;\">Float64</td></tr></tbody></table></div>"
            ],
            "text/latex": "\\begin{tabular}{r|ccccccc}\n\t& variable & mean & min & median & max & nmissing & eltype\\\\\n\t\\hline\n\t& Symbol & Union… & Any & Union… & Any & Int64 & DataType\\\\\n\t\\hline\n\t1 & Index &  & 1980-12-12 &  & 2024-12-05 & 0 & Date \\\\\n\t2 & Open & 23.953 & 0.049665 & 0.540179 & 244.05 & 0 & Float64 \\\\\n\t3 & High & 24.2085 & 0.049665 & 0.549107 & 244.54 & 0 & Float64 \\\\\n\t4 & Low & 23.7092 & 0.049107 & 0.53125 & 242.23 & 0 & Float64 \\\\\n\t5 & Close & 23.9704 & 0.049107 & 0.540179 & 243.01 & 0 & Float64 \\\\\n\t6 & AdjClose & 23.1336 & 0.0378149 & 0.442486 & 243.01 & 0 & Float64 \\\\\n\t7 & Volume & 3.15893e8 & 0.0 & 2.03896e8 & 7.42164e9 & 0 & Float64 \\\\\n\\end{tabular}\n"
          },
          "metadata": {},
          "execution_count": 43
        }
      ]
    },
    {
      "cell_type": "code",
      "source": [
        "aapl_ts[1]\n",
        "aapl_ts[2, 1]\n",
        "aapl_ts[2, [1]]\n",
        "aapl_ts[[2, 3], [1, 2, 3, 4]]\n",
        "aapl_ts[[2, 3], [:Open, :High, :Low, :Close]]\n",
        "aapl_ts.Open\n"
      ],
      "metadata": {
        "colab": {
          "base_uri": "https://localhost:8080/"
        },
        "id": "YQq_Lth5GeFJ",
        "outputId": "c5ca7673-2c37-4b36-c514-14d73a80be2c"
      },
      "execution_count": 44,
      "outputs": [
        {
          "output_type": "execute_result",
          "data": {
            "text/plain": [
              "11088-element Vector{Float64}:\n",
              "   0.1283479928970337\n",
              "   0.12221000343561172\n",
              "   0.1132809966802597\n",
              "   0.11551299691200256\n",
              "   0.11886200308799744\n",
              "   0.12611599266529083\n",
              "   0.1322540044784546\n",
              "   0.13783499598503113\n",
              "   0.14508900046348572\n",
              "   0.15848200023174286\n",
              "   0.16071400046348572\n",
              "   0.15736599266529083\n",
              "   0.1529020071029663\n",
              "   ⋮\n",
              " 226.97999572753906\n",
              " 228.05999755859375\n",
              " 228.8800048828125\n",
              " 228.05999755859375\n",
              " 231.4600067138672\n",
              " 233.3300018310547\n",
              " 234.47000122070312\n",
              " 234.80999755859375\n",
              " 237.27000427246094\n",
              " 239.80999755859375\n",
              " 242.8699951171875\n",
              " 244.0500030517578"
            ]
          },
          "metadata": {},
          "execution_count": 44
        }
      ]
    },
    {
      "cell_type": "code",
      "source": [
        "aapl_ts[Date(2007, 1, 10)]\n",
        "aapl_ts[Date(2007, 1, 10), [:Open, :High, :Low, :Close]]\n",
        "aapl_ts[Year(2007), Month(1)]\n",
        "aapl_ts[Year(2007), Month(1)][:, [:Open, :High, :Low, :Close]]\n",
        "aapl_ts[Year(2007), Quarter(1)][:, [:Open, :High, :Low, :Close]]"
      ],
      "metadata": {
        "colab": {
          "base_uri": "https://localhost:8080/"
        },
        "id": "e2TIvwf0GeCT",
        "outputId": "6a78d201-6d0a-4e2c-cf63-dff5baf5c549"
      },
      "execution_count": 45,
      "outputs": [
        {
          "output_type": "execute_result",
          "data": {
            "text/plain": [
              "\u001b[1m61×4 TSFrame with Date Index\u001b[0m\n",
              "\u001b[1m Index      \u001b[0m\u001b[1m Open    \u001b[0m\u001b[1m High    \u001b[0m\u001b[1m Low     \u001b[0m\u001b[1m Close   \u001b[0m\n",
              "\u001b[90m Date       \u001b[0m\u001b[90m Float64 \u001b[0m\u001b[90m Float64 \u001b[0m\u001b[90m Float64 \u001b[0m\u001b[90m Float64 \u001b[0m\n",
              "────────────────────────────────────────────────\n",
              " 2007-01-03  3.08179  3.09214  2.925    2.99286\n",
              " 2007-01-04  3.00179  3.06964  2.99357  3.05929\n",
              " 2007-01-05  3.06321  3.07857  3.01429  3.0375\n",
              " 2007-01-08  3.07     3.09036  3.04571  3.0525\n",
              " 2007-01-09  3.0875   3.32071  3.04107  3.30607\n",
              " 2007-01-10  3.38393  3.49286  3.3375   3.46429\n",
              " 2007-01-11  3.42643  3.45643  3.39643  3.42143\n",
              " 2007-01-12  3.37821  3.395    3.32964  3.37929\n",
              " 2007-01-16  3.41714  3.47321  3.40893  3.46786\n",
              " 2007-01-17  3.48429  3.48571  3.38643  3.39107\n",
              " 2007-01-18  3.28929  3.28964  3.18036  3.18107\n",
              "     ⋮          ⋮        ⋮        ⋮        ⋮\n",
              " 2007-03-19  3.22286  3.26964  3.19964  3.25464\n",
              " 2007-03-20  3.2625   3.28     3.25214  3.26714\n",
              " 2007-03-21  3.28536  3.35714  3.27321  3.3525\n",
              " 2007-03-22  3.3475   3.37     3.32143  3.35571\n",
              " 2007-03-23  3.33393  3.35964  3.33214  3.34\n",
              " 2007-03-26  3.35679  3.425    3.33214  3.42321\n",
              " 2007-03-27  3.41821  3.45821  3.39286  3.40929\n",
              " 2007-03-28  3.38857  3.40714  3.32679  3.33\n",
              " 2007-03-29  3.36393  3.36393  3.29393  3.34821\n",
              " 2007-03-30  3.36714  3.38143  3.3125   3.31821\n",
              "\u001b[36m                                 40 rows omitted\u001b[0m"
            ]
          },
          "metadata": {},
          "execution_count": 45
        }
      ]
    },
    {
      "cell_type": "code",
      "source": [
        "# Pkg.add(\"Plots\")\n",
        "# using Plots\n",
        "# plot(aapl_ts, [:AdjClose])"
      ],
      "metadata": {
        "id": "kBz6WfqnGd_L"
      },
      "execution_count": null,
      "outputs": []
    },
    {
      "cell_type": "code",
      "source": [
        "aapl_monthly = apply(aapl_ts, Month(1), last)\n",
        "aapl_weekly = apply(aapl_ts, Week(1), Statistics.std)\n",
        "aapl_weekly = apply(aapl_ts, Week(1), Statistics.std, last)"
      ],
      "metadata": {
        "colab": {
          "base_uri": "https://localhost:8080/"
        },
        "id": "ktzdyDQwGd8D",
        "outputId": "52370065-65eb-40ab-b4c9-8955842cc619"
      },
      "execution_count": 46,
      "outputs": [
        {
          "output_type": "execute_result",
          "data": {
            "text/plain": [
              "\u001b[1m2296×6 TSFrame with Date Index\u001b[0m\n",
              "\u001b[1m Index      \u001b[0m\u001b[1m Open_std     \u001b[0m\u001b[1m High_std     \u001b[0m\u001b[1m Low_std      \u001b[0m\u001b[1m Close_std    \u001b[0m\u001b[1m AdjClose_std \u001b[0m\u001b[1m Volume_std  \u001b[0m\n",
              "\u001b[90m Date       \u001b[0m\u001b[90m Float64      \u001b[0m\u001b[90m Float64      \u001b[0m\u001b[90m Float64      \u001b[0m\u001b[90m Float64      \u001b[0m\u001b[90m Float64      \u001b[0m\u001b[90m Float64     \u001b[0m\n",
              "───────────────────────────────────────────────────────────────────────────────────────────────\n",
              " 1980-12-12  NaN           NaN           NaN           NaN           NaN           NaN\n",
              " 1980-12-19    0.00513892    0.00522604    0.00522604    0.00522604    0.00402431    4.82168e7\n",
              " 1980-12-26    0.0113361     0.0113358     0.0113361     0.0113361     0.00872939    7.46981e6\n",
              " 1981-01-02    0.0035291     0.00356931    0.00365905    0.00365905    0.00281765    3.23055e7\n",
              " 1981-01-09    0.00601539    0.00601797    0.00601797    0.00601797    0.00463415    1.25715e7\n",
              " 1981-01-16    0.00231418    0.0023209     0.00205022    0.00205022    0.00157877    5.19512e6\n",
              " 1981-01-23    0.00171987    0.00202732    0.00187574    0.00187574    0.0014444     1.29128e7\n",
              " 1981-01-30    0.00726937    0.00726937    0.00735666    0.00735666    0.00566501    1.08649e7\n",
              " 1981-02-06    0.003878      0.00418686    0.00409284    0.00409284    0.00315171    7.8912e6\n",
              " 1981-02-13    0.00321548    0.003339      0.00337162    0.00337162    0.00259631    2.76427e6\n",
              " 1981-02-20    0.00529404    0.00577021    0.00555241    0.00555241    0.00427565    5.28777e6\n",
              "     ⋮            ⋮             ⋮             ⋮             ⋮             ⋮             ⋮\n",
              " 2024-10-04    2.15973       2.49348       2.75907       3.00363       3.00033       1.36988e7\n",
              " 2024-10-11    2.21048       2.043         2.57446       3.17124       3.16775       4.14473e6\n",
              " 2024-10-18    2.76953       2.51331       2.13599       1.55356       1.55184       1.29644e7\n",
              " 2024-10-25    2.35441       2.45249       2.86078       2.90428       2.90108       7.83178e6\n",
              " 2024-11-01    5.22814       3.96627       5.20664       4.71219       4.70701       1.46121e7\n",
              " 2024-11-08    2.48546       2.50185       2.77798       2.51993       2.57915       9.64507e6\n",
              " 2024-11-15    0.886413      1.32111       1.35422       1.65232       1.65232       3.57541e6\n",
              " 2024-11-22    1.40089       0.367859      1.1203        0.728502      0.728502      4.02395e6\n",
              " 2024-11-29    1.51066       1.86315       2.00024       1.82257       1.82257       2.80644e7\n",
              " 2024-12-05    3.06205       1.68675       2.29187       1.59085       1.59085       1.68496e7\n",
              "\u001b[36m                                                                              2275 rows omitted\u001b[0m"
            ]
          },
          "metadata": {},
          "execution_count": 46
        }
      ]
    },
    {
      "cell_type": "code",
      "source": [
        "ibm_ts = TSFrame(MarketData.yahoo(:IBM))"
      ],
      "metadata": {
        "colab": {
          "base_uri": "https://localhost:8080/"
        },
        "id": "QAnSkzPyGd2l",
        "outputId": "2d605f3c-9e1b-4975-ea7b-7f604555f7db"
      },
      "execution_count": 47,
      "outputs": [
        {
          "output_type": "execute_result",
          "data": {
            "text/plain": [
              "\u001b[1m13575×6 TSFrame with Date Index\u001b[0m\n",
              "\u001b[1m Index      \u001b[0m\u001b[1m Open     \u001b[0m\u001b[1m High     \u001b[0m\u001b[1m Low      \u001b[0m\u001b[1m Close    \u001b[0m\u001b[1m AdjClose  \u001b[0m\u001b[1m Volume        \u001b[0m\n",
              "\u001b[90m Date       \u001b[0m\u001b[90m Float64  \u001b[0m\u001b[90m Float64  \u001b[0m\u001b[90m Float64  \u001b[0m\u001b[90m Float64  \u001b[0m\u001b[90m Float64   \u001b[0m\u001b[90m Float64       \u001b[0m\n",
              "──────────────────────────────────────────────────────────────────────────────\n",
              " 1971-02-08   16.0851   16.336    15.8939   16.2882    3.49648  719648.0\n",
              " 1971-02-09   16.2882   16.3121   16.1687   16.1807    3.47339  673624.0\n",
              " 1971-02-10   16.1568   16.1568   15.9775   16.1209    3.46057  648520.0\n",
              " 1971-02-11   16.1209   16.2285   16.097    16.1926    3.47596  579484.0\n",
              " 1971-02-12   16.1926   16.2285   16.1329   16.2285    3.48365  382836.0\n",
              " 1971-02-16   16.2285   16.4197   16.1926   16.3301    3.50546  684084.0\n",
              " 1971-02-17   16.2703   16.2703   16.0492   16.0851    3.45287  652704.0\n",
              " 1971-02-18   16.0851   16.1209   15.7385   15.7385    3.37848  822156.0\n",
              " 1971-02-19   15.7385   15.858    15.631    15.6907    3.36822  692452.0\n",
              " 1971-02-22   15.6907   15.8222   15.6071   15.7983    3.3913   548104.0\n",
              " 1971-02-23   15.7983   16.0373   15.7624   16.0253    3.44005  382836.0\n",
              "     ⋮          ⋮         ⋮         ⋮         ⋮          ⋮            ⋮\n",
              " 2024-11-21  215.81    222.63    215.27    222.4     222.4           5.2364e6\n",
              " 2024-11-22  223.35    227.2     220.89    222.97    222.97          5.3207e6\n",
              " 2024-11-25  223.35    226.42    222.65    226.13    226.13          7.1893e6\n",
              " 2024-11-26  226.73    228.98    225.51    228.83    228.83          4.4495e6\n",
              " 2024-11-27  228.83    229.19    224.27    226.92    226.92          2.9951e6\n",
              " 2024-11-29  227.75    230.36    227.19    227.41    227.41          2.6403e6\n",
              " 2024-12-02  227.5     228.38    225.51    227.39    227.39          2.6559e6\n",
              " 2024-12-03  227.24    229.11    226.67    229.0     229.0           3.1638e6\n",
              " 2024-12-04  230.0     233.74    229.35    233.49    233.49          4.1042e6\n",
              " 2024-12-05  233.55    236.52    233.46    234.75    234.75          4.7883e6\n",
              "\u001b[36m                                                            13554 rows omitted\u001b[0m"
            ]
          },
          "metadata": {},
          "execution_count": 47
        }
      ]
    },
    {
      "cell_type": "code",
      "source": [
        "date_from = Date(2021, 06, 01);\n",
        "date_to = Date(2021, 12, 31);\n",
        "ibm = TSFrames.subset(ibm_ts, date_from, date_to)\n",
        "aapl = TSFrames.subset(aapl_ts, date_from, date_to)"
      ],
      "metadata": {
        "colab": {
          "base_uri": "https://localhost:8080/"
        },
        "id": "NlL9MK5rHGkJ",
        "outputId": "65ab6cf4-6866-4e39-f880-b7df0965cdf8"
      },
      "execution_count": 48,
      "outputs": [
        {
          "output_type": "execute_result",
          "data": {
            "text/plain": [
              "\u001b[1m150×6 TSFrame with Date Index\u001b[0m\n",
              "\u001b[1m Index      \u001b[0m\u001b[1m Open    \u001b[0m\u001b[1m High    \u001b[0m\u001b[1m Low     \u001b[0m\u001b[1m Close   \u001b[0m\u001b[1m AdjClose \u001b[0m\u001b[1m Volume    \u001b[0m\n",
              "\u001b[90m Date       \u001b[0m\u001b[90m Float64 \u001b[0m\u001b[90m Float64 \u001b[0m\u001b[90m Float64 \u001b[0m\u001b[90m Float64 \u001b[0m\u001b[90m Float64  \u001b[0m\u001b[90m Float64   \u001b[0m\n",
              "─────────────────────────────────────────────────────────────────────\n",
              " 2021-06-01   125.08   125.35   123.94   124.28   121.916  6.76371e7\n",
              " 2021-06-02   124.28   125.24   124.05   125.06   122.681  5.92789e7\n",
              " 2021-06-03   124.68   124.85   123.13   123.54   121.19   7.62292e7\n",
              " 2021-06-04   124.07   126.16   123.85   125.89   123.496  7.51693e7\n",
              " 2021-06-07   126.17   126.32   124.83   125.9    123.505  7.10576e7\n",
              " 2021-06-08   126.6    128.46   126.21   126.74   124.329  7.44038e7\n",
              " 2021-06-09   127.21   127.75   126.52   127.13   124.712  5.68779e7\n",
              " 2021-06-10   127.02   128.19   125.94   126.11   123.711  7.11864e7\n",
              " 2021-06-11   126.53   127.44   126.1    127.35   124.928  5.35224e7\n",
              " 2021-06-14   127.82   130.54   127.07   130.48   127.998  9.69065e7\n",
              " 2021-06-15   129.94   130.6    129.39   129.64   127.174  6.27463e7\n",
              "     ⋮          ⋮        ⋮        ⋮        ⋮        ⋮          ⋮\n",
              " 2021-12-17   169.93   173.47   169.69   171.14   168.382  1.95433e8\n",
              " 2021-12-20   168.28   170.58   167.46   169.75   167.014  1.07499e8\n",
              " 2021-12-21   171.56   173.2    169.12   172.99   170.202  9.11859e7\n",
              " 2021-12-22   173.04   175.86   172.15   175.64   172.809  9.21353e7\n",
              " 2021-12-23   175.85   176.85   175.27   176.28   173.439  6.83566e7\n",
              " 2021-12-27   177.09   180.42   177.07   180.33   177.424  7.49196e7\n",
              " 2021-12-28   180.16   181.33   178.53   179.29   176.4    7.91443e7\n",
              " 2021-12-29   179.33   180.63   178.14   179.38   176.489  6.23489e7\n",
              " 2021-12-30   179.47   180.57   178.09   178.2    175.328  5.9773e7\n",
              " 2021-12-31   178.09   179.23   177.26   177.57   174.708  6.40623e7\n",
              "\u001b[36m                                                     129 rows omitted\u001b[0m"
            ]
          },
          "metadata": {},
          "execution_count": 48
        }
      ]
    },
    {
      "cell_type": "code",
      "source": [
        "ibm_aapl = TSFrames.join(ibm[:, [\"AdjClose\"]], aapl[:, [\"AdjClose\"]]; jointype = :JoinBoth)"
      ],
      "metadata": {
        "colab": {
          "base_uri": "https://localhost:8080/"
        },
        "id": "A9v52OOcGduy",
        "outputId": "7bdc4f4b-b243-482b-d037-4392ec76a4c9"
      },
      "execution_count": 49,
      "outputs": [
        {
          "output_type": "execute_result",
          "data": {
            "text/plain": [
              "\u001b[1m150×2 TSFrame with Date Index\u001b[0m\n",
              "\u001b[1m Index      \u001b[0m\u001b[1m AdjClose \u001b[0m\u001b[1m AdjClose_1 \u001b[0m\n",
              "\u001b[90m Date       \u001b[0m\u001b[90m Float64  \u001b[0m\u001b[90m Float64    \u001b[0m\n",
              "──────────────────────────────────\n",
              " 2021-06-01   117.809     121.916\n",
              " 2021-06-02   119.06      122.681\n",
              " 2021-06-03   118.921     121.19\n",
              " 2021-06-04   120.448     123.496\n",
              " 2021-06-07   120.939     123.505\n",
              " 2021-06-08   121.797     124.329\n",
              " 2021-06-09   123.104     124.712\n",
              " 2021-06-10   122.998     123.711\n",
              " 2021-06-11   123.602     124.928\n",
              " 2021-06-14   122.581     127.998\n",
              " 2021-06-15   122.034     127.174\n",
              "     ⋮          ⋮          ⋮\n",
              " 2021-12-17   111.603     168.382\n",
              " 2021-12-20   111.305     167.014\n",
              " 2021-12-21   112.978     170.202\n",
              " 2021-12-22   113.661     172.809\n",
              " 2021-12-23   114.432     173.439\n",
              " 2021-12-27   115.299     177.424\n",
              " 2021-12-28   116.184     176.4\n",
              " 2021-12-29   116.815     176.489\n",
              " 2021-12-30   117.305     175.328\n",
              " 2021-12-31   117.086     174.708\n",
              "\u001b[36m                  129 rows omitted\u001b[0m"
            ]
          },
          "metadata": {},
          "execution_count": 49
        }
      ]
    },
    {
      "cell_type": "code",
      "source": [
        "TSFrames.rename!(ibm_aapl, [:IBM, :AAPL])"
      ],
      "metadata": {
        "colab": {
          "base_uri": "https://localhost:8080/"
        },
        "id": "GnOcu7gYHLCB",
        "outputId": "0a80a4c0-c0d2-4788-d9cc-8dfa8eda18d2"
      },
      "execution_count": 50,
      "outputs": [
        {
          "output_type": "execute_result",
          "data": {
            "text/plain": [
              "\u001b[1m150×2 TSFrame with Date Index\u001b[0m\n",
              "\u001b[1m Index      \u001b[0m\u001b[1m IBM     \u001b[0m\u001b[1m AAPL    \u001b[0m\n",
              "\u001b[90m Date       \u001b[0m\u001b[90m Float64 \u001b[0m\u001b[90m Float64 \u001b[0m\n",
              "──────────────────────────────\n",
              " 2021-06-01  117.809  121.916\n",
              " 2021-06-02  119.06   122.681\n",
              " 2021-06-03  118.921  121.19\n",
              " 2021-06-04  120.448  123.496\n",
              " 2021-06-07  120.939  123.505\n",
              " 2021-06-08  121.797  124.329\n",
              " 2021-06-09  123.104  124.712\n",
              " 2021-06-10  122.998  123.711\n",
              " 2021-06-11  123.602  124.928\n",
              " 2021-06-14  122.581  127.998\n",
              " 2021-06-15  122.034  127.174\n",
              "     ⋮          ⋮        ⋮\n",
              " 2021-12-17  111.603  168.382\n",
              " 2021-12-20  111.305  167.014\n",
              " 2021-12-21  112.978  170.202\n",
              " 2021-12-22  113.661  172.809\n",
              " 2021-12-23  114.432  173.439\n",
              " 2021-12-27  115.299  177.424\n",
              " 2021-12-28  116.184  176.4\n",
              " 2021-12-29  116.815  176.489\n",
              " 2021-12-30  117.305  175.328\n",
              " 2021-12-31  117.086  174.708\n",
              "\u001b[36m              129 rows omitted\u001b[0m"
            ]
          },
          "metadata": {},
          "execution_count": 50
        }
      ]
    },
    {
      "cell_type": "code",
      "source": [
        "using Impute\n",
        "ibm_aapl = ibm_aapl |> Impute.locf()"
      ],
      "metadata": {
        "colab": {
          "base_uri": "https://localhost:8080/"
        },
        "id": "9onpYz71HK_a",
        "outputId": "a82183cc-a015-4ce8-980b-8c4083b305c5"
      },
      "execution_count": 51,
      "outputs": [
        {
          "output_type": "execute_result",
          "data": {
            "text/plain": [
              "\u001b[1m150×2 TSFrame with Date Index\u001b[0m\n",
              "\u001b[1m Index      \u001b[0m\u001b[1m IBM     \u001b[0m\u001b[1m AAPL    \u001b[0m\n",
              "\u001b[90m Date       \u001b[0m\u001b[90m Float64 \u001b[0m\u001b[90m Float64 \u001b[0m\n",
              "──────────────────────────────\n",
              " 2021-06-01  117.809  121.916\n",
              " 2021-06-02  119.06   122.681\n",
              " 2021-06-03  118.921  121.19\n",
              " 2021-06-04  120.448  123.496\n",
              " 2021-06-07  120.939  123.505\n",
              " 2021-06-08  121.797  124.329\n",
              " 2021-06-09  123.104  124.712\n",
              " 2021-06-10  122.998  123.711\n",
              " 2021-06-11  123.602  124.928\n",
              " 2021-06-14  122.581  127.998\n",
              " 2021-06-15  122.034  127.174\n",
              "     ⋮          ⋮        ⋮\n",
              " 2021-12-17  111.603  168.382\n",
              " 2021-12-20  111.305  167.014\n",
              " 2021-12-21  112.978  170.202\n",
              " 2021-12-22  113.661  172.809\n",
              " 2021-12-23  114.432  173.439\n",
              " 2021-12-27  115.299  177.424\n",
              " 2021-12-28  116.184  176.4\n",
              " 2021-12-29  116.815  176.489\n",
              " 2021-12-30  117.305  175.328\n",
              " 2021-12-31  117.086  174.708\n",
              "\u001b[36m              129 rows omitted\u001b[0m"
            ]
          },
          "metadata": {},
          "execution_count": 51
        }
      ]
    },
    {
      "cell_type": "code",
      "source": [
        "ibm_aapl_weekly = to_weekly(ibm_aapl)"
      ],
      "metadata": {
        "colab": {
          "base_uri": "https://localhost:8080/"
        },
        "id": "lbLcFdCQHK8i",
        "outputId": "aa084622-85eb-469f-c822-478e3e20194c"
      },
      "execution_count": 52,
      "outputs": [
        {
          "output_type": "execute_result",
          "data": {
            "text/plain": [
              "\u001b[1m31×2 TSFrame with Date Index\u001b[0m\n",
              "\u001b[1m Index      \u001b[0m\u001b[1m IBM     \u001b[0m\u001b[1m AAPL    \u001b[0m\n",
              "\u001b[90m Date       \u001b[0m\u001b[90m Float64 \u001b[0m\u001b[90m Float64 \u001b[0m\n",
              "──────────────────────────────\n",
              " 2021-06-04  120.448  123.496\n",
              " 2021-06-11  123.602  124.928\n",
              " 2021-06-18  116.935  127.979\n",
              " 2021-06-25  119.975  130.578\n",
              " 2021-07-02  114.402  137.298\n",
              " 2021-07-09  115.628  142.35\n",
              " 2021-07-16  113.487  143.606\n",
              " 2021-07-23  115.481  145.734\n",
              " 2021-07-30  115.17   143.086\n",
              " 2021-08-06  117.728  143.575\n",
              " 2021-08-13  118.331  146.483\n",
              "     ⋮          ⋮        ⋮\n",
              " 2021-10-29  103.389  147.171\n",
              " 2021-11-05  106.857  148.842\n",
              " 2021-11-12  104.209  147.573\n",
              " 2021-11-19  101.66   157.962\n",
              " 2021-11-26  101.45   154.283\n",
              " 2021-12-03  104.104  159.232\n",
              " 2021-12-10  108.703  176.558\n",
              " 2021-12-17  111.603  168.382\n",
              " 2021-12-23  114.432  173.439\n",
              " 2021-12-31  117.086  174.708\n",
              "\u001b[36m               10 rows omitted\u001b[0m"
            ]
          },
          "metadata": {},
          "execution_count": 52
        }
      ]
    },
    {
      "cell_type": "code",
      "source": [
        "ibm_aapl_weekly_returns = diff(log.(ibm_aapl_weekly))"
      ],
      "metadata": {
        "colab": {
          "base_uri": "https://localhost:8080/"
        },
        "id": "MUvLFiyoHK59",
        "outputId": "664fd53b-6756-4f04-83ef-342215129f3c"
      },
      "execution_count": 53,
      "outputs": [
        {
          "output_type": "execute_result",
          "data": {
            "text/plain": [
              "\u001b[1m31×2 TSFrame with Date Index\u001b[0m\n",
              "\u001b[1m Index      \u001b[0m\u001b[1m IBM_log           \u001b[0m\u001b[1m AAPL_log         \u001b[0m\n",
              "\u001b[90m Date       \u001b[0m\u001b[90m Float64?          \u001b[0m\u001b[90m Float64?         \u001b[0m\n",
              "─────────────────────────────────────────────────\n",
              " 2021-06-04 \u001b[90m missing           \u001b[0m\u001b[90m missing          \u001b[0m\n",
              " 2021-06-11        0.0258466          0.0115307\n",
              " 2021-06-18       -0.055449           0.0241275\n",
              " 2021-06-25        0.0256603          0.0201091\n",
              " 2021-07-02       -0.0475583          0.0501808\n",
              " 2021-07-09        0.0106556          0.0361354\n",
              " 2021-07-16       -0.0186868          0.00878227\n",
              " 2021-07-23        0.0174143          0.0147146\n",
              " 2021-07-30       -0.00269226        -0.0183416\n",
              " 2021-08-06        0.0219619          0.00341488\n",
              " 2021-08-13        0.00511147         0.0200523\n",
              "     ⋮               ⋮                 ⋮\n",
              " 2021-10-29       -0.0219787          0.00743724\n",
              " 2021-11-05        0.0329914          0.01129\n",
              " 2021-11-12       -0.0250883         -0.00856391\n",
              " 2021-11-19       -0.0247661          0.0680369\n",
              " 2021-11-26       -0.00207039        -0.0235706\n",
              " 2021-12-03        0.0258271          0.0315733\n",
              " 2021-12-10        0.0432292          0.103288\n",
              " 2021-12-17        0.0263245         -0.0474146\n",
              " 2021-12-23        0.0250373          0.0295918\n",
              " 2021-12-31        0.0229303          0.00729127\n",
              "\u001b[36m                                  10 rows omitted\u001b[0m"
            ]
          },
          "metadata": {},
          "execution_count": 53
        }
      ]
    },
    {
      "cell_type": "code",
      "source": [
        "TSFrames.rename!(ibm_aapl_weekly_returns, [:IBM, :AAPL])"
      ],
      "metadata": {
        "id": "8z8QT92hJojw",
        "outputId": "4e851ada-6d0d-458b-c2af-632182845959",
        "colab": {
          "base_uri": "https://localhost:8080/"
        }
      },
      "execution_count": 55,
      "outputs": [
        {
          "output_type": "execute_result",
          "data": {
            "text/plain": [
              "\u001b[1m31×2 TSFrame with Date Index\u001b[0m\n",
              "\u001b[1m Index      \u001b[0m\u001b[1m IBM               \u001b[0m\u001b[1m AAPL             \u001b[0m\n",
              "\u001b[90m Date       \u001b[0m\u001b[90m Float64?          \u001b[0m\u001b[90m Float64?         \u001b[0m\n",
              "─────────────────────────────────────────────────\n",
              " 2021-06-04 \u001b[90m missing           \u001b[0m\u001b[90m missing          \u001b[0m\n",
              " 2021-06-11        0.0258466          0.0115307\n",
              " 2021-06-18       -0.055449           0.0241275\n",
              " 2021-06-25        0.0256603          0.0201091\n",
              " 2021-07-02       -0.0475583          0.0501808\n",
              " 2021-07-09        0.0106556          0.0361354\n",
              " 2021-07-16       -0.0186868          0.00878227\n",
              " 2021-07-23        0.0174143          0.0147146\n",
              " 2021-07-30       -0.00269226        -0.0183416\n",
              " 2021-08-06        0.0219619          0.00341488\n",
              " 2021-08-13        0.00511147         0.0200523\n",
              "     ⋮               ⋮                 ⋮\n",
              " 2021-10-29       -0.0219787          0.00743724\n",
              " 2021-11-05        0.0329914          0.01129\n",
              " 2021-11-12       -0.0250883         -0.00856391\n",
              " 2021-11-19       -0.0247661          0.0680369\n",
              " 2021-11-26       -0.00207039        -0.0235706\n",
              " 2021-12-03        0.0258271          0.0315733\n",
              " 2021-12-10        0.0432292          0.103288\n",
              " 2021-12-17        0.0263245         -0.0474146\n",
              " 2021-12-23        0.0250373          0.0295918\n",
              " 2021-12-31        0.0229303          0.00729127\n",
              "\u001b[36m                                  10 rows omitted\u001b[0m"
            ]
          },
          "metadata": {},
          "execution_count": 55
        }
      ]
    },
    {
      "cell_type": "code",
      "source": [
        "ibm_std = std(skipmissing(ibm_aapl_weekly_returns[:, :IBM]))"
      ],
      "metadata": {
        "id": "9ugcjbyrHmQB",
        "outputId": "f9222708-fe68-4bcf-f9c9-65b0482fcf0c",
        "colab": {
          "base_uri": "https://localhost:8080/"
        }
      },
      "execution_count": 56,
      "outputs": [
        {
          "output_type": "execute_result",
          "data": {
            "text/plain": [
              "0.034079281937703855"
            ]
          },
          "metadata": {},
          "execution_count": 56
        }
      ]
    },
    {
      "cell_type": "markdown",
      "metadata": {
        "id": "8RC1QNNqk6h1"
      },
      "source": [
        "# References\n",
        "\n",
        "- Working with DataFrames: https://dataframes.juliadata.org/stable/man/working_with_dataframes/\n",
        "- DataFrames API reference: https://dataframes.juliadata.org/stable/lib/functions/\n",
        "- TSFrames user guide: https://xkdr.github.io/TSFrames.jl/stable/user_guide/\n",
        "- Basic demo of TSFrames: https://xkdr.github.io/TSFrames.jl/stable/demo_finance/"
      ]
    },
    {
      "cell_type": "markdown",
      "metadata": {
        "id": "2UMidUQB03vJ"
      },
      "source": [
        "Add new code cells by clicking the `+ Code` button (or _Insert_ > _Code cell_).\n",
        "\n",
        "Have fun!\n",
        "\n",
        "<img src=\"https://raw.githubusercontent.com/JuliaLang/julia-logo-graphics/master/images/julia-logo-mask.png\" height=\"100\" />"
      ]
    }
  ]
}