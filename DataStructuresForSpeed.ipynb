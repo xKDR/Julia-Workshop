{
  "nbformat": 4,
  "nbformat_minor": 0,
  "metadata": {
    "colab": {
      "provenance": [],
      "include_colab_link": true
    },
    "kernelspec": {
      "display_name": "Julia",
      "language": "julia",
      "name": "julia"
    },
    "language_info": {
      "file_extension": ".jl",
      "mimetype": "application/julia",
      "name": "julia"
    },
    "gpuClass": "standard"
  },
  "cells": [
    {
      "cell_type": "markdown",
      "metadata": {
        "id": "view-in-github",
        "colab_type": "text"
      },
      "source": [
        "<a href=\"https://colab.research.google.com/github/xKDR/Julia-Workshop/blob/main/DataStructuresForSpeed.ipynb\" target=\"_parent\"><img src=\"https://colab.research.google.com/assets/colab-badge.svg\" alt=\"Open In Colab\"/></a>"
      ]
    },
    {
      "cell_type": "markdown",
      "metadata": {
        "id": "tQ1r1bbb0yBv"
      },
      "source": [
        "# <img src=\"https://github.com/JuliaLang/julia-logo-graphics/raw/master/images/julia-logo-color.png\" height=\"100\" /> _Colab Notebook Template_\n",
        "\n",
        "## Instructions\n",
        "1. Work on a copy of this notebook: _File_ > _Save a copy in Drive_ (you will need a Google account). Alternatively, you can download the notebook using _File_ > _Download .ipynb_, then upload it to [Colab](https://colab.research.google.com/).\n",
        "2. If you need a GPU: _Runtime_ > _Change runtime type_ > _Harware accelerator_ = _GPU_.\n",
        "3. Execute the following cell (click on it and press Ctrl+Enter) to install Julia, IJulia and other packages (if needed, update `JULIA_VERSION` and the other parameters). This takes a couple of minutes.\n",
        "4. Reload this page (press Ctrl+R, or ⌘+R, or the F5 key) and continue to the next section.\n",
        "\n",
        "_Notes_:\n",
        "* If your Colab Runtime gets reset (e.g., due to inactivity), repeat steps 2, 3 and 4.\n",
        "* After installation, if you want to change the Julia version or activate/deactivate the GPU, you will need to reset the Runtime: _Runtime_ > _Factory reset runtime_ and repeat steps 3 and 4."
      ]
    },
    {
      "cell_type": "code",
      "metadata": {
        "id": "GIeFXS0F0zww",
        "colab": {
          "base_uri": "https://localhost:8080/"
        },
        "outputId": "ada4f2aa-2969-49d5-805e-71aa430fc27b"
      },
      "source": [
        "%%shell\n",
        "set -e\n",
        "\n",
        "#---------------------------------------------------#\n",
        "JULIA_VERSION=\"1.10.4\" # any version ≥ 0.7.0\n",
        "JULIA_PACKAGES=\"IJulia BenchmarkTools\"\n",
        "JULIA_PACKAGES_IF_GPU=\"CUDA\" # or CuArrays for older Julia versions\n",
        "JULIA_NUM_THREADS=2\n",
        "#---------------------------------------------------#\n",
        "\n",
        "if [ -z `which julia` ]; then\n",
        "  # Install Julia\n",
        "  JULIA_VER=`cut -d '.' -f -2 <<< \"$JULIA_VERSION\"`\n",
        "  echo \"Installing Julia $JULIA_VERSION on the current Colab Runtime...\"\n",
        "  BASE_URL=\"https://julialang-s3.julialang.org/bin/linux/x64\"\n",
        "  URL=\"$BASE_URL/$JULIA_VER/julia-$JULIA_VERSION-linux-x86_64.tar.gz\"\n",
        "  wget -nv $URL -O /tmp/julia.tar.gz # -nv means \"not verbose\"\n",
        "  tar -x -f /tmp/julia.tar.gz -C /usr/local --strip-components 1\n",
        "  rm /tmp/julia.tar.gz\n",
        "\n",
        "  # Install Packages\n",
        "  nvidia-smi -L &> /dev/null && export GPU=1 || export GPU=0\n",
        "  if [ $GPU -eq 1 ]; then\n",
        "    JULIA_PACKAGES=\"$JULIA_PACKAGES $JULIA_PACKAGES_IF_GPU\"\n",
        "  fi\n",
        "  for PKG in `echo $JULIA_PACKAGES`; do\n",
        "    echo \"Installing Julia package $PKG...\"\n",
        "    julia -e 'using Pkg; pkg\"add '$PKG'; precompile;\"' &> /dev/null\n",
        "  done\n",
        "\n",
        "  # Install kernel and rename it to \"julia\"\n",
        "  echo \"Installing IJulia kernel...\"\n",
        "  julia -e 'using IJulia; IJulia.installkernel(\"julia\", env=Dict(\n",
        "      \"JULIA_NUM_THREADS\"=>\"'\"$JULIA_NUM_THREADS\"'\"))'\n",
        "  KERNEL_DIR=`julia -e \"using IJulia; print(IJulia.kerneldir())\"`\n",
        "  KERNEL_NAME=`ls -d \"$KERNEL_DIR\"/julia*`\n",
        "  mv -f $KERNEL_NAME \"$KERNEL_DIR\"/julia\n",
        "\n",
        "  echo ''\n",
        "  echo \"Successfully installed `julia -v`!\"\n",
        "  echo \"Please reload this page (press Ctrl+R, ⌘+R, or the F5 key) then\"\n",
        "  echo \"jump to the 'Checking the Installation' section.\"\n",
        "fi"
      ],
      "execution_count": null,
      "outputs": [
        {
          "output_type": "stream",
          "name": "stdout",
          "text": [
            "Installing Julia 1.10.4 on the current Colab Runtime...\n",
            "2024-10-23 05:56:43 URL:https://julialang-s3.julialang.org/bin/linux/x64/1.10/julia-1.10.4-linux-x86_64.tar.gz [173704015/173704015] -> \"/tmp/julia.tar.gz\" [1]\n",
            "Installing Julia package IJulia...\n",
            "Installing Julia package BenchmarkTools...\n"
          ]
        }
      ]
    },
    {
      "cell_type": "code",
      "metadata": {
        "id": "EEzvvzCl1i0F",
        "outputId": "c14c5fba-a994-41fe-9946-ef642bdab366",
        "colab": {
          "base_uri": "https://localhost:8080/"
        }
      },
      "source": [
        "versioninfo()"
      ],
      "execution_count": null,
      "outputs": [
        {
          "output_type": "stream",
          "name": "stdout",
          "text": [
            "Julia Version 1.10.4\n",
            "Commit 48d4fd48430 (2024-06-04 10:41 UTC)\n",
            "Build Info:\n",
            "  Official https://julialang.org/ release\n",
            "Platform Info:\n",
            "  OS: Linux (x86_64-linux-gnu)\n",
            "  CPU: 2 × Intel(R) Xeon(R) CPU @ 2.20GHz\n",
            "  WORD_SIZE: 64\n",
            "  LIBM: libopenlibm\n",
            "  LLVM: libLLVM-15.0.7 (ORCJIT, broadwell)\n",
            "Threads: 2 default, 0 interactive, 1 GC (on 2 virtual cores)\n",
            "Environment:\n",
            "  LD_LIBRARY_PATH = /usr/local/nvidia/lib:/usr/local/nvidia/lib64\n",
            "  JULIA_NUM_THREADS = 2\n"
          ]
        }
      ]
    },
    {
      "cell_type": "code",
      "source": [
        "using BenchmarkTools\n",
        "\n",
        "M = rand(2^11, 2^11)\n",
        "\n",
        "@btime $M * $M;"
      ],
      "metadata": {
        "id": "YjM_qq54lCcs",
        "outputId": "59461170-854b-4c60-d4e0-ac99ba566a9e",
        "colab": {
          "base_uri": "https://localhost:8080/"
        }
      },
      "execution_count": null,
      "outputs": [
        {
          "output_type": "stream",
          "name": "stdout",
          "text": [
            "  555.310 ms (2 allocations: 32.00 MiB)\n"
          ]
        }
      ]
    },
    {
      "cell_type": "code",
      "metadata": {
        "id": "XciCcMAJOT3_"
      },
      "source": [
        "try\n",
        "    using CUDA\n",
        "catch\n",
        "    println(\"No GPU found.\")\n",
        "else\n",
        "    run(`nvidia-smi`)\n",
        "    # Create a new random matrix directly on the GPU:\n",
        "    M_on_gpu = CUDA.CURAND.rand(2^11, 2^11)\n",
        "    @btime $M_on_gpu * $M_on_gpu; nothing\n",
        "end"
      ],
      "execution_count": null,
      "outputs": []
    },
    {
      "cell_type": "markdown",
      "source": [
        "# Data structures for speed"
      ],
      "metadata": {
        "id": "9eXKPq7AFLxF"
      }
    },
    {
      "cell_type": "markdown",
      "source": [
        "Julia is clearly the winner when it comes to speed of execution for\n",
        "tabular data structure manipulation. In this session we will cover the\n",
        "basics of the manipulatin tabular data structures with DataFrames.jl\n",
        "and timeseries data using TSFrames.jl."
      ],
      "metadata": {
        "id": "BIEIoTydFHX0"
      }
    },
    {
      "cell_type": "code",
      "source": [
        "using Pkg\n",
        "Pkg.add(\"DataFrames\")\n",
        "Pkg.add(\"TSFrames\")\n",
        "Pkg.add(\"RDatasets\")\n",
        "Pkg.add(\"CSV\")\n",
        "Pkg.add(\"MarketData\")\n",
        "Pkg.add(\"Impute\")"
      ],
      "metadata": {
        "id": "xZtqMcccEyX6",
        "outputId": "57f89cea-a77b-429b-a25f-e01923a3070d",
        "colab": {
          "base_uri": "https://localhost:8080/"
        }
      },
      "execution_count": 7,
      "outputs": [
        {
          "output_type": "stream",
          "name": "stderr",
          "text": [
            "\u001b[32m\u001b[1m   Resolving\u001b[22m\u001b[39m package versions...\n",
            "\u001b[32m\u001b[1m  No Changes\u001b[22m\u001b[39m to `~/.julia/environments/v1.10/Project.toml`\n",
            "\u001b[32m\u001b[1m  No Changes\u001b[22m\u001b[39m to `~/.julia/environments/v1.10/Manifest.toml`\n",
            "\u001b[32m\u001b[1m   Resolving\u001b[22m\u001b[39m package versions...\n",
            "\u001b[32m\u001b[1m  No Changes\u001b[22m\u001b[39m to `~/.julia/environments/v1.10/Project.toml`\n",
            "\u001b[32m\u001b[1m  No Changes\u001b[22m\u001b[39m to `~/.julia/environments/v1.10/Manifest.toml`\n",
            "\u001b[32m\u001b[1m   Resolving\u001b[22m\u001b[39m package versions...\n",
            "\u001b[32m\u001b[1m  No Changes\u001b[22m\u001b[39m to `~/.julia/environments/v1.10/Project.toml`\n",
            "\u001b[32m\u001b[1m  No Changes\u001b[22m\u001b[39m to `~/.julia/environments/v1.10/Manifest.toml`\n",
            "\u001b[32m\u001b[1m   Resolving\u001b[22m\u001b[39m package versions...\n",
            "\u001b[32m\u001b[1m  No Changes\u001b[22m\u001b[39m to `~/.julia/environments/v1.10/Project.toml`\n",
            "\u001b[32m\u001b[1m  No Changes\u001b[22m\u001b[39m to `~/.julia/environments/v1.10/Manifest.toml`\n",
            "\u001b[32m\u001b[1m   Resolving\u001b[22m\u001b[39m package versions...\n",
            "\u001b[32m\u001b[1m  No Changes\u001b[22m\u001b[39m to `~/.julia/environments/v1.10/Project.toml`\n",
            "\u001b[32m\u001b[1m  No Changes\u001b[22m\u001b[39m to `~/.julia/environments/v1.10/Manifest.toml`\n",
            "\u001b[32m\u001b[1m   Resolving\u001b[22m\u001b[39m package versions...\n",
            "\u001b[32m\u001b[1m   Installed\u001b[22m\u001b[39m StaticArraysCore ─ v1.4.3\n",
            "\u001b[32m\u001b[1m   Installed\u001b[22m\u001b[39m BSON ───────────── v0.3.9\n",
            "\u001b[32m\u001b[1m   Installed\u001b[22m\u001b[39m NearestNeighbors ─ v0.4.21\n",
            "\u001b[32m\u001b[1m   Installed\u001b[22m\u001b[39m TableOperations ── v1.2.0\n",
            "\u001b[32m\u001b[1m   Installed\u001b[22m\u001b[39m Impute ─────────── v0.6.12\n",
            "\u001b[32m\u001b[1m   Installed\u001b[22m\u001b[39m IterTools ──────── v1.10.0\n",
            "\u001b[32m\u001b[1m   Installed\u001b[22m\u001b[39m DataDeps ───────── v0.7.13\n",
            "\u001b[32m\u001b[1m   Installed\u001b[22m\u001b[39m StaticArrays ───── v1.9.8\n",
            "\u001b[32m\u001b[1m   Installed\u001b[22m\u001b[39m Distances ──────── v0.10.12\n",
            "\u001b[32m\u001b[1m   Installed\u001b[22m\u001b[39m NamedDims ──────── v1.2.2\n",
            "\u001b[32m\u001b[1m    Updating\u001b[22m\u001b[39m `~/.julia/environments/v1.10/Project.toml`\n",
            "  \u001b[90m[f7bf1975] \u001b[39m\u001b[92m+ Impute v0.6.12\u001b[39m\n",
            "\u001b[32m\u001b[1m    Updating\u001b[22m\u001b[39m `~/.julia/environments/v1.10/Manifest.toml`\n",
            "  \u001b[90m[fbb218c0] \u001b[39m\u001b[92m+ BSON v0.3.9\u001b[39m\n",
            "  \u001b[90m[124859b0] \u001b[39m\u001b[92m+ DataDeps v0.7.13\u001b[39m\n",
            "  \u001b[90m[b4f34e82] \u001b[39m\u001b[92m+ Distances v0.10.12\u001b[39m\n",
            "  \u001b[90m[f7bf1975] \u001b[39m\u001b[92m+ Impute v0.6.12\u001b[39m\n",
            "  \u001b[90m[c8e1da08] \u001b[39m\u001b[92m+ IterTools v1.10.0\u001b[39m\n",
            "  \u001b[90m[356022a1] \u001b[39m\u001b[92m+ NamedDims v1.2.2\u001b[39m\n",
            "  \u001b[90m[b8a86587] \u001b[39m\u001b[92m+ NearestNeighbors v0.4.21\u001b[39m\n",
            "  \u001b[90m[90137ffa] \u001b[39m\u001b[92m+ StaticArrays v1.9.8\u001b[39m\n",
            "  \u001b[90m[1e83bf80] \u001b[39m\u001b[92m+ StaticArraysCore v1.4.3\u001b[39m\n",
            "  \u001b[90m[ab02a1b2] \u001b[39m\u001b[92m+ TableOperations v1.2.0\u001b[39m\n",
            "\u001b[32m\u001b[1mPrecompiling\u001b[22m\u001b[39m project...\n",
            "\u001b[32m  ✓ \u001b[39m\u001b[90mStaticArraysCore\u001b[39m\n",
            "\u001b[32m  ✓ \u001b[39m\u001b[90mIterTools\u001b[39m\n",
            "\u001b[32m  ✓ \u001b[39m\u001b[90mBSON\u001b[39m\n",
            "\u001b[32m  ✓ \u001b[39m\u001b[90mTableOperations\u001b[39m\n",
            "\u001b[32m  ✓ \u001b[39m\u001b[90mDistances\u001b[39m\n",
            "\u001b[32m  ✓ \u001b[39m\u001b[90mNamedDims\u001b[39m\n",
            "\u001b[32m  ✓ \u001b[39m\u001b[90mDistances → DistancesSparseArraysExt\u001b[39m\n",
            "\u001b[32m  ✓ \u001b[39m\u001b[90mDataDeps\u001b[39m\n",
            "\u001b[32m  ✓ \u001b[39m\u001b[90mStaticArrays\u001b[39m\n",
            "\u001b[32m  ✓ \u001b[39m\u001b[90mAdapt → AdaptStaticArraysExt\u001b[39m\n",
            "\u001b[32m  ✓ \u001b[39m\u001b[90mStaticArrays → StaticArraysStatisticsExt\u001b[39m\n",
            "\u001b[32m  ✓ \u001b[39m\u001b[90mArrayInterface → ArrayInterfaceStaticArraysCoreExt\u001b[39m\n",
            "\u001b[32m  ✓ \u001b[39m\u001b[90mStaticArrayInterface → StaticArrayInterfaceStaticArraysExt\u001b[39m\n",
            "\u001b[32m  ✓ \u001b[39m\u001b[90mNearestNeighbors\u001b[39m\n",
            "\u001b[32m  ✓ \u001b[39mImpute\n",
            "  15 dependencies successfully precompiled in 30 seconds. 116 already precompiled.\n"
          ]
        }
      ]
    },
    {
      "cell_type": "code",
      "source": [
        "using DataFrames"
      ],
      "metadata": {
        "id": "Oss9g4nZE-AN",
        "outputId": "20fa7884-6b7d-4657-be0e-cf9867b4a8e5",
        "colab": {
          "base_uri": "https://localhost:8080/",
          "height": 309
        }
      },
      "execution_count": 3,
      "outputs": [
        {
          "output_type": "error",
          "ename": "LoadError",
          "evalue": "ArgumentError: Package DataFrames not found in current path.\n- Run `import Pkg; Pkg.add(\"DataFrames\")` to install the DataFrames package.",
          "traceback": [
            "ArgumentError: Package DataFrames not found in current path.\n- Run `import Pkg; Pkg.add(\"DataFrames\")` to install the DataFrames package.",
            "",
            "Stacktrace:",
            " [1] macro expansion",
            "   @ ./loading.jl:1772 [inlined]",
            " [2] macro expansion",
            "   @ ./lock.jl:267 [inlined]",
            " [3] __require(into::Module, mod::Symbol)",
            "   @ Base ./loading.jl:1753",
            " [4] #invoke_in_world#3",
            "   @ ./essentials.jl:926 [inlined]",
            " [5] invoke_in_world",
            "   @ ./essentials.jl:923 [inlined]",
            " [6] require(into::Module, mod::Symbol)",
            "   @ Base ./loading.jl:1746"
          ]
        }
      ]
    },
    {
      "cell_type": "code",
      "source": [
        "df = DataFrame([])\n",
        "df = DataFrame(a=[1,2], b=[2,3])"
      ],
      "metadata": {
        "id": "RdRiDjwfFCQp"
      },
      "execution_count": null,
      "outputs": []
    },
    {
      "cell_type": "code",
      "source": [
        "Pkg.add(\"CSV\")\n",
        "using CSV\n",
        "aapl_df = CSV.read(\"aapl.csv\", DataFrame)"
      ],
      "metadata": {
        "id": "owLmAZPYFdmY"
      },
      "execution_count": null,
      "outputs": []
    },
    {
      "cell_type": "code",
      "source": [
        "## Pkg.add(\"MySQL\")\n",
        "## Pkg.add(\"JSON\")"
      ],
      "metadata": {
        "id": "tppwhMeEFt5k"
      },
      "execution_count": null,
      "outputs": []
    },
    {
      "cell_type": "code",
      "source": [
        "using RDatasets\n",
        "iris = dataset(\"datasets\", \"iris\")"
      ],
      "metadata": {
        "id": "VAUCQPqOFxKM"
      },
      "execution_count": null,
      "outputs": []
    },
    {
      "cell_type": "code",
      "source": [
        "DataFrames.describe(iris)"
      ],
      "metadata": {
        "id": "bd9s0kGrGUS2"
      },
      "execution_count": null,
      "outputs": []
    },
    {
      "cell_type": "code",
      "source": [
        "first(iris)\n",
        "first(iris, 10)\n",
        "last(iris, 10)\n",
        "iris[1, :]\n",
        "iris[:, 1]\n",
        "iris[!, 1]\n",
        "iris[!, [1, 2]]\n",
        "iris[!, :SepalLength]\n",
        "iris[!, [:SepalLength, :SepalWidth]]\n",
        "iris.SepalLength\n",
        "iris.SepalWidth"
      ],
      "metadata": {
        "id": "AbvYhtr_GVxr"
      },
      "execution_count": null,
      "outputs": []
    },
    {
      "cell_type": "code",
      "source": [
        "iris[!, r\"Sepal\"]\n",
        "\n",
        "iris[!, Not(r\"Sepal\")]\n",
        "iris[!, Not(:SepalLength)]\n",
        "\n",
        "iris[!, Between(:SepalWidth, :PetalWidth)]\n",
        "iris[!, Between(2, 4)]"
      ],
      "metadata": {
        "id": "o12fkay_Gap8"
      },
      "execution_count": null,
      "outputs": []
    },
    {
      "cell_type": "code",
      "source": [
        "iris[!, Cols(r\"Petal\", :)]"
      ],
      "metadata": {
        "id": "b6ZCQfZdGdO9"
      },
      "execution_count": null,
      "outputs": []
    },
    {
      "cell_type": "code",
      "source": [
        "iris[iris.SepalLength .> 4, :]\n",
        "iris[iris.Species .== \"setosa\", :]\n",
        "iris[(iris.SepalLength .> 4) .& (iris.PetalLength .> 3), :]\n",
        "\n",
        "DataFrames.subset(iris,\n",
        "                    :SepalLength => s -> s .> 4,\n",
        "                    :PetalLength => p -> p .> 3)\n",
        "\n",
        "DataFrames.subset(iris, :Species => s -> s .== \"setosa\")\n",
        "\n",
        "iriscopy = copy(iris)\n",
        "DataFrames.subset!(iriscopy, :Species => s -> s .== \"setosa\")\n",
        "nrow(iris)\n",
        "nrow(iriscopy)"
      ],
      "metadata": {
        "id": "95ojlBBMGeax"
      },
      "execution_count": null,
      "outputs": []
    },
    {
      "cell_type": "code",
      "source": [
        "select(iris, Not(:SepalLength))\n",
        "select(iris, :SepalLength => s -> s * 2)\n",
        "select(iris, :SepalLength => s -> s * 2, :SepalWidth)\n",
        "select(iris, :SepalLength => s -> s * 2, [:SepalLength, :SepalWidth] => ((x,y) -> x[1] + x[2]) => :X)\n",
        "select(iris, :SepalLength => :S1, :SepalWidth => :S2) ## Rename columns\n",
        "select!(iris, :SepalLength => :S1, :SepalWidth => :S2) ## Don't copy columns"
      ],
      "metadata": {
        "id": "2WtX5FUqGeYL"
      },
      "execution_count": null,
      "outputs": []
    },
    {
      "cell_type": "code",
      "source": [
        "transform(iris, Not(:SepalLength))\n",
        "transform(iris, Not(:SepalLength)) == select(iris, Not(:SepalLength)) # true\n",
        "transform(iris, :SepalLength => s -> s * 2) # returns new column\n",
        "transform(iris, :SepalLength => (s -> s * 2) => :SepalLength2) # returns new column\n",
        "transform(iris, :SepalLength => s -> s * 2, [:SepalLength, :SepalWidth] => ((x,y) -> x[1] + x[2]) => :X)"
      ],
      "metadata": {
        "id": "VBqroxDZGeVl"
      },
      "execution_count": null,
      "outputs": []
    },
    {
      "cell_type": "code",
      "source": [
        "combine(iris, :SepalLength .=> sum)\n",
        "combine(iris, Not(:Species) .=> sum)\n",
        "combine(iris, :SepalLength => x -> sum(x * 10))"
      ],
      "metadata": {
        "id": "rz_FBwgLGeS9"
      },
      "execution_count": null,
      "outputs": []
    },
    {
      "cell_type": "code",
      "source": [
        "df = DataFrame(x=[1, 2, missing], y=[1, missing, missing])\n",
        "combine(df, All() .=> x -> x * 10)\n",
        "combine(df, All() .=> x -> sum(x * 10))\n",
        "combine(df, All() .=> x -> sum(skipmissing(x * 10)))"
      ],
      "metadata": {
        "id": "WwJAW1a0GeQG"
      },
      "execution_count": null,
      "outputs": []
    },
    {
      "cell_type": "code",
      "source": [
        "gd = groupby(iris, :Species)\n",
        "combine(gd, :SepalLength => sum)\n",
        "combine(gd, Not(:Species) .=> sum)\n",
        "combine(gd, Not(:Species) .=> sum, DataFrames.nrow)\n",
        "using Statistics\n",
        "combine(gd, Not(:Species) .=> mean, DataFrames.nrow)\n",
        "\n",
        "combine(gd, AsTable([:SepalLength, :PetalLength]) => ByRow((x) -> x[1] / x[2]) => :Ratio)"
      ],
      "metadata": {
        "id": "e4F79KmMGeNP"
      },
      "execution_count": null,
      "outputs": []
    },
    {
      "cell_type": "code",
      "source": [
        "using TSFrames\n",
        "ts = TSFrame(1:10)\n",
        "ts = TSFrame(1:10, 2301: 2310)"
      ],
      "metadata": {
        "id": "-4He2AVCGqcu"
      },
      "execution_count": null,
      "outputs": []
    },
    {
      "cell_type": "code",
      "source": [
        "using MarketData\n",
        "aapl_df = DataFrame(MarketData.yahoo(:AAPL))\n",
        "aapl_ts = TSFrame(MarketData.yahoo(:AAPL))\n",
        "aapl_ts = CSV.read(\"aapl.csv\", TSFrame)"
      ],
      "metadata": {
        "id": "DvnSxJLUGeKo"
      },
      "execution_count": null,
      "outputs": []
    },
    {
      "cell_type": "code",
      "source": [
        "nr(aapl_ts)\n",
        "nc(aapl_ts)\n",
        "size(aapl_ts)\n",
        "length(aapl_ts)\n",
        "names(aapl_ts)\n",
        "index(aapl_ts)\n",
        "TSFrame.describe(aapl_ts)"
      ],
      "metadata": {
        "id": "EE_7EyPIGeIS"
      },
      "execution_count": null,
      "outputs": []
    },
    {
      "cell_type": "code",
      "source": [
        "aapl_ts[1]\n",
        "aapl_ts[2, 1]\n",
        "aapl_ts[2, [1]]\n",
        "aapl_ts[[2, 3], [1, 2, 3, 4]]\n",
        "aapl_ts[[2, 3], [:Open, :High, :Low, :Close]]\n",
        "aapl_ts.Open\n"
      ],
      "metadata": {
        "id": "YQq_Lth5GeFJ"
      },
      "execution_count": null,
      "outputs": []
    },
    {
      "cell_type": "code",
      "source": [
        "aapl_ts[Date(2007, 1, 10)]\n",
        "aapl_ts[Date(2007, 1, 10), [:Open, :High, :Low, :Close]]\n",
        "aapl_ts[Year(2007), Month(1)]\n",
        "aapl_ts[Year(2007), Month(1)][:, [:Open, :High, :Low, :Close]]\n",
        "aapl_ts[Year(2007), Quarter(1)][:, [:Open, :High, :Low, :Close]]"
      ],
      "metadata": {
        "id": "e2TIvwf0GeCT"
      },
      "execution_count": null,
      "outputs": []
    },
    {
      "cell_type": "code",
      "source": [
        "# Pkg.add(\"Plots\")\n",
        "# using Plots\n",
        "# plot(aapl_ts, [:AdjClose])"
      ],
      "metadata": {
        "id": "kBz6WfqnGd_L"
      },
      "execution_count": null,
      "outputs": []
    },
    {
      "cell_type": "code",
      "source": [
        "aapl_monthly = apply(aapl_ts, Month(1), last)\n",
        "aapl_weekly = apply(aapl_ts, Week(1), Statistics.std)\n",
        "aapl_weekly = apply(aapl_ts, Week(1), Statistics.std, last)"
      ],
      "metadata": {
        "id": "ktzdyDQwGd8D"
      },
      "execution_count": null,
      "outputs": []
    },
    {
      "cell_type": "code",
      "source": [
        "ibm_ts = TSFrame(MarketData.yahoo(:IBM))"
      ],
      "metadata": {
        "id": "QAnSkzPyGd2l"
      },
      "execution_count": null,
      "outputs": []
    },
    {
      "cell_type": "code",
      "source": [
        "date_from = Date(2021, 06, 01);\n",
        "date_to = Date(2021, 12, 31);\n",
        "ibm = TSFrames.subset(ibm_ts, date_from, date_to)\n",
        "aapl = TSFrames.subset(aapl_ts, date_from, date_to)"
      ],
      "metadata": {
        "id": "NlL9MK5rHGkJ"
      },
      "execution_count": null,
      "outputs": []
    },
    {
      "cell_type": "code",
      "source": [
        "ibm_aapl = TSFrames.join(ibm[:, [\"AdjClose\"]], aapl[:, [\"AdjClose\"]]; jointype = :JoinBoth)"
      ],
      "metadata": {
        "id": "A9v52OOcGduy"
      },
      "execution_count": null,
      "outputs": []
    },
    {
      "cell_type": "code",
      "source": [
        "TSFrames.rename!(ibm_aapl, [:IBM, :AAPL])"
      ],
      "metadata": {
        "id": "GnOcu7gYHLCB"
      },
      "execution_count": null,
      "outputs": []
    },
    {
      "cell_type": "code",
      "source": [
        "using Impute\n",
        "ibm_aapl = ibm_aapl |> Impute.locf()"
      ],
      "metadata": {
        "id": "9onpYz71HK_a"
      },
      "execution_count": null,
      "outputs": []
    },
    {
      "cell_type": "code",
      "source": [],
      "metadata": {
        "id": "lbLcFdCQHK8i"
      },
      "execution_count": null,
      "outputs": []
    },
    {
      "cell_type": "code",
      "source": [],
      "metadata": {
        "id": "MUvLFiyoHK59"
      },
      "execution_count": null,
      "outputs": []
    },
    {
      "cell_type": "markdown",
      "metadata": {
        "id": "8RC1QNNqk6h1"
      },
      "source": [
        "# Need Help?\n",
        "\n",
        "* Learning: https://julialang.org/learning/\n",
        "* Documentation: https://docs.julialang.org/\n",
        "* Questions & Discussions:\n",
        "  * https://discourse.julialang.org/\n",
        "  * http://julialang.slack.com/\n",
        "  * https://stackoverflow.com/questions/tagged/julia\n",
        "\n",
        "If you ever ask for help or file an issue about Julia, you should generally provide the output of `versioninfo()`."
      ]
    },
    {
      "cell_type": "markdown",
      "metadata": {
        "id": "2UMidUQB03vJ"
      },
      "source": [
        "Add new code cells by clicking the `+ Code` button (or _Insert_ > _Code cell_).\n",
        "\n",
        "Have fun!\n",
        "\n",
        "<img src=\"https://raw.githubusercontent.com/JuliaLang/julia-logo-graphics/master/images/julia-logo-mask.png\" height=\"100\" />"
      ]
    }
  ]
}