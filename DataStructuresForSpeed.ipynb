{
  "nbformat": 4,
  "nbformat_minor": 0,
  "metadata": {
    "colab": {
      "provenance": [],
      "include_colab_link": true
    },
    "kernelspec": {
      "display_name": "Julia",
      "language": "julia",
      "name": "julia"
    },
    "language_info": {
      "file_extension": ".jl",
      "mimetype": "application/julia",
      "name": "julia"
    },
    "gpuClass": "standard"
  },
  "cells": [
    {
      "cell_type": "markdown",
      "metadata": {
        "id": "view-in-github",
        "colab_type": "text"
      },
      "source": [
        "<a href=\"https://colab.research.google.com/github/xKDR/Julia-Workshop/blob/main/DataStructuresForSpeed.ipynb\" target=\"_parent\"><img src=\"https://colab.research.google.com/assets/colab-badge.svg\" alt=\"Open In Colab\"/></a>"
      ]
    },
    {
      "cell_type": "markdown",
      "metadata": {
        "id": "tQ1r1bbb0yBv"
      },
      "source": [
        "# <img src=\"https://github.com/JuliaLang/julia-logo-graphics/raw/master/images/julia-logo-color.png\" height=\"100\" /> _Colab Notebook Template_\n",
        "\n",
        "## Instructions\n",
        "1. Work on a copy of this notebook: _File_ > _Save a copy in Drive_ (you will need a Google account). Alternatively, you can download the notebook using _File_ > _Download .ipynb_, then upload it to [Colab](https://colab.research.google.com/).\n",
        "2. If you need a GPU: _Runtime_ > _Change runtime type_ > _Harware accelerator_ = _GPU_.\n",
        "3. Execute the following cell (click on it and press Ctrl+Enter) to install Julia, IJulia and other packages (if needed, update `JULIA_VERSION` and the other parameters). This takes a couple of minutes.\n",
        "4. Reload this page (press Ctrl+R, or ⌘+R, or the F5 key) and continue to the next section.\n",
        "\n",
        "_Notes_:\n",
        "* If your Colab Runtime gets reset (e.g., due to inactivity), repeat steps 2, 3 and 4.\n",
        "* After installation, if you want to change the Julia version or activate/deactivate the GPU, you will need to reset the Runtime: _Runtime_ > _Factory reset runtime_ and repeat steps 3 and 4."
      ]
    },
    {
      "cell_type": "code",
      "metadata": {
        "id": "GIeFXS0F0zww",
        "colab": {
          "base_uri": "https://localhost:8080/"
        },
        "outputId": "ada4f2aa-2969-49d5-805e-71aa430fc27b"
      },
      "source": [
        "%%shell\n",
        "set -e\n",
        "\n",
        "#---------------------------------------------------#\n",
        "JULIA_VERSION=\"1.10.4\" # any version ≥ 0.7.0\n",
        "JULIA_PACKAGES=\"IJulia BenchmarkTools\"\n",
        "JULIA_PACKAGES_IF_GPU=\"CUDA\" # or CuArrays for older Julia versions\n",
        "JULIA_NUM_THREADS=2\n",
        "#---------------------------------------------------#\n",
        "\n",
        "if [ -z `which julia` ]; then\n",
        "  # Install Julia\n",
        "  JULIA_VER=`cut -d '.' -f -2 <<< \"$JULIA_VERSION\"`\n",
        "  echo \"Installing Julia $JULIA_VERSION on the current Colab Runtime...\"\n",
        "  BASE_URL=\"https://julialang-s3.julialang.org/bin/linux/x64\"\n",
        "  URL=\"$BASE_URL/$JULIA_VER/julia-$JULIA_VERSION-linux-x86_64.tar.gz\"\n",
        "  wget -nv $URL -O /tmp/julia.tar.gz # -nv means \"not verbose\"\n",
        "  tar -x -f /tmp/julia.tar.gz -C /usr/local --strip-components 1\n",
        "  rm /tmp/julia.tar.gz\n",
        "\n",
        "  # Install Packages\n",
        "  nvidia-smi -L &> /dev/null && export GPU=1 || export GPU=0\n",
        "  if [ $GPU -eq 1 ]; then\n",
        "    JULIA_PACKAGES=\"$JULIA_PACKAGES $JULIA_PACKAGES_IF_GPU\"\n",
        "  fi\n",
        "  for PKG in `echo $JULIA_PACKAGES`; do\n",
        "    echo \"Installing Julia package $PKG...\"\n",
        "    julia -e 'using Pkg; pkg\"add '$PKG'; precompile;\"' &> /dev/null\n",
        "  done\n",
        "\n",
        "  # Install kernel and rename it to \"julia\"\n",
        "  echo \"Installing IJulia kernel...\"\n",
        "  julia -e 'using IJulia; IJulia.installkernel(\"julia\", env=Dict(\n",
        "      \"JULIA_NUM_THREADS\"=>\"'\"$JULIA_NUM_THREADS\"'\"))'\n",
        "  KERNEL_DIR=`julia -e \"using IJulia; print(IJulia.kerneldir())\"`\n",
        "  KERNEL_NAME=`ls -d \"$KERNEL_DIR\"/julia*`\n",
        "  mv -f $KERNEL_NAME \"$KERNEL_DIR\"/julia\n",
        "\n",
        "  echo ''\n",
        "  echo \"Successfully installed `julia -v`!\"\n",
        "  echo \"Please reload this page (press Ctrl+R, ⌘+R, or the F5 key) then\"\n",
        "  echo \"jump to the 'Checking the Installation' section.\"\n",
        "fi"
      ],
      "execution_count": null,
      "outputs": [
        {
          "output_type": "stream",
          "name": "stdout",
          "text": [
            "Installing Julia 1.10.4 on the current Colab Runtime...\n",
            "2024-10-23 05:56:43 URL:https://julialang-s3.julialang.org/bin/linux/x64/1.10/julia-1.10.4-linux-x86_64.tar.gz [173704015/173704015] -> \"/tmp/julia.tar.gz\" [1]\n",
            "Installing Julia package IJulia...\n",
            "Installing Julia package BenchmarkTools...\n"
          ]
        }
      ]
    },
    {
      "cell_type": "code",
      "metadata": {
        "id": "EEzvvzCl1i0F",
        "outputId": "50fe5a86-86ce-4f76-b5ea-20c7f96395e6",
        "colab": {
          "base_uri": "https://localhost:8080/"
        }
      },
      "source": [
        "versioninfo()"
      ],
      "execution_count": 1,
      "outputs": [
        {
          "output_type": "stream",
          "name": "stdout",
          "text": [
            "Julia Version 1.10.4\n",
            "Commit 48d4fd48430 (2024-06-04 10:41 UTC)\n",
            "Build Info:\n",
            "  Official https://julialang.org/ release\n",
            "Platform Info:\n",
            "  OS: Linux (x86_64-linux-gnu)\n",
            "  CPU: 2 × Intel(R) Xeon(R) CPU @ 2.20GHz\n",
            "  WORD_SIZE: 64\n",
            "  LIBM: libopenlibm\n",
            "  LLVM: libLLVM-15.0.7 (ORCJIT, broadwell)\n",
            "Threads: 2 default, 0 interactive, 1 GC (on 2 virtual cores)\n",
            "Environment:\n",
            "  LD_LIBRARY_PATH = /usr/local/nvidia/lib:/usr/local/nvidia/lib64\n",
            "  JULIA_NUM_THREADS = 2\n"
          ]
        }
      ]
    },
    {
      "cell_type": "markdown",
      "source": [
        "# Data structures for speed"
      ],
      "metadata": {
        "id": "9eXKPq7AFLxF"
      }
    },
    {
      "cell_type": "markdown",
      "source": [
        "Julia is clearly the winner when it comes to speed of execution for\n",
        "tabular data structure manipulation. In this session we will cover the\n",
        "basics of the manipulatin tabular data structures with DataFrames.jl\n",
        "and timeseries data using TSFrames.jl."
      ],
      "metadata": {
        "id": "BIEIoTydFHX0"
      }
    },
    {
      "cell_type": "code",
      "source": [
        "using Pkg\n",
        "Pkg.add(\"DataFrames\")\n",
        "Pkg.add(\"TSFrames\")\n",
        "Pkg.add(\"RDatasets\")\n",
        "Pkg.add(\"CSV\")\n",
        "Pkg.add(\"MarketData\")\n",
        "Pkg.add(\"Impute\")"
      ],
      "metadata": {
        "colab": {
          "base_uri": "https://localhost:8080/"
        },
        "id": "xZtqMcccEyX6",
        "outputId": "70b202e9-94b7-499f-c51b-c37d479b29c8"
      },
      "execution_count": 2,
      "outputs": [
        {
          "output_type": "stream",
          "name": "stderr",
          "text": [
            "\u001b[32m\u001b[1m    Updating\u001b[22m\u001b[39m registry at `~/.julia/registries/General.toml`\n",
            "\u001b[32m\u001b[1m   Resolving\u001b[22m\u001b[39m package versions...\n",
            "\u001b[32m\u001b[1m   Installed\u001b[22m\u001b[39m Crayons ───────────────────── v4.1.1\n",
            "\u001b[32m\u001b[1m   Installed\u001b[22m\u001b[39m SentinelArrays ────────────── v1.4.7\n",
            "\u001b[32m\u001b[1m   Installed\u001b[22m\u001b[39m PooledArrays ──────────────── v1.4.3\n",
            "\u001b[32m\u001b[1m   Installed\u001b[22m\u001b[39m TableTraits ───────────────── v1.0.1\n",
            "\u001b[32m\u001b[1m   Installed\u001b[22m\u001b[39m DataAPI ───────────────────── v1.16.0\n",
            "\u001b[32m\u001b[1m   Installed\u001b[22m\u001b[39m Tables ────────────────────── v1.12.0\n",
            "\u001b[32m\u001b[1m   Installed\u001b[22m\u001b[39m InlineStrings ─────────────── v1.4.2\n",
            "\u001b[32m\u001b[1m   Installed\u001b[22m\u001b[39m PrettyTables ──────────────── v2.4.0\n",
            "\u001b[32m\u001b[1m   Installed\u001b[22m\u001b[39m IteratorInterfaceExtensions ─ v1.0.0\n",
            "\u001b[32m\u001b[1m   Installed\u001b[22m\u001b[39m OrderedCollections ────────── v1.7.0\n",
            "\u001b[32m\u001b[1m   Installed\u001b[22m\u001b[39m LaTeXStrings ──────────────── v1.4.0\n",
            "\u001b[32m\u001b[1m   Installed\u001b[22m\u001b[39m InvertedIndices ───────────── v1.3.0\n",
            "\u001b[32m\u001b[1m   Installed\u001b[22m\u001b[39m DataValueInterfaces ───────── v1.0.0\n",
            "\u001b[32m\u001b[1m   Installed\u001b[22m\u001b[39m Reexport ──────────────────── v1.2.2\n",
            "\u001b[32m\u001b[1m   Installed\u001b[22m\u001b[39m Compat ────────────────────── v4.16.0\n",
            "\u001b[32m\u001b[1m   Installed\u001b[22m\u001b[39m DataStructures ────────────── v0.18.20\n",
            "\u001b[32m\u001b[1m   Installed\u001b[22m\u001b[39m Missings ──────────────────── v1.2.0\n",
            "\u001b[32m\u001b[1m   Installed\u001b[22m\u001b[39m StringManipulation ────────── v0.4.0\n",
            "\u001b[32m\u001b[1m   Installed\u001b[22m\u001b[39m SortingAlgorithms ─────────── v1.2.1\n",
            "\u001b[32m\u001b[1m   Installed\u001b[22m\u001b[39m DataFrames ────────────────── v1.7.0\n",
            "\u001b[32m\u001b[1m    Updating\u001b[22m\u001b[39m `~/.julia/environments/v1.10/Project.toml`\n",
            "  \u001b[90m[a93c6f00] \u001b[39m\u001b[92m+ DataFrames v1.7.0\u001b[39m\n",
            "\u001b[32m\u001b[1m    Updating\u001b[22m\u001b[39m `~/.julia/environments/v1.10/Manifest.toml`\n",
            "  \u001b[90m[34da2185] \u001b[39m\u001b[92m+ Compat v4.16.0\u001b[39m\n",
            "  \u001b[90m[a8cc5b0e] \u001b[39m\u001b[92m+ Crayons v4.1.1\u001b[39m\n",
            "  \u001b[90m[9a962f9c] \u001b[39m\u001b[92m+ DataAPI v1.16.0\u001b[39m\n",
            "  \u001b[90m[a93c6f00] \u001b[39m\u001b[92m+ DataFrames v1.7.0\u001b[39m\n",
            "  \u001b[90m[864edb3b] \u001b[39m\u001b[92m+ DataStructures v0.18.20\u001b[39m\n",
            "  \u001b[90m[e2d170a0] \u001b[39m\u001b[92m+ DataValueInterfaces v1.0.0\u001b[39m\n",
            "  \u001b[90m[842dd82b] \u001b[39m\u001b[92m+ InlineStrings v1.4.2\u001b[39m\n",
            "  \u001b[90m[41ab1584] \u001b[39m\u001b[92m+ InvertedIndices v1.3.0\u001b[39m\n",
            "  \u001b[90m[82899510] \u001b[39m\u001b[92m+ IteratorInterfaceExtensions v1.0.0\u001b[39m\n",
            "  \u001b[90m[b964fa9f] \u001b[39m\u001b[92m+ LaTeXStrings v1.4.0\u001b[39m\n",
            "  \u001b[90m[e1d29d7a] \u001b[39m\u001b[92m+ Missings v1.2.0\u001b[39m\n",
            "  \u001b[90m[bac558e1] \u001b[39m\u001b[92m+ OrderedCollections v1.7.0\u001b[39m\n",
            "  \u001b[90m[2dfb63ee] \u001b[39m\u001b[92m+ PooledArrays v1.4.3\u001b[39m\n",
            "  \u001b[90m[08abe8d2] \u001b[39m\u001b[92m+ PrettyTables v2.4.0\u001b[39m\n",
            "  \u001b[90m[189a3867] \u001b[39m\u001b[92m+ Reexport v1.2.2\u001b[39m\n",
            "  \u001b[90m[91c51154] \u001b[39m\u001b[92m+ SentinelArrays v1.4.7\u001b[39m\n",
            "  \u001b[90m[a2af1166] \u001b[39m\u001b[92m+ SortingAlgorithms v1.2.1\u001b[39m\n",
            "  \u001b[90m[892a3eda] \u001b[39m\u001b[92m+ StringManipulation v0.4.0\u001b[39m\n",
            "  \u001b[90m[3783bdb8] \u001b[39m\u001b[92m+ TableTraits v1.0.1\u001b[39m\n",
            "  \u001b[90m[bd369af6] \u001b[39m\u001b[92m+ Tables v1.12.0\u001b[39m\n",
            "  \u001b[90m[9fa8497b] \u001b[39m\u001b[92m+ Future\u001b[39m\n",
            "\u001b[32m\u001b[1mPrecompiling\u001b[22m\u001b[39m project...\n",
            "\u001b[32m  ✓ \u001b[39m\u001b[90mCompat\u001b[39m\n",
            "\u001b[32m  ✓ \u001b[39m\u001b[90mOrderedCollections\u001b[39m\n",
            "\u001b[32m  ✓ \u001b[39m\u001b[90mDataValueInterfaces\u001b[39m\n",
            "\u001b[32m  ✓ \u001b[39m\u001b[90mLaTeXStrings\u001b[39m\n",
            "\u001b[32m  ✓ \u001b[39m\u001b[90mInvertedIndices\u001b[39m\n",
            "\u001b[32m  ✓ \u001b[39m\u001b[90mReexport\u001b[39m\n",
            "\u001b[32m  ✓ \u001b[39m\u001b[90mSentinelArrays\u001b[39m\n",
            "\u001b[32m  ✓ \u001b[39m\u001b[90mIteratorInterfaceExtensions\u001b[39m\n",
            "\u001b[32m  ✓ \u001b[39m\u001b[90mInlineStrings\u001b[39m\n",
            "\u001b[32m  ✓ \u001b[39m\u001b[90mDataAPI\u001b[39m\n",
            "\u001b[32m  ✓ \u001b[39m\u001b[90mCompat → CompatLinearAlgebraExt\u001b[39m\n",
            "\u001b[32m  ✓ \u001b[39m\u001b[90mTableTraits\u001b[39m\n",
            "\u001b[32m  ✓ \u001b[39m\u001b[90mCrayons\u001b[39m\n",
            "\u001b[32m  ✓ \u001b[39m\u001b[90mInlineStrings → ParsersExt\u001b[39m\n",
            "\u001b[32m  ✓ \u001b[39m\u001b[90mMissings\u001b[39m\n",
            "\u001b[32m  ✓ \u001b[39m\u001b[90mPooledArrays\u001b[39m\n",
            "\u001b[32m  ✓ \u001b[39m\u001b[90mStringManipulation\u001b[39m\n",
            "\u001b[32m  ✓ \u001b[39m\u001b[90mTables\u001b[39m\n",
            "\u001b[32m  ✓ \u001b[39m\u001b[90mDataStructures\u001b[39m\n",
            "\u001b[32m  ✓ \u001b[39m\u001b[90mSortingAlgorithms\u001b[39m\n",
            "\u001b[32m  ✓ \u001b[39m\u001b[90mPrettyTables\u001b[39m\n",
            "\u001b[32m  ✓ \u001b[39mDataFrames\n",
            "  22 dependencies successfully precompiled in 132 seconds. 21 already precompiled.\n",
            "\u001b[32m\u001b[1m   Resolving\u001b[22m\u001b[39m package versions...\n",
            "\u001b[32m\u001b[1m   Installed\u001b[22m\u001b[39m BitTwiddlingConvenienceFunctions ─ v0.1.6\n",
            "\u001b[32m\u001b[1m   Installed\u001b[22m\u001b[39m Adapt ──────────────────────────── v4.1.1\n",
            "\u001b[32m\u001b[1m   Installed\u001b[22m\u001b[39m IrrationalConstants ────────────── v0.2.2\n",
            "\u001b[32m\u001b[1m   Installed\u001b[22m\u001b[39m OffsetArrays ───────────────────── v1.14.1\n",
            "\u001b[32m\u001b[1m   Installed\u001b[22m\u001b[39m LayoutPointers ─────────────────── v0.1.17\n",
            "\u001b[32m\u001b[1m   Installed\u001b[22m\u001b[39m SIMDTypes ──────────────────────── v0.1.0\n",
            "\u001b[32m\u001b[1m   Installed\u001b[22m\u001b[39m CpuId ──────────────────────────── v0.3.1\n",
            "\u001b[32m\u001b[1m   Installed\u001b[22m\u001b[39m VectorizationBase ──────────────── v0.21.71\n",
            "\u001b[32m\u001b[1m   Installed\u001b[22m\u001b[39m AccurateArithmetic ─────────────── v0.3.8\n",
            "\u001b[32m\u001b[1m   Installed\u001b[22m\u001b[39m IfElse ─────────────────────────── v0.1.1\n",
            "\u001b[32m\u001b[1m   Installed\u001b[22m\u001b[39m TSFrames ───────────────────────── v0.2.2\n",
            "\u001b[32m\u001b[1m   Installed\u001b[22m\u001b[39m CPUSummary ─────────────────────── v0.2.6\n",
            "\u001b[32m\u001b[1m   Installed\u001b[22m\u001b[39m ArrayInterface ─────────────────── v7.17.1\n",
            "\u001b[32m\u001b[1m   Installed\u001b[22m\u001b[39m RecipesBase ────────────────────── v1.3.4\n",
            "\u001b[32m\u001b[1m   Installed\u001b[22m\u001b[39m HostCPUFeatures ────────────────── v0.1.17\n",
            "\u001b[32m\u001b[1m   Installed\u001b[22m\u001b[39m ManualMemory ───────────────────── v0.1.8\n",
            "\u001b[32m\u001b[1m   Installed\u001b[22m\u001b[39m ThreadingUtilities ─────────────── v0.5.2\n",
            "\u001b[32m\u001b[1m   Installed\u001b[22m\u001b[39m PolyesterWeave ─────────────────── v0.2.2\n",
            "\u001b[32m\u001b[1m   Installed\u001b[22m\u001b[39m RollingFunctions ───────────────── v0.7.0\n",
            "\u001b[32m\u001b[1m   Installed\u001b[22m\u001b[39m LogExpFunctions ────────────────── v0.3.28\n",
            "\u001b[32m\u001b[1m   Installed\u001b[22m\u001b[39m LoopVectorization ──────────────── v0.12.171\n",
            "\u001b[32m\u001b[1m   Installed\u001b[22m\u001b[39m ShiftedArrays ──────────────────── v2.0.0\n",
            "\u001b[32m\u001b[1m   Installed\u001b[22m\u001b[39m Requires ───────────────────────── v1.3.0\n",
            "\u001b[32m\u001b[1m   Installed\u001b[22m\u001b[39m StatsAPI ───────────────────────── v1.7.0\n",
            "\u001b[32m\u001b[1m   Installed\u001b[22m\u001b[39m UnPack ─────────────────────────── v1.0.2\n",
            "\u001b[32m\u001b[1m   Installed\u001b[22m\u001b[39m StatsBase ──────────────────────── v0.34.3\n",
            "\u001b[32m\u001b[1m   Installed\u001b[22m\u001b[39m DocStringExtensions ────────────── v0.9.3\n",
            "\u001b[32m\u001b[1m   Installed\u001b[22m\u001b[39m CloseOpenIntervals ─────────────── v0.1.13\n",
            "\u001b[32m\u001b[1m   Installed\u001b[22m\u001b[39m KahanSummation ─────────────────── v0.3.1\n",
            "\u001b[32m\u001b[1m   Installed\u001b[22m\u001b[39m Static ─────────────────────────── v1.1.1\n",
            "\u001b[32m\u001b[1m   Installed\u001b[22m\u001b[39m SLEEFPirates ───────────────────── v0.6.43\n",
            "\u001b[32m\u001b[1m   Installed\u001b[22m\u001b[39m CommonWorldInvalidations ───────── v1.0.0\n",
            "\u001b[32m\u001b[1m   Installed\u001b[22m\u001b[39m StaticArrayInterface ───────────── v1.8.0\n",
            "\u001b[32m\u001b[1m    Updating\u001b[22m\u001b[39m `~/.julia/environments/v1.10/Project.toml`\n",
            "  \u001b[90m[9f90e835] \u001b[39m\u001b[92m+ TSFrames v0.2.2\u001b[39m\n",
            "\u001b[32m\u001b[1m    Updating\u001b[22m\u001b[39m `~/.julia/environments/v1.10/Manifest.toml`\n",
            "  \u001b[90m[22286c92] \u001b[39m\u001b[92m+ AccurateArithmetic v0.3.8\u001b[39m\n",
            "  \u001b[90m[79e6a3ab] \u001b[39m\u001b[92m+ Adapt v4.1.1\u001b[39m\n",
            "  \u001b[90m[4fba245c] \u001b[39m\u001b[92m+ ArrayInterface v7.17.1\u001b[39m\n",
            "  \u001b[90m[62783981] \u001b[39m\u001b[92m+ BitTwiddlingConvenienceFunctions v0.1.6\u001b[39m\n",
            "  \u001b[90m[2a0fbf3d] \u001b[39m\u001b[92m+ CPUSummary v0.2.6\u001b[39m\n",
            "  \u001b[90m[fb6a15b2] \u001b[39m\u001b[92m+ CloseOpenIntervals v0.1.13\u001b[39m\n",
            "  \u001b[90m[f70d9fcc] \u001b[39m\u001b[92m+ CommonWorldInvalidations v1.0.0\u001b[39m\n",
            "  \u001b[90m[adafc99b] \u001b[39m\u001b[92m+ CpuId v0.3.1\u001b[39m\n",
            "  \u001b[90m[ffbed154] \u001b[39m\u001b[92m+ DocStringExtensions v0.9.3\u001b[39m\n",
            "  \u001b[90m[3e5b6fbb] \u001b[39m\u001b[92m+ HostCPUFeatures v0.1.17\u001b[39m\n",
            "  \u001b[90m[615f187c] \u001b[39m\u001b[92m+ IfElse v0.1.1\u001b[39m\n",
            "  \u001b[90m[92d709cd] \u001b[39m\u001b[92m+ IrrationalConstants v0.2.2\u001b[39m\n",
            "  \u001b[90m[8e2b3108] \u001b[39m\u001b[92m+ KahanSummation v0.3.1\u001b[39m\n",
            "  \u001b[90m[10f19ff3] \u001b[39m\u001b[92m+ LayoutPointers v0.1.17\u001b[39m\n",
            "  \u001b[90m[2ab3a3ac] \u001b[39m\u001b[92m+ LogExpFunctions v0.3.28\u001b[39m\n",
            "  \u001b[90m[bdcacae8] \u001b[39m\u001b[92m+ LoopVectorization v0.12.171\u001b[39m\n",
            "  \u001b[90m[d125e4d3] \u001b[39m\u001b[92m+ ManualMemory v0.1.8\u001b[39m\n",
            "  \u001b[90m[6fe1bfb0] \u001b[39m\u001b[92m+ OffsetArrays v1.14.1\u001b[39m\n",
            "  \u001b[90m[1d0040c9] \u001b[39m\u001b[92m+ PolyesterWeave v0.2.2\u001b[39m\n",
            "  \u001b[90m[3cdcf5f2] \u001b[39m\u001b[92m+ RecipesBase v1.3.4\u001b[39m\n",
            "  \u001b[90m[ae029012] \u001b[39m\u001b[92m+ Requires v1.3.0\u001b[39m\n",
            "\u001b[33m⌅\u001b[39m \u001b[90m[b0e4dd01] \u001b[39m\u001b[92m+ RollingFunctions v0.7.0\u001b[39m\n",
            "  \u001b[90m[94e857df] \u001b[39m\u001b[92m+ SIMDTypes v0.1.0\u001b[39m\n",
            "  \u001b[90m[476501e8] \u001b[39m\u001b[92m+ SLEEFPirates v0.6.43\u001b[39m\n",
            "  \u001b[90m[1277b4bf] \u001b[39m\u001b[92m+ ShiftedArrays v2.0.0\u001b[39m\n",
            "  \u001b[90m[aedffcd0] \u001b[39m\u001b[92m+ Static v1.1.1\u001b[39m\n",
            "  \u001b[90m[0d7ed370] \u001b[39m\u001b[92m+ StaticArrayInterface v1.8.0\u001b[39m\n",
            "  \u001b[90m[82ae8749] \u001b[39m\u001b[92m+ StatsAPI v1.7.0\u001b[39m\n",
            "  \u001b[90m[2913bbd2] \u001b[39m\u001b[92m+ StatsBase v0.34.3\u001b[39m\n",
            "  \u001b[90m[9f90e835] \u001b[39m\u001b[92m+ TSFrames v0.2.2\u001b[39m\n",
            "  \u001b[90m[8290d209] \u001b[39m\u001b[92m+ ThreadingUtilities v0.5.2\u001b[39m\n",
            "  \u001b[90m[3a884ed6] \u001b[39m\u001b[92m+ UnPack v1.0.2\u001b[39m\n",
            "  \u001b[90m[3d5dd08c] \u001b[39m\u001b[92m+ VectorizationBase v0.21.71\u001b[39m\n",
            "\u001b[36m\u001b[1m        Info\u001b[22m\u001b[39m Packages marked with \u001b[33m⌅\u001b[39m have new versions available but compatibility constraints restrict them from upgrading. To see why use `status --outdated -m`\n",
            "\u001b[32m\u001b[1mPrecompiling\u001b[22m\u001b[39m project...\n",
            "\u001b[32m  ✓ \u001b[39m\u001b[90mUnPack\u001b[39m\n",
            "\u001b[32m  ✓ \u001b[39m\u001b[90mRequires\u001b[39m\n",
            "\u001b[32m  ✓ \u001b[39m\u001b[90mCpuId\u001b[39m\n",
            "\u001b[32m  ✓ \u001b[39m\u001b[90mSIMDTypes\u001b[39m\n",
            "\u001b[32m  ✓ \u001b[39m\u001b[90mIfElse\u001b[39m\n",
            "\u001b[32m  ✓ \u001b[39m\u001b[90mDocStringExtensions\u001b[39m\n",
            "\u001b[32m  ✓ \u001b[39m\u001b[90mStatsAPI\u001b[39m\n",
            "\u001b[32m  ✓ \u001b[39m\u001b[90mCommonWorldInvalidations\u001b[39m\n",
            "\u001b[32m  ✓ \u001b[39m\u001b[90mIrrationalConstants\u001b[39m\n",
            "\u001b[32m  ✓ \u001b[39m\u001b[90mKahanSummation\u001b[39m\n",
            "\u001b[32m  ✓ \u001b[39m\u001b[90mManualMemory\u001b[39m\n",
            "\u001b[32m  ✓ \u001b[39m\u001b[90mShiftedArrays\u001b[39m\n",
            "\u001b[32m  ✓ \u001b[39m\u001b[90mOffsetArrays\u001b[39m\n",
            "\u001b[32m  ✓ \u001b[39m\u001b[90mAdapt\u001b[39m\n",
            "\u001b[32m  ✓ \u001b[39m\u001b[90mStatic\u001b[39m\n",
            "\u001b[32m  ✓ \u001b[39m\u001b[90mLogExpFunctions\u001b[39m\n",
            "\u001b[32m  ✓ \u001b[39m\u001b[90mArrayInterface\u001b[39m\n",
            "\u001b[32m  ✓ \u001b[39m\u001b[90mRecipesBase\u001b[39m\n",
            "\u001b[32m  ✓ \u001b[39m\u001b[90mThreadingUtilities\u001b[39m\n",
            "\u001b[32m  ✓ \u001b[39m\u001b[90mOffsetArrays → OffsetArraysAdaptExt\u001b[39m\n",
            "\u001b[32m  ✓ \u001b[39m\u001b[90mBitTwiddlingConvenienceFunctions\u001b[39m\n",
            "\u001b[32m  ✓ \u001b[39m\u001b[90mArrayInterface → ArrayInterfaceSparseArraysExt\u001b[39m\n",
            "\u001b[32m  ✓ \u001b[39m\u001b[90mCPUSummary\u001b[39m\n",
            "\u001b[32m  ✓ \u001b[39m\u001b[90mHostCPUFeatures\u001b[39m\n",
            "\u001b[32m  ✓ \u001b[39m\u001b[90mPolyesterWeave\u001b[39m\n",
            "\u001b[32m  ✓ \u001b[39m\u001b[90mStatsBase\u001b[39m\n",
            "\u001b[32m  ✓ \u001b[39m\u001b[90mStaticArrayInterface\u001b[39m\n",
            "\u001b[32m  ✓ \u001b[39m\u001b[90mStaticArrayInterface → StaticArrayInterfaceOffsetArraysExt\u001b[39m\n",
            "\u001b[32m  ✓ \u001b[39m\u001b[90mCloseOpenIntervals\u001b[39m\n",
            "\u001b[32m  ✓ \u001b[39m\u001b[90mLayoutPointers\u001b[39m\n",
            "\u001b[32m  ✓ \u001b[39m\u001b[90mVectorizationBase\u001b[39m\n",
            "\u001b[32m  ✓ \u001b[39m\u001b[90mAccurateArithmetic\u001b[39m\n",
            "\u001b[32m  ✓ \u001b[39m\u001b[90mSLEEFPirates\u001b[39m\n",
            "\u001b[32m  ✓ \u001b[39m\u001b[90mLoopVectorization\u001b[39m\n",
            "\u001b[32m  ✓ \u001b[39m\u001b[90mRollingFunctions\u001b[39m\n",
            "\u001b[32m  ✓ \u001b[39mTSFrames\n",
            "  36 dependencies successfully precompiled in 86 seconds. 43 already precompiled.\n",
            "\u001b[32m\u001b[1m   Resolving\u001b[22m\u001b[39m package versions...\n",
            "\u001b[32m\u001b[1m   Installed\u001b[22m\u001b[39m Mocking ──────────── v0.8.1\n",
            "\u001b[32m\u001b[1m   Installed\u001b[22m\u001b[39m Scratch ──────────── v1.2.1\n",
            "\u001b[32m\u001b[1m   Installed\u001b[22m\u001b[39m WorkerUtilities ──── v1.6.1\n",
            "\u001b[32m\u001b[1m   Installed\u001b[22m\u001b[39m TZJData ──────────── v1.3.0+2024b\n",
            "\u001b[32m\u001b[1m   Installed\u001b[22m\u001b[39m RData ────────────── v0.8.3\n",
            "\u001b[32m\u001b[1m   Installed\u001b[22m\u001b[39m CategoricalArrays ── v0.10.8\n",
            "\u001b[32m\u001b[1m   Installed\u001b[22m\u001b[39m TranscodingStreams ─ v0.11.3\n",
            "\u001b[32m\u001b[1m   Installed\u001b[22m\u001b[39m TimeZones ────────── v1.19.0\n",
            "\u001b[32m\u001b[1m   Installed\u001b[22m\u001b[39m WeakRefStrings ───── v1.4.2\n",
            "\u001b[32m\u001b[1m   Installed\u001b[22m\u001b[39m FilePathsBase ────── v0.9.22\n",
            "\u001b[32m\u001b[1m   Installed\u001b[22m\u001b[39m FileIO ───────────── v1.16.6\n",
            "\u001b[32m\u001b[1m   Installed\u001b[22m\u001b[39m CodecZlib ────────── v0.7.6\n",
            "\u001b[32m\u001b[1m   Installed\u001b[22m\u001b[39m ExprTools ────────── v0.1.10\n",
            "\u001b[32m\u001b[1m   Installed\u001b[22m\u001b[39m CSV ──────────────── v0.10.15\n",
            "\u001b[32m\u001b[1m   Installed\u001b[22m\u001b[39m RDatasets ────────── v0.7.7\n",
            "\u001b[32m\u001b[1m    Updating\u001b[22m\u001b[39m `~/.julia/environments/v1.10/Project.toml`\n",
            "  \u001b[90m[ce6b1742] \u001b[39m\u001b[92m+ RDatasets v0.7.7\u001b[39m\n",
            "\u001b[32m\u001b[1m    Updating\u001b[22m\u001b[39m `~/.julia/environments/v1.10/Manifest.toml`\n",
            "  \u001b[90m[336ed68f] \u001b[39m\u001b[92m+ CSV v0.10.15\u001b[39m\n",
            "  \u001b[90m[324d7699] \u001b[39m\u001b[92m+ CategoricalArrays v0.10.8\u001b[39m\n",
            "  \u001b[90m[944b1d66] \u001b[39m\u001b[92m+ CodecZlib v0.7.6\u001b[39m\n",
            "  \u001b[90m[e2ba6199] \u001b[39m\u001b[92m+ ExprTools v0.1.10\u001b[39m\n",
            "  \u001b[90m[5789e2e9] \u001b[39m\u001b[92m+ FileIO v1.16.6\u001b[39m\n",
            "  \u001b[90m[48062228] \u001b[39m\u001b[92m+ FilePathsBase v0.9.22\u001b[39m\n",
            "  \u001b[90m[78c3b35d] \u001b[39m\u001b[92m+ Mocking v0.8.1\u001b[39m\n",
            "\u001b[33m⌅\u001b[39m \u001b[90m[df47a6cb] \u001b[39m\u001b[92m+ RData v0.8.3\u001b[39m\n",
            "  \u001b[90m[ce6b1742] \u001b[39m\u001b[92m+ RDatasets v0.7.7\u001b[39m\n",
            "  \u001b[90m[6c6a2e73] \u001b[39m\u001b[92m+ Scratch v1.2.1\u001b[39m\n",
            "  \u001b[90m[dc5dba14] \u001b[39m\u001b[92m+ TZJData v1.3.0+2024b\u001b[39m\n",
            "  \u001b[90m[f269a46b] \u001b[39m\u001b[92m+ TimeZones v1.19.0\u001b[39m\n",
            "  \u001b[90m[3bb67fe8] \u001b[39m\u001b[92m+ TranscodingStreams v0.11.3\u001b[39m\n",
            "  \u001b[90m[ea10d353] \u001b[39m\u001b[92m+ WeakRefStrings v1.4.2\u001b[39m\n",
            "  \u001b[90m[76eceee3] \u001b[39m\u001b[92m+ WorkerUtilities v1.6.1\u001b[39m\n",
            "\u001b[36m\u001b[1m        Info\u001b[22m\u001b[39m Packages marked with \u001b[33m⌅\u001b[39m have new versions available but compatibility constraints restrict them from upgrading. To see why use `status --outdated -m`\n",
            "\u001b[32m\u001b[1mPrecompiling\u001b[22m\u001b[39m project...\n",
            "\u001b[32m  ✓ \u001b[39m\u001b[90mScratch\u001b[39m\n",
            "\u001b[32m  ✓ \u001b[39m\u001b[90mWorkerUtilities\u001b[39m\n",
            "\u001b[32m  ✓ \u001b[39m\u001b[90mExprTools\u001b[39m\n",
            "\u001b[32m  ✓ \u001b[39m\u001b[90mTZJData\u001b[39m\n",
            "\u001b[32m  ✓ \u001b[39m\u001b[90mTranscodingStreams\u001b[39m\n",
            "\u001b[32m  ✓ \u001b[39m\u001b[90mFilePathsBase\u001b[39m\n",
            "\u001b[32m  ✓ \u001b[39m\u001b[90mCategoricalArrays\u001b[39m\n",
            "\u001b[32m  ✓ \u001b[39m\u001b[90mWeakRefStrings\u001b[39m\n",
            "\u001b[32m  ✓ \u001b[39m\u001b[90mCodecZlib\u001b[39m\n",
            "\u001b[32m  ✓ \u001b[39m\u001b[90mMocking\u001b[39m\n",
            "\u001b[32m  ✓ \u001b[39m\u001b[90mFilePathsBase → FilePathsBaseMmapExt\u001b[39m\n",
            "\u001b[32m  ✓ \u001b[39m\u001b[90mCategoricalArrays → CategoricalArraysRecipesBaseExt\u001b[39m\n",
            "\u001b[32m  ✓ \u001b[39m\u001b[90mFilePathsBase → FilePathsBaseTestExt\u001b[39m\n",
            "\u001b[32m  ✓ \u001b[39m\u001b[90mFileIO\u001b[39m\n",
            "\u001b[32m  ✓ \u001b[39m\u001b[90mCategoricalArrays → CategoricalArraysSentinelArraysExt\u001b[39m\n",
            "\u001b[32m  ✓ \u001b[39m\u001b[90mCategoricalArrays → CategoricalArraysJSONExt\u001b[39m\n",
            "\u001b[32m  ✓ \u001b[39m\u001b[90mTimeZones\u001b[39m\n",
            "\u001b[32m  ✓ \u001b[39m\u001b[90mTimeZones → TimeZonesRecipesBaseExt\u001b[39m\n",
            "\u001b[32m  ✓ \u001b[39m\u001b[90mRData\u001b[39m\n",
            "\u001b[32m  ✓ \u001b[39m\u001b[90mCSV\u001b[39m\n",
            "\u001b[32m  ✓ \u001b[39mRDatasets\n",
            "  21 dependencies successfully precompiled in 57 seconds. 79 already precompiled.\n",
            "\u001b[32m\u001b[1m   Resolving\u001b[22m\u001b[39m package versions...\n",
            "\u001b[32m\u001b[1m    Updating\u001b[22m\u001b[39m `~/.julia/environments/v1.10/Project.toml`\n",
            "  \u001b[90m[336ed68f] \u001b[39m\u001b[92m+ CSV v0.10.15\u001b[39m\n",
            "\u001b[32m\u001b[1m  No Changes\u001b[22m\u001b[39m to `~/.julia/environments/v1.10/Manifest.toml`\n",
            "\u001b[32m\u001b[1m   Resolving\u001b[22m\u001b[39m package versions...\n",
            "\u001b[32m\u001b[1m   Installed\u001b[22m\u001b[39m JSON3 ─────────────── v1.14.1\n",
            "\u001b[32m\u001b[1m   Installed\u001b[22m\u001b[39m BitFlags ──────────── v0.1.9\n",
            "\u001b[32m\u001b[1m   Installed\u001b[22m\u001b[39m ConcurrentUtilities ─ v2.4.2\n",
            "\u001b[32m\u001b[1m   Installed\u001b[22m\u001b[39m LoggingExtras ─────── v1.1.0\n",
            "\u001b[32m\u001b[1m   Installed\u001b[22m\u001b[39m SimpleBufferStream ── v1.2.0\n",
            "\u001b[32m\u001b[1m   Installed\u001b[22m\u001b[39m StructTypes ───────── v1.11.0\n",
            "\u001b[32m\u001b[1m   Installed\u001b[22m\u001b[39m OpenSSL_jll ───────── v3.0.15+1\n",
            "\u001b[32m\u001b[1m   Installed\u001b[22m\u001b[39m URIs ──────────────── v1.5.1\n",
            "\u001b[32m\u001b[1m   Installed\u001b[22m\u001b[39m ExceptionUnwrapping ─ v0.1.11\n",
            "\u001b[32m\u001b[1m   Installed\u001b[22m\u001b[39m DelimitedFiles ────── v1.9.1\n",
            "\u001b[32m\u001b[1m   Installed\u001b[22m\u001b[39m OpenSSL ───────────── v1.4.3\n",
            "\u001b[32m\u001b[1m   Installed\u001b[22m\u001b[39m TimeSeries ────────── v0.24.2\n",
            "\u001b[32m\u001b[1m   Installed\u001b[22m\u001b[39m HTTP ──────────────── v1.10.12\n",
            "\u001b[32m\u001b[1m   Installed\u001b[22m\u001b[39m MarketData ────────── v0.15.0\n",
            "\u001b[32m\u001b[1m    Updating\u001b[22m\u001b[39m `~/.julia/environments/v1.10/Project.toml`\n",
            "  \u001b[90m[945b72a4] \u001b[39m\u001b[92m+ MarketData v0.15.0\u001b[39m\n",
            "\u001b[32m\u001b[1m    Updating\u001b[22m\u001b[39m `~/.julia/environments/v1.10/Manifest.toml`\n",
            "  \u001b[90m[d1d4a3ce] \u001b[39m\u001b[92m+ BitFlags v0.1.9\u001b[39m\n",
            "  \u001b[90m[f0e56b4a] \u001b[39m\u001b[92m+ ConcurrentUtilities v2.4.2\u001b[39m\n",
            "  \u001b[90m[8bb1440f] \u001b[39m\u001b[92m+ DelimitedFiles v1.9.1\u001b[39m\n",
            "  \u001b[90m[460bff9d] \u001b[39m\u001b[92m+ ExceptionUnwrapping v0.1.11\u001b[39m\n",
            "  \u001b[90m[cd3eb016] \u001b[39m\u001b[92m+ HTTP v1.10.12\u001b[39m\n",
            "  \u001b[90m[0f8b85d8] \u001b[39m\u001b[92m+ JSON3 v1.14.1\u001b[39m\n",
            "  \u001b[90m[e6f89c97] \u001b[39m\u001b[92m+ LoggingExtras v1.1.0\u001b[39m\n",
            "  \u001b[90m[945b72a4] \u001b[39m\u001b[92m+ MarketData v0.15.0\u001b[39m\n",
            "  \u001b[90m[4d8831e6] \u001b[39m\u001b[92m+ OpenSSL v1.4.3\u001b[39m\n",
            "  \u001b[90m[777ac1f9] \u001b[39m\u001b[92m+ SimpleBufferStream v1.2.0\u001b[39m\n",
            "  \u001b[90m[856f2bd8] \u001b[39m\u001b[92m+ StructTypes v1.11.0\u001b[39m\n",
            "  \u001b[90m[9e3dc215] \u001b[39m\u001b[92m+ TimeSeries v0.24.2\u001b[39m\n",
            "  \u001b[90m[5c2747f8] \u001b[39m\u001b[92m+ URIs v1.5.1\u001b[39m\n",
            "  \u001b[90m[458c3c95] \u001b[39m\u001b[92m+ OpenSSL_jll v3.0.15+1\u001b[39m\n",
            "\u001b[32m\u001b[1mPrecompiling\u001b[22m\u001b[39m project...\n",
            "\u001b[32m  ✓ \u001b[39m\u001b[90mDelimitedFiles\u001b[39m\n",
            "\u001b[32m  ✓ \u001b[39m\u001b[90mURIs\u001b[39m\n",
            "\u001b[32m  ✓ \u001b[39m\u001b[90mStructTypes\u001b[39m\n",
            "\u001b[32m  ✓ \u001b[39m\u001b[90mSimpleBufferStream\u001b[39m\n",
            "\u001b[32m  ✓ \u001b[39m\u001b[90mBitFlags\u001b[39m\n",
            "\u001b[32m  ✓ \u001b[39m\u001b[90mLoggingExtras\u001b[39m\n",
            "\u001b[32m  ✓ \u001b[39m\u001b[90mExceptionUnwrapping\u001b[39m\n",
            "\u001b[32m  ✓ \u001b[39m\u001b[90mConcurrentUtilities\u001b[39m\n",
            "\u001b[32m  ✓ \u001b[39m\u001b[90mOpenSSL_jll\u001b[39m\n",
            "\u001b[32m  ✓ \u001b[39m\u001b[90mCategoricalArrays → CategoricalArraysStructTypesExt\u001b[39m\n",
            "\u001b[32m  ✓ \u001b[39m\u001b[90mTimeSeries\u001b[39m\n",
            "\u001b[32m  ✓ \u001b[39m\u001b[90mOpenSSL\u001b[39m\n",
            "\u001b[32m  ✓ \u001b[39m\u001b[90mJSON3\u001b[39m\n",
            "\u001b[32m  ✓ \u001b[39m\u001b[90mHTTP\u001b[39m\n",
            "\u001b[32m  ✓ \u001b[39m\u001b[90mFileIO → HTTPExt\u001b[39m\n",
            "\u001b[32m  ✓ \u001b[39mMarketData\n",
            "  16 dependencies successfully precompiled in 58 seconds. 100 already precompiled.\n",
            "\u001b[32m\u001b[1m   Resolving\u001b[22m\u001b[39m package versions...\n",
            "\u001b[32m\u001b[1m   Installed\u001b[22m\u001b[39m TableOperations ── v1.2.0\n",
            "\u001b[32m\u001b[1m   Installed\u001b[22m\u001b[39m StaticArraysCore ─ v1.4.3\n",
            "\u001b[32m\u001b[1m   Installed\u001b[22m\u001b[39m IterTools ──────── v1.10.0\n",
            "\u001b[32m\u001b[1m   Installed\u001b[22m\u001b[39m StaticArrays ───── v1.9.8\n",
            "\u001b[32m\u001b[1m   Installed\u001b[22m\u001b[39m Distances ──────── v0.10.12\n",
            "\u001b[32m\u001b[1m   Installed\u001b[22m\u001b[39m BSON ───────────── v0.3.9\n",
            "\u001b[32m\u001b[1m   Installed\u001b[22m\u001b[39m DataDeps ───────── v0.7.13\n",
            "\u001b[32m\u001b[1m   Installed\u001b[22m\u001b[39m NearestNeighbors ─ v0.4.21\n",
            "\u001b[32m\u001b[1m   Installed\u001b[22m\u001b[39m NamedDims ──────── v1.2.2\n",
            "\u001b[32m\u001b[1m   Installed\u001b[22m\u001b[39m Impute ─────────── v0.6.12\n",
            "\u001b[32m\u001b[1m    Updating\u001b[22m\u001b[39m `~/.julia/environments/v1.10/Project.toml`\n",
            "  \u001b[90m[f7bf1975] \u001b[39m\u001b[92m+ Impute v0.6.12\u001b[39m\n",
            "\u001b[32m\u001b[1m    Updating\u001b[22m\u001b[39m `~/.julia/environments/v1.10/Manifest.toml`\n",
            "  \u001b[90m[fbb218c0] \u001b[39m\u001b[92m+ BSON v0.3.9\u001b[39m\n",
            "  \u001b[90m[124859b0] \u001b[39m\u001b[92m+ DataDeps v0.7.13\u001b[39m\n",
            "  \u001b[90m[b4f34e82] \u001b[39m\u001b[92m+ Distances v0.10.12\u001b[39m\n",
            "  \u001b[90m[f7bf1975] \u001b[39m\u001b[92m+ Impute v0.6.12\u001b[39m\n",
            "  \u001b[90m[c8e1da08] \u001b[39m\u001b[92m+ IterTools v1.10.0\u001b[39m\n",
            "  \u001b[90m[356022a1] \u001b[39m\u001b[92m+ NamedDims v1.2.2\u001b[39m\n",
            "  \u001b[90m[b8a86587] \u001b[39m\u001b[92m+ NearestNeighbors v0.4.21\u001b[39m\n",
            "  \u001b[90m[90137ffa] \u001b[39m\u001b[92m+ StaticArrays v1.9.8\u001b[39m\n",
            "  \u001b[90m[1e83bf80] \u001b[39m\u001b[92m+ StaticArraysCore v1.4.3\u001b[39m\n",
            "  \u001b[90m[ab02a1b2] \u001b[39m\u001b[92m+ TableOperations v1.2.0\u001b[39m\n",
            "\u001b[32m\u001b[1mPrecompiling\u001b[22m\u001b[39m project...\n",
            "\u001b[32m  ✓ \u001b[39m\u001b[90mStaticArraysCore\u001b[39m\n",
            "\u001b[32m  ✓ \u001b[39m\u001b[90mIterTools\u001b[39m\n",
            "\u001b[32m  ✓ \u001b[39m\u001b[90mBSON\u001b[39m\n",
            "\u001b[32m  ✓ \u001b[39m\u001b[90mTableOperations\u001b[39m\n",
            "\u001b[32m  ✓ \u001b[39m\u001b[90mDistances\u001b[39m\n",
            "\u001b[32m  ✓ \u001b[39m\u001b[90mNamedDims\u001b[39m\n",
            "\u001b[32m  ✓ \u001b[39m\u001b[90mDistances → DistancesSparseArraysExt\u001b[39m\n",
            "\u001b[32m  ✓ \u001b[39m\u001b[90mDataDeps\u001b[39m\n",
            "\u001b[32m  ✓ \u001b[39m\u001b[90mStaticArrays\u001b[39m\n",
            "\u001b[32m  ✓ \u001b[39m\u001b[90mAdapt → AdaptStaticArraysExt\u001b[39m\n",
            "\u001b[32m  ✓ \u001b[39m\u001b[90mStaticArrays → StaticArraysStatisticsExt\u001b[39m\n",
            "\u001b[32m  ✓ \u001b[39m\u001b[90mArrayInterface → ArrayInterfaceStaticArraysCoreExt\u001b[39m\n",
            "\u001b[32m  ✓ \u001b[39m\u001b[90mStaticArrayInterface → StaticArrayInterfaceStaticArraysExt\u001b[39m\n",
            "\u001b[32m  ✓ \u001b[39m\u001b[90mNearestNeighbors\u001b[39m\n",
            "\u001b[32m  ✓ \u001b[39mImpute\n",
            "  15 dependencies successfully precompiled in 31 seconds. 116 already precompiled.\n"
          ]
        }
      ]
    },
    {
      "cell_type": "code",
      "source": [
        "using DataFrames"
      ],
      "metadata": {
        "id": "Oss9g4nZE-AN"
      },
      "execution_count": 3,
      "outputs": []
    },
    {
      "cell_type": "code",
      "source": [
        "df = DataFrame([])"
      ],
      "metadata": {
        "colab": {
          "base_uri": "https://localhost:8080/",
          "height": 40
        },
        "id": "RdRiDjwfFCQp",
        "outputId": "248c52d7-2260-4881-9101-70d9548c5ab7"
      },
      "execution_count": 4,
      "outputs": [
        {
          "output_type": "execute_result",
          "data": {
            "text/plain": [
              "\u001b[1m0×0 DataFrame\u001b[0m"
            ],
            "text/html": [
              "<div><div style = \"float: left;\"><span>0×0 DataFrame</span></div><div style = \"clear: both;\"></div></div><div class = \"data-frame\" style = \"overflow-x: scroll;\"><table class = \"data-frame\" style = \"margin-bottom: 6px;\"></table></div>"
            ],
            "text/latex": "\\begin{tabular}{r|}\n\t& \\\\\n\t\\hline\n\t& \\\\\n\t\\hline\n\\end{tabular}\n"
          },
          "metadata": {},
          "execution_count": 4
        }
      ]
    },
    {
      "cell_type": "code",
      "source": [
        "df = DataFrame(a=[1,2], b=[2,3])"
      ],
      "metadata": {
        "id": "KXmaTCfBjGg5",
        "outputId": "66f17860-80a4-4215-f601-4760f53ffea8",
        "colab": {
          "base_uri": "https://localhost:8080/",
          "height": 126
        }
      },
      "execution_count": 5,
      "outputs": [
        {
          "output_type": "execute_result",
          "data": {
            "text/plain": [
              "\u001b[1m2×2 DataFrame\u001b[0m\n",
              "\u001b[1m Row \u001b[0m│\u001b[1m a     \u001b[0m\u001b[1m b     \u001b[0m\n",
              "     │\u001b[90m Int64 \u001b[0m\u001b[90m Int64 \u001b[0m\n",
              "─────┼──────────────\n",
              "   1 │     1      2\n",
              "   2 │     2      3"
            ],
            "text/html": [
              "<div><div style = \"float: left;\"><span>2×2 DataFrame</span></div><div style = \"clear: both;\"></div></div><div class = \"data-frame\" style = \"overflow-x: scroll;\"><table class = \"data-frame\" style = \"margin-bottom: 6px;\"><thead><tr class = \"header\"><th class = \"rowNumber\" style = \"font-weight: bold; text-align: right;\">Row</th><th style = \"text-align: left;\">a</th><th style = \"text-align: left;\">b</th></tr><tr class = \"subheader headerLastRow\"><th class = \"rowNumber\" style = \"font-weight: bold; text-align: right;\"></th><th title = \"Int64\" style = \"text-align: left;\">Int64</th><th title = \"Int64\" style = \"text-align: left;\">Int64</th></tr></thead><tbody><tr><td class = \"rowNumber\" style = \"font-weight: bold; text-align: right;\">1</td><td style = \"text-align: right;\">1</td><td style = \"text-align: right;\">2</td></tr><tr><td class = \"rowNumber\" style = \"font-weight: bold; text-align: right;\">2</td><td style = \"text-align: right;\">2</td><td style = \"text-align: right;\">3</td></tr></tbody></table></div>"
            ],
            "text/latex": "\\begin{tabular}{r|cc}\n\t& a & b\\\\\n\t\\hline\n\t& Int64 & Int64\\\\\n\t\\hline\n\t1 & 1 & 2 \\\\\n\t2 & 2 & 3 \\\\\n\\end{tabular}\n"
          },
          "metadata": {},
          "execution_count": 5
        }
      ]
    },
    {
      "cell_type": "code",
      "source": [
        "using CSV\n",
        "aapl_df = CSV.read(\"aapl.csv\", DataFrame)"
      ],
      "metadata": {
        "colab": {
          "base_uri": "https://localhost:8080/",
          "height": 630
        },
        "id": "owLmAZPYFdmY",
        "outputId": "80245539-e2c7-4534-aa67-6cd9a0db6295"
      },
      "execution_count": 97,
      "outputs": [
        {
          "output_type": "execute_result",
          "data": {
            "text/plain": [
              "\u001b[1m11088×7 DataFrame\u001b[0m\n",
              "\u001b[1m   Row \u001b[0m│\u001b[1m timestamp  \u001b[0m\u001b[1m Open       \u001b[0m\u001b[1m High       \u001b[0m\u001b[1m Low        \u001b[0m\u001b[1m Close      \u001b[0m\u001b[1m AdjClose    \u001b[0m\u001b[1m Volume    \u001b[0m\n",
              "       │\u001b[90m Date       \u001b[0m\u001b[90m Float64    \u001b[0m\u001b[90m Float64    \u001b[0m\u001b[90m Float64    \u001b[0m\u001b[90m Float64    \u001b[0m\u001b[90m Float64     \u001b[0m\u001b[90m Float64   \u001b[0m\n",
              "───────┼────────────────────────────────────────────────────────────────────────────────────\n",
              "     1 │ 1980-12-12    0.128348    0.128906    0.128348    0.128348    0.0988345  4.69034e8\n",
              "     2 │ 1980-12-15    0.12221     0.12221     0.121652    0.121652    0.0936782  1.75885e8\n",
              "     3 │ 1980-12-16    0.113281    0.113281    0.112723    0.112723    0.0868024  1.05728e8\n",
              "     4 │ 1980-12-17    0.115513    0.116071    0.115513    0.115513    0.0889509  8.64416e7\n",
              "     5 │ 1980-12-18    0.118862    0.11942     0.118862    0.118862    0.0915298  7.34496e7\n",
              "     6 │ 1980-12-19    0.126116    0.126674    0.126116    0.126116    0.0971157  4.86304e7\n",
              "     7 │ 1980-12-22    0.132254    0.132813    0.132254    0.132254    0.101842   3.73632e7\n",
              "     8 │ 1980-12-23    0.137835    0.138393    0.137835    0.137835    0.10614    4.69504e7\n",
              "     9 │ 1980-12-24    0.145089    0.145647    0.145089    0.145089    0.111726   4.80032e7\n",
              "    10 │ 1980-12-26    0.158482    0.15904     0.158482    0.158482    0.122039   5.55744e7\n",
              "    11 │ 1980-12-29    0.160714    0.161272    0.160714    0.160714    0.123758   9.31616e7\n",
              "   ⋮   │     ⋮           ⋮           ⋮           ⋮           ⋮            ⋮           ⋮\n",
              " 11079 │ 2024-11-21  228.88      230.16      225.71      228.52      228.52       4.21083e7\n",
              " 11080 │ 2024-11-22  228.06      230.72      228.06      229.87      229.87       3.81683e7\n",
              " 11081 │ 2024-11-25  231.46      233.25      229.74      232.87      232.87       9.01528e7\n",
              " 11082 │ 2024-11-26  233.33      235.57      233.33      235.06      235.06       4.59862e7\n",
              " 11083 │ 2024-11-27  234.47      235.69      233.81      234.93      234.93       3.34984e7\n",
              " 11084 │ 2024-11-29  234.81      237.81      233.97      237.33      237.33       2.84814e7\n",
              " 11085 │ 2024-12-02  237.27      240.79      237.16      239.59      239.59       4.81371e7\n",
              " 11086 │ 2024-12-03  239.81      242.76      238.9       242.65      242.65       3.8861e7\n",
              " 11087 │ 2024-12-04  242.87      244.11      241.25      243.01      243.01       4.4353e7\n",
              " 11088 │ 2024-12-05  244.05      244.54      242.23      242.59      242.59       1.09565e7\n",
              "\u001b[36m                                                                          11067 rows omitted\u001b[0m"
            ],
            "text/html": [
              "<div><div style = \"float: left;\"><span>11088×7 DataFrame</span></div><div style = \"float: right;\"><span style = \"font-style: italic;\">11063 rows omitted</span></div><div style = \"clear: both;\"></div></div><div class = \"data-frame\" style = \"overflow-x: scroll;\"><table class = \"data-frame\" style = \"margin-bottom: 6px;\"><thead><tr class = \"header\"><th class = \"rowNumber\" style = \"font-weight: bold; text-align: right;\">Row</th><th style = \"text-align: left;\">timestamp</th><th style = \"text-align: left;\">Open</th><th style = \"text-align: left;\">High</th><th style = \"text-align: left;\">Low</th><th style = \"text-align: left;\">Close</th><th style = \"text-align: left;\">AdjClose</th><th style = \"text-align: left;\">Volume</th></tr><tr class = \"subheader headerLastRow\"><th class = \"rowNumber\" style = \"font-weight: bold; text-align: right;\"></th><th title = \"Date\" style = \"text-align: left;\">Date</th><th title = \"Float64\" style = \"text-align: left;\">Float64</th><th title = \"Float64\" style = \"text-align: left;\">Float64</th><th title = \"Float64\" style = \"text-align: left;\">Float64</th><th title = \"Float64\" style = \"text-align: left;\">Float64</th><th title = \"Float64\" style = \"text-align: left;\">Float64</th><th title = \"Float64\" style = \"text-align: left;\">Float64</th></tr></thead><tbody><tr><td class = \"rowNumber\" style = \"font-weight: bold; text-align: right;\">1</td><td style = \"text-align: left;\">1980-12-12</td><td style = \"text-align: right;\">0.128348</td><td style = \"text-align: right;\">0.128906</td><td style = \"text-align: right;\">0.128348</td><td style = \"text-align: right;\">0.128348</td><td style = \"text-align: right;\">0.0988345</td><td style = \"text-align: right;\">4.69034e8</td></tr><tr><td class = \"rowNumber\" style = \"font-weight: bold; text-align: right;\">2</td><td style = \"text-align: left;\">1980-12-15</td><td style = \"text-align: right;\">0.12221</td><td style = \"text-align: right;\">0.12221</td><td style = \"text-align: right;\">0.121652</td><td style = \"text-align: right;\">0.121652</td><td style = \"text-align: right;\">0.0936782</td><td style = \"text-align: right;\">1.75885e8</td></tr><tr><td class = \"rowNumber\" style = \"font-weight: bold; text-align: right;\">3</td><td style = \"text-align: left;\">1980-12-16</td><td style = \"text-align: right;\">0.113281</td><td style = \"text-align: right;\">0.113281</td><td style = \"text-align: right;\">0.112723</td><td style = \"text-align: right;\">0.112723</td><td style = \"text-align: right;\">0.0868024</td><td style = \"text-align: right;\">1.05728e8</td></tr><tr><td class = \"rowNumber\" style = \"font-weight: bold; text-align: right;\">4</td><td style = \"text-align: left;\">1980-12-17</td><td style = \"text-align: right;\">0.115513</td><td style = \"text-align: right;\">0.116071</td><td style = \"text-align: right;\">0.115513</td><td style = \"text-align: right;\">0.115513</td><td style = \"text-align: right;\">0.0889509</td><td style = \"text-align: right;\">8.64416e7</td></tr><tr><td class = \"rowNumber\" style = \"font-weight: bold; text-align: right;\">5</td><td style = \"text-align: left;\">1980-12-18</td><td style = \"text-align: right;\">0.118862</td><td style = \"text-align: right;\">0.11942</td><td style = \"text-align: right;\">0.118862</td><td style = \"text-align: right;\">0.118862</td><td style = \"text-align: right;\">0.0915298</td><td style = \"text-align: right;\">7.34496e7</td></tr><tr><td class = \"rowNumber\" style = \"font-weight: bold; text-align: right;\">6</td><td style = \"text-align: left;\">1980-12-19</td><td style = \"text-align: right;\">0.126116</td><td style = \"text-align: right;\">0.126674</td><td style = \"text-align: right;\">0.126116</td><td style = \"text-align: right;\">0.126116</td><td style = \"text-align: right;\">0.0971157</td><td style = \"text-align: right;\">4.86304e7</td></tr><tr><td class = \"rowNumber\" style = \"font-weight: bold; text-align: right;\">7</td><td style = \"text-align: left;\">1980-12-22</td><td style = \"text-align: right;\">0.132254</td><td style = \"text-align: right;\">0.132813</td><td style = \"text-align: right;\">0.132254</td><td style = \"text-align: right;\">0.132254</td><td style = \"text-align: right;\">0.101842</td><td style = \"text-align: right;\">3.73632e7</td></tr><tr><td class = \"rowNumber\" style = \"font-weight: bold; text-align: right;\">8</td><td style = \"text-align: left;\">1980-12-23</td><td style = \"text-align: right;\">0.137835</td><td style = \"text-align: right;\">0.138393</td><td style = \"text-align: right;\">0.137835</td><td style = \"text-align: right;\">0.137835</td><td style = \"text-align: right;\">0.10614</td><td style = \"text-align: right;\">4.69504e7</td></tr><tr><td class = \"rowNumber\" style = \"font-weight: bold; text-align: right;\">9</td><td style = \"text-align: left;\">1980-12-24</td><td style = \"text-align: right;\">0.145089</td><td style = \"text-align: right;\">0.145647</td><td style = \"text-align: right;\">0.145089</td><td style = \"text-align: right;\">0.145089</td><td style = \"text-align: right;\">0.111726</td><td style = \"text-align: right;\">4.80032e7</td></tr><tr><td class = \"rowNumber\" style = \"font-weight: bold; text-align: right;\">10</td><td style = \"text-align: left;\">1980-12-26</td><td style = \"text-align: right;\">0.158482</td><td style = \"text-align: right;\">0.15904</td><td style = \"text-align: right;\">0.158482</td><td style = \"text-align: right;\">0.158482</td><td style = \"text-align: right;\">0.122039</td><td style = \"text-align: right;\">5.55744e7</td></tr><tr><td class = \"rowNumber\" style = \"font-weight: bold; text-align: right;\">11</td><td style = \"text-align: left;\">1980-12-29</td><td style = \"text-align: right;\">0.160714</td><td style = \"text-align: right;\">0.161272</td><td style = \"text-align: right;\">0.160714</td><td style = \"text-align: right;\">0.160714</td><td style = \"text-align: right;\">0.123758</td><td style = \"text-align: right;\">9.31616e7</td></tr><tr><td class = \"rowNumber\" style = \"font-weight: bold; text-align: right;\">12</td><td style = \"text-align: left;\">1980-12-30</td><td style = \"text-align: right;\">0.157366</td><td style = \"text-align: right;\">0.157366</td><td style = \"text-align: right;\">0.156808</td><td style = \"text-align: right;\">0.156808</td><td style = \"text-align: right;\">0.12075</td><td style = \"text-align: right;\">6.888e7</td></tr><tr><td class = \"rowNumber\" style = \"font-weight: bold; text-align: right;\">13</td><td style = \"text-align: left;\">1980-12-31</td><td style = \"text-align: right;\">0.152902</td><td style = \"text-align: right;\">0.152902</td><td style = \"text-align: right;\">0.152344</td><td style = \"text-align: right;\">0.152344</td><td style = \"text-align: right;\">0.117313</td><td style = \"text-align: right;\">3.57504e7</td></tr><tr><td style = \"text-align: right;\">&vellip;</td><td style = \"text-align: right;\">&vellip;</td><td style = \"text-align: right;\">&vellip;</td><td style = \"text-align: right;\">&vellip;</td><td style = \"text-align: right;\">&vellip;</td><td style = \"text-align: right;\">&vellip;</td><td style = \"text-align: right;\">&vellip;</td><td style = \"text-align: right;\">&vellip;</td></tr><tr><td class = \"rowNumber\" style = \"font-weight: bold; text-align: right;\">11077</td><td style = \"text-align: left;\">2024-11-19</td><td style = \"text-align: right;\">226.98</td><td style = \"text-align: right;\">230.16</td><td style = \"text-align: right;\">226.66</td><td style = \"text-align: right;\">228.28</td><td style = \"text-align: right;\">228.28</td><td style = \"text-align: right;\">3.62118e7</td></tr><tr><td class = \"rowNumber\" style = \"font-weight: bold; text-align: right;\">11078</td><td style = \"text-align: left;\">2024-11-20</td><td style = \"text-align: right;\">228.06</td><td style = \"text-align: right;\">229.93</td><td style = \"text-align: right;\">225.89</td><td style = \"text-align: right;\">229.0</td><td style = \"text-align: right;\">229.0</td><td style = \"text-align: right;\">3.51696e7</td></tr><tr><td class = \"rowNumber\" style = \"font-weight: bold; text-align: right;\">11079</td><td style = \"text-align: left;\">2024-11-21</td><td style = \"text-align: right;\">228.88</td><td style = \"text-align: right;\">230.16</td><td style = \"text-align: right;\">225.71</td><td style = \"text-align: right;\">228.52</td><td style = \"text-align: right;\">228.52</td><td style = \"text-align: right;\">4.21083e7</td></tr><tr><td class = \"rowNumber\" style = \"font-weight: bold; text-align: right;\">11080</td><td style = \"text-align: left;\">2024-11-22</td><td style = \"text-align: right;\">228.06</td><td style = \"text-align: right;\">230.72</td><td style = \"text-align: right;\">228.06</td><td style = \"text-align: right;\">229.87</td><td style = \"text-align: right;\">229.87</td><td style = \"text-align: right;\">3.81683e7</td></tr><tr><td class = \"rowNumber\" style = \"font-weight: bold; text-align: right;\">11081</td><td style = \"text-align: left;\">2024-11-25</td><td style = \"text-align: right;\">231.46</td><td style = \"text-align: right;\">233.25</td><td style = \"text-align: right;\">229.74</td><td style = \"text-align: right;\">232.87</td><td style = \"text-align: right;\">232.87</td><td style = \"text-align: right;\">9.01528e7</td></tr><tr><td class = \"rowNumber\" style = \"font-weight: bold; text-align: right;\">11082</td><td style = \"text-align: left;\">2024-11-26</td><td style = \"text-align: right;\">233.33</td><td style = \"text-align: right;\">235.57</td><td style = \"text-align: right;\">233.33</td><td style = \"text-align: right;\">235.06</td><td style = \"text-align: right;\">235.06</td><td style = \"text-align: right;\">4.59862e7</td></tr><tr><td class = \"rowNumber\" style = \"font-weight: bold; text-align: right;\">11083</td><td style = \"text-align: left;\">2024-11-27</td><td style = \"text-align: right;\">234.47</td><td style = \"text-align: right;\">235.69</td><td style = \"text-align: right;\">233.81</td><td style = \"text-align: right;\">234.93</td><td style = \"text-align: right;\">234.93</td><td style = \"text-align: right;\">3.34984e7</td></tr><tr><td class = \"rowNumber\" style = \"font-weight: bold; text-align: right;\">11084</td><td style = \"text-align: left;\">2024-11-29</td><td style = \"text-align: right;\">234.81</td><td style = \"text-align: right;\">237.81</td><td style = \"text-align: right;\">233.97</td><td style = \"text-align: right;\">237.33</td><td style = \"text-align: right;\">237.33</td><td style = \"text-align: right;\">2.84814e7</td></tr><tr><td class = \"rowNumber\" style = \"font-weight: bold; text-align: right;\">11085</td><td style = \"text-align: left;\">2024-12-02</td><td style = \"text-align: right;\">237.27</td><td style = \"text-align: right;\">240.79</td><td style = \"text-align: right;\">237.16</td><td style = \"text-align: right;\">239.59</td><td style = \"text-align: right;\">239.59</td><td style = \"text-align: right;\">4.81371e7</td></tr><tr><td class = \"rowNumber\" style = \"font-weight: bold; text-align: right;\">11086</td><td style = \"text-align: left;\">2024-12-03</td><td style = \"text-align: right;\">239.81</td><td style = \"text-align: right;\">242.76</td><td style = \"text-align: right;\">238.9</td><td style = \"text-align: right;\">242.65</td><td style = \"text-align: right;\">242.65</td><td style = \"text-align: right;\">3.8861e7</td></tr><tr><td class = \"rowNumber\" style = \"font-weight: bold; text-align: right;\">11087</td><td style = \"text-align: left;\">2024-12-04</td><td style = \"text-align: right;\">242.87</td><td style = \"text-align: right;\">244.11</td><td style = \"text-align: right;\">241.25</td><td style = \"text-align: right;\">243.01</td><td style = \"text-align: right;\">243.01</td><td style = \"text-align: right;\">4.4353e7</td></tr><tr><td class = \"rowNumber\" style = \"font-weight: bold; text-align: right;\">11088</td><td style = \"text-align: left;\">2024-12-05</td><td style = \"text-align: right;\">244.05</td><td style = \"text-align: right;\">244.54</td><td style = \"text-align: right;\">242.23</td><td style = \"text-align: right;\">242.59</td><td style = \"text-align: right;\">242.59</td><td style = \"text-align: right;\">1.09565e7</td></tr></tbody></table></div>"
            ],
            "text/latex": "\\begin{tabular}{r|ccccccc}\n\t& timestamp & Open & High & Low & Close & AdjClose & Volume\\\\\n\t\\hline\n\t& Date & Float64 & Float64 & Float64 & Float64 & Float64 & Float64\\\\\n\t\\hline\n\t1 & 1980-12-12 & 0.128348 & 0.128906 & 0.128348 & 0.128348 & 0.0988345 & 4.69034e8 \\\\\n\t2 & 1980-12-15 & 0.12221 & 0.12221 & 0.121652 & 0.121652 & 0.0936782 & 1.75885e8 \\\\\n\t3 & 1980-12-16 & 0.113281 & 0.113281 & 0.112723 & 0.112723 & 0.0868024 & 1.05728e8 \\\\\n\t4 & 1980-12-17 & 0.115513 & 0.116071 & 0.115513 & 0.115513 & 0.0889509 & 8.64416e7 \\\\\n\t5 & 1980-12-18 & 0.118862 & 0.11942 & 0.118862 & 0.118862 & 0.0915298 & 7.34496e7 \\\\\n\t6 & 1980-12-19 & 0.126116 & 0.126674 & 0.126116 & 0.126116 & 0.0971157 & 4.86304e7 \\\\\n\t7 & 1980-12-22 & 0.132254 & 0.132813 & 0.132254 & 0.132254 & 0.101842 & 3.73632e7 \\\\\n\t8 & 1980-12-23 & 0.137835 & 0.138393 & 0.137835 & 0.137835 & 0.10614 & 4.69504e7 \\\\\n\t9 & 1980-12-24 & 0.145089 & 0.145647 & 0.145089 & 0.145089 & 0.111726 & 4.80032e7 \\\\\n\t10 & 1980-12-26 & 0.158482 & 0.15904 & 0.158482 & 0.158482 & 0.122039 & 5.55744e7 \\\\\n\t11 & 1980-12-29 & 0.160714 & 0.161272 & 0.160714 & 0.160714 & 0.123758 & 9.31616e7 \\\\\n\t12 & 1980-12-30 & 0.157366 & 0.157366 & 0.156808 & 0.156808 & 0.12075 & 6.888e7 \\\\\n\t13 & 1980-12-31 & 0.152902 & 0.152902 & 0.152344 & 0.152344 & 0.117313 & 3.57504e7 \\\\\n\t14 & 1981-01-02 & 0.154018 & 0.155134 & 0.154018 & 0.154018 & 0.118602 & 2.16608e7 \\\\\n\t15 & 1981-01-05 & 0.151228 & 0.151228 & 0.15067 & 0.15067 & 0.116024 & 3.5728e7 \\\\\n\t16 & 1981-01-06 & 0.144531 & 0.144531 & 0.143973 & 0.143973 & 0.110867 & 4.51584e7 \\\\\n\t17 & 1981-01-07 & 0.138393 & 0.138393 & 0.137835 & 0.137835 & 0.10614 & 5.56864e7 \\\\\n\t18 & 1981-01-08 & 0.135603 & 0.135603 & 0.135045 & 0.135045 & 0.103992 & 3.98272e7 \\\\\n\t19 & 1981-01-09 & 0.142299 & 0.142857 & 0.142299 & 0.142299 & 0.109577 & 2.1504e7 \\\\\n\t20 & 1981-01-12 & 0.142299 & 0.142299 & 0.141183 & 0.141183 & 0.108718 & 2.36992e7 \\\\\n\t21 & 1981-01-13 & 0.136719 & 0.136719 & 0.136161 & 0.136161 & 0.104851 & 2.30496e7 \\\\\n\t22 & 1981-01-14 & 0.136719 & 0.137277 & 0.136719 & 0.136719 & 0.105281 & 1.42912e7 \\\\\n\t23 & 1981-01-15 & 0.139509 & 0.140625 & 0.139509 & 0.139509 & 0.107429 & 1.40672e7 \\\\\n\t24 & 1981-01-16 & 0.138951 & 0.138951 & 0.138393 & 0.138393 & 0.10657 & 1.33952e7 \\\\\n\t25 & 1981-01-19 & 0.146763 & 0.147321 & 0.146763 & 0.146763 & 0.113015 & 4.15744e7 \\\\\n\t26 & 1981-01-20 & 0.142857 & 0.142857 & 0.142299 & 0.142299 & 0.109577 & 3.00832e7 \\\\\n\t27 & 1981-01-21 & 0.145089 & 0.146205 & 0.145089 & 0.145089 & 0.111726 & 1.5904e7 \\\\\n\t28 & 1981-01-22 & 0.146763 & 0.147879 & 0.146763 & 0.146763 & 0.113015 & 3.55488e7 \\\\\n\t29 & 1981-01-23 & 0.146763 & 0.147321 & 0.146205 & 0.146205 & 0.112585 & 1.12224e7 \\\\\n\t30 & 1981-01-26 & 0.144531 & 0.144531 & 0.143973 & 0.143973 & 0.110867 & 2.464e7 \\\\\n\t$\\dots$ & $\\dots$ & $\\dots$ & $\\dots$ & $\\dots$ & $\\dots$ & $\\dots$ & $\\dots$ \\\\\n\\end{tabular}\n"
          },
          "metadata": {},
          "execution_count": 97
        }
      ]
    },
    {
      "cell_type": "code",
      "source": [
        "## Pkg.add(\"MySQL\")\n",
        "## Pkg.add(\"JSON\")"
      ],
      "metadata": {
        "id": "tppwhMeEFt5k"
      },
      "execution_count": 7,
      "outputs": []
    },
    {
      "cell_type": "code",
      "source": [
        "using RDatasets\n",
        "iris = dataset(\"datasets\", \"iris\")"
      ],
      "metadata": {
        "colab": {
          "base_uri": "https://localhost:8080/",
          "height": 630
        },
        "id": "VAUCQPqOFxKM",
        "outputId": "c73c61ad-0889-4cd3-9557-dccb896438ca"
      },
      "execution_count": 8,
      "outputs": [
        {
          "output_type": "execute_result",
          "data": {
            "text/plain": [
              "\u001b[1m150×5 DataFrame\u001b[0m\n",
              "\u001b[1m Row \u001b[0m│\u001b[1m SepalLength \u001b[0m\u001b[1m SepalWidth \u001b[0m\u001b[1m PetalLength \u001b[0m\u001b[1m PetalWidth \u001b[0m\u001b[1m Species   \u001b[0m\n",
              "     │\u001b[90m Float64     \u001b[0m\u001b[90m Float64    \u001b[0m\u001b[90m Float64     \u001b[0m\u001b[90m Float64    \u001b[0m\u001b[90m Cat…      \u001b[0m\n",
              "─────┼─────────────────────────────────────────────────────────────\n",
              "   1 │         5.1         3.5          1.4         0.2  setosa\n",
              "   2 │         4.9         3.0          1.4         0.2  setosa\n",
              "   3 │         4.7         3.2          1.3         0.2  setosa\n",
              "   4 │         4.6         3.1          1.5         0.2  setosa\n",
              "   5 │         5.0         3.6          1.4         0.2  setosa\n",
              "   6 │         5.4         3.9          1.7         0.4  setosa\n",
              "   7 │         4.6         3.4          1.4         0.3  setosa\n",
              "   8 │         5.0         3.4          1.5         0.2  setosa\n",
              "   9 │         4.4         2.9          1.4         0.2  setosa\n",
              "  10 │         4.9         3.1          1.5         0.1  setosa\n",
              "  11 │         5.4         3.7          1.5         0.2  setosa\n",
              "  ⋮  │      ⋮           ⋮            ⋮           ⋮           ⋮\n",
              " 141 │         6.7         3.1          5.6         2.4  virginica\n",
              " 142 │         6.9         3.1          5.1         2.3  virginica\n",
              " 143 │         5.8         2.7          5.1         1.9  virginica\n",
              " 144 │         6.8         3.2          5.9         2.3  virginica\n",
              " 145 │         6.7         3.3          5.7         2.5  virginica\n",
              " 146 │         6.7         3.0          5.2         2.3  virginica\n",
              " 147 │         6.3         2.5          5.0         1.9  virginica\n",
              " 148 │         6.5         3.0          5.2         2.0  virginica\n",
              " 149 │         6.2         3.4          5.4         2.3  virginica\n",
              " 150 │         5.9         3.0          5.1         1.8  virginica\n",
              "\u001b[36m                                                   129 rows omitted\u001b[0m"
            ],
            "text/html": [
              "<div><div style = \"float: left;\"><span>150×5 DataFrame</span></div><div style = \"float: right;\"><span style = \"font-style: italic;\">125 rows omitted</span></div><div style = \"clear: both;\"></div></div><div class = \"data-frame\" style = \"overflow-x: scroll;\"><table class = \"data-frame\" style = \"margin-bottom: 6px;\"><thead><tr class = \"header\"><th class = \"rowNumber\" style = \"font-weight: bold; text-align: right;\">Row</th><th style = \"text-align: left;\">SepalLength</th><th style = \"text-align: left;\">SepalWidth</th><th style = \"text-align: left;\">PetalLength</th><th style = \"text-align: left;\">PetalWidth</th><th style = \"text-align: left;\">Species</th></tr><tr class = \"subheader headerLastRow\"><th class = \"rowNumber\" style = \"font-weight: bold; text-align: right;\"></th><th title = \"Float64\" style = \"text-align: left;\">Float64</th><th title = \"Float64\" style = \"text-align: left;\">Float64</th><th title = \"Float64\" style = \"text-align: left;\">Float64</th><th title = \"Float64\" style = \"text-align: left;\">Float64</th><th title = \"CategoricalArrays.CategoricalValue{String, UInt8}\" style = \"text-align: left;\">Cat…</th></tr></thead><tbody><tr><td class = \"rowNumber\" style = \"font-weight: bold; text-align: right;\">1</td><td style = \"text-align: right;\">5.1</td><td style = \"text-align: right;\">3.5</td><td style = \"text-align: right;\">1.4</td><td style = \"text-align: right;\">0.2</td><td style = \"text-align: left;\">setosa</td></tr><tr><td class = \"rowNumber\" style = \"font-weight: bold; text-align: right;\">2</td><td style = \"text-align: right;\">4.9</td><td style = \"text-align: right;\">3.0</td><td style = \"text-align: right;\">1.4</td><td style = \"text-align: right;\">0.2</td><td style = \"text-align: left;\">setosa</td></tr><tr><td class = \"rowNumber\" style = \"font-weight: bold; text-align: right;\">3</td><td style = \"text-align: right;\">4.7</td><td style = \"text-align: right;\">3.2</td><td style = \"text-align: right;\">1.3</td><td style = \"text-align: right;\">0.2</td><td style = \"text-align: left;\">setosa</td></tr><tr><td class = \"rowNumber\" style = \"font-weight: bold; text-align: right;\">4</td><td style = \"text-align: right;\">4.6</td><td style = \"text-align: right;\">3.1</td><td style = \"text-align: right;\">1.5</td><td style = \"text-align: right;\">0.2</td><td style = \"text-align: left;\">setosa</td></tr><tr><td class = \"rowNumber\" style = \"font-weight: bold; text-align: right;\">5</td><td style = \"text-align: right;\">5.0</td><td style = \"text-align: right;\">3.6</td><td style = \"text-align: right;\">1.4</td><td style = \"text-align: right;\">0.2</td><td style = \"text-align: left;\">setosa</td></tr><tr><td class = \"rowNumber\" style = \"font-weight: bold; text-align: right;\">6</td><td style = \"text-align: right;\">5.4</td><td style = \"text-align: right;\">3.9</td><td style = \"text-align: right;\">1.7</td><td style = \"text-align: right;\">0.4</td><td style = \"text-align: left;\">setosa</td></tr><tr><td class = \"rowNumber\" style = \"font-weight: bold; text-align: right;\">7</td><td style = \"text-align: right;\">4.6</td><td style = \"text-align: right;\">3.4</td><td style = \"text-align: right;\">1.4</td><td style = \"text-align: right;\">0.3</td><td style = \"text-align: left;\">setosa</td></tr><tr><td class = \"rowNumber\" style = \"font-weight: bold; text-align: right;\">8</td><td style = \"text-align: right;\">5.0</td><td style = \"text-align: right;\">3.4</td><td style = \"text-align: right;\">1.5</td><td style = \"text-align: right;\">0.2</td><td style = \"text-align: left;\">setosa</td></tr><tr><td class = \"rowNumber\" style = \"font-weight: bold; text-align: right;\">9</td><td style = \"text-align: right;\">4.4</td><td style = \"text-align: right;\">2.9</td><td style = \"text-align: right;\">1.4</td><td style = \"text-align: right;\">0.2</td><td style = \"text-align: left;\">setosa</td></tr><tr><td class = \"rowNumber\" style = \"font-weight: bold; text-align: right;\">10</td><td style = \"text-align: right;\">4.9</td><td style = \"text-align: right;\">3.1</td><td style = \"text-align: right;\">1.5</td><td style = \"text-align: right;\">0.1</td><td style = \"text-align: left;\">setosa</td></tr><tr><td class = \"rowNumber\" style = \"font-weight: bold; text-align: right;\">11</td><td style = \"text-align: right;\">5.4</td><td style = \"text-align: right;\">3.7</td><td style = \"text-align: right;\">1.5</td><td style = \"text-align: right;\">0.2</td><td style = \"text-align: left;\">setosa</td></tr><tr><td class = \"rowNumber\" style = \"font-weight: bold; text-align: right;\">12</td><td style = \"text-align: right;\">4.8</td><td style = \"text-align: right;\">3.4</td><td style = \"text-align: right;\">1.6</td><td style = \"text-align: right;\">0.2</td><td style = \"text-align: left;\">setosa</td></tr><tr><td class = \"rowNumber\" style = \"font-weight: bold; text-align: right;\">13</td><td style = \"text-align: right;\">4.8</td><td style = \"text-align: right;\">3.0</td><td style = \"text-align: right;\">1.4</td><td style = \"text-align: right;\">0.1</td><td style = \"text-align: left;\">setosa</td></tr><tr><td style = \"text-align: right;\">&vellip;</td><td style = \"text-align: right;\">&vellip;</td><td style = \"text-align: right;\">&vellip;</td><td style = \"text-align: right;\">&vellip;</td><td style = \"text-align: right;\">&vellip;</td><td style = \"text-align: right;\">&vellip;</td></tr><tr><td class = \"rowNumber\" style = \"font-weight: bold; text-align: right;\">139</td><td style = \"text-align: right;\">6.0</td><td style = \"text-align: right;\">3.0</td><td style = \"text-align: right;\">4.8</td><td style = \"text-align: right;\">1.8</td><td style = \"text-align: left;\">virginica</td></tr><tr><td class = \"rowNumber\" style = \"font-weight: bold; text-align: right;\">140</td><td style = \"text-align: right;\">6.9</td><td style = \"text-align: right;\">3.1</td><td style = \"text-align: right;\">5.4</td><td style = \"text-align: right;\">2.1</td><td style = \"text-align: left;\">virginica</td></tr><tr><td class = \"rowNumber\" style = \"font-weight: bold; text-align: right;\">141</td><td style = \"text-align: right;\">6.7</td><td style = \"text-align: right;\">3.1</td><td style = \"text-align: right;\">5.6</td><td style = \"text-align: right;\">2.4</td><td style = \"text-align: left;\">virginica</td></tr><tr><td class = \"rowNumber\" style = \"font-weight: bold; text-align: right;\">142</td><td style = \"text-align: right;\">6.9</td><td style = \"text-align: right;\">3.1</td><td style = \"text-align: right;\">5.1</td><td style = \"text-align: right;\">2.3</td><td style = \"text-align: left;\">virginica</td></tr><tr><td class = \"rowNumber\" style = \"font-weight: bold; text-align: right;\">143</td><td style = \"text-align: right;\">5.8</td><td style = \"text-align: right;\">2.7</td><td style = \"text-align: right;\">5.1</td><td style = \"text-align: right;\">1.9</td><td style = \"text-align: left;\">virginica</td></tr><tr><td class = \"rowNumber\" style = \"font-weight: bold; text-align: right;\">144</td><td style = \"text-align: right;\">6.8</td><td style = \"text-align: right;\">3.2</td><td style = \"text-align: right;\">5.9</td><td style = \"text-align: right;\">2.3</td><td style = \"text-align: left;\">virginica</td></tr><tr><td class = \"rowNumber\" style = \"font-weight: bold; text-align: right;\">145</td><td style = \"text-align: right;\">6.7</td><td style = \"text-align: right;\">3.3</td><td style = \"text-align: right;\">5.7</td><td style = \"text-align: right;\">2.5</td><td style = \"text-align: left;\">virginica</td></tr><tr><td class = \"rowNumber\" style = \"font-weight: bold; text-align: right;\">146</td><td style = \"text-align: right;\">6.7</td><td style = \"text-align: right;\">3.0</td><td style = \"text-align: right;\">5.2</td><td style = \"text-align: right;\">2.3</td><td style = \"text-align: left;\">virginica</td></tr><tr><td class = \"rowNumber\" style = \"font-weight: bold; text-align: right;\">147</td><td style = \"text-align: right;\">6.3</td><td style = \"text-align: right;\">2.5</td><td style = \"text-align: right;\">5.0</td><td style = \"text-align: right;\">1.9</td><td style = \"text-align: left;\">virginica</td></tr><tr><td class = \"rowNumber\" style = \"font-weight: bold; text-align: right;\">148</td><td style = \"text-align: right;\">6.5</td><td style = \"text-align: right;\">3.0</td><td style = \"text-align: right;\">5.2</td><td style = \"text-align: right;\">2.0</td><td style = \"text-align: left;\">virginica</td></tr><tr><td class = \"rowNumber\" style = \"font-weight: bold; text-align: right;\">149</td><td style = \"text-align: right;\">6.2</td><td style = \"text-align: right;\">3.4</td><td style = \"text-align: right;\">5.4</td><td style = \"text-align: right;\">2.3</td><td style = \"text-align: left;\">virginica</td></tr><tr><td class = \"rowNumber\" style = \"font-weight: bold; text-align: right;\">150</td><td style = \"text-align: right;\">5.9</td><td style = \"text-align: right;\">3.0</td><td style = \"text-align: right;\">5.1</td><td style = \"text-align: right;\">1.8</td><td style = \"text-align: left;\">virginica</td></tr></tbody></table></div>"
            ],
            "text/latex": "\\begin{tabular}{r|ccccc}\n\t& SepalLength & SepalWidth & PetalLength & PetalWidth & Species\\\\\n\t\\hline\n\t& Float64 & Float64 & Float64 & Float64 & Cat…\\\\\n\t\\hline\n\t1 & 5.1 & 3.5 & 1.4 & 0.2 & setosa \\\\\n\t2 & 4.9 & 3.0 & 1.4 & 0.2 & setosa \\\\\n\t3 & 4.7 & 3.2 & 1.3 & 0.2 & setosa \\\\\n\t4 & 4.6 & 3.1 & 1.5 & 0.2 & setosa \\\\\n\t5 & 5.0 & 3.6 & 1.4 & 0.2 & setosa \\\\\n\t6 & 5.4 & 3.9 & 1.7 & 0.4 & setosa \\\\\n\t7 & 4.6 & 3.4 & 1.4 & 0.3 & setosa \\\\\n\t8 & 5.0 & 3.4 & 1.5 & 0.2 & setosa \\\\\n\t9 & 4.4 & 2.9 & 1.4 & 0.2 & setosa \\\\\n\t10 & 4.9 & 3.1 & 1.5 & 0.1 & setosa \\\\\n\t11 & 5.4 & 3.7 & 1.5 & 0.2 & setosa \\\\\n\t12 & 4.8 & 3.4 & 1.6 & 0.2 & setosa \\\\\n\t13 & 4.8 & 3.0 & 1.4 & 0.1 & setosa \\\\\n\t14 & 4.3 & 3.0 & 1.1 & 0.1 & setosa \\\\\n\t15 & 5.8 & 4.0 & 1.2 & 0.2 & setosa \\\\\n\t16 & 5.7 & 4.4 & 1.5 & 0.4 & setosa \\\\\n\t17 & 5.4 & 3.9 & 1.3 & 0.4 & setosa \\\\\n\t18 & 5.1 & 3.5 & 1.4 & 0.3 & setosa \\\\\n\t19 & 5.7 & 3.8 & 1.7 & 0.3 & setosa \\\\\n\t20 & 5.1 & 3.8 & 1.5 & 0.3 & setosa \\\\\n\t21 & 5.4 & 3.4 & 1.7 & 0.2 & setosa \\\\\n\t22 & 5.1 & 3.7 & 1.5 & 0.4 & setosa \\\\\n\t23 & 4.6 & 3.6 & 1.0 & 0.2 & setosa \\\\\n\t24 & 5.1 & 3.3 & 1.7 & 0.5 & setosa \\\\\n\t25 & 4.8 & 3.4 & 1.9 & 0.2 & setosa \\\\\n\t26 & 5.0 & 3.0 & 1.6 & 0.2 & setosa \\\\\n\t27 & 5.0 & 3.4 & 1.6 & 0.4 & setosa \\\\\n\t28 & 5.2 & 3.5 & 1.5 & 0.2 & setosa \\\\\n\t29 & 5.2 & 3.4 & 1.4 & 0.2 & setosa \\\\\n\t30 & 4.7 & 3.2 & 1.6 & 0.2 & setosa \\\\\n\t$\\dots$ & $\\dots$ & $\\dots$ & $\\dots$ & $\\dots$ & $\\dots$ \\\\\n\\end{tabular}\n"
          },
          "metadata": {},
          "execution_count": 8
        }
      ]
    },
    {
      "cell_type": "code",
      "source": [
        "describe(iris)"
      ],
      "metadata": {
        "colab": {
          "base_uri": "https://localhost:8080/",
          "height": 189
        },
        "id": "bd9s0kGrGUS2",
        "outputId": "5f29a02c-5ad8-4975-99c4-8103047a4f07"
      },
      "execution_count": 9,
      "outputs": [
        {
          "output_type": "execute_result",
          "data": {
            "text/plain": [
              "\u001b[1m5×7 DataFrame\u001b[0m\n",
              "\u001b[1m Row \u001b[0m│\u001b[1m variable    \u001b[0m\u001b[1m mean    \u001b[0m\u001b[1m min    \u001b[0m\u001b[1m median \u001b[0m\u001b[1m max       \u001b[0m\u001b[1m nmissing \u001b[0m\u001b[1m eltype                          \u001b[0m\n",
              "     │\u001b[90m Symbol      \u001b[0m\u001b[90m Union…  \u001b[0m\u001b[90m Any    \u001b[0m\u001b[90m Union… \u001b[0m\u001b[90m Any       \u001b[0m\u001b[90m Int64    \u001b[0m\u001b[90m DataType                        \u001b[0m\n",
              "─────┼────────────────────────────────────────────────────────────────────────────────────────────\n",
              "   1 │ SepalLength  5.84333  4.3     5.8     7.9               0  Float64\n",
              "   2 │ SepalWidth   3.05733  2.0     3.0     4.4               0  Float64\n",
              "   3 │ PetalLength  3.758    1.0     4.35    6.9               0  Float64\n",
              "   4 │ PetalWidth   1.19933  0.1     1.3     2.5               0  Float64\n",
              "   5 │ Species     \u001b[90m         \u001b[0m setosa \u001b[90m        \u001b[0m virginica         0  CategoricalValue{String, UInt8}"
            ],
            "text/html": [
              "<div><div style = \"float: left;\"><span>5×7 DataFrame</span></div><div style = \"clear: both;\"></div></div><div class = \"data-frame\" style = \"overflow-x: scroll;\"><table class = \"data-frame\" style = \"margin-bottom: 6px;\"><thead><tr class = \"header\"><th class = \"rowNumber\" style = \"font-weight: bold; text-align: right;\">Row</th><th style = \"text-align: left;\">variable</th><th style = \"text-align: left;\">mean</th><th style = \"text-align: left;\">min</th><th style = \"text-align: left;\">median</th><th style = \"text-align: left;\">max</th><th style = \"text-align: left;\">nmissing</th><th style = \"text-align: left;\">eltype</th></tr><tr class = \"subheader headerLastRow\"><th class = \"rowNumber\" style = \"font-weight: bold; text-align: right;\"></th><th title = \"Symbol\" style = \"text-align: left;\">Symbol</th><th title = \"Union{Nothing, Float64}\" style = \"text-align: left;\">Union…</th><th title = \"Any\" style = \"text-align: left;\">Any</th><th title = \"Union{Nothing, Float64}\" style = \"text-align: left;\">Union…</th><th title = \"Any\" style = \"text-align: left;\">Any</th><th title = \"Int64\" style = \"text-align: left;\">Int64</th><th title = \"DataType\" style = \"text-align: left;\">DataType</th></tr></thead><tbody><tr><td class = \"rowNumber\" style = \"font-weight: bold; text-align: right;\">1</td><td style = \"text-align: left;\">SepalLength</td><td style = \"text-align: left;\">5.84333</td><td style = \"text-align: left;\">4.3</td><td style = \"text-align: left;\">5.8</td><td style = \"text-align: left;\">7.9</td><td style = \"text-align: right;\">0</td><td style = \"text-align: left;\">Float64</td></tr><tr><td class = \"rowNumber\" style = \"font-weight: bold; text-align: right;\">2</td><td style = \"text-align: left;\">SepalWidth</td><td style = \"text-align: left;\">3.05733</td><td style = \"text-align: left;\">2.0</td><td style = \"text-align: left;\">3.0</td><td style = \"text-align: left;\">4.4</td><td style = \"text-align: right;\">0</td><td style = \"text-align: left;\">Float64</td></tr><tr><td class = \"rowNumber\" style = \"font-weight: bold; text-align: right;\">3</td><td style = \"text-align: left;\">PetalLength</td><td style = \"text-align: left;\">3.758</td><td style = \"text-align: left;\">1.0</td><td style = \"text-align: left;\">4.35</td><td style = \"text-align: left;\">6.9</td><td style = \"text-align: right;\">0</td><td style = \"text-align: left;\">Float64</td></tr><tr><td class = \"rowNumber\" style = \"font-weight: bold; text-align: right;\">4</td><td style = \"text-align: left;\">PetalWidth</td><td style = \"text-align: left;\">1.19933</td><td style = \"text-align: left;\">0.1</td><td style = \"text-align: left;\">1.3</td><td style = \"text-align: left;\">2.5</td><td style = \"text-align: right;\">0</td><td style = \"text-align: left;\">Float64</td></tr><tr><td class = \"rowNumber\" style = \"font-weight: bold; text-align: right;\">5</td><td style = \"text-align: left;\">Species</td><td style = \"font-style: italic; text-align: left;\"></td><td style = \"text-align: left;\">setosa</td><td style = \"font-style: italic; text-align: left;\"></td><td style = \"text-align: left;\">virginica</td><td style = \"text-align: right;\">0</td><td style = \"text-align: left;\">CategoricalValue{String, UInt8}</td></tr></tbody></table></div>"
            ],
            "text/latex": "\\begin{tabular}{r|ccccccc}\n\t& variable & mean & min & median & max & nmissing & eltype\\\\\n\t\\hline\n\t& Symbol & Union… & Any & Union… & Any & Int64 & DataType\\\\\n\t\\hline\n\t1 & SepalLength & 5.84333 & 4.3 & 5.8 & 7.9 & 0 & Float64 \\\\\n\t2 & SepalWidth & 3.05733 & 2.0 & 3.0 & 4.4 & 0 & Float64 \\\\\n\t3 & PetalLength & 3.758 & 1.0 & 4.35 & 6.9 & 0 & Float64 \\\\\n\t4 & PetalWidth & 1.19933 & 0.1 & 1.3 & 2.5 & 0 & Float64 \\\\\n\t5 & Species &  & setosa &  & virginica & 0 & CategoricalValue\\{String, UInt8\\} \\\\\n\\end{tabular}\n"
          },
          "metadata": {},
          "execution_count": 9
        }
      ]
    },
    {
      "cell_type": "code",
      "source": [
        "first(iris)"
      ],
      "metadata": {
        "colab": {
          "base_uri": "https://localhost:8080/",
          "height": 105
        },
        "id": "AbvYhtr_GVxr",
        "outputId": "6e65fa91-1219-48b6-a7eb-edaa184ef597"
      },
      "execution_count": 10,
      "outputs": [
        {
          "output_type": "execute_result",
          "data": {
            "text/plain": [
              "\u001b[1mDataFrameRow\u001b[0m\n",
              "\u001b[1m Row \u001b[0m│\u001b[1m SepalLength \u001b[0m\u001b[1m SepalWidth \u001b[0m\u001b[1m PetalLength \u001b[0m\u001b[1m PetalWidth \u001b[0m\u001b[1m Species \u001b[0m\n",
              "     │\u001b[90m Float64     \u001b[0m\u001b[90m Float64    \u001b[0m\u001b[90m Float64     \u001b[0m\u001b[90m Float64    \u001b[0m\u001b[90m Cat…    \u001b[0m\n",
              "─────┼───────────────────────────────────────────────────────────\n",
              "   1 │         5.1         3.5          1.4         0.2  setosa"
            ],
            "text/html": [
              "<div><div style = \"float: left;\"><span>DataFrameRow (5 columns)</span></div><div style = \"clear: both;\"></div></div><div class = \"data-frame\" style = \"overflow-x: scroll;\"><table class = \"data-frame\" style = \"margin-bottom: 6px;\"><thead><tr class = \"header\"><th class = \"rowLabel\" style = \"font-weight: bold; text-align: right;\">Row</th><th style = \"text-align: left;\">SepalLength</th><th style = \"text-align: left;\">SepalWidth</th><th style = \"text-align: left;\">PetalLength</th><th style = \"text-align: left;\">PetalWidth</th><th style = \"text-align: left;\">Species</th></tr><tr class = \"subheader headerLastRow\"><th class = \"rowLabel\" style = \"font-weight: bold; text-align: right;\"></th><th title = \"Float64\" style = \"text-align: left;\">Float64</th><th title = \"Float64\" style = \"text-align: left;\">Float64</th><th title = \"Float64\" style = \"text-align: left;\">Float64</th><th title = \"Float64\" style = \"text-align: left;\">Float64</th><th title = \"CategoricalArrays.CategoricalValue{String, UInt8}\" style = \"text-align: left;\">Cat…</th></tr></thead><tbody><tr><td class = \"rowLabel\" style = \"font-weight: bold; text-align: right;\">1</td><td style = \"text-align: right;\">5.1</td><td style = \"text-align: right;\">3.5</td><td style = \"text-align: right;\">1.4</td><td style = \"text-align: right;\">0.2</td><td style = \"text-align: left;\">setosa</td></tr></tbody></table></div>"
            ],
            "text/latex": "\\begin{tabular}{r|ccccc}\n\t& SepalLength & SepalWidth & PetalLength & PetalWidth & Species\\\\\n\t\\hline\n\t& Float64 & Float64 & Float64 & Float64 & Cat…\\\\\n\t\\hline\n\t1 & 5.1 & 3.5 & 1.4 & 0.2 & setosa \\\\\n\\end{tabular}\n"
          },
          "metadata": {},
          "execution_count": 10
        }
      ]
    },
    {
      "cell_type": "code",
      "source": [
        "first(iris, 10)"
      ],
      "metadata": {
        "id": "dArJM5yJjNOm",
        "outputId": "dd2783a8-0fe3-4277-e2ce-14f259d9a621",
        "colab": {
          "base_uri": "https://localhost:8080/",
          "height": 294
        }
      },
      "execution_count": 11,
      "outputs": [
        {
          "output_type": "execute_result",
          "data": {
            "text/plain": [
              "\u001b[1m10×5 DataFrame\u001b[0m\n",
              "\u001b[1m Row \u001b[0m│\u001b[1m SepalLength \u001b[0m\u001b[1m SepalWidth \u001b[0m\u001b[1m PetalLength \u001b[0m\u001b[1m PetalWidth \u001b[0m\u001b[1m Species \u001b[0m\n",
              "     │\u001b[90m Float64     \u001b[0m\u001b[90m Float64    \u001b[0m\u001b[90m Float64     \u001b[0m\u001b[90m Float64    \u001b[0m\u001b[90m Cat…    \u001b[0m\n",
              "─────┼───────────────────────────────────────────────────────────\n",
              "   1 │         5.1         3.5          1.4         0.2  setosa\n",
              "   2 │         4.9         3.0          1.4         0.2  setosa\n",
              "   3 │         4.7         3.2          1.3         0.2  setosa\n",
              "   4 │         4.6         3.1          1.5         0.2  setosa\n",
              "   5 │         5.0         3.6          1.4         0.2  setosa\n",
              "   6 │         5.4         3.9          1.7         0.4  setosa\n",
              "   7 │         4.6         3.4          1.4         0.3  setosa\n",
              "   8 │         5.0         3.4          1.5         0.2  setosa\n",
              "   9 │         4.4         2.9          1.4         0.2  setosa\n",
              "  10 │         4.9         3.1          1.5         0.1  setosa"
            ],
            "text/html": [
              "<div><div style = \"float: left;\"><span>10×5 DataFrame</span></div><div style = \"clear: both;\"></div></div><div class = \"data-frame\" style = \"overflow-x: scroll;\"><table class = \"data-frame\" style = \"margin-bottom: 6px;\"><thead><tr class = \"header\"><th class = \"rowNumber\" style = \"font-weight: bold; text-align: right;\">Row</th><th style = \"text-align: left;\">SepalLength</th><th style = \"text-align: left;\">SepalWidth</th><th style = \"text-align: left;\">PetalLength</th><th style = \"text-align: left;\">PetalWidth</th><th style = \"text-align: left;\">Species</th></tr><tr class = \"subheader headerLastRow\"><th class = \"rowNumber\" style = \"font-weight: bold; text-align: right;\"></th><th title = \"Float64\" style = \"text-align: left;\">Float64</th><th title = \"Float64\" style = \"text-align: left;\">Float64</th><th title = \"Float64\" style = \"text-align: left;\">Float64</th><th title = \"Float64\" style = \"text-align: left;\">Float64</th><th title = \"CategoricalArrays.CategoricalValue{String, UInt8}\" style = \"text-align: left;\">Cat…</th></tr></thead><tbody><tr><td class = \"rowNumber\" style = \"font-weight: bold; text-align: right;\">1</td><td style = \"text-align: right;\">5.1</td><td style = \"text-align: right;\">3.5</td><td style = \"text-align: right;\">1.4</td><td style = \"text-align: right;\">0.2</td><td style = \"text-align: left;\">setosa</td></tr><tr><td class = \"rowNumber\" style = \"font-weight: bold; text-align: right;\">2</td><td style = \"text-align: right;\">4.9</td><td style = \"text-align: right;\">3.0</td><td style = \"text-align: right;\">1.4</td><td style = \"text-align: right;\">0.2</td><td style = \"text-align: left;\">setosa</td></tr><tr><td class = \"rowNumber\" style = \"font-weight: bold; text-align: right;\">3</td><td style = \"text-align: right;\">4.7</td><td style = \"text-align: right;\">3.2</td><td style = \"text-align: right;\">1.3</td><td style = \"text-align: right;\">0.2</td><td style = \"text-align: left;\">setosa</td></tr><tr><td class = \"rowNumber\" style = \"font-weight: bold; text-align: right;\">4</td><td style = \"text-align: right;\">4.6</td><td style = \"text-align: right;\">3.1</td><td style = \"text-align: right;\">1.5</td><td style = \"text-align: right;\">0.2</td><td style = \"text-align: left;\">setosa</td></tr><tr><td class = \"rowNumber\" style = \"font-weight: bold; text-align: right;\">5</td><td style = \"text-align: right;\">5.0</td><td style = \"text-align: right;\">3.6</td><td style = \"text-align: right;\">1.4</td><td style = \"text-align: right;\">0.2</td><td style = \"text-align: left;\">setosa</td></tr><tr><td class = \"rowNumber\" style = \"font-weight: bold; text-align: right;\">6</td><td style = \"text-align: right;\">5.4</td><td style = \"text-align: right;\">3.9</td><td style = \"text-align: right;\">1.7</td><td style = \"text-align: right;\">0.4</td><td style = \"text-align: left;\">setosa</td></tr><tr><td class = \"rowNumber\" style = \"font-weight: bold; text-align: right;\">7</td><td style = \"text-align: right;\">4.6</td><td style = \"text-align: right;\">3.4</td><td style = \"text-align: right;\">1.4</td><td style = \"text-align: right;\">0.3</td><td style = \"text-align: left;\">setosa</td></tr><tr><td class = \"rowNumber\" style = \"font-weight: bold; text-align: right;\">8</td><td style = \"text-align: right;\">5.0</td><td style = \"text-align: right;\">3.4</td><td style = \"text-align: right;\">1.5</td><td style = \"text-align: right;\">0.2</td><td style = \"text-align: left;\">setosa</td></tr><tr><td class = \"rowNumber\" style = \"font-weight: bold; text-align: right;\">9</td><td style = \"text-align: right;\">4.4</td><td style = \"text-align: right;\">2.9</td><td style = \"text-align: right;\">1.4</td><td style = \"text-align: right;\">0.2</td><td style = \"text-align: left;\">setosa</td></tr><tr><td class = \"rowNumber\" style = \"font-weight: bold; text-align: right;\">10</td><td style = \"text-align: right;\">4.9</td><td style = \"text-align: right;\">3.1</td><td style = \"text-align: right;\">1.5</td><td style = \"text-align: right;\">0.1</td><td style = \"text-align: left;\">setosa</td></tr></tbody></table></div>"
            ],
            "text/latex": "\\begin{tabular}{r|ccccc}\n\t& SepalLength & SepalWidth & PetalLength & PetalWidth & Species\\\\\n\t\\hline\n\t& Float64 & Float64 & Float64 & Float64 & Cat…\\\\\n\t\\hline\n\t1 & 5.1 & 3.5 & 1.4 & 0.2 & setosa \\\\\n\t2 & 4.9 & 3.0 & 1.4 & 0.2 & setosa \\\\\n\t3 & 4.7 & 3.2 & 1.3 & 0.2 & setosa \\\\\n\t4 & 4.6 & 3.1 & 1.5 & 0.2 & setosa \\\\\n\t5 & 5.0 & 3.6 & 1.4 & 0.2 & setosa \\\\\n\t6 & 5.4 & 3.9 & 1.7 & 0.4 & setosa \\\\\n\t7 & 4.6 & 3.4 & 1.4 & 0.3 & setosa \\\\\n\t8 & 5.0 & 3.4 & 1.5 & 0.2 & setosa \\\\\n\t9 & 4.4 & 2.9 & 1.4 & 0.2 & setosa \\\\\n\t10 & 4.9 & 3.1 & 1.5 & 0.1 & setosa \\\\\n\\end{tabular}\n"
          },
          "metadata": {},
          "execution_count": 11
        }
      ]
    },
    {
      "cell_type": "code",
      "source": [
        "last(iris, 10)"
      ],
      "metadata": {
        "id": "UIgaX3QRjO6_",
        "outputId": "4bb8d2d5-450f-439f-8e6b-5f3cd6989c31",
        "colab": {
          "base_uri": "https://localhost:8080/",
          "height": 294
        }
      },
      "execution_count": 12,
      "outputs": [
        {
          "output_type": "execute_result",
          "data": {
            "text/plain": [
              "\u001b[1m10×5 DataFrame\u001b[0m\n",
              "\u001b[1m Row \u001b[0m│\u001b[1m SepalLength \u001b[0m\u001b[1m SepalWidth \u001b[0m\u001b[1m PetalLength \u001b[0m\u001b[1m PetalWidth \u001b[0m\u001b[1m Species   \u001b[0m\n",
              "     │\u001b[90m Float64     \u001b[0m\u001b[90m Float64    \u001b[0m\u001b[90m Float64     \u001b[0m\u001b[90m Float64    \u001b[0m\u001b[90m Cat…      \u001b[0m\n",
              "─────┼─────────────────────────────────────────────────────────────\n",
              "   1 │         6.7         3.1          5.6         2.4  virginica\n",
              "   2 │         6.9         3.1          5.1         2.3  virginica\n",
              "   3 │         5.8         2.7          5.1         1.9  virginica\n",
              "   4 │         6.8         3.2          5.9         2.3  virginica\n",
              "   5 │         6.7         3.3          5.7         2.5  virginica\n",
              "   6 │         6.7         3.0          5.2         2.3  virginica\n",
              "   7 │         6.3         2.5          5.0         1.9  virginica\n",
              "   8 │         6.5         3.0          5.2         2.0  virginica\n",
              "   9 │         6.2         3.4          5.4         2.3  virginica\n",
              "  10 │         5.9         3.0          5.1         1.8  virginica"
            ],
            "text/html": [
              "<div><div style = \"float: left;\"><span>10×5 DataFrame</span></div><div style = \"clear: both;\"></div></div><div class = \"data-frame\" style = \"overflow-x: scroll;\"><table class = \"data-frame\" style = \"margin-bottom: 6px;\"><thead><tr class = \"header\"><th class = \"rowNumber\" style = \"font-weight: bold; text-align: right;\">Row</th><th style = \"text-align: left;\">SepalLength</th><th style = \"text-align: left;\">SepalWidth</th><th style = \"text-align: left;\">PetalLength</th><th style = \"text-align: left;\">PetalWidth</th><th style = \"text-align: left;\">Species</th></tr><tr class = \"subheader headerLastRow\"><th class = \"rowNumber\" style = \"font-weight: bold; text-align: right;\"></th><th title = \"Float64\" style = \"text-align: left;\">Float64</th><th title = \"Float64\" style = \"text-align: left;\">Float64</th><th title = \"Float64\" style = \"text-align: left;\">Float64</th><th title = \"Float64\" style = \"text-align: left;\">Float64</th><th title = \"CategoricalArrays.CategoricalValue{String, UInt8}\" style = \"text-align: left;\">Cat…</th></tr></thead><tbody><tr><td class = \"rowNumber\" style = \"font-weight: bold; text-align: right;\">1</td><td style = \"text-align: right;\">6.7</td><td style = \"text-align: right;\">3.1</td><td style = \"text-align: right;\">5.6</td><td style = \"text-align: right;\">2.4</td><td style = \"text-align: left;\">virginica</td></tr><tr><td class = \"rowNumber\" style = \"font-weight: bold; text-align: right;\">2</td><td style = \"text-align: right;\">6.9</td><td style = \"text-align: right;\">3.1</td><td style = \"text-align: right;\">5.1</td><td style = \"text-align: right;\">2.3</td><td style = \"text-align: left;\">virginica</td></tr><tr><td class = \"rowNumber\" style = \"font-weight: bold; text-align: right;\">3</td><td style = \"text-align: right;\">5.8</td><td style = \"text-align: right;\">2.7</td><td style = \"text-align: right;\">5.1</td><td style = \"text-align: right;\">1.9</td><td style = \"text-align: left;\">virginica</td></tr><tr><td class = \"rowNumber\" style = \"font-weight: bold; text-align: right;\">4</td><td style = \"text-align: right;\">6.8</td><td style = \"text-align: right;\">3.2</td><td style = \"text-align: right;\">5.9</td><td style = \"text-align: right;\">2.3</td><td style = \"text-align: left;\">virginica</td></tr><tr><td class = \"rowNumber\" style = \"font-weight: bold; text-align: right;\">5</td><td style = \"text-align: right;\">6.7</td><td style = \"text-align: right;\">3.3</td><td style = \"text-align: right;\">5.7</td><td style = \"text-align: right;\">2.5</td><td style = \"text-align: left;\">virginica</td></tr><tr><td class = \"rowNumber\" style = \"font-weight: bold; text-align: right;\">6</td><td style = \"text-align: right;\">6.7</td><td style = \"text-align: right;\">3.0</td><td style = \"text-align: right;\">5.2</td><td style = \"text-align: right;\">2.3</td><td style = \"text-align: left;\">virginica</td></tr><tr><td class = \"rowNumber\" style = \"font-weight: bold; text-align: right;\">7</td><td style = \"text-align: right;\">6.3</td><td style = \"text-align: right;\">2.5</td><td style = \"text-align: right;\">5.0</td><td style = \"text-align: right;\">1.9</td><td style = \"text-align: left;\">virginica</td></tr><tr><td class = \"rowNumber\" style = \"font-weight: bold; text-align: right;\">8</td><td style = \"text-align: right;\">6.5</td><td style = \"text-align: right;\">3.0</td><td style = \"text-align: right;\">5.2</td><td style = \"text-align: right;\">2.0</td><td style = \"text-align: left;\">virginica</td></tr><tr><td class = \"rowNumber\" style = \"font-weight: bold; text-align: right;\">9</td><td style = \"text-align: right;\">6.2</td><td style = \"text-align: right;\">3.4</td><td style = \"text-align: right;\">5.4</td><td style = \"text-align: right;\">2.3</td><td style = \"text-align: left;\">virginica</td></tr><tr><td class = \"rowNumber\" style = \"font-weight: bold; text-align: right;\">10</td><td style = \"text-align: right;\">5.9</td><td style = \"text-align: right;\">3.0</td><td style = \"text-align: right;\">5.1</td><td style = \"text-align: right;\">1.8</td><td style = \"text-align: left;\">virginica</td></tr></tbody></table></div>"
            ],
            "text/latex": "\\begin{tabular}{r|ccccc}\n\t& SepalLength & SepalWidth & PetalLength & PetalWidth & Species\\\\\n\t\\hline\n\t& Float64 & Float64 & Float64 & Float64 & Cat…\\\\\n\t\\hline\n\t1 & 6.7 & 3.1 & 5.6 & 2.4 & virginica \\\\\n\t2 & 6.9 & 3.1 & 5.1 & 2.3 & virginica \\\\\n\t3 & 5.8 & 2.7 & 5.1 & 1.9 & virginica \\\\\n\t4 & 6.8 & 3.2 & 5.9 & 2.3 & virginica \\\\\n\t5 & 6.7 & 3.3 & 5.7 & 2.5 & virginica \\\\\n\t6 & 6.7 & 3.0 & 5.2 & 2.3 & virginica \\\\\n\t7 & 6.3 & 2.5 & 5.0 & 1.9 & virginica \\\\\n\t8 & 6.5 & 3.0 & 5.2 & 2.0 & virginica \\\\\n\t9 & 6.2 & 3.4 & 5.4 & 2.3 & virginica \\\\\n\t10 & 5.9 & 3.0 & 5.1 & 1.8 & virginica \\\\\n\\end{tabular}\n"
          },
          "metadata": {},
          "execution_count": 12
        }
      ]
    },
    {
      "cell_type": "code",
      "source": [
        "iris[1, :]"
      ],
      "metadata": {
        "id": "OLwEo5k4jQkF",
        "outputId": "47a6c5cf-4ec1-4e66-d47c-3c50aa32ce17",
        "colab": {
          "base_uri": "https://localhost:8080/",
          "height": 105
        }
      },
      "execution_count": 13,
      "outputs": [
        {
          "output_type": "execute_result",
          "data": {
            "text/plain": [
              "\u001b[1mDataFrameRow\u001b[0m\n",
              "\u001b[1m Row \u001b[0m│\u001b[1m SepalLength \u001b[0m\u001b[1m SepalWidth \u001b[0m\u001b[1m PetalLength \u001b[0m\u001b[1m PetalWidth \u001b[0m\u001b[1m Species \u001b[0m\n",
              "     │\u001b[90m Float64     \u001b[0m\u001b[90m Float64    \u001b[0m\u001b[90m Float64     \u001b[0m\u001b[90m Float64    \u001b[0m\u001b[90m Cat…    \u001b[0m\n",
              "─────┼───────────────────────────────────────────────────────────\n",
              "   1 │         5.1         3.5          1.4         0.2  setosa"
            ],
            "text/html": [
              "<div><div style = \"float: left;\"><span>DataFrameRow (5 columns)</span></div><div style = \"clear: both;\"></div></div><div class = \"data-frame\" style = \"overflow-x: scroll;\"><table class = \"data-frame\" style = \"margin-bottom: 6px;\"><thead><tr class = \"header\"><th class = \"rowLabel\" style = \"font-weight: bold; text-align: right;\">Row</th><th style = \"text-align: left;\">SepalLength</th><th style = \"text-align: left;\">SepalWidth</th><th style = \"text-align: left;\">PetalLength</th><th style = \"text-align: left;\">PetalWidth</th><th style = \"text-align: left;\">Species</th></tr><tr class = \"subheader headerLastRow\"><th class = \"rowLabel\" style = \"font-weight: bold; text-align: right;\"></th><th title = \"Float64\" style = \"text-align: left;\">Float64</th><th title = \"Float64\" style = \"text-align: left;\">Float64</th><th title = \"Float64\" style = \"text-align: left;\">Float64</th><th title = \"Float64\" style = \"text-align: left;\">Float64</th><th title = \"CategoricalArrays.CategoricalValue{String, UInt8}\" style = \"text-align: left;\">Cat…</th></tr></thead><tbody><tr><td class = \"rowLabel\" style = \"font-weight: bold; text-align: right;\">1</td><td style = \"text-align: right;\">5.1</td><td style = \"text-align: right;\">3.5</td><td style = \"text-align: right;\">1.4</td><td style = \"text-align: right;\">0.2</td><td style = \"text-align: left;\">setosa</td></tr></tbody></table></div>"
            ],
            "text/latex": "\\begin{tabular}{r|ccccc}\n\t& SepalLength & SepalWidth & PetalLength & PetalWidth & Species\\\\\n\t\\hline\n\t& Float64 & Float64 & Float64 & Float64 & Cat…\\\\\n\t\\hline\n\t1 & 5.1 & 3.5 & 1.4 & 0.2 & setosa \\\\\n\\end{tabular}\n"
          },
          "metadata": {},
          "execution_count": 13
        }
      ]
    },
    {
      "cell_type": "code",
      "source": [
        "iris[:, 1]"
      ],
      "metadata": {
        "id": "AYlu-d1EjSHI",
        "outputId": "55b96b9a-af54-4b0d-cbcd-e9ae1cc8f7dd",
        "colab": {
          "base_uri": "https://localhost:8080/"
        }
      },
      "execution_count": 14,
      "outputs": [
        {
          "output_type": "execute_result",
          "data": {
            "text/plain": [
              "150-element Vector{Float64}:\n",
              " 5.1\n",
              " 4.9\n",
              " 4.7\n",
              " 4.6\n",
              " 5.0\n",
              " 5.4\n",
              " 4.6\n",
              " 5.0\n",
              " 4.4\n",
              " 4.9\n",
              " 5.4\n",
              " 4.8\n",
              " 4.8\n",
              " ⋮\n",
              " 6.0\n",
              " 6.9\n",
              " 6.7\n",
              " 6.9\n",
              " 5.8\n",
              " 6.8\n",
              " 6.7\n",
              " 6.7\n",
              " 6.3\n",
              " 6.5\n",
              " 6.2\n",
              " 5.9"
            ]
          },
          "metadata": {},
          "execution_count": 14
        }
      ]
    },
    {
      "cell_type": "code",
      "source": [
        "iris[!, 1]"
      ],
      "metadata": {
        "id": "hGy7kXqLjTxE",
        "outputId": "81e687fe-c5c3-4118-89a5-4d01ec61c6da",
        "colab": {
          "base_uri": "https://localhost:8080/"
        }
      },
      "execution_count": 15,
      "outputs": [
        {
          "output_type": "execute_result",
          "data": {
            "text/plain": [
              "150-element Vector{Float64}:\n",
              " 5.1\n",
              " 4.9\n",
              " 4.7\n",
              " 4.6\n",
              " 5.0\n",
              " 5.4\n",
              " 4.6\n",
              " 5.0\n",
              " 4.4\n",
              " 4.9\n",
              " 5.4\n",
              " 4.8\n",
              " 4.8\n",
              " ⋮\n",
              " 6.0\n",
              " 6.9\n",
              " 6.7\n",
              " 6.9\n",
              " 5.8\n",
              " 6.8\n",
              " 6.7\n",
              " 6.7\n",
              " 6.3\n",
              " 6.5\n",
              " 6.2\n",
              " 5.9"
            ]
          },
          "metadata": {},
          "execution_count": 15
        }
      ]
    },
    {
      "cell_type": "code",
      "source": [
        "iris[!, [1, 2]]"
      ],
      "metadata": {
        "id": "SuQ8szyZjVSL",
        "outputId": "9e7e2261-a4bb-44ae-9b34-6b1273f3eb21",
        "colab": {
          "base_uri": "https://localhost:8080/",
          "height": 630
        }
      },
      "execution_count": 16,
      "outputs": [
        {
          "output_type": "execute_result",
          "data": {
            "text/plain": [
              "\u001b[1m150×2 DataFrame\u001b[0m\n",
              "\u001b[1m Row \u001b[0m│\u001b[1m SepalLength \u001b[0m\u001b[1m SepalWidth \u001b[0m\n",
              "     │\u001b[90m Float64     \u001b[0m\u001b[90m Float64    \u001b[0m\n",
              "─────┼─────────────────────────\n",
              "   1 │         5.1         3.5\n",
              "   2 │         4.9         3.0\n",
              "   3 │         4.7         3.2\n",
              "   4 │         4.6         3.1\n",
              "   5 │         5.0         3.6\n",
              "   6 │         5.4         3.9\n",
              "   7 │         4.6         3.4\n",
              "   8 │         5.0         3.4\n",
              "   9 │         4.4         2.9\n",
              "  10 │         4.9         3.1\n",
              "  11 │         5.4         3.7\n",
              "  ⋮  │      ⋮           ⋮\n",
              " 141 │         6.7         3.1\n",
              " 142 │         6.9         3.1\n",
              " 143 │         5.8         2.7\n",
              " 144 │         6.8         3.2\n",
              " 145 │         6.7         3.3\n",
              " 146 │         6.7         3.0\n",
              " 147 │         6.3         2.5\n",
              " 148 │         6.5         3.0\n",
              " 149 │         6.2         3.4\n",
              " 150 │         5.9         3.0\n",
              "\u001b[36m               129 rows omitted\u001b[0m"
            ],
            "text/html": [
              "<div><div style = \"float: left;\"><span>150×2 DataFrame</span></div><div style = \"float: right;\"><span style = \"font-style: italic;\">125 rows omitted</span></div><div style = \"clear: both;\"></div></div><div class = \"data-frame\" style = \"overflow-x: scroll;\"><table class = \"data-frame\" style = \"margin-bottom: 6px;\"><thead><tr class = \"header\"><th class = \"rowNumber\" style = \"font-weight: bold; text-align: right;\">Row</th><th style = \"text-align: left;\">SepalLength</th><th style = \"text-align: left;\">SepalWidth</th></tr><tr class = \"subheader headerLastRow\"><th class = \"rowNumber\" style = \"font-weight: bold; text-align: right;\"></th><th title = \"Float64\" style = \"text-align: left;\">Float64</th><th title = \"Float64\" style = \"text-align: left;\">Float64</th></tr></thead><tbody><tr><td class = \"rowNumber\" style = \"font-weight: bold; text-align: right;\">1</td><td style = \"text-align: right;\">5.1</td><td style = \"text-align: right;\">3.5</td></tr><tr><td class = \"rowNumber\" style = \"font-weight: bold; text-align: right;\">2</td><td style = \"text-align: right;\">4.9</td><td style = \"text-align: right;\">3.0</td></tr><tr><td class = \"rowNumber\" style = \"font-weight: bold; text-align: right;\">3</td><td style = \"text-align: right;\">4.7</td><td style = \"text-align: right;\">3.2</td></tr><tr><td class = \"rowNumber\" style = \"font-weight: bold; text-align: right;\">4</td><td style = \"text-align: right;\">4.6</td><td style = \"text-align: right;\">3.1</td></tr><tr><td class = \"rowNumber\" style = \"font-weight: bold; text-align: right;\">5</td><td style = \"text-align: right;\">5.0</td><td style = \"text-align: right;\">3.6</td></tr><tr><td class = \"rowNumber\" style = \"font-weight: bold; text-align: right;\">6</td><td style = \"text-align: right;\">5.4</td><td style = \"text-align: right;\">3.9</td></tr><tr><td class = \"rowNumber\" style = \"font-weight: bold; text-align: right;\">7</td><td style = \"text-align: right;\">4.6</td><td style = \"text-align: right;\">3.4</td></tr><tr><td class = \"rowNumber\" style = \"font-weight: bold; text-align: right;\">8</td><td style = \"text-align: right;\">5.0</td><td style = \"text-align: right;\">3.4</td></tr><tr><td class = \"rowNumber\" style = \"font-weight: bold; text-align: right;\">9</td><td style = \"text-align: right;\">4.4</td><td style = \"text-align: right;\">2.9</td></tr><tr><td class = \"rowNumber\" style = \"font-weight: bold; text-align: right;\">10</td><td style = \"text-align: right;\">4.9</td><td style = \"text-align: right;\">3.1</td></tr><tr><td class = \"rowNumber\" style = \"font-weight: bold; text-align: right;\">11</td><td style = \"text-align: right;\">5.4</td><td style = \"text-align: right;\">3.7</td></tr><tr><td class = \"rowNumber\" style = \"font-weight: bold; text-align: right;\">12</td><td style = \"text-align: right;\">4.8</td><td style = \"text-align: right;\">3.4</td></tr><tr><td class = \"rowNumber\" style = \"font-weight: bold; text-align: right;\">13</td><td style = \"text-align: right;\">4.8</td><td style = \"text-align: right;\">3.0</td></tr><tr><td style = \"text-align: right;\">&vellip;</td><td style = \"text-align: right;\">&vellip;</td><td style = \"text-align: right;\">&vellip;</td></tr><tr><td class = \"rowNumber\" style = \"font-weight: bold; text-align: right;\">139</td><td style = \"text-align: right;\">6.0</td><td style = \"text-align: right;\">3.0</td></tr><tr><td class = \"rowNumber\" style = \"font-weight: bold; text-align: right;\">140</td><td style = \"text-align: right;\">6.9</td><td style = \"text-align: right;\">3.1</td></tr><tr><td class = \"rowNumber\" style = \"font-weight: bold; text-align: right;\">141</td><td style = \"text-align: right;\">6.7</td><td style = \"text-align: right;\">3.1</td></tr><tr><td class = \"rowNumber\" style = \"font-weight: bold; text-align: right;\">142</td><td style = \"text-align: right;\">6.9</td><td style = \"text-align: right;\">3.1</td></tr><tr><td class = \"rowNumber\" style = \"font-weight: bold; text-align: right;\">143</td><td style = \"text-align: right;\">5.8</td><td style = \"text-align: right;\">2.7</td></tr><tr><td class = \"rowNumber\" style = \"font-weight: bold; text-align: right;\">144</td><td style = \"text-align: right;\">6.8</td><td style = \"text-align: right;\">3.2</td></tr><tr><td class = \"rowNumber\" style = \"font-weight: bold; text-align: right;\">145</td><td style = \"text-align: right;\">6.7</td><td style = \"text-align: right;\">3.3</td></tr><tr><td class = \"rowNumber\" style = \"font-weight: bold; text-align: right;\">146</td><td style = \"text-align: right;\">6.7</td><td style = \"text-align: right;\">3.0</td></tr><tr><td class = \"rowNumber\" style = \"font-weight: bold; text-align: right;\">147</td><td style = \"text-align: right;\">6.3</td><td style = \"text-align: right;\">2.5</td></tr><tr><td class = \"rowNumber\" style = \"font-weight: bold; text-align: right;\">148</td><td style = \"text-align: right;\">6.5</td><td style = \"text-align: right;\">3.0</td></tr><tr><td class = \"rowNumber\" style = \"font-weight: bold; text-align: right;\">149</td><td style = \"text-align: right;\">6.2</td><td style = \"text-align: right;\">3.4</td></tr><tr><td class = \"rowNumber\" style = \"font-weight: bold; text-align: right;\">150</td><td style = \"text-align: right;\">5.9</td><td style = \"text-align: right;\">3.0</td></tr></tbody></table></div>"
            ],
            "text/latex": "\\begin{tabular}{r|cc}\n\t& SepalLength & SepalWidth\\\\\n\t\\hline\n\t& Float64 & Float64\\\\\n\t\\hline\n\t1 & 5.1 & 3.5 \\\\\n\t2 & 4.9 & 3.0 \\\\\n\t3 & 4.7 & 3.2 \\\\\n\t4 & 4.6 & 3.1 \\\\\n\t5 & 5.0 & 3.6 \\\\\n\t6 & 5.4 & 3.9 \\\\\n\t7 & 4.6 & 3.4 \\\\\n\t8 & 5.0 & 3.4 \\\\\n\t9 & 4.4 & 2.9 \\\\\n\t10 & 4.9 & 3.1 \\\\\n\t11 & 5.4 & 3.7 \\\\\n\t12 & 4.8 & 3.4 \\\\\n\t13 & 4.8 & 3.0 \\\\\n\t14 & 4.3 & 3.0 \\\\\n\t15 & 5.8 & 4.0 \\\\\n\t16 & 5.7 & 4.4 \\\\\n\t17 & 5.4 & 3.9 \\\\\n\t18 & 5.1 & 3.5 \\\\\n\t19 & 5.7 & 3.8 \\\\\n\t20 & 5.1 & 3.8 \\\\\n\t21 & 5.4 & 3.4 \\\\\n\t22 & 5.1 & 3.7 \\\\\n\t23 & 4.6 & 3.6 \\\\\n\t24 & 5.1 & 3.3 \\\\\n\t25 & 4.8 & 3.4 \\\\\n\t26 & 5.0 & 3.0 \\\\\n\t27 & 5.0 & 3.4 \\\\\n\t28 & 5.2 & 3.5 \\\\\n\t29 & 5.2 & 3.4 \\\\\n\t30 & 4.7 & 3.2 \\\\\n\t$\\dots$ & $\\dots$ & $\\dots$ \\\\\n\\end{tabular}\n"
          },
          "metadata": {},
          "execution_count": 16
        }
      ]
    },
    {
      "cell_type": "code",
      "source": [
        "iris[!, :SepalLength]"
      ],
      "metadata": {
        "id": "A8xRVuN1jWnp",
        "outputId": "75a0bedd-0a25-4814-d835-78fbac9f42a4",
        "colab": {
          "base_uri": "https://localhost:8080/"
        }
      },
      "execution_count": 17,
      "outputs": [
        {
          "output_type": "execute_result",
          "data": {
            "text/plain": [
              "150-element Vector{Float64}:\n",
              " 5.1\n",
              " 4.9\n",
              " 4.7\n",
              " 4.6\n",
              " 5.0\n",
              " 5.4\n",
              " 4.6\n",
              " 5.0\n",
              " 4.4\n",
              " 4.9\n",
              " 5.4\n",
              " 4.8\n",
              " 4.8\n",
              " ⋮\n",
              " 6.0\n",
              " 6.9\n",
              " 6.7\n",
              " 6.9\n",
              " 5.8\n",
              " 6.8\n",
              " 6.7\n",
              " 6.7\n",
              " 6.3\n",
              " 6.5\n",
              " 6.2\n",
              " 5.9"
            ]
          },
          "metadata": {},
          "execution_count": 17
        }
      ]
    },
    {
      "cell_type": "code",
      "source": [
        "iris[!, [:SepalLength, :SepalWidth]]"
      ],
      "metadata": {
        "id": "oRwRRAmLjX7f",
        "outputId": "a58ac007-ca64-47f4-9724-4474d267e73c",
        "colab": {
          "base_uri": "https://localhost:8080/",
          "height": 630
        }
      },
      "execution_count": 18,
      "outputs": [
        {
          "output_type": "execute_result",
          "data": {
            "text/plain": [
              "\u001b[1m150×2 DataFrame\u001b[0m\n",
              "\u001b[1m Row \u001b[0m│\u001b[1m SepalLength \u001b[0m\u001b[1m SepalWidth \u001b[0m\n",
              "     │\u001b[90m Float64     \u001b[0m\u001b[90m Float64    \u001b[0m\n",
              "─────┼─────────────────────────\n",
              "   1 │         5.1         3.5\n",
              "   2 │         4.9         3.0\n",
              "   3 │         4.7         3.2\n",
              "   4 │         4.6         3.1\n",
              "   5 │         5.0         3.6\n",
              "   6 │         5.4         3.9\n",
              "   7 │         4.6         3.4\n",
              "   8 │         5.0         3.4\n",
              "   9 │         4.4         2.9\n",
              "  10 │         4.9         3.1\n",
              "  11 │         5.4         3.7\n",
              "  ⋮  │      ⋮           ⋮\n",
              " 141 │         6.7         3.1\n",
              " 142 │         6.9         3.1\n",
              " 143 │         5.8         2.7\n",
              " 144 │         6.8         3.2\n",
              " 145 │         6.7         3.3\n",
              " 146 │         6.7         3.0\n",
              " 147 │         6.3         2.5\n",
              " 148 │         6.5         3.0\n",
              " 149 │         6.2         3.4\n",
              " 150 │         5.9         3.0\n",
              "\u001b[36m               129 rows omitted\u001b[0m"
            ],
            "text/html": [
              "<div><div style = \"float: left;\"><span>150×2 DataFrame</span></div><div style = \"float: right;\"><span style = \"font-style: italic;\">125 rows omitted</span></div><div style = \"clear: both;\"></div></div><div class = \"data-frame\" style = \"overflow-x: scroll;\"><table class = \"data-frame\" style = \"margin-bottom: 6px;\"><thead><tr class = \"header\"><th class = \"rowNumber\" style = \"font-weight: bold; text-align: right;\">Row</th><th style = \"text-align: left;\">SepalLength</th><th style = \"text-align: left;\">SepalWidth</th></tr><tr class = \"subheader headerLastRow\"><th class = \"rowNumber\" style = \"font-weight: bold; text-align: right;\"></th><th title = \"Float64\" style = \"text-align: left;\">Float64</th><th title = \"Float64\" style = \"text-align: left;\">Float64</th></tr></thead><tbody><tr><td class = \"rowNumber\" style = \"font-weight: bold; text-align: right;\">1</td><td style = \"text-align: right;\">5.1</td><td style = \"text-align: right;\">3.5</td></tr><tr><td class = \"rowNumber\" style = \"font-weight: bold; text-align: right;\">2</td><td style = \"text-align: right;\">4.9</td><td style = \"text-align: right;\">3.0</td></tr><tr><td class = \"rowNumber\" style = \"font-weight: bold; text-align: right;\">3</td><td style = \"text-align: right;\">4.7</td><td style = \"text-align: right;\">3.2</td></tr><tr><td class = \"rowNumber\" style = \"font-weight: bold; text-align: right;\">4</td><td style = \"text-align: right;\">4.6</td><td style = \"text-align: right;\">3.1</td></tr><tr><td class = \"rowNumber\" style = \"font-weight: bold; text-align: right;\">5</td><td style = \"text-align: right;\">5.0</td><td style = \"text-align: right;\">3.6</td></tr><tr><td class = \"rowNumber\" style = \"font-weight: bold; text-align: right;\">6</td><td style = \"text-align: right;\">5.4</td><td style = \"text-align: right;\">3.9</td></tr><tr><td class = \"rowNumber\" style = \"font-weight: bold; text-align: right;\">7</td><td style = \"text-align: right;\">4.6</td><td style = \"text-align: right;\">3.4</td></tr><tr><td class = \"rowNumber\" style = \"font-weight: bold; text-align: right;\">8</td><td style = \"text-align: right;\">5.0</td><td style = \"text-align: right;\">3.4</td></tr><tr><td class = \"rowNumber\" style = \"font-weight: bold; text-align: right;\">9</td><td style = \"text-align: right;\">4.4</td><td style = \"text-align: right;\">2.9</td></tr><tr><td class = \"rowNumber\" style = \"font-weight: bold; text-align: right;\">10</td><td style = \"text-align: right;\">4.9</td><td style = \"text-align: right;\">3.1</td></tr><tr><td class = \"rowNumber\" style = \"font-weight: bold; text-align: right;\">11</td><td style = \"text-align: right;\">5.4</td><td style = \"text-align: right;\">3.7</td></tr><tr><td class = \"rowNumber\" style = \"font-weight: bold; text-align: right;\">12</td><td style = \"text-align: right;\">4.8</td><td style = \"text-align: right;\">3.4</td></tr><tr><td class = \"rowNumber\" style = \"font-weight: bold; text-align: right;\">13</td><td style = \"text-align: right;\">4.8</td><td style = \"text-align: right;\">3.0</td></tr><tr><td style = \"text-align: right;\">&vellip;</td><td style = \"text-align: right;\">&vellip;</td><td style = \"text-align: right;\">&vellip;</td></tr><tr><td class = \"rowNumber\" style = \"font-weight: bold; text-align: right;\">139</td><td style = \"text-align: right;\">6.0</td><td style = \"text-align: right;\">3.0</td></tr><tr><td class = \"rowNumber\" style = \"font-weight: bold; text-align: right;\">140</td><td style = \"text-align: right;\">6.9</td><td style = \"text-align: right;\">3.1</td></tr><tr><td class = \"rowNumber\" style = \"font-weight: bold; text-align: right;\">141</td><td style = \"text-align: right;\">6.7</td><td style = \"text-align: right;\">3.1</td></tr><tr><td class = \"rowNumber\" style = \"font-weight: bold; text-align: right;\">142</td><td style = \"text-align: right;\">6.9</td><td style = \"text-align: right;\">3.1</td></tr><tr><td class = \"rowNumber\" style = \"font-weight: bold; text-align: right;\">143</td><td style = \"text-align: right;\">5.8</td><td style = \"text-align: right;\">2.7</td></tr><tr><td class = \"rowNumber\" style = \"font-weight: bold; text-align: right;\">144</td><td style = \"text-align: right;\">6.8</td><td style = \"text-align: right;\">3.2</td></tr><tr><td class = \"rowNumber\" style = \"font-weight: bold; text-align: right;\">145</td><td style = \"text-align: right;\">6.7</td><td style = \"text-align: right;\">3.3</td></tr><tr><td class = \"rowNumber\" style = \"font-weight: bold; text-align: right;\">146</td><td style = \"text-align: right;\">6.7</td><td style = \"text-align: right;\">3.0</td></tr><tr><td class = \"rowNumber\" style = \"font-weight: bold; text-align: right;\">147</td><td style = \"text-align: right;\">6.3</td><td style = \"text-align: right;\">2.5</td></tr><tr><td class = \"rowNumber\" style = \"font-weight: bold; text-align: right;\">148</td><td style = \"text-align: right;\">6.5</td><td style = \"text-align: right;\">3.0</td></tr><tr><td class = \"rowNumber\" style = \"font-weight: bold; text-align: right;\">149</td><td style = \"text-align: right;\">6.2</td><td style = \"text-align: right;\">3.4</td></tr><tr><td class = \"rowNumber\" style = \"font-weight: bold; text-align: right;\">150</td><td style = \"text-align: right;\">5.9</td><td style = \"text-align: right;\">3.0</td></tr></tbody></table></div>"
            ],
            "text/latex": "\\begin{tabular}{r|cc}\n\t& SepalLength & SepalWidth\\\\\n\t\\hline\n\t& Float64 & Float64\\\\\n\t\\hline\n\t1 & 5.1 & 3.5 \\\\\n\t2 & 4.9 & 3.0 \\\\\n\t3 & 4.7 & 3.2 \\\\\n\t4 & 4.6 & 3.1 \\\\\n\t5 & 5.0 & 3.6 \\\\\n\t6 & 5.4 & 3.9 \\\\\n\t7 & 4.6 & 3.4 \\\\\n\t8 & 5.0 & 3.4 \\\\\n\t9 & 4.4 & 2.9 \\\\\n\t10 & 4.9 & 3.1 \\\\\n\t11 & 5.4 & 3.7 \\\\\n\t12 & 4.8 & 3.4 \\\\\n\t13 & 4.8 & 3.0 \\\\\n\t14 & 4.3 & 3.0 \\\\\n\t15 & 5.8 & 4.0 \\\\\n\t16 & 5.7 & 4.4 \\\\\n\t17 & 5.4 & 3.9 \\\\\n\t18 & 5.1 & 3.5 \\\\\n\t19 & 5.7 & 3.8 \\\\\n\t20 & 5.1 & 3.8 \\\\\n\t21 & 5.4 & 3.4 \\\\\n\t22 & 5.1 & 3.7 \\\\\n\t23 & 4.6 & 3.6 \\\\\n\t24 & 5.1 & 3.3 \\\\\n\t25 & 4.8 & 3.4 \\\\\n\t26 & 5.0 & 3.0 \\\\\n\t27 & 5.0 & 3.4 \\\\\n\t28 & 5.2 & 3.5 \\\\\n\t29 & 5.2 & 3.4 \\\\\n\t30 & 4.7 & 3.2 \\\\\n\t$\\dots$ & $\\dots$ & $\\dots$ \\\\\n\\end{tabular}\n"
          },
          "metadata": {},
          "execution_count": 18
        }
      ]
    },
    {
      "cell_type": "code",
      "source": [
        "iris.SepalLength"
      ],
      "metadata": {
        "id": "9aJXG_wAjZKV",
        "outputId": "f63d095d-c6e6-4012-b4c9-516429645486",
        "colab": {
          "base_uri": "https://localhost:8080/"
        }
      },
      "execution_count": 19,
      "outputs": [
        {
          "output_type": "execute_result",
          "data": {
            "text/plain": [
              "150-element Vector{Float64}:\n",
              " 5.1\n",
              " 4.9\n",
              " 4.7\n",
              " 4.6\n",
              " 5.0\n",
              " 5.4\n",
              " 4.6\n",
              " 5.0\n",
              " 4.4\n",
              " 4.9\n",
              " 5.4\n",
              " 4.8\n",
              " 4.8\n",
              " ⋮\n",
              " 6.0\n",
              " 6.9\n",
              " 6.7\n",
              " 6.9\n",
              " 5.8\n",
              " 6.8\n",
              " 6.7\n",
              " 6.7\n",
              " 6.3\n",
              " 6.5\n",
              " 6.2\n",
              " 5.9"
            ]
          },
          "metadata": {},
          "execution_count": 19
        }
      ]
    },
    {
      "cell_type": "code",
      "source": [
        "iris.SepalWidth"
      ],
      "metadata": {
        "id": "jIMsGXInjabY",
        "outputId": "41c1e84e-620a-4a14-bd48-84ab03dd2e47",
        "colab": {
          "base_uri": "https://localhost:8080/"
        }
      },
      "execution_count": 20,
      "outputs": [
        {
          "output_type": "execute_result",
          "data": {
            "text/plain": [
              "150-element Vector{Float64}:\n",
              " 3.5\n",
              " 3.0\n",
              " 3.2\n",
              " 3.1\n",
              " 3.6\n",
              " 3.9\n",
              " 3.4\n",
              " 3.4\n",
              " 2.9\n",
              " 3.1\n",
              " 3.7\n",
              " 3.4\n",
              " 3.0\n",
              " ⋮\n",
              " 3.0\n",
              " 3.1\n",
              " 3.1\n",
              " 3.1\n",
              " 2.7\n",
              " 3.2\n",
              " 3.3\n",
              " 3.0\n",
              " 2.5\n",
              " 3.0\n",
              " 3.4\n",
              " 3.0"
            ]
          },
          "metadata": {},
          "execution_count": 20
        }
      ]
    },
    {
      "cell_type": "code",
      "source": [
        "iris[!, r\"Sepal\"]"
      ],
      "metadata": {
        "colab": {
          "base_uri": "https://localhost:8080/",
          "height": 630
        },
        "id": "o12fkay_Gap8",
        "outputId": "801f9f95-e9b8-4820-ea4f-834a0283e0f8"
      },
      "execution_count": 21,
      "outputs": [
        {
          "output_type": "execute_result",
          "data": {
            "text/plain": [
              "\u001b[1m150×2 DataFrame\u001b[0m\n",
              "\u001b[1m Row \u001b[0m│\u001b[1m SepalLength \u001b[0m\u001b[1m SepalWidth \u001b[0m\n",
              "     │\u001b[90m Float64     \u001b[0m\u001b[90m Float64    \u001b[0m\n",
              "─────┼─────────────────────────\n",
              "   1 │         5.1         3.5\n",
              "   2 │         4.9         3.0\n",
              "   3 │         4.7         3.2\n",
              "   4 │         4.6         3.1\n",
              "   5 │         5.0         3.6\n",
              "   6 │         5.4         3.9\n",
              "   7 │         4.6         3.4\n",
              "   8 │         5.0         3.4\n",
              "   9 │         4.4         2.9\n",
              "  10 │         4.9         3.1\n",
              "  11 │         5.4         3.7\n",
              "  ⋮  │      ⋮           ⋮\n",
              " 141 │         6.7         3.1\n",
              " 142 │         6.9         3.1\n",
              " 143 │         5.8         2.7\n",
              " 144 │         6.8         3.2\n",
              " 145 │         6.7         3.3\n",
              " 146 │         6.7         3.0\n",
              " 147 │         6.3         2.5\n",
              " 148 │         6.5         3.0\n",
              " 149 │         6.2         3.4\n",
              " 150 │         5.9         3.0\n",
              "\u001b[36m               129 rows omitted\u001b[0m"
            ],
            "text/html": [
              "<div><div style = \"float: left;\"><span>150×2 DataFrame</span></div><div style = \"float: right;\"><span style = \"font-style: italic;\">125 rows omitted</span></div><div style = \"clear: both;\"></div></div><div class = \"data-frame\" style = \"overflow-x: scroll;\"><table class = \"data-frame\" style = \"margin-bottom: 6px;\"><thead><tr class = \"header\"><th class = \"rowNumber\" style = \"font-weight: bold; text-align: right;\">Row</th><th style = \"text-align: left;\">SepalLength</th><th style = \"text-align: left;\">SepalWidth</th></tr><tr class = \"subheader headerLastRow\"><th class = \"rowNumber\" style = \"font-weight: bold; text-align: right;\"></th><th title = \"Float64\" style = \"text-align: left;\">Float64</th><th title = \"Float64\" style = \"text-align: left;\">Float64</th></tr></thead><tbody><tr><td class = \"rowNumber\" style = \"font-weight: bold; text-align: right;\">1</td><td style = \"text-align: right;\">5.1</td><td style = \"text-align: right;\">3.5</td></tr><tr><td class = \"rowNumber\" style = \"font-weight: bold; text-align: right;\">2</td><td style = \"text-align: right;\">4.9</td><td style = \"text-align: right;\">3.0</td></tr><tr><td class = \"rowNumber\" style = \"font-weight: bold; text-align: right;\">3</td><td style = \"text-align: right;\">4.7</td><td style = \"text-align: right;\">3.2</td></tr><tr><td class = \"rowNumber\" style = \"font-weight: bold; text-align: right;\">4</td><td style = \"text-align: right;\">4.6</td><td style = \"text-align: right;\">3.1</td></tr><tr><td class = \"rowNumber\" style = \"font-weight: bold; text-align: right;\">5</td><td style = \"text-align: right;\">5.0</td><td style = \"text-align: right;\">3.6</td></tr><tr><td class = \"rowNumber\" style = \"font-weight: bold; text-align: right;\">6</td><td style = \"text-align: right;\">5.4</td><td style = \"text-align: right;\">3.9</td></tr><tr><td class = \"rowNumber\" style = \"font-weight: bold; text-align: right;\">7</td><td style = \"text-align: right;\">4.6</td><td style = \"text-align: right;\">3.4</td></tr><tr><td class = \"rowNumber\" style = \"font-weight: bold; text-align: right;\">8</td><td style = \"text-align: right;\">5.0</td><td style = \"text-align: right;\">3.4</td></tr><tr><td class = \"rowNumber\" style = \"font-weight: bold; text-align: right;\">9</td><td style = \"text-align: right;\">4.4</td><td style = \"text-align: right;\">2.9</td></tr><tr><td class = \"rowNumber\" style = \"font-weight: bold; text-align: right;\">10</td><td style = \"text-align: right;\">4.9</td><td style = \"text-align: right;\">3.1</td></tr><tr><td class = \"rowNumber\" style = \"font-weight: bold; text-align: right;\">11</td><td style = \"text-align: right;\">5.4</td><td style = \"text-align: right;\">3.7</td></tr><tr><td class = \"rowNumber\" style = \"font-weight: bold; text-align: right;\">12</td><td style = \"text-align: right;\">4.8</td><td style = \"text-align: right;\">3.4</td></tr><tr><td class = \"rowNumber\" style = \"font-weight: bold; text-align: right;\">13</td><td style = \"text-align: right;\">4.8</td><td style = \"text-align: right;\">3.0</td></tr><tr><td style = \"text-align: right;\">&vellip;</td><td style = \"text-align: right;\">&vellip;</td><td style = \"text-align: right;\">&vellip;</td></tr><tr><td class = \"rowNumber\" style = \"font-weight: bold; text-align: right;\">139</td><td style = \"text-align: right;\">6.0</td><td style = \"text-align: right;\">3.0</td></tr><tr><td class = \"rowNumber\" style = \"font-weight: bold; text-align: right;\">140</td><td style = \"text-align: right;\">6.9</td><td style = \"text-align: right;\">3.1</td></tr><tr><td class = \"rowNumber\" style = \"font-weight: bold; text-align: right;\">141</td><td style = \"text-align: right;\">6.7</td><td style = \"text-align: right;\">3.1</td></tr><tr><td class = \"rowNumber\" style = \"font-weight: bold; text-align: right;\">142</td><td style = \"text-align: right;\">6.9</td><td style = \"text-align: right;\">3.1</td></tr><tr><td class = \"rowNumber\" style = \"font-weight: bold; text-align: right;\">143</td><td style = \"text-align: right;\">5.8</td><td style = \"text-align: right;\">2.7</td></tr><tr><td class = \"rowNumber\" style = \"font-weight: bold; text-align: right;\">144</td><td style = \"text-align: right;\">6.8</td><td style = \"text-align: right;\">3.2</td></tr><tr><td class = \"rowNumber\" style = \"font-weight: bold; text-align: right;\">145</td><td style = \"text-align: right;\">6.7</td><td style = \"text-align: right;\">3.3</td></tr><tr><td class = \"rowNumber\" style = \"font-weight: bold; text-align: right;\">146</td><td style = \"text-align: right;\">6.7</td><td style = \"text-align: right;\">3.0</td></tr><tr><td class = \"rowNumber\" style = \"font-weight: bold; text-align: right;\">147</td><td style = \"text-align: right;\">6.3</td><td style = \"text-align: right;\">2.5</td></tr><tr><td class = \"rowNumber\" style = \"font-weight: bold; text-align: right;\">148</td><td style = \"text-align: right;\">6.5</td><td style = \"text-align: right;\">3.0</td></tr><tr><td class = \"rowNumber\" style = \"font-weight: bold; text-align: right;\">149</td><td style = \"text-align: right;\">6.2</td><td style = \"text-align: right;\">3.4</td></tr><tr><td class = \"rowNumber\" style = \"font-weight: bold; text-align: right;\">150</td><td style = \"text-align: right;\">5.9</td><td style = \"text-align: right;\">3.0</td></tr></tbody></table></div>"
            ],
            "text/latex": "\\begin{tabular}{r|cc}\n\t& SepalLength & SepalWidth\\\\\n\t\\hline\n\t& Float64 & Float64\\\\\n\t\\hline\n\t1 & 5.1 & 3.5 \\\\\n\t2 & 4.9 & 3.0 \\\\\n\t3 & 4.7 & 3.2 \\\\\n\t4 & 4.6 & 3.1 \\\\\n\t5 & 5.0 & 3.6 \\\\\n\t6 & 5.4 & 3.9 \\\\\n\t7 & 4.6 & 3.4 \\\\\n\t8 & 5.0 & 3.4 \\\\\n\t9 & 4.4 & 2.9 \\\\\n\t10 & 4.9 & 3.1 \\\\\n\t11 & 5.4 & 3.7 \\\\\n\t12 & 4.8 & 3.4 \\\\\n\t13 & 4.8 & 3.0 \\\\\n\t14 & 4.3 & 3.0 \\\\\n\t15 & 5.8 & 4.0 \\\\\n\t16 & 5.7 & 4.4 \\\\\n\t17 & 5.4 & 3.9 \\\\\n\t18 & 5.1 & 3.5 \\\\\n\t19 & 5.7 & 3.8 \\\\\n\t20 & 5.1 & 3.8 \\\\\n\t21 & 5.4 & 3.4 \\\\\n\t22 & 5.1 & 3.7 \\\\\n\t23 & 4.6 & 3.6 \\\\\n\t24 & 5.1 & 3.3 \\\\\n\t25 & 4.8 & 3.4 \\\\\n\t26 & 5.0 & 3.0 \\\\\n\t27 & 5.0 & 3.4 \\\\\n\t28 & 5.2 & 3.5 \\\\\n\t29 & 5.2 & 3.4 \\\\\n\t30 & 4.7 & 3.2 \\\\\n\t$\\dots$ & $\\dots$ & $\\dots$ \\\\\n\\end{tabular}\n"
          },
          "metadata": {},
          "execution_count": 21
        }
      ]
    },
    {
      "cell_type": "code",
      "source": [
        "iris[!, Not(r\"Sepal\")]"
      ],
      "metadata": {
        "id": "O6lctfHGjkPD",
        "outputId": "20b05845-2541-4a63-9908-670e3e62a36f",
        "colab": {
          "base_uri": "https://localhost:8080/",
          "height": 630
        }
      },
      "execution_count": 22,
      "outputs": [
        {
          "output_type": "execute_result",
          "data": {
            "text/plain": [
              "\u001b[1m150×3 DataFrame\u001b[0m\n",
              "\u001b[1m Row \u001b[0m│\u001b[1m PetalLength \u001b[0m\u001b[1m PetalWidth \u001b[0m\u001b[1m Species   \u001b[0m\n",
              "     │\u001b[90m Float64     \u001b[0m\u001b[90m Float64    \u001b[0m\u001b[90m Cat…      \u001b[0m\n",
              "─────┼────────────────────────────────────\n",
              "   1 │         1.4         0.2  setosa\n",
              "   2 │         1.4         0.2  setosa\n",
              "   3 │         1.3         0.2  setosa\n",
              "   4 │         1.5         0.2  setosa\n",
              "   5 │         1.4         0.2  setosa\n",
              "   6 │         1.7         0.4  setosa\n",
              "   7 │         1.4         0.3  setosa\n",
              "   8 │         1.5         0.2  setosa\n",
              "   9 │         1.4         0.2  setosa\n",
              "  10 │         1.5         0.1  setosa\n",
              "  11 │         1.5         0.2  setosa\n",
              "  ⋮  │      ⋮           ⋮           ⋮\n",
              " 141 │         5.6         2.4  virginica\n",
              " 142 │         5.1         2.3  virginica\n",
              " 143 │         5.1         1.9  virginica\n",
              " 144 │         5.9         2.3  virginica\n",
              " 145 │         5.7         2.5  virginica\n",
              " 146 │         5.2         2.3  virginica\n",
              " 147 │         5.0         1.9  virginica\n",
              " 148 │         5.2         2.0  virginica\n",
              " 149 │         5.4         2.3  virginica\n",
              " 150 │         5.1         1.8  virginica\n",
              "\u001b[36m                          129 rows omitted\u001b[0m"
            ],
            "text/html": [
              "<div><div style = \"float: left;\"><span>150×3 DataFrame</span></div><div style = \"float: right;\"><span style = \"font-style: italic;\">125 rows omitted</span></div><div style = \"clear: both;\"></div></div><div class = \"data-frame\" style = \"overflow-x: scroll;\"><table class = \"data-frame\" style = \"margin-bottom: 6px;\"><thead><tr class = \"header\"><th class = \"rowNumber\" style = \"font-weight: bold; text-align: right;\">Row</th><th style = \"text-align: left;\">PetalLength</th><th style = \"text-align: left;\">PetalWidth</th><th style = \"text-align: left;\">Species</th></tr><tr class = \"subheader headerLastRow\"><th class = \"rowNumber\" style = \"font-weight: bold; text-align: right;\"></th><th title = \"Float64\" style = \"text-align: left;\">Float64</th><th title = \"Float64\" style = \"text-align: left;\">Float64</th><th title = \"CategoricalArrays.CategoricalValue{String, UInt8}\" style = \"text-align: left;\">Cat…</th></tr></thead><tbody><tr><td class = \"rowNumber\" style = \"font-weight: bold; text-align: right;\">1</td><td style = \"text-align: right;\">1.4</td><td style = \"text-align: right;\">0.2</td><td style = \"text-align: left;\">setosa</td></tr><tr><td class = \"rowNumber\" style = \"font-weight: bold; text-align: right;\">2</td><td style = \"text-align: right;\">1.4</td><td style = \"text-align: right;\">0.2</td><td style = \"text-align: left;\">setosa</td></tr><tr><td class = \"rowNumber\" style = \"font-weight: bold; text-align: right;\">3</td><td style = \"text-align: right;\">1.3</td><td style = \"text-align: right;\">0.2</td><td style = \"text-align: left;\">setosa</td></tr><tr><td class = \"rowNumber\" style = \"font-weight: bold; text-align: right;\">4</td><td style = \"text-align: right;\">1.5</td><td style = \"text-align: right;\">0.2</td><td style = \"text-align: left;\">setosa</td></tr><tr><td class = \"rowNumber\" style = \"font-weight: bold; text-align: right;\">5</td><td style = \"text-align: right;\">1.4</td><td style = \"text-align: right;\">0.2</td><td style = \"text-align: left;\">setosa</td></tr><tr><td class = \"rowNumber\" style = \"font-weight: bold; text-align: right;\">6</td><td style = \"text-align: right;\">1.7</td><td style = \"text-align: right;\">0.4</td><td style = \"text-align: left;\">setosa</td></tr><tr><td class = \"rowNumber\" style = \"font-weight: bold; text-align: right;\">7</td><td style = \"text-align: right;\">1.4</td><td style = \"text-align: right;\">0.3</td><td style = \"text-align: left;\">setosa</td></tr><tr><td class = \"rowNumber\" style = \"font-weight: bold; text-align: right;\">8</td><td style = \"text-align: right;\">1.5</td><td style = \"text-align: right;\">0.2</td><td style = \"text-align: left;\">setosa</td></tr><tr><td class = \"rowNumber\" style = \"font-weight: bold; text-align: right;\">9</td><td style = \"text-align: right;\">1.4</td><td style = \"text-align: right;\">0.2</td><td style = \"text-align: left;\">setosa</td></tr><tr><td class = \"rowNumber\" style = \"font-weight: bold; text-align: right;\">10</td><td style = \"text-align: right;\">1.5</td><td style = \"text-align: right;\">0.1</td><td style = \"text-align: left;\">setosa</td></tr><tr><td class = \"rowNumber\" style = \"font-weight: bold; text-align: right;\">11</td><td style = \"text-align: right;\">1.5</td><td style = \"text-align: right;\">0.2</td><td style = \"text-align: left;\">setosa</td></tr><tr><td class = \"rowNumber\" style = \"font-weight: bold; text-align: right;\">12</td><td style = \"text-align: right;\">1.6</td><td style = \"text-align: right;\">0.2</td><td style = \"text-align: left;\">setosa</td></tr><tr><td class = \"rowNumber\" style = \"font-weight: bold; text-align: right;\">13</td><td style = \"text-align: right;\">1.4</td><td style = \"text-align: right;\">0.1</td><td style = \"text-align: left;\">setosa</td></tr><tr><td style = \"text-align: right;\">&vellip;</td><td style = \"text-align: right;\">&vellip;</td><td style = \"text-align: right;\">&vellip;</td><td style = \"text-align: right;\">&vellip;</td></tr><tr><td class = \"rowNumber\" style = \"font-weight: bold; text-align: right;\">139</td><td style = \"text-align: right;\">4.8</td><td style = \"text-align: right;\">1.8</td><td style = \"text-align: left;\">virginica</td></tr><tr><td class = \"rowNumber\" style = \"font-weight: bold; text-align: right;\">140</td><td style = \"text-align: right;\">5.4</td><td style = \"text-align: right;\">2.1</td><td style = \"text-align: left;\">virginica</td></tr><tr><td class = \"rowNumber\" style = \"font-weight: bold; text-align: right;\">141</td><td style = \"text-align: right;\">5.6</td><td style = \"text-align: right;\">2.4</td><td style = \"text-align: left;\">virginica</td></tr><tr><td class = \"rowNumber\" style = \"font-weight: bold; text-align: right;\">142</td><td style = \"text-align: right;\">5.1</td><td style = \"text-align: right;\">2.3</td><td style = \"text-align: left;\">virginica</td></tr><tr><td class = \"rowNumber\" style = \"font-weight: bold; text-align: right;\">143</td><td style = \"text-align: right;\">5.1</td><td style = \"text-align: right;\">1.9</td><td style = \"text-align: left;\">virginica</td></tr><tr><td class = \"rowNumber\" style = \"font-weight: bold; text-align: right;\">144</td><td style = \"text-align: right;\">5.9</td><td style = \"text-align: right;\">2.3</td><td style = \"text-align: left;\">virginica</td></tr><tr><td class = \"rowNumber\" style = \"font-weight: bold; text-align: right;\">145</td><td style = \"text-align: right;\">5.7</td><td style = \"text-align: right;\">2.5</td><td style = \"text-align: left;\">virginica</td></tr><tr><td class = \"rowNumber\" style = \"font-weight: bold; text-align: right;\">146</td><td style = \"text-align: right;\">5.2</td><td style = \"text-align: right;\">2.3</td><td style = \"text-align: left;\">virginica</td></tr><tr><td class = \"rowNumber\" style = \"font-weight: bold; text-align: right;\">147</td><td style = \"text-align: right;\">5.0</td><td style = \"text-align: right;\">1.9</td><td style = \"text-align: left;\">virginica</td></tr><tr><td class = \"rowNumber\" style = \"font-weight: bold; text-align: right;\">148</td><td style = \"text-align: right;\">5.2</td><td style = \"text-align: right;\">2.0</td><td style = \"text-align: left;\">virginica</td></tr><tr><td class = \"rowNumber\" style = \"font-weight: bold; text-align: right;\">149</td><td style = \"text-align: right;\">5.4</td><td style = \"text-align: right;\">2.3</td><td style = \"text-align: left;\">virginica</td></tr><tr><td class = \"rowNumber\" style = \"font-weight: bold; text-align: right;\">150</td><td style = \"text-align: right;\">5.1</td><td style = \"text-align: right;\">1.8</td><td style = \"text-align: left;\">virginica</td></tr></tbody></table></div>"
            ],
            "text/latex": "\\begin{tabular}{r|ccc}\n\t& PetalLength & PetalWidth & Species\\\\\n\t\\hline\n\t& Float64 & Float64 & Cat…\\\\\n\t\\hline\n\t1 & 1.4 & 0.2 & setosa \\\\\n\t2 & 1.4 & 0.2 & setosa \\\\\n\t3 & 1.3 & 0.2 & setosa \\\\\n\t4 & 1.5 & 0.2 & setosa \\\\\n\t5 & 1.4 & 0.2 & setosa \\\\\n\t6 & 1.7 & 0.4 & setosa \\\\\n\t7 & 1.4 & 0.3 & setosa \\\\\n\t8 & 1.5 & 0.2 & setosa \\\\\n\t9 & 1.4 & 0.2 & setosa \\\\\n\t10 & 1.5 & 0.1 & setosa \\\\\n\t11 & 1.5 & 0.2 & setosa \\\\\n\t12 & 1.6 & 0.2 & setosa \\\\\n\t13 & 1.4 & 0.1 & setosa \\\\\n\t14 & 1.1 & 0.1 & setosa \\\\\n\t15 & 1.2 & 0.2 & setosa \\\\\n\t16 & 1.5 & 0.4 & setosa \\\\\n\t17 & 1.3 & 0.4 & setosa \\\\\n\t18 & 1.4 & 0.3 & setosa \\\\\n\t19 & 1.7 & 0.3 & setosa \\\\\n\t20 & 1.5 & 0.3 & setosa \\\\\n\t21 & 1.7 & 0.2 & setosa \\\\\n\t22 & 1.5 & 0.4 & setosa \\\\\n\t23 & 1.0 & 0.2 & setosa \\\\\n\t24 & 1.7 & 0.5 & setosa \\\\\n\t25 & 1.9 & 0.2 & setosa \\\\\n\t26 & 1.6 & 0.2 & setosa \\\\\n\t27 & 1.6 & 0.4 & setosa \\\\\n\t28 & 1.5 & 0.2 & setosa \\\\\n\t29 & 1.4 & 0.2 & setosa \\\\\n\t30 & 1.6 & 0.2 & setosa \\\\\n\t$\\dots$ & $\\dots$ & $\\dots$ & $\\dots$ \\\\\n\\end{tabular}\n"
          },
          "metadata": {},
          "execution_count": 22
        }
      ]
    },
    {
      "cell_type": "code",
      "source": [
        "iris[!, Not(:SepalLength)]"
      ],
      "metadata": {
        "id": "LtZMlOUUjmTc",
        "outputId": "4677f118-67ae-4a7b-87c1-7cbc0e18eeba",
        "colab": {
          "base_uri": "https://localhost:8080/",
          "height": 630
        }
      },
      "execution_count": 23,
      "outputs": [
        {
          "output_type": "execute_result",
          "data": {
            "text/plain": [
              "\u001b[1m150×4 DataFrame\u001b[0m\n",
              "\u001b[1m Row \u001b[0m│\u001b[1m SepalWidth \u001b[0m\u001b[1m PetalLength \u001b[0m\u001b[1m PetalWidth \u001b[0m\u001b[1m Species   \u001b[0m\n",
              "     │\u001b[90m Float64    \u001b[0m\u001b[90m Float64     \u001b[0m\u001b[90m Float64    \u001b[0m\u001b[90m Cat…      \u001b[0m\n",
              "─────┼────────────────────────────────────────────────\n",
              "   1 │        3.5          1.4         0.2  setosa\n",
              "   2 │        3.0          1.4         0.2  setosa\n",
              "   3 │        3.2          1.3         0.2  setosa\n",
              "   4 │        3.1          1.5         0.2  setosa\n",
              "   5 │        3.6          1.4         0.2  setosa\n",
              "   6 │        3.9          1.7         0.4  setosa\n",
              "   7 │        3.4          1.4         0.3  setosa\n",
              "   8 │        3.4          1.5         0.2  setosa\n",
              "   9 │        2.9          1.4         0.2  setosa\n",
              "  10 │        3.1          1.5         0.1  setosa\n",
              "  11 │        3.7          1.5         0.2  setosa\n",
              "  ⋮  │     ⋮            ⋮           ⋮           ⋮\n",
              " 141 │        3.1          5.6         2.4  virginica\n",
              " 142 │        3.1          5.1         2.3  virginica\n",
              " 143 │        2.7          5.1         1.9  virginica\n",
              " 144 │        3.2          5.9         2.3  virginica\n",
              " 145 │        3.3          5.7         2.5  virginica\n",
              " 146 │        3.0          5.2         2.3  virginica\n",
              " 147 │        2.5          5.0         1.9  virginica\n",
              " 148 │        3.0          5.2         2.0  virginica\n",
              " 149 │        3.4          5.4         2.3  virginica\n",
              " 150 │        3.0          5.1         1.8  virginica\n",
              "\u001b[36m                                      129 rows omitted\u001b[0m"
            ],
            "text/html": [
              "<div><div style = \"float: left;\"><span>150×4 DataFrame</span></div><div style = \"float: right;\"><span style = \"font-style: italic;\">125 rows omitted</span></div><div style = \"clear: both;\"></div></div><div class = \"data-frame\" style = \"overflow-x: scroll;\"><table class = \"data-frame\" style = \"margin-bottom: 6px;\"><thead><tr class = \"header\"><th class = \"rowNumber\" style = \"font-weight: bold; text-align: right;\">Row</th><th style = \"text-align: left;\">SepalWidth</th><th style = \"text-align: left;\">PetalLength</th><th style = \"text-align: left;\">PetalWidth</th><th style = \"text-align: left;\">Species</th></tr><tr class = \"subheader headerLastRow\"><th class = \"rowNumber\" style = \"font-weight: bold; text-align: right;\"></th><th title = \"Float64\" style = \"text-align: left;\">Float64</th><th title = \"Float64\" style = \"text-align: left;\">Float64</th><th title = \"Float64\" style = \"text-align: left;\">Float64</th><th title = \"CategoricalArrays.CategoricalValue{String, UInt8}\" style = \"text-align: left;\">Cat…</th></tr></thead><tbody><tr><td class = \"rowNumber\" style = \"font-weight: bold; text-align: right;\">1</td><td style = \"text-align: right;\">3.5</td><td style = \"text-align: right;\">1.4</td><td style = \"text-align: right;\">0.2</td><td style = \"text-align: left;\">setosa</td></tr><tr><td class = \"rowNumber\" style = \"font-weight: bold; text-align: right;\">2</td><td style = \"text-align: right;\">3.0</td><td style = \"text-align: right;\">1.4</td><td style = \"text-align: right;\">0.2</td><td style = \"text-align: left;\">setosa</td></tr><tr><td class = \"rowNumber\" style = \"font-weight: bold; text-align: right;\">3</td><td style = \"text-align: right;\">3.2</td><td style = \"text-align: right;\">1.3</td><td style = \"text-align: right;\">0.2</td><td style = \"text-align: left;\">setosa</td></tr><tr><td class = \"rowNumber\" style = \"font-weight: bold; text-align: right;\">4</td><td style = \"text-align: right;\">3.1</td><td style = \"text-align: right;\">1.5</td><td style = \"text-align: right;\">0.2</td><td style = \"text-align: left;\">setosa</td></tr><tr><td class = \"rowNumber\" style = \"font-weight: bold; text-align: right;\">5</td><td style = \"text-align: right;\">3.6</td><td style = \"text-align: right;\">1.4</td><td style = \"text-align: right;\">0.2</td><td style = \"text-align: left;\">setosa</td></tr><tr><td class = \"rowNumber\" style = \"font-weight: bold; text-align: right;\">6</td><td style = \"text-align: right;\">3.9</td><td style = \"text-align: right;\">1.7</td><td style = \"text-align: right;\">0.4</td><td style = \"text-align: left;\">setosa</td></tr><tr><td class = \"rowNumber\" style = \"font-weight: bold; text-align: right;\">7</td><td style = \"text-align: right;\">3.4</td><td style = \"text-align: right;\">1.4</td><td style = \"text-align: right;\">0.3</td><td style = \"text-align: left;\">setosa</td></tr><tr><td class = \"rowNumber\" style = \"font-weight: bold; text-align: right;\">8</td><td style = \"text-align: right;\">3.4</td><td style = \"text-align: right;\">1.5</td><td style = \"text-align: right;\">0.2</td><td style = \"text-align: left;\">setosa</td></tr><tr><td class = \"rowNumber\" style = \"font-weight: bold; text-align: right;\">9</td><td style = \"text-align: right;\">2.9</td><td style = \"text-align: right;\">1.4</td><td style = \"text-align: right;\">0.2</td><td style = \"text-align: left;\">setosa</td></tr><tr><td class = \"rowNumber\" style = \"font-weight: bold; text-align: right;\">10</td><td style = \"text-align: right;\">3.1</td><td style = \"text-align: right;\">1.5</td><td style = \"text-align: right;\">0.1</td><td style = \"text-align: left;\">setosa</td></tr><tr><td class = \"rowNumber\" style = \"font-weight: bold; text-align: right;\">11</td><td style = \"text-align: right;\">3.7</td><td style = \"text-align: right;\">1.5</td><td style = \"text-align: right;\">0.2</td><td style = \"text-align: left;\">setosa</td></tr><tr><td class = \"rowNumber\" style = \"font-weight: bold; text-align: right;\">12</td><td style = \"text-align: right;\">3.4</td><td style = \"text-align: right;\">1.6</td><td style = \"text-align: right;\">0.2</td><td style = \"text-align: left;\">setosa</td></tr><tr><td class = \"rowNumber\" style = \"font-weight: bold; text-align: right;\">13</td><td style = \"text-align: right;\">3.0</td><td style = \"text-align: right;\">1.4</td><td style = \"text-align: right;\">0.1</td><td style = \"text-align: left;\">setosa</td></tr><tr><td style = \"text-align: right;\">&vellip;</td><td style = \"text-align: right;\">&vellip;</td><td style = \"text-align: right;\">&vellip;</td><td style = \"text-align: right;\">&vellip;</td><td style = \"text-align: right;\">&vellip;</td></tr><tr><td class = \"rowNumber\" style = \"font-weight: bold; text-align: right;\">139</td><td style = \"text-align: right;\">3.0</td><td style = \"text-align: right;\">4.8</td><td style = \"text-align: right;\">1.8</td><td style = \"text-align: left;\">virginica</td></tr><tr><td class = \"rowNumber\" style = \"font-weight: bold; text-align: right;\">140</td><td style = \"text-align: right;\">3.1</td><td style = \"text-align: right;\">5.4</td><td style = \"text-align: right;\">2.1</td><td style = \"text-align: left;\">virginica</td></tr><tr><td class = \"rowNumber\" style = \"font-weight: bold; text-align: right;\">141</td><td style = \"text-align: right;\">3.1</td><td style = \"text-align: right;\">5.6</td><td style = \"text-align: right;\">2.4</td><td style = \"text-align: left;\">virginica</td></tr><tr><td class = \"rowNumber\" style = \"font-weight: bold; text-align: right;\">142</td><td style = \"text-align: right;\">3.1</td><td style = \"text-align: right;\">5.1</td><td style = \"text-align: right;\">2.3</td><td style = \"text-align: left;\">virginica</td></tr><tr><td class = \"rowNumber\" style = \"font-weight: bold; text-align: right;\">143</td><td style = \"text-align: right;\">2.7</td><td style = \"text-align: right;\">5.1</td><td style = \"text-align: right;\">1.9</td><td style = \"text-align: left;\">virginica</td></tr><tr><td class = \"rowNumber\" style = \"font-weight: bold; text-align: right;\">144</td><td style = \"text-align: right;\">3.2</td><td style = \"text-align: right;\">5.9</td><td style = \"text-align: right;\">2.3</td><td style = \"text-align: left;\">virginica</td></tr><tr><td class = \"rowNumber\" style = \"font-weight: bold; text-align: right;\">145</td><td style = \"text-align: right;\">3.3</td><td style = \"text-align: right;\">5.7</td><td style = \"text-align: right;\">2.5</td><td style = \"text-align: left;\">virginica</td></tr><tr><td class = \"rowNumber\" style = \"font-weight: bold; text-align: right;\">146</td><td style = \"text-align: right;\">3.0</td><td style = \"text-align: right;\">5.2</td><td style = \"text-align: right;\">2.3</td><td style = \"text-align: left;\">virginica</td></tr><tr><td class = \"rowNumber\" style = \"font-weight: bold; text-align: right;\">147</td><td style = \"text-align: right;\">2.5</td><td style = \"text-align: right;\">5.0</td><td style = \"text-align: right;\">1.9</td><td style = \"text-align: left;\">virginica</td></tr><tr><td class = \"rowNumber\" style = \"font-weight: bold; text-align: right;\">148</td><td style = \"text-align: right;\">3.0</td><td style = \"text-align: right;\">5.2</td><td style = \"text-align: right;\">2.0</td><td style = \"text-align: left;\">virginica</td></tr><tr><td class = \"rowNumber\" style = \"font-weight: bold; text-align: right;\">149</td><td style = \"text-align: right;\">3.4</td><td style = \"text-align: right;\">5.4</td><td style = \"text-align: right;\">2.3</td><td style = \"text-align: left;\">virginica</td></tr><tr><td class = \"rowNumber\" style = \"font-weight: bold; text-align: right;\">150</td><td style = \"text-align: right;\">3.0</td><td style = \"text-align: right;\">5.1</td><td style = \"text-align: right;\">1.8</td><td style = \"text-align: left;\">virginica</td></tr></tbody></table></div>"
            ],
            "text/latex": "\\begin{tabular}{r|cccc}\n\t& SepalWidth & PetalLength & PetalWidth & Species\\\\\n\t\\hline\n\t& Float64 & Float64 & Float64 & Cat…\\\\\n\t\\hline\n\t1 & 3.5 & 1.4 & 0.2 & setosa \\\\\n\t2 & 3.0 & 1.4 & 0.2 & setosa \\\\\n\t3 & 3.2 & 1.3 & 0.2 & setosa \\\\\n\t4 & 3.1 & 1.5 & 0.2 & setosa \\\\\n\t5 & 3.6 & 1.4 & 0.2 & setosa \\\\\n\t6 & 3.9 & 1.7 & 0.4 & setosa \\\\\n\t7 & 3.4 & 1.4 & 0.3 & setosa \\\\\n\t8 & 3.4 & 1.5 & 0.2 & setosa \\\\\n\t9 & 2.9 & 1.4 & 0.2 & setosa \\\\\n\t10 & 3.1 & 1.5 & 0.1 & setosa \\\\\n\t11 & 3.7 & 1.5 & 0.2 & setosa \\\\\n\t12 & 3.4 & 1.6 & 0.2 & setosa \\\\\n\t13 & 3.0 & 1.4 & 0.1 & setosa \\\\\n\t14 & 3.0 & 1.1 & 0.1 & setosa \\\\\n\t15 & 4.0 & 1.2 & 0.2 & setosa \\\\\n\t16 & 4.4 & 1.5 & 0.4 & setosa \\\\\n\t17 & 3.9 & 1.3 & 0.4 & setosa \\\\\n\t18 & 3.5 & 1.4 & 0.3 & setosa \\\\\n\t19 & 3.8 & 1.7 & 0.3 & setosa \\\\\n\t20 & 3.8 & 1.5 & 0.3 & setosa \\\\\n\t21 & 3.4 & 1.7 & 0.2 & setosa \\\\\n\t22 & 3.7 & 1.5 & 0.4 & setosa \\\\\n\t23 & 3.6 & 1.0 & 0.2 & setosa \\\\\n\t24 & 3.3 & 1.7 & 0.5 & setosa \\\\\n\t25 & 3.4 & 1.9 & 0.2 & setosa \\\\\n\t26 & 3.0 & 1.6 & 0.2 & setosa \\\\\n\t27 & 3.4 & 1.6 & 0.4 & setosa \\\\\n\t28 & 3.5 & 1.5 & 0.2 & setosa \\\\\n\t29 & 3.4 & 1.4 & 0.2 & setosa \\\\\n\t30 & 3.2 & 1.6 & 0.2 & setosa \\\\\n\t$\\dots$ & $\\dots$ & $\\dots$ & $\\dots$ & $\\dots$ \\\\\n\\end{tabular}\n"
          },
          "metadata": {},
          "execution_count": 23
        }
      ]
    },
    {
      "cell_type": "code",
      "source": [
        "iris[!, Between(:SepalWidth, :PetalWidth)]"
      ],
      "metadata": {
        "id": "qm5R2gz-jnz2",
        "outputId": "3b750552-a2be-4c67-b39c-061d71a649d0",
        "colab": {
          "base_uri": "https://localhost:8080/",
          "height": 630
        }
      },
      "execution_count": 24,
      "outputs": [
        {
          "output_type": "execute_result",
          "data": {
            "text/plain": [
              "\u001b[1m150×3 DataFrame\u001b[0m\n",
              "\u001b[1m Row \u001b[0m│\u001b[1m SepalWidth \u001b[0m\u001b[1m PetalLength \u001b[0m\u001b[1m PetalWidth \u001b[0m\n",
              "     │\u001b[90m Float64    \u001b[0m\u001b[90m Float64     \u001b[0m\u001b[90m Float64    \u001b[0m\n",
              "─────┼─────────────────────────────────────\n",
              "   1 │        3.5          1.4         0.2\n",
              "   2 │        3.0          1.4         0.2\n",
              "   3 │        3.2          1.3         0.2\n",
              "   4 │        3.1          1.5         0.2\n",
              "   5 │        3.6          1.4         0.2\n",
              "   6 │        3.9          1.7         0.4\n",
              "   7 │        3.4          1.4         0.3\n",
              "   8 │        3.4          1.5         0.2\n",
              "   9 │        2.9          1.4         0.2\n",
              "  10 │        3.1          1.5         0.1\n",
              "  11 │        3.7          1.5         0.2\n",
              "  ⋮  │     ⋮            ⋮           ⋮\n",
              " 141 │        3.1          5.6         2.4\n",
              " 142 │        3.1          5.1         2.3\n",
              " 143 │        2.7          5.1         1.9\n",
              " 144 │        3.2          5.9         2.3\n",
              " 145 │        3.3          5.7         2.5\n",
              " 146 │        3.0          5.2         2.3\n",
              " 147 │        2.5          5.0         1.9\n",
              " 148 │        3.0          5.2         2.0\n",
              " 149 │        3.4          5.4         2.3\n",
              " 150 │        3.0          5.1         1.8\n",
              "\u001b[36m                           129 rows omitted\u001b[0m"
            ],
            "text/html": [
              "<div><div style = \"float: left;\"><span>150×3 DataFrame</span></div><div style = \"float: right;\"><span style = \"font-style: italic;\">125 rows omitted</span></div><div style = \"clear: both;\"></div></div><div class = \"data-frame\" style = \"overflow-x: scroll;\"><table class = \"data-frame\" style = \"margin-bottom: 6px;\"><thead><tr class = \"header\"><th class = \"rowNumber\" style = \"font-weight: bold; text-align: right;\">Row</th><th style = \"text-align: left;\">SepalWidth</th><th style = \"text-align: left;\">PetalLength</th><th style = \"text-align: left;\">PetalWidth</th></tr><tr class = \"subheader headerLastRow\"><th class = \"rowNumber\" style = \"font-weight: bold; text-align: right;\"></th><th title = \"Float64\" style = \"text-align: left;\">Float64</th><th title = \"Float64\" style = \"text-align: left;\">Float64</th><th title = \"Float64\" style = \"text-align: left;\">Float64</th></tr></thead><tbody><tr><td class = \"rowNumber\" style = \"font-weight: bold; text-align: right;\">1</td><td style = \"text-align: right;\">3.5</td><td style = \"text-align: right;\">1.4</td><td style = \"text-align: right;\">0.2</td></tr><tr><td class = \"rowNumber\" style = \"font-weight: bold; text-align: right;\">2</td><td style = \"text-align: right;\">3.0</td><td style = \"text-align: right;\">1.4</td><td style = \"text-align: right;\">0.2</td></tr><tr><td class = \"rowNumber\" style = \"font-weight: bold; text-align: right;\">3</td><td style = \"text-align: right;\">3.2</td><td style = \"text-align: right;\">1.3</td><td style = \"text-align: right;\">0.2</td></tr><tr><td class = \"rowNumber\" style = \"font-weight: bold; text-align: right;\">4</td><td style = \"text-align: right;\">3.1</td><td style = \"text-align: right;\">1.5</td><td style = \"text-align: right;\">0.2</td></tr><tr><td class = \"rowNumber\" style = \"font-weight: bold; text-align: right;\">5</td><td style = \"text-align: right;\">3.6</td><td style = \"text-align: right;\">1.4</td><td style = \"text-align: right;\">0.2</td></tr><tr><td class = \"rowNumber\" style = \"font-weight: bold; text-align: right;\">6</td><td style = \"text-align: right;\">3.9</td><td style = \"text-align: right;\">1.7</td><td style = \"text-align: right;\">0.4</td></tr><tr><td class = \"rowNumber\" style = \"font-weight: bold; text-align: right;\">7</td><td style = \"text-align: right;\">3.4</td><td style = \"text-align: right;\">1.4</td><td style = \"text-align: right;\">0.3</td></tr><tr><td class = \"rowNumber\" style = \"font-weight: bold; text-align: right;\">8</td><td style = \"text-align: right;\">3.4</td><td style = \"text-align: right;\">1.5</td><td style = \"text-align: right;\">0.2</td></tr><tr><td class = \"rowNumber\" style = \"font-weight: bold; text-align: right;\">9</td><td style = \"text-align: right;\">2.9</td><td style = \"text-align: right;\">1.4</td><td style = \"text-align: right;\">0.2</td></tr><tr><td class = \"rowNumber\" style = \"font-weight: bold; text-align: right;\">10</td><td style = \"text-align: right;\">3.1</td><td style = \"text-align: right;\">1.5</td><td style = \"text-align: right;\">0.1</td></tr><tr><td class = \"rowNumber\" style = \"font-weight: bold; text-align: right;\">11</td><td style = \"text-align: right;\">3.7</td><td style = \"text-align: right;\">1.5</td><td style = \"text-align: right;\">0.2</td></tr><tr><td class = \"rowNumber\" style = \"font-weight: bold; text-align: right;\">12</td><td style = \"text-align: right;\">3.4</td><td style = \"text-align: right;\">1.6</td><td style = \"text-align: right;\">0.2</td></tr><tr><td class = \"rowNumber\" style = \"font-weight: bold; text-align: right;\">13</td><td style = \"text-align: right;\">3.0</td><td style = \"text-align: right;\">1.4</td><td style = \"text-align: right;\">0.1</td></tr><tr><td style = \"text-align: right;\">&vellip;</td><td style = \"text-align: right;\">&vellip;</td><td style = \"text-align: right;\">&vellip;</td><td style = \"text-align: right;\">&vellip;</td></tr><tr><td class = \"rowNumber\" style = \"font-weight: bold; text-align: right;\">139</td><td style = \"text-align: right;\">3.0</td><td style = \"text-align: right;\">4.8</td><td style = \"text-align: right;\">1.8</td></tr><tr><td class = \"rowNumber\" style = \"font-weight: bold; text-align: right;\">140</td><td style = \"text-align: right;\">3.1</td><td style = \"text-align: right;\">5.4</td><td style = \"text-align: right;\">2.1</td></tr><tr><td class = \"rowNumber\" style = \"font-weight: bold; text-align: right;\">141</td><td style = \"text-align: right;\">3.1</td><td style = \"text-align: right;\">5.6</td><td style = \"text-align: right;\">2.4</td></tr><tr><td class = \"rowNumber\" style = \"font-weight: bold; text-align: right;\">142</td><td style = \"text-align: right;\">3.1</td><td style = \"text-align: right;\">5.1</td><td style = \"text-align: right;\">2.3</td></tr><tr><td class = \"rowNumber\" style = \"font-weight: bold; text-align: right;\">143</td><td style = \"text-align: right;\">2.7</td><td style = \"text-align: right;\">5.1</td><td style = \"text-align: right;\">1.9</td></tr><tr><td class = \"rowNumber\" style = \"font-weight: bold; text-align: right;\">144</td><td style = \"text-align: right;\">3.2</td><td style = \"text-align: right;\">5.9</td><td style = \"text-align: right;\">2.3</td></tr><tr><td class = \"rowNumber\" style = \"font-weight: bold; text-align: right;\">145</td><td style = \"text-align: right;\">3.3</td><td style = \"text-align: right;\">5.7</td><td style = \"text-align: right;\">2.5</td></tr><tr><td class = \"rowNumber\" style = \"font-weight: bold; text-align: right;\">146</td><td style = \"text-align: right;\">3.0</td><td style = \"text-align: right;\">5.2</td><td style = \"text-align: right;\">2.3</td></tr><tr><td class = \"rowNumber\" style = \"font-weight: bold; text-align: right;\">147</td><td style = \"text-align: right;\">2.5</td><td style = \"text-align: right;\">5.0</td><td style = \"text-align: right;\">1.9</td></tr><tr><td class = \"rowNumber\" style = \"font-weight: bold; text-align: right;\">148</td><td style = \"text-align: right;\">3.0</td><td style = \"text-align: right;\">5.2</td><td style = \"text-align: right;\">2.0</td></tr><tr><td class = \"rowNumber\" style = \"font-weight: bold; text-align: right;\">149</td><td style = \"text-align: right;\">3.4</td><td style = \"text-align: right;\">5.4</td><td style = \"text-align: right;\">2.3</td></tr><tr><td class = \"rowNumber\" style = \"font-weight: bold; text-align: right;\">150</td><td style = \"text-align: right;\">3.0</td><td style = \"text-align: right;\">5.1</td><td style = \"text-align: right;\">1.8</td></tr></tbody></table></div>"
            ],
            "text/latex": "\\begin{tabular}{r|ccc}\n\t& SepalWidth & PetalLength & PetalWidth\\\\\n\t\\hline\n\t& Float64 & Float64 & Float64\\\\\n\t\\hline\n\t1 & 3.5 & 1.4 & 0.2 \\\\\n\t2 & 3.0 & 1.4 & 0.2 \\\\\n\t3 & 3.2 & 1.3 & 0.2 \\\\\n\t4 & 3.1 & 1.5 & 0.2 \\\\\n\t5 & 3.6 & 1.4 & 0.2 \\\\\n\t6 & 3.9 & 1.7 & 0.4 \\\\\n\t7 & 3.4 & 1.4 & 0.3 \\\\\n\t8 & 3.4 & 1.5 & 0.2 \\\\\n\t9 & 2.9 & 1.4 & 0.2 \\\\\n\t10 & 3.1 & 1.5 & 0.1 \\\\\n\t11 & 3.7 & 1.5 & 0.2 \\\\\n\t12 & 3.4 & 1.6 & 0.2 \\\\\n\t13 & 3.0 & 1.4 & 0.1 \\\\\n\t14 & 3.0 & 1.1 & 0.1 \\\\\n\t15 & 4.0 & 1.2 & 0.2 \\\\\n\t16 & 4.4 & 1.5 & 0.4 \\\\\n\t17 & 3.9 & 1.3 & 0.4 \\\\\n\t18 & 3.5 & 1.4 & 0.3 \\\\\n\t19 & 3.8 & 1.7 & 0.3 \\\\\n\t20 & 3.8 & 1.5 & 0.3 \\\\\n\t21 & 3.4 & 1.7 & 0.2 \\\\\n\t22 & 3.7 & 1.5 & 0.4 \\\\\n\t23 & 3.6 & 1.0 & 0.2 \\\\\n\t24 & 3.3 & 1.7 & 0.5 \\\\\n\t25 & 3.4 & 1.9 & 0.2 \\\\\n\t26 & 3.0 & 1.6 & 0.2 \\\\\n\t27 & 3.4 & 1.6 & 0.4 \\\\\n\t28 & 3.5 & 1.5 & 0.2 \\\\\n\t29 & 3.4 & 1.4 & 0.2 \\\\\n\t30 & 3.2 & 1.6 & 0.2 \\\\\n\t$\\dots$ & $\\dots$ & $\\dots$ & $\\dots$ \\\\\n\\end{tabular}\n"
          },
          "metadata": {},
          "execution_count": 24
        }
      ]
    },
    {
      "cell_type": "code",
      "source": [
        "iris[!, Between(2, 4)]"
      ],
      "metadata": {
        "id": "zz911gnkjpuK",
        "outputId": "5fcac940-a4e5-4a1a-8290-d11df7f99988",
        "colab": {
          "base_uri": "https://localhost:8080/",
          "height": 630
        }
      },
      "execution_count": 25,
      "outputs": [
        {
          "output_type": "execute_result",
          "data": {
            "text/plain": [
              "\u001b[1m150×3 DataFrame\u001b[0m\n",
              "\u001b[1m Row \u001b[0m│\u001b[1m SepalWidth \u001b[0m\u001b[1m PetalLength \u001b[0m\u001b[1m PetalWidth \u001b[0m\n",
              "     │\u001b[90m Float64    \u001b[0m\u001b[90m Float64     \u001b[0m\u001b[90m Float64    \u001b[0m\n",
              "─────┼─────────────────────────────────────\n",
              "   1 │        3.5          1.4         0.2\n",
              "   2 │        3.0          1.4         0.2\n",
              "   3 │        3.2          1.3         0.2\n",
              "   4 │        3.1          1.5         0.2\n",
              "   5 │        3.6          1.4         0.2\n",
              "   6 │        3.9          1.7         0.4\n",
              "   7 │        3.4          1.4         0.3\n",
              "   8 │        3.4          1.5         0.2\n",
              "   9 │        2.9          1.4         0.2\n",
              "  10 │        3.1          1.5         0.1\n",
              "  11 │        3.7          1.5         0.2\n",
              "  ⋮  │     ⋮            ⋮           ⋮\n",
              " 141 │        3.1          5.6         2.4\n",
              " 142 │        3.1          5.1         2.3\n",
              " 143 │        2.7          5.1         1.9\n",
              " 144 │        3.2          5.9         2.3\n",
              " 145 │        3.3          5.7         2.5\n",
              " 146 │        3.0          5.2         2.3\n",
              " 147 │        2.5          5.0         1.9\n",
              " 148 │        3.0          5.2         2.0\n",
              " 149 │        3.4          5.4         2.3\n",
              " 150 │        3.0          5.1         1.8\n",
              "\u001b[36m                           129 rows omitted\u001b[0m"
            ],
            "text/html": [
              "<div><div style = \"float: left;\"><span>150×3 DataFrame</span></div><div style = \"float: right;\"><span style = \"font-style: italic;\">125 rows omitted</span></div><div style = \"clear: both;\"></div></div><div class = \"data-frame\" style = \"overflow-x: scroll;\"><table class = \"data-frame\" style = \"margin-bottom: 6px;\"><thead><tr class = \"header\"><th class = \"rowNumber\" style = \"font-weight: bold; text-align: right;\">Row</th><th style = \"text-align: left;\">SepalWidth</th><th style = \"text-align: left;\">PetalLength</th><th style = \"text-align: left;\">PetalWidth</th></tr><tr class = \"subheader headerLastRow\"><th class = \"rowNumber\" style = \"font-weight: bold; text-align: right;\"></th><th title = \"Float64\" style = \"text-align: left;\">Float64</th><th title = \"Float64\" style = \"text-align: left;\">Float64</th><th title = \"Float64\" style = \"text-align: left;\">Float64</th></tr></thead><tbody><tr><td class = \"rowNumber\" style = \"font-weight: bold; text-align: right;\">1</td><td style = \"text-align: right;\">3.5</td><td style = \"text-align: right;\">1.4</td><td style = \"text-align: right;\">0.2</td></tr><tr><td class = \"rowNumber\" style = \"font-weight: bold; text-align: right;\">2</td><td style = \"text-align: right;\">3.0</td><td style = \"text-align: right;\">1.4</td><td style = \"text-align: right;\">0.2</td></tr><tr><td class = \"rowNumber\" style = \"font-weight: bold; text-align: right;\">3</td><td style = \"text-align: right;\">3.2</td><td style = \"text-align: right;\">1.3</td><td style = \"text-align: right;\">0.2</td></tr><tr><td class = \"rowNumber\" style = \"font-weight: bold; text-align: right;\">4</td><td style = \"text-align: right;\">3.1</td><td style = \"text-align: right;\">1.5</td><td style = \"text-align: right;\">0.2</td></tr><tr><td class = \"rowNumber\" style = \"font-weight: bold; text-align: right;\">5</td><td style = \"text-align: right;\">3.6</td><td style = \"text-align: right;\">1.4</td><td style = \"text-align: right;\">0.2</td></tr><tr><td class = \"rowNumber\" style = \"font-weight: bold; text-align: right;\">6</td><td style = \"text-align: right;\">3.9</td><td style = \"text-align: right;\">1.7</td><td style = \"text-align: right;\">0.4</td></tr><tr><td class = \"rowNumber\" style = \"font-weight: bold; text-align: right;\">7</td><td style = \"text-align: right;\">3.4</td><td style = \"text-align: right;\">1.4</td><td style = \"text-align: right;\">0.3</td></tr><tr><td class = \"rowNumber\" style = \"font-weight: bold; text-align: right;\">8</td><td style = \"text-align: right;\">3.4</td><td style = \"text-align: right;\">1.5</td><td style = \"text-align: right;\">0.2</td></tr><tr><td class = \"rowNumber\" style = \"font-weight: bold; text-align: right;\">9</td><td style = \"text-align: right;\">2.9</td><td style = \"text-align: right;\">1.4</td><td style = \"text-align: right;\">0.2</td></tr><tr><td class = \"rowNumber\" style = \"font-weight: bold; text-align: right;\">10</td><td style = \"text-align: right;\">3.1</td><td style = \"text-align: right;\">1.5</td><td style = \"text-align: right;\">0.1</td></tr><tr><td class = \"rowNumber\" style = \"font-weight: bold; text-align: right;\">11</td><td style = \"text-align: right;\">3.7</td><td style = \"text-align: right;\">1.5</td><td style = \"text-align: right;\">0.2</td></tr><tr><td class = \"rowNumber\" style = \"font-weight: bold; text-align: right;\">12</td><td style = \"text-align: right;\">3.4</td><td style = \"text-align: right;\">1.6</td><td style = \"text-align: right;\">0.2</td></tr><tr><td class = \"rowNumber\" style = \"font-weight: bold; text-align: right;\">13</td><td style = \"text-align: right;\">3.0</td><td style = \"text-align: right;\">1.4</td><td style = \"text-align: right;\">0.1</td></tr><tr><td style = \"text-align: right;\">&vellip;</td><td style = \"text-align: right;\">&vellip;</td><td style = \"text-align: right;\">&vellip;</td><td style = \"text-align: right;\">&vellip;</td></tr><tr><td class = \"rowNumber\" style = \"font-weight: bold; text-align: right;\">139</td><td style = \"text-align: right;\">3.0</td><td style = \"text-align: right;\">4.8</td><td style = \"text-align: right;\">1.8</td></tr><tr><td class = \"rowNumber\" style = \"font-weight: bold; text-align: right;\">140</td><td style = \"text-align: right;\">3.1</td><td style = \"text-align: right;\">5.4</td><td style = \"text-align: right;\">2.1</td></tr><tr><td class = \"rowNumber\" style = \"font-weight: bold; text-align: right;\">141</td><td style = \"text-align: right;\">3.1</td><td style = \"text-align: right;\">5.6</td><td style = \"text-align: right;\">2.4</td></tr><tr><td class = \"rowNumber\" style = \"font-weight: bold; text-align: right;\">142</td><td style = \"text-align: right;\">3.1</td><td style = \"text-align: right;\">5.1</td><td style = \"text-align: right;\">2.3</td></tr><tr><td class = \"rowNumber\" style = \"font-weight: bold; text-align: right;\">143</td><td style = \"text-align: right;\">2.7</td><td style = \"text-align: right;\">5.1</td><td style = \"text-align: right;\">1.9</td></tr><tr><td class = \"rowNumber\" style = \"font-weight: bold; text-align: right;\">144</td><td style = \"text-align: right;\">3.2</td><td style = \"text-align: right;\">5.9</td><td style = \"text-align: right;\">2.3</td></tr><tr><td class = \"rowNumber\" style = \"font-weight: bold; text-align: right;\">145</td><td style = \"text-align: right;\">3.3</td><td style = \"text-align: right;\">5.7</td><td style = \"text-align: right;\">2.5</td></tr><tr><td class = \"rowNumber\" style = \"font-weight: bold; text-align: right;\">146</td><td style = \"text-align: right;\">3.0</td><td style = \"text-align: right;\">5.2</td><td style = \"text-align: right;\">2.3</td></tr><tr><td class = \"rowNumber\" style = \"font-weight: bold; text-align: right;\">147</td><td style = \"text-align: right;\">2.5</td><td style = \"text-align: right;\">5.0</td><td style = \"text-align: right;\">1.9</td></tr><tr><td class = \"rowNumber\" style = \"font-weight: bold; text-align: right;\">148</td><td style = \"text-align: right;\">3.0</td><td style = \"text-align: right;\">5.2</td><td style = \"text-align: right;\">2.0</td></tr><tr><td class = \"rowNumber\" style = \"font-weight: bold; text-align: right;\">149</td><td style = \"text-align: right;\">3.4</td><td style = \"text-align: right;\">5.4</td><td style = \"text-align: right;\">2.3</td></tr><tr><td class = \"rowNumber\" style = \"font-weight: bold; text-align: right;\">150</td><td style = \"text-align: right;\">3.0</td><td style = \"text-align: right;\">5.1</td><td style = \"text-align: right;\">1.8</td></tr></tbody></table></div>"
            ],
            "text/latex": "\\begin{tabular}{r|ccc}\n\t& SepalWidth & PetalLength & PetalWidth\\\\\n\t\\hline\n\t& Float64 & Float64 & Float64\\\\\n\t\\hline\n\t1 & 3.5 & 1.4 & 0.2 \\\\\n\t2 & 3.0 & 1.4 & 0.2 \\\\\n\t3 & 3.2 & 1.3 & 0.2 \\\\\n\t4 & 3.1 & 1.5 & 0.2 \\\\\n\t5 & 3.6 & 1.4 & 0.2 \\\\\n\t6 & 3.9 & 1.7 & 0.4 \\\\\n\t7 & 3.4 & 1.4 & 0.3 \\\\\n\t8 & 3.4 & 1.5 & 0.2 \\\\\n\t9 & 2.9 & 1.4 & 0.2 \\\\\n\t10 & 3.1 & 1.5 & 0.1 \\\\\n\t11 & 3.7 & 1.5 & 0.2 \\\\\n\t12 & 3.4 & 1.6 & 0.2 \\\\\n\t13 & 3.0 & 1.4 & 0.1 \\\\\n\t14 & 3.0 & 1.1 & 0.1 \\\\\n\t15 & 4.0 & 1.2 & 0.2 \\\\\n\t16 & 4.4 & 1.5 & 0.4 \\\\\n\t17 & 3.9 & 1.3 & 0.4 \\\\\n\t18 & 3.5 & 1.4 & 0.3 \\\\\n\t19 & 3.8 & 1.7 & 0.3 \\\\\n\t20 & 3.8 & 1.5 & 0.3 \\\\\n\t21 & 3.4 & 1.7 & 0.2 \\\\\n\t22 & 3.7 & 1.5 & 0.4 \\\\\n\t23 & 3.6 & 1.0 & 0.2 \\\\\n\t24 & 3.3 & 1.7 & 0.5 \\\\\n\t25 & 3.4 & 1.9 & 0.2 \\\\\n\t26 & 3.0 & 1.6 & 0.2 \\\\\n\t27 & 3.4 & 1.6 & 0.4 \\\\\n\t28 & 3.5 & 1.5 & 0.2 \\\\\n\t29 & 3.4 & 1.4 & 0.2 \\\\\n\t30 & 3.2 & 1.6 & 0.2 \\\\\n\t$\\dots$ & $\\dots$ & $\\dots$ & $\\dots$ \\\\\n\\end{tabular}\n"
          },
          "metadata": {},
          "execution_count": 25
        }
      ]
    },
    {
      "cell_type": "code",
      "source": [
        "iris[!, Cols(r\"Petal\")]"
      ],
      "metadata": {
        "colab": {
          "base_uri": "https://localhost:8080/",
          "height": 630
        },
        "id": "b6ZCQfZdGdO9",
        "outputId": "142826e6-7171-47a2-92f6-34d0e4896ee0"
      },
      "execution_count": 26,
      "outputs": [
        {
          "output_type": "execute_result",
          "data": {
            "text/plain": [
              "\u001b[1m150×2 DataFrame\u001b[0m\n",
              "\u001b[1m Row \u001b[0m│\u001b[1m PetalLength \u001b[0m\u001b[1m PetalWidth \u001b[0m\n",
              "     │\u001b[90m Float64     \u001b[0m\u001b[90m Float64    \u001b[0m\n",
              "─────┼─────────────────────────\n",
              "   1 │         1.4         0.2\n",
              "   2 │         1.4         0.2\n",
              "   3 │         1.3         0.2\n",
              "   4 │         1.5         0.2\n",
              "   5 │         1.4         0.2\n",
              "   6 │         1.7         0.4\n",
              "   7 │         1.4         0.3\n",
              "   8 │         1.5         0.2\n",
              "   9 │         1.4         0.2\n",
              "  10 │         1.5         0.1\n",
              "  11 │         1.5         0.2\n",
              "  ⋮  │      ⋮           ⋮\n",
              " 141 │         5.6         2.4\n",
              " 142 │         5.1         2.3\n",
              " 143 │         5.1         1.9\n",
              " 144 │         5.9         2.3\n",
              " 145 │         5.7         2.5\n",
              " 146 │         5.2         2.3\n",
              " 147 │         5.0         1.9\n",
              " 148 │         5.2         2.0\n",
              " 149 │         5.4         2.3\n",
              " 150 │         5.1         1.8\n",
              "\u001b[36m               129 rows omitted\u001b[0m"
            ],
            "text/html": [
              "<div><div style = \"float: left;\"><span>150×2 DataFrame</span></div><div style = \"float: right;\"><span style = \"font-style: italic;\">125 rows omitted</span></div><div style = \"clear: both;\"></div></div><div class = \"data-frame\" style = \"overflow-x: scroll;\"><table class = \"data-frame\" style = \"margin-bottom: 6px;\"><thead><tr class = \"header\"><th class = \"rowNumber\" style = \"font-weight: bold; text-align: right;\">Row</th><th style = \"text-align: left;\">PetalLength</th><th style = \"text-align: left;\">PetalWidth</th></tr><tr class = \"subheader headerLastRow\"><th class = \"rowNumber\" style = \"font-weight: bold; text-align: right;\"></th><th title = \"Float64\" style = \"text-align: left;\">Float64</th><th title = \"Float64\" style = \"text-align: left;\">Float64</th></tr></thead><tbody><tr><td class = \"rowNumber\" style = \"font-weight: bold; text-align: right;\">1</td><td style = \"text-align: right;\">1.4</td><td style = \"text-align: right;\">0.2</td></tr><tr><td class = \"rowNumber\" style = \"font-weight: bold; text-align: right;\">2</td><td style = \"text-align: right;\">1.4</td><td style = \"text-align: right;\">0.2</td></tr><tr><td class = \"rowNumber\" style = \"font-weight: bold; text-align: right;\">3</td><td style = \"text-align: right;\">1.3</td><td style = \"text-align: right;\">0.2</td></tr><tr><td class = \"rowNumber\" style = \"font-weight: bold; text-align: right;\">4</td><td style = \"text-align: right;\">1.5</td><td style = \"text-align: right;\">0.2</td></tr><tr><td class = \"rowNumber\" style = \"font-weight: bold; text-align: right;\">5</td><td style = \"text-align: right;\">1.4</td><td style = \"text-align: right;\">0.2</td></tr><tr><td class = \"rowNumber\" style = \"font-weight: bold; text-align: right;\">6</td><td style = \"text-align: right;\">1.7</td><td style = \"text-align: right;\">0.4</td></tr><tr><td class = \"rowNumber\" style = \"font-weight: bold; text-align: right;\">7</td><td style = \"text-align: right;\">1.4</td><td style = \"text-align: right;\">0.3</td></tr><tr><td class = \"rowNumber\" style = \"font-weight: bold; text-align: right;\">8</td><td style = \"text-align: right;\">1.5</td><td style = \"text-align: right;\">0.2</td></tr><tr><td class = \"rowNumber\" style = \"font-weight: bold; text-align: right;\">9</td><td style = \"text-align: right;\">1.4</td><td style = \"text-align: right;\">0.2</td></tr><tr><td class = \"rowNumber\" style = \"font-weight: bold; text-align: right;\">10</td><td style = \"text-align: right;\">1.5</td><td style = \"text-align: right;\">0.1</td></tr><tr><td class = \"rowNumber\" style = \"font-weight: bold; text-align: right;\">11</td><td style = \"text-align: right;\">1.5</td><td style = \"text-align: right;\">0.2</td></tr><tr><td class = \"rowNumber\" style = \"font-weight: bold; text-align: right;\">12</td><td style = \"text-align: right;\">1.6</td><td style = \"text-align: right;\">0.2</td></tr><tr><td class = \"rowNumber\" style = \"font-weight: bold; text-align: right;\">13</td><td style = \"text-align: right;\">1.4</td><td style = \"text-align: right;\">0.1</td></tr><tr><td style = \"text-align: right;\">&vellip;</td><td style = \"text-align: right;\">&vellip;</td><td style = \"text-align: right;\">&vellip;</td></tr><tr><td class = \"rowNumber\" style = \"font-weight: bold; text-align: right;\">139</td><td style = \"text-align: right;\">4.8</td><td style = \"text-align: right;\">1.8</td></tr><tr><td class = \"rowNumber\" style = \"font-weight: bold; text-align: right;\">140</td><td style = \"text-align: right;\">5.4</td><td style = \"text-align: right;\">2.1</td></tr><tr><td class = \"rowNumber\" style = \"font-weight: bold; text-align: right;\">141</td><td style = \"text-align: right;\">5.6</td><td style = \"text-align: right;\">2.4</td></tr><tr><td class = \"rowNumber\" style = \"font-weight: bold; text-align: right;\">142</td><td style = \"text-align: right;\">5.1</td><td style = \"text-align: right;\">2.3</td></tr><tr><td class = \"rowNumber\" style = \"font-weight: bold; text-align: right;\">143</td><td style = \"text-align: right;\">5.1</td><td style = \"text-align: right;\">1.9</td></tr><tr><td class = \"rowNumber\" style = \"font-weight: bold; text-align: right;\">144</td><td style = \"text-align: right;\">5.9</td><td style = \"text-align: right;\">2.3</td></tr><tr><td class = \"rowNumber\" style = \"font-weight: bold; text-align: right;\">145</td><td style = \"text-align: right;\">5.7</td><td style = \"text-align: right;\">2.5</td></tr><tr><td class = \"rowNumber\" style = \"font-weight: bold; text-align: right;\">146</td><td style = \"text-align: right;\">5.2</td><td style = \"text-align: right;\">2.3</td></tr><tr><td class = \"rowNumber\" style = \"font-weight: bold; text-align: right;\">147</td><td style = \"text-align: right;\">5.0</td><td style = \"text-align: right;\">1.9</td></tr><tr><td class = \"rowNumber\" style = \"font-weight: bold; text-align: right;\">148</td><td style = \"text-align: right;\">5.2</td><td style = \"text-align: right;\">2.0</td></tr><tr><td class = \"rowNumber\" style = \"font-weight: bold; text-align: right;\">149</td><td style = \"text-align: right;\">5.4</td><td style = \"text-align: right;\">2.3</td></tr><tr><td class = \"rowNumber\" style = \"font-weight: bold; text-align: right;\">150</td><td style = \"text-align: right;\">5.1</td><td style = \"text-align: right;\">1.8</td></tr></tbody></table></div>"
            ],
            "text/latex": "\\begin{tabular}{r|cc}\n\t& PetalLength & PetalWidth\\\\\n\t\\hline\n\t& Float64 & Float64\\\\\n\t\\hline\n\t1 & 1.4 & 0.2 \\\\\n\t2 & 1.4 & 0.2 \\\\\n\t3 & 1.3 & 0.2 \\\\\n\t4 & 1.5 & 0.2 \\\\\n\t5 & 1.4 & 0.2 \\\\\n\t6 & 1.7 & 0.4 \\\\\n\t7 & 1.4 & 0.3 \\\\\n\t8 & 1.5 & 0.2 \\\\\n\t9 & 1.4 & 0.2 \\\\\n\t10 & 1.5 & 0.1 \\\\\n\t11 & 1.5 & 0.2 \\\\\n\t12 & 1.6 & 0.2 \\\\\n\t13 & 1.4 & 0.1 \\\\\n\t14 & 1.1 & 0.1 \\\\\n\t15 & 1.2 & 0.2 \\\\\n\t16 & 1.5 & 0.4 \\\\\n\t17 & 1.3 & 0.4 \\\\\n\t18 & 1.4 & 0.3 \\\\\n\t19 & 1.7 & 0.3 \\\\\n\t20 & 1.5 & 0.3 \\\\\n\t21 & 1.7 & 0.2 \\\\\n\t22 & 1.5 & 0.4 \\\\\n\t23 & 1.0 & 0.2 \\\\\n\t24 & 1.7 & 0.5 \\\\\n\t25 & 1.9 & 0.2 \\\\\n\t26 & 1.6 & 0.2 \\\\\n\t27 & 1.6 & 0.4 \\\\\n\t28 & 1.5 & 0.2 \\\\\n\t29 & 1.4 & 0.2 \\\\\n\t30 & 1.6 & 0.2 \\\\\n\t$\\dots$ & $\\dots$ & $\\dots$ \\\\\n\\end{tabular}\n"
          },
          "metadata": {},
          "execution_count": 26
        }
      ]
    },
    {
      "cell_type": "code",
      "source": [
        "iris[iris.SepalLength .> 4, :]"
      ],
      "metadata": {
        "colab": {
          "base_uri": "https://localhost:8080/",
          "height": 630
        },
        "id": "95ojlBBMGeax",
        "outputId": "96e93f8a-7f3d-4efa-e7c5-f6ba467a0e43"
      },
      "execution_count": 27,
      "outputs": [
        {
          "output_type": "execute_result",
          "data": {
            "text/plain": [
              "\u001b[1m150×5 DataFrame\u001b[0m\n",
              "\u001b[1m Row \u001b[0m│\u001b[1m SepalLength \u001b[0m\u001b[1m SepalWidth \u001b[0m\u001b[1m PetalLength \u001b[0m\u001b[1m PetalWidth \u001b[0m\u001b[1m Species   \u001b[0m\n",
              "     │\u001b[90m Float64     \u001b[0m\u001b[90m Float64    \u001b[0m\u001b[90m Float64     \u001b[0m\u001b[90m Float64    \u001b[0m\u001b[90m Cat…      \u001b[0m\n",
              "─────┼─────────────────────────────────────────────────────────────\n",
              "   1 │         5.1         3.5          1.4         0.2  setosa\n",
              "   2 │         4.9         3.0          1.4         0.2  setosa\n",
              "   3 │         4.7         3.2          1.3         0.2  setosa\n",
              "   4 │         4.6         3.1          1.5         0.2  setosa\n",
              "   5 │         5.0         3.6          1.4         0.2  setosa\n",
              "   6 │         5.4         3.9          1.7         0.4  setosa\n",
              "   7 │         4.6         3.4          1.4         0.3  setosa\n",
              "   8 │         5.0         3.4          1.5         0.2  setosa\n",
              "   9 │         4.4         2.9          1.4         0.2  setosa\n",
              "  10 │         4.9         3.1          1.5         0.1  setosa\n",
              "  11 │         5.4         3.7          1.5         0.2  setosa\n",
              "  ⋮  │      ⋮           ⋮            ⋮           ⋮           ⋮\n",
              " 141 │         6.7         3.1          5.6         2.4  virginica\n",
              " 142 │         6.9         3.1          5.1         2.3  virginica\n",
              " 143 │         5.8         2.7          5.1         1.9  virginica\n",
              " 144 │         6.8         3.2          5.9         2.3  virginica\n",
              " 145 │         6.7         3.3          5.7         2.5  virginica\n",
              " 146 │         6.7         3.0          5.2         2.3  virginica\n",
              " 147 │         6.3         2.5          5.0         1.9  virginica\n",
              " 148 │         6.5         3.0          5.2         2.0  virginica\n",
              " 149 │         6.2         3.4          5.4         2.3  virginica\n",
              " 150 │         5.9         3.0          5.1         1.8  virginica\n",
              "\u001b[36m                                                   129 rows omitted\u001b[0m"
            ],
            "text/html": [
              "<div><div style = \"float: left;\"><span>150×5 DataFrame</span></div><div style = \"float: right;\"><span style = \"font-style: italic;\">125 rows omitted</span></div><div style = \"clear: both;\"></div></div><div class = \"data-frame\" style = \"overflow-x: scroll;\"><table class = \"data-frame\" style = \"margin-bottom: 6px;\"><thead><tr class = \"header\"><th class = \"rowNumber\" style = \"font-weight: bold; text-align: right;\">Row</th><th style = \"text-align: left;\">SepalLength</th><th style = \"text-align: left;\">SepalWidth</th><th style = \"text-align: left;\">PetalLength</th><th style = \"text-align: left;\">PetalWidth</th><th style = \"text-align: left;\">Species</th></tr><tr class = \"subheader headerLastRow\"><th class = \"rowNumber\" style = \"font-weight: bold; text-align: right;\"></th><th title = \"Float64\" style = \"text-align: left;\">Float64</th><th title = \"Float64\" style = \"text-align: left;\">Float64</th><th title = \"Float64\" style = \"text-align: left;\">Float64</th><th title = \"Float64\" style = \"text-align: left;\">Float64</th><th title = \"CategoricalArrays.CategoricalValue{String, UInt8}\" style = \"text-align: left;\">Cat…</th></tr></thead><tbody><tr><td class = \"rowNumber\" style = \"font-weight: bold; text-align: right;\">1</td><td style = \"text-align: right;\">5.1</td><td style = \"text-align: right;\">3.5</td><td style = \"text-align: right;\">1.4</td><td style = \"text-align: right;\">0.2</td><td style = \"text-align: left;\">setosa</td></tr><tr><td class = \"rowNumber\" style = \"font-weight: bold; text-align: right;\">2</td><td style = \"text-align: right;\">4.9</td><td style = \"text-align: right;\">3.0</td><td style = \"text-align: right;\">1.4</td><td style = \"text-align: right;\">0.2</td><td style = \"text-align: left;\">setosa</td></tr><tr><td class = \"rowNumber\" style = \"font-weight: bold; text-align: right;\">3</td><td style = \"text-align: right;\">4.7</td><td style = \"text-align: right;\">3.2</td><td style = \"text-align: right;\">1.3</td><td style = \"text-align: right;\">0.2</td><td style = \"text-align: left;\">setosa</td></tr><tr><td class = \"rowNumber\" style = \"font-weight: bold; text-align: right;\">4</td><td style = \"text-align: right;\">4.6</td><td style = \"text-align: right;\">3.1</td><td style = \"text-align: right;\">1.5</td><td style = \"text-align: right;\">0.2</td><td style = \"text-align: left;\">setosa</td></tr><tr><td class = \"rowNumber\" style = \"font-weight: bold; text-align: right;\">5</td><td style = \"text-align: right;\">5.0</td><td style = \"text-align: right;\">3.6</td><td style = \"text-align: right;\">1.4</td><td style = \"text-align: right;\">0.2</td><td style = \"text-align: left;\">setosa</td></tr><tr><td class = \"rowNumber\" style = \"font-weight: bold; text-align: right;\">6</td><td style = \"text-align: right;\">5.4</td><td style = \"text-align: right;\">3.9</td><td style = \"text-align: right;\">1.7</td><td style = \"text-align: right;\">0.4</td><td style = \"text-align: left;\">setosa</td></tr><tr><td class = \"rowNumber\" style = \"font-weight: bold; text-align: right;\">7</td><td style = \"text-align: right;\">4.6</td><td style = \"text-align: right;\">3.4</td><td style = \"text-align: right;\">1.4</td><td style = \"text-align: right;\">0.3</td><td style = \"text-align: left;\">setosa</td></tr><tr><td class = \"rowNumber\" style = \"font-weight: bold; text-align: right;\">8</td><td style = \"text-align: right;\">5.0</td><td style = \"text-align: right;\">3.4</td><td style = \"text-align: right;\">1.5</td><td style = \"text-align: right;\">0.2</td><td style = \"text-align: left;\">setosa</td></tr><tr><td class = \"rowNumber\" style = \"font-weight: bold; text-align: right;\">9</td><td style = \"text-align: right;\">4.4</td><td style = \"text-align: right;\">2.9</td><td style = \"text-align: right;\">1.4</td><td style = \"text-align: right;\">0.2</td><td style = \"text-align: left;\">setosa</td></tr><tr><td class = \"rowNumber\" style = \"font-weight: bold; text-align: right;\">10</td><td style = \"text-align: right;\">4.9</td><td style = \"text-align: right;\">3.1</td><td style = \"text-align: right;\">1.5</td><td style = \"text-align: right;\">0.1</td><td style = \"text-align: left;\">setosa</td></tr><tr><td class = \"rowNumber\" style = \"font-weight: bold; text-align: right;\">11</td><td style = \"text-align: right;\">5.4</td><td style = \"text-align: right;\">3.7</td><td style = \"text-align: right;\">1.5</td><td style = \"text-align: right;\">0.2</td><td style = \"text-align: left;\">setosa</td></tr><tr><td class = \"rowNumber\" style = \"font-weight: bold; text-align: right;\">12</td><td style = \"text-align: right;\">4.8</td><td style = \"text-align: right;\">3.4</td><td style = \"text-align: right;\">1.6</td><td style = \"text-align: right;\">0.2</td><td style = \"text-align: left;\">setosa</td></tr><tr><td class = \"rowNumber\" style = \"font-weight: bold; text-align: right;\">13</td><td style = \"text-align: right;\">4.8</td><td style = \"text-align: right;\">3.0</td><td style = \"text-align: right;\">1.4</td><td style = \"text-align: right;\">0.1</td><td style = \"text-align: left;\">setosa</td></tr><tr><td style = \"text-align: right;\">&vellip;</td><td style = \"text-align: right;\">&vellip;</td><td style = \"text-align: right;\">&vellip;</td><td style = \"text-align: right;\">&vellip;</td><td style = \"text-align: right;\">&vellip;</td><td style = \"text-align: right;\">&vellip;</td></tr><tr><td class = \"rowNumber\" style = \"font-weight: bold; text-align: right;\">139</td><td style = \"text-align: right;\">6.0</td><td style = \"text-align: right;\">3.0</td><td style = \"text-align: right;\">4.8</td><td style = \"text-align: right;\">1.8</td><td style = \"text-align: left;\">virginica</td></tr><tr><td class = \"rowNumber\" style = \"font-weight: bold; text-align: right;\">140</td><td style = \"text-align: right;\">6.9</td><td style = \"text-align: right;\">3.1</td><td style = \"text-align: right;\">5.4</td><td style = \"text-align: right;\">2.1</td><td style = \"text-align: left;\">virginica</td></tr><tr><td class = \"rowNumber\" style = \"font-weight: bold; text-align: right;\">141</td><td style = \"text-align: right;\">6.7</td><td style = \"text-align: right;\">3.1</td><td style = \"text-align: right;\">5.6</td><td style = \"text-align: right;\">2.4</td><td style = \"text-align: left;\">virginica</td></tr><tr><td class = \"rowNumber\" style = \"font-weight: bold; text-align: right;\">142</td><td style = \"text-align: right;\">6.9</td><td style = \"text-align: right;\">3.1</td><td style = \"text-align: right;\">5.1</td><td style = \"text-align: right;\">2.3</td><td style = \"text-align: left;\">virginica</td></tr><tr><td class = \"rowNumber\" style = \"font-weight: bold; text-align: right;\">143</td><td style = \"text-align: right;\">5.8</td><td style = \"text-align: right;\">2.7</td><td style = \"text-align: right;\">5.1</td><td style = \"text-align: right;\">1.9</td><td style = \"text-align: left;\">virginica</td></tr><tr><td class = \"rowNumber\" style = \"font-weight: bold; text-align: right;\">144</td><td style = \"text-align: right;\">6.8</td><td style = \"text-align: right;\">3.2</td><td style = \"text-align: right;\">5.9</td><td style = \"text-align: right;\">2.3</td><td style = \"text-align: left;\">virginica</td></tr><tr><td class = \"rowNumber\" style = \"font-weight: bold; text-align: right;\">145</td><td style = \"text-align: right;\">6.7</td><td style = \"text-align: right;\">3.3</td><td style = \"text-align: right;\">5.7</td><td style = \"text-align: right;\">2.5</td><td style = \"text-align: left;\">virginica</td></tr><tr><td class = \"rowNumber\" style = \"font-weight: bold; text-align: right;\">146</td><td style = \"text-align: right;\">6.7</td><td style = \"text-align: right;\">3.0</td><td style = \"text-align: right;\">5.2</td><td style = \"text-align: right;\">2.3</td><td style = \"text-align: left;\">virginica</td></tr><tr><td class = \"rowNumber\" style = \"font-weight: bold; text-align: right;\">147</td><td style = \"text-align: right;\">6.3</td><td style = \"text-align: right;\">2.5</td><td style = \"text-align: right;\">5.0</td><td style = \"text-align: right;\">1.9</td><td style = \"text-align: left;\">virginica</td></tr><tr><td class = \"rowNumber\" style = \"font-weight: bold; text-align: right;\">148</td><td style = \"text-align: right;\">6.5</td><td style = \"text-align: right;\">3.0</td><td style = \"text-align: right;\">5.2</td><td style = \"text-align: right;\">2.0</td><td style = \"text-align: left;\">virginica</td></tr><tr><td class = \"rowNumber\" style = \"font-weight: bold; text-align: right;\">149</td><td style = \"text-align: right;\">6.2</td><td style = \"text-align: right;\">3.4</td><td style = \"text-align: right;\">5.4</td><td style = \"text-align: right;\">2.3</td><td style = \"text-align: left;\">virginica</td></tr><tr><td class = \"rowNumber\" style = \"font-weight: bold; text-align: right;\">150</td><td style = \"text-align: right;\">5.9</td><td style = \"text-align: right;\">3.0</td><td style = \"text-align: right;\">5.1</td><td style = \"text-align: right;\">1.8</td><td style = \"text-align: left;\">virginica</td></tr></tbody></table></div>"
            ],
            "text/latex": "\\begin{tabular}{r|ccccc}\n\t& SepalLength & SepalWidth & PetalLength & PetalWidth & Species\\\\\n\t\\hline\n\t& Float64 & Float64 & Float64 & Float64 & Cat…\\\\\n\t\\hline\n\t1 & 5.1 & 3.5 & 1.4 & 0.2 & setosa \\\\\n\t2 & 4.9 & 3.0 & 1.4 & 0.2 & setosa \\\\\n\t3 & 4.7 & 3.2 & 1.3 & 0.2 & setosa \\\\\n\t4 & 4.6 & 3.1 & 1.5 & 0.2 & setosa \\\\\n\t5 & 5.0 & 3.6 & 1.4 & 0.2 & setosa \\\\\n\t6 & 5.4 & 3.9 & 1.7 & 0.4 & setosa \\\\\n\t7 & 4.6 & 3.4 & 1.4 & 0.3 & setosa \\\\\n\t8 & 5.0 & 3.4 & 1.5 & 0.2 & setosa \\\\\n\t9 & 4.4 & 2.9 & 1.4 & 0.2 & setosa \\\\\n\t10 & 4.9 & 3.1 & 1.5 & 0.1 & setosa \\\\\n\t11 & 5.4 & 3.7 & 1.5 & 0.2 & setosa \\\\\n\t12 & 4.8 & 3.4 & 1.6 & 0.2 & setosa \\\\\n\t13 & 4.8 & 3.0 & 1.4 & 0.1 & setosa \\\\\n\t14 & 4.3 & 3.0 & 1.1 & 0.1 & setosa \\\\\n\t15 & 5.8 & 4.0 & 1.2 & 0.2 & setosa \\\\\n\t16 & 5.7 & 4.4 & 1.5 & 0.4 & setosa \\\\\n\t17 & 5.4 & 3.9 & 1.3 & 0.4 & setosa \\\\\n\t18 & 5.1 & 3.5 & 1.4 & 0.3 & setosa \\\\\n\t19 & 5.7 & 3.8 & 1.7 & 0.3 & setosa \\\\\n\t20 & 5.1 & 3.8 & 1.5 & 0.3 & setosa \\\\\n\t21 & 5.4 & 3.4 & 1.7 & 0.2 & setosa \\\\\n\t22 & 5.1 & 3.7 & 1.5 & 0.4 & setosa \\\\\n\t23 & 4.6 & 3.6 & 1.0 & 0.2 & setosa \\\\\n\t24 & 5.1 & 3.3 & 1.7 & 0.5 & setosa \\\\\n\t25 & 4.8 & 3.4 & 1.9 & 0.2 & setosa \\\\\n\t26 & 5.0 & 3.0 & 1.6 & 0.2 & setosa \\\\\n\t27 & 5.0 & 3.4 & 1.6 & 0.4 & setosa \\\\\n\t28 & 5.2 & 3.5 & 1.5 & 0.2 & setosa \\\\\n\t29 & 5.2 & 3.4 & 1.4 & 0.2 & setosa \\\\\n\t30 & 4.7 & 3.2 & 1.6 & 0.2 & setosa \\\\\n\t$\\dots$ & $\\dots$ & $\\dots$ & $\\dots$ & $\\dots$ & $\\dots$ \\\\\n\\end{tabular}\n"
          },
          "metadata": {},
          "execution_count": 27
        }
      ]
    },
    {
      "cell_type": "code",
      "source": [
        "iris[iris.Species .== \"setosa\", :]"
      ],
      "metadata": {
        "id": "zsGI9ZgTjsln",
        "outputId": "cd8dee78-0d29-4ca0-e4ee-2f6681eb04b7",
        "colab": {
          "base_uri": "https://localhost:8080/",
          "height": 630
        }
      },
      "execution_count": 28,
      "outputs": [
        {
          "output_type": "execute_result",
          "data": {
            "text/plain": [
              "\u001b[1m50×5 DataFrame\u001b[0m\n",
              "\u001b[1m Row \u001b[0m│\u001b[1m SepalLength \u001b[0m\u001b[1m SepalWidth \u001b[0m\u001b[1m PetalLength \u001b[0m\u001b[1m PetalWidth \u001b[0m\u001b[1m Species \u001b[0m\n",
              "     │\u001b[90m Float64     \u001b[0m\u001b[90m Float64    \u001b[0m\u001b[90m Float64     \u001b[0m\u001b[90m Float64    \u001b[0m\u001b[90m Cat…    \u001b[0m\n",
              "─────┼───────────────────────────────────────────────────────────\n",
              "   1 │         5.1         3.5          1.4         0.2  setosa\n",
              "   2 │         4.9         3.0          1.4         0.2  setosa\n",
              "   3 │         4.7         3.2          1.3         0.2  setosa\n",
              "   4 │         4.6         3.1          1.5         0.2  setosa\n",
              "   5 │         5.0         3.6          1.4         0.2  setosa\n",
              "   6 │         5.4         3.9          1.7         0.4  setosa\n",
              "   7 │         4.6         3.4          1.4         0.3  setosa\n",
              "   8 │         5.0         3.4          1.5         0.2  setosa\n",
              "   9 │         4.4         2.9          1.4         0.2  setosa\n",
              "  10 │         4.9         3.1          1.5         0.1  setosa\n",
              "  11 │         5.4         3.7          1.5         0.2  setosa\n",
              "  ⋮  │      ⋮           ⋮            ⋮           ⋮          ⋮\n",
              "  41 │         5.0         3.5          1.3         0.3  setosa\n",
              "  42 │         4.5         2.3          1.3         0.3  setosa\n",
              "  43 │         4.4         3.2          1.3         0.2  setosa\n",
              "  44 │         5.0         3.5          1.6         0.6  setosa\n",
              "  45 │         5.1         3.8          1.9         0.4  setosa\n",
              "  46 │         4.8         3.0          1.4         0.3  setosa\n",
              "  47 │         5.1         3.8          1.6         0.2  setosa\n",
              "  48 │         4.6         3.2          1.4         0.2  setosa\n",
              "  49 │         5.3         3.7          1.5         0.2  setosa\n",
              "  50 │         5.0         3.3          1.4         0.2  setosa\n",
              "\u001b[36m                                                  29 rows omitted\u001b[0m"
            ],
            "text/html": [
              "<div><div style = \"float: left;\"><span>50×5 DataFrame</span></div><div style = \"float: right;\"><span style = \"font-style: italic;\">25 rows omitted</span></div><div style = \"clear: both;\"></div></div><div class = \"data-frame\" style = \"overflow-x: scroll;\"><table class = \"data-frame\" style = \"margin-bottom: 6px;\"><thead><tr class = \"header\"><th class = \"rowNumber\" style = \"font-weight: bold; text-align: right;\">Row</th><th style = \"text-align: left;\">SepalLength</th><th style = \"text-align: left;\">SepalWidth</th><th style = \"text-align: left;\">PetalLength</th><th style = \"text-align: left;\">PetalWidth</th><th style = \"text-align: left;\">Species</th></tr><tr class = \"subheader headerLastRow\"><th class = \"rowNumber\" style = \"font-weight: bold; text-align: right;\"></th><th title = \"Float64\" style = \"text-align: left;\">Float64</th><th title = \"Float64\" style = \"text-align: left;\">Float64</th><th title = \"Float64\" style = \"text-align: left;\">Float64</th><th title = \"Float64\" style = \"text-align: left;\">Float64</th><th title = \"CategoricalArrays.CategoricalValue{String, UInt8}\" style = \"text-align: left;\">Cat…</th></tr></thead><tbody><tr><td class = \"rowNumber\" style = \"font-weight: bold; text-align: right;\">1</td><td style = \"text-align: right;\">5.1</td><td style = \"text-align: right;\">3.5</td><td style = \"text-align: right;\">1.4</td><td style = \"text-align: right;\">0.2</td><td style = \"text-align: left;\">setosa</td></tr><tr><td class = \"rowNumber\" style = \"font-weight: bold; text-align: right;\">2</td><td style = \"text-align: right;\">4.9</td><td style = \"text-align: right;\">3.0</td><td style = \"text-align: right;\">1.4</td><td style = \"text-align: right;\">0.2</td><td style = \"text-align: left;\">setosa</td></tr><tr><td class = \"rowNumber\" style = \"font-weight: bold; text-align: right;\">3</td><td style = \"text-align: right;\">4.7</td><td style = \"text-align: right;\">3.2</td><td style = \"text-align: right;\">1.3</td><td style = \"text-align: right;\">0.2</td><td style = \"text-align: left;\">setosa</td></tr><tr><td class = \"rowNumber\" style = \"font-weight: bold; text-align: right;\">4</td><td style = \"text-align: right;\">4.6</td><td style = \"text-align: right;\">3.1</td><td style = \"text-align: right;\">1.5</td><td style = \"text-align: right;\">0.2</td><td style = \"text-align: left;\">setosa</td></tr><tr><td class = \"rowNumber\" style = \"font-weight: bold; text-align: right;\">5</td><td style = \"text-align: right;\">5.0</td><td style = \"text-align: right;\">3.6</td><td style = \"text-align: right;\">1.4</td><td style = \"text-align: right;\">0.2</td><td style = \"text-align: left;\">setosa</td></tr><tr><td class = \"rowNumber\" style = \"font-weight: bold; text-align: right;\">6</td><td style = \"text-align: right;\">5.4</td><td style = \"text-align: right;\">3.9</td><td style = \"text-align: right;\">1.7</td><td style = \"text-align: right;\">0.4</td><td style = \"text-align: left;\">setosa</td></tr><tr><td class = \"rowNumber\" style = \"font-weight: bold; text-align: right;\">7</td><td style = \"text-align: right;\">4.6</td><td style = \"text-align: right;\">3.4</td><td style = \"text-align: right;\">1.4</td><td style = \"text-align: right;\">0.3</td><td style = \"text-align: left;\">setosa</td></tr><tr><td class = \"rowNumber\" style = \"font-weight: bold; text-align: right;\">8</td><td style = \"text-align: right;\">5.0</td><td style = \"text-align: right;\">3.4</td><td style = \"text-align: right;\">1.5</td><td style = \"text-align: right;\">0.2</td><td style = \"text-align: left;\">setosa</td></tr><tr><td class = \"rowNumber\" style = \"font-weight: bold; text-align: right;\">9</td><td style = \"text-align: right;\">4.4</td><td style = \"text-align: right;\">2.9</td><td style = \"text-align: right;\">1.4</td><td style = \"text-align: right;\">0.2</td><td style = \"text-align: left;\">setosa</td></tr><tr><td class = \"rowNumber\" style = \"font-weight: bold; text-align: right;\">10</td><td style = \"text-align: right;\">4.9</td><td style = \"text-align: right;\">3.1</td><td style = \"text-align: right;\">1.5</td><td style = \"text-align: right;\">0.1</td><td style = \"text-align: left;\">setosa</td></tr><tr><td class = \"rowNumber\" style = \"font-weight: bold; text-align: right;\">11</td><td style = \"text-align: right;\">5.4</td><td style = \"text-align: right;\">3.7</td><td style = \"text-align: right;\">1.5</td><td style = \"text-align: right;\">0.2</td><td style = \"text-align: left;\">setosa</td></tr><tr><td class = \"rowNumber\" style = \"font-weight: bold; text-align: right;\">12</td><td style = \"text-align: right;\">4.8</td><td style = \"text-align: right;\">3.4</td><td style = \"text-align: right;\">1.6</td><td style = \"text-align: right;\">0.2</td><td style = \"text-align: left;\">setosa</td></tr><tr><td class = \"rowNumber\" style = \"font-weight: bold; text-align: right;\">13</td><td style = \"text-align: right;\">4.8</td><td style = \"text-align: right;\">3.0</td><td style = \"text-align: right;\">1.4</td><td style = \"text-align: right;\">0.1</td><td style = \"text-align: left;\">setosa</td></tr><tr><td style = \"text-align: right;\">&vellip;</td><td style = \"text-align: right;\">&vellip;</td><td style = \"text-align: right;\">&vellip;</td><td style = \"text-align: right;\">&vellip;</td><td style = \"text-align: right;\">&vellip;</td><td style = \"text-align: right;\">&vellip;</td></tr><tr><td class = \"rowNumber\" style = \"font-weight: bold; text-align: right;\">39</td><td style = \"text-align: right;\">4.4</td><td style = \"text-align: right;\">3.0</td><td style = \"text-align: right;\">1.3</td><td style = \"text-align: right;\">0.2</td><td style = \"text-align: left;\">setosa</td></tr><tr><td class = \"rowNumber\" style = \"font-weight: bold; text-align: right;\">40</td><td style = \"text-align: right;\">5.1</td><td style = \"text-align: right;\">3.4</td><td style = \"text-align: right;\">1.5</td><td style = \"text-align: right;\">0.2</td><td style = \"text-align: left;\">setosa</td></tr><tr><td class = \"rowNumber\" style = \"font-weight: bold; text-align: right;\">41</td><td style = \"text-align: right;\">5.0</td><td style = \"text-align: right;\">3.5</td><td style = \"text-align: right;\">1.3</td><td style = \"text-align: right;\">0.3</td><td style = \"text-align: left;\">setosa</td></tr><tr><td class = \"rowNumber\" style = \"font-weight: bold; text-align: right;\">42</td><td style = \"text-align: right;\">4.5</td><td style = \"text-align: right;\">2.3</td><td style = \"text-align: right;\">1.3</td><td style = \"text-align: right;\">0.3</td><td style = \"text-align: left;\">setosa</td></tr><tr><td class = \"rowNumber\" style = \"font-weight: bold; text-align: right;\">43</td><td style = \"text-align: right;\">4.4</td><td style = \"text-align: right;\">3.2</td><td style = \"text-align: right;\">1.3</td><td style = \"text-align: right;\">0.2</td><td style = \"text-align: left;\">setosa</td></tr><tr><td class = \"rowNumber\" style = \"font-weight: bold; text-align: right;\">44</td><td style = \"text-align: right;\">5.0</td><td style = \"text-align: right;\">3.5</td><td style = \"text-align: right;\">1.6</td><td style = \"text-align: right;\">0.6</td><td style = \"text-align: left;\">setosa</td></tr><tr><td class = \"rowNumber\" style = \"font-weight: bold; text-align: right;\">45</td><td style = \"text-align: right;\">5.1</td><td style = \"text-align: right;\">3.8</td><td style = \"text-align: right;\">1.9</td><td style = \"text-align: right;\">0.4</td><td style = \"text-align: left;\">setosa</td></tr><tr><td class = \"rowNumber\" style = \"font-weight: bold; text-align: right;\">46</td><td style = \"text-align: right;\">4.8</td><td style = \"text-align: right;\">3.0</td><td style = \"text-align: right;\">1.4</td><td style = \"text-align: right;\">0.3</td><td style = \"text-align: left;\">setosa</td></tr><tr><td class = \"rowNumber\" style = \"font-weight: bold; text-align: right;\">47</td><td style = \"text-align: right;\">5.1</td><td style = \"text-align: right;\">3.8</td><td style = \"text-align: right;\">1.6</td><td style = \"text-align: right;\">0.2</td><td style = \"text-align: left;\">setosa</td></tr><tr><td class = \"rowNumber\" style = \"font-weight: bold; text-align: right;\">48</td><td style = \"text-align: right;\">4.6</td><td style = \"text-align: right;\">3.2</td><td style = \"text-align: right;\">1.4</td><td style = \"text-align: right;\">0.2</td><td style = \"text-align: left;\">setosa</td></tr><tr><td class = \"rowNumber\" style = \"font-weight: bold; text-align: right;\">49</td><td style = \"text-align: right;\">5.3</td><td style = \"text-align: right;\">3.7</td><td style = \"text-align: right;\">1.5</td><td style = \"text-align: right;\">0.2</td><td style = \"text-align: left;\">setosa</td></tr><tr><td class = \"rowNumber\" style = \"font-weight: bold; text-align: right;\">50</td><td style = \"text-align: right;\">5.0</td><td style = \"text-align: right;\">3.3</td><td style = \"text-align: right;\">1.4</td><td style = \"text-align: right;\">0.2</td><td style = \"text-align: left;\">setosa</td></tr></tbody></table></div>"
            ],
            "text/latex": "\\begin{tabular}{r|ccccc}\n\t& SepalLength & SepalWidth & PetalLength & PetalWidth & Species\\\\\n\t\\hline\n\t& Float64 & Float64 & Float64 & Float64 & Cat…\\\\\n\t\\hline\n\t1 & 5.1 & 3.5 & 1.4 & 0.2 & setosa \\\\\n\t2 & 4.9 & 3.0 & 1.4 & 0.2 & setosa \\\\\n\t3 & 4.7 & 3.2 & 1.3 & 0.2 & setosa \\\\\n\t4 & 4.6 & 3.1 & 1.5 & 0.2 & setosa \\\\\n\t5 & 5.0 & 3.6 & 1.4 & 0.2 & setosa \\\\\n\t6 & 5.4 & 3.9 & 1.7 & 0.4 & setosa \\\\\n\t7 & 4.6 & 3.4 & 1.4 & 0.3 & setosa \\\\\n\t8 & 5.0 & 3.4 & 1.5 & 0.2 & setosa \\\\\n\t9 & 4.4 & 2.9 & 1.4 & 0.2 & setosa \\\\\n\t10 & 4.9 & 3.1 & 1.5 & 0.1 & setosa \\\\\n\t11 & 5.4 & 3.7 & 1.5 & 0.2 & setosa \\\\\n\t12 & 4.8 & 3.4 & 1.6 & 0.2 & setosa \\\\\n\t13 & 4.8 & 3.0 & 1.4 & 0.1 & setosa \\\\\n\t14 & 4.3 & 3.0 & 1.1 & 0.1 & setosa \\\\\n\t15 & 5.8 & 4.0 & 1.2 & 0.2 & setosa \\\\\n\t16 & 5.7 & 4.4 & 1.5 & 0.4 & setosa \\\\\n\t17 & 5.4 & 3.9 & 1.3 & 0.4 & setosa \\\\\n\t18 & 5.1 & 3.5 & 1.4 & 0.3 & setosa \\\\\n\t19 & 5.7 & 3.8 & 1.7 & 0.3 & setosa \\\\\n\t20 & 5.1 & 3.8 & 1.5 & 0.3 & setosa \\\\\n\t21 & 5.4 & 3.4 & 1.7 & 0.2 & setosa \\\\\n\t22 & 5.1 & 3.7 & 1.5 & 0.4 & setosa \\\\\n\t23 & 4.6 & 3.6 & 1.0 & 0.2 & setosa \\\\\n\t24 & 5.1 & 3.3 & 1.7 & 0.5 & setosa \\\\\n\t25 & 4.8 & 3.4 & 1.9 & 0.2 & setosa \\\\\n\t26 & 5.0 & 3.0 & 1.6 & 0.2 & setosa \\\\\n\t27 & 5.0 & 3.4 & 1.6 & 0.4 & setosa \\\\\n\t28 & 5.2 & 3.5 & 1.5 & 0.2 & setosa \\\\\n\t29 & 5.2 & 3.4 & 1.4 & 0.2 & setosa \\\\\n\t30 & 4.7 & 3.2 & 1.6 & 0.2 & setosa \\\\\n\t$\\dots$ & $\\dots$ & $\\dots$ & $\\dots$ & $\\dots$ & $\\dots$ \\\\\n\\end{tabular}\n"
          },
          "metadata": {},
          "execution_count": 28
        }
      ]
    },
    {
      "cell_type": "code",
      "source": [
        "iris[(iris.SepalLength .> 4) .& (iris.PetalLength .> 3), :]"
      ],
      "metadata": {
        "id": "RLH8TUPljuEy",
        "outputId": "bc48a955-5164-46b6-be5e-fd64e0e2d0ce",
        "colab": {
          "base_uri": "https://localhost:8080/",
          "height": 630
        }
      },
      "execution_count": 29,
      "outputs": [
        {
          "output_type": "execute_result",
          "data": {
            "text/plain": [
              "\u001b[1m99×5 DataFrame\u001b[0m\n",
              "\u001b[1m Row \u001b[0m│\u001b[1m SepalLength \u001b[0m\u001b[1m SepalWidth \u001b[0m\u001b[1m PetalLength \u001b[0m\u001b[1m PetalWidth \u001b[0m\u001b[1m Species    \u001b[0m\n",
              "     │\u001b[90m Float64     \u001b[0m\u001b[90m Float64    \u001b[0m\u001b[90m Float64     \u001b[0m\u001b[90m Float64    \u001b[0m\u001b[90m Cat…       \u001b[0m\n",
              "─────┼──────────────────────────────────────────────────────────────\n",
              "   1 │         7.0         3.2          4.7         1.4  versicolor\n",
              "   2 │         6.4         3.2          4.5         1.5  versicolor\n",
              "   3 │         6.9         3.1          4.9         1.5  versicolor\n",
              "   4 │         5.5         2.3          4.0         1.3  versicolor\n",
              "   5 │         6.5         2.8          4.6         1.5  versicolor\n",
              "   6 │         5.7         2.8          4.5         1.3  versicolor\n",
              "   7 │         6.3         3.3          4.7         1.6  versicolor\n",
              "   8 │         4.9         2.4          3.3         1.0  versicolor\n",
              "   9 │         6.6         2.9          4.6         1.3  versicolor\n",
              "  10 │         5.2         2.7          3.9         1.4  versicolor\n",
              "  11 │         5.0         2.0          3.5         1.0  versicolor\n",
              "  ⋮  │      ⋮           ⋮            ⋮           ⋮           ⋮\n",
              "  90 │         6.7         3.1          5.6         2.4  virginica\n",
              "  91 │         6.9         3.1          5.1         2.3  virginica\n",
              "  92 │         5.8         2.7          5.1         1.9  virginica\n",
              "  93 │         6.8         3.2          5.9         2.3  virginica\n",
              "  94 │         6.7         3.3          5.7         2.5  virginica\n",
              "  95 │         6.7         3.0          5.2         2.3  virginica\n",
              "  96 │         6.3         2.5          5.0         1.9  virginica\n",
              "  97 │         6.5         3.0          5.2         2.0  virginica\n",
              "  98 │         6.2         3.4          5.4         2.3  virginica\n",
              "  99 │         5.9         3.0          5.1         1.8  virginica\n",
              "\u001b[36m                                                     78 rows omitted\u001b[0m"
            ],
            "text/html": [
              "<div><div style = \"float: left;\"><span>99×5 DataFrame</span></div><div style = \"float: right;\"><span style = \"font-style: italic;\">74 rows omitted</span></div><div style = \"clear: both;\"></div></div><div class = \"data-frame\" style = \"overflow-x: scroll;\"><table class = \"data-frame\" style = \"margin-bottom: 6px;\"><thead><tr class = \"header\"><th class = \"rowNumber\" style = \"font-weight: bold; text-align: right;\">Row</th><th style = \"text-align: left;\">SepalLength</th><th style = \"text-align: left;\">SepalWidth</th><th style = \"text-align: left;\">PetalLength</th><th style = \"text-align: left;\">PetalWidth</th><th style = \"text-align: left;\">Species</th></tr><tr class = \"subheader headerLastRow\"><th class = \"rowNumber\" style = \"font-weight: bold; text-align: right;\"></th><th title = \"Float64\" style = \"text-align: left;\">Float64</th><th title = \"Float64\" style = \"text-align: left;\">Float64</th><th title = \"Float64\" style = \"text-align: left;\">Float64</th><th title = \"Float64\" style = \"text-align: left;\">Float64</th><th title = \"CategoricalArrays.CategoricalValue{String, UInt8}\" style = \"text-align: left;\">Cat…</th></tr></thead><tbody><tr><td class = \"rowNumber\" style = \"font-weight: bold; text-align: right;\">1</td><td style = \"text-align: right;\">7.0</td><td style = \"text-align: right;\">3.2</td><td style = \"text-align: right;\">4.7</td><td style = \"text-align: right;\">1.4</td><td style = \"text-align: left;\">versicolor</td></tr><tr><td class = \"rowNumber\" style = \"font-weight: bold; text-align: right;\">2</td><td style = \"text-align: right;\">6.4</td><td style = \"text-align: right;\">3.2</td><td style = \"text-align: right;\">4.5</td><td style = \"text-align: right;\">1.5</td><td style = \"text-align: left;\">versicolor</td></tr><tr><td class = \"rowNumber\" style = \"font-weight: bold; text-align: right;\">3</td><td style = \"text-align: right;\">6.9</td><td style = \"text-align: right;\">3.1</td><td style = \"text-align: right;\">4.9</td><td style = \"text-align: right;\">1.5</td><td style = \"text-align: left;\">versicolor</td></tr><tr><td class = \"rowNumber\" style = \"font-weight: bold; text-align: right;\">4</td><td style = \"text-align: right;\">5.5</td><td style = \"text-align: right;\">2.3</td><td style = \"text-align: right;\">4.0</td><td style = \"text-align: right;\">1.3</td><td style = \"text-align: left;\">versicolor</td></tr><tr><td class = \"rowNumber\" style = \"font-weight: bold; text-align: right;\">5</td><td style = \"text-align: right;\">6.5</td><td style = \"text-align: right;\">2.8</td><td style = \"text-align: right;\">4.6</td><td style = \"text-align: right;\">1.5</td><td style = \"text-align: left;\">versicolor</td></tr><tr><td class = \"rowNumber\" style = \"font-weight: bold; text-align: right;\">6</td><td style = \"text-align: right;\">5.7</td><td style = \"text-align: right;\">2.8</td><td style = \"text-align: right;\">4.5</td><td style = \"text-align: right;\">1.3</td><td style = \"text-align: left;\">versicolor</td></tr><tr><td class = \"rowNumber\" style = \"font-weight: bold; text-align: right;\">7</td><td style = \"text-align: right;\">6.3</td><td style = \"text-align: right;\">3.3</td><td style = \"text-align: right;\">4.7</td><td style = \"text-align: right;\">1.6</td><td style = \"text-align: left;\">versicolor</td></tr><tr><td class = \"rowNumber\" style = \"font-weight: bold; text-align: right;\">8</td><td style = \"text-align: right;\">4.9</td><td style = \"text-align: right;\">2.4</td><td style = \"text-align: right;\">3.3</td><td style = \"text-align: right;\">1.0</td><td style = \"text-align: left;\">versicolor</td></tr><tr><td class = \"rowNumber\" style = \"font-weight: bold; text-align: right;\">9</td><td style = \"text-align: right;\">6.6</td><td style = \"text-align: right;\">2.9</td><td style = \"text-align: right;\">4.6</td><td style = \"text-align: right;\">1.3</td><td style = \"text-align: left;\">versicolor</td></tr><tr><td class = \"rowNumber\" style = \"font-weight: bold; text-align: right;\">10</td><td style = \"text-align: right;\">5.2</td><td style = \"text-align: right;\">2.7</td><td style = \"text-align: right;\">3.9</td><td style = \"text-align: right;\">1.4</td><td style = \"text-align: left;\">versicolor</td></tr><tr><td class = \"rowNumber\" style = \"font-weight: bold; text-align: right;\">11</td><td style = \"text-align: right;\">5.0</td><td style = \"text-align: right;\">2.0</td><td style = \"text-align: right;\">3.5</td><td style = \"text-align: right;\">1.0</td><td style = \"text-align: left;\">versicolor</td></tr><tr><td class = \"rowNumber\" style = \"font-weight: bold; text-align: right;\">12</td><td style = \"text-align: right;\">5.9</td><td style = \"text-align: right;\">3.0</td><td style = \"text-align: right;\">4.2</td><td style = \"text-align: right;\">1.5</td><td style = \"text-align: left;\">versicolor</td></tr><tr><td class = \"rowNumber\" style = \"font-weight: bold; text-align: right;\">13</td><td style = \"text-align: right;\">6.0</td><td style = \"text-align: right;\">2.2</td><td style = \"text-align: right;\">4.0</td><td style = \"text-align: right;\">1.0</td><td style = \"text-align: left;\">versicolor</td></tr><tr><td style = \"text-align: right;\">&vellip;</td><td style = \"text-align: right;\">&vellip;</td><td style = \"text-align: right;\">&vellip;</td><td style = \"text-align: right;\">&vellip;</td><td style = \"text-align: right;\">&vellip;</td><td style = \"text-align: right;\">&vellip;</td></tr><tr><td class = \"rowNumber\" style = \"font-weight: bold; text-align: right;\">88</td><td style = \"text-align: right;\">6.0</td><td style = \"text-align: right;\">3.0</td><td style = \"text-align: right;\">4.8</td><td style = \"text-align: right;\">1.8</td><td style = \"text-align: left;\">virginica</td></tr><tr><td class = \"rowNumber\" style = \"font-weight: bold; text-align: right;\">89</td><td style = \"text-align: right;\">6.9</td><td style = \"text-align: right;\">3.1</td><td style = \"text-align: right;\">5.4</td><td style = \"text-align: right;\">2.1</td><td style = \"text-align: left;\">virginica</td></tr><tr><td class = \"rowNumber\" style = \"font-weight: bold; text-align: right;\">90</td><td style = \"text-align: right;\">6.7</td><td style = \"text-align: right;\">3.1</td><td style = \"text-align: right;\">5.6</td><td style = \"text-align: right;\">2.4</td><td style = \"text-align: left;\">virginica</td></tr><tr><td class = \"rowNumber\" style = \"font-weight: bold; text-align: right;\">91</td><td style = \"text-align: right;\">6.9</td><td style = \"text-align: right;\">3.1</td><td style = \"text-align: right;\">5.1</td><td style = \"text-align: right;\">2.3</td><td style = \"text-align: left;\">virginica</td></tr><tr><td class = \"rowNumber\" style = \"font-weight: bold; text-align: right;\">92</td><td style = \"text-align: right;\">5.8</td><td style = \"text-align: right;\">2.7</td><td style = \"text-align: right;\">5.1</td><td style = \"text-align: right;\">1.9</td><td style = \"text-align: left;\">virginica</td></tr><tr><td class = \"rowNumber\" style = \"font-weight: bold; text-align: right;\">93</td><td style = \"text-align: right;\">6.8</td><td style = \"text-align: right;\">3.2</td><td style = \"text-align: right;\">5.9</td><td style = \"text-align: right;\">2.3</td><td style = \"text-align: left;\">virginica</td></tr><tr><td class = \"rowNumber\" style = \"font-weight: bold; text-align: right;\">94</td><td style = \"text-align: right;\">6.7</td><td style = \"text-align: right;\">3.3</td><td style = \"text-align: right;\">5.7</td><td style = \"text-align: right;\">2.5</td><td style = \"text-align: left;\">virginica</td></tr><tr><td class = \"rowNumber\" style = \"font-weight: bold; text-align: right;\">95</td><td style = \"text-align: right;\">6.7</td><td style = \"text-align: right;\">3.0</td><td style = \"text-align: right;\">5.2</td><td style = \"text-align: right;\">2.3</td><td style = \"text-align: left;\">virginica</td></tr><tr><td class = \"rowNumber\" style = \"font-weight: bold; text-align: right;\">96</td><td style = \"text-align: right;\">6.3</td><td style = \"text-align: right;\">2.5</td><td style = \"text-align: right;\">5.0</td><td style = \"text-align: right;\">1.9</td><td style = \"text-align: left;\">virginica</td></tr><tr><td class = \"rowNumber\" style = \"font-weight: bold; text-align: right;\">97</td><td style = \"text-align: right;\">6.5</td><td style = \"text-align: right;\">3.0</td><td style = \"text-align: right;\">5.2</td><td style = \"text-align: right;\">2.0</td><td style = \"text-align: left;\">virginica</td></tr><tr><td class = \"rowNumber\" style = \"font-weight: bold; text-align: right;\">98</td><td style = \"text-align: right;\">6.2</td><td style = \"text-align: right;\">3.4</td><td style = \"text-align: right;\">5.4</td><td style = \"text-align: right;\">2.3</td><td style = \"text-align: left;\">virginica</td></tr><tr><td class = \"rowNumber\" style = \"font-weight: bold; text-align: right;\">99</td><td style = \"text-align: right;\">5.9</td><td style = \"text-align: right;\">3.0</td><td style = \"text-align: right;\">5.1</td><td style = \"text-align: right;\">1.8</td><td style = \"text-align: left;\">virginica</td></tr></tbody></table></div>"
            ],
            "text/latex": "\\begin{tabular}{r|ccccc}\n\t& SepalLength & SepalWidth & PetalLength & PetalWidth & Species\\\\\n\t\\hline\n\t& Float64 & Float64 & Float64 & Float64 & Cat…\\\\\n\t\\hline\n\t1 & 7.0 & 3.2 & 4.7 & 1.4 & versicolor \\\\\n\t2 & 6.4 & 3.2 & 4.5 & 1.5 & versicolor \\\\\n\t3 & 6.9 & 3.1 & 4.9 & 1.5 & versicolor \\\\\n\t4 & 5.5 & 2.3 & 4.0 & 1.3 & versicolor \\\\\n\t5 & 6.5 & 2.8 & 4.6 & 1.5 & versicolor \\\\\n\t6 & 5.7 & 2.8 & 4.5 & 1.3 & versicolor \\\\\n\t7 & 6.3 & 3.3 & 4.7 & 1.6 & versicolor \\\\\n\t8 & 4.9 & 2.4 & 3.3 & 1.0 & versicolor \\\\\n\t9 & 6.6 & 2.9 & 4.6 & 1.3 & versicolor \\\\\n\t10 & 5.2 & 2.7 & 3.9 & 1.4 & versicolor \\\\\n\t11 & 5.0 & 2.0 & 3.5 & 1.0 & versicolor \\\\\n\t12 & 5.9 & 3.0 & 4.2 & 1.5 & versicolor \\\\\n\t13 & 6.0 & 2.2 & 4.0 & 1.0 & versicolor \\\\\n\t14 & 6.1 & 2.9 & 4.7 & 1.4 & versicolor \\\\\n\t15 & 5.6 & 2.9 & 3.6 & 1.3 & versicolor \\\\\n\t16 & 6.7 & 3.1 & 4.4 & 1.4 & versicolor \\\\\n\t17 & 5.6 & 3.0 & 4.5 & 1.5 & versicolor \\\\\n\t18 & 5.8 & 2.7 & 4.1 & 1.0 & versicolor \\\\\n\t19 & 6.2 & 2.2 & 4.5 & 1.5 & versicolor \\\\\n\t20 & 5.6 & 2.5 & 3.9 & 1.1 & versicolor \\\\\n\t21 & 5.9 & 3.2 & 4.8 & 1.8 & versicolor \\\\\n\t22 & 6.1 & 2.8 & 4.0 & 1.3 & versicolor \\\\\n\t23 & 6.3 & 2.5 & 4.9 & 1.5 & versicolor \\\\\n\t24 & 6.1 & 2.8 & 4.7 & 1.2 & versicolor \\\\\n\t25 & 6.4 & 2.9 & 4.3 & 1.3 & versicolor \\\\\n\t26 & 6.6 & 3.0 & 4.4 & 1.4 & versicolor \\\\\n\t27 & 6.8 & 2.8 & 4.8 & 1.4 & versicolor \\\\\n\t28 & 6.7 & 3.0 & 5.0 & 1.7 & versicolor \\\\\n\t29 & 6.0 & 2.9 & 4.5 & 1.5 & versicolor \\\\\n\t30 & 5.7 & 2.6 & 3.5 & 1.0 & versicolor \\\\\n\t$\\dots$ & $\\dots$ & $\\dots$ & $\\dots$ & $\\dots$ & $\\dots$ \\\\\n\\end{tabular}\n"
          },
          "metadata": {},
          "execution_count": 29
        }
      ]
    },
    {
      "cell_type": "code",
      "source": [
        "DataFrames.subset(iris,\n",
        "                    :SepalLength => s -> s .> 4,\n",
        "                    :PetalLength => p -> p .> 3)"
      ],
      "metadata": {
        "id": "uUbyNDLojvOR",
        "outputId": "6139662e-43d0-4dc1-f429-3a44507221bd",
        "colab": {
          "base_uri": "https://localhost:8080/",
          "height": 630
        }
      },
      "execution_count": 30,
      "outputs": [
        {
          "output_type": "execute_result",
          "data": {
            "text/plain": [
              "\u001b[1m99×5 DataFrame\u001b[0m\n",
              "\u001b[1m Row \u001b[0m│\u001b[1m SepalLength \u001b[0m\u001b[1m SepalWidth \u001b[0m\u001b[1m PetalLength \u001b[0m\u001b[1m PetalWidth \u001b[0m\u001b[1m Species    \u001b[0m\n",
              "     │\u001b[90m Float64     \u001b[0m\u001b[90m Float64    \u001b[0m\u001b[90m Float64     \u001b[0m\u001b[90m Float64    \u001b[0m\u001b[90m Cat…       \u001b[0m\n",
              "─────┼──────────────────────────────────────────────────────────────\n",
              "   1 │         7.0         3.2          4.7         1.4  versicolor\n",
              "   2 │         6.4         3.2          4.5         1.5  versicolor\n",
              "   3 │         6.9         3.1          4.9         1.5  versicolor\n",
              "   4 │         5.5         2.3          4.0         1.3  versicolor\n",
              "   5 │         6.5         2.8          4.6         1.5  versicolor\n",
              "   6 │         5.7         2.8          4.5         1.3  versicolor\n",
              "   7 │         6.3         3.3          4.7         1.6  versicolor\n",
              "   8 │         4.9         2.4          3.3         1.0  versicolor\n",
              "   9 │         6.6         2.9          4.6         1.3  versicolor\n",
              "  10 │         5.2         2.7          3.9         1.4  versicolor\n",
              "  11 │         5.0         2.0          3.5         1.0  versicolor\n",
              "  ⋮  │      ⋮           ⋮            ⋮           ⋮           ⋮\n",
              "  90 │         6.7         3.1          5.6         2.4  virginica\n",
              "  91 │         6.9         3.1          5.1         2.3  virginica\n",
              "  92 │         5.8         2.7          5.1         1.9  virginica\n",
              "  93 │         6.8         3.2          5.9         2.3  virginica\n",
              "  94 │         6.7         3.3          5.7         2.5  virginica\n",
              "  95 │         6.7         3.0          5.2         2.3  virginica\n",
              "  96 │         6.3         2.5          5.0         1.9  virginica\n",
              "  97 │         6.5         3.0          5.2         2.0  virginica\n",
              "  98 │         6.2         3.4          5.4         2.3  virginica\n",
              "  99 │         5.9         3.0          5.1         1.8  virginica\n",
              "\u001b[36m                                                     78 rows omitted\u001b[0m"
            ],
            "text/html": [
              "<div><div style = \"float: left;\"><span>99×5 DataFrame</span></div><div style = \"float: right;\"><span style = \"font-style: italic;\">74 rows omitted</span></div><div style = \"clear: both;\"></div></div><div class = \"data-frame\" style = \"overflow-x: scroll;\"><table class = \"data-frame\" style = \"margin-bottom: 6px;\"><thead><tr class = \"header\"><th class = \"rowNumber\" style = \"font-weight: bold; text-align: right;\">Row</th><th style = \"text-align: left;\">SepalLength</th><th style = \"text-align: left;\">SepalWidth</th><th style = \"text-align: left;\">PetalLength</th><th style = \"text-align: left;\">PetalWidth</th><th style = \"text-align: left;\">Species</th></tr><tr class = \"subheader headerLastRow\"><th class = \"rowNumber\" style = \"font-weight: bold; text-align: right;\"></th><th title = \"Float64\" style = \"text-align: left;\">Float64</th><th title = \"Float64\" style = \"text-align: left;\">Float64</th><th title = \"Float64\" style = \"text-align: left;\">Float64</th><th title = \"Float64\" style = \"text-align: left;\">Float64</th><th title = \"CategoricalArrays.CategoricalValue{String, UInt8}\" style = \"text-align: left;\">Cat…</th></tr></thead><tbody><tr><td class = \"rowNumber\" style = \"font-weight: bold; text-align: right;\">1</td><td style = \"text-align: right;\">7.0</td><td style = \"text-align: right;\">3.2</td><td style = \"text-align: right;\">4.7</td><td style = \"text-align: right;\">1.4</td><td style = \"text-align: left;\">versicolor</td></tr><tr><td class = \"rowNumber\" style = \"font-weight: bold; text-align: right;\">2</td><td style = \"text-align: right;\">6.4</td><td style = \"text-align: right;\">3.2</td><td style = \"text-align: right;\">4.5</td><td style = \"text-align: right;\">1.5</td><td style = \"text-align: left;\">versicolor</td></tr><tr><td class = \"rowNumber\" style = \"font-weight: bold; text-align: right;\">3</td><td style = \"text-align: right;\">6.9</td><td style = \"text-align: right;\">3.1</td><td style = \"text-align: right;\">4.9</td><td style = \"text-align: right;\">1.5</td><td style = \"text-align: left;\">versicolor</td></tr><tr><td class = \"rowNumber\" style = \"font-weight: bold; text-align: right;\">4</td><td style = \"text-align: right;\">5.5</td><td style = \"text-align: right;\">2.3</td><td style = \"text-align: right;\">4.0</td><td style = \"text-align: right;\">1.3</td><td style = \"text-align: left;\">versicolor</td></tr><tr><td class = \"rowNumber\" style = \"font-weight: bold; text-align: right;\">5</td><td style = \"text-align: right;\">6.5</td><td style = \"text-align: right;\">2.8</td><td style = \"text-align: right;\">4.6</td><td style = \"text-align: right;\">1.5</td><td style = \"text-align: left;\">versicolor</td></tr><tr><td class = \"rowNumber\" style = \"font-weight: bold; text-align: right;\">6</td><td style = \"text-align: right;\">5.7</td><td style = \"text-align: right;\">2.8</td><td style = \"text-align: right;\">4.5</td><td style = \"text-align: right;\">1.3</td><td style = \"text-align: left;\">versicolor</td></tr><tr><td class = \"rowNumber\" style = \"font-weight: bold; text-align: right;\">7</td><td style = \"text-align: right;\">6.3</td><td style = \"text-align: right;\">3.3</td><td style = \"text-align: right;\">4.7</td><td style = \"text-align: right;\">1.6</td><td style = \"text-align: left;\">versicolor</td></tr><tr><td class = \"rowNumber\" style = \"font-weight: bold; text-align: right;\">8</td><td style = \"text-align: right;\">4.9</td><td style = \"text-align: right;\">2.4</td><td style = \"text-align: right;\">3.3</td><td style = \"text-align: right;\">1.0</td><td style = \"text-align: left;\">versicolor</td></tr><tr><td class = \"rowNumber\" style = \"font-weight: bold; text-align: right;\">9</td><td style = \"text-align: right;\">6.6</td><td style = \"text-align: right;\">2.9</td><td style = \"text-align: right;\">4.6</td><td style = \"text-align: right;\">1.3</td><td style = \"text-align: left;\">versicolor</td></tr><tr><td class = \"rowNumber\" style = \"font-weight: bold; text-align: right;\">10</td><td style = \"text-align: right;\">5.2</td><td style = \"text-align: right;\">2.7</td><td style = \"text-align: right;\">3.9</td><td style = \"text-align: right;\">1.4</td><td style = \"text-align: left;\">versicolor</td></tr><tr><td class = \"rowNumber\" style = \"font-weight: bold; text-align: right;\">11</td><td style = \"text-align: right;\">5.0</td><td style = \"text-align: right;\">2.0</td><td style = \"text-align: right;\">3.5</td><td style = \"text-align: right;\">1.0</td><td style = \"text-align: left;\">versicolor</td></tr><tr><td class = \"rowNumber\" style = \"font-weight: bold; text-align: right;\">12</td><td style = \"text-align: right;\">5.9</td><td style = \"text-align: right;\">3.0</td><td style = \"text-align: right;\">4.2</td><td style = \"text-align: right;\">1.5</td><td style = \"text-align: left;\">versicolor</td></tr><tr><td class = \"rowNumber\" style = \"font-weight: bold; text-align: right;\">13</td><td style = \"text-align: right;\">6.0</td><td style = \"text-align: right;\">2.2</td><td style = \"text-align: right;\">4.0</td><td style = \"text-align: right;\">1.0</td><td style = \"text-align: left;\">versicolor</td></tr><tr><td style = \"text-align: right;\">&vellip;</td><td style = \"text-align: right;\">&vellip;</td><td style = \"text-align: right;\">&vellip;</td><td style = \"text-align: right;\">&vellip;</td><td style = \"text-align: right;\">&vellip;</td><td style = \"text-align: right;\">&vellip;</td></tr><tr><td class = \"rowNumber\" style = \"font-weight: bold; text-align: right;\">88</td><td style = \"text-align: right;\">6.0</td><td style = \"text-align: right;\">3.0</td><td style = \"text-align: right;\">4.8</td><td style = \"text-align: right;\">1.8</td><td style = \"text-align: left;\">virginica</td></tr><tr><td class = \"rowNumber\" style = \"font-weight: bold; text-align: right;\">89</td><td style = \"text-align: right;\">6.9</td><td style = \"text-align: right;\">3.1</td><td style = \"text-align: right;\">5.4</td><td style = \"text-align: right;\">2.1</td><td style = \"text-align: left;\">virginica</td></tr><tr><td class = \"rowNumber\" style = \"font-weight: bold; text-align: right;\">90</td><td style = \"text-align: right;\">6.7</td><td style = \"text-align: right;\">3.1</td><td style = \"text-align: right;\">5.6</td><td style = \"text-align: right;\">2.4</td><td style = \"text-align: left;\">virginica</td></tr><tr><td class = \"rowNumber\" style = \"font-weight: bold; text-align: right;\">91</td><td style = \"text-align: right;\">6.9</td><td style = \"text-align: right;\">3.1</td><td style = \"text-align: right;\">5.1</td><td style = \"text-align: right;\">2.3</td><td style = \"text-align: left;\">virginica</td></tr><tr><td class = \"rowNumber\" style = \"font-weight: bold; text-align: right;\">92</td><td style = \"text-align: right;\">5.8</td><td style = \"text-align: right;\">2.7</td><td style = \"text-align: right;\">5.1</td><td style = \"text-align: right;\">1.9</td><td style = \"text-align: left;\">virginica</td></tr><tr><td class = \"rowNumber\" style = \"font-weight: bold; text-align: right;\">93</td><td style = \"text-align: right;\">6.8</td><td style = \"text-align: right;\">3.2</td><td style = \"text-align: right;\">5.9</td><td style = \"text-align: right;\">2.3</td><td style = \"text-align: left;\">virginica</td></tr><tr><td class = \"rowNumber\" style = \"font-weight: bold; text-align: right;\">94</td><td style = \"text-align: right;\">6.7</td><td style = \"text-align: right;\">3.3</td><td style = \"text-align: right;\">5.7</td><td style = \"text-align: right;\">2.5</td><td style = \"text-align: left;\">virginica</td></tr><tr><td class = \"rowNumber\" style = \"font-weight: bold; text-align: right;\">95</td><td style = \"text-align: right;\">6.7</td><td style = \"text-align: right;\">3.0</td><td style = \"text-align: right;\">5.2</td><td style = \"text-align: right;\">2.3</td><td style = \"text-align: left;\">virginica</td></tr><tr><td class = \"rowNumber\" style = \"font-weight: bold; text-align: right;\">96</td><td style = \"text-align: right;\">6.3</td><td style = \"text-align: right;\">2.5</td><td style = \"text-align: right;\">5.0</td><td style = \"text-align: right;\">1.9</td><td style = \"text-align: left;\">virginica</td></tr><tr><td class = \"rowNumber\" style = \"font-weight: bold; text-align: right;\">97</td><td style = \"text-align: right;\">6.5</td><td style = \"text-align: right;\">3.0</td><td style = \"text-align: right;\">5.2</td><td style = \"text-align: right;\">2.0</td><td style = \"text-align: left;\">virginica</td></tr><tr><td class = \"rowNumber\" style = \"font-weight: bold; text-align: right;\">98</td><td style = \"text-align: right;\">6.2</td><td style = \"text-align: right;\">3.4</td><td style = \"text-align: right;\">5.4</td><td style = \"text-align: right;\">2.3</td><td style = \"text-align: left;\">virginica</td></tr><tr><td class = \"rowNumber\" style = \"font-weight: bold; text-align: right;\">99</td><td style = \"text-align: right;\">5.9</td><td style = \"text-align: right;\">3.0</td><td style = \"text-align: right;\">5.1</td><td style = \"text-align: right;\">1.8</td><td style = \"text-align: left;\">virginica</td></tr></tbody></table></div>"
            ],
            "text/latex": "\\begin{tabular}{r|ccccc}\n\t& SepalLength & SepalWidth & PetalLength & PetalWidth & Species\\\\\n\t\\hline\n\t& Float64 & Float64 & Float64 & Float64 & Cat…\\\\\n\t\\hline\n\t1 & 7.0 & 3.2 & 4.7 & 1.4 & versicolor \\\\\n\t2 & 6.4 & 3.2 & 4.5 & 1.5 & versicolor \\\\\n\t3 & 6.9 & 3.1 & 4.9 & 1.5 & versicolor \\\\\n\t4 & 5.5 & 2.3 & 4.0 & 1.3 & versicolor \\\\\n\t5 & 6.5 & 2.8 & 4.6 & 1.5 & versicolor \\\\\n\t6 & 5.7 & 2.8 & 4.5 & 1.3 & versicolor \\\\\n\t7 & 6.3 & 3.3 & 4.7 & 1.6 & versicolor \\\\\n\t8 & 4.9 & 2.4 & 3.3 & 1.0 & versicolor \\\\\n\t9 & 6.6 & 2.9 & 4.6 & 1.3 & versicolor \\\\\n\t10 & 5.2 & 2.7 & 3.9 & 1.4 & versicolor \\\\\n\t11 & 5.0 & 2.0 & 3.5 & 1.0 & versicolor \\\\\n\t12 & 5.9 & 3.0 & 4.2 & 1.5 & versicolor \\\\\n\t13 & 6.0 & 2.2 & 4.0 & 1.0 & versicolor \\\\\n\t14 & 6.1 & 2.9 & 4.7 & 1.4 & versicolor \\\\\n\t15 & 5.6 & 2.9 & 3.6 & 1.3 & versicolor \\\\\n\t16 & 6.7 & 3.1 & 4.4 & 1.4 & versicolor \\\\\n\t17 & 5.6 & 3.0 & 4.5 & 1.5 & versicolor \\\\\n\t18 & 5.8 & 2.7 & 4.1 & 1.0 & versicolor \\\\\n\t19 & 6.2 & 2.2 & 4.5 & 1.5 & versicolor \\\\\n\t20 & 5.6 & 2.5 & 3.9 & 1.1 & versicolor \\\\\n\t21 & 5.9 & 3.2 & 4.8 & 1.8 & versicolor \\\\\n\t22 & 6.1 & 2.8 & 4.0 & 1.3 & versicolor \\\\\n\t23 & 6.3 & 2.5 & 4.9 & 1.5 & versicolor \\\\\n\t24 & 6.1 & 2.8 & 4.7 & 1.2 & versicolor \\\\\n\t25 & 6.4 & 2.9 & 4.3 & 1.3 & versicolor \\\\\n\t26 & 6.6 & 3.0 & 4.4 & 1.4 & versicolor \\\\\n\t27 & 6.8 & 2.8 & 4.8 & 1.4 & versicolor \\\\\n\t28 & 6.7 & 3.0 & 5.0 & 1.7 & versicolor \\\\\n\t29 & 6.0 & 2.9 & 4.5 & 1.5 & versicolor \\\\\n\t30 & 5.7 & 2.6 & 3.5 & 1.0 & versicolor \\\\\n\t$\\dots$ & $\\dots$ & $\\dots$ & $\\dots$ & $\\dots$ & $\\dots$ \\\\\n\\end{tabular}\n"
          },
          "metadata": {},
          "execution_count": 30
        }
      ]
    },
    {
      "cell_type": "code",
      "source": [
        "DataFrames.subset(iris, :Species => s -> s .== \"setosa\")"
      ],
      "metadata": {
        "id": "QilyHqNDjxCe",
        "outputId": "0829d073-4a65-4758-fc8c-e81909fad9bd",
        "colab": {
          "base_uri": "https://localhost:8080/",
          "height": 630
        }
      },
      "execution_count": 31,
      "outputs": [
        {
          "output_type": "execute_result",
          "data": {
            "text/plain": [
              "\u001b[1m50×5 DataFrame\u001b[0m\n",
              "\u001b[1m Row \u001b[0m│\u001b[1m SepalLength \u001b[0m\u001b[1m SepalWidth \u001b[0m\u001b[1m PetalLength \u001b[0m\u001b[1m PetalWidth \u001b[0m\u001b[1m Species \u001b[0m\n",
              "     │\u001b[90m Float64     \u001b[0m\u001b[90m Float64    \u001b[0m\u001b[90m Float64     \u001b[0m\u001b[90m Float64    \u001b[0m\u001b[90m Cat…    \u001b[0m\n",
              "─────┼───────────────────────────────────────────────────────────\n",
              "   1 │         5.1         3.5          1.4         0.2  setosa\n",
              "   2 │         4.9         3.0          1.4         0.2  setosa\n",
              "   3 │         4.7         3.2          1.3         0.2  setosa\n",
              "   4 │         4.6         3.1          1.5         0.2  setosa\n",
              "   5 │         5.0         3.6          1.4         0.2  setosa\n",
              "   6 │         5.4         3.9          1.7         0.4  setosa\n",
              "   7 │         4.6         3.4          1.4         0.3  setosa\n",
              "   8 │         5.0         3.4          1.5         0.2  setosa\n",
              "   9 │         4.4         2.9          1.4         0.2  setosa\n",
              "  10 │         4.9         3.1          1.5         0.1  setosa\n",
              "  11 │         5.4         3.7          1.5         0.2  setosa\n",
              "  ⋮  │      ⋮           ⋮            ⋮           ⋮          ⋮\n",
              "  41 │         5.0         3.5          1.3         0.3  setosa\n",
              "  42 │         4.5         2.3          1.3         0.3  setosa\n",
              "  43 │         4.4         3.2          1.3         0.2  setosa\n",
              "  44 │         5.0         3.5          1.6         0.6  setosa\n",
              "  45 │         5.1         3.8          1.9         0.4  setosa\n",
              "  46 │         4.8         3.0          1.4         0.3  setosa\n",
              "  47 │         5.1         3.8          1.6         0.2  setosa\n",
              "  48 │         4.6         3.2          1.4         0.2  setosa\n",
              "  49 │         5.3         3.7          1.5         0.2  setosa\n",
              "  50 │         5.0         3.3          1.4         0.2  setosa\n",
              "\u001b[36m                                                  29 rows omitted\u001b[0m"
            ],
            "text/html": [
              "<div><div style = \"float: left;\"><span>50×5 DataFrame</span></div><div style = \"float: right;\"><span style = \"font-style: italic;\">25 rows omitted</span></div><div style = \"clear: both;\"></div></div><div class = \"data-frame\" style = \"overflow-x: scroll;\"><table class = \"data-frame\" style = \"margin-bottom: 6px;\"><thead><tr class = \"header\"><th class = \"rowNumber\" style = \"font-weight: bold; text-align: right;\">Row</th><th style = \"text-align: left;\">SepalLength</th><th style = \"text-align: left;\">SepalWidth</th><th style = \"text-align: left;\">PetalLength</th><th style = \"text-align: left;\">PetalWidth</th><th style = \"text-align: left;\">Species</th></tr><tr class = \"subheader headerLastRow\"><th class = \"rowNumber\" style = \"font-weight: bold; text-align: right;\"></th><th title = \"Float64\" style = \"text-align: left;\">Float64</th><th title = \"Float64\" style = \"text-align: left;\">Float64</th><th title = \"Float64\" style = \"text-align: left;\">Float64</th><th title = \"Float64\" style = \"text-align: left;\">Float64</th><th title = \"CategoricalArrays.CategoricalValue{String, UInt8}\" style = \"text-align: left;\">Cat…</th></tr></thead><tbody><tr><td class = \"rowNumber\" style = \"font-weight: bold; text-align: right;\">1</td><td style = \"text-align: right;\">5.1</td><td style = \"text-align: right;\">3.5</td><td style = \"text-align: right;\">1.4</td><td style = \"text-align: right;\">0.2</td><td style = \"text-align: left;\">setosa</td></tr><tr><td class = \"rowNumber\" style = \"font-weight: bold; text-align: right;\">2</td><td style = \"text-align: right;\">4.9</td><td style = \"text-align: right;\">3.0</td><td style = \"text-align: right;\">1.4</td><td style = \"text-align: right;\">0.2</td><td style = \"text-align: left;\">setosa</td></tr><tr><td class = \"rowNumber\" style = \"font-weight: bold; text-align: right;\">3</td><td style = \"text-align: right;\">4.7</td><td style = \"text-align: right;\">3.2</td><td style = \"text-align: right;\">1.3</td><td style = \"text-align: right;\">0.2</td><td style = \"text-align: left;\">setosa</td></tr><tr><td class = \"rowNumber\" style = \"font-weight: bold; text-align: right;\">4</td><td style = \"text-align: right;\">4.6</td><td style = \"text-align: right;\">3.1</td><td style = \"text-align: right;\">1.5</td><td style = \"text-align: right;\">0.2</td><td style = \"text-align: left;\">setosa</td></tr><tr><td class = \"rowNumber\" style = \"font-weight: bold; text-align: right;\">5</td><td style = \"text-align: right;\">5.0</td><td style = \"text-align: right;\">3.6</td><td style = \"text-align: right;\">1.4</td><td style = \"text-align: right;\">0.2</td><td style = \"text-align: left;\">setosa</td></tr><tr><td class = \"rowNumber\" style = \"font-weight: bold; text-align: right;\">6</td><td style = \"text-align: right;\">5.4</td><td style = \"text-align: right;\">3.9</td><td style = \"text-align: right;\">1.7</td><td style = \"text-align: right;\">0.4</td><td style = \"text-align: left;\">setosa</td></tr><tr><td class = \"rowNumber\" style = \"font-weight: bold; text-align: right;\">7</td><td style = \"text-align: right;\">4.6</td><td style = \"text-align: right;\">3.4</td><td style = \"text-align: right;\">1.4</td><td style = \"text-align: right;\">0.3</td><td style = \"text-align: left;\">setosa</td></tr><tr><td class = \"rowNumber\" style = \"font-weight: bold; text-align: right;\">8</td><td style = \"text-align: right;\">5.0</td><td style = \"text-align: right;\">3.4</td><td style = \"text-align: right;\">1.5</td><td style = \"text-align: right;\">0.2</td><td style = \"text-align: left;\">setosa</td></tr><tr><td class = \"rowNumber\" style = \"font-weight: bold; text-align: right;\">9</td><td style = \"text-align: right;\">4.4</td><td style = \"text-align: right;\">2.9</td><td style = \"text-align: right;\">1.4</td><td style = \"text-align: right;\">0.2</td><td style = \"text-align: left;\">setosa</td></tr><tr><td class = \"rowNumber\" style = \"font-weight: bold; text-align: right;\">10</td><td style = \"text-align: right;\">4.9</td><td style = \"text-align: right;\">3.1</td><td style = \"text-align: right;\">1.5</td><td style = \"text-align: right;\">0.1</td><td style = \"text-align: left;\">setosa</td></tr><tr><td class = \"rowNumber\" style = \"font-weight: bold; text-align: right;\">11</td><td style = \"text-align: right;\">5.4</td><td style = \"text-align: right;\">3.7</td><td style = \"text-align: right;\">1.5</td><td style = \"text-align: right;\">0.2</td><td style = \"text-align: left;\">setosa</td></tr><tr><td class = \"rowNumber\" style = \"font-weight: bold; text-align: right;\">12</td><td style = \"text-align: right;\">4.8</td><td style = \"text-align: right;\">3.4</td><td style = \"text-align: right;\">1.6</td><td style = \"text-align: right;\">0.2</td><td style = \"text-align: left;\">setosa</td></tr><tr><td class = \"rowNumber\" style = \"font-weight: bold; text-align: right;\">13</td><td style = \"text-align: right;\">4.8</td><td style = \"text-align: right;\">3.0</td><td style = \"text-align: right;\">1.4</td><td style = \"text-align: right;\">0.1</td><td style = \"text-align: left;\">setosa</td></tr><tr><td style = \"text-align: right;\">&vellip;</td><td style = \"text-align: right;\">&vellip;</td><td style = \"text-align: right;\">&vellip;</td><td style = \"text-align: right;\">&vellip;</td><td style = \"text-align: right;\">&vellip;</td><td style = \"text-align: right;\">&vellip;</td></tr><tr><td class = \"rowNumber\" style = \"font-weight: bold; text-align: right;\">39</td><td style = \"text-align: right;\">4.4</td><td style = \"text-align: right;\">3.0</td><td style = \"text-align: right;\">1.3</td><td style = \"text-align: right;\">0.2</td><td style = \"text-align: left;\">setosa</td></tr><tr><td class = \"rowNumber\" style = \"font-weight: bold; text-align: right;\">40</td><td style = \"text-align: right;\">5.1</td><td style = \"text-align: right;\">3.4</td><td style = \"text-align: right;\">1.5</td><td style = \"text-align: right;\">0.2</td><td style = \"text-align: left;\">setosa</td></tr><tr><td class = \"rowNumber\" style = \"font-weight: bold; text-align: right;\">41</td><td style = \"text-align: right;\">5.0</td><td style = \"text-align: right;\">3.5</td><td style = \"text-align: right;\">1.3</td><td style = \"text-align: right;\">0.3</td><td style = \"text-align: left;\">setosa</td></tr><tr><td class = \"rowNumber\" style = \"font-weight: bold; text-align: right;\">42</td><td style = \"text-align: right;\">4.5</td><td style = \"text-align: right;\">2.3</td><td style = \"text-align: right;\">1.3</td><td style = \"text-align: right;\">0.3</td><td style = \"text-align: left;\">setosa</td></tr><tr><td class = \"rowNumber\" style = \"font-weight: bold; text-align: right;\">43</td><td style = \"text-align: right;\">4.4</td><td style = \"text-align: right;\">3.2</td><td style = \"text-align: right;\">1.3</td><td style = \"text-align: right;\">0.2</td><td style = \"text-align: left;\">setosa</td></tr><tr><td class = \"rowNumber\" style = \"font-weight: bold; text-align: right;\">44</td><td style = \"text-align: right;\">5.0</td><td style = \"text-align: right;\">3.5</td><td style = \"text-align: right;\">1.6</td><td style = \"text-align: right;\">0.6</td><td style = \"text-align: left;\">setosa</td></tr><tr><td class = \"rowNumber\" style = \"font-weight: bold; text-align: right;\">45</td><td style = \"text-align: right;\">5.1</td><td style = \"text-align: right;\">3.8</td><td style = \"text-align: right;\">1.9</td><td style = \"text-align: right;\">0.4</td><td style = \"text-align: left;\">setosa</td></tr><tr><td class = \"rowNumber\" style = \"font-weight: bold; text-align: right;\">46</td><td style = \"text-align: right;\">4.8</td><td style = \"text-align: right;\">3.0</td><td style = \"text-align: right;\">1.4</td><td style = \"text-align: right;\">0.3</td><td style = \"text-align: left;\">setosa</td></tr><tr><td class = \"rowNumber\" style = \"font-weight: bold; text-align: right;\">47</td><td style = \"text-align: right;\">5.1</td><td style = \"text-align: right;\">3.8</td><td style = \"text-align: right;\">1.6</td><td style = \"text-align: right;\">0.2</td><td style = \"text-align: left;\">setosa</td></tr><tr><td class = \"rowNumber\" style = \"font-weight: bold; text-align: right;\">48</td><td style = \"text-align: right;\">4.6</td><td style = \"text-align: right;\">3.2</td><td style = \"text-align: right;\">1.4</td><td style = \"text-align: right;\">0.2</td><td style = \"text-align: left;\">setosa</td></tr><tr><td class = \"rowNumber\" style = \"font-weight: bold; text-align: right;\">49</td><td style = \"text-align: right;\">5.3</td><td style = \"text-align: right;\">3.7</td><td style = \"text-align: right;\">1.5</td><td style = \"text-align: right;\">0.2</td><td style = \"text-align: left;\">setosa</td></tr><tr><td class = \"rowNumber\" style = \"font-weight: bold; text-align: right;\">50</td><td style = \"text-align: right;\">5.0</td><td style = \"text-align: right;\">3.3</td><td style = \"text-align: right;\">1.4</td><td style = \"text-align: right;\">0.2</td><td style = \"text-align: left;\">setosa</td></tr></tbody></table></div>"
            ],
            "text/latex": "\\begin{tabular}{r|ccccc}\n\t& SepalLength & SepalWidth & PetalLength & PetalWidth & Species\\\\\n\t\\hline\n\t& Float64 & Float64 & Float64 & Float64 & Cat…\\\\\n\t\\hline\n\t1 & 5.1 & 3.5 & 1.4 & 0.2 & setosa \\\\\n\t2 & 4.9 & 3.0 & 1.4 & 0.2 & setosa \\\\\n\t3 & 4.7 & 3.2 & 1.3 & 0.2 & setosa \\\\\n\t4 & 4.6 & 3.1 & 1.5 & 0.2 & setosa \\\\\n\t5 & 5.0 & 3.6 & 1.4 & 0.2 & setosa \\\\\n\t6 & 5.4 & 3.9 & 1.7 & 0.4 & setosa \\\\\n\t7 & 4.6 & 3.4 & 1.4 & 0.3 & setosa \\\\\n\t8 & 5.0 & 3.4 & 1.5 & 0.2 & setosa \\\\\n\t9 & 4.4 & 2.9 & 1.4 & 0.2 & setosa \\\\\n\t10 & 4.9 & 3.1 & 1.5 & 0.1 & setosa \\\\\n\t11 & 5.4 & 3.7 & 1.5 & 0.2 & setosa \\\\\n\t12 & 4.8 & 3.4 & 1.6 & 0.2 & setosa \\\\\n\t13 & 4.8 & 3.0 & 1.4 & 0.1 & setosa \\\\\n\t14 & 4.3 & 3.0 & 1.1 & 0.1 & setosa \\\\\n\t15 & 5.8 & 4.0 & 1.2 & 0.2 & setosa \\\\\n\t16 & 5.7 & 4.4 & 1.5 & 0.4 & setosa \\\\\n\t17 & 5.4 & 3.9 & 1.3 & 0.4 & setosa \\\\\n\t18 & 5.1 & 3.5 & 1.4 & 0.3 & setosa \\\\\n\t19 & 5.7 & 3.8 & 1.7 & 0.3 & setosa \\\\\n\t20 & 5.1 & 3.8 & 1.5 & 0.3 & setosa \\\\\n\t21 & 5.4 & 3.4 & 1.7 & 0.2 & setosa \\\\\n\t22 & 5.1 & 3.7 & 1.5 & 0.4 & setosa \\\\\n\t23 & 4.6 & 3.6 & 1.0 & 0.2 & setosa \\\\\n\t24 & 5.1 & 3.3 & 1.7 & 0.5 & setosa \\\\\n\t25 & 4.8 & 3.4 & 1.9 & 0.2 & setosa \\\\\n\t26 & 5.0 & 3.0 & 1.6 & 0.2 & setosa \\\\\n\t27 & 5.0 & 3.4 & 1.6 & 0.4 & setosa \\\\\n\t28 & 5.2 & 3.5 & 1.5 & 0.2 & setosa \\\\\n\t29 & 5.2 & 3.4 & 1.4 & 0.2 & setosa \\\\\n\t30 & 4.7 & 3.2 & 1.6 & 0.2 & setosa \\\\\n\t$\\dots$ & $\\dots$ & $\\dots$ & $\\dots$ & $\\dots$ & $\\dots$ \\\\\n\\end{tabular}\n"
          },
          "metadata": {},
          "execution_count": 31
        }
      ]
    },
    {
      "cell_type": "code",
      "source": [
        "iriscopy = copy(iris)"
      ],
      "metadata": {
        "id": "a00NFl-pjyhY",
        "outputId": "3f5deddb-a7e5-40d2-81e4-c39774bfb79c",
        "colab": {
          "base_uri": "https://localhost:8080/",
          "height": 630
        }
      },
      "execution_count": 32,
      "outputs": [
        {
          "output_type": "execute_result",
          "data": {
            "text/plain": [
              "\u001b[1m150×5 DataFrame\u001b[0m\n",
              "\u001b[1m Row \u001b[0m│\u001b[1m SepalLength \u001b[0m\u001b[1m SepalWidth \u001b[0m\u001b[1m PetalLength \u001b[0m\u001b[1m PetalWidth \u001b[0m\u001b[1m Species   \u001b[0m\n",
              "     │\u001b[90m Float64     \u001b[0m\u001b[90m Float64    \u001b[0m\u001b[90m Float64     \u001b[0m\u001b[90m Float64    \u001b[0m\u001b[90m Cat…      \u001b[0m\n",
              "─────┼─────────────────────────────────────────────────────────────\n",
              "   1 │         5.1         3.5          1.4         0.2  setosa\n",
              "   2 │         4.9         3.0          1.4         0.2  setosa\n",
              "   3 │         4.7         3.2          1.3         0.2  setosa\n",
              "   4 │         4.6         3.1          1.5         0.2  setosa\n",
              "   5 │         5.0         3.6          1.4         0.2  setosa\n",
              "   6 │         5.4         3.9          1.7         0.4  setosa\n",
              "   7 │         4.6         3.4          1.4         0.3  setosa\n",
              "   8 │         5.0         3.4          1.5         0.2  setosa\n",
              "   9 │         4.4         2.9          1.4         0.2  setosa\n",
              "  10 │         4.9         3.1          1.5         0.1  setosa\n",
              "  11 │         5.4         3.7          1.5         0.2  setosa\n",
              "  ⋮  │      ⋮           ⋮            ⋮           ⋮           ⋮\n",
              " 141 │         6.7         3.1          5.6         2.4  virginica\n",
              " 142 │         6.9         3.1          5.1         2.3  virginica\n",
              " 143 │         5.8         2.7          5.1         1.9  virginica\n",
              " 144 │         6.8         3.2          5.9         2.3  virginica\n",
              " 145 │         6.7         3.3          5.7         2.5  virginica\n",
              " 146 │         6.7         3.0          5.2         2.3  virginica\n",
              " 147 │         6.3         2.5          5.0         1.9  virginica\n",
              " 148 │         6.5         3.0          5.2         2.0  virginica\n",
              " 149 │         6.2         3.4          5.4         2.3  virginica\n",
              " 150 │         5.9         3.0          5.1         1.8  virginica\n",
              "\u001b[36m                                                   129 rows omitted\u001b[0m"
            ],
            "text/html": [
              "<div><div style = \"float: left;\"><span>150×5 DataFrame</span></div><div style = \"float: right;\"><span style = \"font-style: italic;\">125 rows omitted</span></div><div style = \"clear: both;\"></div></div><div class = \"data-frame\" style = \"overflow-x: scroll;\"><table class = \"data-frame\" style = \"margin-bottom: 6px;\"><thead><tr class = \"header\"><th class = \"rowNumber\" style = \"font-weight: bold; text-align: right;\">Row</th><th style = \"text-align: left;\">SepalLength</th><th style = \"text-align: left;\">SepalWidth</th><th style = \"text-align: left;\">PetalLength</th><th style = \"text-align: left;\">PetalWidth</th><th style = \"text-align: left;\">Species</th></tr><tr class = \"subheader headerLastRow\"><th class = \"rowNumber\" style = \"font-weight: bold; text-align: right;\"></th><th title = \"Float64\" style = \"text-align: left;\">Float64</th><th title = \"Float64\" style = \"text-align: left;\">Float64</th><th title = \"Float64\" style = \"text-align: left;\">Float64</th><th title = \"Float64\" style = \"text-align: left;\">Float64</th><th title = \"CategoricalArrays.CategoricalValue{String, UInt8}\" style = \"text-align: left;\">Cat…</th></tr></thead><tbody><tr><td class = \"rowNumber\" style = \"font-weight: bold; text-align: right;\">1</td><td style = \"text-align: right;\">5.1</td><td style = \"text-align: right;\">3.5</td><td style = \"text-align: right;\">1.4</td><td style = \"text-align: right;\">0.2</td><td style = \"text-align: left;\">setosa</td></tr><tr><td class = \"rowNumber\" style = \"font-weight: bold; text-align: right;\">2</td><td style = \"text-align: right;\">4.9</td><td style = \"text-align: right;\">3.0</td><td style = \"text-align: right;\">1.4</td><td style = \"text-align: right;\">0.2</td><td style = \"text-align: left;\">setosa</td></tr><tr><td class = \"rowNumber\" style = \"font-weight: bold; text-align: right;\">3</td><td style = \"text-align: right;\">4.7</td><td style = \"text-align: right;\">3.2</td><td style = \"text-align: right;\">1.3</td><td style = \"text-align: right;\">0.2</td><td style = \"text-align: left;\">setosa</td></tr><tr><td class = \"rowNumber\" style = \"font-weight: bold; text-align: right;\">4</td><td style = \"text-align: right;\">4.6</td><td style = \"text-align: right;\">3.1</td><td style = \"text-align: right;\">1.5</td><td style = \"text-align: right;\">0.2</td><td style = \"text-align: left;\">setosa</td></tr><tr><td class = \"rowNumber\" style = \"font-weight: bold; text-align: right;\">5</td><td style = \"text-align: right;\">5.0</td><td style = \"text-align: right;\">3.6</td><td style = \"text-align: right;\">1.4</td><td style = \"text-align: right;\">0.2</td><td style = \"text-align: left;\">setosa</td></tr><tr><td class = \"rowNumber\" style = \"font-weight: bold; text-align: right;\">6</td><td style = \"text-align: right;\">5.4</td><td style = \"text-align: right;\">3.9</td><td style = \"text-align: right;\">1.7</td><td style = \"text-align: right;\">0.4</td><td style = \"text-align: left;\">setosa</td></tr><tr><td class = \"rowNumber\" style = \"font-weight: bold; text-align: right;\">7</td><td style = \"text-align: right;\">4.6</td><td style = \"text-align: right;\">3.4</td><td style = \"text-align: right;\">1.4</td><td style = \"text-align: right;\">0.3</td><td style = \"text-align: left;\">setosa</td></tr><tr><td class = \"rowNumber\" style = \"font-weight: bold; text-align: right;\">8</td><td style = \"text-align: right;\">5.0</td><td style = \"text-align: right;\">3.4</td><td style = \"text-align: right;\">1.5</td><td style = \"text-align: right;\">0.2</td><td style = \"text-align: left;\">setosa</td></tr><tr><td class = \"rowNumber\" style = \"font-weight: bold; text-align: right;\">9</td><td style = \"text-align: right;\">4.4</td><td style = \"text-align: right;\">2.9</td><td style = \"text-align: right;\">1.4</td><td style = \"text-align: right;\">0.2</td><td style = \"text-align: left;\">setosa</td></tr><tr><td class = \"rowNumber\" style = \"font-weight: bold; text-align: right;\">10</td><td style = \"text-align: right;\">4.9</td><td style = \"text-align: right;\">3.1</td><td style = \"text-align: right;\">1.5</td><td style = \"text-align: right;\">0.1</td><td style = \"text-align: left;\">setosa</td></tr><tr><td class = \"rowNumber\" style = \"font-weight: bold; text-align: right;\">11</td><td style = \"text-align: right;\">5.4</td><td style = \"text-align: right;\">3.7</td><td style = \"text-align: right;\">1.5</td><td style = \"text-align: right;\">0.2</td><td style = \"text-align: left;\">setosa</td></tr><tr><td class = \"rowNumber\" style = \"font-weight: bold; text-align: right;\">12</td><td style = \"text-align: right;\">4.8</td><td style = \"text-align: right;\">3.4</td><td style = \"text-align: right;\">1.6</td><td style = \"text-align: right;\">0.2</td><td style = \"text-align: left;\">setosa</td></tr><tr><td class = \"rowNumber\" style = \"font-weight: bold; text-align: right;\">13</td><td style = \"text-align: right;\">4.8</td><td style = \"text-align: right;\">3.0</td><td style = \"text-align: right;\">1.4</td><td style = \"text-align: right;\">0.1</td><td style = \"text-align: left;\">setosa</td></tr><tr><td style = \"text-align: right;\">&vellip;</td><td style = \"text-align: right;\">&vellip;</td><td style = \"text-align: right;\">&vellip;</td><td style = \"text-align: right;\">&vellip;</td><td style = \"text-align: right;\">&vellip;</td><td style = \"text-align: right;\">&vellip;</td></tr><tr><td class = \"rowNumber\" style = \"font-weight: bold; text-align: right;\">139</td><td style = \"text-align: right;\">6.0</td><td style = \"text-align: right;\">3.0</td><td style = \"text-align: right;\">4.8</td><td style = \"text-align: right;\">1.8</td><td style = \"text-align: left;\">virginica</td></tr><tr><td class = \"rowNumber\" style = \"font-weight: bold; text-align: right;\">140</td><td style = \"text-align: right;\">6.9</td><td style = \"text-align: right;\">3.1</td><td style = \"text-align: right;\">5.4</td><td style = \"text-align: right;\">2.1</td><td style = \"text-align: left;\">virginica</td></tr><tr><td class = \"rowNumber\" style = \"font-weight: bold; text-align: right;\">141</td><td style = \"text-align: right;\">6.7</td><td style = \"text-align: right;\">3.1</td><td style = \"text-align: right;\">5.6</td><td style = \"text-align: right;\">2.4</td><td style = \"text-align: left;\">virginica</td></tr><tr><td class = \"rowNumber\" style = \"font-weight: bold; text-align: right;\">142</td><td style = \"text-align: right;\">6.9</td><td style = \"text-align: right;\">3.1</td><td style = \"text-align: right;\">5.1</td><td style = \"text-align: right;\">2.3</td><td style = \"text-align: left;\">virginica</td></tr><tr><td class = \"rowNumber\" style = \"font-weight: bold; text-align: right;\">143</td><td style = \"text-align: right;\">5.8</td><td style = \"text-align: right;\">2.7</td><td style = \"text-align: right;\">5.1</td><td style = \"text-align: right;\">1.9</td><td style = \"text-align: left;\">virginica</td></tr><tr><td class = \"rowNumber\" style = \"font-weight: bold; text-align: right;\">144</td><td style = \"text-align: right;\">6.8</td><td style = \"text-align: right;\">3.2</td><td style = \"text-align: right;\">5.9</td><td style = \"text-align: right;\">2.3</td><td style = \"text-align: left;\">virginica</td></tr><tr><td class = \"rowNumber\" style = \"font-weight: bold; text-align: right;\">145</td><td style = \"text-align: right;\">6.7</td><td style = \"text-align: right;\">3.3</td><td style = \"text-align: right;\">5.7</td><td style = \"text-align: right;\">2.5</td><td style = \"text-align: left;\">virginica</td></tr><tr><td class = \"rowNumber\" style = \"font-weight: bold; text-align: right;\">146</td><td style = \"text-align: right;\">6.7</td><td style = \"text-align: right;\">3.0</td><td style = \"text-align: right;\">5.2</td><td style = \"text-align: right;\">2.3</td><td style = \"text-align: left;\">virginica</td></tr><tr><td class = \"rowNumber\" style = \"font-weight: bold; text-align: right;\">147</td><td style = \"text-align: right;\">6.3</td><td style = \"text-align: right;\">2.5</td><td style = \"text-align: right;\">5.0</td><td style = \"text-align: right;\">1.9</td><td style = \"text-align: left;\">virginica</td></tr><tr><td class = \"rowNumber\" style = \"font-weight: bold; text-align: right;\">148</td><td style = \"text-align: right;\">6.5</td><td style = \"text-align: right;\">3.0</td><td style = \"text-align: right;\">5.2</td><td style = \"text-align: right;\">2.0</td><td style = \"text-align: left;\">virginica</td></tr><tr><td class = \"rowNumber\" style = \"font-weight: bold; text-align: right;\">149</td><td style = \"text-align: right;\">6.2</td><td style = \"text-align: right;\">3.4</td><td style = \"text-align: right;\">5.4</td><td style = \"text-align: right;\">2.3</td><td style = \"text-align: left;\">virginica</td></tr><tr><td class = \"rowNumber\" style = \"font-weight: bold; text-align: right;\">150</td><td style = \"text-align: right;\">5.9</td><td style = \"text-align: right;\">3.0</td><td style = \"text-align: right;\">5.1</td><td style = \"text-align: right;\">1.8</td><td style = \"text-align: left;\">virginica</td></tr></tbody></table></div>"
            ],
            "text/latex": "\\begin{tabular}{r|ccccc}\n\t& SepalLength & SepalWidth & PetalLength & PetalWidth & Species\\\\\n\t\\hline\n\t& Float64 & Float64 & Float64 & Float64 & Cat…\\\\\n\t\\hline\n\t1 & 5.1 & 3.5 & 1.4 & 0.2 & setosa \\\\\n\t2 & 4.9 & 3.0 & 1.4 & 0.2 & setosa \\\\\n\t3 & 4.7 & 3.2 & 1.3 & 0.2 & setosa \\\\\n\t4 & 4.6 & 3.1 & 1.5 & 0.2 & setosa \\\\\n\t5 & 5.0 & 3.6 & 1.4 & 0.2 & setosa \\\\\n\t6 & 5.4 & 3.9 & 1.7 & 0.4 & setosa \\\\\n\t7 & 4.6 & 3.4 & 1.4 & 0.3 & setosa \\\\\n\t8 & 5.0 & 3.4 & 1.5 & 0.2 & setosa \\\\\n\t9 & 4.4 & 2.9 & 1.4 & 0.2 & setosa \\\\\n\t10 & 4.9 & 3.1 & 1.5 & 0.1 & setosa \\\\\n\t11 & 5.4 & 3.7 & 1.5 & 0.2 & setosa \\\\\n\t12 & 4.8 & 3.4 & 1.6 & 0.2 & setosa \\\\\n\t13 & 4.8 & 3.0 & 1.4 & 0.1 & setosa \\\\\n\t14 & 4.3 & 3.0 & 1.1 & 0.1 & setosa \\\\\n\t15 & 5.8 & 4.0 & 1.2 & 0.2 & setosa \\\\\n\t16 & 5.7 & 4.4 & 1.5 & 0.4 & setosa \\\\\n\t17 & 5.4 & 3.9 & 1.3 & 0.4 & setosa \\\\\n\t18 & 5.1 & 3.5 & 1.4 & 0.3 & setosa \\\\\n\t19 & 5.7 & 3.8 & 1.7 & 0.3 & setosa \\\\\n\t20 & 5.1 & 3.8 & 1.5 & 0.3 & setosa \\\\\n\t21 & 5.4 & 3.4 & 1.7 & 0.2 & setosa \\\\\n\t22 & 5.1 & 3.7 & 1.5 & 0.4 & setosa \\\\\n\t23 & 4.6 & 3.6 & 1.0 & 0.2 & setosa \\\\\n\t24 & 5.1 & 3.3 & 1.7 & 0.5 & setosa \\\\\n\t25 & 4.8 & 3.4 & 1.9 & 0.2 & setosa \\\\\n\t26 & 5.0 & 3.0 & 1.6 & 0.2 & setosa \\\\\n\t27 & 5.0 & 3.4 & 1.6 & 0.4 & setosa \\\\\n\t28 & 5.2 & 3.5 & 1.5 & 0.2 & setosa \\\\\n\t29 & 5.2 & 3.4 & 1.4 & 0.2 & setosa \\\\\n\t30 & 4.7 & 3.2 & 1.6 & 0.2 & setosa \\\\\n\t$\\dots$ & $\\dots$ & $\\dots$ & $\\dots$ & $\\dots$ & $\\dots$ \\\\\n\\end{tabular}\n"
          },
          "metadata": {},
          "execution_count": 32
        }
      ]
    },
    {
      "cell_type": "code",
      "source": [
        "DataFrames.subset!(iriscopy, :Species => s -> s .== \"setosa\")"
      ],
      "metadata": {
        "id": "fETBm5Xpjz3K",
        "outputId": "78521449-c705-44cd-ba32-571ffdeeeb14",
        "colab": {
          "base_uri": "https://localhost:8080/",
          "height": 630
        }
      },
      "execution_count": 33,
      "outputs": [
        {
          "output_type": "execute_result",
          "data": {
            "text/plain": [
              "\u001b[1m50×5 DataFrame\u001b[0m\n",
              "\u001b[1m Row \u001b[0m│\u001b[1m SepalLength \u001b[0m\u001b[1m SepalWidth \u001b[0m\u001b[1m PetalLength \u001b[0m\u001b[1m PetalWidth \u001b[0m\u001b[1m Species \u001b[0m\n",
              "     │\u001b[90m Float64     \u001b[0m\u001b[90m Float64    \u001b[0m\u001b[90m Float64     \u001b[0m\u001b[90m Float64    \u001b[0m\u001b[90m Cat…    \u001b[0m\n",
              "─────┼───────────────────────────────────────────────────────────\n",
              "   1 │         5.1         3.5          1.4         0.2  setosa\n",
              "   2 │         4.9         3.0          1.4         0.2  setosa\n",
              "   3 │         4.7         3.2          1.3         0.2  setosa\n",
              "   4 │         4.6         3.1          1.5         0.2  setosa\n",
              "   5 │         5.0         3.6          1.4         0.2  setosa\n",
              "   6 │         5.4         3.9          1.7         0.4  setosa\n",
              "   7 │         4.6         3.4          1.4         0.3  setosa\n",
              "   8 │         5.0         3.4          1.5         0.2  setosa\n",
              "   9 │         4.4         2.9          1.4         0.2  setosa\n",
              "  10 │         4.9         3.1          1.5         0.1  setosa\n",
              "  11 │         5.4         3.7          1.5         0.2  setosa\n",
              "  ⋮  │      ⋮           ⋮            ⋮           ⋮          ⋮\n",
              "  41 │         5.0         3.5          1.3         0.3  setosa\n",
              "  42 │         4.5         2.3          1.3         0.3  setosa\n",
              "  43 │         4.4         3.2          1.3         0.2  setosa\n",
              "  44 │         5.0         3.5          1.6         0.6  setosa\n",
              "  45 │         5.1         3.8          1.9         0.4  setosa\n",
              "  46 │         4.8         3.0          1.4         0.3  setosa\n",
              "  47 │         5.1         3.8          1.6         0.2  setosa\n",
              "  48 │         4.6         3.2          1.4         0.2  setosa\n",
              "  49 │         5.3         3.7          1.5         0.2  setosa\n",
              "  50 │         5.0         3.3          1.4         0.2  setosa\n",
              "\u001b[36m                                                  29 rows omitted\u001b[0m"
            ],
            "text/html": [
              "<div><div style = \"float: left;\"><span>50×5 DataFrame</span></div><div style = \"float: right;\"><span style = \"font-style: italic;\">25 rows omitted</span></div><div style = \"clear: both;\"></div></div><div class = \"data-frame\" style = \"overflow-x: scroll;\"><table class = \"data-frame\" style = \"margin-bottom: 6px;\"><thead><tr class = \"header\"><th class = \"rowNumber\" style = \"font-weight: bold; text-align: right;\">Row</th><th style = \"text-align: left;\">SepalLength</th><th style = \"text-align: left;\">SepalWidth</th><th style = \"text-align: left;\">PetalLength</th><th style = \"text-align: left;\">PetalWidth</th><th style = \"text-align: left;\">Species</th></tr><tr class = \"subheader headerLastRow\"><th class = \"rowNumber\" style = \"font-weight: bold; text-align: right;\"></th><th title = \"Float64\" style = \"text-align: left;\">Float64</th><th title = \"Float64\" style = \"text-align: left;\">Float64</th><th title = \"Float64\" style = \"text-align: left;\">Float64</th><th title = \"Float64\" style = \"text-align: left;\">Float64</th><th title = \"CategoricalArrays.CategoricalValue{String, UInt8}\" style = \"text-align: left;\">Cat…</th></tr></thead><tbody><tr><td class = \"rowNumber\" style = \"font-weight: bold; text-align: right;\">1</td><td style = \"text-align: right;\">5.1</td><td style = \"text-align: right;\">3.5</td><td style = \"text-align: right;\">1.4</td><td style = \"text-align: right;\">0.2</td><td style = \"text-align: left;\">setosa</td></tr><tr><td class = \"rowNumber\" style = \"font-weight: bold; text-align: right;\">2</td><td style = \"text-align: right;\">4.9</td><td style = \"text-align: right;\">3.0</td><td style = \"text-align: right;\">1.4</td><td style = \"text-align: right;\">0.2</td><td style = \"text-align: left;\">setosa</td></tr><tr><td class = \"rowNumber\" style = \"font-weight: bold; text-align: right;\">3</td><td style = \"text-align: right;\">4.7</td><td style = \"text-align: right;\">3.2</td><td style = \"text-align: right;\">1.3</td><td style = \"text-align: right;\">0.2</td><td style = \"text-align: left;\">setosa</td></tr><tr><td class = \"rowNumber\" style = \"font-weight: bold; text-align: right;\">4</td><td style = \"text-align: right;\">4.6</td><td style = \"text-align: right;\">3.1</td><td style = \"text-align: right;\">1.5</td><td style = \"text-align: right;\">0.2</td><td style = \"text-align: left;\">setosa</td></tr><tr><td class = \"rowNumber\" style = \"font-weight: bold; text-align: right;\">5</td><td style = \"text-align: right;\">5.0</td><td style = \"text-align: right;\">3.6</td><td style = \"text-align: right;\">1.4</td><td style = \"text-align: right;\">0.2</td><td style = \"text-align: left;\">setosa</td></tr><tr><td class = \"rowNumber\" style = \"font-weight: bold; text-align: right;\">6</td><td style = \"text-align: right;\">5.4</td><td style = \"text-align: right;\">3.9</td><td style = \"text-align: right;\">1.7</td><td style = \"text-align: right;\">0.4</td><td style = \"text-align: left;\">setosa</td></tr><tr><td class = \"rowNumber\" style = \"font-weight: bold; text-align: right;\">7</td><td style = \"text-align: right;\">4.6</td><td style = \"text-align: right;\">3.4</td><td style = \"text-align: right;\">1.4</td><td style = \"text-align: right;\">0.3</td><td style = \"text-align: left;\">setosa</td></tr><tr><td class = \"rowNumber\" style = \"font-weight: bold; text-align: right;\">8</td><td style = \"text-align: right;\">5.0</td><td style = \"text-align: right;\">3.4</td><td style = \"text-align: right;\">1.5</td><td style = \"text-align: right;\">0.2</td><td style = \"text-align: left;\">setosa</td></tr><tr><td class = \"rowNumber\" style = \"font-weight: bold; text-align: right;\">9</td><td style = \"text-align: right;\">4.4</td><td style = \"text-align: right;\">2.9</td><td style = \"text-align: right;\">1.4</td><td style = \"text-align: right;\">0.2</td><td style = \"text-align: left;\">setosa</td></tr><tr><td class = \"rowNumber\" style = \"font-weight: bold; text-align: right;\">10</td><td style = \"text-align: right;\">4.9</td><td style = \"text-align: right;\">3.1</td><td style = \"text-align: right;\">1.5</td><td style = \"text-align: right;\">0.1</td><td style = \"text-align: left;\">setosa</td></tr><tr><td class = \"rowNumber\" style = \"font-weight: bold; text-align: right;\">11</td><td style = \"text-align: right;\">5.4</td><td style = \"text-align: right;\">3.7</td><td style = \"text-align: right;\">1.5</td><td style = \"text-align: right;\">0.2</td><td style = \"text-align: left;\">setosa</td></tr><tr><td class = \"rowNumber\" style = \"font-weight: bold; text-align: right;\">12</td><td style = \"text-align: right;\">4.8</td><td style = \"text-align: right;\">3.4</td><td style = \"text-align: right;\">1.6</td><td style = \"text-align: right;\">0.2</td><td style = \"text-align: left;\">setosa</td></tr><tr><td class = \"rowNumber\" style = \"font-weight: bold; text-align: right;\">13</td><td style = \"text-align: right;\">4.8</td><td style = \"text-align: right;\">3.0</td><td style = \"text-align: right;\">1.4</td><td style = \"text-align: right;\">0.1</td><td style = \"text-align: left;\">setosa</td></tr><tr><td style = \"text-align: right;\">&vellip;</td><td style = \"text-align: right;\">&vellip;</td><td style = \"text-align: right;\">&vellip;</td><td style = \"text-align: right;\">&vellip;</td><td style = \"text-align: right;\">&vellip;</td><td style = \"text-align: right;\">&vellip;</td></tr><tr><td class = \"rowNumber\" style = \"font-weight: bold; text-align: right;\">39</td><td style = \"text-align: right;\">4.4</td><td style = \"text-align: right;\">3.0</td><td style = \"text-align: right;\">1.3</td><td style = \"text-align: right;\">0.2</td><td style = \"text-align: left;\">setosa</td></tr><tr><td class = \"rowNumber\" style = \"font-weight: bold; text-align: right;\">40</td><td style = \"text-align: right;\">5.1</td><td style = \"text-align: right;\">3.4</td><td style = \"text-align: right;\">1.5</td><td style = \"text-align: right;\">0.2</td><td style = \"text-align: left;\">setosa</td></tr><tr><td class = \"rowNumber\" style = \"font-weight: bold; text-align: right;\">41</td><td style = \"text-align: right;\">5.0</td><td style = \"text-align: right;\">3.5</td><td style = \"text-align: right;\">1.3</td><td style = \"text-align: right;\">0.3</td><td style = \"text-align: left;\">setosa</td></tr><tr><td class = \"rowNumber\" style = \"font-weight: bold; text-align: right;\">42</td><td style = \"text-align: right;\">4.5</td><td style = \"text-align: right;\">2.3</td><td style = \"text-align: right;\">1.3</td><td style = \"text-align: right;\">0.3</td><td style = \"text-align: left;\">setosa</td></tr><tr><td class = \"rowNumber\" style = \"font-weight: bold; text-align: right;\">43</td><td style = \"text-align: right;\">4.4</td><td style = \"text-align: right;\">3.2</td><td style = \"text-align: right;\">1.3</td><td style = \"text-align: right;\">0.2</td><td style = \"text-align: left;\">setosa</td></tr><tr><td class = \"rowNumber\" style = \"font-weight: bold; text-align: right;\">44</td><td style = \"text-align: right;\">5.0</td><td style = \"text-align: right;\">3.5</td><td style = \"text-align: right;\">1.6</td><td style = \"text-align: right;\">0.6</td><td style = \"text-align: left;\">setosa</td></tr><tr><td class = \"rowNumber\" style = \"font-weight: bold; text-align: right;\">45</td><td style = \"text-align: right;\">5.1</td><td style = \"text-align: right;\">3.8</td><td style = \"text-align: right;\">1.9</td><td style = \"text-align: right;\">0.4</td><td style = \"text-align: left;\">setosa</td></tr><tr><td class = \"rowNumber\" style = \"font-weight: bold; text-align: right;\">46</td><td style = \"text-align: right;\">4.8</td><td style = \"text-align: right;\">3.0</td><td style = \"text-align: right;\">1.4</td><td style = \"text-align: right;\">0.3</td><td style = \"text-align: left;\">setosa</td></tr><tr><td class = \"rowNumber\" style = \"font-weight: bold; text-align: right;\">47</td><td style = \"text-align: right;\">5.1</td><td style = \"text-align: right;\">3.8</td><td style = \"text-align: right;\">1.6</td><td style = \"text-align: right;\">0.2</td><td style = \"text-align: left;\">setosa</td></tr><tr><td class = \"rowNumber\" style = \"font-weight: bold; text-align: right;\">48</td><td style = \"text-align: right;\">4.6</td><td style = \"text-align: right;\">3.2</td><td style = \"text-align: right;\">1.4</td><td style = \"text-align: right;\">0.2</td><td style = \"text-align: left;\">setosa</td></tr><tr><td class = \"rowNumber\" style = \"font-weight: bold; text-align: right;\">49</td><td style = \"text-align: right;\">5.3</td><td style = \"text-align: right;\">3.7</td><td style = \"text-align: right;\">1.5</td><td style = \"text-align: right;\">0.2</td><td style = \"text-align: left;\">setosa</td></tr><tr><td class = \"rowNumber\" style = \"font-weight: bold; text-align: right;\">50</td><td style = \"text-align: right;\">5.0</td><td style = \"text-align: right;\">3.3</td><td style = \"text-align: right;\">1.4</td><td style = \"text-align: right;\">0.2</td><td style = \"text-align: left;\">setosa</td></tr></tbody></table></div>"
            ],
            "text/latex": "\\begin{tabular}{r|ccccc}\n\t& SepalLength & SepalWidth & PetalLength & PetalWidth & Species\\\\\n\t\\hline\n\t& Float64 & Float64 & Float64 & Float64 & Cat…\\\\\n\t\\hline\n\t1 & 5.1 & 3.5 & 1.4 & 0.2 & setosa \\\\\n\t2 & 4.9 & 3.0 & 1.4 & 0.2 & setosa \\\\\n\t3 & 4.7 & 3.2 & 1.3 & 0.2 & setosa \\\\\n\t4 & 4.6 & 3.1 & 1.5 & 0.2 & setosa \\\\\n\t5 & 5.0 & 3.6 & 1.4 & 0.2 & setosa \\\\\n\t6 & 5.4 & 3.9 & 1.7 & 0.4 & setosa \\\\\n\t7 & 4.6 & 3.4 & 1.4 & 0.3 & setosa \\\\\n\t8 & 5.0 & 3.4 & 1.5 & 0.2 & setosa \\\\\n\t9 & 4.4 & 2.9 & 1.4 & 0.2 & setosa \\\\\n\t10 & 4.9 & 3.1 & 1.5 & 0.1 & setosa \\\\\n\t11 & 5.4 & 3.7 & 1.5 & 0.2 & setosa \\\\\n\t12 & 4.8 & 3.4 & 1.6 & 0.2 & setosa \\\\\n\t13 & 4.8 & 3.0 & 1.4 & 0.1 & setosa \\\\\n\t14 & 4.3 & 3.0 & 1.1 & 0.1 & setosa \\\\\n\t15 & 5.8 & 4.0 & 1.2 & 0.2 & setosa \\\\\n\t16 & 5.7 & 4.4 & 1.5 & 0.4 & setosa \\\\\n\t17 & 5.4 & 3.9 & 1.3 & 0.4 & setosa \\\\\n\t18 & 5.1 & 3.5 & 1.4 & 0.3 & setosa \\\\\n\t19 & 5.7 & 3.8 & 1.7 & 0.3 & setosa \\\\\n\t20 & 5.1 & 3.8 & 1.5 & 0.3 & setosa \\\\\n\t21 & 5.4 & 3.4 & 1.7 & 0.2 & setosa \\\\\n\t22 & 5.1 & 3.7 & 1.5 & 0.4 & setosa \\\\\n\t23 & 4.6 & 3.6 & 1.0 & 0.2 & setosa \\\\\n\t24 & 5.1 & 3.3 & 1.7 & 0.5 & setosa \\\\\n\t25 & 4.8 & 3.4 & 1.9 & 0.2 & setosa \\\\\n\t26 & 5.0 & 3.0 & 1.6 & 0.2 & setosa \\\\\n\t27 & 5.0 & 3.4 & 1.6 & 0.4 & setosa \\\\\n\t28 & 5.2 & 3.5 & 1.5 & 0.2 & setosa \\\\\n\t29 & 5.2 & 3.4 & 1.4 & 0.2 & setosa \\\\\n\t30 & 4.7 & 3.2 & 1.6 & 0.2 & setosa \\\\\n\t$\\dots$ & $\\dots$ & $\\dots$ & $\\dots$ & $\\dots$ & $\\dots$ \\\\\n\\end{tabular}\n"
          },
          "metadata": {},
          "execution_count": 33
        }
      ]
    },
    {
      "cell_type": "code",
      "source": [
        "nrow(iris)"
      ],
      "metadata": {
        "id": "pDlIBe5Zj1JE",
        "outputId": "526f9084-5449-4253-cf88-6deaa6703f08",
        "colab": {
          "base_uri": "https://localhost:8080/"
        }
      },
      "execution_count": 34,
      "outputs": [
        {
          "output_type": "execute_result",
          "data": {
            "text/plain": [
              "150"
            ]
          },
          "metadata": {},
          "execution_count": 34
        }
      ]
    },
    {
      "cell_type": "code",
      "source": [
        "nrow(iriscopy)"
      ],
      "metadata": {
        "id": "T10jKn6Vj2m4",
        "outputId": "9432f8ee-d0e5-4ac1-bc48-b3dd51803e72",
        "colab": {
          "base_uri": "https://localhost:8080/"
        }
      },
      "execution_count": 35,
      "outputs": [
        {
          "output_type": "execute_result",
          "data": {
            "text/plain": [
              "50"
            ]
          },
          "metadata": {},
          "execution_count": 35
        }
      ]
    },
    {
      "cell_type": "code",
      "source": [
        "select(iris, Not(:SepalLength))"
      ],
      "metadata": {
        "colab": {
          "base_uri": "https://localhost:8080/",
          "height": 630
        },
        "id": "2WtX5FUqGeYL",
        "outputId": "730bf156-4597-4e6f-b987-a97d5fc4db30"
      },
      "execution_count": 36,
      "outputs": [
        {
          "output_type": "execute_result",
          "data": {
            "text/plain": [
              "\u001b[1m150×4 DataFrame\u001b[0m\n",
              "\u001b[1m Row \u001b[0m│\u001b[1m SepalWidth \u001b[0m\u001b[1m PetalLength \u001b[0m\u001b[1m PetalWidth \u001b[0m\u001b[1m Species   \u001b[0m\n",
              "     │\u001b[90m Float64    \u001b[0m\u001b[90m Float64     \u001b[0m\u001b[90m Float64    \u001b[0m\u001b[90m Cat…      \u001b[0m\n",
              "─────┼────────────────────────────────────────────────\n",
              "   1 │        3.5          1.4         0.2  setosa\n",
              "   2 │        3.0          1.4         0.2  setosa\n",
              "   3 │        3.2          1.3         0.2  setosa\n",
              "   4 │        3.1          1.5         0.2  setosa\n",
              "   5 │        3.6          1.4         0.2  setosa\n",
              "   6 │        3.9          1.7         0.4  setosa\n",
              "   7 │        3.4          1.4         0.3  setosa\n",
              "   8 │        3.4          1.5         0.2  setosa\n",
              "   9 │        2.9          1.4         0.2  setosa\n",
              "  10 │        3.1          1.5         0.1  setosa\n",
              "  11 │        3.7          1.5         0.2  setosa\n",
              "  ⋮  │     ⋮            ⋮           ⋮           ⋮\n",
              " 141 │        3.1          5.6         2.4  virginica\n",
              " 142 │        3.1          5.1         2.3  virginica\n",
              " 143 │        2.7          5.1         1.9  virginica\n",
              " 144 │        3.2          5.9         2.3  virginica\n",
              " 145 │        3.3          5.7         2.5  virginica\n",
              " 146 │        3.0          5.2         2.3  virginica\n",
              " 147 │        2.5          5.0         1.9  virginica\n",
              " 148 │        3.0          5.2         2.0  virginica\n",
              " 149 │        3.4          5.4         2.3  virginica\n",
              " 150 │        3.0          5.1         1.8  virginica\n",
              "\u001b[36m                                      129 rows omitted\u001b[0m"
            ],
            "text/html": [
              "<div><div style = \"float: left;\"><span>150×4 DataFrame</span></div><div style = \"float: right;\"><span style = \"font-style: italic;\">125 rows omitted</span></div><div style = \"clear: both;\"></div></div><div class = \"data-frame\" style = \"overflow-x: scroll;\"><table class = \"data-frame\" style = \"margin-bottom: 6px;\"><thead><tr class = \"header\"><th class = \"rowNumber\" style = \"font-weight: bold; text-align: right;\">Row</th><th style = \"text-align: left;\">SepalWidth</th><th style = \"text-align: left;\">PetalLength</th><th style = \"text-align: left;\">PetalWidth</th><th style = \"text-align: left;\">Species</th></tr><tr class = \"subheader headerLastRow\"><th class = \"rowNumber\" style = \"font-weight: bold; text-align: right;\"></th><th title = \"Float64\" style = \"text-align: left;\">Float64</th><th title = \"Float64\" style = \"text-align: left;\">Float64</th><th title = \"Float64\" style = \"text-align: left;\">Float64</th><th title = \"CategoricalArrays.CategoricalValue{String, UInt8}\" style = \"text-align: left;\">Cat…</th></tr></thead><tbody><tr><td class = \"rowNumber\" style = \"font-weight: bold; text-align: right;\">1</td><td style = \"text-align: right;\">3.5</td><td style = \"text-align: right;\">1.4</td><td style = \"text-align: right;\">0.2</td><td style = \"text-align: left;\">setosa</td></tr><tr><td class = \"rowNumber\" style = \"font-weight: bold; text-align: right;\">2</td><td style = \"text-align: right;\">3.0</td><td style = \"text-align: right;\">1.4</td><td style = \"text-align: right;\">0.2</td><td style = \"text-align: left;\">setosa</td></tr><tr><td class = \"rowNumber\" style = \"font-weight: bold; text-align: right;\">3</td><td style = \"text-align: right;\">3.2</td><td style = \"text-align: right;\">1.3</td><td style = \"text-align: right;\">0.2</td><td style = \"text-align: left;\">setosa</td></tr><tr><td class = \"rowNumber\" style = \"font-weight: bold; text-align: right;\">4</td><td style = \"text-align: right;\">3.1</td><td style = \"text-align: right;\">1.5</td><td style = \"text-align: right;\">0.2</td><td style = \"text-align: left;\">setosa</td></tr><tr><td class = \"rowNumber\" style = \"font-weight: bold; text-align: right;\">5</td><td style = \"text-align: right;\">3.6</td><td style = \"text-align: right;\">1.4</td><td style = \"text-align: right;\">0.2</td><td style = \"text-align: left;\">setosa</td></tr><tr><td class = \"rowNumber\" style = \"font-weight: bold; text-align: right;\">6</td><td style = \"text-align: right;\">3.9</td><td style = \"text-align: right;\">1.7</td><td style = \"text-align: right;\">0.4</td><td style = \"text-align: left;\">setosa</td></tr><tr><td class = \"rowNumber\" style = \"font-weight: bold; text-align: right;\">7</td><td style = \"text-align: right;\">3.4</td><td style = \"text-align: right;\">1.4</td><td style = \"text-align: right;\">0.3</td><td style = \"text-align: left;\">setosa</td></tr><tr><td class = \"rowNumber\" style = \"font-weight: bold; text-align: right;\">8</td><td style = \"text-align: right;\">3.4</td><td style = \"text-align: right;\">1.5</td><td style = \"text-align: right;\">0.2</td><td style = \"text-align: left;\">setosa</td></tr><tr><td class = \"rowNumber\" style = \"font-weight: bold; text-align: right;\">9</td><td style = \"text-align: right;\">2.9</td><td style = \"text-align: right;\">1.4</td><td style = \"text-align: right;\">0.2</td><td style = \"text-align: left;\">setosa</td></tr><tr><td class = \"rowNumber\" style = \"font-weight: bold; text-align: right;\">10</td><td style = \"text-align: right;\">3.1</td><td style = \"text-align: right;\">1.5</td><td style = \"text-align: right;\">0.1</td><td style = \"text-align: left;\">setosa</td></tr><tr><td class = \"rowNumber\" style = \"font-weight: bold; text-align: right;\">11</td><td style = \"text-align: right;\">3.7</td><td style = \"text-align: right;\">1.5</td><td style = \"text-align: right;\">0.2</td><td style = \"text-align: left;\">setosa</td></tr><tr><td class = \"rowNumber\" style = \"font-weight: bold; text-align: right;\">12</td><td style = \"text-align: right;\">3.4</td><td style = \"text-align: right;\">1.6</td><td style = \"text-align: right;\">0.2</td><td style = \"text-align: left;\">setosa</td></tr><tr><td class = \"rowNumber\" style = \"font-weight: bold; text-align: right;\">13</td><td style = \"text-align: right;\">3.0</td><td style = \"text-align: right;\">1.4</td><td style = \"text-align: right;\">0.1</td><td style = \"text-align: left;\">setosa</td></tr><tr><td style = \"text-align: right;\">&vellip;</td><td style = \"text-align: right;\">&vellip;</td><td style = \"text-align: right;\">&vellip;</td><td style = \"text-align: right;\">&vellip;</td><td style = \"text-align: right;\">&vellip;</td></tr><tr><td class = \"rowNumber\" style = \"font-weight: bold; text-align: right;\">139</td><td style = \"text-align: right;\">3.0</td><td style = \"text-align: right;\">4.8</td><td style = \"text-align: right;\">1.8</td><td style = \"text-align: left;\">virginica</td></tr><tr><td class = \"rowNumber\" style = \"font-weight: bold; text-align: right;\">140</td><td style = \"text-align: right;\">3.1</td><td style = \"text-align: right;\">5.4</td><td style = \"text-align: right;\">2.1</td><td style = \"text-align: left;\">virginica</td></tr><tr><td class = \"rowNumber\" style = \"font-weight: bold; text-align: right;\">141</td><td style = \"text-align: right;\">3.1</td><td style = \"text-align: right;\">5.6</td><td style = \"text-align: right;\">2.4</td><td style = \"text-align: left;\">virginica</td></tr><tr><td class = \"rowNumber\" style = \"font-weight: bold; text-align: right;\">142</td><td style = \"text-align: right;\">3.1</td><td style = \"text-align: right;\">5.1</td><td style = \"text-align: right;\">2.3</td><td style = \"text-align: left;\">virginica</td></tr><tr><td class = \"rowNumber\" style = \"font-weight: bold; text-align: right;\">143</td><td style = \"text-align: right;\">2.7</td><td style = \"text-align: right;\">5.1</td><td style = \"text-align: right;\">1.9</td><td style = \"text-align: left;\">virginica</td></tr><tr><td class = \"rowNumber\" style = \"font-weight: bold; text-align: right;\">144</td><td style = \"text-align: right;\">3.2</td><td style = \"text-align: right;\">5.9</td><td style = \"text-align: right;\">2.3</td><td style = \"text-align: left;\">virginica</td></tr><tr><td class = \"rowNumber\" style = \"font-weight: bold; text-align: right;\">145</td><td style = \"text-align: right;\">3.3</td><td style = \"text-align: right;\">5.7</td><td style = \"text-align: right;\">2.5</td><td style = \"text-align: left;\">virginica</td></tr><tr><td class = \"rowNumber\" style = \"font-weight: bold; text-align: right;\">146</td><td style = \"text-align: right;\">3.0</td><td style = \"text-align: right;\">5.2</td><td style = \"text-align: right;\">2.3</td><td style = \"text-align: left;\">virginica</td></tr><tr><td class = \"rowNumber\" style = \"font-weight: bold; text-align: right;\">147</td><td style = \"text-align: right;\">2.5</td><td style = \"text-align: right;\">5.0</td><td style = \"text-align: right;\">1.9</td><td style = \"text-align: left;\">virginica</td></tr><tr><td class = \"rowNumber\" style = \"font-weight: bold; text-align: right;\">148</td><td style = \"text-align: right;\">3.0</td><td style = \"text-align: right;\">5.2</td><td style = \"text-align: right;\">2.0</td><td style = \"text-align: left;\">virginica</td></tr><tr><td class = \"rowNumber\" style = \"font-weight: bold; text-align: right;\">149</td><td style = \"text-align: right;\">3.4</td><td style = \"text-align: right;\">5.4</td><td style = \"text-align: right;\">2.3</td><td style = \"text-align: left;\">virginica</td></tr><tr><td class = \"rowNumber\" style = \"font-weight: bold; text-align: right;\">150</td><td style = \"text-align: right;\">3.0</td><td style = \"text-align: right;\">5.1</td><td style = \"text-align: right;\">1.8</td><td style = \"text-align: left;\">virginica</td></tr></tbody></table></div>"
            ],
            "text/latex": "\\begin{tabular}{r|cccc}\n\t& SepalWidth & PetalLength & PetalWidth & Species\\\\\n\t\\hline\n\t& Float64 & Float64 & Float64 & Cat…\\\\\n\t\\hline\n\t1 & 3.5 & 1.4 & 0.2 & setosa \\\\\n\t2 & 3.0 & 1.4 & 0.2 & setosa \\\\\n\t3 & 3.2 & 1.3 & 0.2 & setosa \\\\\n\t4 & 3.1 & 1.5 & 0.2 & setosa \\\\\n\t5 & 3.6 & 1.4 & 0.2 & setosa \\\\\n\t6 & 3.9 & 1.7 & 0.4 & setosa \\\\\n\t7 & 3.4 & 1.4 & 0.3 & setosa \\\\\n\t8 & 3.4 & 1.5 & 0.2 & setosa \\\\\n\t9 & 2.9 & 1.4 & 0.2 & setosa \\\\\n\t10 & 3.1 & 1.5 & 0.1 & setosa \\\\\n\t11 & 3.7 & 1.5 & 0.2 & setosa \\\\\n\t12 & 3.4 & 1.6 & 0.2 & setosa \\\\\n\t13 & 3.0 & 1.4 & 0.1 & setosa \\\\\n\t14 & 3.0 & 1.1 & 0.1 & setosa \\\\\n\t15 & 4.0 & 1.2 & 0.2 & setosa \\\\\n\t16 & 4.4 & 1.5 & 0.4 & setosa \\\\\n\t17 & 3.9 & 1.3 & 0.4 & setosa \\\\\n\t18 & 3.5 & 1.4 & 0.3 & setosa \\\\\n\t19 & 3.8 & 1.7 & 0.3 & setosa \\\\\n\t20 & 3.8 & 1.5 & 0.3 & setosa \\\\\n\t21 & 3.4 & 1.7 & 0.2 & setosa \\\\\n\t22 & 3.7 & 1.5 & 0.4 & setosa \\\\\n\t23 & 3.6 & 1.0 & 0.2 & setosa \\\\\n\t24 & 3.3 & 1.7 & 0.5 & setosa \\\\\n\t25 & 3.4 & 1.9 & 0.2 & setosa \\\\\n\t26 & 3.0 & 1.6 & 0.2 & setosa \\\\\n\t27 & 3.4 & 1.6 & 0.4 & setosa \\\\\n\t28 & 3.5 & 1.5 & 0.2 & setosa \\\\\n\t29 & 3.4 & 1.4 & 0.2 & setosa \\\\\n\t30 & 3.2 & 1.6 & 0.2 & setosa \\\\\n\t$\\dots$ & $\\dots$ & $\\dots$ & $\\dots$ & $\\dots$ \\\\\n\\end{tabular}\n"
          },
          "metadata": {},
          "execution_count": 36
        }
      ]
    },
    {
      "cell_type": "code",
      "source": [
        "select(iris, :SepalLength => s -> s * 2)"
      ],
      "metadata": {
        "id": "wJDNq7iNj4VS",
        "outputId": "099f61bd-53df-4087-9b65-8a42b201fcfe",
        "colab": {
          "base_uri": "https://localhost:8080/",
          "height": 630
        }
      },
      "execution_count": 37,
      "outputs": [
        {
          "output_type": "execute_result",
          "data": {
            "text/plain": [
              "\u001b[1m150×1 DataFrame\u001b[0m\n",
              "\u001b[1m Row \u001b[0m│\u001b[1m SepalLength_function \u001b[0m\n",
              "     │\u001b[90m Float64              \u001b[0m\n",
              "─────┼──────────────────────\n",
              "   1 │                 10.2\n",
              "   2 │                  9.8\n",
              "   3 │                  9.4\n",
              "   4 │                  9.2\n",
              "   5 │                 10.0\n",
              "   6 │                 10.8\n",
              "   7 │                  9.2\n",
              "   8 │                 10.0\n",
              "   9 │                  8.8\n",
              "  10 │                  9.8\n",
              "  11 │                 10.8\n",
              "  ⋮  │          ⋮\n",
              " 141 │                 13.4\n",
              " 142 │                 13.8\n",
              " 143 │                 11.6\n",
              " 144 │                 13.6\n",
              " 145 │                 13.4\n",
              " 146 │                 13.4\n",
              " 147 │                 12.6\n",
              " 148 │                 13.0\n",
              " 149 │                 12.4\n",
              " 150 │                 11.8\n",
              "\u001b[36m            129 rows omitted\u001b[0m"
            ],
            "text/html": [
              "<div><div style = \"float: left;\"><span>150×1 DataFrame</span></div><div style = \"float: right;\"><span style = \"font-style: italic;\">125 rows omitted</span></div><div style = \"clear: both;\"></div></div><div class = \"data-frame\" style = \"overflow-x: scroll;\"><table class = \"data-frame\" style = \"margin-bottom: 6px;\"><thead><tr class = \"header\"><th class = \"rowNumber\" style = \"font-weight: bold; text-align: right;\">Row</th><th style = \"text-align: left;\">SepalLength_function</th></tr><tr class = \"subheader headerLastRow\"><th class = \"rowNumber\" style = \"font-weight: bold; text-align: right;\"></th><th title = \"Float64\" style = \"text-align: left;\">Float64</th></tr></thead><tbody><tr><td class = \"rowNumber\" style = \"font-weight: bold; text-align: right;\">1</td><td style = \"text-align: right;\">10.2</td></tr><tr><td class = \"rowNumber\" style = \"font-weight: bold; text-align: right;\">2</td><td style = \"text-align: right;\">9.8</td></tr><tr><td class = \"rowNumber\" style = \"font-weight: bold; text-align: right;\">3</td><td style = \"text-align: right;\">9.4</td></tr><tr><td class = \"rowNumber\" style = \"font-weight: bold; text-align: right;\">4</td><td style = \"text-align: right;\">9.2</td></tr><tr><td class = \"rowNumber\" style = \"font-weight: bold; text-align: right;\">5</td><td style = \"text-align: right;\">10.0</td></tr><tr><td class = \"rowNumber\" style = \"font-weight: bold; text-align: right;\">6</td><td style = \"text-align: right;\">10.8</td></tr><tr><td class = \"rowNumber\" style = \"font-weight: bold; text-align: right;\">7</td><td style = \"text-align: right;\">9.2</td></tr><tr><td class = \"rowNumber\" style = \"font-weight: bold; text-align: right;\">8</td><td style = \"text-align: right;\">10.0</td></tr><tr><td class = \"rowNumber\" style = \"font-weight: bold; text-align: right;\">9</td><td style = \"text-align: right;\">8.8</td></tr><tr><td class = \"rowNumber\" style = \"font-weight: bold; text-align: right;\">10</td><td style = \"text-align: right;\">9.8</td></tr><tr><td class = \"rowNumber\" style = \"font-weight: bold; text-align: right;\">11</td><td style = \"text-align: right;\">10.8</td></tr><tr><td class = \"rowNumber\" style = \"font-weight: bold; text-align: right;\">12</td><td style = \"text-align: right;\">9.6</td></tr><tr><td class = \"rowNumber\" style = \"font-weight: bold; text-align: right;\">13</td><td style = \"text-align: right;\">9.6</td></tr><tr><td style = \"text-align: right;\">&vellip;</td><td style = \"text-align: right;\">&vellip;</td></tr><tr><td class = \"rowNumber\" style = \"font-weight: bold; text-align: right;\">139</td><td style = \"text-align: right;\">12.0</td></tr><tr><td class = \"rowNumber\" style = \"font-weight: bold; text-align: right;\">140</td><td style = \"text-align: right;\">13.8</td></tr><tr><td class = \"rowNumber\" style = \"font-weight: bold; text-align: right;\">141</td><td style = \"text-align: right;\">13.4</td></tr><tr><td class = \"rowNumber\" style = \"font-weight: bold; text-align: right;\">142</td><td style = \"text-align: right;\">13.8</td></tr><tr><td class = \"rowNumber\" style = \"font-weight: bold; text-align: right;\">143</td><td style = \"text-align: right;\">11.6</td></tr><tr><td class = \"rowNumber\" style = \"font-weight: bold; text-align: right;\">144</td><td style = \"text-align: right;\">13.6</td></tr><tr><td class = \"rowNumber\" style = \"font-weight: bold; text-align: right;\">145</td><td style = \"text-align: right;\">13.4</td></tr><tr><td class = \"rowNumber\" style = \"font-weight: bold; text-align: right;\">146</td><td style = \"text-align: right;\">13.4</td></tr><tr><td class = \"rowNumber\" style = \"font-weight: bold; text-align: right;\">147</td><td style = \"text-align: right;\">12.6</td></tr><tr><td class = \"rowNumber\" style = \"font-weight: bold; text-align: right;\">148</td><td style = \"text-align: right;\">13.0</td></tr><tr><td class = \"rowNumber\" style = \"font-weight: bold; text-align: right;\">149</td><td style = \"text-align: right;\">12.4</td></tr><tr><td class = \"rowNumber\" style = \"font-weight: bold; text-align: right;\">150</td><td style = \"text-align: right;\">11.8</td></tr></tbody></table></div>"
            ],
            "text/latex": "\\begin{tabular}{r|c}\n\t& SepalLength\\_function\\\\\n\t\\hline\n\t& Float64\\\\\n\t\\hline\n\t1 & 10.2 \\\\\n\t2 & 9.8 \\\\\n\t3 & 9.4 \\\\\n\t4 & 9.2 \\\\\n\t5 & 10.0 \\\\\n\t6 & 10.8 \\\\\n\t7 & 9.2 \\\\\n\t8 & 10.0 \\\\\n\t9 & 8.8 \\\\\n\t10 & 9.8 \\\\\n\t11 & 10.8 \\\\\n\t12 & 9.6 \\\\\n\t13 & 9.6 \\\\\n\t14 & 8.6 \\\\\n\t15 & 11.6 \\\\\n\t16 & 11.4 \\\\\n\t17 & 10.8 \\\\\n\t18 & 10.2 \\\\\n\t19 & 11.4 \\\\\n\t20 & 10.2 \\\\\n\t21 & 10.8 \\\\\n\t22 & 10.2 \\\\\n\t23 & 9.2 \\\\\n\t24 & 10.2 \\\\\n\t25 & 9.6 \\\\\n\t26 & 10.0 \\\\\n\t27 & 10.0 \\\\\n\t28 & 10.4 \\\\\n\t29 & 10.4 \\\\\n\t30 & 9.4 \\\\\n\t$\\dots$ & $\\dots$ \\\\\n\\end{tabular}\n"
          },
          "metadata": {},
          "execution_count": 37
        }
      ]
    },
    {
      "cell_type": "code",
      "source": [
        "select(iris, :SepalLength => s -> s * 2, :SepalWidth)"
      ],
      "metadata": {
        "id": "9JfQp7M-j5oC",
        "outputId": "65d5a8a2-5e77-4023-e3fa-54ff25e13796",
        "colab": {
          "base_uri": "https://localhost:8080/",
          "height": 630
        }
      },
      "execution_count": 38,
      "outputs": [
        {
          "output_type": "execute_result",
          "data": {
            "text/plain": [
              "\u001b[1m150×2 DataFrame\u001b[0m\n",
              "\u001b[1m Row \u001b[0m│\u001b[1m SepalLength_function \u001b[0m\u001b[1m SepalWidth \u001b[0m\n",
              "     │\u001b[90m Float64              \u001b[0m\u001b[90m Float64    \u001b[0m\n",
              "─────┼──────────────────────────────────\n",
              "   1 │                 10.2         3.5\n",
              "   2 │                  9.8         3.0\n",
              "   3 │                  9.4         3.2\n",
              "   4 │                  9.2         3.1\n",
              "   5 │                 10.0         3.6\n",
              "   6 │                 10.8         3.9\n",
              "   7 │                  9.2         3.4\n",
              "   8 │                 10.0         3.4\n",
              "   9 │                  8.8         2.9\n",
              "  10 │                  9.8         3.1\n",
              "  11 │                 10.8         3.7\n",
              "  ⋮  │          ⋮                ⋮\n",
              " 141 │                 13.4         3.1\n",
              " 142 │                 13.8         3.1\n",
              " 143 │                 11.6         2.7\n",
              " 144 │                 13.6         3.2\n",
              " 145 │                 13.4         3.3\n",
              " 146 │                 13.4         3.0\n",
              " 147 │                 12.6         2.5\n",
              " 148 │                 13.0         3.0\n",
              " 149 │                 12.4         3.4\n",
              " 150 │                 11.8         3.0\n",
              "\u001b[36m                        129 rows omitted\u001b[0m"
            ],
            "text/html": [
              "<div><div style = \"float: left;\"><span>150×2 DataFrame</span></div><div style = \"float: right;\"><span style = \"font-style: italic;\">125 rows omitted</span></div><div style = \"clear: both;\"></div></div><div class = \"data-frame\" style = \"overflow-x: scroll;\"><table class = \"data-frame\" style = \"margin-bottom: 6px;\"><thead><tr class = \"header\"><th class = \"rowNumber\" style = \"font-weight: bold; text-align: right;\">Row</th><th style = \"text-align: left;\">SepalLength_function</th><th style = \"text-align: left;\">SepalWidth</th></tr><tr class = \"subheader headerLastRow\"><th class = \"rowNumber\" style = \"font-weight: bold; text-align: right;\"></th><th title = \"Float64\" style = \"text-align: left;\">Float64</th><th title = \"Float64\" style = \"text-align: left;\">Float64</th></tr></thead><tbody><tr><td class = \"rowNumber\" style = \"font-weight: bold; text-align: right;\">1</td><td style = \"text-align: right;\">10.2</td><td style = \"text-align: right;\">3.5</td></tr><tr><td class = \"rowNumber\" style = \"font-weight: bold; text-align: right;\">2</td><td style = \"text-align: right;\">9.8</td><td style = \"text-align: right;\">3.0</td></tr><tr><td class = \"rowNumber\" style = \"font-weight: bold; text-align: right;\">3</td><td style = \"text-align: right;\">9.4</td><td style = \"text-align: right;\">3.2</td></tr><tr><td class = \"rowNumber\" style = \"font-weight: bold; text-align: right;\">4</td><td style = \"text-align: right;\">9.2</td><td style = \"text-align: right;\">3.1</td></tr><tr><td class = \"rowNumber\" style = \"font-weight: bold; text-align: right;\">5</td><td style = \"text-align: right;\">10.0</td><td style = \"text-align: right;\">3.6</td></tr><tr><td class = \"rowNumber\" style = \"font-weight: bold; text-align: right;\">6</td><td style = \"text-align: right;\">10.8</td><td style = \"text-align: right;\">3.9</td></tr><tr><td class = \"rowNumber\" style = \"font-weight: bold; text-align: right;\">7</td><td style = \"text-align: right;\">9.2</td><td style = \"text-align: right;\">3.4</td></tr><tr><td class = \"rowNumber\" style = \"font-weight: bold; text-align: right;\">8</td><td style = \"text-align: right;\">10.0</td><td style = \"text-align: right;\">3.4</td></tr><tr><td class = \"rowNumber\" style = \"font-weight: bold; text-align: right;\">9</td><td style = \"text-align: right;\">8.8</td><td style = \"text-align: right;\">2.9</td></tr><tr><td class = \"rowNumber\" style = \"font-weight: bold; text-align: right;\">10</td><td style = \"text-align: right;\">9.8</td><td style = \"text-align: right;\">3.1</td></tr><tr><td class = \"rowNumber\" style = \"font-weight: bold; text-align: right;\">11</td><td style = \"text-align: right;\">10.8</td><td style = \"text-align: right;\">3.7</td></tr><tr><td class = \"rowNumber\" style = \"font-weight: bold; text-align: right;\">12</td><td style = \"text-align: right;\">9.6</td><td style = \"text-align: right;\">3.4</td></tr><tr><td class = \"rowNumber\" style = \"font-weight: bold; text-align: right;\">13</td><td style = \"text-align: right;\">9.6</td><td style = \"text-align: right;\">3.0</td></tr><tr><td style = \"text-align: right;\">&vellip;</td><td style = \"text-align: right;\">&vellip;</td><td style = \"text-align: right;\">&vellip;</td></tr><tr><td class = \"rowNumber\" style = \"font-weight: bold; text-align: right;\">139</td><td style = \"text-align: right;\">12.0</td><td style = \"text-align: right;\">3.0</td></tr><tr><td class = \"rowNumber\" style = \"font-weight: bold; text-align: right;\">140</td><td style = \"text-align: right;\">13.8</td><td style = \"text-align: right;\">3.1</td></tr><tr><td class = \"rowNumber\" style = \"font-weight: bold; text-align: right;\">141</td><td style = \"text-align: right;\">13.4</td><td style = \"text-align: right;\">3.1</td></tr><tr><td class = \"rowNumber\" style = \"font-weight: bold; text-align: right;\">142</td><td style = \"text-align: right;\">13.8</td><td style = \"text-align: right;\">3.1</td></tr><tr><td class = \"rowNumber\" style = \"font-weight: bold; text-align: right;\">143</td><td style = \"text-align: right;\">11.6</td><td style = \"text-align: right;\">2.7</td></tr><tr><td class = \"rowNumber\" style = \"font-weight: bold; text-align: right;\">144</td><td style = \"text-align: right;\">13.6</td><td style = \"text-align: right;\">3.2</td></tr><tr><td class = \"rowNumber\" style = \"font-weight: bold; text-align: right;\">145</td><td style = \"text-align: right;\">13.4</td><td style = \"text-align: right;\">3.3</td></tr><tr><td class = \"rowNumber\" style = \"font-weight: bold; text-align: right;\">146</td><td style = \"text-align: right;\">13.4</td><td style = \"text-align: right;\">3.0</td></tr><tr><td class = \"rowNumber\" style = \"font-weight: bold; text-align: right;\">147</td><td style = \"text-align: right;\">12.6</td><td style = \"text-align: right;\">2.5</td></tr><tr><td class = \"rowNumber\" style = \"font-weight: bold; text-align: right;\">148</td><td style = \"text-align: right;\">13.0</td><td style = \"text-align: right;\">3.0</td></tr><tr><td class = \"rowNumber\" style = \"font-weight: bold; text-align: right;\">149</td><td style = \"text-align: right;\">12.4</td><td style = \"text-align: right;\">3.4</td></tr><tr><td class = \"rowNumber\" style = \"font-weight: bold; text-align: right;\">150</td><td style = \"text-align: right;\">11.8</td><td style = \"text-align: right;\">3.0</td></tr></tbody></table></div>"
            ],
            "text/latex": "\\begin{tabular}{r|cc}\n\t& SepalLength\\_function & SepalWidth\\\\\n\t\\hline\n\t& Float64 & Float64\\\\\n\t\\hline\n\t1 & 10.2 & 3.5 \\\\\n\t2 & 9.8 & 3.0 \\\\\n\t3 & 9.4 & 3.2 \\\\\n\t4 & 9.2 & 3.1 \\\\\n\t5 & 10.0 & 3.6 \\\\\n\t6 & 10.8 & 3.9 \\\\\n\t7 & 9.2 & 3.4 \\\\\n\t8 & 10.0 & 3.4 \\\\\n\t9 & 8.8 & 2.9 \\\\\n\t10 & 9.8 & 3.1 \\\\\n\t11 & 10.8 & 3.7 \\\\\n\t12 & 9.6 & 3.4 \\\\\n\t13 & 9.6 & 3.0 \\\\\n\t14 & 8.6 & 3.0 \\\\\n\t15 & 11.6 & 4.0 \\\\\n\t16 & 11.4 & 4.4 \\\\\n\t17 & 10.8 & 3.9 \\\\\n\t18 & 10.2 & 3.5 \\\\\n\t19 & 11.4 & 3.8 \\\\\n\t20 & 10.2 & 3.8 \\\\\n\t21 & 10.8 & 3.4 \\\\\n\t22 & 10.2 & 3.7 \\\\\n\t23 & 9.2 & 3.6 \\\\\n\t24 & 10.2 & 3.3 \\\\\n\t25 & 9.6 & 3.4 \\\\\n\t26 & 10.0 & 3.0 \\\\\n\t27 & 10.0 & 3.4 \\\\\n\t28 & 10.4 & 3.5 \\\\\n\t29 & 10.4 & 3.4 \\\\\n\t30 & 9.4 & 3.2 \\\\\n\t$\\dots$ & $\\dots$ & $\\dots$ \\\\\n\\end{tabular}\n"
          },
          "metadata": {},
          "execution_count": 38
        }
      ]
    },
    {
      "cell_type": "code",
      "source": [
        "select(iris, :SepalLength => s -> s * 2, [:SepalLength, :SepalWidth] => ((x,y) -> x[1] + x[2]) => :X)"
      ],
      "metadata": {
        "id": "Ehmyw1V4j62Z",
        "outputId": "deea572e-88b9-4b7b-8294-548358e0ebdc",
        "colab": {
          "base_uri": "https://localhost:8080/",
          "height": 630
        }
      },
      "execution_count": 39,
      "outputs": [
        {
          "output_type": "execute_result",
          "data": {
            "text/plain": [
              "\u001b[1m150×2 DataFrame\u001b[0m\n",
              "\u001b[1m Row \u001b[0m│\u001b[1m SepalLength_function \u001b[0m\u001b[1m X       \u001b[0m\n",
              "     │\u001b[90m Float64              \u001b[0m\u001b[90m Float64 \u001b[0m\n",
              "─────┼───────────────────────────────\n",
              "   1 │                 10.2     10.0\n",
              "   2 │                  9.8     10.0\n",
              "   3 │                  9.4     10.0\n",
              "   4 │                  9.2     10.0\n",
              "   5 │                 10.0     10.0\n",
              "   6 │                 10.8     10.0\n",
              "   7 │                  9.2     10.0\n",
              "   8 │                 10.0     10.0\n",
              "   9 │                  8.8     10.0\n",
              "  10 │                  9.8     10.0\n",
              "  11 │                 10.8     10.0\n",
              "  ⋮  │          ⋮               ⋮\n",
              " 141 │                 13.4     10.0\n",
              " 142 │                 13.8     10.0\n",
              " 143 │                 11.6     10.0\n",
              " 144 │                 13.6     10.0\n",
              " 145 │                 13.4     10.0\n",
              " 146 │                 13.4     10.0\n",
              " 147 │                 12.6     10.0\n",
              " 148 │                 13.0     10.0\n",
              " 149 │                 12.4     10.0\n",
              " 150 │                 11.8     10.0\n",
              "\u001b[36m                     129 rows omitted\u001b[0m"
            ],
            "text/html": [
              "<div><div style = \"float: left;\"><span>150×2 DataFrame</span></div><div style = \"float: right;\"><span style = \"font-style: italic;\">125 rows omitted</span></div><div style = \"clear: both;\"></div></div><div class = \"data-frame\" style = \"overflow-x: scroll;\"><table class = \"data-frame\" style = \"margin-bottom: 6px;\"><thead><tr class = \"header\"><th class = \"rowNumber\" style = \"font-weight: bold; text-align: right;\">Row</th><th style = \"text-align: left;\">SepalLength_function</th><th style = \"text-align: left;\">X</th></tr><tr class = \"subheader headerLastRow\"><th class = \"rowNumber\" style = \"font-weight: bold; text-align: right;\"></th><th title = \"Float64\" style = \"text-align: left;\">Float64</th><th title = \"Float64\" style = \"text-align: left;\">Float64</th></tr></thead><tbody><tr><td class = \"rowNumber\" style = \"font-weight: bold; text-align: right;\">1</td><td style = \"text-align: right;\">10.2</td><td style = \"text-align: right;\">10.0</td></tr><tr><td class = \"rowNumber\" style = \"font-weight: bold; text-align: right;\">2</td><td style = \"text-align: right;\">9.8</td><td style = \"text-align: right;\">10.0</td></tr><tr><td class = \"rowNumber\" style = \"font-weight: bold; text-align: right;\">3</td><td style = \"text-align: right;\">9.4</td><td style = \"text-align: right;\">10.0</td></tr><tr><td class = \"rowNumber\" style = \"font-weight: bold; text-align: right;\">4</td><td style = \"text-align: right;\">9.2</td><td style = \"text-align: right;\">10.0</td></tr><tr><td class = \"rowNumber\" style = \"font-weight: bold; text-align: right;\">5</td><td style = \"text-align: right;\">10.0</td><td style = \"text-align: right;\">10.0</td></tr><tr><td class = \"rowNumber\" style = \"font-weight: bold; text-align: right;\">6</td><td style = \"text-align: right;\">10.8</td><td style = \"text-align: right;\">10.0</td></tr><tr><td class = \"rowNumber\" style = \"font-weight: bold; text-align: right;\">7</td><td style = \"text-align: right;\">9.2</td><td style = \"text-align: right;\">10.0</td></tr><tr><td class = \"rowNumber\" style = \"font-weight: bold; text-align: right;\">8</td><td style = \"text-align: right;\">10.0</td><td style = \"text-align: right;\">10.0</td></tr><tr><td class = \"rowNumber\" style = \"font-weight: bold; text-align: right;\">9</td><td style = \"text-align: right;\">8.8</td><td style = \"text-align: right;\">10.0</td></tr><tr><td class = \"rowNumber\" style = \"font-weight: bold; text-align: right;\">10</td><td style = \"text-align: right;\">9.8</td><td style = \"text-align: right;\">10.0</td></tr><tr><td class = \"rowNumber\" style = \"font-weight: bold; text-align: right;\">11</td><td style = \"text-align: right;\">10.8</td><td style = \"text-align: right;\">10.0</td></tr><tr><td class = \"rowNumber\" style = \"font-weight: bold; text-align: right;\">12</td><td style = \"text-align: right;\">9.6</td><td style = \"text-align: right;\">10.0</td></tr><tr><td class = \"rowNumber\" style = \"font-weight: bold; text-align: right;\">13</td><td style = \"text-align: right;\">9.6</td><td style = \"text-align: right;\">10.0</td></tr><tr><td style = \"text-align: right;\">&vellip;</td><td style = \"text-align: right;\">&vellip;</td><td style = \"text-align: right;\">&vellip;</td></tr><tr><td class = \"rowNumber\" style = \"font-weight: bold; text-align: right;\">139</td><td style = \"text-align: right;\">12.0</td><td style = \"text-align: right;\">10.0</td></tr><tr><td class = \"rowNumber\" style = \"font-weight: bold; text-align: right;\">140</td><td style = \"text-align: right;\">13.8</td><td style = \"text-align: right;\">10.0</td></tr><tr><td class = \"rowNumber\" style = \"font-weight: bold; text-align: right;\">141</td><td style = \"text-align: right;\">13.4</td><td style = \"text-align: right;\">10.0</td></tr><tr><td class = \"rowNumber\" style = \"font-weight: bold; text-align: right;\">142</td><td style = \"text-align: right;\">13.8</td><td style = \"text-align: right;\">10.0</td></tr><tr><td class = \"rowNumber\" style = \"font-weight: bold; text-align: right;\">143</td><td style = \"text-align: right;\">11.6</td><td style = \"text-align: right;\">10.0</td></tr><tr><td class = \"rowNumber\" style = \"font-weight: bold; text-align: right;\">144</td><td style = \"text-align: right;\">13.6</td><td style = \"text-align: right;\">10.0</td></tr><tr><td class = \"rowNumber\" style = \"font-weight: bold; text-align: right;\">145</td><td style = \"text-align: right;\">13.4</td><td style = \"text-align: right;\">10.0</td></tr><tr><td class = \"rowNumber\" style = \"font-weight: bold; text-align: right;\">146</td><td style = \"text-align: right;\">13.4</td><td style = \"text-align: right;\">10.0</td></tr><tr><td class = \"rowNumber\" style = \"font-weight: bold; text-align: right;\">147</td><td style = \"text-align: right;\">12.6</td><td style = \"text-align: right;\">10.0</td></tr><tr><td class = \"rowNumber\" style = \"font-weight: bold; text-align: right;\">148</td><td style = \"text-align: right;\">13.0</td><td style = \"text-align: right;\">10.0</td></tr><tr><td class = \"rowNumber\" style = \"font-weight: bold; text-align: right;\">149</td><td style = \"text-align: right;\">12.4</td><td style = \"text-align: right;\">10.0</td></tr><tr><td class = \"rowNumber\" style = \"font-weight: bold; text-align: right;\">150</td><td style = \"text-align: right;\">11.8</td><td style = \"text-align: right;\">10.0</td></tr></tbody></table></div>"
            ],
            "text/latex": "\\begin{tabular}{r|cc}\n\t& SepalLength\\_function & X\\\\\n\t\\hline\n\t& Float64 & Float64\\\\\n\t\\hline\n\t1 & 10.2 & 10.0 \\\\\n\t2 & 9.8 & 10.0 \\\\\n\t3 & 9.4 & 10.0 \\\\\n\t4 & 9.2 & 10.0 \\\\\n\t5 & 10.0 & 10.0 \\\\\n\t6 & 10.8 & 10.0 \\\\\n\t7 & 9.2 & 10.0 \\\\\n\t8 & 10.0 & 10.0 \\\\\n\t9 & 8.8 & 10.0 \\\\\n\t10 & 9.8 & 10.0 \\\\\n\t11 & 10.8 & 10.0 \\\\\n\t12 & 9.6 & 10.0 \\\\\n\t13 & 9.6 & 10.0 \\\\\n\t14 & 8.6 & 10.0 \\\\\n\t15 & 11.6 & 10.0 \\\\\n\t16 & 11.4 & 10.0 \\\\\n\t17 & 10.8 & 10.0 \\\\\n\t18 & 10.2 & 10.0 \\\\\n\t19 & 11.4 & 10.0 \\\\\n\t20 & 10.2 & 10.0 \\\\\n\t21 & 10.8 & 10.0 \\\\\n\t22 & 10.2 & 10.0 \\\\\n\t23 & 9.2 & 10.0 \\\\\n\t24 & 10.2 & 10.0 \\\\\n\t25 & 9.6 & 10.0 \\\\\n\t26 & 10.0 & 10.0 \\\\\n\t27 & 10.0 & 10.0 \\\\\n\t28 & 10.4 & 10.0 \\\\\n\t29 & 10.4 & 10.0 \\\\\n\t30 & 9.4 & 10.0 \\\\\n\t$\\dots$ & $\\dots$ & $\\dots$ \\\\\n\\end{tabular}\n"
          },
          "metadata": {},
          "execution_count": 39
        }
      ]
    },
    {
      "cell_type": "code",
      "source": [
        "select(iris, :SepalLength => :S1, :SepalWidth => :S2) ## Rename columns"
      ],
      "metadata": {
        "id": "7orKV0rIj8Cd",
        "outputId": "b138efee-d7db-4f65-a8d2-f0883a2b4884",
        "colab": {
          "base_uri": "https://localhost:8080/",
          "height": 630
        }
      },
      "execution_count": 40,
      "outputs": [
        {
          "output_type": "execute_result",
          "data": {
            "text/plain": [
              "\u001b[1m150×2 DataFrame\u001b[0m\n",
              "\u001b[1m Row \u001b[0m│\u001b[1m S1      \u001b[0m\u001b[1m S2      \u001b[0m\n",
              "     │\u001b[90m Float64 \u001b[0m\u001b[90m Float64 \u001b[0m\n",
              "─────┼──────────────────\n",
              "   1 │     5.1      3.5\n",
              "   2 │     4.9      3.0\n",
              "   3 │     4.7      3.2\n",
              "   4 │     4.6      3.1\n",
              "   5 │     5.0      3.6\n",
              "   6 │     5.4      3.9\n",
              "   7 │     4.6      3.4\n",
              "   8 │     5.0      3.4\n",
              "   9 │     4.4      2.9\n",
              "  10 │     4.9      3.1\n",
              "  11 │     5.4      3.7\n",
              "  ⋮  │    ⋮        ⋮\n",
              " 141 │     6.7      3.1\n",
              " 142 │     6.9      3.1\n",
              " 143 │     5.8      2.7\n",
              " 144 │     6.8      3.2\n",
              " 145 │     6.7      3.3\n",
              " 146 │     6.7      3.0\n",
              " 147 │     6.3      2.5\n",
              " 148 │     6.5      3.0\n",
              " 149 │     6.2      3.4\n",
              " 150 │     5.9      3.0\n",
              "\u001b[36m        129 rows omitted\u001b[0m"
            ],
            "text/html": [
              "<div><div style = \"float: left;\"><span>150×2 DataFrame</span></div><div style = \"float: right;\"><span style = \"font-style: italic;\">125 rows omitted</span></div><div style = \"clear: both;\"></div></div><div class = \"data-frame\" style = \"overflow-x: scroll;\"><table class = \"data-frame\" style = \"margin-bottom: 6px;\"><thead><tr class = \"header\"><th class = \"rowNumber\" style = \"font-weight: bold; text-align: right;\">Row</th><th style = \"text-align: left;\">S1</th><th style = \"text-align: left;\">S2</th></tr><tr class = \"subheader headerLastRow\"><th class = \"rowNumber\" style = \"font-weight: bold; text-align: right;\"></th><th title = \"Float64\" style = \"text-align: left;\">Float64</th><th title = \"Float64\" style = \"text-align: left;\">Float64</th></tr></thead><tbody><tr><td class = \"rowNumber\" style = \"font-weight: bold; text-align: right;\">1</td><td style = \"text-align: right;\">5.1</td><td style = \"text-align: right;\">3.5</td></tr><tr><td class = \"rowNumber\" style = \"font-weight: bold; text-align: right;\">2</td><td style = \"text-align: right;\">4.9</td><td style = \"text-align: right;\">3.0</td></tr><tr><td class = \"rowNumber\" style = \"font-weight: bold; text-align: right;\">3</td><td style = \"text-align: right;\">4.7</td><td style = \"text-align: right;\">3.2</td></tr><tr><td class = \"rowNumber\" style = \"font-weight: bold; text-align: right;\">4</td><td style = \"text-align: right;\">4.6</td><td style = \"text-align: right;\">3.1</td></tr><tr><td class = \"rowNumber\" style = \"font-weight: bold; text-align: right;\">5</td><td style = \"text-align: right;\">5.0</td><td style = \"text-align: right;\">3.6</td></tr><tr><td class = \"rowNumber\" style = \"font-weight: bold; text-align: right;\">6</td><td style = \"text-align: right;\">5.4</td><td style = \"text-align: right;\">3.9</td></tr><tr><td class = \"rowNumber\" style = \"font-weight: bold; text-align: right;\">7</td><td style = \"text-align: right;\">4.6</td><td style = \"text-align: right;\">3.4</td></tr><tr><td class = \"rowNumber\" style = \"font-weight: bold; text-align: right;\">8</td><td style = \"text-align: right;\">5.0</td><td style = \"text-align: right;\">3.4</td></tr><tr><td class = \"rowNumber\" style = \"font-weight: bold; text-align: right;\">9</td><td style = \"text-align: right;\">4.4</td><td style = \"text-align: right;\">2.9</td></tr><tr><td class = \"rowNumber\" style = \"font-weight: bold; text-align: right;\">10</td><td style = \"text-align: right;\">4.9</td><td style = \"text-align: right;\">3.1</td></tr><tr><td class = \"rowNumber\" style = \"font-weight: bold; text-align: right;\">11</td><td style = \"text-align: right;\">5.4</td><td style = \"text-align: right;\">3.7</td></tr><tr><td class = \"rowNumber\" style = \"font-weight: bold; text-align: right;\">12</td><td style = \"text-align: right;\">4.8</td><td style = \"text-align: right;\">3.4</td></tr><tr><td class = \"rowNumber\" style = \"font-weight: bold; text-align: right;\">13</td><td style = \"text-align: right;\">4.8</td><td style = \"text-align: right;\">3.0</td></tr><tr><td style = \"text-align: right;\">&vellip;</td><td style = \"text-align: right;\">&vellip;</td><td style = \"text-align: right;\">&vellip;</td></tr><tr><td class = \"rowNumber\" style = \"font-weight: bold; text-align: right;\">139</td><td style = \"text-align: right;\">6.0</td><td style = \"text-align: right;\">3.0</td></tr><tr><td class = \"rowNumber\" style = \"font-weight: bold; text-align: right;\">140</td><td style = \"text-align: right;\">6.9</td><td style = \"text-align: right;\">3.1</td></tr><tr><td class = \"rowNumber\" style = \"font-weight: bold; text-align: right;\">141</td><td style = \"text-align: right;\">6.7</td><td style = \"text-align: right;\">3.1</td></tr><tr><td class = \"rowNumber\" style = \"font-weight: bold; text-align: right;\">142</td><td style = \"text-align: right;\">6.9</td><td style = \"text-align: right;\">3.1</td></tr><tr><td class = \"rowNumber\" style = \"font-weight: bold; text-align: right;\">143</td><td style = \"text-align: right;\">5.8</td><td style = \"text-align: right;\">2.7</td></tr><tr><td class = \"rowNumber\" style = \"font-weight: bold; text-align: right;\">144</td><td style = \"text-align: right;\">6.8</td><td style = \"text-align: right;\">3.2</td></tr><tr><td class = \"rowNumber\" style = \"font-weight: bold; text-align: right;\">145</td><td style = \"text-align: right;\">6.7</td><td style = \"text-align: right;\">3.3</td></tr><tr><td class = \"rowNumber\" style = \"font-weight: bold; text-align: right;\">146</td><td style = \"text-align: right;\">6.7</td><td style = \"text-align: right;\">3.0</td></tr><tr><td class = \"rowNumber\" style = \"font-weight: bold; text-align: right;\">147</td><td style = \"text-align: right;\">6.3</td><td style = \"text-align: right;\">2.5</td></tr><tr><td class = \"rowNumber\" style = \"font-weight: bold; text-align: right;\">148</td><td style = \"text-align: right;\">6.5</td><td style = \"text-align: right;\">3.0</td></tr><tr><td class = \"rowNumber\" style = \"font-weight: bold; text-align: right;\">149</td><td style = \"text-align: right;\">6.2</td><td style = \"text-align: right;\">3.4</td></tr><tr><td class = \"rowNumber\" style = \"font-weight: bold; text-align: right;\">150</td><td style = \"text-align: right;\">5.9</td><td style = \"text-align: right;\">3.0</td></tr></tbody></table></div>"
            ],
            "text/latex": "\\begin{tabular}{r|cc}\n\t& S1 & S2\\\\\n\t\\hline\n\t& Float64 & Float64\\\\\n\t\\hline\n\t1 & 5.1 & 3.5 \\\\\n\t2 & 4.9 & 3.0 \\\\\n\t3 & 4.7 & 3.2 \\\\\n\t4 & 4.6 & 3.1 \\\\\n\t5 & 5.0 & 3.6 \\\\\n\t6 & 5.4 & 3.9 \\\\\n\t7 & 4.6 & 3.4 \\\\\n\t8 & 5.0 & 3.4 \\\\\n\t9 & 4.4 & 2.9 \\\\\n\t10 & 4.9 & 3.1 \\\\\n\t11 & 5.4 & 3.7 \\\\\n\t12 & 4.8 & 3.4 \\\\\n\t13 & 4.8 & 3.0 \\\\\n\t14 & 4.3 & 3.0 \\\\\n\t15 & 5.8 & 4.0 \\\\\n\t16 & 5.7 & 4.4 \\\\\n\t17 & 5.4 & 3.9 \\\\\n\t18 & 5.1 & 3.5 \\\\\n\t19 & 5.7 & 3.8 \\\\\n\t20 & 5.1 & 3.8 \\\\\n\t21 & 5.4 & 3.4 \\\\\n\t22 & 5.1 & 3.7 \\\\\n\t23 & 4.6 & 3.6 \\\\\n\t24 & 5.1 & 3.3 \\\\\n\t25 & 4.8 & 3.4 \\\\\n\t26 & 5.0 & 3.0 \\\\\n\t27 & 5.0 & 3.4 \\\\\n\t28 & 5.2 & 3.5 \\\\\n\t29 & 5.2 & 3.4 \\\\\n\t30 & 4.7 & 3.2 \\\\\n\t$\\dots$ & $\\dots$ & $\\dots$ \\\\\n\\end{tabular}\n"
          },
          "metadata": {},
          "execution_count": 40
        }
      ]
    },
    {
      "cell_type": "code",
      "source": [
        "#select!(iris, :SepalLength => :S1, :SepalWidth => :S2) ## Don't copy columns"
      ],
      "metadata": {
        "id": "WZln3yX-j9Hs"
      },
      "execution_count": 41,
      "outputs": []
    },
    {
      "cell_type": "code",
      "source": [
        "transform(iris, Not(:SepalLength))"
      ],
      "metadata": {
        "colab": {
          "base_uri": "https://localhost:8080/",
          "height": 630
        },
        "id": "VBqroxDZGeVl",
        "outputId": "386698b6-cc87-43ae-89f1-501c0106b3e8"
      },
      "execution_count": 42,
      "outputs": [
        {
          "output_type": "execute_result",
          "data": {
            "text/plain": [
              "\u001b[1m150×5 DataFrame\u001b[0m\n",
              "\u001b[1m Row \u001b[0m│\u001b[1m SepalLength \u001b[0m\u001b[1m SepalWidth \u001b[0m\u001b[1m PetalLength \u001b[0m\u001b[1m PetalWidth \u001b[0m\u001b[1m Species   \u001b[0m\n",
              "     │\u001b[90m Float64     \u001b[0m\u001b[90m Float64    \u001b[0m\u001b[90m Float64     \u001b[0m\u001b[90m Float64    \u001b[0m\u001b[90m Cat…      \u001b[0m\n",
              "─────┼─────────────────────────────────────────────────────────────\n",
              "   1 │         5.1         3.5          1.4         0.2  setosa\n",
              "   2 │         4.9         3.0          1.4         0.2  setosa\n",
              "   3 │         4.7         3.2          1.3         0.2  setosa\n",
              "   4 │         4.6         3.1          1.5         0.2  setosa\n",
              "   5 │         5.0         3.6          1.4         0.2  setosa\n",
              "   6 │         5.4         3.9          1.7         0.4  setosa\n",
              "   7 │         4.6         3.4          1.4         0.3  setosa\n",
              "   8 │         5.0         3.4          1.5         0.2  setosa\n",
              "   9 │         4.4         2.9          1.4         0.2  setosa\n",
              "  10 │         4.9         3.1          1.5         0.1  setosa\n",
              "  11 │         5.4         3.7          1.5         0.2  setosa\n",
              "  ⋮  │      ⋮           ⋮            ⋮           ⋮           ⋮\n",
              " 141 │         6.7         3.1          5.6         2.4  virginica\n",
              " 142 │         6.9         3.1          5.1         2.3  virginica\n",
              " 143 │         5.8         2.7          5.1         1.9  virginica\n",
              " 144 │         6.8         3.2          5.9         2.3  virginica\n",
              " 145 │         6.7         3.3          5.7         2.5  virginica\n",
              " 146 │         6.7         3.0          5.2         2.3  virginica\n",
              " 147 │         6.3         2.5          5.0         1.9  virginica\n",
              " 148 │         6.5         3.0          5.2         2.0  virginica\n",
              " 149 │         6.2         3.4          5.4         2.3  virginica\n",
              " 150 │         5.9         3.0          5.1         1.8  virginica\n",
              "\u001b[36m                                                   129 rows omitted\u001b[0m"
            ],
            "text/html": [
              "<div><div style = \"float: left;\"><span>150×5 DataFrame</span></div><div style = \"float: right;\"><span style = \"font-style: italic;\">125 rows omitted</span></div><div style = \"clear: both;\"></div></div><div class = \"data-frame\" style = \"overflow-x: scroll;\"><table class = \"data-frame\" style = \"margin-bottom: 6px;\"><thead><tr class = \"header\"><th class = \"rowNumber\" style = \"font-weight: bold; text-align: right;\">Row</th><th style = \"text-align: left;\">SepalLength</th><th style = \"text-align: left;\">SepalWidth</th><th style = \"text-align: left;\">PetalLength</th><th style = \"text-align: left;\">PetalWidth</th><th style = \"text-align: left;\">Species</th></tr><tr class = \"subheader headerLastRow\"><th class = \"rowNumber\" style = \"font-weight: bold; text-align: right;\"></th><th title = \"Float64\" style = \"text-align: left;\">Float64</th><th title = \"Float64\" style = \"text-align: left;\">Float64</th><th title = \"Float64\" style = \"text-align: left;\">Float64</th><th title = \"Float64\" style = \"text-align: left;\">Float64</th><th title = \"CategoricalArrays.CategoricalValue{String, UInt8}\" style = \"text-align: left;\">Cat…</th></tr></thead><tbody><tr><td class = \"rowNumber\" style = \"font-weight: bold; text-align: right;\">1</td><td style = \"text-align: right;\">5.1</td><td style = \"text-align: right;\">3.5</td><td style = \"text-align: right;\">1.4</td><td style = \"text-align: right;\">0.2</td><td style = \"text-align: left;\">setosa</td></tr><tr><td class = \"rowNumber\" style = \"font-weight: bold; text-align: right;\">2</td><td style = \"text-align: right;\">4.9</td><td style = \"text-align: right;\">3.0</td><td style = \"text-align: right;\">1.4</td><td style = \"text-align: right;\">0.2</td><td style = \"text-align: left;\">setosa</td></tr><tr><td class = \"rowNumber\" style = \"font-weight: bold; text-align: right;\">3</td><td style = \"text-align: right;\">4.7</td><td style = \"text-align: right;\">3.2</td><td style = \"text-align: right;\">1.3</td><td style = \"text-align: right;\">0.2</td><td style = \"text-align: left;\">setosa</td></tr><tr><td class = \"rowNumber\" style = \"font-weight: bold; text-align: right;\">4</td><td style = \"text-align: right;\">4.6</td><td style = \"text-align: right;\">3.1</td><td style = \"text-align: right;\">1.5</td><td style = \"text-align: right;\">0.2</td><td style = \"text-align: left;\">setosa</td></tr><tr><td class = \"rowNumber\" style = \"font-weight: bold; text-align: right;\">5</td><td style = \"text-align: right;\">5.0</td><td style = \"text-align: right;\">3.6</td><td style = \"text-align: right;\">1.4</td><td style = \"text-align: right;\">0.2</td><td style = \"text-align: left;\">setosa</td></tr><tr><td class = \"rowNumber\" style = \"font-weight: bold; text-align: right;\">6</td><td style = \"text-align: right;\">5.4</td><td style = \"text-align: right;\">3.9</td><td style = \"text-align: right;\">1.7</td><td style = \"text-align: right;\">0.4</td><td style = \"text-align: left;\">setosa</td></tr><tr><td class = \"rowNumber\" style = \"font-weight: bold; text-align: right;\">7</td><td style = \"text-align: right;\">4.6</td><td style = \"text-align: right;\">3.4</td><td style = \"text-align: right;\">1.4</td><td style = \"text-align: right;\">0.3</td><td style = \"text-align: left;\">setosa</td></tr><tr><td class = \"rowNumber\" style = \"font-weight: bold; text-align: right;\">8</td><td style = \"text-align: right;\">5.0</td><td style = \"text-align: right;\">3.4</td><td style = \"text-align: right;\">1.5</td><td style = \"text-align: right;\">0.2</td><td style = \"text-align: left;\">setosa</td></tr><tr><td class = \"rowNumber\" style = \"font-weight: bold; text-align: right;\">9</td><td style = \"text-align: right;\">4.4</td><td style = \"text-align: right;\">2.9</td><td style = \"text-align: right;\">1.4</td><td style = \"text-align: right;\">0.2</td><td style = \"text-align: left;\">setosa</td></tr><tr><td class = \"rowNumber\" style = \"font-weight: bold; text-align: right;\">10</td><td style = \"text-align: right;\">4.9</td><td style = \"text-align: right;\">3.1</td><td style = \"text-align: right;\">1.5</td><td style = \"text-align: right;\">0.1</td><td style = \"text-align: left;\">setosa</td></tr><tr><td class = \"rowNumber\" style = \"font-weight: bold; text-align: right;\">11</td><td style = \"text-align: right;\">5.4</td><td style = \"text-align: right;\">3.7</td><td style = \"text-align: right;\">1.5</td><td style = \"text-align: right;\">0.2</td><td style = \"text-align: left;\">setosa</td></tr><tr><td class = \"rowNumber\" style = \"font-weight: bold; text-align: right;\">12</td><td style = \"text-align: right;\">4.8</td><td style = \"text-align: right;\">3.4</td><td style = \"text-align: right;\">1.6</td><td style = \"text-align: right;\">0.2</td><td style = \"text-align: left;\">setosa</td></tr><tr><td class = \"rowNumber\" style = \"font-weight: bold; text-align: right;\">13</td><td style = \"text-align: right;\">4.8</td><td style = \"text-align: right;\">3.0</td><td style = \"text-align: right;\">1.4</td><td style = \"text-align: right;\">0.1</td><td style = \"text-align: left;\">setosa</td></tr><tr><td style = \"text-align: right;\">&vellip;</td><td style = \"text-align: right;\">&vellip;</td><td style = \"text-align: right;\">&vellip;</td><td style = \"text-align: right;\">&vellip;</td><td style = \"text-align: right;\">&vellip;</td><td style = \"text-align: right;\">&vellip;</td></tr><tr><td class = \"rowNumber\" style = \"font-weight: bold; text-align: right;\">139</td><td style = \"text-align: right;\">6.0</td><td style = \"text-align: right;\">3.0</td><td style = \"text-align: right;\">4.8</td><td style = \"text-align: right;\">1.8</td><td style = \"text-align: left;\">virginica</td></tr><tr><td class = \"rowNumber\" style = \"font-weight: bold; text-align: right;\">140</td><td style = \"text-align: right;\">6.9</td><td style = \"text-align: right;\">3.1</td><td style = \"text-align: right;\">5.4</td><td style = \"text-align: right;\">2.1</td><td style = \"text-align: left;\">virginica</td></tr><tr><td class = \"rowNumber\" style = \"font-weight: bold; text-align: right;\">141</td><td style = \"text-align: right;\">6.7</td><td style = \"text-align: right;\">3.1</td><td style = \"text-align: right;\">5.6</td><td style = \"text-align: right;\">2.4</td><td style = \"text-align: left;\">virginica</td></tr><tr><td class = \"rowNumber\" style = \"font-weight: bold; text-align: right;\">142</td><td style = \"text-align: right;\">6.9</td><td style = \"text-align: right;\">3.1</td><td style = \"text-align: right;\">5.1</td><td style = \"text-align: right;\">2.3</td><td style = \"text-align: left;\">virginica</td></tr><tr><td class = \"rowNumber\" style = \"font-weight: bold; text-align: right;\">143</td><td style = \"text-align: right;\">5.8</td><td style = \"text-align: right;\">2.7</td><td style = \"text-align: right;\">5.1</td><td style = \"text-align: right;\">1.9</td><td style = \"text-align: left;\">virginica</td></tr><tr><td class = \"rowNumber\" style = \"font-weight: bold; text-align: right;\">144</td><td style = \"text-align: right;\">6.8</td><td style = \"text-align: right;\">3.2</td><td style = \"text-align: right;\">5.9</td><td style = \"text-align: right;\">2.3</td><td style = \"text-align: left;\">virginica</td></tr><tr><td class = \"rowNumber\" style = \"font-weight: bold; text-align: right;\">145</td><td style = \"text-align: right;\">6.7</td><td style = \"text-align: right;\">3.3</td><td style = \"text-align: right;\">5.7</td><td style = \"text-align: right;\">2.5</td><td style = \"text-align: left;\">virginica</td></tr><tr><td class = \"rowNumber\" style = \"font-weight: bold; text-align: right;\">146</td><td style = \"text-align: right;\">6.7</td><td style = \"text-align: right;\">3.0</td><td style = \"text-align: right;\">5.2</td><td style = \"text-align: right;\">2.3</td><td style = \"text-align: left;\">virginica</td></tr><tr><td class = \"rowNumber\" style = \"font-weight: bold; text-align: right;\">147</td><td style = \"text-align: right;\">6.3</td><td style = \"text-align: right;\">2.5</td><td style = \"text-align: right;\">5.0</td><td style = \"text-align: right;\">1.9</td><td style = \"text-align: left;\">virginica</td></tr><tr><td class = \"rowNumber\" style = \"font-weight: bold; text-align: right;\">148</td><td style = \"text-align: right;\">6.5</td><td style = \"text-align: right;\">3.0</td><td style = \"text-align: right;\">5.2</td><td style = \"text-align: right;\">2.0</td><td style = \"text-align: left;\">virginica</td></tr><tr><td class = \"rowNumber\" style = \"font-weight: bold; text-align: right;\">149</td><td style = \"text-align: right;\">6.2</td><td style = \"text-align: right;\">3.4</td><td style = \"text-align: right;\">5.4</td><td style = \"text-align: right;\">2.3</td><td style = \"text-align: left;\">virginica</td></tr><tr><td class = \"rowNumber\" style = \"font-weight: bold; text-align: right;\">150</td><td style = \"text-align: right;\">5.9</td><td style = \"text-align: right;\">3.0</td><td style = \"text-align: right;\">5.1</td><td style = \"text-align: right;\">1.8</td><td style = \"text-align: left;\">virginica</td></tr></tbody></table></div>"
            ],
            "text/latex": "\\begin{tabular}{r|ccccc}\n\t& SepalLength & SepalWidth & PetalLength & PetalWidth & Species\\\\\n\t\\hline\n\t& Float64 & Float64 & Float64 & Float64 & Cat…\\\\\n\t\\hline\n\t1 & 5.1 & 3.5 & 1.4 & 0.2 & setosa \\\\\n\t2 & 4.9 & 3.0 & 1.4 & 0.2 & setosa \\\\\n\t3 & 4.7 & 3.2 & 1.3 & 0.2 & setosa \\\\\n\t4 & 4.6 & 3.1 & 1.5 & 0.2 & setosa \\\\\n\t5 & 5.0 & 3.6 & 1.4 & 0.2 & setosa \\\\\n\t6 & 5.4 & 3.9 & 1.7 & 0.4 & setosa \\\\\n\t7 & 4.6 & 3.4 & 1.4 & 0.3 & setosa \\\\\n\t8 & 5.0 & 3.4 & 1.5 & 0.2 & setosa \\\\\n\t9 & 4.4 & 2.9 & 1.4 & 0.2 & setosa \\\\\n\t10 & 4.9 & 3.1 & 1.5 & 0.1 & setosa \\\\\n\t11 & 5.4 & 3.7 & 1.5 & 0.2 & setosa \\\\\n\t12 & 4.8 & 3.4 & 1.6 & 0.2 & setosa \\\\\n\t13 & 4.8 & 3.0 & 1.4 & 0.1 & setosa \\\\\n\t14 & 4.3 & 3.0 & 1.1 & 0.1 & setosa \\\\\n\t15 & 5.8 & 4.0 & 1.2 & 0.2 & setosa \\\\\n\t16 & 5.7 & 4.4 & 1.5 & 0.4 & setosa \\\\\n\t17 & 5.4 & 3.9 & 1.3 & 0.4 & setosa \\\\\n\t18 & 5.1 & 3.5 & 1.4 & 0.3 & setosa \\\\\n\t19 & 5.7 & 3.8 & 1.7 & 0.3 & setosa \\\\\n\t20 & 5.1 & 3.8 & 1.5 & 0.3 & setosa \\\\\n\t21 & 5.4 & 3.4 & 1.7 & 0.2 & setosa \\\\\n\t22 & 5.1 & 3.7 & 1.5 & 0.4 & setosa \\\\\n\t23 & 4.6 & 3.6 & 1.0 & 0.2 & setosa \\\\\n\t24 & 5.1 & 3.3 & 1.7 & 0.5 & setosa \\\\\n\t25 & 4.8 & 3.4 & 1.9 & 0.2 & setosa \\\\\n\t26 & 5.0 & 3.0 & 1.6 & 0.2 & setosa \\\\\n\t27 & 5.0 & 3.4 & 1.6 & 0.4 & setosa \\\\\n\t28 & 5.2 & 3.5 & 1.5 & 0.2 & setosa \\\\\n\t29 & 5.2 & 3.4 & 1.4 & 0.2 & setosa \\\\\n\t30 & 4.7 & 3.2 & 1.6 & 0.2 & setosa \\\\\n\t$\\dots$ & $\\dots$ & $\\dots$ & $\\dots$ & $\\dots$ & $\\dots$ \\\\\n\\end{tabular}\n"
          },
          "metadata": {},
          "execution_count": 42
        }
      ]
    },
    {
      "cell_type": "code",
      "source": [
        "transform(iris, Not(:SepalLength)) == select(iris, Not(:SepalLength)) # true"
      ],
      "metadata": {
        "id": "ftlK4jCmj-6h",
        "outputId": "84767261-d677-4593-b10b-d08a48aed225",
        "colab": {
          "base_uri": "https://localhost:8080/"
        }
      },
      "execution_count": 43,
      "outputs": [
        {
          "output_type": "execute_result",
          "data": {
            "text/plain": [
              "false"
            ]
          },
          "metadata": {},
          "execution_count": 43
        }
      ]
    },
    {
      "cell_type": "code",
      "source": [
        "transform(iris, :SepalLength => s -> s * 2) # returns new column"
      ],
      "metadata": {
        "id": "1zoYKlQtkABR",
        "outputId": "51836987-2b91-4612-f5a8-009470e07aff",
        "colab": {
          "base_uri": "https://localhost:8080/",
          "height": 630
        }
      },
      "execution_count": 44,
      "outputs": [
        {
          "output_type": "execute_result",
          "data": {
            "text/plain": [
              "\u001b[1m150×6 DataFrame\u001b[0m\n",
              "\u001b[1m Row \u001b[0m│\u001b[1m SepalLength \u001b[0m\u001b[1m SepalWidth \u001b[0m\u001b[1m PetalLength \u001b[0m\u001b[1m PetalWidth \u001b[0m\u001b[1m Species   \u001b[0m\u001b[1m SepalLength_function \u001b[0m\n",
              "     │\u001b[90m Float64     \u001b[0m\u001b[90m Float64    \u001b[0m\u001b[90m Float64     \u001b[0m\u001b[90m Float64    \u001b[0m\u001b[90m Cat…      \u001b[0m\u001b[90m Float64              \u001b[0m\n",
              "─────┼───────────────────────────────────────────────────────────────────────────────────\n",
              "   1 │         5.1         3.5          1.4         0.2  setosa                     10.2\n",
              "   2 │         4.9         3.0          1.4         0.2  setosa                      9.8\n",
              "   3 │         4.7         3.2          1.3         0.2  setosa                      9.4\n",
              "   4 │         4.6         3.1          1.5         0.2  setosa                      9.2\n",
              "   5 │         5.0         3.6          1.4         0.2  setosa                     10.0\n",
              "   6 │         5.4         3.9          1.7         0.4  setosa                     10.8\n",
              "   7 │         4.6         3.4          1.4         0.3  setosa                      9.2\n",
              "   8 │         5.0         3.4          1.5         0.2  setosa                     10.0\n",
              "   9 │         4.4         2.9          1.4         0.2  setosa                      8.8\n",
              "  10 │         4.9         3.1          1.5         0.1  setosa                      9.8\n",
              "  11 │         5.4         3.7          1.5         0.2  setosa                     10.8\n",
              "  ⋮  │      ⋮           ⋮            ⋮           ⋮           ⋮               ⋮\n",
              " 141 │         6.7         3.1          5.6         2.4  virginica                  13.4\n",
              " 142 │         6.9         3.1          5.1         2.3  virginica                  13.8\n",
              " 143 │         5.8         2.7          5.1         1.9  virginica                  11.6\n",
              " 144 │         6.8         3.2          5.9         2.3  virginica                  13.6\n",
              " 145 │         6.7         3.3          5.7         2.5  virginica                  13.4\n",
              " 146 │         6.7         3.0          5.2         2.3  virginica                  13.4\n",
              " 147 │         6.3         2.5          5.0         1.9  virginica                  12.6\n",
              " 148 │         6.5         3.0          5.2         2.0  virginica                  13.0\n",
              " 149 │         6.2         3.4          5.4         2.3  virginica                  12.4\n",
              " 150 │         5.9         3.0          5.1         1.8  virginica                  11.8\n",
              "\u001b[36m                                                                         129 rows omitted\u001b[0m"
            ],
            "text/html": [
              "<div><div style = \"float: left;\"><span>150×6 DataFrame</span></div><div style = \"float: right;\"><span style = \"font-style: italic;\">125 rows omitted</span></div><div style = \"clear: both;\"></div></div><div class = \"data-frame\" style = \"overflow-x: scroll;\"><table class = \"data-frame\" style = \"margin-bottom: 6px;\"><thead><tr class = \"header\"><th class = \"rowNumber\" style = \"font-weight: bold; text-align: right;\">Row</th><th style = \"text-align: left;\">SepalLength</th><th style = \"text-align: left;\">SepalWidth</th><th style = \"text-align: left;\">PetalLength</th><th style = \"text-align: left;\">PetalWidth</th><th style = \"text-align: left;\">Species</th><th style = \"text-align: left;\">SepalLength_function</th></tr><tr class = \"subheader headerLastRow\"><th class = \"rowNumber\" style = \"font-weight: bold; text-align: right;\"></th><th title = \"Float64\" style = \"text-align: left;\">Float64</th><th title = \"Float64\" style = \"text-align: left;\">Float64</th><th title = \"Float64\" style = \"text-align: left;\">Float64</th><th title = \"Float64\" style = \"text-align: left;\">Float64</th><th title = \"CategoricalArrays.CategoricalValue{String, UInt8}\" style = \"text-align: left;\">Cat…</th><th title = \"Float64\" style = \"text-align: left;\">Float64</th></tr></thead><tbody><tr><td class = \"rowNumber\" style = \"font-weight: bold; text-align: right;\">1</td><td style = \"text-align: right;\">5.1</td><td style = \"text-align: right;\">3.5</td><td style = \"text-align: right;\">1.4</td><td style = \"text-align: right;\">0.2</td><td style = \"text-align: left;\">setosa</td><td style = \"text-align: right;\">10.2</td></tr><tr><td class = \"rowNumber\" style = \"font-weight: bold; text-align: right;\">2</td><td style = \"text-align: right;\">4.9</td><td style = \"text-align: right;\">3.0</td><td style = \"text-align: right;\">1.4</td><td style = \"text-align: right;\">0.2</td><td style = \"text-align: left;\">setosa</td><td style = \"text-align: right;\">9.8</td></tr><tr><td class = \"rowNumber\" style = \"font-weight: bold; text-align: right;\">3</td><td style = \"text-align: right;\">4.7</td><td style = \"text-align: right;\">3.2</td><td style = \"text-align: right;\">1.3</td><td style = \"text-align: right;\">0.2</td><td style = \"text-align: left;\">setosa</td><td style = \"text-align: right;\">9.4</td></tr><tr><td class = \"rowNumber\" style = \"font-weight: bold; text-align: right;\">4</td><td style = \"text-align: right;\">4.6</td><td style = \"text-align: right;\">3.1</td><td style = \"text-align: right;\">1.5</td><td style = \"text-align: right;\">0.2</td><td style = \"text-align: left;\">setosa</td><td style = \"text-align: right;\">9.2</td></tr><tr><td class = \"rowNumber\" style = \"font-weight: bold; text-align: right;\">5</td><td style = \"text-align: right;\">5.0</td><td style = \"text-align: right;\">3.6</td><td style = \"text-align: right;\">1.4</td><td style = \"text-align: right;\">0.2</td><td style = \"text-align: left;\">setosa</td><td style = \"text-align: right;\">10.0</td></tr><tr><td class = \"rowNumber\" style = \"font-weight: bold; text-align: right;\">6</td><td style = \"text-align: right;\">5.4</td><td style = \"text-align: right;\">3.9</td><td style = \"text-align: right;\">1.7</td><td style = \"text-align: right;\">0.4</td><td style = \"text-align: left;\">setosa</td><td style = \"text-align: right;\">10.8</td></tr><tr><td class = \"rowNumber\" style = \"font-weight: bold; text-align: right;\">7</td><td style = \"text-align: right;\">4.6</td><td style = \"text-align: right;\">3.4</td><td style = \"text-align: right;\">1.4</td><td style = \"text-align: right;\">0.3</td><td style = \"text-align: left;\">setosa</td><td style = \"text-align: right;\">9.2</td></tr><tr><td class = \"rowNumber\" style = \"font-weight: bold; text-align: right;\">8</td><td style = \"text-align: right;\">5.0</td><td style = \"text-align: right;\">3.4</td><td style = \"text-align: right;\">1.5</td><td style = \"text-align: right;\">0.2</td><td style = \"text-align: left;\">setosa</td><td style = \"text-align: right;\">10.0</td></tr><tr><td class = \"rowNumber\" style = \"font-weight: bold; text-align: right;\">9</td><td style = \"text-align: right;\">4.4</td><td style = \"text-align: right;\">2.9</td><td style = \"text-align: right;\">1.4</td><td style = \"text-align: right;\">0.2</td><td style = \"text-align: left;\">setosa</td><td style = \"text-align: right;\">8.8</td></tr><tr><td class = \"rowNumber\" style = \"font-weight: bold; text-align: right;\">10</td><td style = \"text-align: right;\">4.9</td><td style = \"text-align: right;\">3.1</td><td style = \"text-align: right;\">1.5</td><td style = \"text-align: right;\">0.1</td><td style = \"text-align: left;\">setosa</td><td style = \"text-align: right;\">9.8</td></tr><tr><td class = \"rowNumber\" style = \"font-weight: bold; text-align: right;\">11</td><td style = \"text-align: right;\">5.4</td><td style = \"text-align: right;\">3.7</td><td style = \"text-align: right;\">1.5</td><td style = \"text-align: right;\">0.2</td><td style = \"text-align: left;\">setosa</td><td style = \"text-align: right;\">10.8</td></tr><tr><td class = \"rowNumber\" style = \"font-weight: bold; text-align: right;\">12</td><td style = \"text-align: right;\">4.8</td><td style = \"text-align: right;\">3.4</td><td style = \"text-align: right;\">1.6</td><td style = \"text-align: right;\">0.2</td><td style = \"text-align: left;\">setosa</td><td style = \"text-align: right;\">9.6</td></tr><tr><td class = \"rowNumber\" style = \"font-weight: bold; text-align: right;\">13</td><td style = \"text-align: right;\">4.8</td><td style = \"text-align: right;\">3.0</td><td style = \"text-align: right;\">1.4</td><td style = \"text-align: right;\">0.1</td><td style = \"text-align: left;\">setosa</td><td style = \"text-align: right;\">9.6</td></tr><tr><td style = \"text-align: right;\">&vellip;</td><td style = \"text-align: right;\">&vellip;</td><td style = \"text-align: right;\">&vellip;</td><td style = \"text-align: right;\">&vellip;</td><td style = \"text-align: right;\">&vellip;</td><td style = \"text-align: right;\">&vellip;</td><td style = \"text-align: right;\">&vellip;</td></tr><tr><td class = \"rowNumber\" style = \"font-weight: bold; text-align: right;\">139</td><td style = \"text-align: right;\">6.0</td><td style = \"text-align: right;\">3.0</td><td style = \"text-align: right;\">4.8</td><td style = \"text-align: right;\">1.8</td><td style = \"text-align: left;\">virginica</td><td style = \"text-align: right;\">12.0</td></tr><tr><td class = \"rowNumber\" style = \"font-weight: bold; text-align: right;\">140</td><td style = \"text-align: right;\">6.9</td><td style = \"text-align: right;\">3.1</td><td style = \"text-align: right;\">5.4</td><td style = \"text-align: right;\">2.1</td><td style = \"text-align: left;\">virginica</td><td style = \"text-align: right;\">13.8</td></tr><tr><td class = \"rowNumber\" style = \"font-weight: bold; text-align: right;\">141</td><td style = \"text-align: right;\">6.7</td><td style = \"text-align: right;\">3.1</td><td style = \"text-align: right;\">5.6</td><td style = \"text-align: right;\">2.4</td><td style = \"text-align: left;\">virginica</td><td style = \"text-align: right;\">13.4</td></tr><tr><td class = \"rowNumber\" style = \"font-weight: bold; text-align: right;\">142</td><td style = \"text-align: right;\">6.9</td><td style = \"text-align: right;\">3.1</td><td style = \"text-align: right;\">5.1</td><td style = \"text-align: right;\">2.3</td><td style = \"text-align: left;\">virginica</td><td style = \"text-align: right;\">13.8</td></tr><tr><td class = \"rowNumber\" style = \"font-weight: bold; text-align: right;\">143</td><td style = \"text-align: right;\">5.8</td><td style = \"text-align: right;\">2.7</td><td style = \"text-align: right;\">5.1</td><td style = \"text-align: right;\">1.9</td><td style = \"text-align: left;\">virginica</td><td style = \"text-align: right;\">11.6</td></tr><tr><td class = \"rowNumber\" style = \"font-weight: bold; text-align: right;\">144</td><td style = \"text-align: right;\">6.8</td><td style = \"text-align: right;\">3.2</td><td style = \"text-align: right;\">5.9</td><td style = \"text-align: right;\">2.3</td><td style = \"text-align: left;\">virginica</td><td style = \"text-align: right;\">13.6</td></tr><tr><td class = \"rowNumber\" style = \"font-weight: bold; text-align: right;\">145</td><td style = \"text-align: right;\">6.7</td><td style = \"text-align: right;\">3.3</td><td style = \"text-align: right;\">5.7</td><td style = \"text-align: right;\">2.5</td><td style = \"text-align: left;\">virginica</td><td style = \"text-align: right;\">13.4</td></tr><tr><td class = \"rowNumber\" style = \"font-weight: bold; text-align: right;\">146</td><td style = \"text-align: right;\">6.7</td><td style = \"text-align: right;\">3.0</td><td style = \"text-align: right;\">5.2</td><td style = \"text-align: right;\">2.3</td><td style = \"text-align: left;\">virginica</td><td style = \"text-align: right;\">13.4</td></tr><tr><td class = \"rowNumber\" style = \"font-weight: bold; text-align: right;\">147</td><td style = \"text-align: right;\">6.3</td><td style = \"text-align: right;\">2.5</td><td style = \"text-align: right;\">5.0</td><td style = \"text-align: right;\">1.9</td><td style = \"text-align: left;\">virginica</td><td style = \"text-align: right;\">12.6</td></tr><tr><td class = \"rowNumber\" style = \"font-weight: bold; text-align: right;\">148</td><td style = \"text-align: right;\">6.5</td><td style = \"text-align: right;\">3.0</td><td style = \"text-align: right;\">5.2</td><td style = \"text-align: right;\">2.0</td><td style = \"text-align: left;\">virginica</td><td style = \"text-align: right;\">13.0</td></tr><tr><td class = \"rowNumber\" style = \"font-weight: bold; text-align: right;\">149</td><td style = \"text-align: right;\">6.2</td><td style = \"text-align: right;\">3.4</td><td style = \"text-align: right;\">5.4</td><td style = \"text-align: right;\">2.3</td><td style = \"text-align: left;\">virginica</td><td style = \"text-align: right;\">12.4</td></tr><tr><td class = \"rowNumber\" style = \"font-weight: bold; text-align: right;\">150</td><td style = \"text-align: right;\">5.9</td><td style = \"text-align: right;\">3.0</td><td style = \"text-align: right;\">5.1</td><td style = \"text-align: right;\">1.8</td><td style = \"text-align: left;\">virginica</td><td style = \"text-align: right;\">11.8</td></tr></tbody></table></div>"
            ],
            "text/latex": "\\begin{tabular}{r|cccccc}\n\t& SepalLength & SepalWidth & PetalLength & PetalWidth & Species & SepalLength\\_function\\\\\n\t\\hline\n\t& Float64 & Float64 & Float64 & Float64 & Cat… & Float64\\\\\n\t\\hline\n\t1 & 5.1 & 3.5 & 1.4 & 0.2 & setosa & 10.2 \\\\\n\t2 & 4.9 & 3.0 & 1.4 & 0.2 & setosa & 9.8 \\\\\n\t3 & 4.7 & 3.2 & 1.3 & 0.2 & setosa & 9.4 \\\\\n\t4 & 4.6 & 3.1 & 1.5 & 0.2 & setosa & 9.2 \\\\\n\t5 & 5.0 & 3.6 & 1.4 & 0.2 & setosa & 10.0 \\\\\n\t6 & 5.4 & 3.9 & 1.7 & 0.4 & setosa & 10.8 \\\\\n\t7 & 4.6 & 3.4 & 1.4 & 0.3 & setosa & 9.2 \\\\\n\t8 & 5.0 & 3.4 & 1.5 & 0.2 & setosa & 10.0 \\\\\n\t9 & 4.4 & 2.9 & 1.4 & 0.2 & setosa & 8.8 \\\\\n\t10 & 4.9 & 3.1 & 1.5 & 0.1 & setosa & 9.8 \\\\\n\t11 & 5.4 & 3.7 & 1.5 & 0.2 & setosa & 10.8 \\\\\n\t12 & 4.8 & 3.4 & 1.6 & 0.2 & setosa & 9.6 \\\\\n\t13 & 4.8 & 3.0 & 1.4 & 0.1 & setosa & 9.6 \\\\\n\t14 & 4.3 & 3.0 & 1.1 & 0.1 & setosa & 8.6 \\\\\n\t15 & 5.8 & 4.0 & 1.2 & 0.2 & setosa & 11.6 \\\\\n\t16 & 5.7 & 4.4 & 1.5 & 0.4 & setosa & 11.4 \\\\\n\t17 & 5.4 & 3.9 & 1.3 & 0.4 & setosa & 10.8 \\\\\n\t18 & 5.1 & 3.5 & 1.4 & 0.3 & setosa & 10.2 \\\\\n\t19 & 5.7 & 3.8 & 1.7 & 0.3 & setosa & 11.4 \\\\\n\t20 & 5.1 & 3.8 & 1.5 & 0.3 & setosa & 10.2 \\\\\n\t21 & 5.4 & 3.4 & 1.7 & 0.2 & setosa & 10.8 \\\\\n\t22 & 5.1 & 3.7 & 1.5 & 0.4 & setosa & 10.2 \\\\\n\t23 & 4.6 & 3.6 & 1.0 & 0.2 & setosa & 9.2 \\\\\n\t24 & 5.1 & 3.3 & 1.7 & 0.5 & setosa & 10.2 \\\\\n\t25 & 4.8 & 3.4 & 1.9 & 0.2 & setosa & 9.6 \\\\\n\t26 & 5.0 & 3.0 & 1.6 & 0.2 & setosa & 10.0 \\\\\n\t27 & 5.0 & 3.4 & 1.6 & 0.4 & setosa & 10.0 \\\\\n\t28 & 5.2 & 3.5 & 1.5 & 0.2 & setosa & 10.4 \\\\\n\t29 & 5.2 & 3.4 & 1.4 & 0.2 & setosa & 10.4 \\\\\n\t30 & 4.7 & 3.2 & 1.6 & 0.2 & setosa & 9.4 \\\\\n\t$\\dots$ & $\\dots$ & $\\dots$ & $\\dots$ & $\\dots$ & $\\dots$ & $\\dots$ \\\\\n\\end{tabular}\n"
          },
          "metadata": {},
          "execution_count": 44
        }
      ]
    },
    {
      "cell_type": "code",
      "source": [
        "transform(iris, :SepalLength => (s -> s * 2) => :SepalLength2) # returns new column"
      ],
      "metadata": {
        "id": "u3Aml72VkKPq",
        "outputId": "ed948765-846d-4bec-a35f-e33c5a653917",
        "colab": {
          "base_uri": "https://localhost:8080/",
          "height": 630
        }
      },
      "execution_count": 45,
      "outputs": [
        {
          "output_type": "execute_result",
          "data": {
            "text/plain": [
              "\u001b[1m150×6 DataFrame\u001b[0m\n",
              "\u001b[1m Row \u001b[0m│\u001b[1m SepalLength \u001b[0m\u001b[1m SepalWidth \u001b[0m\u001b[1m PetalLength \u001b[0m\u001b[1m PetalWidth \u001b[0m\u001b[1m Species   \u001b[0m\u001b[1m SepalLength2 \u001b[0m\n",
              "     │\u001b[90m Float64     \u001b[0m\u001b[90m Float64    \u001b[0m\u001b[90m Float64     \u001b[0m\u001b[90m Float64    \u001b[0m\u001b[90m Cat…      \u001b[0m\u001b[90m Float64      \u001b[0m\n",
              "─────┼───────────────────────────────────────────────────────────────────────────\n",
              "   1 │         5.1         3.5          1.4         0.2  setosa             10.2\n",
              "   2 │         4.9         3.0          1.4         0.2  setosa              9.8\n",
              "   3 │         4.7         3.2          1.3         0.2  setosa              9.4\n",
              "   4 │         4.6         3.1          1.5         0.2  setosa              9.2\n",
              "   5 │         5.0         3.6          1.4         0.2  setosa             10.0\n",
              "   6 │         5.4         3.9          1.7         0.4  setosa             10.8\n",
              "   7 │         4.6         3.4          1.4         0.3  setosa              9.2\n",
              "   8 │         5.0         3.4          1.5         0.2  setosa             10.0\n",
              "   9 │         4.4         2.9          1.4         0.2  setosa              8.8\n",
              "  10 │         4.9         3.1          1.5         0.1  setosa              9.8\n",
              "  11 │         5.4         3.7          1.5         0.2  setosa             10.8\n",
              "  ⋮  │      ⋮           ⋮            ⋮           ⋮           ⋮           ⋮\n",
              " 141 │         6.7         3.1          5.6         2.4  virginica          13.4\n",
              " 142 │         6.9         3.1          5.1         2.3  virginica          13.8\n",
              " 143 │         5.8         2.7          5.1         1.9  virginica          11.6\n",
              " 144 │         6.8         3.2          5.9         2.3  virginica          13.6\n",
              " 145 │         6.7         3.3          5.7         2.5  virginica          13.4\n",
              " 146 │         6.7         3.0          5.2         2.3  virginica          13.4\n",
              " 147 │         6.3         2.5          5.0         1.9  virginica          12.6\n",
              " 148 │         6.5         3.0          5.2         2.0  virginica          13.0\n",
              " 149 │         6.2         3.4          5.4         2.3  virginica          12.4\n",
              " 150 │         5.9         3.0          5.1         1.8  virginica          11.8\n",
              "\u001b[36m                                                                 129 rows omitted\u001b[0m"
            ],
            "text/html": [
              "<div><div style = \"float: left;\"><span>150×6 DataFrame</span></div><div style = \"float: right;\"><span style = \"font-style: italic;\">125 rows omitted</span></div><div style = \"clear: both;\"></div></div><div class = \"data-frame\" style = \"overflow-x: scroll;\"><table class = \"data-frame\" style = \"margin-bottom: 6px;\"><thead><tr class = \"header\"><th class = \"rowNumber\" style = \"font-weight: bold; text-align: right;\">Row</th><th style = \"text-align: left;\">SepalLength</th><th style = \"text-align: left;\">SepalWidth</th><th style = \"text-align: left;\">PetalLength</th><th style = \"text-align: left;\">PetalWidth</th><th style = \"text-align: left;\">Species</th><th style = \"text-align: left;\">SepalLength2</th></tr><tr class = \"subheader headerLastRow\"><th class = \"rowNumber\" style = \"font-weight: bold; text-align: right;\"></th><th title = \"Float64\" style = \"text-align: left;\">Float64</th><th title = \"Float64\" style = \"text-align: left;\">Float64</th><th title = \"Float64\" style = \"text-align: left;\">Float64</th><th title = \"Float64\" style = \"text-align: left;\">Float64</th><th title = \"CategoricalArrays.CategoricalValue{String, UInt8}\" style = \"text-align: left;\">Cat…</th><th title = \"Float64\" style = \"text-align: left;\">Float64</th></tr></thead><tbody><tr><td class = \"rowNumber\" style = \"font-weight: bold; text-align: right;\">1</td><td style = \"text-align: right;\">5.1</td><td style = \"text-align: right;\">3.5</td><td style = \"text-align: right;\">1.4</td><td style = \"text-align: right;\">0.2</td><td style = \"text-align: left;\">setosa</td><td style = \"text-align: right;\">10.2</td></tr><tr><td class = \"rowNumber\" style = \"font-weight: bold; text-align: right;\">2</td><td style = \"text-align: right;\">4.9</td><td style = \"text-align: right;\">3.0</td><td style = \"text-align: right;\">1.4</td><td style = \"text-align: right;\">0.2</td><td style = \"text-align: left;\">setosa</td><td style = \"text-align: right;\">9.8</td></tr><tr><td class = \"rowNumber\" style = \"font-weight: bold; text-align: right;\">3</td><td style = \"text-align: right;\">4.7</td><td style = \"text-align: right;\">3.2</td><td style = \"text-align: right;\">1.3</td><td style = \"text-align: right;\">0.2</td><td style = \"text-align: left;\">setosa</td><td style = \"text-align: right;\">9.4</td></tr><tr><td class = \"rowNumber\" style = \"font-weight: bold; text-align: right;\">4</td><td style = \"text-align: right;\">4.6</td><td style = \"text-align: right;\">3.1</td><td style = \"text-align: right;\">1.5</td><td style = \"text-align: right;\">0.2</td><td style = \"text-align: left;\">setosa</td><td style = \"text-align: right;\">9.2</td></tr><tr><td class = \"rowNumber\" style = \"font-weight: bold; text-align: right;\">5</td><td style = \"text-align: right;\">5.0</td><td style = \"text-align: right;\">3.6</td><td style = \"text-align: right;\">1.4</td><td style = \"text-align: right;\">0.2</td><td style = \"text-align: left;\">setosa</td><td style = \"text-align: right;\">10.0</td></tr><tr><td class = \"rowNumber\" style = \"font-weight: bold; text-align: right;\">6</td><td style = \"text-align: right;\">5.4</td><td style = \"text-align: right;\">3.9</td><td style = \"text-align: right;\">1.7</td><td style = \"text-align: right;\">0.4</td><td style = \"text-align: left;\">setosa</td><td style = \"text-align: right;\">10.8</td></tr><tr><td class = \"rowNumber\" style = \"font-weight: bold; text-align: right;\">7</td><td style = \"text-align: right;\">4.6</td><td style = \"text-align: right;\">3.4</td><td style = \"text-align: right;\">1.4</td><td style = \"text-align: right;\">0.3</td><td style = \"text-align: left;\">setosa</td><td style = \"text-align: right;\">9.2</td></tr><tr><td class = \"rowNumber\" style = \"font-weight: bold; text-align: right;\">8</td><td style = \"text-align: right;\">5.0</td><td style = \"text-align: right;\">3.4</td><td style = \"text-align: right;\">1.5</td><td style = \"text-align: right;\">0.2</td><td style = \"text-align: left;\">setosa</td><td style = \"text-align: right;\">10.0</td></tr><tr><td class = \"rowNumber\" style = \"font-weight: bold; text-align: right;\">9</td><td style = \"text-align: right;\">4.4</td><td style = \"text-align: right;\">2.9</td><td style = \"text-align: right;\">1.4</td><td style = \"text-align: right;\">0.2</td><td style = \"text-align: left;\">setosa</td><td style = \"text-align: right;\">8.8</td></tr><tr><td class = \"rowNumber\" style = \"font-weight: bold; text-align: right;\">10</td><td style = \"text-align: right;\">4.9</td><td style = \"text-align: right;\">3.1</td><td style = \"text-align: right;\">1.5</td><td style = \"text-align: right;\">0.1</td><td style = \"text-align: left;\">setosa</td><td style = \"text-align: right;\">9.8</td></tr><tr><td class = \"rowNumber\" style = \"font-weight: bold; text-align: right;\">11</td><td style = \"text-align: right;\">5.4</td><td style = \"text-align: right;\">3.7</td><td style = \"text-align: right;\">1.5</td><td style = \"text-align: right;\">0.2</td><td style = \"text-align: left;\">setosa</td><td style = \"text-align: right;\">10.8</td></tr><tr><td class = \"rowNumber\" style = \"font-weight: bold; text-align: right;\">12</td><td style = \"text-align: right;\">4.8</td><td style = \"text-align: right;\">3.4</td><td style = \"text-align: right;\">1.6</td><td style = \"text-align: right;\">0.2</td><td style = \"text-align: left;\">setosa</td><td style = \"text-align: right;\">9.6</td></tr><tr><td class = \"rowNumber\" style = \"font-weight: bold; text-align: right;\">13</td><td style = \"text-align: right;\">4.8</td><td style = \"text-align: right;\">3.0</td><td style = \"text-align: right;\">1.4</td><td style = \"text-align: right;\">0.1</td><td style = \"text-align: left;\">setosa</td><td style = \"text-align: right;\">9.6</td></tr><tr><td style = \"text-align: right;\">&vellip;</td><td style = \"text-align: right;\">&vellip;</td><td style = \"text-align: right;\">&vellip;</td><td style = \"text-align: right;\">&vellip;</td><td style = \"text-align: right;\">&vellip;</td><td style = \"text-align: right;\">&vellip;</td><td style = \"text-align: right;\">&vellip;</td></tr><tr><td class = \"rowNumber\" style = \"font-weight: bold; text-align: right;\">139</td><td style = \"text-align: right;\">6.0</td><td style = \"text-align: right;\">3.0</td><td style = \"text-align: right;\">4.8</td><td style = \"text-align: right;\">1.8</td><td style = \"text-align: left;\">virginica</td><td style = \"text-align: right;\">12.0</td></tr><tr><td class = \"rowNumber\" style = \"font-weight: bold; text-align: right;\">140</td><td style = \"text-align: right;\">6.9</td><td style = \"text-align: right;\">3.1</td><td style = \"text-align: right;\">5.4</td><td style = \"text-align: right;\">2.1</td><td style = \"text-align: left;\">virginica</td><td style = \"text-align: right;\">13.8</td></tr><tr><td class = \"rowNumber\" style = \"font-weight: bold; text-align: right;\">141</td><td style = \"text-align: right;\">6.7</td><td style = \"text-align: right;\">3.1</td><td style = \"text-align: right;\">5.6</td><td style = \"text-align: right;\">2.4</td><td style = \"text-align: left;\">virginica</td><td style = \"text-align: right;\">13.4</td></tr><tr><td class = \"rowNumber\" style = \"font-weight: bold; text-align: right;\">142</td><td style = \"text-align: right;\">6.9</td><td style = \"text-align: right;\">3.1</td><td style = \"text-align: right;\">5.1</td><td style = \"text-align: right;\">2.3</td><td style = \"text-align: left;\">virginica</td><td style = \"text-align: right;\">13.8</td></tr><tr><td class = \"rowNumber\" style = \"font-weight: bold; text-align: right;\">143</td><td style = \"text-align: right;\">5.8</td><td style = \"text-align: right;\">2.7</td><td style = \"text-align: right;\">5.1</td><td style = \"text-align: right;\">1.9</td><td style = \"text-align: left;\">virginica</td><td style = \"text-align: right;\">11.6</td></tr><tr><td class = \"rowNumber\" style = \"font-weight: bold; text-align: right;\">144</td><td style = \"text-align: right;\">6.8</td><td style = \"text-align: right;\">3.2</td><td style = \"text-align: right;\">5.9</td><td style = \"text-align: right;\">2.3</td><td style = \"text-align: left;\">virginica</td><td style = \"text-align: right;\">13.6</td></tr><tr><td class = \"rowNumber\" style = \"font-weight: bold; text-align: right;\">145</td><td style = \"text-align: right;\">6.7</td><td style = \"text-align: right;\">3.3</td><td style = \"text-align: right;\">5.7</td><td style = \"text-align: right;\">2.5</td><td style = \"text-align: left;\">virginica</td><td style = \"text-align: right;\">13.4</td></tr><tr><td class = \"rowNumber\" style = \"font-weight: bold; text-align: right;\">146</td><td style = \"text-align: right;\">6.7</td><td style = \"text-align: right;\">3.0</td><td style = \"text-align: right;\">5.2</td><td style = \"text-align: right;\">2.3</td><td style = \"text-align: left;\">virginica</td><td style = \"text-align: right;\">13.4</td></tr><tr><td class = \"rowNumber\" style = \"font-weight: bold; text-align: right;\">147</td><td style = \"text-align: right;\">6.3</td><td style = \"text-align: right;\">2.5</td><td style = \"text-align: right;\">5.0</td><td style = \"text-align: right;\">1.9</td><td style = \"text-align: left;\">virginica</td><td style = \"text-align: right;\">12.6</td></tr><tr><td class = \"rowNumber\" style = \"font-weight: bold; text-align: right;\">148</td><td style = \"text-align: right;\">6.5</td><td style = \"text-align: right;\">3.0</td><td style = \"text-align: right;\">5.2</td><td style = \"text-align: right;\">2.0</td><td style = \"text-align: left;\">virginica</td><td style = \"text-align: right;\">13.0</td></tr><tr><td class = \"rowNumber\" style = \"font-weight: bold; text-align: right;\">149</td><td style = \"text-align: right;\">6.2</td><td style = \"text-align: right;\">3.4</td><td style = \"text-align: right;\">5.4</td><td style = \"text-align: right;\">2.3</td><td style = \"text-align: left;\">virginica</td><td style = \"text-align: right;\">12.4</td></tr><tr><td class = \"rowNumber\" style = \"font-weight: bold; text-align: right;\">150</td><td style = \"text-align: right;\">5.9</td><td style = \"text-align: right;\">3.0</td><td style = \"text-align: right;\">5.1</td><td style = \"text-align: right;\">1.8</td><td style = \"text-align: left;\">virginica</td><td style = \"text-align: right;\">11.8</td></tr></tbody></table></div>"
            ],
            "text/latex": "\\begin{tabular}{r|cccccc}\n\t& SepalLength & SepalWidth & PetalLength & PetalWidth & Species & SepalLength2\\\\\n\t\\hline\n\t& Float64 & Float64 & Float64 & Float64 & Cat… & Float64\\\\\n\t\\hline\n\t1 & 5.1 & 3.5 & 1.4 & 0.2 & setosa & 10.2 \\\\\n\t2 & 4.9 & 3.0 & 1.4 & 0.2 & setosa & 9.8 \\\\\n\t3 & 4.7 & 3.2 & 1.3 & 0.2 & setosa & 9.4 \\\\\n\t4 & 4.6 & 3.1 & 1.5 & 0.2 & setosa & 9.2 \\\\\n\t5 & 5.0 & 3.6 & 1.4 & 0.2 & setosa & 10.0 \\\\\n\t6 & 5.4 & 3.9 & 1.7 & 0.4 & setosa & 10.8 \\\\\n\t7 & 4.6 & 3.4 & 1.4 & 0.3 & setosa & 9.2 \\\\\n\t8 & 5.0 & 3.4 & 1.5 & 0.2 & setosa & 10.0 \\\\\n\t9 & 4.4 & 2.9 & 1.4 & 0.2 & setosa & 8.8 \\\\\n\t10 & 4.9 & 3.1 & 1.5 & 0.1 & setosa & 9.8 \\\\\n\t11 & 5.4 & 3.7 & 1.5 & 0.2 & setosa & 10.8 \\\\\n\t12 & 4.8 & 3.4 & 1.6 & 0.2 & setosa & 9.6 \\\\\n\t13 & 4.8 & 3.0 & 1.4 & 0.1 & setosa & 9.6 \\\\\n\t14 & 4.3 & 3.0 & 1.1 & 0.1 & setosa & 8.6 \\\\\n\t15 & 5.8 & 4.0 & 1.2 & 0.2 & setosa & 11.6 \\\\\n\t16 & 5.7 & 4.4 & 1.5 & 0.4 & setosa & 11.4 \\\\\n\t17 & 5.4 & 3.9 & 1.3 & 0.4 & setosa & 10.8 \\\\\n\t18 & 5.1 & 3.5 & 1.4 & 0.3 & setosa & 10.2 \\\\\n\t19 & 5.7 & 3.8 & 1.7 & 0.3 & setosa & 11.4 \\\\\n\t20 & 5.1 & 3.8 & 1.5 & 0.3 & setosa & 10.2 \\\\\n\t21 & 5.4 & 3.4 & 1.7 & 0.2 & setosa & 10.8 \\\\\n\t22 & 5.1 & 3.7 & 1.5 & 0.4 & setosa & 10.2 \\\\\n\t23 & 4.6 & 3.6 & 1.0 & 0.2 & setosa & 9.2 \\\\\n\t24 & 5.1 & 3.3 & 1.7 & 0.5 & setosa & 10.2 \\\\\n\t25 & 4.8 & 3.4 & 1.9 & 0.2 & setosa & 9.6 \\\\\n\t26 & 5.0 & 3.0 & 1.6 & 0.2 & setosa & 10.0 \\\\\n\t27 & 5.0 & 3.4 & 1.6 & 0.4 & setosa & 10.0 \\\\\n\t28 & 5.2 & 3.5 & 1.5 & 0.2 & setosa & 10.4 \\\\\n\t29 & 5.2 & 3.4 & 1.4 & 0.2 & setosa & 10.4 \\\\\n\t30 & 4.7 & 3.2 & 1.6 & 0.2 & setosa & 9.4 \\\\\n\t$\\dots$ & $\\dots$ & $\\dots$ & $\\dots$ & $\\dots$ & $\\dots$ & $\\dots$ \\\\\n\\end{tabular}\n"
          },
          "metadata": {},
          "execution_count": 45
        }
      ]
    },
    {
      "cell_type": "code",
      "source": [
        "transform(iris, :SepalLength => s -> s * 2, [:SepalLength, :SepalWidth] => ((x,y) -> x[1] + x[2]) => :X)"
      ],
      "metadata": {
        "id": "VvK6I-HDkLIM",
        "outputId": "fbf48a83-557b-4bfa-8dd2-86a17e8896e9",
        "colab": {
          "base_uri": "https://localhost:8080/",
          "height": 630
        }
      },
      "execution_count": 46,
      "outputs": [
        {
          "output_type": "execute_result",
          "data": {
            "text/plain": [
              "\u001b[1m150×7 DataFrame\u001b[0m\n",
              "\u001b[1m Row \u001b[0m│\u001b[1m SepalLength \u001b[0m\u001b[1m SepalWidth \u001b[0m\u001b[1m PetalLength \u001b[0m\u001b[1m PetalWidth \u001b[0m\u001b[1m Species   \u001b[0m\u001b[1m SepalLength_function \u001b[0m\u001b[1m X       \u001b[0m\n",
              "     │\u001b[90m Float64     \u001b[0m\u001b[90m Float64    \u001b[0m\u001b[90m Float64     \u001b[0m\u001b[90m Float64    \u001b[0m\u001b[90m Cat…      \u001b[0m\u001b[90m Float64              \u001b[0m\u001b[90m Float64 \u001b[0m\n",
              "─────┼────────────────────────────────────────────────────────────────────────────────────────────\n",
              "   1 │         5.1         3.5          1.4         0.2  setosa                     10.2     10.0\n",
              "   2 │         4.9         3.0          1.4         0.2  setosa                      9.8     10.0\n",
              "   3 │         4.7         3.2          1.3         0.2  setosa                      9.4     10.0\n",
              "   4 │         4.6         3.1          1.5         0.2  setosa                      9.2     10.0\n",
              "   5 │         5.0         3.6          1.4         0.2  setosa                     10.0     10.0\n",
              "   6 │         5.4         3.9          1.7         0.4  setosa                     10.8     10.0\n",
              "   7 │         4.6         3.4          1.4         0.3  setosa                      9.2     10.0\n",
              "   8 │         5.0         3.4          1.5         0.2  setosa                     10.0     10.0\n",
              "   9 │         4.4         2.9          1.4         0.2  setosa                      8.8     10.0\n",
              "  10 │         4.9         3.1          1.5         0.1  setosa                      9.8     10.0\n",
              "  11 │         5.4         3.7          1.5         0.2  setosa                     10.8     10.0\n",
              "  ⋮  │      ⋮           ⋮            ⋮           ⋮           ⋮               ⋮               ⋮\n",
              " 141 │         6.7         3.1          5.6         2.4  virginica                  13.4     10.0\n",
              " 142 │         6.9         3.1          5.1         2.3  virginica                  13.8     10.0\n",
              " 143 │         5.8         2.7          5.1         1.9  virginica                  11.6     10.0\n",
              " 144 │         6.8         3.2          5.9         2.3  virginica                  13.6     10.0\n",
              " 145 │         6.7         3.3          5.7         2.5  virginica                  13.4     10.0\n",
              " 146 │         6.7         3.0          5.2         2.3  virginica                  13.4     10.0\n",
              " 147 │         6.3         2.5          5.0         1.9  virginica                  12.6     10.0\n",
              " 148 │         6.5         3.0          5.2         2.0  virginica                  13.0     10.0\n",
              " 149 │         6.2         3.4          5.4         2.3  virginica                  12.4     10.0\n",
              " 150 │         5.9         3.0          5.1         1.8  virginica                  11.8     10.0\n",
              "\u001b[36m                                                                                  129 rows omitted\u001b[0m"
            ],
            "text/html": [
              "<div><div style = \"float: left;\"><span>150×7 DataFrame</span></div><div style = \"float: right;\"><span style = \"font-style: italic;\">125 rows omitted</span></div><div style = \"clear: both;\"></div></div><div class = \"data-frame\" style = \"overflow-x: scroll;\"><table class = \"data-frame\" style = \"margin-bottom: 6px;\"><thead><tr class = \"header\"><th class = \"rowNumber\" style = \"font-weight: bold; text-align: right;\">Row</th><th style = \"text-align: left;\">SepalLength</th><th style = \"text-align: left;\">SepalWidth</th><th style = \"text-align: left;\">PetalLength</th><th style = \"text-align: left;\">PetalWidth</th><th style = \"text-align: left;\">Species</th><th style = \"text-align: left;\">SepalLength_function</th><th style = \"text-align: left;\">X</th></tr><tr class = \"subheader headerLastRow\"><th class = \"rowNumber\" style = \"font-weight: bold; text-align: right;\"></th><th title = \"Float64\" style = \"text-align: left;\">Float64</th><th title = \"Float64\" style = \"text-align: left;\">Float64</th><th title = \"Float64\" style = \"text-align: left;\">Float64</th><th title = \"Float64\" style = \"text-align: left;\">Float64</th><th title = \"CategoricalArrays.CategoricalValue{String, UInt8}\" style = \"text-align: left;\">Cat…</th><th title = \"Float64\" style = \"text-align: left;\">Float64</th><th title = \"Float64\" style = \"text-align: left;\">Float64</th></tr></thead><tbody><tr><td class = \"rowNumber\" style = \"font-weight: bold; text-align: right;\">1</td><td style = \"text-align: right;\">5.1</td><td style = \"text-align: right;\">3.5</td><td style = \"text-align: right;\">1.4</td><td style = \"text-align: right;\">0.2</td><td style = \"text-align: left;\">setosa</td><td style = \"text-align: right;\">10.2</td><td style = \"text-align: right;\">10.0</td></tr><tr><td class = \"rowNumber\" style = \"font-weight: bold; text-align: right;\">2</td><td style = \"text-align: right;\">4.9</td><td style = \"text-align: right;\">3.0</td><td style = \"text-align: right;\">1.4</td><td style = \"text-align: right;\">0.2</td><td style = \"text-align: left;\">setosa</td><td style = \"text-align: right;\">9.8</td><td style = \"text-align: right;\">10.0</td></tr><tr><td class = \"rowNumber\" style = \"font-weight: bold; text-align: right;\">3</td><td style = \"text-align: right;\">4.7</td><td style = \"text-align: right;\">3.2</td><td style = \"text-align: right;\">1.3</td><td style = \"text-align: right;\">0.2</td><td style = \"text-align: left;\">setosa</td><td style = \"text-align: right;\">9.4</td><td style = \"text-align: right;\">10.0</td></tr><tr><td class = \"rowNumber\" style = \"font-weight: bold; text-align: right;\">4</td><td style = \"text-align: right;\">4.6</td><td style = \"text-align: right;\">3.1</td><td style = \"text-align: right;\">1.5</td><td style = \"text-align: right;\">0.2</td><td style = \"text-align: left;\">setosa</td><td style = \"text-align: right;\">9.2</td><td style = \"text-align: right;\">10.0</td></tr><tr><td class = \"rowNumber\" style = \"font-weight: bold; text-align: right;\">5</td><td style = \"text-align: right;\">5.0</td><td style = \"text-align: right;\">3.6</td><td style = \"text-align: right;\">1.4</td><td style = \"text-align: right;\">0.2</td><td style = \"text-align: left;\">setosa</td><td style = \"text-align: right;\">10.0</td><td style = \"text-align: right;\">10.0</td></tr><tr><td class = \"rowNumber\" style = \"font-weight: bold; text-align: right;\">6</td><td style = \"text-align: right;\">5.4</td><td style = \"text-align: right;\">3.9</td><td style = \"text-align: right;\">1.7</td><td style = \"text-align: right;\">0.4</td><td style = \"text-align: left;\">setosa</td><td style = \"text-align: right;\">10.8</td><td style = \"text-align: right;\">10.0</td></tr><tr><td class = \"rowNumber\" style = \"font-weight: bold; text-align: right;\">7</td><td style = \"text-align: right;\">4.6</td><td style = \"text-align: right;\">3.4</td><td style = \"text-align: right;\">1.4</td><td style = \"text-align: right;\">0.3</td><td style = \"text-align: left;\">setosa</td><td style = \"text-align: right;\">9.2</td><td style = \"text-align: right;\">10.0</td></tr><tr><td class = \"rowNumber\" style = \"font-weight: bold; text-align: right;\">8</td><td style = \"text-align: right;\">5.0</td><td style = \"text-align: right;\">3.4</td><td style = \"text-align: right;\">1.5</td><td style = \"text-align: right;\">0.2</td><td style = \"text-align: left;\">setosa</td><td style = \"text-align: right;\">10.0</td><td style = \"text-align: right;\">10.0</td></tr><tr><td class = \"rowNumber\" style = \"font-weight: bold; text-align: right;\">9</td><td style = \"text-align: right;\">4.4</td><td style = \"text-align: right;\">2.9</td><td style = \"text-align: right;\">1.4</td><td style = \"text-align: right;\">0.2</td><td style = \"text-align: left;\">setosa</td><td style = \"text-align: right;\">8.8</td><td style = \"text-align: right;\">10.0</td></tr><tr><td class = \"rowNumber\" style = \"font-weight: bold; text-align: right;\">10</td><td style = \"text-align: right;\">4.9</td><td style = \"text-align: right;\">3.1</td><td style = \"text-align: right;\">1.5</td><td style = \"text-align: right;\">0.1</td><td style = \"text-align: left;\">setosa</td><td style = \"text-align: right;\">9.8</td><td style = \"text-align: right;\">10.0</td></tr><tr><td class = \"rowNumber\" style = \"font-weight: bold; text-align: right;\">11</td><td style = \"text-align: right;\">5.4</td><td style = \"text-align: right;\">3.7</td><td style = \"text-align: right;\">1.5</td><td style = \"text-align: right;\">0.2</td><td style = \"text-align: left;\">setosa</td><td style = \"text-align: right;\">10.8</td><td style = \"text-align: right;\">10.0</td></tr><tr><td class = \"rowNumber\" style = \"font-weight: bold; text-align: right;\">12</td><td style = \"text-align: right;\">4.8</td><td style = \"text-align: right;\">3.4</td><td style = \"text-align: right;\">1.6</td><td style = \"text-align: right;\">0.2</td><td style = \"text-align: left;\">setosa</td><td style = \"text-align: right;\">9.6</td><td style = \"text-align: right;\">10.0</td></tr><tr><td class = \"rowNumber\" style = \"font-weight: bold; text-align: right;\">13</td><td style = \"text-align: right;\">4.8</td><td style = \"text-align: right;\">3.0</td><td style = \"text-align: right;\">1.4</td><td style = \"text-align: right;\">0.1</td><td style = \"text-align: left;\">setosa</td><td style = \"text-align: right;\">9.6</td><td style = \"text-align: right;\">10.0</td></tr><tr><td style = \"text-align: right;\">&vellip;</td><td style = \"text-align: right;\">&vellip;</td><td style = \"text-align: right;\">&vellip;</td><td style = \"text-align: right;\">&vellip;</td><td style = \"text-align: right;\">&vellip;</td><td style = \"text-align: right;\">&vellip;</td><td style = \"text-align: right;\">&vellip;</td><td style = \"text-align: right;\">&vellip;</td></tr><tr><td class = \"rowNumber\" style = \"font-weight: bold; text-align: right;\">139</td><td style = \"text-align: right;\">6.0</td><td style = \"text-align: right;\">3.0</td><td style = \"text-align: right;\">4.8</td><td style = \"text-align: right;\">1.8</td><td style = \"text-align: left;\">virginica</td><td style = \"text-align: right;\">12.0</td><td style = \"text-align: right;\">10.0</td></tr><tr><td class = \"rowNumber\" style = \"font-weight: bold; text-align: right;\">140</td><td style = \"text-align: right;\">6.9</td><td style = \"text-align: right;\">3.1</td><td style = \"text-align: right;\">5.4</td><td style = \"text-align: right;\">2.1</td><td style = \"text-align: left;\">virginica</td><td style = \"text-align: right;\">13.8</td><td style = \"text-align: right;\">10.0</td></tr><tr><td class = \"rowNumber\" style = \"font-weight: bold; text-align: right;\">141</td><td style = \"text-align: right;\">6.7</td><td style = \"text-align: right;\">3.1</td><td style = \"text-align: right;\">5.6</td><td style = \"text-align: right;\">2.4</td><td style = \"text-align: left;\">virginica</td><td style = \"text-align: right;\">13.4</td><td style = \"text-align: right;\">10.0</td></tr><tr><td class = \"rowNumber\" style = \"font-weight: bold; text-align: right;\">142</td><td style = \"text-align: right;\">6.9</td><td style = \"text-align: right;\">3.1</td><td style = \"text-align: right;\">5.1</td><td style = \"text-align: right;\">2.3</td><td style = \"text-align: left;\">virginica</td><td style = \"text-align: right;\">13.8</td><td style = \"text-align: right;\">10.0</td></tr><tr><td class = \"rowNumber\" style = \"font-weight: bold; text-align: right;\">143</td><td style = \"text-align: right;\">5.8</td><td style = \"text-align: right;\">2.7</td><td style = \"text-align: right;\">5.1</td><td style = \"text-align: right;\">1.9</td><td style = \"text-align: left;\">virginica</td><td style = \"text-align: right;\">11.6</td><td style = \"text-align: right;\">10.0</td></tr><tr><td class = \"rowNumber\" style = \"font-weight: bold; text-align: right;\">144</td><td style = \"text-align: right;\">6.8</td><td style = \"text-align: right;\">3.2</td><td style = \"text-align: right;\">5.9</td><td style = \"text-align: right;\">2.3</td><td style = \"text-align: left;\">virginica</td><td style = \"text-align: right;\">13.6</td><td style = \"text-align: right;\">10.0</td></tr><tr><td class = \"rowNumber\" style = \"font-weight: bold; text-align: right;\">145</td><td style = \"text-align: right;\">6.7</td><td style = \"text-align: right;\">3.3</td><td style = \"text-align: right;\">5.7</td><td style = \"text-align: right;\">2.5</td><td style = \"text-align: left;\">virginica</td><td style = \"text-align: right;\">13.4</td><td style = \"text-align: right;\">10.0</td></tr><tr><td class = \"rowNumber\" style = \"font-weight: bold; text-align: right;\">146</td><td style = \"text-align: right;\">6.7</td><td style = \"text-align: right;\">3.0</td><td style = \"text-align: right;\">5.2</td><td style = \"text-align: right;\">2.3</td><td style = \"text-align: left;\">virginica</td><td style = \"text-align: right;\">13.4</td><td style = \"text-align: right;\">10.0</td></tr><tr><td class = \"rowNumber\" style = \"font-weight: bold; text-align: right;\">147</td><td style = \"text-align: right;\">6.3</td><td style = \"text-align: right;\">2.5</td><td style = \"text-align: right;\">5.0</td><td style = \"text-align: right;\">1.9</td><td style = \"text-align: left;\">virginica</td><td style = \"text-align: right;\">12.6</td><td style = \"text-align: right;\">10.0</td></tr><tr><td class = \"rowNumber\" style = \"font-weight: bold; text-align: right;\">148</td><td style = \"text-align: right;\">6.5</td><td style = \"text-align: right;\">3.0</td><td style = \"text-align: right;\">5.2</td><td style = \"text-align: right;\">2.0</td><td style = \"text-align: left;\">virginica</td><td style = \"text-align: right;\">13.0</td><td style = \"text-align: right;\">10.0</td></tr><tr><td class = \"rowNumber\" style = \"font-weight: bold; text-align: right;\">149</td><td style = \"text-align: right;\">6.2</td><td style = \"text-align: right;\">3.4</td><td style = \"text-align: right;\">5.4</td><td style = \"text-align: right;\">2.3</td><td style = \"text-align: left;\">virginica</td><td style = \"text-align: right;\">12.4</td><td style = \"text-align: right;\">10.0</td></tr><tr><td class = \"rowNumber\" style = \"font-weight: bold; text-align: right;\">150</td><td style = \"text-align: right;\">5.9</td><td style = \"text-align: right;\">3.0</td><td style = \"text-align: right;\">5.1</td><td style = \"text-align: right;\">1.8</td><td style = \"text-align: left;\">virginica</td><td style = \"text-align: right;\">11.8</td><td style = \"text-align: right;\">10.0</td></tr></tbody></table></div>"
            ],
            "text/latex": "\\begin{tabular}{r|ccccccc}\n\t& SepalLength & SepalWidth & PetalLength & PetalWidth & Species & SepalLength\\_function & X\\\\\n\t\\hline\n\t& Float64 & Float64 & Float64 & Float64 & Cat… & Float64 & Float64\\\\\n\t\\hline\n\t1 & 5.1 & 3.5 & 1.4 & 0.2 & setosa & 10.2 & 10.0 \\\\\n\t2 & 4.9 & 3.0 & 1.4 & 0.2 & setosa & 9.8 & 10.0 \\\\\n\t3 & 4.7 & 3.2 & 1.3 & 0.2 & setosa & 9.4 & 10.0 \\\\\n\t4 & 4.6 & 3.1 & 1.5 & 0.2 & setosa & 9.2 & 10.0 \\\\\n\t5 & 5.0 & 3.6 & 1.4 & 0.2 & setosa & 10.0 & 10.0 \\\\\n\t6 & 5.4 & 3.9 & 1.7 & 0.4 & setosa & 10.8 & 10.0 \\\\\n\t7 & 4.6 & 3.4 & 1.4 & 0.3 & setosa & 9.2 & 10.0 \\\\\n\t8 & 5.0 & 3.4 & 1.5 & 0.2 & setosa & 10.0 & 10.0 \\\\\n\t9 & 4.4 & 2.9 & 1.4 & 0.2 & setosa & 8.8 & 10.0 \\\\\n\t10 & 4.9 & 3.1 & 1.5 & 0.1 & setosa & 9.8 & 10.0 \\\\\n\t11 & 5.4 & 3.7 & 1.5 & 0.2 & setosa & 10.8 & 10.0 \\\\\n\t12 & 4.8 & 3.4 & 1.6 & 0.2 & setosa & 9.6 & 10.0 \\\\\n\t13 & 4.8 & 3.0 & 1.4 & 0.1 & setosa & 9.6 & 10.0 \\\\\n\t14 & 4.3 & 3.0 & 1.1 & 0.1 & setosa & 8.6 & 10.0 \\\\\n\t15 & 5.8 & 4.0 & 1.2 & 0.2 & setosa & 11.6 & 10.0 \\\\\n\t16 & 5.7 & 4.4 & 1.5 & 0.4 & setosa & 11.4 & 10.0 \\\\\n\t17 & 5.4 & 3.9 & 1.3 & 0.4 & setosa & 10.8 & 10.0 \\\\\n\t18 & 5.1 & 3.5 & 1.4 & 0.3 & setosa & 10.2 & 10.0 \\\\\n\t19 & 5.7 & 3.8 & 1.7 & 0.3 & setosa & 11.4 & 10.0 \\\\\n\t20 & 5.1 & 3.8 & 1.5 & 0.3 & setosa & 10.2 & 10.0 \\\\\n\t21 & 5.4 & 3.4 & 1.7 & 0.2 & setosa & 10.8 & 10.0 \\\\\n\t22 & 5.1 & 3.7 & 1.5 & 0.4 & setosa & 10.2 & 10.0 \\\\\n\t23 & 4.6 & 3.6 & 1.0 & 0.2 & setosa & 9.2 & 10.0 \\\\\n\t24 & 5.1 & 3.3 & 1.7 & 0.5 & setosa & 10.2 & 10.0 \\\\\n\t25 & 4.8 & 3.4 & 1.9 & 0.2 & setosa & 9.6 & 10.0 \\\\\n\t26 & 5.0 & 3.0 & 1.6 & 0.2 & setosa & 10.0 & 10.0 \\\\\n\t27 & 5.0 & 3.4 & 1.6 & 0.4 & setosa & 10.0 & 10.0 \\\\\n\t28 & 5.2 & 3.5 & 1.5 & 0.2 & setosa & 10.4 & 10.0 \\\\\n\t29 & 5.2 & 3.4 & 1.4 & 0.2 & setosa & 10.4 & 10.0 \\\\\n\t30 & 4.7 & 3.2 & 1.6 & 0.2 & setosa & 9.4 & 10.0 \\\\\n\t$\\dots$ & $\\dots$ & $\\dots$ & $\\dots$ & $\\dots$ & $\\dots$ & $\\dots$ & $\\dots$ \\\\\n\\end{tabular}\n"
          },
          "metadata": {},
          "execution_count": 46
        }
      ]
    },
    {
      "cell_type": "code",
      "source": [
        "combine(iris, :SepalLength .=> sum)"
      ],
      "metadata": {
        "colab": {
          "base_uri": "https://localhost:8080/",
          "height": 105
        },
        "id": "rz_FBwgLGeS9",
        "outputId": "bac4f629-623a-4147-f01f-bfd5bc6e09c6"
      },
      "execution_count": 47,
      "outputs": [
        {
          "output_type": "execute_result",
          "data": {
            "text/plain": [
              "\u001b[1m1×1 DataFrame\u001b[0m\n",
              "\u001b[1m Row \u001b[0m│\u001b[1m SepalLength_sum \u001b[0m\n",
              "     │\u001b[90m Float64         \u001b[0m\n",
              "─────┼─────────────────\n",
              "   1 │           876.5"
            ],
            "text/html": [
              "<div><div style = \"float: left;\"><span>1×1 DataFrame</span></div><div style = \"clear: both;\"></div></div><div class = \"data-frame\" style = \"overflow-x: scroll;\"><table class = \"data-frame\" style = \"margin-bottom: 6px;\"><thead><tr class = \"header\"><th class = \"rowNumber\" style = \"font-weight: bold; text-align: right;\">Row</th><th style = \"text-align: left;\">SepalLength_sum</th></tr><tr class = \"subheader headerLastRow\"><th class = \"rowNumber\" style = \"font-weight: bold; text-align: right;\"></th><th title = \"Float64\" style = \"text-align: left;\">Float64</th></tr></thead><tbody><tr><td class = \"rowNumber\" style = \"font-weight: bold; text-align: right;\">1</td><td style = \"text-align: right;\">876.5</td></tr></tbody></table></div>"
            ],
            "text/latex": "\\begin{tabular}{r|c}\n\t& SepalLength\\_sum\\\\\n\t\\hline\n\t& Float64\\\\\n\t\\hline\n\t1 & 876.5 \\\\\n\\end{tabular}\n"
          },
          "metadata": {},
          "execution_count": 47
        }
      ]
    },
    {
      "cell_type": "code",
      "source": [
        "combine(iris, Not(:Species) .=> sum)"
      ],
      "metadata": {
        "id": "spet4hQAkNHx",
        "outputId": "e13095cf-e5b9-4949-8b65-c1214dd60e05",
        "colab": {
          "base_uri": "https://localhost:8080/",
          "height": 105
        }
      },
      "execution_count": 48,
      "outputs": [
        {
          "output_type": "execute_result",
          "data": {
            "text/plain": [
              "\u001b[1m1×4 DataFrame\u001b[0m\n",
              "\u001b[1m Row \u001b[0m│\u001b[1m SepalLength_sum \u001b[0m\u001b[1m SepalWidth_sum \u001b[0m\u001b[1m PetalLength_sum \u001b[0m\u001b[1m PetalWidth_sum \u001b[0m\n",
              "     │\u001b[90m Float64         \u001b[0m\u001b[90m Float64        \u001b[0m\u001b[90m Float64         \u001b[0m\u001b[90m Float64        \u001b[0m\n",
              "─────┼──────────────────────────────────────────────────────────────────\n",
              "   1 │           876.5           458.6            563.7           179.9"
            ],
            "text/html": [
              "<div><div style = \"float: left;\"><span>1×4 DataFrame</span></div><div style = \"clear: both;\"></div></div><div class = \"data-frame\" style = \"overflow-x: scroll;\"><table class = \"data-frame\" style = \"margin-bottom: 6px;\"><thead><tr class = \"header\"><th class = \"rowNumber\" style = \"font-weight: bold; text-align: right;\">Row</th><th style = \"text-align: left;\">SepalLength_sum</th><th style = \"text-align: left;\">SepalWidth_sum</th><th style = \"text-align: left;\">PetalLength_sum</th><th style = \"text-align: left;\">PetalWidth_sum</th></tr><tr class = \"subheader headerLastRow\"><th class = \"rowNumber\" style = \"font-weight: bold; text-align: right;\"></th><th title = \"Float64\" style = \"text-align: left;\">Float64</th><th title = \"Float64\" style = \"text-align: left;\">Float64</th><th title = \"Float64\" style = \"text-align: left;\">Float64</th><th title = \"Float64\" style = \"text-align: left;\">Float64</th></tr></thead><tbody><tr><td class = \"rowNumber\" style = \"font-weight: bold; text-align: right;\">1</td><td style = \"text-align: right;\">876.5</td><td style = \"text-align: right;\">458.6</td><td style = \"text-align: right;\">563.7</td><td style = \"text-align: right;\">179.9</td></tr></tbody></table></div>"
            ],
            "text/latex": "\\begin{tabular}{r|cccc}\n\t& SepalLength\\_sum & SepalWidth\\_sum & PetalLength\\_sum & PetalWidth\\_sum\\\\\n\t\\hline\n\t& Float64 & Float64 & Float64 & Float64\\\\\n\t\\hline\n\t1 & 876.5 & 458.6 & 563.7 & 179.9 \\\\\n\\end{tabular}\n"
          },
          "metadata": {},
          "execution_count": 48
        }
      ]
    },
    {
      "cell_type": "code",
      "source": [
        "combine(iris, :SepalLength => x -> sum(x * 10))"
      ],
      "metadata": {
        "id": "sfkgZRUlkOEh",
        "outputId": "2cb336fa-31cf-4af3-87c4-e0c9da649cd5",
        "colab": {
          "base_uri": "https://localhost:8080/",
          "height": 105
        }
      },
      "execution_count": 49,
      "outputs": [
        {
          "output_type": "execute_result",
          "data": {
            "text/plain": [
              "\u001b[1m1×1 DataFrame\u001b[0m\n",
              "\u001b[1m Row \u001b[0m│\u001b[1m SepalLength_function \u001b[0m\n",
              "     │\u001b[90m Float64              \u001b[0m\n",
              "─────┼──────────────────────\n",
              "   1 │               8765.0"
            ],
            "text/html": [
              "<div><div style = \"float: left;\"><span>1×1 DataFrame</span></div><div style = \"clear: both;\"></div></div><div class = \"data-frame\" style = \"overflow-x: scroll;\"><table class = \"data-frame\" style = \"margin-bottom: 6px;\"><thead><tr class = \"header\"><th class = \"rowNumber\" style = \"font-weight: bold; text-align: right;\">Row</th><th style = \"text-align: left;\">SepalLength_function</th></tr><tr class = \"subheader headerLastRow\"><th class = \"rowNumber\" style = \"font-weight: bold; text-align: right;\"></th><th title = \"Float64\" style = \"text-align: left;\">Float64</th></tr></thead><tbody><tr><td class = \"rowNumber\" style = \"font-weight: bold; text-align: right;\">1</td><td style = \"text-align: right;\">8765.0</td></tr></tbody></table></div>"
            ],
            "text/latex": "\\begin{tabular}{r|c}\n\t& SepalLength\\_function\\\\\n\t\\hline\n\t& Float64\\\\\n\t\\hline\n\t1 & 8765.0 \\\\\n\\end{tabular}\n"
          },
          "metadata": {},
          "execution_count": 49
        }
      ]
    },
    {
      "cell_type": "code",
      "source": [
        "df = DataFrame(x=[1, 2, missing], y=[1, missing, missing])"
      ],
      "metadata": {
        "colab": {
          "base_uri": "https://localhost:8080/",
          "height": 147
        },
        "id": "WwJAW1a0GeQG",
        "outputId": "a3f45dfc-634a-46b7-a05d-e9f537b53de3"
      },
      "execution_count": 50,
      "outputs": [
        {
          "output_type": "execute_result",
          "data": {
            "text/plain": [
              "\u001b[1m3×2 DataFrame\u001b[0m\n",
              "\u001b[1m Row \u001b[0m│\u001b[1m x       \u001b[0m\u001b[1m y       \u001b[0m\n",
              "     │\u001b[90m Int64?  \u001b[0m\u001b[90m Int64?  \u001b[0m\n",
              "─────┼──────────────────\n",
              "   1 │       1        1\n",
              "   2 │       2 \u001b[90m missing \u001b[0m\n",
              "   3 │\u001b[90m missing \u001b[0m\u001b[90m missing \u001b[0m"
            ],
            "text/html": [
              "<div><div style = \"float: left;\"><span>3×2 DataFrame</span></div><div style = \"clear: both;\"></div></div><div class = \"data-frame\" style = \"overflow-x: scroll;\"><table class = \"data-frame\" style = \"margin-bottom: 6px;\"><thead><tr class = \"header\"><th class = \"rowNumber\" style = \"font-weight: bold; text-align: right;\">Row</th><th style = \"text-align: left;\">x</th><th style = \"text-align: left;\">y</th></tr><tr class = \"subheader headerLastRow\"><th class = \"rowNumber\" style = \"font-weight: bold; text-align: right;\"></th><th title = \"Union{Missing, Int64}\" style = \"text-align: left;\">Int64?</th><th title = \"Union{Missing, Int64}\" style = \"text-align: left;\">Int64?</th></tr></thead><tbody><tr><td class = \"rowNumber\" style = \"font-weight: bold; text-align: right;\">1</td><td style = \"text-align: right;\">1</td><td style = \"text-align: right;\">1</td></tr><tr><td class = \"rowNumber\" style = \"font-weight: bold; text-align: right;\">2</td><td style = \"text-align: right;\">2</td><td style = \"font-style: italic; text-align: right;\">missing</td></tr><tr><td class = \"rowNumber\" style = \"font-weight: bold; text-align: right;\">3</td><td style = \"font-style: italic; text-align: right;\">missing</td><td style = \"font-style: italic; text-align: right;\">missing</td></tr></tbody></table></div>"
            ],
            "text/latex": "\\begin{tabular}{r|cc}\n\t& x & y\\\\\n\t\\hline\n\t& Int64? & Int64?\\\\\n\t\\hline\n\t1 & 1 & 1 \\\\\n\t2 & 2 & \\emph{missing} \\\\\n\t3 & \\emph{missing} & \\emph{missing} \\\\\n\\end{tabular}\n"
          },
          "metadata": {},
          "execution_count": 50
        }
      ]
    },
    {
      "cell_type": "code",
      "source": [
        "combine(df, All() .=> x -> x * 10)"
      ],
      "metadata": {
        "id": "p3qa2ahkkQvy",
        "outputId": "64a358fd-8f32-4ca5-b76f-dfd3c9fee758",
        "colab": {
          "base_uri": "https://localhost:8080/",
          "height": 147
        }
      },
      "execution_count": 51,
      "outputs": [
        {
          "output_type": "execute_result",
          "data": {
            "text/plain": [
              "\u001b[1m3×2 DataFrame\u001b[0m\n",
              "\u001b[1m Row \u001b[0m│\u001b[1m x_function \u001b[0m\u001b[1m y_function \u001b[0m\n",
              "     │\u001b[90m Int64?     \u001b[0m\u001b[90m Int64?     \u001b[0m\n",
              "─────┼────────────────────────\n",
              "   1 │         10          10\n",
              "   2 │         20 \u001b[90m    missing \u001b[0m\n",
              "   3 │\u001b[90m    missing \u001b[0m\u001b[90m    missing \u001b[0m"
            ],
            "text/html": [
              "<div><div style = \"float: left;\"><span>3×2 DataFrame</span></div><div style = \"clear: both;\"></div></div><div class = \"data-frame\" style = \"overflow-x: scroll;\"><table class = \"data-frame\" style = \"margin-bottom: 6px;\"><thead><tr class = \"header\"><th class = \"rowNumber\" style = \"font-weight: bold; text-align: right;\">Row</th><th style = \"text-align: left;\">x_function</th><th style = \"text-align: left;\">y_function</th></tr><tr class = \"subheader headerLastRow\"><th class = \"rowNumber\" style = \"font-weight: bold; text-align: right;\"></th><th title = \"Union{Missing, Int64}\" style = \"text-align: left;\">Int64?</th><th title = \"Union{Missing, Int64}\" style = \"text-align: left;\">Int64?</th></tr></thead><tbody><tr><td class = \"rowNumber\" style = \"font-weight: bold; text-align: right;\">1</td><td style = \"text-align: right;\">10</td><td style = \"text-align: right;\">10</td></tr><tr><td class = \"rowNumber\" style = \"font-weight: bold; text-align: right;\">2</td><td style = \"text-align: right;\">20</td><td style = \"font-style: italic; text-align: right;\">missing</td></tr><tr><td class = \"rowNumber\" style = \"font-weight: bold; text-align: right;\">3</td><td style = \"font-style: italic; text-align: right;\">missing</td><td style = \"font-style: italic; text-align: right;\">missing</td></tr></tbody></table></div>"
            ],
            "text/latex": "\\begin{tabular}{r|cc}\n\t& x\\_function & y\\_function\\\\\n\t\\hline\n\t& Int64? & Int64?\\\\\n\t\\hline\n\t1 & 10 & 10 \\\\\n\t2 & 20 & \\emph{missing} \\\\\n\t3 & \\emph{missing} & \\emph{missing} \\\\\n\\end{tabular}\n"
          },
          "metadata": {},
          "execution_count": 51
        }
      ]
    },
    {
      "cell_type": "code",
      "source": [
        "combine(df, All() .=> x -> sum(x * 10))"
      ],
      "metadata": {
        "id": "aVq9cC9FkS2K",
        "outputId": "9c1df5ff-7173-4efa-ca79-e3814bc779ff",
        "colab": {
          "base_uri": "https://localhost:8080/",
          "height": 105
        }
      },
      "execution_count": 52,
      "outputs": [
        {
          "output_type": "execute_result",
          "data": {
            "text/plain": [
              "\u001b[1m1×2 DataFrame\u001b[0m\n",
              "\u001b[1m Row \u001b[0m│\u001b[1m x_function \u001b[0m\u001b[1m y_function \u001b[0m\n",
              "     │\u001b[90m Missing    \u001b[0m\u001b[90m Missing    \u001b[0m\n",
              "─────┼────────────────────────\n",
              "   1 │\u001b[90m    missing \u001b[0m\u001b[90m    missing \u001b[0m"
            ],
            "text/html": [
              "<div><div style = \"float: left;\"><span>1×2 DataFrame</span></div><div style = \"clear: both;\"></div></div><div class = \"data-frame\" style = \"overflow-x: scroll;\"><table class = \"data-frame\" style = \"margin-bottom: 6px;\"><thead><tr class = \"header\"><th class = \"rowNumber\" style = \"font-weight: bold; text-align: right;\">Row</th><th style = \"text-align: left;\">x_function</th><th style = \"text-align: left;\">y_function</th></tr><tr class = \"subheader headerLastRow\"><th class = \"rowNumber\" style = \"font-weight: bold; text-align: right;\"></th><th title = \"Missing\" style = \"text-align: left;\">Missing</th><th title = \"Missing\" style = \"text-align: left;\">Missing</th></tr></thead><tbody><tr><td class = \"rowNumber\" style = \"font-weight: bold; text-align: right;\">1</td><td style = \"font-style: italic; text-align: right;\">missing</td><td style = \"font-style: italic; text-align: right;\">missing</td></tr></tbody></table></div>"
            ],
            "text/latex": "\\begin{tabular}{r|cc}\n\t& x\\_function & y\\_function\\\\\n\t\\hline\n\t& Missing & Missing\\\\\n\t\\hline\n\t1 & \\emph{missing} & \\emph{missing} \\\\\n\\end{tabular}\n"
          },
          "metadata": {},
          "execution_count": 52
        }
      ]
    },
    {
      "cell_type": "code",
      "source": [
        "combine(df, All() .=> x -> sum(skipmissing(x * 10)))"
      ],
      "metadata": {
        "id": "Doo2Tr8okUM-",
        "outputId": "12c01a78-0d97-47d7-865c-a5537eb5f4ec",
        "colab": {
          "base_uri": "https://localhost:8080/",
          "height": 105
        }
      },
      "execution_count": 53,
      "outputs": [
        {
          "output_type": "execute_result",
          "data": {
            "text/plain": [
              "\u001b[1m1×2 DataFrame\u001b[0m\n",
              "\u001b[1m Row \u001b[0m│\u001b[1m x_function \u001b[0m\u001b[1m y_function \u001b[0m\n",
              "     │\u001b[90m Int64      \u001b[0m\u001b[90m Int64      \u001b[0m\n",
              "─────┼────────────────────────\n",
              "   1 │         30          10"
            ],
            "text/html": [
              "<div><div style = \"float: left;\"><span>1×2 DataFrame</span></div><div style = \"clear: both;\"></div></div><div class = \"data-frame\" style = \"overflow-x: scroll;\"><table class = \"data-frame\" style = \"margin-bottom: 6px;\"><thead><tr class = \"header\"><th class = \"rowNumber\" style = \"font-weight: bold; text-align: right;\">Row</th><th style = \"text-align: left;\">x_function</th><th style = \"text-align: left;\">y_function</th></tr><tr class = \"subheader headerLastRow\"><th class = \"rowNumber\" style = \"font-weight: bold; text-align: right;\"></th><th title = \"Int64\" style = \"text-align: left;\">Int64</th><th title = \"Int64\" style = \"text-align: left;\">Int64</th></tr></thead><tbody><tr><td class = \"rowNumber\" style = \"font-weight: bold; text-align: right;\">1</td><td style = \"text-align: right;\">30</td><td style = \"text-align: right;\">10</td></tr></tbody></table></div>"
            ],
            "text/latex": "\\begin{tabular}{r|cc}\n\t& x\\_function & y\\_function\\\\\n\t\\hline\n\t& Int64 & Int64\\\\\n\t\\hline\n\t1 & 30 & 10 \\\\\n\\end{tabular}\n"
          },
          "metadata": {},
          "execution_count": 53
        }
      ]
    },
    {
      "cell_type": "code",
      "source": [
        "gd = groupby(iris, :Species)"
      ],
      "metadata": {
        "colab": {
          "base_uri": "https://localhost:8080/",
          "height": 1000
        },
        "id": "e4F79KmMGeNP",
        "outputId": "dfe83ba0-5f27-4308-f480-ded648348931"
      },
      "execution_count": 54,
      "outputs": [
        {
          "output_type": "execute_result",
          "data": {
            "text/plain": [
              "GroupedDataFrame with 3 groups based on key: Species\n",
              "First Group (50 rows): Species = CategoricalArrays.CategoricalValue{String, UInt8} \"setosa\"\n",
              "\u001b[1m Row \u001b[0m│\u001b[1m SepalLength \u001b[0m\u001b[1m SepalWidth \u001b[0m\u001b[1m PetalLength \u001b[0m\u001b[1m PetalWidth \u001b[0m\u001b[1m Species \u001b[0m\n",
              "     │\u001b[90m Float64     \u001b[0m\u001b[90m Float64    \u001b[0m\u001b[90m Float64     \u001b[0m\u001b[90m Float64    \u001b[0m\u001b[90m Cat…    \u001b[0m\n",
              "─────┼───────────────────────────────────────────────────────────\n",
              "   1 │         5.1         3.5          1.4         0.2  setosa\n",
              "   2 │         4.9         3.0          1.4         0.2  setosa\n",
              "   3 │         4.7         3.2          1.3         0.2  setosa\n",
              "   4 │         4.6         3.1          1.5         0.2  setosa\n",
              "  ⋮  │      ⋮           ⋮            ⋮           ⋮          ⋮\n",
              "  48 │         4.6         3.2          1.4         0.2  setosa\n",
              "  49 │         5.3         3.7          1.5         0.2  setosa\n",
              "  50 │         5.0         3.3          1.4         0.2  setosa\n",
              "\u001b[36m                                                  43 rows omitted\u001b[0m\n",
              "⋮\n",
              "Last Group (50 rows): Species = CategoricalArrays.CategoricalValue{String, UInt8} \"virginica\"\n",
              "\u001b[1m Row \u001b[0m│\u001b[1m SepalLength \u001b[0m\u001b[1m SepalWidth \u001b[0m\u001b[1m PetalLength \u001b[0m\u001b[1m PetalWidth \u001b[0m\u001b[1m Species   \u001b[0m\n",
              "     │\u001b[90m Float64     \u001b[0m\u001b[90m Float64    \u001b[0m\u001b[90m Float64     \u001b[0m\u001b[90m Float64    \u001b[0m\u001b[90m Cat…      \u001b[0m\n",
              "─────┼─────────────────────────────────────────────────────────────\n",
              "   1 │         6.3         3.3          6.0         2.5  virginica\n",
              "   2 │         5.8         2.7          5.1         1.9  virginica\n",
              "   3 │         7.1         3.0          5.9         2.1  virginica\n",
              "  ⋮  │      ⋮           ⋮            ⋮           ⋮           ⋮\n",
              "  48 │         6.5         3.0          5.2         2.0  virginica\n",
              "  49 │         6.2         3.4          5.4         2.3  virginica\n",
              "  50 │         5.9         3.0          5.1         1.8  virginica\n",
              "\u001b[36m                                                    44 rows omitted\u001b[0m"
            ],
            "text/html": [
              "<p><b>GroupedDataFrame with 3 groups based on key: Species</b></p><div><div style = \"float: left;\"><span>First Group (50 rows): Species = CategoricalArrays.CategoricalValue{String, UInt8} &quot;setosa&quot;</span></div><div style = \"float: right;\"><span style = \"font-style: italic;\">25 rows omitted</span></div><div style = \"clear: both;\"></div></div><div class = \"data-frame\" style = \"overflow-x: scroll;\"><table class = \"data-frame\" style = \"margin-bottom: 6px;\"><thead><tr class = \"header\"><th class = \"rowNumber\" style = \"font-weight: bold; text-align: right;\">Row</th><th style = \"text-align: left;\">SepalLength</th><th style = \"text-align: left;\">SepalWidth</th><th style = \"text-align: left;\">PetalLength</th><th style = \"text-align: left;\">PetalWidth</th><th style = \"text-align: left;\">Species</th></tr><tr class = \"subheader headerLastRow\"><th class = \"rowNumber\" style = \"font-weight: bold; text-align: right;\"></th><th title = \"Float64\" style = \"text-align: left;\">Float64</th><th title = \"Float64\" style = \"text-align: left;\">Float64</th><th title = \"Float64\" style = \"text-align: left;\">Float64</th><th title = \"Float64\" style = \"text-align: left;\">Float64</th><th title = \"CategoricalArrays.CategoricalValue{String, UInt8}\" style = \"text-align: left;\">Cat…</th></tr></thead><tbody><tr><td class = \"rowNumber\" style = \"font-weight: bold; text-align: right;\">1</td><td style = \"text-align: right;\">5.1</td><td style = \"text-align: right;\">3.5</td><td style = \"text-align: right;\">1.4</td><td style = \"text-align: right;\">0.2</td><td style = \"text-align: left;\">setosa</td></tr><tr><td class = \"rowNumber\" style = \"font-weight: bold; text-align: right;\">2</td><td style = \"text-align: right;\">4.9</td><td style = \"text-align: right;\">3.0</td><td style = \"text-align: right;\">1.4</td><td style = \"text-align: right;\">0.2</td><td style = \"text-align: left;\">setosa</td></tr><tr><td class = \"rowNumber\" style = \"font-weight: bold; text-align: right;\">3</td><td style = \"text-align: right;\">4.7</td><td style = \"text-align: right;\">3.2</td><td style = \"text-align: right;\">1.3</td><td style = \"text-align: right;\">0.2</td><td style = \"text-align: left;\">setosa</td></tr><tr><td class = \"rowNumber\" style = \"font-weight: bold; text-align: right;\">4</td><td style = \"text-align: right;\">4.6</td><td style = \"text-align: right;\">3.1</td><td style = \"text-align: right;\">1.5</td><td style = \"text-align: right;\">0.2</td><td style = \"text-align: left;\">setosa</td></tr><tr><td class = \"rowNumber\" style = \"font-weight: bold; text-align: right;\">5</td><td style = \"text-align: right;\">5.0</td><td style = \"text-align: right;\">3.6</td><td style = \"text-align: right;\">1.4</td><td style = \"text-align: right;\">0.2</td><td style = \"text-align: left;\">setosa</td></tr><tr><td class = \"rowNumber\" style = \"font-weight: bold; text-align: right;\">6</td><td style = \"text-align: right;\">5.4</td><td style = \"text-align: right;\">3.9</td><td style = \"text-align: right;\">1.7</td><td style = \"text-align: right;\">0.4</td><td style = \"text-align: left;\">setosa</td></tr><tr><td class = \"rowNumber\" style = \"font-weight: bold; text-align: right;\">7</td><td style = \"text-align: right;\">4.6</td><td style = \"text-align: right;\">3.4</td><td style = \"text-align: right;\">1.4</td><td style = \"text-align: right;\">0.3</td><td style = \"text-align: left;\">setosa</td></tr><tr><td class = \"rowNumber\" style = \"font-weight: bold; text-align: right;\">8</td><td style = \"text-align: right;\">5.0</td><td style = \"text-align: right;\">3.4</td><td style = \"text-align: right;\">1.5</td><td style = \"text-align: right;\">0.2</td><td style = \"text-align: left;\">setosa</td></tr><tr><td class = \"rowNumber\" style = \"font-weight: bold; text-align: right;\">9</td><td style = \"text-align: right;\">4.4</td><td style = \"text-align: right;\">2.9</td><td style = \"text-align: right;\">1.4</td><td style = \"text-align: right;\">0.2</td><td style = \"text-align: left;\">setosa</td></tr><tr><td class = \"rowNumber\" style = \"font-weight: bold; text-align: right;\">10</td><td style = \"text-align: right;\">4.9</td><td style = \"text-align: right;\">3.1</td><td style = \"text-align: right;\">1.5</td><td style = \"text-align: right;\">0.1</td><td style = \"text-align: left;\">setosa</td></tr><tr><td class = \"rowNumber\" style = \"font-weight: bold; text-align: right;\">11</td><td style = \"text-align: right;\">5.4</td><td style = \"text-align: right;\">3.7</td><td style = \"text-align: right;\">1.5</td><td style = \"text-align: right;\">0.2</td><td style = \"text-align: left;\">setosa</td></tr><tr><td class = \"rowNumber\" style = \"font-weight: bold; text-align: right;\">12</td><td style = \"text-align: right;\">4.8</td><td style = \"text-align: right;\">3.4</td><td style = \"text-align: right;\">1.6</td><td style = \"text-align: right;\">0.2</td><td style = \"text-align: left;\">setosa</td></tr><tr><td class = \"rowNumber\" style = \"font-weight: bold; text-align: right;\">13</td><td style = \"text-align: right;\">4.8</td><td style = \"text-align: right;\">3.0</td><td style = \"text-align: right;\">1.4</td><td style = \"text-align: right;\">0.1</td><td style = \"text-align: left;\">setosa</td></tr><tr><td style = \"text-align: right;\">&vellip;</td><td style = \"text-align: right;\">&vellip;</td><td style = \"text-align: right;\">&vellip;</td><td style = \"text-align: right;\">&vellip;</td><td style = \"text-align: right;\">&vellip;</td><td style = \"text-align: right;\">&vellip;</td></tr><tr><td class = \"rowNumber\" style = \"font-weight: bold; text-align: right;\">39</td><td style = \"text-align: right;\">4.4</td><td style = \"text-align: right;\">3.0</td><td style = \"text-align: right;\">1.3</td><td style = \"text-align: right;\">0.2</td><td style = \"text-align: left;\">setosa</td></tr><tr><td class = \"rowNumber\" style = \"font-weight: bold; text-align: right;\">40</td><td style = \"text-align: right;\">5.1</td><td style = \"text-align: right;\">3.4</td><td style = \"text-align: right;\">1.5</td><td style = \"text-align: right;\">0.2</td><td style = \"text-align: left;\">setosa</td></tr><tr><td class = \"rowNumber\" style = \"font-weight: bold; text-align: right;\">41</td><td style = \"text-align: right;\">5.0</td><td style = \"text-align: right;\">3.5</td><td style = \"text-align: right;\">1.3</td><td style = \"text-align: right;\">0.3</td><td style = \"text-align: left;\">setosa</td></tr><tr><td class = \"rowNumber\" style = \"font-weight: bold; text-align: right;\">42</td><td style = \"text-align: right;\">4.5</td><td style = \"text-align: right;\">2.3</td><td style = \"text-align: right;\">1.3</td><td style = \"text-align: right;\">0.3</td><td style = \"text-align: left;\">setosa</td></tr><tr><td class = \"rowNumber\" style = \"font-weight: bold; text-align: right;\">43</td><td style = \"text-align: right;\">4.4</td><td style = \"text-align: right;\">3.2</td><td style = \"text-align: right;\">1.3</td><td style = \"text-align: right;\">0.2</td><td style = \"text-align: left;\">setosa</td></tr><tr><td class = \"rowNumber\" style = \"font-weight: bold; text-align: right;\">44</td><td style = \"text-align: right;\">5.0</td><td style = \"text-align: right;\">3.5</td><td style = \"text-align: right;\">1.6</td><td style = \"text-align: right;\">0.6</td><td style = \"text-align: left;\">setosa</td></tr><tr><td class = \"rowNumber\" style = \"font-weight: bold; text-align: right;\">45</td><td style = \"text-align: right;\">5.1</td><td style = \"text-align: right;\">3.8</td><td style = \"text-align: right;\">1.9</td><td style = \"text-align: right;\">0.4</td><td style = \"text-align: left;\">setosa</td></tr><tr><td class = \"rowNumber\" style = \"font-weight: bold; text-align: right;\">46</td><td style = \"text-align: right;\">4.8</td><td style = \"text-align: right;\">3.0</td><td style = \"text-align: right;\">1.4</td><td style = \"text-align: right;\">0.3</td><td style = \"text-align: left;\">setosa</td></tr><tr><td class = \"rowNumber\" style = \"font-weight: bold; text-align: right;\">47</td><td style = \"text-align: right;\">5.1</td><td style = \"text-align: right;\">3.8</td><td style = \"text-align: right;\">1.6</td><td style = \"text-align: right;\">0.2</td><td style = \"text-align: left;\">setosa</td></tr><tr><td class = \"rowNumber\" style = \"font-weight: bold; text-align: right;\">48</td><td style = \"text-align: right;\">4.6</td><td style = \"text-align: right;\">3.2</td><td style = \"text-align: right;\">1.4</td><td style = \"text-align: right;\">0.2</td><td style = \"text-align: left;\">setosa</td></tr><tr><td class = \"rowNumber\" style = \"font-weight: bold; text-align: right;\">49</td><td style = \"text-align: right;\">5.3</td><td style = \"text-align: right;\">3.7</td><td style = \"text-align: right;\">1.5</td><td style = \"text-align: right;\">0.2</td><td style = \"text-align: left;\">setosa</td></tr><tr><td class = \"rowNumber\" style = \"font-weight: bold; text-align: right;\">50</td><td style = \"text-align: right;\">5.0</td><td style = \"text-align: right;\">3.3</td><td style = \"text-align: right;\">1.4</td><td style = \"text-align: right;\">0.2</td><td style = \"text-align: left;\">setosa</td></tr></tbody></table></div><p>&vellip;</p><div><div style = \"float: left;\"><span>Last Group (50 rows): Species = CategoricalArrays.CategoricalValue{String, UInt8} &quot;virginica&quot;</span></div><div style = \"float: right;\"><span style = \"font-style: italic;\">25 rows omitted</span></div><div style = \"clear: both;\"></div></div><div class = \"data-frame\" style = \"overflow-x: scroll;\"><table class = \"data-frame\" style = \"margin-bottom: 6px;\"><thead><tr class = \"header\"><th class = \"rowNumber\" style = \"font-weight: bold; text-align: right;\">Row</th><th style = \"text-align: left;\">SepalLength</th><th style = \"text-align: left;\">SepalWidth</th><th style = \"text-align: left;\">PetalLength</th><th style = \"text-align: left;\">PetalWidth</th><th style = \"text-align: left;\">Species</th></tr><tr class = \"subheader headerLastRow\"><th class = \"rowNumber\" style = \"font-weight: bold; text-align: right;\"></th><th title = \"Float64\" style = \"text-align: left;\">Float64</th><th title = \"Float64\" style = \"text-align: left;\">Float64</th><th title = \"Float64\" style = \"text-align: left;\">Float64</th><th title = \"Float64\" style = \"text-align: left;\">Float64</th><th title = \"CategoricalArrays.CategoricalValue{String, UInt8}\" style = \"text-align: left;\">Cat…</th></tr></thead><tbody><tr><td class = \"rowNumber\" style = \"font-weight: bold; text-align: right;\">1</td><td style = \"text-align: right;\">6.3</td><td style = \"text-align: right;\">3.3</td><td style = \"text-align: right;\">6.0</td><td style = \"text-align: right;\">2.5</td><td style = \"text-align: left;\">virginica</td></tr><tr><td class = \"rowNumber\" style = \"font-weight: bold; text-align: right;\">2</td><td style = \"text-align: right;\">5.8</td><td style = \"text-align: right;\">2.7</td><td style = \"text-align: right;\">5.1</td><td style = \"text-align: right;\">1.9</td><td style = \"text-align: left;\">virginica</td></tr><tr><td class = \"rowNumber\" style = \"font-weight: bold; text-align: right;\">3</td><td style = \"text-align: right;\">7.1</td><td style = \"text-align: right;\">3.0</td><td style = \"text-align: right;\">5.9</td><td style = \"text-align: right;\">2.1</td><td style = \"text-align: left;\">virginica</td></tr><tr><td class = \"rowNumber\" style = \"font-weight: bold; text-align: right;\">4</td><td style = \"text-align: right;\">6.3</td><td style = \"text-align: right;\">2.9</td><td style = \"text-align: right;\">5.6</td><td style = \"text-align: right;\">1.8</td><td style = \"text-align: left;\">virginica</td></tr><tr><td class = \"rowNumber\" style = \"font-weight: bold; text-align: right;\">5</td><td style = \"text-align: right;\">6.5</td><td style = \"text-align: right;\">3.0</td><td style = \"text-align: right;\">5.8</td><td style = \"text-align: right;\">2.2</td><td style = \"text-align: left;\">virginica</td></tr><tr><td class = \"rowNumber\" style = \"font-weight: bold; text-align: right;\">6</td><td style = \"text-align: right;\">7.6</td><td style = \"text-align: right;\">3.0</td><td style = \"text-align: right;\">6.6</td><td style = \"text-align: right;\">2.1</td><td style = \"text-align: left;\">virginica</td></tr><tr><td class = \"rowNumber\" style = \"font-weight: bold; text-align: right;\">7</td><td style = \"text-align: right;\">4.9</td><td style = \"text-align: right;\">2.5</td><td style = \"text-align: right;\">4.5</td><td style = \"text-align: right;\">1.7</td><td style = \"text-align: left;\">virginica</td></tr><tr><td class = \"rowNumber\" style = \"font-weight: bold; text-align: right;\">8</td><td style = \"text-align: right;\">7.3</td><td style = \"text-align: right;\">2.9</td><td style = \"text-align: right;\">6.3</td><td style = \"text-align: right;\">1.8</td><td style = \"text-align: left;\">virginica</td></tr><tr><td class = \"rowNumber\" style = \"font-weight: bold; text-align: right;\">9</td><td style = \"text-align: right;\">6.7</td><td style = \"text-align: right;\">2.5</td><td style = \"text-align: right;\">5.8</td><td style = \"text-align: right;\">1.8</td><td style = \"text-align: left;\">virginica</td></tr><tr><td class = \"rowNumber\" style = \"font-weight: bold; text-align: right;\">10</td><td style = \"text-align: right;\">7.2</td><td style = \"text-align: right;\">3.6</td><td style = \"text-align: right;\">6.1</td><td style = \"text-align: right;\">2.5</td><td style = \"text-align: left;\">virginica</td></tr><tr><td class = \"rowNumber\" style = \"font-weight: bold; text-align: right;\">11</td><td style = \"text-align: right;\">6.5</td><td style = \"text-align: right;\">3.2</td><td style = \"text-align: right;\">5.1</td><td style = \"text-align: right;\">2.0</td><td style = \"text-align: left;\">virginica</td></tr><tr><td class = \"rowNumber\" style = \"font-weight: bold; text-align: right;\">12</td><td style = \"text-align: right;\">6.4</td><td style = \"text-align: right;\">2.7</td><td style = \"text-align: right;\">5.3</td><td style = \"text-align: right;\">1.9</td><td style = \"text-align: left;\">virginica</td></tr><tr><td class = \"rowNumber\" style = \"font-weight: bold; text-align: right;\">13</td><td style = \"text-align: right;\">6.8</td><td style = \"text-align: right;\">3.0</td><td style = \"text-align: right;\">5.5</td><td style = \"text-align: right;\">2.1</td><td style = \"text-align: left;\">virginica</td></tr><tr><td style = \"text-align: right;\">&vellip;</td><td style = \"text-align: right;\">&vellip;</td><td style = \"text-align: right;\">&vellip;</td><td style = \"text-align: right;\">&vellip;</td><td style = \"text-align: right;\">&vellip;</td><td style = \"text-align: right;\">&vellip;</td></tr><tr><td class = \"rowNumber\" style = \"font-weight: bold; text-align: right;\">39</td><td style = \"text-align: right;\">6.0</td><td style = \"text-align: right;\">3.0</td><td style = \"text-align: right;\">4.8</td><td style = \"text-align: right;\">1.8</td><td style = \"text-align: left;\">virginica</td></tr><tr><td class = \"rowNumber\" style = \"font-weight: bold; text-align: right;\">40</td><td style = \"text-align: right;\">6.9</td><td style = \"text-align: right;\">3.1</td><td style = \"text-align: right;\">5.4</td><td style = \"text-align: right;\">2.1</td><td style = \"text-align: left;\">virginica</td></tr><tr><td class = \"rowNumber\" style = \"font-weight: bold; text-align: right;\">41</td><td style = \"text-align: right;\">6.7</td><td style = \"text-align: right;\">3.1</td><td style = \"text-align: right;\">5.6</td><td style = \"text-align: right;\">2.4</td><td style = \"text-align: left;\">virginica</td></tr><tr><td class = \"rowNumber\" style = \"font-weight: bold; text-align: right;\">42</td><td style = \"text-align: right;\">6.9</td><td style = \"text-align: right;\">3.1</td><td style = \"text-align: right;\">5.1</td><td style = \"text-align: right;\">2.3</td><td style = \"text-align: left;\">virginica</td></tr><tr><td class = \"rowNumber\" style = \"font-weight: bold; text-align: right;\">43</td><td style = \"text-align: right;\">5.8</td><td style = \"text-align: right;\">2.7</td><td style = \"text-align: right;\">5.1</td><td style = \"text-align: right;\">1.9</td><td style = \"text-align: left;\">virginica</td></tr><tr><td class = \"rowNumber\" style = \"font-weight: bold; text-align: right;\">44</td><td style = \"text-align: right;\">6.8</td><td style = \"text-align: right;\">3.2</td><td style = \"text-align: right;\">5.9</td><td style = \"text-align: right;\">2.3</td><td style = \"text-align: left;\">virginica</td></tr><tr><td class = \"rowNumber\" style = \"font-weight: bold; text-align: right;\">45</td><td style = \"text-align: right;\">6.7</td><td style = \"text-align: right;\">3.3</td><td style = \"text-align: right;\">5.7</td><td style = \"text-align: right;\">2.5</td><td style = \"text-align: left;\">virginica</td></tr><tr><td class = \"rowNumber\" style = \"font-weight: bold; text-align: right;\">46</td><td style = \"text-align: right;\">6.7</td><td style = \"text-align: right;\">3.0</td><td style = \"text-align: right;\">5.2</td><td style = \"text-align: right;\">2.3</td><td style = \"text-align: left;\">virginica</td></tr><tr><td class = \"rowNumber\" style = \"font-weight: bold; text-align: right;\">47</td><td style = \"text-align: right;\">6.3</td><td style = \"text-align: right;\">2.5</td><td style = \"text-align: right;\">5.0</td><td style = \"text-align: right;\">1.9</td><td style = \"text-align: left;\">virginica</td></tr><tr><td class = \"rowNumber\" style = \"font-weight: bold; text-align: right;\">48</td><td style = \"text-align: right;\">6.5</td><td style = \"text-align: right;\">3.0</td><td style = \"text-align: right;\">5.2</td><td style = \"text-align: right;\">2.0</td><td style = \"text-align: left;\">virginica</td></tr><tr><td class = \"rowNumber\" style = \"font-weight: bold; text-align: right;\">49</td><td style = \"text-align: right;\">6.2</td><td style = \"text-align: right;\">3.4</td><td style = \"text-align: right;\">5.4</td><td style = \"text-align: right;\">2.3</td><td style = \"text-align: left;\">virginica</td></tr><tr><td class = \"rowNumber\" style = \"font-weight: bold; text-align: right;\">50</td><td style = \"text-align: right;\">5.9</td><td style = \"text-align: right;\">3.0</td><td style = \"text-align: right;\">5.1</td><td style = \"text-align: right;\">1.8</td><td style = \"text-align: left;\">virginica</td></tr></tbody></table></div>"
            ],
            "text/latex": "GroupedDataFrame with 3 groups based on key: Species\n\nFirst Group (50 rows): Species = CategoricalArrays.CategoricalValue\\{String, UInt8\\} \"setosa\"\n\n\\begin{tabular}{r|ccccc}\n\t& SepalLength & SepalWidth & PetalLength & PetalWidth & Species\\\\\n\t\\hline\n\t& Float64 & Float64 & Float64 & Float64 & Cat…\\\\\n\t\\hline\n\t1 & 5.1 & 3.5 & 1.4 & 0.2 & setosa \\\\\n\t2 & 4.9 & 3.0 & 1.4 & 0.2 & setosa \\\\\n\t3 & 4.7 & 3.2 & 1.3 & 0.2 & setosa \\\\\n\t4 & 4.6 & 3.1 & 1.5 & 0.2 & setosa \\\\\n\t5 & 5.0 & 3.6 & 1.4 & 0.2 & setosa \\\\\n\t6 & 5.4 & 3.9 & 1.7 & 0.4 & setosa \\\\\n\t7 & 4.6 & 3.4 & 1.4 & 0.3 & setosa \\\\\n\t8 & 5.0 & 3.4 & 1.5 & 0.2 & setosa \\\\\n\t9 & 4.4 & 2.9 & 1.4 & 0.2 & setosa \\\\\n\t10 & 4.9 & 3.1 & 1.5 & 0.1 & setosa \\\\\n\t11 & 5.4 & 3.7 & 1.5 & 0.2 & setosa \\\\\n\t12 & 4.8 & 3.4 & 1.6 & 0.2 & setosa \\\\\n\t13 & 4.8 & 3.0 & 1.4 & 0.1 & setosa \\\\\n\t14 & 4.3 & 3.0 & 1.1 & 0.1 & setosa \\\\\n\t15 & 5.8 & 4.0 & 1.2 & 0.2 & setosa \\\\\n\t16 & 5.7 & 4.4 & 1.5 & 0.4 & setosa \\\\\n\t17 & 5.4 & 3.9 & 1.3 & 0.4 & setosa \\\\\n\t18 & 5.1 & 3.5 & 1.4 & 0.3 & setosa \\\\\n\t19 & 5.7 & 3.8 & 1.7 & 0.3 & setosa \\\\\n\t20 & 5.1 & 3.8 & 1.5 & 0.3 & setosa \\\\\n\t21 & 5.4 & 3.4 & 1.7 & 0.2 & setosa \\\\\n\t22 & 5.1 & 3.7 & 1.5 & 0.4 & setosa \\\\\n\t23 & 4.6 & 3.6 & 1.0 & 0.2 & setosa \\\\\n\t24 & 5.1 & 3.3 & 1.7 & 0.5 & setosa \\\\\n\t25 & 4.8 & 3.4 & 1.9 & 0.2 & setosa \\\\\n\t26 & 5.0 & 3.0 & 1.6 & 0.2 & setosa \\\\\n\t27 & 5.0 & 3.4 & 1.6 & 0.4 & setosa \\\\\n\t28 & 5.2 & 3.5 & 1.5 & 0.2 & setosa \\\\\n\t29 & 5.2 & 3.4 & 1.4 & 0.2 & setosa \\\\\n\t30 & 4.7 & 3.2 & 1.6 & 0.2 & setosa \\\\\n\t$\\dots$ & $\\dots$ & $\\dots$ & $\\dots$ & $\\dots$ & $\\dots$ \\\\\n\\end{tabular}\n\n$\\dots$\n\nLast Group (50 rows): Species = CategoricalArrays.CategoricalValue\\{String, UInt8\\} \"virginica\"\n\n\\begin{tabular}{r|ccccc}\n\t& SepalLength & SepalWidth & PetalLength & PetalWidth & Species\\\\\n\t\\hline\n\t& Float64 & Float64 & Float64 & Float64 & Cat…\\\\\n\t\\hline\n\t1 & 6.3 & 3.3 & 6.0 & 2.5 & virginica \\\\\n\t2 & 5.8 & 2.7 & 5.1 & 1.9 & virginica \\\\\n\t3 & 7.1 & 3.0 & 5.9 & 2.1 & virginica \\\\\n\t4 & 6.3 & 2.9 & 5.6 & 1.8 & virginica \\\\\n\t5 & 6.5 & 3.0 & 5.8 & 2.2 & virginica \\\\\n\t6 & 7.6 & 3.0 & 6.6 & 2.1 & virginica \\\\\n\t7 & 4.9 & 2.5 & 4.5 & 1.7 & virginica \\\\\n\t8 & 7.3 & 2.9 & 6.3 & 1.8 & virginica \\\\\n\t9 & 6.7 & 2.5 & 5.8 & 1.8 & virginica \\\\\n\t10 & 7.2 & 3.6 & 6.1 & 2.5 & virginica \\\\\n\t11 & 6.5 & 3.2 & 5.1 & 2.0 & virginica \\\\\n\t12 & 6.4 & 2.7 & 5.3 & 1.9 & virginica \\\\\n\t13 & 6.8 & 3.0 & 5.5 & 2.1 & virginica \\\\\n\t14 & 5.7 & 2.5 & 5.0 & 2.0 & virginica \\\\\n\t15 & 5.8 & 2.8 & 5.1 & 2.4 & virginica \\\\\n\t16 & 6.4 & 3.2 & 5.3 & 2.3 & virginica \\\\\n\t17 & 6.5 & 3.0 & 5.5 & 1.8 & virginica \\\\\n\t18 & 7.7 & 3.8 & 6.7 & 2.2 & virginica \\\\\n\t19 & 7.7 & 2.6 & 6.9 & 2.3 & virginica \\\\\n\t20 & 6.0 & 2.2 & 5.0 & 1.5 & virginica \\\\\n\t21 & 6.9 & 3.2 & 5.7 & 2.3 & virginica \\\\\n\t22 & 5.6 & 2.8 & 4.9 & 2.0 & virginica \\\\\n\t23 & 7.7 & 2.8 & 6.7 & 2.0 & virginica \\\\\n\t24 & 6.3 & 2.7 & 4.9 & 1.8 & virginica \\\\\n\t25 & 6.7 & 3.3 & 5.7 & 2.1 & virginica \\\\\n\t26 & 7.2 & 3.2 & 6.0 & 1.8 & virginica \\\\\n\t27 & 6.2 & 2.8 & 4.8 & 1.8 & virginica \\\\\n\t28 & 6.1 & 3.0 & 4.9 & 1.8 & virginica \\\\\n\t29 & 6.4 & 2.8 & 5.6 & 2.1 & virginica \\\\\n\t30 & 7.2 & 3.0 & 5.8 & 1.6 & virginica \\\\\n\t$\\dots$ & $\\dots$ & $\\dots$ & $\\dots$ & $\\dots$ & $\\dots$ \\\\\n\\end{tabular}\n"
          },
          "metadata": {},
          "execution_count": 54
        }
      ]
    },
    {
      "cell_type": "code",
      "source": [
        "combine(gd, :SepalLength => sum)"
      ],
      "metadata": {
        "id": "x5K8gQomkWH6",
        "outputId": "3596d630-79b6-4986-eca0-945fee47e5e5",
        "colab": {
          "base_uri": "https://localhost:8080/",
          "height": 147
        }
      },
      "execution_count": 55,
      "outputs": [
        {
          "output_type": "execute_result",
          "data": {
            "text/plain": [
              "\u001b[1m3×2 DataFrame\u001b[0m\n",
              "\u001b[1m Row \u001b[0m│\u001b[1m Species    \u001b[0m\u001b[1m SepalLength_sum \u001b[0m\n",
              "     │\u001b[90m Cat…       \u001b[0m\u001b[90m Float64         \u001b[0m\n",
              "─────┼─────────────────────────────\n",
              "   1 │ setosa                250.3\n",
              "   2 │ versicolor            296.8\n",
              "   3 │ virginica             329.4"
            ],
            "text/html": [
              "<div><div style = \"float: left;\"><span>3×2 DataFrame</span></div><div style = \"clear: both;\"></div></div><div class = \"data-frame\" style = \"overflow-x: scroll;\"><table class = \"data-frame\" style = \"margin-bottom: 6px;\"><thead><tr class = \"header\"><th class = \"rowNumber\" style = \"font-weight: bold; text-align: right;\">Row</th><th style = \"text-align: left;\">Species</th><th style = \"text-align: left;\">SepalLength_sum</th></tr><tr class = \"subheader headerLastRow\"><th class = \"rowNumber\" style = \"font-weight: bold; text-align: right;\"></th><th title = \"CategoricalArrays.CategoricalValue{String, UInt8}\" style = \"text-align: left;\">Cat…</th><th title = \"Float64\" style = \"text-align: left;\">Float64</th></tr></thead><tbody><tr><td class = \"rowNumber\" style = \"font-weight: bold; text-align: right;\">1</td><td style = \"text-align: left;\">setosa</td><td style = \"text-align: right;\">250.3</td></tr><tr><td class = \"rowNumber\" style = \"font-weight: bold; text-align: right;\">2</td><td style = \"text-align: left;\">versicolor</td><td style = \"text-align: right;\">296.8</td></tr><tr><td class = \"rowNumber\" style = \"font-weight: bold; text-align: right;\">3</td><td style = \"text-align: left;\">virginica</td><td style = \"text-align: right;\">329.4</td></tr></tbody></table></div>"
            ],
            "text/latex": "\\begin{tabular}{r|cc}\n\t& Species & SepalLength\\_sum\\\\\n\t\\hline\n\t& Cat… & Float64\\\\\n\t\\hline\n\t1 & setosa & 250.3 \\\\\n\t2 & versicolor & 296.8 \\\\\n\t3 & virginica & 329.4 \\\\\n\\end{tabular}\n"
          },
          "metadata": {},
          "execution_count": 55
        }
      ]
    },
    {
      "cell_type": "code",
      "source": [
        "combine(gd, Not(:Species) .=> sum)"
      ],
      "metadata": {
        "id": "yew-h2nmkXmv",
        "outputId": "56725622-3f1a-4daa-86f3-ce37a4c3fab4",
        "colab": {
          "base_uri": "https://localhost:8080/",
          "height": 147
        }
      },
      "execution_count": 56,
      "outputs": [
        {
          "output_type": "execute_result",
          "data": {
            "text/plain": [
              "\u001b[1m3×5 DataFrame\u001b[0m\n",
              "\u001b[1m Row \u001b[0m│\u001b[1m Species    \u001b[0m\u001b[1m SepalLength_sum \u001b[0m\u001b[1m SepalWidth_sum \u001b[0m\u001b[1m PetalLength_sum \u001b[0m\u001b[1m PetalWidth_sum \u001b[0m\n",
              "     │\u001b[90m Cat…       \u001b[0m\u001b[90m Float64         \u001b[0m\u001b[90m Float64        \u001b[0m\u001b[90m Float64         \u001b[0m\u001b[90m Float64        \u001b[0m\n",
              "─────┼──────────────────────────────────────────────────────────────────────────────\n",
              "   1 │ setosa                250.3           171.4             73.1            12.3\n",
              "   2 │ versicolor            296.8           138.5            213.0            66.3\n",
              "   3 │ virginica             329.4           148.7            277.6           101.3"
            ],
            "text/html": [
              "<div><div style = \"float: left;\"><span>3×5 DataFrame</span></div><div style = \"clear: both;\"></div></div><div class = \"data-frame\" style = \"overflow-x: scroll;\"><table class = \"data-frame\" style = \"margin-bottom: 6px;\"><thead><tr class = \"header\"><th class = \"rowNumber\" style = \"font-weight: bold; text-align: right;\">Row</th><th style = \"text-align: left;\">Species</th><th style = \"text-align: left;\">SepalLength_sum</th><th style = \"text-align: left;\">SepalWidth_sum</th><th style = \"text-align: left;\">PetalLength_sum</th><th style = \"text-align: left;\">PetalWidth_sum</th></tr><tr class = \"subheader headerLastRow\"><th class = \"rowNumber\" style = \"font-weight: bold; text-align: right;\"></th><th title = \"CategoricalArrays.CategoricalValue{String, UInt8}\" style = \"text-align: left;\">Cat…</th><th title = \"Float64\" style = \"text-align: left;\">Float64</th><th title = \"Float64\" style = \"text-align: left;\">Float64</th><th title = \"Float64\" style = \"text-align: left;\">Float64</th><th title = \"Float64\" style = \"text-align: left;\">Float64</th></tr></thead><tbody><tr><td class = \"rowNumber\" style = \"font-weight: bold; text-align: right;\">1</td><td style = \"text-align: left;\">setosa</td><td style = \"text-align: right;\">250.3</td><td style = \"text-align: right;\">171.4</td><td style = \"text-align: right;\">73.1</td><td style = \"text-align: right;\">12.3</td></tr><tr><td class = \"rowNumber\" style = \"font-weight: bold; text-align: right;\">2</td><td style = \"text-align: left;\">versicolor</td><td style = \"text-align: right;\">296.8</td><td style = \"text-align: right;\">138.5</td><td style = \"text-align: right;\">213.0</td><td style = \"text-align: right;\">66.3</td></tr><tr><td class = \"rowNumber\" style = \"font-weight: bold; text-align: right;\">3</td><td style = \"text-align: left;\">virginica</td><td style = \"text-align: right;\">329.4</td><td style = \"text-align: right;\">148.7</td><td style = \"text-align: right;\">277.6</td><td style = \"text-align: right;\">101.3</td></tr></tbody></table></div>"
            ],
            "text/latex": "\\begin{tabular}{r|ccccc}\n\t& Species & SepalLength\\_sum & SepalWidth\\_sum & PetalLength\\_sum & PetalWidth\\_sum\\\\\n\t\\hline\n\t& Cat… & Float64 & Float64 & Float64 & Float64\\\\\n\t\\hline\n\t1 & setosa & 250.3 & 171.4 & 73.1 & 12.3 \\\\\n\t2 & versicolor & 296.8 & 138.5 & 213.0 & 66.3 \\\\\n\t3 & virginica & 329.4 & 148.7 & 277.6 & 101.3 \\\\\n\\end{tabular}\n"
          },
          "metadata": {},
          "execution_count": 56
        }
      ]
    },
    {
      "cell_type": "code",
      "source": [
        "combine(gd, Not(:Species) .=> sum, DataFrames.nrow)"
      ],
      "metadata": {
        "id": "9-KrKzmAkZ2y",
        "outputId": "7df415c7-8cad-401a-9819-677629ec137b",
        "colab": {
          "base_uri": "https://localhost:8080/",
          "height": 147
        }
      },
      "execution_count": 57,
      "outputs": [
        {
          "output_type": "execute_result",
          "data": {
            "text/plain": [
              "\u001b[1m3×6 DataFrame\u001b[0m\n",
              "\u001b[1m Row \u001b[0m│\u001b[1m Species    \u001b[0m\u001b[1m SepalLength_sum \u001b[0m\u001b[1m SepalWidth_sum \u001b[0m\u001b[1m PetalLength_sum \u001b[0m\u001b[1m PetalWidth_sum \u001b[0m\u001b[1m nrow  \u001b[0m\n",
              "     │\u001b[90m Cat…       \u001b[0m\u001b[90m Float64         \u001b[0m\u001b[90m Float64        \u001b[0m\u001b[90m Float64         \u001b[0m\u001b[90m Float64        \u001b[0m\u001b[90m Int64 \u001b[0m\n",
              "─────┼─────────────────────────────────────────────────────────────────────────────────────\n",
              "   1 │ setosa                250.3           171.4             73.1            12.3     50\n",
              "   2 │ versicolor            296.8           138.5            213.0            66.3     50\n",
              "   3 │ virginica             329.4           148.7            277.6           101.3     50"
            ],
            "text/html": [
              "<div><div style = \"float: left;\"><span>3×6 DataFrame</span></div><div style = \"clear: both;\"></div></div><div class = \"data-frame\" style = \"overflow-x: scroll;\"><table class = \"data-frame\" style = \"margin-bottom: 6px;\"><thead><tr class = \"header\"><th class = \"rowNumber\" style = \"font-weight: bold; text-align: right;\">Row</th><th style = \"text-align: left;\">Species</th><th style = \"text-align: left;\">SepalLength_sum</th><th style = \"text-align: left;\">SepalWidth_sum</th><th style = \"text-align: left;\">PetalLength_sum</th><th style = \"text-align: left;\">PetalWidth_sum</th><th style = \"text-align: left;\">nrow</th></tr><tr class = \"subheader headerLastRow\"><th class = \"rowNumber\" style = \"font-weight: bold; text-align: right;\"></th><th title = \"CategoricalArrays.CategoricalValue{String, UInt8}\" style = \"text-align: left;\">Cat…</th><th title = \"Float64\" style = \"text-align: left;\">Float64</th><th title = \"Float64\" style = \"text-align: left;\">Float64</th><th title = \"Float64\" style = \"text-align: left;\">Float64</th><th title = \"Float64\" style = \"text-align: left;\">Float64</th><th title = \"Int64\" style = \"text-align: left;\">Int64</th></tr></thead><tbody><tr><td class = \"rowNumber\" style = \"font-weight: bold; text-align: right;\">1</td><td style = \"text-align: left;\">setosa</td><td style = \"text-align: right;\">250.3</td><td style = \"text-align: right;\">171.4</td><td style = \"text-align: right;\">73.1</td><td style = \"text-align: right;\">12.3</td><td style = \"text-align: right;\">50</td></tr><tr><td class = \"rowNumber\" style = \"font-weight: bold; text-align: right;\">2</td><td style = \"text-align: left;\">versicolor</td><td style = \"text-align: right;\">296.8</td><td style = \"text-align: right;\">138.5</td><td style = \"text-align: right;\">213.0</td><td style = \"text-align: right;\">66.3</td><td style = \"text-align: right;\">50</td></tr><tr><td class = \"rowNumber\" style = \"font-weight: bold; text-align: right;\">3</td><td style = \"text-align: left;\">virginica</td><td style = \"text-align: right;\">329.4</td><td style = \"text-align: right;\">148.7</td><td style = \"text-align: right;\">277.6</td><td style = \"text-align: right;\">101.3</td><td style = \"text-align: right;\">50</td></tr></tbody></table></div>"
            ],
            "text/latex": "\\begin{tabular}{r|cccccc}\n\t& Species & SepalLength\\_sum & SepalWidth\\_sum & PetalLength\\_sum & PetalWidth\\_sum & nrow\\\\\n\t\\hline\n\t& Cat… & Float64 & Float64 & Float64 & Float64 & Int64\\\\\n\t\\hline\n\t1 & setosa & 250.3 & 171.4 & 73.1 & 12.3 & 50 \\\\\n\t2 & versicolor & 296.8 & 138.5 & 213.0 & 66.3 & 50 \\\\\n\t3 & virginica & 329.4 & 148.7 & 277.6 & 101.3 & 50 \\\\\n\\end{tabular}\n"
          },
          "metadata": {},
          "execution_count": 57
        }
      ]
    },
    {
      "cell_type": "code",
      "source": [
        "using Statistics\n",
        "combine(gd, Not(:Species) .=> mean, DataFrames.nrow)"
      ],
      "metadata": {
        "id": "PnC9ReiXkbPW",
        "outputId": "5d122d06-ccf7-4660-edff-6f6dc3a49f7b",
        "colab": {
          "base_uri": "https://localhost:8080/",
          "height": 147
        }
      },
      "execution_count": 58,
      "outputs": [
        {
          "output_type": "execute_result",
          "data": {
            "text/plain": [
              "\u001b[1m3×6 DataFrame\u001b[0m\n",
              "\u001b[1m Row \u001b[0m│\u001b[1m Species    \u001b[0m\u001b[1m SepalLength_mean \u001b[0m\u001b[1m SepalWidth_mean \u001b[0m\u001b[1m PetalLength_mean \u001b[0m\u001b[1m PetalWidth_mean \u001b[0m\u001b[1m nrow  \u001b[0m\n",
              "     │\u001b[90m Cat…       \u001b[0m\u001b[90m Float64          \u001b[0m\u001b[90m Float64         \u001b[0m\u001b[90m Float64          \u001b[0m\u001b[90m Float64         \u001b[0m\u001b[90m Int64 \u001b[0m\n",
              "─────┼─────────────────────────────────────────────────────────────────────────────────────────\n",
              "   1 │ setosa                 5.006            3.428             1.462            0.246     50\n",
              "   2 │ versicolor             5.936            2.77              4.26             1.326     50\n",
              "   3 │ virginica              6.588            2.974             5.552            2.026     50"
            ],
            "text/html": [
              "<div><div style = \"float: left;\"><span>3×6 DataFrame</span></div><div style = \"clear: both;\"></div></div><div class = \"data-frame\" style = \"overflow-x: scroll;\"><table class = \"data-frame\" style = \"margin-bottom: 6px;\"><thead><tr class = \"header\"><th class = \"rowNumber\" style = \"font-weight: bold; text-align: right;\">Row</th><th style = \"text-align: left;\">Species</th><th style = \"text-align: left;\">SepalLength_mean</th><th style = \"text-align: left;\">SepalWidth_mean</th><th style = \"text-align: left;\">PetalLength_mean</th><th style = \"text-align: left;\">PetalWidth_mean</th><th style = \"text-align: left;\">nrow</th></tr><tr class = \"subheader headerLastRow\"><th class = \"rowNumber\" style = \"font-weight: bold; text-align: right;\"></th><th title = \"CategoricalArrays.CategoricalValue{String, UInt8}\" style = \"text-align: left;\">Cat…</th><th title = \"Float64\" style = \"text-align: left;\">Float64</th><th title = \"Float64\" style = \"text-align: left;\">Float64</th><th title = \"Float64\" style = \"text-align: left;\">Float64</th><th title = \"Float64\" style = \"text-align: left;\">Float64</th><th title = \"Int64\" style = \"text-align: left;\">Int64</th></tr></thead><tbody><tr><td class = \"rowNumber\" style = \"font-weight: bold; text-align: right;\">1</td><td style = \"text-align: left;\">setosa</td><td style = \"text-align: right;\">5.006</td><td style = \"text-align: right;\">3.428</td><td style = \"text-align: right;\">1.462</td><td style = \"text-align: right;\">0.246</td><td style = \"text-align: right;\">50</td></tr><tr><td class = \"rowNumber\" style = \"font-weight: bold; text-align: right;\">2</td><td style = \"text-align: left;\">versicolor</td><td style = \"text-align: right;\">5.936</td><td style = \"text-align: right;\">2.77</td><td style = \"text-align: right;\">4.26</td><td style = \"text-align: right;\">1.326</td><td style = \"text-align: right;\">50</td></tr><tr><td class = \"rowNumber\" style = \"font-weight: bold; text-align: right;\">3</td><td style = \"text-align: left;\">virginica</td><td style = \"text-align: right;\">6.588</td><td style = \"text-align: right;\">2.974</td><td style = \"text-align: right;\">5.552</td><td style = \"text-align: right;\">2.026</td><td style = \"text-align: right;\">50</td></tr></tbody></table></div>"
            ],
            "text/latex": "\\begin{tabular}{r|cccccc}\n\t& Species & SepalLength\\_mean & SepalWidth\\_mean & PetalLength\\_mean & PetalWidth\\_mean & nrow\\\\\n\t\\hline\n\t& Cat… & Float64 & Float64 & Float64 & Float64 & Int64\\\\\n\t\\hline\n\t1 & setosa & 5.006 & 3.428 & 1.462 & 0.246 & 50 \\\\\n\t2 & versicolor & 5.936 & 2.77 & 4.26 & 1.326 & 50 \\\\\n\t3 & virginica & 6.588 & 2.974 & 5.552 & 2.026 & 50 \\\\\n\\end{tabular}\n"
          },
          "metadata": {},
          "execution_count": 58
        }
      ]
    },
    {
      "cell_type": "code",
      "source": [
        "combine(gd, AsTable([:SepalLength, :PetalLength]) => ByRow((x) -> x[1] / x[2]) => :Ratio)"
      ],
      "metadata": {
        "id": "-fltWU3akdte",
        "outputId": "fd737939-5bb1-4417-8c8e-da096d411e91",
        "colab": {
          "base_uri": "https://localhost:8080/",
          "height": 630
        }
      },
      "execution_count": 59,
      "outputs": [
        {
          "output_type": "execute_result",
          "data": {
            "text/plain": [
              "\u001b[1m150×2 DataFrame\u001b[0m\n",
              "\u001b[1m Row \u001b[0m│\u001b[1m Species   \u001b[0m\u001b[1m Ratio   \u001b[0m\n",
              "     │\u001b[90m Cat…      \u001b[0m\u001b[90m Float64 \u001b[0m\n",
              "─────┼────────────────────\n",
              "   1 │ setosa     3.64286\n",
              "   2 │ setosa     3.5\n",
              "   3 │ setosa     3.61538\n",
              "   4 │ setosa     3.06667\n",
              "   5 │ setosa     3.57143\n",
              "   6 │ setosa     3.17647\n",
              "   7 │ setosa     3.28571\n",
              "   8 │ setosa     3.33333\n",
              "   9 │ setosa     3.14286\n",
              "  10 │ setosa     3.26667\n",
              "  11 │ setosa     3.6\n",
              "  ⋮  │     ⋮         ⋮\n",
              " 141 │ virginica  1.19643\n",
              " 142 │ virginica  1.35294\n",
              " 143 │ virginica  1.13725\n",
              " 144 │ virginica  1.15254\n",
              " 145 │ virginica  1.17544\n",
              " 146 │ virginica  1.28846\n",
              " 147 │ virginica  1.26\n",
              " 148 │ virginica  1.25\n",
              " 149 │ virginica  1.14815\n",
              " 150 │ virginica  1.15686\n",
              "\u001b[36m          129 rows omitted\u001b[0m"
            ],
            "text/html": [
              "<div><div style = \"float: left;\"><span>150×2 DataFrame</span></div><div style = \"float: right;\"><span style = \"font-style: italic;\">125 rows omitted</span></div><div style = \"clear: both;\"></div></div><div class = \"data-frame\" style = \"overflow-x: scroll;\"><table class = \"data-frame\" style = \"margin-bottom: 6px;\"><thead><tr class = \"header\"><th class = \"rowNumber\" style = \"font-weight: bold; text-align: right;\">Row</th><th style = \"text-align: left;\">Species</th><th style = \"text-align: left;\">Ratio</th></tr><tr class = \"subheader headerLastRow\"><th class = \"rowNumber\" style = \"font-weight: bold; text-align: right;\"></th><th title = \"CategoricalArrays.CategoricalValue{String, UInt8}\" style = \"text-align: left;\">Cat…</th><th title = \"Float64\" style = \"text-align: left;\">Float64</th></tr></thead><tbody><tr><td class = \"rowNumber\" style = \"font-weight: bold; text-align: right;\">1</td><td style = \"text-align: left;\">setosa</td><td style = \"text-align: right;\">3.64286</td></tr><tr><td class = \"rowNumber\" style = \"font-weight: bold; text-align: right;\">2</td><td style = \"text-align: left;\">setosa</td><td style = \"text-align: right;\">3.5</td></tr><tr><td class = \"rowNumber\" style = \"font-weight: bold; text-align: right;\">3</td><td style = \"text-align: left;\">setosa</td><td style = \"text-align: right;\">3.61538</td></tr><tr><td class = \"rowNumber\" style = \"font-weight: bold; text-align: right;\">4</td><td style = \"text-align: left;\">setosa</td><td style = \"text-align: right;\">3.06667</td></tr><tr><td class = \"rowNumber\" style = \"font-weight: bold; text-align: right;\">5</td><td style = \"text-align: left;\">setosa</td><td style = \"text-align: right;\">3.57143</td></tr><tr><td class = \"rowNumber\" style = \"font-weight: bold; text-align: right;\">6</td><td style = \"text-align: left;\">setosa</td><td style = \"text-align: right;\">3.17647</td></tr><tr><td class = \"rowNumber\" style = \"font-weight: bold; text-align: right;\">7</td><td style = \"text-align: left;\">setosa</td><td style = \"text-align: right;\">3.28571</td></tr><tr><td class = \"rowNumber\" style = \"font-weight: bold; text-align: right;\">8</td><td style = \"text-align: left;\">setosa</td><td style = \"text-align: right;\">3.33333</td></tr><tr><td class = \"rowNumber\" style = \"font-weight: bold; text-align: right;\">9</td><td style = \"text-align: left;\">setosa</td><td style = \"text-align: right;\">3.14286</td></tr><tr><td class = \"rowNumber\" style = \"font-weight: bold; text-align: right;\">10</td><td style = \"text-align: left;\">setosa</td><td style = \"text-align: right;\">3.26667</td></tr><tr><td class = \"rowNumber\" style = \"font-weight: bold; text-align: right;\">11</td><td style = \"text-align: left;\">setosa</td><td style = \"text-align: right;\">3.6</td></tr><tr><td class = \"rowNumber\" style = \"font-weight: bold; text-align: right;\">12</td><td style = \"text-align: left;\">setosa</td><td style = \"text-align: right;\">3.0</td></tr><tr><td class = \"rowNumber\" style = \"font-weight: bold; text-align: right;\">13</td><td style = \"text-align: left;\">setosa</td><td style = \"text-align: right;\">3.42857</td></tr><tr><td style = \"text-align: right;\">&vellip;</td><td style = \"text-align: right;\">&vellip;</td><td style = \"text-align: right;\">&vellip;</td></tr><tr><td class = \"rowNumber\" style = \"font-weight: bold; text-align: right;\">139</td><td style = \"text-align: left;\">virginica</td><td style = \"text-align: right;\">1.25</td></tr><tr><td class = \"rowNumber\" style = \"font-weight: bold; text-align: right;\">140</td><td style = \"text-align: left;\">virginica</td><td style = \"text-align: right;\">1.27778</td></tr><tr><td class = \"rowNumber\" style = \"font-weight: bold; text-align: right;\">141</td><td style = \"text-align: left;\">virginica</td><td style = \"text-align: right;\">1.19643</td></tr><tr><td class = \"rowNumber\" style = \"font-weight: bold; text-align: right;\">142</td><td style = \"text-align: left;\">virginica</td><td style = \"text-align: right;\">1.35294</td></tr><tr><td class = \"rowNumber\" style = \"font-weight: bold; text-align: right;\">143</td><td style = \"text-align: left;\">virginica</td><td style = \"text-align: right;\">1.13725</td></tr><tr><td class = \"rowNumber\" style = \"font-weight: bold; text-align: right;\">144</td><td style = \"text-align: left;\">virginica</td><td style = \"text-align: right;\">1.15254</td></tr><tr><td class = \"rowNumber\" style = \"font-weight: bold; text-align: right;\">145</td><td style = \"text-align: left;\">virginica</td><td style = \"text-align: right;\">1.17544</td></tr><tr><td class = \"rowNumber\" style = \"font-weight: bold; text-align: right;\">146</td><td style = \"text-align: left;\">virginica</td><td style = \"text-align: right;\">1.28846</td></tr><tr><td class = \"rowNumber\" style = \"font-weight: bold; text-align: right;\">147</td><td style = \"text-align: left;\">virginica</td><td style = \"text-align: right;\">1.26</td></tr><tr><td class = \"rowNumber\" style = \"font-weight: bold; text-align: right;\">148</td><td style = \"text-align: left;\">virginica</td><td style = \"text-align: right;\">1.25</td></tr><tr><td class = \"rowNumber\" style = \"font-weight: bold; text-align: right;\">149</td><td style = \"text-align: left;\">virginica</td><td style = \"text-align: right;\">1.14815</td></tr><tr><td class = \"rowNumber\" style = \"font-weight: bold; text-align: right;\">150</td><td style = \"text-align: left;\">virginica</td><td style = \"text-align: right;\">1.15686</td></tr></tbody></table></div>"
            ],
            "text/latex": "\\begin{tabular}{r|cc}\n\t& Species & Ratio\\\\\n\t\\hline\n\t& Cat… & Float64\\\\\n\t\\hline\n\t1 & setosa & 3.64286 \\\\\n\t2 & setosa & 3.5 \\\\\n\t3 & setosa & 3.61538 \\\\\n\t4 & setosa & 3.06667 \\\\\n\t5 & setosa & 3.57143 \\\\\n\t6 & setosa & 3.17647 \\\\\n\t7 & setosa & 3.28571 \\\\\n\t8 & setosa & 3.33333 \\\\\n\t9 & setosa & 3.14286 \\\\\n\t10 & setosa & 3.26667 \\\\\n\t11 & setosa & 3.6 \\\\\n\t12 & setosa & 3.0 \\\\\n\t13 & setosa & 3.42857 \\\\\n\t14 & setosa & 3.90909 \\\\\n\t15 & setosa & 4.83333 \\\\\n\t16 & setosa & 3.8 \\\\\n\t17 & setosa & 4.15385 \\\\\n\t18 & setosa & 3.64286 \\\\\n\t19 & setosa & 3.35294 \\\\\n\t20 & setosa & 3.4 \\\\\n\t21 & setosa & 3.17647 \\\\\n\t22 & setosa & 3.4 \\\\\n\t23 & setosa & 4.6 \\\\\n\t24 & setosa & 3.0 \\\\\n\t25 & setosa & 2.52632 \\\\\n\t26 & setosa & 3.125 \\\\\n\t27 & setosa & 3.125 \\\\\n\t28 & setosa & 3.46667 \\\\\n\t29 & setosa & 3.71429 \\\\\n\t30 & setosa & 2.9375 \\\\\n\t$\\dots$ & $\\dots$ & $\\dots$ \\\\\n\\end{tabular}\n"
          },
          "metadata": {},
          "execution_count": 59
        }
      ]
    },
    {
      "cell_type": "code",
      "source": [
        "using TSFrames\n",
        "ts = TSFrame(1:10)"
      ],
      "metadata": {
        "colab": {
          "base_uri": "https://localhost:8080/"
        },
        "id": "-4He2AVCGqcu",
        "outputId": "727fedeb-fc40-45d8-b007-3d701e2b383a"
      },
      "execution_count": 60,
      "outputs": [
        {
          "output_type": "stream",
          "name": "stderr",
          "text": [
            "WARNING: using TSFrames.describe in module Main conflicts with an existing identifier.\n",
            "WARNING: using TSFrames.nrow in module Main conflicts with an existing identifier.\n"
          ]
        },
        {
          "output_type": "execute_result",
          "data": {
            "text/plain": [
              "\u001b[1m10×1 TSFrame with Int64 Index\u001b[0m\n",
              "\u001b[1m Index \u001b[0m\u001b[1m x1    \u001b[0m\n",
              "\u001b[90m Int64 \u001b[0m\u001b[90m Int64 \u001b[0m\n",
              "──────────────\n",
              "     1      1\n",
              "     2      2\n",
              "     3      3\n",
              "     4      4\n",
              "     5      5\n",
              "     6      6\n",
              "     7      7\n",
              "     8      8\n",
              "     9      9\n",
              "    10     10"
            ]
          },
          "metadata": {},
          "execution_count": 60
        }
      ]
    },
    {
      "cell_type": "code",
      "source": [
        "ts = TSFrame(1:10, 2301: 2310)"
      ],
      "metadata": {
        "id": "Ew2N_xAQkfvh",
        "outputId": "1f634359-bd19-487d-d9ee-142802a51d76",
        "colab": {
          "base_uri": "https://localhost:8080/"
        }
      },
      "execution_count": 61,
      "outputs": [
        {
          "output_type": "execute_result",
          "data": {
            "text/plain": [
              "\u001b[1m10×1 TSFrame with Int64 Index\u001b[0m\n",
              "\u001b[1m Index \u001b[0m\u001b[1m x1    \u001b[0m\n",
              "\u001b[90m Int64 \u001b[0m\u001b[90m Int64 \u001b[0m\n",
              "──────────────\n",
              "  2301      1\n",
              "  2302      2\n",
              "  2303      3\n",
              "  2304      4\n",
              "  2305      5\n",
              "  2306      6\n",
              "  2307      7\n",
              "  2308      8\n",
              "  2309      9\n",
              "  2310     10"
            ]
          },
          "metadata": {},
          "execution_count": 61
        }
      ]
    },
    {
      "cell_type": "code",
      "source": [
        "using MarketData\n",
        "aapl_df = DataFrame(MarketData.yahoo(:AAPL))"
      ],
      "metadata": {
        "colab": {
          "base_uri": "https://localhost:8080/",
          "height": 630
        },
        "id": "DvnSxJLUGeKo",
        "outputId": "77288969-0b0b-4f55-a1b4-f235098bf3db"
      },
      "execution_count": 62,
      "outputs": [
        {
          "output_type": "execute_result",
          "data": {
            "text/plain": [
              "\u001b[1m11088×7 DataFrame\u001b[0m\n",
              "\u001b[1m   Row \u001b[0m│\u001b[1m timestamp  \u001b[0m\u001b[1m Open       \u001b[0m\u001b[1m High       \u001b[0m\u001b[1m Low        \u001b[0m\u001b[1m Close      \u001b[0m\u001b[1m AdjClose    \u001b[0m\u001b[1m Volume    \u001b[0m\n",
              "       │\u001b[90m Date       \u001b[0m\u001b[90m Float64    \u001b[0m\u001b[90m Float64    \u001b[0m\u001b[90m Float64    \u001b[0m\u001b[90m Float64    \u001b[0m\u001b[90m Float64     \u001b[0m\u001b[90m Float64   \u001b[0m\n",
              "───────┼────────────────────────────────────────────────────────────────────────────────────\n",
              "     1 │ 1980-12-12    0.128348    0.128906    0.128348    0.128348    0.0988345  4.69034e8\n",
              "     2 │ 1980-12-15    0.12221     0.12221     0.121652    0.121652    0.0936782  1.75885e8\n",
              "     3 │ 1980-12-16    0.113281    0.113281    0.112723    0.112723    0.0868024  1.05728e8\n",
              "     4 │ 1980-12-17    0.115513    0.116071    0.115513    0.115513    0.0889508  8.64416e7\n",
              "     5 │ 1980-12-18    0.118862    0.11942     0.118862    0.118862    0.0915297  7.34496e7\n",
              "     6 │ 1980-12-19    0.126116    0.126674    0.126116    0.126116    0.0971157  4.86304e7\n",
              "     7 │ 1980-12-22    0.132254    0.132813    0.132254    0.132254    0.101842   3.73632e7\n",
              "     8 │ 1980-12-23    0.137835    0.138393    0.137835    0.137835    0.10614    4.69504e7\n",
              "     9 │ 1980-12-24    0.145089    0.145647    0.145089    0.145089    0.111726   4.80032e7\n",
              "    10 │ 1980-12-26    0.158482    0.15904     0.158482    0.158482    0.122039   5.55744e7\n",
              "    11 │ 1980-12-29    0.160714    0.161272    0.160714    0.160714    0.123758   9.31616e7\n",
              "   ⋮   │     ⋮           ⋮           ⋮           ⋮           ⋮            ⋮           ⋮\n",
              " 11079 │ 2024-11-21  228.88      230.16      225.71      228.52      228.52       4.21083e7\n",
              " 11080 │ 2024-11-22  228.06      230.72      228.06      229.87      229.87       3.81683e7\n",
              " 11081 │ 2024-11-25  231.46      233.25      229.74      232.87      232.87       9.01528e7\n",
              " 11082 │ 2024-11-26  233.33      235.57      233.33      235.06      235.06       4.59862e7\n",
              " 11083 │ 2024-11-27  234.47      235.69      233.81      234.93      234.93       3.34984e7\n",
              " 11084 │ 2024-11-29  234.81      237.81      233.97      237.33      237.33       2.84814e7\n",
              " 11085 │ 2024-12-02  237.27      240.79      237.16      239.59      239.59       4.81371e7\n",
              " 11086 │ 2024-12-03  239.81      242.76      238.9       242.65      242.65       3.8861e7\n",
              " 11087 │ 2024-12-04  242.87      244.11      241.25      243.01      243.01       4.43839e7\n",
              " 11088 │ 2024-12-05  243.99      244.54      242.13      243.04      243.04       3.99619e7\n",
              "\u001b[36m                                                                          11067 rows omitted\u001b[0m"
            ],
            "text/html": [
              "<div><div style = \"float: left;\"><span>11088×7 DataFrame</span></div><div style = \"float: right;\"><span style = \"font-style: italic;\">11063 rows omitted</span></div><div style = \"clear: both;\"></div></div><div class = \"data-frame\" style = \"overflow-x: scroll;\"><table class = \"data-frame\" style = \"margin-bottom: 6px;\"><thead><tr class = \"header\"><th class = \"rowNumber\" style = \"font-weight: bold; text-align: right;\">Row</th><th style = \"text-align: left;\">timestamp</th><th style = \"text-align: left;\">Open</th><th style = \"text-align: left;\">High</th><th style = \"text-align: left;\">Low</th><th style = \"text-align: left;\">Close</th><th style = \"text-align: left;\">AdjClose</th><th style = \"text-align: left;\">Volume</th></tr><tr class = \"subheader headerLastRow\"><th class = \"rowNumber\" style = \"font-weight: bold; text-align: right;\"></th><th title = \"Date\" style = \"text-align: left;\">Date</th><th title = \"Float64\" style = \"text-align: left;\">Float64</th><th title = \"Float64\" style = \"text-align: left;\">Float64</th><th title = \"Float64\" style = \"text-align: left;\">Float64</th><th title = \"Float64\" style = \"text-align: left;\">Float64</th><th title = \"Float64\" style = \"text-align: left;\">Float64</th><th title = \"Float64\" style = \"text-align: left;\">Float64</th></tr></thead><tbody><tr><td class = \"rowNumber\" style = \"font-weight: bold; text-align: right;\">1</td><td style = \"text-align: left;\">1980-12-12</td><td style = \"text-align: right;\">0.128348</td><td style = \"text-align: right;\">0.128906</td><td style = \"text-align: right;\">0.128348</td><td style = \"text-align: right;\">0.128348</td><td style = \"text-align: right;\">0.0988345</td><td style = \"text-align: right;\">4.69034e8</td></tr><tr><td class = \"rowNumber\" style = \"font-weight: bold; text-align: right;\">2</td><td style = \"text-align: left;\">1980-12-15</td><td style = \"text-align: right;\">0.12221</td><td style = \"text-align: right;\">0.12221</td><td style = \"text-align: right;\">0.121652</td><td style = \"text-align: right;\">0.121652</td><td style = \"text-align: right;\">0.0936782</td><td style = \"text-align: right;\">1.75885e8</td></tr><tr><td class = \"rowNumber\" style = \"font-weight: bold; text-align: right;\">3</td><td style = \"text-align: left;\">1980-12-16</td><td style = \"text-align: right;\">0.113281</td><td style = \"text-align: right;\">0.113281</td><td style = \"text-align: right;\">0.112723</td><td style = \"text-align: right;\">0.112723</td><td style = \"text-align: right;\">0.0868024</td><td style = \"text-align: right;\">1.05728e8</td></tr><tr><td class = \"rowNumber\" style = \"font-weight: bold; text-align: right;\">4</td><td style = \"text-align: left;\">1980-12-17</td><td style = \"text-align: right;\">0.115513</td><td style = \"text-align: right;\">0.116071</td><td style = \"text-align: right;\">0.115513</td><td style = \"text-align: right;\">0.115513</td><td style = \"text-align: right;\">0.0889508</td><td style = \"text-align: right;\">8.64416e7</td></tr><tr><td class = \"rowNumber\" style = \"font-weight: bold; text-align: right;\">5</td><td style = \"text-align: left;\">1980-12-18</td><td style = \"text-align: right;\">0.118862</td><td style = \"text-align: right;\">0.11942</td><td style = \"text-align: right;\">0.118862</td><td style = \"text-align: right;\">0.118862</td><td style = \"text-align: right;\">0.0915297</td><td style = \"text-align: right;\">7.34496e7</td></tr><tr><td class = \"rowNumber\" style = \"font-weight: bold; text-align: right;\">6</td><td style = \"text-align: left;\">1980-12-19</td><td style = \"text-align: right;\">0.126116</td><td style = \"text-align: right;\">0.126674</td><td style = \"text-align: right;\">0.126116</td><td style = \"text-align: right;\">0.126116</td><td style = \"text-align: right;\">0.0971157</td><td style = \"text-align: right;\">4.86304e7</td></tr><tr><td class = \"rowNumber\" style = \"font-weight: bold; text-align: right;\">7</td><td style = \"text-align: left;\">1980-12-22</td><td style = \"text-align: right;\">0.132254</td><td style = \"text-align: right;\">0.132813</td><td style = \"text-align: right;\">0.132254</td><td style = \"text-align: right;\">0.132254</td><td style = \"text-align: right;\">0.101842</td><td style = \"text-align: right;\">3.73632e7</td></tr><tr><td class = \"rowNumber\" style = \"font-weight: bold; text-align: right;\">8</td><td style = \"text-align: left;\">1980-12-23</td><td style = \"text-align: right;\">0.137835</td><td style = \"text-align: right;\">0.138393</td><td style = \"text-align: right;\">0.137835</td><td style = \"text-align: right;\">0.137835</td><td style = \"text-align: right;\">0.10614</td><td style = \"text-align: right;\">4.69504e7</td></tr><tr><td class = \"rowNumber\" style = \"font-weight: bold; text-align: right;\">9</td><td style = \"text-align: left;\">1980-12-24</td><td style = \"text-align: right;\">0.145089</td><td style = \"text-align: right;\">0.145647</td><td style = \"text-align: right;\">0.145089</td><td style = \"text-align: right;\">0.145089</td><td style = \"text-align: right;\">0.111726</td><td style = \"text-align: right;\">4.80032e7</td></tr><tr><td class = \"rowNumber\" style = \"font-weight: bold; text-align: right;\">10</td><td style = \"text-align: left;\">1980-12-26</td><td style = \"text-align: right;\">0.158482</td><td style = \"text-align: right;\">0.15904</td><td style = \"text-align: right;\">0.158482</td><td style = \"text-align: right;\">0.158482</td><td style = \"text-align: right;\">0.122039</td><td style = \"text-align: right;\">5.55744e7</td></tr><tr><td class = \"rowNumber\" style = \"font-weight: bold; text-align: right;\">11</td><td style = \"text-align: left;\">1980-12-29</td><td style = \"text-align: right;\">0.160714</td><td style = \"text-align: right;\">0.161272</td><td style = \"text-align: right;\">0.160714</td><td style = \"text-align: right;\">0.160714</td><td style = \"text-align: right;\">0.123758</td><td style = \"text-align: right;\">9.31616e7</td></tr><tr><td class = \"rowNumber\" style = \"font-weight: bold; text-align: right;\">12</td><td style = \"text-align: left;\">1980-12-30</td><td style = \"text-align: right;\">0.157366</td><td style = \"text-align: right;\">0.157366</td><td style = \"text-align: right;\">0.156808</td><td style = \"text-align: right;\">0.156808</td><td style = \"text-align: right;\">0.12075</td><td style = \"text-align: right;\">6.888e7</td></tr><tr><td class = \"rowNumber\" style = \"font-weight: bold; text-align: right;\">13</td><td style = \"text-align: left;\">1980-12-31</td><td style = \"text-align: right;\">0.152902</td><td style = \"text-align: right;\">0.152902</td><td style = \"text-align: right;\">0.152344</td><td style = \"text-align: right;\">0.152344</td><td style = \"text-align: right;\">0.117313</td><td style = \"text-align: right;\">3.57504e7</td></tr><tr><td style = \"text-align: right;\">&vellip;</td><td style = \"text-align: right;\">&vellip;</td><td style = \"text-align: right;\">&vellip;</td><td style = \"text-align: right;\">&vellip;</td><td style = \"text-align: right;\">&vellip;</td><td style = \"text-align: right;\">&vellip;</td><td style = \"text-align: right;\">&vellip;</td><td style = \"text-align: right;\">&vellip;</td></tr><tr><td class = \"rowNumber\" style = \"font-weight: bold; text-align: right;\">11077</td><td style = \"text-align: left;\">2024-11-19</td><td style = \"text-align: right;\">226.98</td><td style = \"text-align: right;\">230.16</td><td style = \"text-align: right;\">226.66</td><td style = \"text-align: right;\">228.28</td><td style = \"text-align: right;\">228.28</td><td style = \"text-align: right;\">3.62118e7</td></tr><tr><td class = \"rowNumber\" style = \"font-weight: bold; text-align: right;\">11078</td><td style = \"text-align: left;\">2024-11-20</td><td style = \"text-align: right;\">228.06</td><td style = \"text-align: right;\">229.93</td><td style = \"text-align: right;\">225.89</td><td style = \"text-align: right;\">229.0</td><td style = \"text-align: right;\">229.0</td><td style = \"text-align: right;\">3.51696e7</td></tr><tr><td class = \"rowNumber\" style = \"font-weight: bold; text-align: right;\">11079</td><td style = \"text-align: left;\">2024-11-21</td><td style = \"text-align: right;\">228.88</td><td style = \"text-align: right;\">230.16</td><td style = \"text-align: right;\">225.71</td><td style = \"text-align: right;\">228.52</td><td style = \"text-align: right;\">228.52</td><td style = \"text-align: right;\">4.21083e7</td></tr><tr><td class = \"rowNumber\" style = \"font-weight: bold; text-align: right;\">11080</td><td style = \"text-align: left;\">2024-11-22</td><td style = \"text-align: right;\">228.06</td><td style = \"text-align: right;\">230.72</td><td style = \"text-align: right;\">228.06</td><td style = \"text-align: right;\">229.87</td><td style = \"text-align: right;\">229.87</td><td style = \"text-align: right;\">3.81683e7</td></tr><tr><td class = \"rowNumber\" style = \"font-weight: bold; text-align: right;\">11081</td><td style = \"text-align: left;\">2024-11-25</td><td style = \"text-align: right;\">231.46</td><td style = \"text-align: right;\">233.25</td><td style = \"text-align: right;\">229.74</td><td style = \"text-align: right;\">232.87</td><td style = \"text-align: right;\">232.87</td><td style = \"text-align: right;\">9.01528e7</td></tr><tr><td class = \"rowNumber\" style = \"font-weight: bold; text-align: right;\">11082</td><td style = \"text-align: left;\">2024-11-26</td><td style = \"text-align: right;\">233.33</td><td style = \"text-align: right;\">235.57</td><td style = \"text-align: right;\">233.33</td><td style = \"text-align: right;\">235.06</td><td style = \"text-align: right;\">235.06</td><td style = \"text-align: right;\">4.59862e7</td></tr><tr><td class = \"rowNumber\" style = \"font-weight: bold; text-align: right;\">11083</td><td style = \"text-align: left;\">2024-11-27</td><td style = \"text-align: right;\">234.47</td><td style = \"text-align: right;\">235.69</td><td style = \"text-align: right;\">233.81</td><td style = \"text-align: right;\">234.93</td><td style = \"text-align: right;\">234.93</td><td style = \"text-align: right;\">3.34984e7</td></tr><tr><td class = \"rowNumber\" style = \"font-weight: bold; text-align: right;\">11084</td><td style = \"text-align: left;\">2024-11-29</td><td style = \"text-align: right;\">234.81</td><td style = \"text-align: right;\">237.81</td><td style = \"text-align: right;\">233.97</td><td style = \"text-align: right;\">237.33</td><td style = \"text-align: right;\">237.33</td><td style = \"text-align: right;\">2.84814e7</td></tr><tr><td class = \"rowNumber\" style = \"font-weight: bold; text-align: right;\">11085</td><td style = \"text-align: left;\">2024-12-02</td><td style = \"text-align: right;\">237.27</td><td style = \"text-align: right;\">240.79</td><td style = \"text-align: right;\">237.16</td><td style = \"text-align: right;\">239.59</td><td style = \"text-align: right;\">239.59</td><td style = \"text-align: right;\">4.81371e7</td></tr><tr><td class = \"rowNumber\" style = \"font-weight: bold; text-align: right;\">11086</td><td style = \"text-align: left;\">2024-12-03</td><td style = \"text-align: right;\">239.81</td><td style = \"text-align: right;\">242.76</td><td style = \"text-align: right;\">238.9</td><td style = \"text-align: right;\">242.65</td><td style = \"text-align: right;\">242.65</td><td style = \"text-align: right;\">3.8861e7</td></tr><tr><td class = \"rowNumber\" style = \"font-weight: bold; text-align: right;\">11087</td><td style = \"text-align: left;\">2024-12-04</td><td style = \"text-align: right;\">242.87</td><td style = \"text-align: right;\">244.11</td><td style = \"text-align: right;\">241.25</td><td style = \"text-align: right;\">243.01</td><td style = \"text-align: right;\">243.01</td><td style = \"text-align: right;\">4.43839e7</td></tr><tr><td class = \"rowNumber\" style = \"font-weight: bold; text-align: right;\">11088</td><td style = \"text-align: left;\">2024-12-05</td><td style = \"text-align: right;\">243.99</td><td style = \"text-align: right;\">244.54</td><td style = \"text-align: right;\">242.13</td><td style = \"text-align: right;\">243.04</td><td style = \"text-align: right;\">243.04</td><td style = \"text-align: right;\">3.99619e7</td></tr></tbody></table></div>"
            ],
            "text/latex": "\\begin{tabular}{r|ccccccc}\n\t& timestamp & Open & High & Low & Close & AdjClose & Volume\\\\\n\t\\hline\n\t& Date & Float64 & Float64 & Float64 & Float64 & Float64 & Float64\\\\\n\t\\hline\n\t1 & 1980-12-12 & 0.128348 & 0.128906 & 0.128348 & 0.128348 & 0.0988345 & 4.69034e8 \\\\\n\t2 & 1980-12-15 & 0.12221 & 0.12221 & 0.121652 & 0.121652 & 0.0936782 & 1.75885e8 \\\\\n\t3 & 1980-12-16 & 0.113281 & 0.113281 & 0.112723 & 0.112723 & 0.0868024 & 1.05728e8 \\\\\n\t4 & 1980-12-17 & 0.115513 & 0.116071 & 0.115513 & 0.115513 & 0.0889508 & 8.64416e7 \\\\\n\t5 & 1980-12-18 & 0.118862 & 0.11942 & 0.118862 & 0.118862 & 0.0915297 & 7.34496e7 \\\\\n\t6 & 1980-12-19 & 0.126116 & 0.126674 & 0.126116 & 0.126116 & 0.0971157 & 4.86304e7 \\\\\n\t7 & 1980-12-22 & 0.132254 & 0.132813 & 0.132254 & 0.132254 & 0.101842 & 3.73632e7 \\\\\n\t8 & 1980-12-23 & 0.137835 & 0.138393 & 0.137835 & 0.137835 & 0.10614 & 4.69504e7 \\\\\n\t9 & 1980-12-24 & 0.145089 & 0.145647 & 0.145089 & 0.145089 & 0.111726 & 4.80032e7 \\\\\n\t10 & 1980-12-26 & 0.158482 & 0.15904 & 0.158482 & 0.158482 & 0.122039 & 5.55744e7 \\\\\n\t11 & 1980-12-29 & 0.160714 & 0.161272 & 0.160714 & 0.160714 & 0.123758 & 9.31616e7 \\\\\n\t12 & 1980-12-30 & 0.157366 & 0.157366 & 0.156808 & 0.156808 & 0.12075 & 6.888e7 \\\\\n\t13 & 1980-12-31 & 0.152902 & 0.152902 & 0.152344 & 0.152344 & 0.117313 & 3.57504e7 \\\\\n\t14 & 1981-01-02 & 0.154018 & 0.155134 & 0.154018 & 0.154018 & 0.118602 & 2.16608e7 \\\\\n\t15 & 1981-01-05 & 0.151228 & 0.151228 & 0.15067 & 0.15067 & 0.116024 & 3.5728e7 \\\\\n\t16 & 1981-01-06 & 0.144531 & 0.144531 & 0.143973 & 0.143973 & 0.110866 & 4.51584e7 \\\\\n\t17 & 1981-01-07 & 0.138393 & 0.138393 & 0.137835 & 0.137835 & 0.10614 & 5.56864e7 \\\\\n\t18 & 1981-01-08 & 0.135603 & 0.135603 & 0.135045 & 0.135045 & 0.103991 & 3.98272e7 \\\\\n\t19 & 1981-01-09 & 0.142299 & 0.142857 & 0.142299 & 0.142299 & 0.109577 & 2.1504e7 \\\\\n\t20 & 1981-01-12 & 0.142299 & 0.142299 & 0.141183 & 0.141183 & 0.108718 & 2.36992e7 \\\\\n\t21 & 1981-01-13 & 0.136719 & 0.136719 & 0.136161 & 0.136161 & 0.104851 & 2.30496e7 \\\\\n\t22 & 1981-01-14 & 0.136719 & 0.137277 & 0.136719 & 0.136719 & 0.105281 & 1.42912e7 \\\\\n\t23 & 1981-01-15 & 0.139509 & 0.140625 & 0.139509 & 0.139509 & 0.107429 & 1.40672e7 \\\\\n\t24 & 1981-01-16 & 0.138951 & 0.138951 & 0.138393 & 0.138393 & 0.10657 & 1.33952e7 \\\\\n\t25 & 1981-01-19 & 0.146763 & 0.147321 & 0.146763 & 0.146763 & 0.113015 & 4.15744e7 \\\\\n\t26 & 1981-01-20 & 0.142857 & 0.142857 & 0.142299 & 0.142299 & 0.109577 & 3.00832e7 \\\\\n\t27 & 1981-01-21 & 0.145089 & 0.146205 & 0.145089 & 0.145089 & 0.111726 & 1.5904e7 \\\\\n\t28 & 1981-01-22 & 0.146763 & 0.147879 & 0.146763 & 0.146763 & 0.113015 & 3.55488e7 \\\\\n\t29 & 1981-01-23 & 0.146763 & 0.147321 & 0.146205 & 0.146205 & 0.112585 & 1.12224e7 \\\\\n\t30 & 1981-01-26 & 0.144531 & 0.144531 & 0.143973 & 0.143973 & 0.110866 & 2.464e7 \\\\\n\t$\\dots$ & $\\dots$ & $\\dots$ & $\\dots$ & $\\dots$ & $\\dots$ & $\\dots$ & $\\dots$ \\\\\n\\end{tabular}\n"
          },
          "metadata": {},
          "execution_count": 62
        }
      ]
    },
    {
      "cell_type": "code",
      "source": [
        "aapl_ts = TSFrame(MarketData.yahoo(:AAPL))"
      ],
      "metadata": {
        "id": "qxG-ui4Xkilj",
        "outputId": "cda4d435-2d59-4d63-907f-c7a000ba36da",
        "colab": {
          "base_uri": "https://localhost:8080/"
        }
      },
      "execution_count": 63,
      "outputs": [
        {
          "output_type": "execute_result",
          "data": {
            "text/plain": [
              "\u001b[1m11088×6 TSFrame with Date Index\u001b[0m\n",
              "\u001b[1m Index      \u001b[0m\u001b[1m Open       \u001b[0m\u001b[1m High       \u001b[0m\u001b[1m Low        \u001b[0m\u001b[1m Close      \u001b[0m\u001b[1m AdjClose    \u001b[0m\u001b[1m Volume    \u001b[0m\n",
              "\u001b[90m Date       \u001b[0m\u001b[90m Float64    \u001b[0m\u001b[90m Float64    \u001b[0m\u001b[90m Float64    \u001b[0m\u001b[90m Float64    \u001b[0m\u001b[90m Float64     \u001b[0m\u001b[90m Float64   \u001b[0m\n",
              "────────────────────────────────────────────────────────────────────────────────────\n",
              " 1980-12-12    0.128348    0.128906    0.128348    0.128348    0.0988345  4.69034e8\n",
              " 1980-12-15    0.12221     0.12221     0.121652    0.121652    0.0936782  1.75885e8\n",
              " 1980-12-16    0.113281    0.113281    0.112723    0.112723    0.0868024  1.05728e8\n",
              " 1980-12-17    0.115513    0.116071    0.115513    0.115513    0.0889509  8.64416e7\n",
              " 1980-12-18    0.118862    0.11942     0.118862    0.118862    0.0915298  7.34496e7\n",
              " 1980-12-19    0.126116    0.126674    0.126116    0.126116    0.0971157  4.86304e7\n",
              " 1980-12-22    0.132254    0.132813    0.132254    0.132254    0.101842   3.73632e7\n",
              " 1980-12-23    0.137835    0.138393    0.137835    0.137835    0.10614    4.69504e7\n",
              " 1980-12-24    0.145089    0.145647    0.145089    0.145089    0.111726   4.80032e7\n",
              " 1980-12-26    0.158482    0.15904     0.158482    0.158482    0.122039   5.55744e7\n",
              " 1980-12-29    0.160714    0.161272    0.160714    0.160714    0.123758   9.31616e7\n",
              "     ⋮           ⋮           ⋮           ⋮           ⋮            ⋮           ⋮\n",
              " 2024-11-21  228.88      230.16      225.71      228.52      228.52       4.21083e7\n",
              " 2024-11-22  228.06      230.72      228.06      229.87      229.87       3.81683e7\n",
              " 2024-11-25  231.46      233.25      229.74      232.87      232.87       9.01528e7\n",
              " 2024-11-26  233.33      235.57      233.33      235.06      235.06       4.59862e7\n",
              " 2024-11-27  234.47      235.69      233.81      234.93      234.93       3.34984e7\n",
              " 2024-11-29  234.81      237.81      233.97      237.33      237.33       2.84814e7\n",
              " 2024-12-02  237.27      240.79      237.16      239.59      239.59       4.81371e7\n",
              " 2024-12-03  239.81      242.76      238.9       242.65      242.65       3.8861e7\n",
              " 2024-12-04  242.87      244.11      241.25      243.01      243.01       4.43839e7\n",
              " 2024-12-05  243.99      244.54      242.13      243.04      243.04       3.99619e7\n",
              "\u001b[36m                                                                  11067 rows omitted\u001b[0m"
            ]
          },
          "metadata": {},
          "execution_count": 63
        }
      ]
    },
    {
      "cell_type": "code",
      "source": [
        "aapl_ts = CSV.read(\"aapl.csv\", TSFrame)"
      ],
      "metadata": {
        "id": "HQ32_KKOkj4U",
        "outputId": "70b5b8fe-acb7-41d0-c493-aa7a6b81c597",
        "colab": {
          "base_uri": "https://localhost:8080/",
          "height": 411
        }
      },
      "execution_count": 64,
      "outputs": [
        {
          "output_type": "error",
          "ename": "LoadError",
          "evalue": "ArgumentError: \"aapl.csv\" is not a valid file or doesn't exist",
          "traceback": [
            "ArgumentError: \"aapl.csv\" is not a valid file or doesn't exist",
            "",
            "Stacktrace:",
            " [1] CSV.Context(source::CSV.Arg, header::CSV.Arg, normalizenames::CSV.Arg, datarow::CSV.Arg, skipto::CSV.Arg, footerskip::CSV.Arg, transpose::CSV.Arg, comment::CSV.Arg, ignoreemptyrows::CSV.Arg, ignoreemptylines::CSV.Arg, select::CSV.Arg, drop::CSV.Arg, limit::CSV.Arg, buffer_in_memory::CSV.Arg, threaded::CSV.Arg, ntasks::CSV.Arg, tasks::CSV.Arg, rows_to_check::CSV.Arg, lines_to_check::CSV.Arg, missingstrings::CSV.Arg, missingstring::CSV.Arg, delim::CSV.Arg, ignorerepeated::CSV.Arg, quoted::CSV.Arg, quotechar::CSV.Arg, openquotechar::CSV.Arg, closequotechar::CSV.Arg, escapechar::CSV.Arg, dateformat::CSV.Arg, dateformats::CSV.Arg, decimal::CSV.Arg, groupmark::CSV.Arg, truestrings::CSV.Arg, falsestrings::CSV.Arg, stripwhitespace::CSV.Arg, type::CSV.Arg, types::CSV.Arg, typemap::CSV.Arg, pool::CSV.Arg, downcast::CSV.Arg, lazystrings::CSV.Arg, stringtype::CSV.Arg, strict::CSV.Arg, silencewarnings::CSV.Arg, maxwarnings::CSV.Arg, debug::CSV.Arg, parsingdebug::CSV.Arg, validate::CSV.Arg, streaming::CSV.Arg)",
            "   @ CSV ~/.julia/packages/CSV/XLcqT/src/context.jl:314",
            " [2] #File#32",
            "   @ ~/.julia/packages/CSV/XLcqT/src/file.jl:222 [inlined]",
            " [3] CSV.File(source::String)",
            "   @ CSV ~/.julia/packages/CSV/XLcqT/src/file.jl:162",
            " [4] read(source::String, sink::Type; copycols::Bool, kwargs::@Kwargs{})",
            "   @ CSV ~/.julia/packages/CSV/XLcqT/src/CSV.jl:117",
            " [5] read(source::String, sink::Type)",
            "   @ CSV ~/.julia/packages/CSV/XLcqT/src/CSV.jl:113",
            " [6] top-level scope",
            "   @ In[64]:1"
          ]
        }
      ]
    },
    {
      "cell_type": "code",
      "source": [
        "nr(aapl_ts)"
      ],
      "metadata": {
        "colab": {
          "base_uri": "https://localhost:8080/"
        },
        "id": "EE_7EyPIGeIS",
        "outputId": "bbfa13da-23a6-439a-856e-6e1e429b74cd"
      },
      "execution_count": 65,
      "outputs": [
        {
          "output_type": "execute_result",
          "data": {
            "text/plain": [
              "11088"
            ]
          },
          "metadata": {},
          "execution_count": 65
        }
      ]
    },
    {
      "cell_type": "code",
      "source": [
        "nc(aapl_ts)"
      ],
      "metadata": {
        "id": "B8Qs4xjxktVX",
        "outputId": "fb074401-d259-421a-b761-9053811f73e6",
        "colab": {
          "base_uri": "https://localhost:8080/"
        }
      },
      "execution_count": 66,
      "outputs": [
        {
          "output_type": "execute_result",
          "data": {
            "text/plain": [
              "6"
            ]
          },
          "metadata": {},
          "execution_count": 66
        }
      ]
    },
    {
      "cell_type": "code",
      "source": [
        "size(aapl_ts)"
      ],
      "metadata": {
        "id": "uLxh6vm5kugh",
        "outputId": "fe573ee0-37d6-4ecc-d6c2-5f817cf04507",
        "colab": {
          "base_uri": "https://localhost:8080/"
        }
      },
      "execution_count": 67,
      "outputs": [
        {
          "output_type": "execute_result",
          "data": {
            "text/plain": [
              "(11088, 6)"
            ]
          },
          "metadata": {},
          "execution_count": 67
        }
      ]
    },
    {
      "cell_type": "code",
      "source": [
        "length(aapl_ts)"
      ],
      "metadata": {
        "id": "R_2dpFfbkvnN",
        "outputId": "8c53d685-63d3-451e-c1fb-0330a37dfc56",
        "colab": {
          "base_uri": "https://localhost:8080/"
        }
      },
      "execution_count": 68,
      "outputs": [
        {
          "output_type": "execute_result",
          "data": {
            "text/plain": [
              "11088"
            ]
          },
          "metadata": {},
          "execution_count": 68
        }
      ]
    },
    {
      "cell_type": "code",
      "source": [
        "names(aapl_ts)"
      ],
      "metadata": {
        "id": "GmgckXn1kwu_",
        "outputId": "4b9c161a-3496-40a4-b1e8-53d0b0435f2b",
        "colab": {
          "base_uri": "https://localhost:8080/"
        }
      },
      "execution_count": 69,
      "outputs": [
        {
          "output_type": "execute_result",
          "data": {
            "text/plain": [
              "6-element Vector{String}:\n",
              " \"Open\"\n",
              " \"High\"\n",
              " \"Low\"\n",
              " \"Close\"\n",
              " \"AdjClose\"\n",
              " \"Volume\""
            ]
          },
          "metadata": {},
          "execution_count": 69
        }
      ]
    },
    {
      "cell_type": "code",
      "source": [
        "index(aapl_ts)"
      ],
      "metadata": {
        "id": "xhX2dYd-kx11",
        "outputId": "42448095-83b1-47c4-c658-c2c5912cfa46",
        "colab": {
          "base_uri": "https://localhost:8080/"
        }
      },
      "execution_count": 70,
      "outputs": [
        {
          "output_type": "execute_result",
          "data": {
            "text/plain": [
              "11088-element Vector{Date}:\n",
              " 1980-12-12\n",
              " 1980-12-15\n",
              " 1980-12-16\n",
              " 1980-12-17\n",
              " 1980-12-18\n",
              " 1980-12-19\n",
              " 1980-12-22\n",
              " 1980-12-23\n",
              " 1980-12-24\n",
              " 1980-12-26\n",
              " 1980-12-29\n",
              " 1980-12-30\n",
              " 1980-12-31\n",
              " ⋮\n",
              " 2024-11-19\n",
              " 2024-11-20\n",
              " 2024-11-21\n",
              " 2024-11-22\n",
              " 2024-11-25\n",
              " 2024-11-26\n",
              " 2024-11-27\n",
              " 2024-11-29\n",
              " 2024-12-02\n",
              " 2024-12-03\n",
              " 2024-12-04\n",
              " 2024-12-05"
            ]
          },
          "metadata": {},
          "execution_count": 70
        }
      ]
    },
    {
      "cell_type": "code",
      "source": [
        "TSFrames.describe(aapl_ts)"
      ],
      "metadata": {
        "id": "A8MlIbtiky9j",
        "outputId": "73eda875-e307-4493-d906-9fec9214f79b",
        "colab": {
          "base_uri": "https://localhost:8080/",
          "height": 231
        }
      },
      "execution_count": 71,
      "outputs": [
        {
          "output_type": "execute_result",
          "data": {
            "text/plain": [
              "\u001b[1m7×7 DataFrame\u001b[0m\n",
              "\u001b[1m Row \u001b[0m│\u001b[1m variable \u001b[0m\u001b[1m mean      \u001b[0m\u001b[1m min        \u001b[0m\u001b[1m median    \u001b[0m\u001b[1m max        \u001b[0m\u001b[1m nmissing \u001b[0m\u001b[1m eltype   \u001b[0m\n",
              "     │\u001b[90m Symbol   \u001b[0m\u001b[90m Union…    \u001b[0m\u001b[90m Any        \u001b[0m\u001b[90m Union…    \u001b[0m\u001b[90m Any        \u001b[0m\u001b[90m Int64    \u001b[0m\u001b[90m DataType \u001b[0m\n",
              "─────┼────────────────────────────────────────────────────────────────────────────\n",
              "   1 │ Index    \u001b[90m           \u001b[0m 1980-12-12 \u001b[90m           \u001b[0m 2024-12-05         0  Date\n",
              "   2 │ Open      23.953     0.049665    0.540179   243.99             0  Float64\n",
              "   3 │ High      24.2085    0.049665    0.549107   244.54             0  Float64\n",
              "   4 │ Low       23.7092    0.049107    0.53125    242.13             0  Float64\n",
              "   5 │ Close     23.9705    0.049107    0.540179   243.04             0  Float64\n",
              "   6 │ AdjClose  23.1337    0.0378149   0.442485   243.04             0  Float64\n",
              "   7 │ Volume    3.15896e8  0.0         2.03896e8  7.42164e9          0  Float64"
            ],
            "text/html": [
              "<div><div style = \"float: left;\"><span>7×7 DataFrame</span></div><div style = \"clear: both;\"></div></div><div class = \"data-frame\" style = \"overflow-x: scroll;\"><table class = \"data-frame\" style = \"margin-bottom: 6px;\"><thead><tr class = \"header\"><th class = \"rowNumber\" style = \"font-weight: bold; text-align: right;\">Row</th><th style = \"text-align: left;\">variable</th><th style = \"text-align: left;\">mean</th><th style = \"text-align: left;\">min</th><th style = \"text-align: left;\">median</th><th style = \"text-align: left;\">max</th><th style = \"text-align: left;\">nmissing</th><th style = \"text-align: left;\">eltype</th></tr><tr class = \"subheader headerLastRow\"><th class = \"rowNumber\" style = \"font-weight: bold; text-align: right;\"></th><th title = \"Symbol\" style = \"text-align: left;\">Symbol</th><th title = \"Union{Nothing, Float64}\" style = \"text-align: left;\">Union…</th><th title = \"Any\" style = \"text-align: left;\">Any</th><th title = \"Union{Nothing, Float64}\" style = \"text-align: left;\">Union…</th><th title = \"Any\" style = \"text-align: left;\">Any</th><th title = \"Int64\" style = \"text-align: left;\">Int64</th><th title = \"DataType\" style = \"text-align: left;\">DataType</th></tr></thead><tbody><tr><td class = \"rowNumber\" style = \"font-weight: bold; text-align: right;\">1</td><td style = \"text-align: left;\">Index</td><td style = \"font-style: italic; text-align: left;\"></td><td style = \"text-align: left;\">1980-12-12</td><td style = \"font-style: italic; text-align: left;\"></td><td style = \"text-align: left;\">2024-12-05</td><td style = \"text-align: right;\">0</td><td style = \"text-align: left;\">Date</td></tr><tr><td class = \"rowNumber\" style = \"font-weight: bold; text-align: right;\">2</td><td style = \"text-align: left;\">Open</td><td style = \"text-align: left;\">23.953</td><td style = \"text-align: left;\">0.049665</td><td style = \"text-align: left;\">0.540179</td><td style = \"text-align: left;\">243.99</td><td style = \"text-align: right;\">0</td><td style = \"text-align: left;\">Float64</td></tr><tr><td class = \"rowNumber\" style = \"font-weight: bold; text-align: right;\">3</td><td style = \"text-align: left;\">High</td><td style = \"text-align: left;\">24.2085</td><td style = \"text-align: left;\">0.049665</td><td style = \"text-align: left;\">0.549107</td><td style = \"text-align: left;\">244.54</td><td style = \"text-align: right;\">0</td><td style = \"text-align: left;\">Float64</td></tr><tr><td class = \"rowNumber\" style = \"font-weight: bold; text-align: right;\">4</td><td style = \"text-align: left;\">Low</td><td style = \"text-align: left;\">23.7092</td><td style = \"text-align: left;\">0.049107</td><td style = \"text-align: left;\">0.53125</td><td style = \"text-align: left;\">242.13</td><td style = \"text-align: right;\">0</td><td style = \"text-align: left;\">Float64</td></tr><tr><td class = \"rowNumber\" style = \"font-weight: bold; text-align: right;\">5</td><td style = \"text-align: left;\">Close</td><td style = \"text-align: left;\">23.9705</td><td style = \"text-align: left;\">0.049107</td><td style = \"text-align: left;\">0.540179</td><td style = \"text-align: left;\">243.04</td><td style = \"text-align: right;\">0</td><td style = \"text-align: left;\">Float64</td></tr><tr><td class = \"rowNumber\" style = \"font-weight: bold; text-align: right;\">6</td><td style = \"text-align: left;\">AdjClose</td><td style = \"text-align: left;\">23.1337</td><td style = \"text-align: left;\">0.0378149</td><td style = \"text-align: left;\">0.442485</td><td style = \"text-align: left;\">243.04</td><td style = \"text-align: right;\">0</td><td style = \"text-align: left;\">Float64</td></tr><tr><td class = \"rowNumber\" style = \"font-weight: bold; text-align: right;\">7</td><td style = \"text-align: left;\">Volume</td><td style = \"text-align: left;\">3.15896e8</td><td style = \"text-align: left;\">0.0</td><td style = \"text-align: left;\">2.03896e8</td><td style = \"text-align: left;\">7.42164e9</td><td style = \"text-align: right;\">0</td><td style = \"text-align: left;\">Float64</td></tr></tbody></table></div>"
            ],
            "text/latex": "\\begin{tabular}{r|ccccccc}\n\t& variable & mean & min & median & max & nmissing & eltype\\\\\n\t\\hline\n\t& Symbol & Union… & Any & Union… & Any & Int64 & DataType\\\\\n\t\\hline\n\t1 & Index &  & 1980-12-12 &  & 2024-12-05 & 0 & Date \\\\\n\t2 & Open & 23.953 & 0.049665 & 0.540179 & 243.99 & 0 & Float64 \\\\\n\t3 & High & 24.2085 & 0.049665 & 0.549107 & 244.54 & 0 & Float64 \\\\\n\t4 & Low & 23.7092 & 0.049107 & 0.53125 & 242.13 & 0 & Float64 \\\\\n\t5 & Close & 23.9705 & 0.049107 & 0.540179 & 243.04 & 0 & Float64 \\\\\n\t6 & AdjClose & 23.1337 & 0.0378149 & 0.442485 & 243.04 & 0 & Float64 \\\\\n\t7 & Volume & 3.15896e8 & 0.0 & 2.03896e8 & 7.42164e9 & 0 & Float64 \\\\\n\\end{tabular}\n"
          },
          "metadata": {},
          "execution_count": 71
        }
      ]
    },
    {
      "cell_type": "code",
      "source": [
        "aapl_ts[1]"
      ],
      "metadata": {
        "colab": {
          "base_uri": "https://localhost:8080/"
        },
        "id": "YQq_Lth5GeFJ",
        "outputId": "a252d7eb-5378-4f82-ada5-7fc470544183"
      },
      "execution_count": 72,
      "outputs": [
        {
          "output_type": "execute_result",
          "data": {
            "text/plain": [
              "\u001b[1m1×6 TSFrame with Date Index\u001b[0m\n",
              "\u001b[1m Index      \u001b[0m\u001b[1m Open     \u001b[0m\u001b[1m High     \u001b[0m\u001b[1m Low      \u001b[0m\u001b[1m Close    \u001b[0m\u001b[1m AdjClose  \u001b[0m\u001b[1m Volume    \u001b[0m\n",
              "\u001b[90m Date       \u001b[0m\u001b[90m Float64  \u001b[0m\u001b[90m Float64  \u001b[0m\u001b[90m Float64  \u001b[0m\u001b[90m Float64  \u001b[0m\u001b[90m Float64   \u001b[0m\u001b[90m Float64   \u001b[0m\n",
              "──────────────────────────────────────────────────────────────────────────\n",
              " 1980-12-12  0.128348  0.128906  0.128348  0.128348  0.0988345  4.69034e8"
            ]
          },
          "metadata": {},
          "execution_count": 72
        }
      ]
    },
    {
      "cell_type": "code",
      "source": [
        "aapl_ts[2, 1]"
      ],
      "metadata": {
        "id": "J__cwt9ok0vm",
        "outputId": "1e390a69-d208-4c85-8315-3f36a109a79f",
        "colab": {
          "base_uri": "https://localhost:8080/"
        }
      },
      "execution_count": 73,
      "outputs": [
        {
          "output_type": "execute_result",
          "data": {
            "text/plain": [
              "0.12221000343561172"
            ]
          },
          "metadata": {},
          "execution_count": 73
        }
      ]
    },
    {
      "cell_type": "code",
      "source": [
        "aapl_ts[2, [1]]"
      ],
      "metadata": {
        "id": "bRPTqvZhk2_A",
        "outputId": "2ae0186b-39fc-45e8-f2b0-b4a3df9a63ac",
        "colab": {
          "base_uri": "https://localhost:8080/"
        }
      },
      "execution_count": 74,
      "outputs": [
        {
          "output_type": "execute_result",
          "data": {
            "text/plain": [
              "\u001b[1m1×1 TSFrame with Date Index\u001b[0m\n",
              "\u001b[1m Index      \u001b[0m\u001b[1m Open    \u001b[0m\n",
              "\u001b[90m Date       \u001b[0m\u001b[90m Float64 \u001b[0m\n",
              "─────────────────────\n",
              " 1980-12-15  0.12221"
            ]
          },
          "metadata": {},
          "execution_count": 74
        }
      ]
    },
    {
      "cell_type": "code",
      "source": [
        "aapl_ts[[2, 3], [1, 2, 3, 4]]"
      ],
      "metadata": {
        "id": "V8irchvzk4F0",
        "outputId": "d61404e6-7588-419c-be33-1a5c2fd31686",
        "colab": {
          "base_uri": "https://localhost:8080/"
        }
      },
      "execution_count": 75,
      "outputs": [
        {
          "output_type": "execute_result",
          "data": {
            "text/plain": [
              "\u001b[1m2×4 TSFrame with Date Index\u001b[0m\n",
              "\u001b[1m Index      \u001b[0m\u001b[1m Open     \u001b[0m\u001b[1m High     \u001b[0m\u001b[1m Low      \u001b[0m\u001b[1m Close    \u001b[0m\n",
              "\u001b[90m Date       \u001b[0m\u001b[90m Float64  \u001b[0m\u001b[90m Float64  \u001b[0m\u001b[90m Float64  \u001b[0m\u001b[90m Float64  \u001b[0m\n",
              "────────────────────────────────────────────────────\n",
              " 1980-12-15  0.12221   0.12221   0.121652  0.121652\n",
              " 1980-12-16  0.113281  0.113281  0.112723  0.112723"
            ]
          },
          "metadata": {},
          "execution_count": 75
        }
      ]
    },
    {
      "cell_type": "code",
      "source": [
        "aapl_ts[[2, 3], [:Open, :High, :Low, :Close]]"
      ],
      "metadata": {
        "id": "5G5eE-M7k5KA",
        "outputId": "d2b7c2cb-e87d-4f1d-f143-3303378b66f8",
        "colab": {
          "base_uri": "https://localhost:8080/"
        }
      },
      "execution_count": 76,
      "outputs": [
        {
          "output_type": "execute_result",
          "data": {
            "text/plain": [
              "\u001b[1m2×4 TSFrame with Date Index\u001b[0m\n",
              "\u001b[1m Index      \u001b[0m\u001b[1m Open     \u001b[0m\u001b[1m High     \u001b[0m\u001b[1m Low      \u001b[0m\u001b[1m Close    \u001b[0m\n",
              "\u001b[90m Date       \u001b[0m\u001b[90m Float64  \u001b[0m\u001b[90m Float64  \u001b[0m\u001b[90m Float64  \u001b[0m\u001b[90m Float64  \u001b[0m\n",
              "────────────────────────────────────────────────────\n",
              " 1980-12-15  0.12221   0.12221   0.121652  0.121652\n",
              " 1980-12-16  0.113281  0.113281  0.112723  0.112723"
            ]
          },
          "metadata": {},
          "execution_count": 76
        }
      ]
    },
    {
      "cell_type": "code",
      "source": [
        "aapl_ts.Open"
      ],
      "metadata": {
        "id": "Zpw42bQZk5_z",
        "outputId": "92b233fd-6a6d-4fb0-8e75-db0fd366da7a",
        "colab": {
          "base_uri": "https://localhost:8080/"
        }
      },
      "execution_count": 77,
      "outputs": [
        {
          "output_type": "execute_result",
          "data": {
            "text/plain": [
              "11088-element Vector{Float64}:\n",
              "   0.1283479928970337\n",
              "   0.12221000343561172\n",
              "   0.1132809966802597\n",
              "   0.11551299691200256\n",
              "   0.11886200308799744\n",
              "   0.12611599266529083\n",
              "   0.1322540044784546\n",
              "   0.13783499598503113\n",
              "   0.14508900046348572\n",
              "   0.15848200023174286\n",
              "   0.16071400046348572\n",
              "   0.15736599266529083\n",
              "   0.1529020071029663\n",
              "   ⋮\n",
              " 226.97999572753906\n",
              " 228.05999755859375\n",
              " 228.8800048828125\n",
              " 228.05999755859375\n",
              " 231.4600067138672\n",
              " 233.3300018310547\n",
              " 234.47000122070312\n",
              " 234.80999755859375\n",
              " 237.27000427246094\n",
              " 239.80999755859375\n",
              " 242.8699951171875\n",
              " 243.99000549316406"
            ]
          },
          "metadata": {},
          "execution_count": 77
        }
      ]
    },
    {
      "cell_type": "code",
      "source": [
        "aapl_ts[Date(2007, 1, 10)]"
      ],
      "metadata": {
        "colab": {
          "base_uri": "https://localhost:8080/"
        },
        "id": "e2TIvwf0GeCT",
        "outputId": "19faddf9-1e28-4453-9387-479c58c9689c"
      },
      "execution_count": 78,
      "outputs": [
        {
          "output_type": "execute_result",
          "data": {
            "text/plain": [
              "\u001b[1m1×6 TSFrame with Date Index\u001b[0m\n",
              "\u001b[1m Index      \u001b[0m\u001b[1m Open    \u001b[0m\u001b[1m High    \u001b[0m\u001b[1m Low     \u001b[0m\u001b[1m Close   \u001b[0m\u001b[1m AdjClose \u001b[0m\u001b[1m Volume    \u001b[0m\n",
              "\u001b[90m Date       \u001b[0m\u001b[90m Float64 \u001b[0m\u001b[90m Float64 \u001b[0m\u001b[90m Float64 \u001b[0m\u001b[90m Float64 \u001b[0m\u001b[90m Float64  \u001b[0m\u001b[90m Float64   \u001b[0m\n",
              "─────────────────────────────────────────────────────────────────────\n",
              " 2007-01-10  3.38393  3.49286   3.3375  3.46429   2.92229  2.95288e9"
            ]
          },
          "metadata": {},
          "execution_count": 78
        }
      ]
    },
    {
      "cell_type": "code",
      "source": [
        "aapl_ts[Date(2007, 1, 10), [:Open, :High, :Low, :Close]]"
      ],
      "metadata": {
        "id": "7dzao2hWk708",
        "outputId": "5101dbc7-32ed-4fac-8e26-700bb67918e1",
        "colab": {
          "base_uri": "https://localhost:8080/"
        }
      },
      "execution_count": 79,
      "outputs": [
        {
          "output_type": "execute_result",
          "data": {
            "text/plain": [
              "\u001b[1m1×4 TSFrame with Date Index\u001b[0m\n",
              "\u001b[1m Index      \u001b[0m\u001b[1m Open    \u001b[0m\u001b[1m High    \u001b[0m\u001b[1m Low     \u001b[0m\u001b[1m Close   \u001b[0m\n",
              "\u001b[90m Date       \u001b[0m\u001b[90m Float64 \u001b[0m\u001b[90m Float64 \u001b[0m\u001b[90m Float64 \u001b[0m\u001b[90m Float64 \u001b[0m\n",
              "────────────────────────────────────────────────\n",
              " 2007-01-10  3.38393  3.49286   3.3375  3.46429"
            ]
          },
          "metadata": {},
          "execution_count": 79
        }
      ]
    },
    {
      "cell_type": "code",
      "source": [
        "aapl_ts[Year(2007), Month(1)]"
      ],
      "metadata": {
        "id": "5iitSRXVk82R",
        "outputId": "ad8e4a1f-8e58-40aa-b3f3-47946c07455b",
        "colab": {
          "base_uri": "https://localhost:8080/"
        }
      },
      "execution_count": 80,
      "outputs": [
        {
          "output_type": "execute_result",
          "data": {
            "text/plain": [
              "\u001b[1m20×6 TSFrame with Date Index\u001b[0m\n",
              "\u001b[1m Index      \u001b[0m\u001b[1m Open    \u001b[0m\u001b[1m High    \u001b[0m\u001b[1m Low     \u001b[0m\u001b[1m Close   \u001b[0m\u001b[1m AdjClose \u001b[0m\u001b[1m Volume    \u001b[0m\n",
              "\u001b[90m Date       \u001b[0m\u001b[90m Float64 \u001b[0m\u001b[90m Float64 \u001b[0m\u001b[90m Float64 \u001b[0m\u001b[90m Float64 \u001b[0m\u001b[90m Float64  \u001b[0m\u001b[90m Float64   \u001b[0m\n",
              "─────────────────────────────────────────────────────────────────────\n",
              " 2007-01-03  3.08179  3.09214  2.925    2.99286   2.52462  1.23832e9\n",
              " 2007-01-04  3.00179  3.06964  2.99357  3.05929   2.58065  8.4726e8\n",
              " 2007-01-05  3.06321  3.07857  3.01429  3.0375    2.56227  8.34742e8\n",
              " 2007-01-08  3.07     3.09036  3.04571  3.0525    2.57493  7.97107e8\n",
              " 2007-01-09  3.0875   3.32071  3.04107  3.30607   2.78883  3.3493e9\n",
              " 2007-01-10  3.38393  3.49286  3.3375   3.46429   2.92229  2.95288e9\n",
              " 2007-01-11  3.42643  3.45643  3.39643  3.42143   2.88614  1.44025e9\n",
              " 2007-01-12  3.37821  3.395    3.32964  3.37929   2.85059  1.31269e9\n",
              " 2007-01-16  3.41714  3.47321  3.40893  3.46786   2.9253   1.24408e9\n",
              " 2007-01-17  3.48429  3.48571  3.38643  3.39107   2.86053  1.64626e9\n",
              " 2007-01-18  3.28929  3.28964  3.18036  3.18107   2.68338  2.36461e9\n",
              " 2007-01-19  3.16536  3.20179  3.14714  3.16071   2.66621  1.36447e9\n",
              " 2007-01-22  3.18357  3.18429  3.05893  3.09964   2.6147   1.45403e9\n",
              " 2007-01-23  3.06179  3.12536  3.05393  3.06071   2.58186  1.20742e9\n",
              " 2007-01-24  3.09571  3.1125   3.07429  3.09643   2.61198  9.27814e8\n",
              " 2007-01-25  3.11107  3.16071  3.0725   3.08036   2.59843  9.05974e8\n",
              " 2007-01-26  3.11107  3.12036  3.03536  3.04929   2.57222  9.86874e8\n",
              " 2007-01-29  3.08214  3.09464  3.05464  3.06929   2.58909  9.01664e8\n",
              " 2007-01-30  3.08679  3.08893  3.04464  3.05536   2.57734  5.7797e8\n",
              " 2007-01-31  3.03071  3.07143  3.0125   3.06179   2.58276  8.56069e8"
            ]
          },
          "metadata": {},
          "execution_count": 80
        }
      ]
    },
    {
      "cell_type": "code",
      "source": [
        "aapl_ts[Year(2007), Month(1)][:, [:Open, :High, :Low, :Close]]"
      ],
      "metadata": {
        "id": "avLIq_nmk916",
        "outputId": "2e513216-b7d9-4b64-e2ed-2d7ed79a6c02",
        "colab": {
          "base_uri": "https://localhost:8080/"
        }
      },
      "execution_count": 81,
      "outputs": [
        {
          "output_type": "execute_result",
          "data": {
            "text/plain": [
              "\u001b[1m20×4 TSFrame with Date Index\u001b[0m\n",
              "\u001b[1m Index      \u001b[0m\u001b[1m Open    \u001b[0m\u001b[1m High    \u001b[0m\u001b[1m Low     \u001b[0m\u001b[1m Close   \u001b[0m\n",
              "\u001b[90m Date       \u001b[0m\u001b[90m Float64 \u001b[0m\u001b[90m Float64 \u001b[0m\u001b[90m Float64 \u001b[0m\u001b[90m Float64 \u001b[0m\n",
              "────────────────────────────────────────────────\n",
              " 2007-01-03  3.08179  3.09214  2.925    2.99286\n",
              " 2007-01-04  3.00179  3.06964  2.99357  3.05929\n",
              " 2007-01-05  3.06321  3.07857  3.01429  3.0375\n",
              " 2007-01-08  3.07     3.09036  3.04571  3.0525\n",
              " 2007-01-09  3.0875   3.32071  3.04107  3.30607\n",
              " 2007-01-10  3.38393  3.49286  3.3375   3.46429\n",
              " 2007-01-11  3.42643  3.45643  3.39643  3.42143\n",
              " 2007-01-12  3.37821  3.395    3.32964  3.37929\n",
              " 2007-01-16  3.41714  3.47321  3.40893  3.46786\n",
              " 2007-01-17  3.48429  3.48571  3.38643  3.39107\n",
              " 2007-01-18  3.28929  3.28964  3.18036  3.18107\n",
              " 2007-01-19  3.16536  3.20179  3.14714  3.16071\n",
              " 2007-01-22  3.18357  3.18429  3.05893  3.09964\n",
              " 2007-01-23  3.06179  3.12536  3.05393  3.06071\n",
              " 2007-01-24  3.09571  3.1125   3.07429  3.09643\n",
              " 2007-01-25  3.11107  3.16071  3.0725   3.08036\n",
              " 2007-01-26  3.11107  3.12036  3.03536  3.04929\n",
              " 2007-01-29  3.08214  3.09464  3.05464  3.06929\n",
              " 2007-01-30  3.08679  3.08893  3.04464  3.05536\n",
              " 2007-01-31  3.03071  3.07143  3.0125   3.06179"
            ]
          },
          "metadata": {},
          "execution_count": 81
        }
      ]
    },
    {
      "cell_type": "code",
      "source": [
        "aapl_ts[Year(2007), Quarter(1)][:, [:Open, :High, :Low, :Close]]"
      ],
      "metadata": {
        "id": "i8CTqJzsk-vi",
        "outputId": "5e8dc269-8388-40a6-f801-fac03ee543c0",
        "colab": {
          "base_uri": "https://localhost:8080/"
        }
      },
      "execution_count": 82,
      "outputs": [
        {
          "output_type": "execute_result",
          "data": {
            "text/plain": [
              "\u001b[1m61×4 TSFrame with Date Index\u001b[0m\n",
              "\u001b[1m Index      \u001b[0m\u001b[1m Open    \u001b[0m\u001b[1m High    \u001b[0m\u001b[1m Low     \u001b[0m\u001b[1m Close   \u001b[0m\n",
              "\u001b[90m Date       \u001b[0m\u001b[90m Float64 \u001b[0m\u001b[90m Float64 \u001b[0m\u001b[90m Float64 \u001b[0m\u001b[90m Float64 \u001b[0m\n",
              "────────────────────────────────────────────────\n",
              " 2007-01-03  3.08179  3.09214  2.925    2.99286\n",
              " 2007-01-04  3.00179  3.06964  2.99357  3.05929\n",
              " 2007-01-05  3.06321  3.07857  3.01429  3.0375\n",
              " 2007-01-08  3.07     3.09036  3.04571  3.0525\n",
              " 2007-01-09  3.0875   3.32071  3.04107  3.30607\n",
              " 2007-01-10  3.38393  3.49286  3.3375   3.46429\n",
              " 2007-01-11  3.42643  3.45643  3.39643  3.42143\n",
              " 2007-01-12  3.37821  3.395    3.32964  3.37929\n",
              " 2007-01-16  3.41714  3.47321  3.40893  3.46786\n",
              " 2007-01-17  3.48429  3.48571  3.38643  3.39107\n",
              " 2007-01-18  3.28929  3.28964  3.18036  3.18107\n",
              "     ⋮          ⋮        ⋮        ⋮        ⋮\n",
              " 2007-03-19  3.22286  3.26964  3.19964  3.25464\n",
              " 2007-03-20  3.2625   3.28     3.25214  3.26714\n",
              " 2007-03-21  3.28536  3.35714  3.27321  3.3525\n",
              " 2007-03-22  3.3475   3.37     3.32143  3.35571\n",
              " 2007-03-23  3.33393  3.35964  3.33214  3.34\n",
              " 2007-03-26  3.35679  3.425    3.33214  3.42321\n",
              " 2007-03-27  3.41821  3.45821  3.39286  3.40929\n",
              " 2007-03-28  3.38857  3.40714  3.32679  3.33\n",
              " 2007-03-29  3.36393  3.36393  3.29393  3.34821\n",
              " 2007-03-30  3.36714  3.38143  3.3125   3.31821\n",
              "\u001b[36m                                 40 rows omitted\u001b[0m"
            ]
          },
          "metadata": {},
          "execution_count": 82
        }
      ]
    },
    {
      "cell_type": "code",
      "source": [
        "# Pkg.add(\"Plots\")\n",
        "# using Plots\n",
        "# plot(aapl_ts, [:AdjClose])"
      ],
      "metadata": {
        "id": "kBz6WfqnGd_L"
      },
      "execution_count": 83,
      "outputs": []
    },
    {
      "cell_type": "code",
      "source": [
        "aapl_monthly = apply(aapl_ts, Month(1), last)"
      ],
      "metadata": {
        "colab": {
          "base_uri": "https://localhost:8080/"
        },
        "id": "ktzdyDQwGd8D",
        "outputId": "f172b3ea-807f-41c3-b09c-169cadb622d4"
      },
      "execution_count": 84,
      "outputs": [
        {
          "output_type": "execute_result",
          "data": {
            "text/plain": [
              "\u001b[1m529×6 TSFrame with Date Index\u001b[0m\n",
              "\u001b[1m Index      \u001b[0m\u001b[1m Open_last  \u001b[0m\u001b[1m High_last  \u001b[0m\u001b[1m Low_last   \u001b[0m\u001b[1m Close_last \u001b[0m\u001b[1m AdjClose_last \u001b[0m\u001b[1m Volume_last \u001b[0m\n",
              "\u001b[90m Date       \u001b[0m\u001b[90m Float64    \u001b[0m\u001b[90m Float64    \u001b[0m\u001b[90m Float64    \u001b[0m\u001b[90m Float64    \u001b[0m\u001b[90m Float64       \u001b[0m\u001b[90m Float64     \u001b[0m\n",
              "────────────────────────────────────────────────────────────────────────────────────────\n",
              " 1980-12-12    0.152902    0.152902    0.152344    0.152344      0.117313     3.57504e7\n",
              " 1981-01-02    0.127232    0.127232    0.126116    0.126116      0.0971157    4.61888e7\n",
              " 1981-02-02    0.118304    0.11942     0.118304    0.118304      0.0911001    1.47616e7\n",
              " 1981-03-02    0.110491    0.110491    0.109375    0.109375      0.0842243    1.59936e7\n",
              " 1981-04-01    0.126674    0.12779     0.126674    0.126674      0.0975454    1.26112e7\n",
              " 1981-05-01    0.147879    0.148438    0.147879    0.147879      0.113874     5.93824e7\n",
              " 1981-06-01    0.116629    0.116629    0.116071    0.116071      0.0893805    3.59072e7\n",
              " 1981-07-01    0.111607    0.112165    0.111607    0.111607      0.0859431    1.09536e7\n",
              " 1981-08-03    0.089844    0.090402    0.089844    0.089844      0.0691844    4.09472e7\n",
              " 1981-09-01    0.06808     0.068638    0.06808     0.06808       0.0524251    4.99968e7\n",
              " 1981-10-01    0.089286    0.089844    0.089286    0.089286      0.0687547    5.27296e7\n",
              "     ⋮           ⋮           ⋮           ⋮           ⋮             ⋮             ⋮\n",
              " 2024-03-01  171.75      172.23      170.51      171.48        170.862        6.56727e7\n",
              " 2024-04-01  173.33      174.99      170.0       170.33        169.716        6.59348e7\n",
              " 2024-05-01  191.44      192.57      189.91      192.25        191.817        7.51583e7\n",
              " 2024-06-03  215.77      216.07      210.3       210.62        210.145        8.25427e7\n",
              " 2024-07-01  221.44      223.82      220.63      222.08        221.579        5.00363e7\n",
              " 2024-08-01  230.19      230.4       227.48      229.0         228.748        5.29908e7\n",
              " 2024-09-03  230.04      233.0       229.65      233.0         232.744        5.45419e7\n",
              " 2024-10-01  229.34      229.83      225.37      225.91        225.662        6.43701e7\n",
              " 2024-11-01  234.81      237.81      233.97      237.33        237.33         2.84814e7\n",
              " 2024-12-02  243.99      244.54      242.13      243.04        243.04         3.99619e7\n",
              "\u001b[36m                                                                        508 rows omitted\u001b[0m"
            ]
          },
          "metadata": {},
          "execution_count": 84
        }
      ]
    },
    {
      "cell_type": "code",
      "source": [
        "aapl_weekly = apply(aapl_ts, Week(1), Statistics.std)"
      ],
      "metadata": {
        "id": "JWwllNbalCNa",
        "outputId": "206e9182-e9ea-4c18-c751-f89a75723bff",
        "colab": {
          "base_uri": "https://localhost:8080/"
        }
      },
      "execution_count": 85,
      "outputs": [
        {
          "output_type": "execute_result",
          "data": {
            "text/plain": [
              "\u001b[1m2296×6 TSFrame with Date Index\u001b[0m\n",
              "\u001b[1m Index      \u001b[0m\u001b[1m Open_std     \u001b[0m\u001b[1m High_std     \u001b[0m\u001b[1m Low_std      \u001b[0m\u001b[1m Close_std    \u001b[0m\u001b[1m AdjClose_std \u001b[0m\u001b[1m Volume_std  \u001b[0m\n",
              "\u001b[90m Date       \u001b[0m\u001b[90m Float64      \u001b[0m\u001b[90m Float64      \u001b[0m\u001b[90m Float64      \u001b[0m\u001b[90m Float64      \u001b[0m\u001b[90m Float64      \u001b[0m\u001b[90m Float64     \u001b[0m\n",
              "───────────────────────────────────────────────────────────────────────────────────────────────\n",
              " 1980-12-12  NaN           NaN           NaN           NaN           NaN           NaN\n",
              " 1980-12-15    0.00513892    0.00522604    0.00522604    0.00522604    0.0040243     4.82168e7\n",
              " 1980-12-22    0.0113361     0.0113358     0.0113361     0.0113361     0.00872936    7.46981e6\n",
              " 1980-12-29    0.0035291     0.00356931    0.00365905    0.00365905    0.00281768    3.23055e7\n",
              " 1981-01-05    0.00601539    0.00601797    0.00601797    0.00601797    0.00463415    1.25715e7\n",
              " 1981-01-12    0.00231418    0.0023209     0.00205022    0.00205022    0.00157878    5.19512e6\n",
              " 1981-01-19    0.00171987    0.00202732    0.00187574    0.00187574    0.00144441    1.29128e7\n",
              " 1981-01-26    0.00726937    0.00726937    0.00735666    0.00735666    0.00566503    1.08649e7\n",
              " 1981-02-02    0.003878      0.00418686    0.00409284    0.00409284    0.00315169    7.8912e6\n",
              " 1981-02-09    0.00321548    0.003339      0.00337162    0.00337162    0.00259632    2.76427e6\n",
              " 1981-02-17    0.00529404    0.00577021    0.00555241    0.00555241    0.00427564    5.28777e6\n",
              "     ⋮            ⋮             ⋮             ⋮             ⋮             ⋮             ⋮\n",
              " 2024-09-30    2.15973       2.49348       2.75907       3.00363       3.00033       1.36988e7\n",
              " 2024-10-07    2.21048       2.043         2.57446       3.17124       3.16775       4.14473e6\n",
              " 2024-10-14    2.76953       2.51331       2.13599       1.55356       1.55184       1.29644e7\n",
              " 2024-10-21    2.35441       2.45249       2.86078       2.90428       2.90108       7.83178e6\n",
              " 2024-10-28    5.22814       3.96627       5.20664       4.71219       4.70701       1.46121e7\n",
              " 2024-11-04    2.48546       2.50185       2.77798       2.51993       2.57915       9.64507e6\n",
              " 2024-11-11    0.886413      1.32111       1.35422       1.65232       1.65232       3.57541e6\n",
              " 2024-11-18    1.40089       0.367859      1.1203        0.728502      0.728502      4.02395e6\n",
              " 2024-11-25    1.51066       1.86315       2.00024       1.82257       1.82257       2.80644e7\n",
              " 2024-12-02    3.04221       1.68675       2.25807       1.66446       1.66446       4.26453e6\n",
              "\u001b[36m                                                                              2275 rows omitted\u001b[0m"
            ]
          },
          "metadata": {},
          "execution_count": 85
        }
      ]
    },
    {
      "cell_type": "code",
      "source": [
        "aapl_weekly = apply(aapl_ts, Week(1), Statistics.std, last)"
      ],
      "metadata": {
        "id": "bEi5lbonlC3q",
        "outputId": "397ad93b-b0df-4d7e-ebbb-c5fd257e4b58",
        "colab": {
          "base_uri": "https://localhost:8080/"
        }
      },
      "execution_count": 86,
      "outputs": [
        {
          "output_type": "execute_result",
          "data": {
            "text/plain": [
              "\u001b[1m2296×6 TSFrame with Date Index\u001b[0m\n",
              "\u001b[1m Index      \u001b[0m\u001b[1m Open_std     \u001b[0m\u001b[1m High_std     \u001b[0m\u001b[1m Low_std      \u001b[0m\u001b[1m Close_std    \u001b[0m\u001b[1m AdjClose_std \u001b[0m\u001b[1m Volume_std  \u001b[0m\n",
              "\u001b[90m Date       \u001b[0m\u001b[90m Float64      \u001b[0m\u001b[90m Float64      \u001b[0m\u001b[90m Float64      \u001b[0m\u001b[90m Float64      \u001b[0m\u001b[90m Float64      \u001b[0m\u001b[90m Float64     \u001b[0m\n",
              "───────────────────────────────────────────────────────────────────────────────────────────────\n",
              " 1980-12-12  NaN           NaN           NaN           NaN           NaN           NaN\n",
              " 1980-12-19    0.00513892    0.00522604    0.00522604    0.00522604    0.0040243     4.82168e7\n",
              " 1980-12-26    0.0113361     0.0113358     0.0113361     0.0113361     0.00872936    7.46981e6\n",
              " 1981-01-02    0.0035291     0.00356931    0.00365905    0.00365905    0.00281768    3.23055e7\n",
              " 1981-01-09    0.00601539    0.00601797    0.00601797    0.00601797    0.00463415    1.25715e7\n",
              " 1981-01-16    0.00231418    0.0023209     0.00205022    0.00205022    0.00157878    5.19512e6\n",
              " 1981-01-23    0.00171987    0.00202732    0.00187574    0.00187574    0.00144441    1.29128e7\n",
              " 1981-01-30    0.00726937    0.00726937    0.00735666    0.00735666    0.00566503    1.08649e7\n",
              " 1981-02-06    0.003878      0.00418686    0.00409284    0.00409284    0.00315169    7.8912e6\n",
              " 1981-02-13    0.00321548    0.003339      0.00337162    0.00337162    0.00259632    2.76427e6\n",
              " 1981-02-20    0.00529404    0.00577021    0.00555241    0.00555241    0.00427564    5.28777e6\n",
              "     ⋮            ⋮             ⋮             ⋮             ⋮             ⋮             ⋮\n",
              " 2024-10-04    2.15973       2.49348       2.75907       3.00363       3.00033       1.36988e7\n",
              " 2024-10-11    2.21048       2.043         2.57446       3.17124       3.16775       4.14473e6\n",
              " 2024-10-18    2.76953       2.51331       2.13599       1.55356       1.55184       1.29644e7\n",
              " 2024-10-25    2.35441       2.45249       2.86078       2.90428       2.90108       7.83178e6\n",
              " 2024-11-01    5.22814       3.96627       5.20664       4.71219       4.70701       1.46121e7\n",
              " 2024-11-08    2.48546       2.50185       2.77798       2.51993       2.57915       9.64507e6\n",
              " 2024-11-15    0.886413      1.32111       1.35422       1.65232       1.65232       3.57541e6\n",
              " 2024-11-22    1.40089       0.367859      1.1203        0.728502      0.728502      4.02395e6\n",
              " 2024-11-29    1.51066       1.86315       2.00024       1.82257       1.82257       2.80644e7\n",
              " 2024-12-05    3.04221       1.68675       2.25807       1.66446       1.66446       4.26453e6\n",
              "\u001b[36m                                                                              2275 rows omitted\u001b[0m"
            ]
          },
          "metadata": {},
          "execution_count": 86
        }
      ]
    },
    {
      "cell_type": "code",
      "source": [
        "ibm_ts = TSFrame(MarketData.yahoo(:IBM))"
      ],
      "metadata": {
        "colab": {
          "base_uri": "https://localhost:8080/"
        },
        "id": "QAnSkzPyGd2l",
        "outputId": "1528c489-94c7-4ed9-bd9f-fffa9d4cffd2"
      },
      "execution_count": 87,
      "outputs": [
        {
          "output_type": "execute_result",
          "data": {
            "text/plain": [
              "\u001b[1m13575×6 TSFrame with Date Index\u001b[0m\n",
              "\u001b[1m Index      \u001b[0m\u001b[1m Open     \u001b[0m\u001b[1m High     \u001b[0m\u001b[1m Low      \u001b[0m\u001b[1m Close    \u001b[0m\u001b[1m AdjClose  \u001b[0m\u001b[1m Volume        \u001b[0m\n",
              "\u001b[90m Date       \u001b[0m\u001b[90m Float64  \u001b[0m\u001b[90m Float64  \u001b[0m\u001b[90m Float64  \u001b[0m\u001b[90m Float64  \u001b[0m\u001b[90m Float64   \u001b[0m\u001b[90m Float64       \u001b[0m\n",
              "──────────────────────────────────────────────────────────────────────────────\n",
              " 1971-02-08   16.0851   16.336    15.8939   16.2882    3.49648  719648.0\n",
              " 1971-02-09   16.2882   16.3121   16.1687   16.1807    3.47339  673624.0\n",
              " 1971-02-10   16.1568   16.1568   15.9775   16.1209    3.46057  648520.0\n",
              " 1971-02-11   16.1209   16.2285   16.097    16.1926    3.47596  579484.0\n",
              " 1971-02-12   16.1926   16.2285   16.1329   16.2285    3.48366  382836.0\n",
              " 1971-02-16   16.2285   16.4197   16.1926   16.3301    3.50546  684084.0\n",
              " 1971-02-17   16.2703   16.2703   16.0492   16.0851    3.45287  652704.0\n",
              " 1971-02-18   16.0851   16.1209   15.7385   15.7385    3.37848  822156.0\n",
              " 1971-02-19   15.7385   15.858    15.631    15.6907    3.36822  692452.0\n",
              " 1971-02-22   15.6907   15.8222   15.6071   15.7983    3.3913   548104.0\n",
              " 1971-02-23   15.7983   16.0373   15.7624   16.0253    3.44005  382836.0\n",
              "     ⋮          ⋮         ⋮         ⋮         ⋮          ⋮            ⋮\n",
              " 2024-11-21  215.81    222.63    215.27    222.4     222.4           5.2364e6\n",
              " 2024-11-22  223.35    227.2     220.89    222.97    222.97          5.3207e6\n",
              " 2024-11-25  223.35    226.42    222.65    226.13    226.13          7.1893e6\n",
              " 2024-11-26  226.73    228.98    225.51    228.83    228.83          4.4495e6\n",
              " 2024-11-27  228.83    229.19    224.27    226.92    226.92          2.9951e6\n",
              " 2024-11-29  227.75    230.36    227.19    227.41    227.41          2.6403e6\n",
              " 2024-12-02  227.5     228.38    225.51    227.39    227.39          2.6559e6\n",
              " 2024-12-03  227.24    229.11    226.67    229.0     229.0           3.1638e6\n",
              " 2024-12-04  230.0     233.74    229.35    233.49    233.49          4.1042e6\n",
              " 2024-12-05  233.55    236.52    233.46    234.75    234.75          4.7883e6\n",
              "\u001b[36m                                                            13554 rows omitted\u001b[0m"
            ]
          },
          "metadata": {},
          "execution_count": 87
        }
      ]
    },
    {
      "cell_type": "code",
      "source": [
        "date_from = Date(2021, 06, 01);\n",
        "date_to = Date(2021, 12, 31);\n",
        "ibm = TSFrames.subset(ibm_ts, date_from, date_to)"
      ],
      "metadata": {
        "colab": {
          "base_uri": "https://localhost:8080/"
        },
        "id": "NlL9MK5rHGkJ",
        "outputId": "559ab74b-c4e3-4033-9c6f-87453beb4b6b"
      },
      "execution_count": 88,
      "outputs": [
        {
          "output_type": "execute_result",
          "data": {
            "text/plain": [
              "\u001b[1m150×6 TSFrame with Date Index\u001b[0m\n",
              "\u001b[1m Index      \u001b[0m\u001b[1m Open    \u001b[0m\u001b[1m High    \u001b[0m\u001b[1m Low     \u001b[0m\u001b[1m Close   \u001b[0m\u001b[1m AdjClose \u001b[0m\u001b[1m Volume    \u001b[0m\n",
              "\u001b[90m Date       \u001b[0m\u001b[90m Float64 \u001b[0m\u001b[90m Float64 \u001b[0m\u001b[90m Float64 \u001b[0m\u001b[90m Float64 \u001b[0m\u001b[90m Float64  \u001b[0m\u001b[90m Float64   \u001b[0m\n",
              "─────────────────────────────────────────────────────────────────────\n",
              " 2021-06-01  138.623  139.417  137.428  137.849   117.809  2.5287e6\n",
              " 2021-06-02  138.26   139.34   137.772  139.312   119.06   2.9151e6\n",
              " 2021-06-03  138.537  139.465  137.706  139.149   118.921  4.32061e6\n",
              " 2021-06-04  139.579  141.061  139.35   140.937   120.448  3.26132e6\n",
              " 2021-06-07  141.061  142.199  140.698  141.511   120.939  3.62198e6\n",
              " 2021-06-08  141.606  143.595  141.606  142.514   121.797  5.31378e6\n",
              " 2021-06-09  142.476  144.426  142.275  144.044   123.104  5.54725e6\n",
              " 2021-06-10  144.809  146.119  143.174  143.92    122.998  4.97739e6\n",
              " 2021-06-11  143.815  145.172  143.757  144.627   123.602  3.59646e6\n",
              " 2021-06-14  144.082  144.388  142.122  143.432   122.581  3.49866e6\n",
              " 2021-06-15  143.26   143.317  142.065  142.792   122.034  2.62891e6\n",
              "     ⋮          ⋮        ⋮        ⋮        ⋮        ⋮          ⋮\n",
              " 2021-12-17  125.87   128.64   125.21   127.4     111.603  1.0379e7\n",
              " 2021-12-20  125.72   127.2    124.7    127.06    111.305  4.9414e6\n",
              " 2021-12-21  127.66   129.34   127.66   128.97    112.978  4.856e6\n",
              " 2021-12-22  129.06   129.79   127.6    129.75    113.661  3.9232e6\n",
              " 2021-12-23  130.0    130.96   129.52   130.63    114.432  3.649e6\n",
              " 2021-12-27  130.63   131.65   129.95   131.62    115.299  4.2939e6\n",
              " 2021-12-28  131.6    133.22   131.59   132.63    116.184  3.4452e6\n",
              " 2021-12-29  132.4    134.21   132.3    133.35    116.815  4.2399e6\n",
              " 2021-12-30  133.75   134.37   133.33   133.91    117.305  3.1581e6\n",
              " 2021-12-31  134.0    134.99   133.61   133.66    117.086  3.3621e6\n",
              "\u001b[36m                                                     129 rows omitted\u001b[0m"
            ]
          },
          "metadata": {},
          "execution_count": 88
        }
      ]
    },
    {
      "cell_type": "code",
      "source": [
        "aapl = TSFrames.subset(aapl_ts, date_from, date_to)"
      ],
      "metadata": {
        "id": "_V521z1dlHS_",
        "outputId": "ddd30f05-b01c-472c-91ba-a07f7453aa64",
        "colab": {
          "base_uri": "https://localhost:8080/"
        }
      },
      "execution_count": 89,
      "outputs": [
        {
          "output_type": "execute_result",
          "data": {
            "text/plain": [
              "\u001b[1m150×6 TSFrame with Date Index\u001b[0m\n",
              "\u001b[1m Index      \u001b[0m\u001b[1m Open    \u001b[0m\u001b[1m High    \u001b[0m\u001b[1m Low     \u001b[0m\u001b[1m Close   \u001b[0m\u001b[1m AdjClose \u001b[0m\u001b[1m Volume    \u001b[0m\n",
              "\u001b[90m Date       \u001b[0m\u001b[90m Float64 \u001b[0m\u001b[90m Float64 \u001b[0m\u001b[90m Float64 \u001b[0m\u001b[90m Float64 \u001b[0m\u001b[90m Float64  \u001b[0m\u001b[90m Float64   \u001b[0m\n",
              "─────────────────────────────────────────────────────────────────────\n",
              " 2021-06-01   125.08   125.35   123.94   124.28   121.916  6.76371e7\n",
              " 2021-06-02   124.28   125.24   124.05   125.06   122.681  5.92789e7\n",
              " 2021-06-03   124.68   124.85   123.13   123.54   121.19   7.62292e7\n",
              " 2021-06-04   124.07   126.16   123.85   125.89   123.496  7.51693e7\n",
              " 2021-06-07   126.17   126.32   124.83   125.9    123.505  7.10576e7\n",
              " 2021-06-08   126.6    128.46   126.21   126.74   124.329  7.44038e7\n",
              " 2021-06-09   127.21   127.75   126.52   127.13   124.712  5.68779e7\n",
              " 2021-06-10   127.02   128.19   125.94   126.11   123.711  7.11864e7\n",
              " 2021-06-11   126.53   127.44   126.1    127.35   124.928  5.35224e7\n",
              " 2021-06-14   127.82   130.54   127.07   130.48   127.998  9.69065e7\n",
              " 2021-06-15   129.94   130.6    129.39   129.64   127.174  6.27463e7\n",
              "     ⋮          ⋮        ⋮        ⋮        ⋮        ⋮          ⋮\n",
              " 2021-12-17   169.93   173.47   169.69   171.14   168.382  1.95433e8\n",
              " 2021-12-20   168.28   170.58   167.46   169.75   167.014  1.07499e8\n",
              " 2021-12-21   171.56   173.2    169.12   172.99   170.202  9.11859e7\n",
              " 2021-12-22   173.04   175.86   172.15   175.64   172.809  9.21353e7\n",
              " 2021-12-23   175.85   176.85   175.27   176.28   173.439  6.83566e7\n",
              " 2021-12-27   177.09   180.42   177.07   180.33   177.424  7.49196e7\n",
              " 2021-12-28   180.16   181.33   178.53   179.29   176.4    7.91443e7\n",
              " 2021-12-29   179.33   180.63   178.14   179.38   176.489  6.23489e7\n",
              " 2021-12-30   179.47   180.57   178.09   178.2    175.328  5.9773e7\n",
              " 2021-12-31   178.09   179.23   177.26   177.57   174.708  6.40623e7\n",
              "\u001b[36m                                                     129 rows omitted\u001b[0m"
            ]
          },
          "metadata": {},
          "execution_count": 89
        }
      ]
    },
    {
      "cell_type": "code",
      "source": [
        "ibm_aapl = TSFrames.join(ibm[:, [\"AdjClose\"]], aapl[:, [\"AdjClose\"]]; jointype = :JoinBoth)"
      ],
      "metadata": {
        "colab": {
          "base_uri": "https://localhost:8080/"
        },
        "id": "A9v52OOcGduy",
        "outputId": "6ebad304-0dea-4d51-b49f-6ad4a72f201e"
      },
      "execution_count": 90,
      "outputs": [
        {
          "output_type": "execute_result",
          "data": {
            "text/plain": [
              "\u001b[1m150×2 TSFrame with Date Index\u001b[0m\n",
              "\u001b[1m Index      \u001b[0m\u001b[1m AdjClose \u001b[0m\u001b[1m AdjClose_1 \u001b[0m\n",
              "\u001b[90m Date       \u001b[0m\u001b[90m Float64  \u001b[0m\u001b[90m Float64    \u001b[0m\n",
              "──────────────────────────────────\n",
              " 2021-06-01   117.809     121.916\n",
              " 2021-06-02   119.06      122.681\n",
              " 2021-06-03   118.921     121.19\n",
              " 2021-06-04   120.448     123.496\n",
              " 2021-06-07   120.939     123.505\n",
              " 2021-06-08   121.797     124.329\n",
              " 2021-06-09   123.104     124.712\n",
              " 2021-06-10   122.998     123.711\n",
              " 2021-06-11   123.602     124.928\n",
              " 2021-06-14   122.581     127.998\n",
              " 2021-06-15   122.034     127.174\n",
              "     ⋮          ⋮          ⋮\n",
              " 2021-12-17   111.603     168.382\n",
              " 2021-12-20   111.305     167.014\n",
              " 2021-12-21   112.978     170.202\n",
              " 2021-12-22   113.661     172.809\n",
              " 2021-12-23   114.432     173.439\n",
              " 2021-12-27   115.299     177.424\n",
              " 2021-12-28   116.184     176.4\n",
              " 2021-12-29   116.815     176.489\n",
              " 2021-12-30   117.305     175.328\n",
              " 2021-12-31   117.086     174.708\n",
              "\u001b[36m                  129 rows omitted\u001b[0m"
            ]
          },
          "metadata": {},
          "execution_count": 90
        }
      ]
    },
    {
      "cell_type": "code",
      "source": [
        "TSFrames.rename!(ibm_aapl, [:IBM, :AAPL])"
      ],
      "metadata": {
        "colab": {
          "base_uri": "https://localhost:8080/"
        },
        "id": "GnOcu7gYHLCB",
        "outputId": "d91adc12-2113-407f-d04c-2d6aaa5b439d"
      },
      "execution_count": 91,
      "outputs": [
        {
          "output_type": "execute_result",
          "data": {
            "text/plain": [
              "\u001b[1m150×2 TSFrame with Date Index\u001b[0m\n",
              "\u001b[1m Index      \u001b[0m\u001b[1m IBM     \u001b[0m\u001b[1m AAPL    \u001b[0m\n",
              "\u001b[90m Date       \u001b[0m\u001b[90m Float64 \u001b[0m\u001b[90m Float64 \u001b[0m\n",
              "──────────────────────────────\n",
              " 2021-06-01  117.809  121.916\n",
              " 2021-06-02  119.06   122.681\n",
              " 2021-06-03  118.921  121.19\n",
              " 2021-06-04  120.448  123.496\n",
              " 2021-06-07  120.939  123.505\n",
              " 2021-06-08  121.797  124.329\n",
              " 2021-06-09  123.104  124.712\n",
              " 2021-06-10  122.998  123.711\n",
              " 2021-06-11  123.602  124.928\n",
              " 2021-06-14  122.581  127.998\n",
              " 2021-06-15  122.034  127.174\n",
              "     ⋮          ⋮        ⋮\n",
              " 2021-12-17  111.603  168.382\n",
              " 2021-12-20  111.305  167.014\n",
              " 2021-12-21  112.978  170.202\n",
              " 2021-12-22  113.661  172.809\n",
              " 2021-12-23  114.432  173.439\n",
              " 2021-12-27  115.299  177.424\n",
              " 2021-12-28  116.184  176.4\n",
              " 2021-12-29  116.815  176.489\n",
              " 2021-12-30  117.305  175.328\n",
              " 2021-12-31  117.086  174.708\n",
              "\u001b[36m              129 rows omitted\u001b[0m"
            ]
          },
          "metadata": {},
          "execution_count": 91
        }
      ]
    },
    {
      "cell_type": "code",
      "source": [
        "using Impute\n",
        "ibm_aapl = ibm_aapl |> Impute.locf()"
      ],
      "metadata": {
        "colab": {
          "base_uri": "https://localhost:8080/"
        },
        "id": "9onpYz71HK_a",
        "outputId": "a7beab55-b890-4351-9c60-e09e61bfdaec"
      },
      "execution_count": 92,
      "outputs": [
        {
          "output_type": "execute_result",
          "data": {
            "text/plain": [
              "\u001b[1m150×2 TSFrame with Date Index\u001b[0m\n",
              "\u001b[1m Index      \u001b[0m\u001b[1m IBM     \u001b[0m\u001b[1m AAPL    \u001b[0m\n",
              "\u001b[90m Date       \u001b[0m\u001b[90m Float64 \u001b[0m\u001b[90m Float64 \u001b[0m\n",
              "──────────────────────────────\n",
              " 2021-06-01  117.809  121.916\n",
              " 2021-06-02  119.06   122.681\n",
              " 2021-06-03  118.921  121.19\n",
              " 2021-06-04  120.448  123.496\n",
              " 2021-06-07  120.939  123.505\n",
              " 2021-06-08  121.797  124.329\n",
              " 2021-06-09  123.104  124.712\n",
              " 2021-06-10  122.998  123.711\n",
              " 2021-06-11  123.602  124.928\n",
              " 2021-06-14  122.581  127.998\n",
              " 2021-06-15  122.034  127.174\n",
              "     ⋮          ⋮        ⋮\n",
              " 2021-12-17  111.603  168.382\n",
              " 2021-12-20  111.305  167.014\n",
              " 2021-12-21  112.978  170.202\n",
              " 2021-12-22  113.661  172.809\n",
              " 2021-12-23  114.432  173.439\n",
              " 2021-12-27  115.299  177.424\n",
              " 2021-12-28  116.184  176.4\n",
              " 2021-12-29  116.815  176.489\n",
              " 2021-12-30  117.305  175.328\n",
              " 2021-12-31  117.086  174.708\n",
              "\u001b[36m              129 rows omitted\u001b[0m"
            ]
          },
          "metadata": {},
          "execution_count": 92
        }
      ]
    },
    {
      "cell_type": "code",
      "source": [
        "ibm_aapl_weekly = to_weekly(ibm_aapl)"
      ],
      "metadata": {
        "colab": {
          "base_uri": "https://localhost:8080/"
        },
        "id": "lbLcFdCQHK8i",
        "outputId": "a8c83372-61a0-4ad2-f3f5-be9d8b23e1db"
      },
      "execution_count": 93,
      "outputs": [
        {
          "output_type": "execute_result",
          "data": {
            "text/plain": [
              "\u001b[1m31×2 TSFrame with Date Index\u001b[0m\n",
              "\u001b[1m Index      \u001b[0m\u001b[1m IBM     \u001b[0m\u001b[1m AAPL    \u001b[0m\n",
              "\u001b[90m Date       \u001b[0m\u001b[90m Float64 \u001b[0m\u001b[90m Float64 \u001b[0m\n",
              "──────────────────────────────\n",
              " 2021-06-04  120.448  123.496\n",
              " 2021-06-11  123.602  124.928\n",
              " 2021-06-18  116.935  127.979\n",
              " 2021-06-25  119.975  130.578\n",
              " 2021-07-02  114.402  137.298\n",
              " 2021-07-09  115.628  142.35\n",
              " 2021-07-16  113.487  143.606\n",
              " 2021-07-23  115.481  145.734\n",
              " 2021-07-30  115.17   143.086\n",
              " 2021-08-06  117.728  143.575\n",
              " 2021-08-13  118.331  146.483\n",
              "     ⋮          ⋮        ⋮\n",
              " 2021-10-29  103.389  147.171\n",
              " 2021-11-05  106.857  148.842\n",
              " 2021-11-12  104.209  147.573\n",
              " 2021-11-19  101.66   157.962\n",
              " 2021-11-26  101.45   154.283\n",
              " 2021-12-03  104.104  159.232\n",
              " 2021-12-10  108.703  176.558\n",
              " 2021-12-17  111.603  168.382\n",
              " 2021-12-23  114.432  173.439\n",
              " 2021-12-31  117.086  174.708\n",
              "\u001b[36m               10 rows omitted\u001b[0m"
            ]
          },
          "metadata": {},
          "execution_count": 93
        }
      ]
    },
    {
      "cell_type": "code",
      "source": [
        "ibm_aapl_weekly_returns = diff(log.(ibm_aapl_weekly))"
      ],
      "metadata": {
        "colab": {
          "base_uri": "https://localhost:8080/"
        },
        "id": "MUvLFiyoHK59",
        "outputId": "8ef7107a-47ef-454f-b891-edd47338999a"
      },
      "execution_count": 94,
      "outputs": [
        {
          "output_type": "execute_result",
          "data": {
            "text/plain": [
              "\u001b[1m31×2 TSFrame with Date Index\u001b[0m\n",
              "\u001b[1m Index      \u001b[0m\u001b[1m IBM_log           \u001b[0m\u001b[1m AAPL_log         \u001b[0m\n",
              "\u001b[90m Date       \u001b[0m\u001b[90m Float64?          \u001b[0m\u001b[90m Float64?         \u001b[0m\n",
              "─────────────────────────────────────────────────\n",
              " 2021-06-04 \u001b[90m missing           \u001b[0m\u001b[90m missing          \u001b[0m\n",
              " 2021-06-11        0.0258468          0.0115307\n",
              " 2021-06-18       -0.0554491          0.0241274\n",
              " 2021-06-25        0.0256602          0.0201093\n",
              " 2021-07-02       -0.0475582          0.0501808\n",
              " 2021-07-09        0.0106556          0.0361353\n",
              " 2021-07-16       -0.0186868          0.00878216\n",
              " 2021-07-23        0.0174141          0.0147147\n",
              " 2021-07-30       -0.00269219        -0.0183416\n",
              " 2021-08-06        0.0219621          0.00341467\n",
              " 2021-08-13        0.00511153         0.0200523\n",
              "     ⋮               ⋮                 ⋮\n",
              " 2021-10-29       -0.0219788          0.00743744\n",
              " 2021-11-05        0.0329913          0.0112899\n",
              " 2021-11-12       -0.0250882         -0.0085636\n",
              " 2021-11-19       -0.0247662          0.0680365\n",
              " 2021-11-26       -0.00207009        -0.0235705\n",
              " 2021-12-03        0.0258271          0.0315732\n",
              " 2021-12-10        0.043229           0.103288\n",
              " 2021-12-17        0.0263247         -0.0474147\n",
              " 2021-12-23        0.0250371          0.0295918\n",
              " 2021-12-31        0.0229305          0.00729127\n",
              "\u001b[36m                                  10 rows omitted\u001b[0m"
            ]
          },
          "metadata": {},
          "execution_count": 94
        }
      ]
    },
    {
      "cell_type": "code",
      "source": [
        "TSFrames.rename!(ibm_aapl_weekly_returns, [:IBM, :AAPL])"
      ],
      "metadata": {
        "colab": {
          "base_uri": "https://localhost:8080/"
        },
        "id": "8z8QT92hJojw",
        "outputId": "6a162552-fa3c-40c8-a5ae-2f51814e30ff"
      },
      "execution_count": 95,
      "outputs": [
        {
          "output_type": "execute_result",
          "data": {
            "text/plain": [
              "\u001b[1m31×2 TSFrame with Date Index\u001b[0m\n",
              "\u001b[1m Index      \u001b[0m\u001b[1m IBM               \u001b[0m\u001b[1m AAPL             \u001b[0m\n",
              "\u001b[90m Date       \u001b[0m\u001b[90m Float64?          \u001b[0m\u001b[90m Float64?         \u001b[0m\n",
              "─────────────────────────────────────────────────\n",
              " 2021-06-04 \u001b[90m missing           \u001b[0m\u001b[90m missing          \u001b[0m\n",
              " 2021-06-11        0.0258468          0.0115307\n",
              " 2021-06-18       -0.0554491          0.0241274\n",
              " 2021-06-25        0.0256602          0.0201093\n",
              " 2021-07-02       -0.0475582          0.0501808\n",
              " 2021-07-09        0.0106556          0.0361353\n",
              " 2021-07-16       -0.0186868          0.00878216\n",
              " 2021-07-23        0.0174141          0.0147147\n",
              " 2021-07-30       -0.00269219        -0.0183416\n",
              " 2021-08-06        0.0219621          0.00341467\n",
              " 2021-08-13        0.00511153         0.0200523\n",
              "     ⋮               ⋮                 ⋮\n",
              " 2021-10-29       -0.0219788          0.00743744\n",
              " 2021-11-05        0.0329913          0.0112899\n",
              " 2021-11-12       -0.0250882         -0.0085636\n",
              " 2021-11-19       -0.0247662          0.0680365\n",
              " 2021-11-26       -0.00207009        -0.0235705\n",
              " 2021-12-03        0.0258271          0.0315732\n",
              " 2021-12-10        0.043229           0.103288\n",
              " 2021-12-17        0.0263247         -0.0474147\n",
              " 2021-12-23        0.0250371          0.0295918\n",
              " 2021-12-31        0.0229305          0.00729127\n",
              "\u001b[36m                                  10 rows omitted\u001b[0m"
            ]
          },
          "metadata": {},
          "execution_count": 95
        }
      ]
    },
    {
      "cell_type": "code",
      "source": [
        "ibm_std = std(skipmissing(ibm_aapl_weekly_returns[:, :IBM]))"
      ],
      "metadata": {
        "colab": {
          "base_uri": "https://localhost:8080/"
        },
        "id": "9ugcjbyrHmQB",
        "outputId": "5a168aa9-a80e-4c74-a81a-b22f96d29c27"
      },
      "execution_count": 96,
      "outputs": [
        {
          "output_type": "execute_result",
          "data": {
            "text/plain": [
              "0.034079310360476005"
            ]
          },
          "metadata": {},
          "execution_count": 96
        }
      ]
    },
    {
      "cell_type": "markdown",
      "metadata": {
        "id": "8RC1QNNqk6h1"
      },
      "source": [
        "# References\n",
        "\n",
        "- Working with DataFrames: https://dataframes.juliadata.org/stable/man/working_with_dataframes/\n",
        "- DataFrames API reference: https://dataframes.juliadata.org/stable/lib/functions/\n",
        "- TSFrames user guide: https://xkdr.github.io/TSFrames.jl/stable/user_guide/\n",
        "- Basic demo of TSFrames: https://xkdr.github.io/TSFrames.jl/stable/demo_finance/"
      ]
    },
    {
      "cell_type": "markdown",
      "metadata": {
        "id": "2UMidUQB03vJ"
      },
      "source": [
        "Add new code cells by clicking the `+ Code` button (or _Insert_ > _Code cell_).\n",
        "\n",
        "Have fun!\n",
        "\n",
        "<img src=\"https://raw.githubusercontent.com/JuliaLang/julia-logo-graphics/master/images/julia-logo-mask.png\" height=\"100\" />"
      ]
    }
  ]
}